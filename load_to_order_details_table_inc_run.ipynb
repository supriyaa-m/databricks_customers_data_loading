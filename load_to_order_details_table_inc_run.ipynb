{
 "cells": [
  {
   "cell_type": "code",
   "execution_count": 0,
   "metadata": {
    "application/vnd.databricks.v1+cell": {
     "cellMetadata": {
      "byteLimit": 2048000,
      "rowLimit": 10000
     },
     "inputWidgets": {},
     "nuid": "d6f9491b-2b16-461b-a7c2-27fa49824219",
     "showTitle": false,
     "title": ""
    }
   },
   "outputs": [],
   "source": [
    "from pyspark.sql.functions import *\n",
    "from pyspark.sql.types import *\n",
    "from pyspark.sql.window import Window"
   ]
  },
  {
   "cell_type": "code",
   "execution_count": 0,
   "metadata": {
    "application/vnd.databricks.v1+cell": {
     "cellMetadata": {
      "byteLimit": 2048000,
      "rowLimit": 10000
     },
     "inputWidgets": {},
     "nuid": "aad56bb9-6a20-4a6a-9179-fce2ad745467",
     "showTitle": false,
     "title": ""
    }
   },
   "outputs": [],
   "source": [
    "full_run = 0 # 1 for full run and 0 for incremental run "
   ]
  },
  {
   "cell_type": "code",
   "execution_count": 0,
   "metadata": {
    "application/vnd.databricks.v1+cell": {
     "cellMetadata": {
      "byteLimit": 2048000,
      "rowLimit": 10000
     },
     "inputWidgets": {},
     "nuid": "1b7723d1-f84d-4364-8c49-2342a585d535",
     "showTitle": false,
     "title": ""
    }
   },
   "outputs": [],
   "source": [
    "order_details_instance = \"sales.orders_details\" "
   ]
  },
  {
   "cell_type": "code",
   "execution_count": 0,
   "metadata": {
    "application/vnd.databricks.v1+cell": {
     "cellMetadata": {
      "byteLimit": 2048000,
      "rowLimit": 10000
     },
     "inputWidgets": {},
     "nuid": "4f6116a7-0ea6-44f8-b973-bbc6804ae596",
     "showTitle": false,
     "title": ""
    }
   },
   "outputs": [],
   "source": [
    "if full_run == 0:  #incremental run for updates -- only In progress records will be updated either to Completed or Cancelled\n",
    "    results_df = spark.read.format(\"delta\").table(order_details_instance).filter(\"order_status = 'In Progress'\")"
   ]
  },
  {
   "cell_type": "code",
   "execution_count": 0,
   "metadata": {
    "application/vnd.databricks.v1+cell": {
     "cellMetadata": {
      "byteLimit": 2048000,
      "rowLimit": 10000
     },
     "inputWidgets": {},
     "nuid": "deec53a9-a21a-42cd-8ec4-3afdd86074d9",
     "showTitle": false,
     "title": ""
    }
   },
   "outputs": [
    {
     "output_type": "stream",
     "name": "stdout",
     "output_type": "stream",
     "text": [
      "max row id :  8412\nmax order id :  59983\n"
     ]
    }
   ],
   "source": [
    "if full_run == 1:\n",
    "    max_row_id = orders_df.agg({\"row_id\": \"max\"}).collect()[0][0]\n",
    "    #orders_df.select(max(\"row_id\")).collect()[0][0]\n",
    "    print(\"max row id : \",max_row_id)\n",
    "\n",
    "    max_order_id = orders_df.agg({\"order_id\": \"max\"}).collect()[0][0]\n",
    "    #orders_df.select(max(\"row_id\")).collect()[0][0]\n",
    "    print(\"max order id : \",max_order_id)\n",
    "\n",
    "else:\n",
    "    max_row_id = spark.sql(\"SELECT MAX(row_id) FROM sales.orders_details\").collect()[0][0]\n",
    "    #orders_df.select(max(\"row_id\")).collect()[0][0]\n",
    "    print(\"max row id : \",max_row_id)\n",
    "\n",
    "    max_order_id = spark.sql(\"SELECT MAX(order_id) FROM sales.orders_details\").collect()[0][0]\n",
    "    #orders_df.select(max(\"row_id\")).collect()[0][0]\n",
    "    print(\"max order id : \",max_order_id)"
   ]
  },
  {
   "cell_type": "code",
   "execution_count": 0,
   "metadata": {
    "application/vnd.databricks.v1+cell": {
     "cellMetadata": {
      "byteLimit": 2048000,
      "rowLimit": 10000
     },
     "inputWidgets": {},
     "nuid": "0b474146-adc8-4daf-9bfc-b858cbe248e2",
     "showTitle": false,
     "title": ""
    }
   },
   "outputs": [],
   "source": [
    "schema = StructType([\n",
    "    StructField(\"row_id\", IntegerType(), True),  \n",
    "    StructField(\"customer_id\", StringType(), True), \n",
    "    StructField(\"order_id\", IntegerType(), True), \n",
    "    StructField(\"order_date\", StringType(), True), \n",
    "    StructField(\"ship_date\", StringType(), True), \n",
    "    StructField(\"order_priority\", StringType(), True), \n",
    "    StructField(\"order_quantity\", IntegerType(), True) ,\n",
    "    StructField(\"order_status\", StringType(), True) \n",
    "])\n",
    "new_orders_data = [\n",
    "    (8409,\"07de8c2693a047311aac3bb2e1a7bf301d9e290b04431926048d92a40e3bbfd7\", 59981,    '2024-05-03',  None, \"Low\", 20,None),\n",
    "    (8410,\"07de8c2693a047311aac3bb2e1a7bf301d9e290b04431926048d92a40e3bbfd8\", 59982,    '2024-05-03',  None, \"Low\", 20,None),\n",
    "    (8411,\"07de8c2693a047311aac3bb2e1a7bf301d9e290b04431926048d92a40e3bbfd9\", 59983,    '2024-05-03',  '2024-05-04', \"Low\", 20,None),\n",
    "    (8412,\"07de8c2693a047311aac3bb2e1a7bf301d9e290b04431926048d92a40e3bbfd9\", 59983,    '2024-05-03',  '2024-05-04', \"Low\", 20,None)\n",
    "]\n",
    "\n",
    "# Create DataFrame for new order data\n",
    "new_orders_df = spark.createDataFrame(new_orders_data,schema).withColumn(\"order_date\", to_date(\"order_date\")).withColumn(\"ship_date\", to_date(\"ship_date\"))"
   ]
  },
  {
   "cell_type": "code",
   "execution_count": 0,
   "metadata": {
    "application/vnd.databricks.v1+cell": {
     "cellMetadata": {
      "byteLimit": 2048000,
      "rowLimit": 10000
     },
     "inputWidgets": {},
     "nuid": "29eef76c-49da-4773-bfbf-4f5147f22472",
     "showTitle": false,
     "title": ""
    }
   },
   "outputs": [
    {
     "output_type": "stream",
     "name": "stdout",
     "output_type": "stream",
     "text": [
      "+------+----------------------------------------------------------------+--------+----------+----------+--------------+--------------+------------+\n|row_id|customer_id                                                     |order_id|order_date|ship_date |order_priority|order_quantity|order_status|\n+------+----------------------------------------------------------------+--------+----------+----------+--------------+--------------+------------+\n|8409  |07de8c2693a047311aac3bb2e1a7bf301d9e290b04431926048d92a40e3bbfd7|59981   |2024-05-03|null      |Low           |20            |null        |\n|8410  |07de8c2693a047311aac3bb2e1a7bf301d9e290b04431926048d92a40e3bbfd8|59982   |2024-05-03|null      |Low           |20            |null        |\n|8411  |07de8c2693a047311aac3bb2e1a7bf301d9e290b04431926048d92a40e3bbfd9|59983   |2024-05-03|2024-05-04|Low           |20            |null        |\n|8412  |07de8c2693a047311aac3bb2e1a7bf301d9e290b04431926048d92a40e3bbfd9|59983   |2024-05-03|2024-05-04|Low           |20            |null        |\n+------+----------------------------------------------------------------+--------+----------+----------+--------------+--------------+------------+\n\n"
     ]
    }
   ],
   "source": [
    "new_orders_df.show(truncate=False)"
   ]
  },
  {
   "cell_type": "code",
   "execution_count": 0,
   "metadata": {
    "application/vnd.databricks.v1+cell": {
     "cellMetadata": {
      "byteLimit": 2048000,
      "rowLimit": 10000
     },
     "inputWidgets": {},
     "nuid": "344c2f02-ef72-47dc-93a2-6765ff59be9a",
     "showTitle": false,
     "title": ""
    }
   },
   "outputs": [],
   "source": [
    "if full_run == 1:\n",
    "    insert_records = new_orders_df.join(orders_df, ['row_id'], 'left_anti')\n",
    "else:\n",
    "    insert_records = new_orders_df.join(results_df, ['row_id'], 'left_anti')"
   ]
  },
  {
   "cell_type": "code",
   "execution_count": 0,
   "metadata": {
    "application/vnd.databricks.v1+cell": {
     "cellMetadata": {
      "byteLimit": 2048000,
      "rowLimit": 10000
     },
     "inputWidgets": {},
     "nuid": "9e388907-8d8d-4964-b1e6-a710e46ad53c",
     "showTitle": false,
     "title": ""
    }
   },
   "outputs": [
    {
     "output_type": "stream",
     "name": "stdout",
     "output_type": "stream",
     "text": [
      "+------+-----------+--------+----------+---------+--------------+--------------+------------+\n|row_id|customer_id|order_id|order_date|ship_date|order_priority|order_quantity|order_status|\n+------+-----------+--------+----------+---------+--------------+--------------+------------+\n+------+-----------+--------+----------+---------+--------------+--------------+------------+\n\n"
     ]
    }
   ],
   "source": [
    "insert_records.show(truncate=False)"
   ]
  },
  {
   "cell_type": "code",
   "execution_count": 0,
   "metadata": {
    "application/vnd.databricks.v1+cell": {
     "cellMetadata": {
      "byteLimit": 2048000,
      "rowLimit": 10000
     },
     "inputWidgets": {},
     "nuid": "a6ffa2ac-2576-407e-a583-99faa01ecf44",
     "showTitle": false,
     "title": ""
    }
   },
   "outputs": [],
   "source": [
    "windowSpec = Window.orderBy(lit(1))\n",
    "windowSpec1 = Window.orderBy(\"customer_id\")"
   ]
  },
  {
   "cell_type": "code",
   "execution_count": 0,
   "metadata": {
    "application/vnd.databricks.v1+cell": {
     "cellMetadata": {
      "byteLimit": 2048000,
      "rowLimit": 10000
     },
     "inputWidgets": {},
     "nuid": "073fb4d7-6196-42dc-9dad-2e9b05f586a0",
     "showTitle": false,
     "title": ""
    }
   },
   "outputs": [],
   "source": [
    "insert_records = insert_records.withColumn(\"row_id\", max_row_id + row_number().over(windowSpec)) \\\n",
    "    .withColumn(\"customer_id_prev\", lag(\"customer_id\").over(windowSpec)) \\\n",
    "    .withColumn(\"order_date\", current_date()-1) \\\n",
    "    .withColumn(\"ship_date\", lit(None)) \\\n",
    "    .withColumn(\"order_status\", lit(\"In Progress\"))"
   ]
  },
  {
   "cell_type": "code",
   "execution_count": 0,
   "metadata": {
    "application/vnd.databricks.v1+cell": {
     "cellMetadata": {
      "byteLimit": 2048000,
      "rowLimit": 10000
     },
     "inputWidgets": {},
     "nuid": "51702013-2bcf-492c-b8e5-789072ba502e",
     "showTitle": false,
     "title": ""
    }
   },
   "outputs": [],
   "source": [
    "insert_records = insert_records.withColumn(\"order_id_inc\", when((col(\"customer_id_prev\").isNull()) | (insert_records[\"customer_id\"] != insert_records[\"customer_id_prev\"]), 1).otherwise(0)) \\\n",
    "    .withColumn(\"order_id_offset\", sum(\"order_id_inc\").over(windowSpec1)) \\\n",
    "    .withColumn(\"order_id\", max_order_id + col(\"order_id_offset\")) \n",
    "\n",
    "insert_records = insert_records.select('row_id','customer_id', 'order_id', 'order_date', 'ship_date', 'order_priority', 'order_quantity','order_status')"
   ]
  },
  {
   "cell_type": "code",
   "execution_count": 0,
   "metadata": {
    "application/vnd.databricks.v1+cell": {
     "cellMetadata": {
      "byteLimit": 2048000,
      "rowLimit": 10000
     },
     "inputWidgets": {},
     "nuid": "fe536b84-5f6d-4b06-9e6a-9e35ae2363f1",
     "showTitle": false,
     "title": ""
    }
   },
   "outputs": [
    {
     "output_type": "stream",
     "name": "stdout",
     "output_type": "stream",
     "text": [
      "+------+-----------+--------+----------+---------+--------------+--------------+------------+\n|row_id|customer_id|order_id|order_date|ship_date|order_priority|order_quantity|order_status|\n+------+-----------+--------+----------+---------+--------------+--------------+------------+\n+------+-----------+--------+----------+---------+--------------+--------------+------------+\n\n"
     ]
    }
   ],
   "source": [
    "insert_records.show(truncate=False)"
   ]
  },
  {
   "cell_type": "code",
   "execution_count": 0,
   "metadata": {
    "application/vnd.databricks.v1+cell": {
     "cellMetadata": {
      "byteLimit": 2048000,
      "rowLimit": 10000
     },
     "inputWidgets": {},
     "nuid": "55900713-2fd6-44c8-8eff-9d9e41925cb1",
     "showTitle": false,
     "title": ""
    }
   },
   "outputs": [],
   "source": [
    "if full_run == 1:\n",
    "    update_records = new_orders_df.join(orders_df, ['row_id'], 'inner').filter(orders_df[\"order_status\"] == \"In Progress\").select(new_orders_df[\"row_id\"],orders_df[\"customer_id\"],orders_df[\"order_id\"],new_orders_df[\"order_date\"],new_orders_df[\"ship_date\"],orders_df[\"order_priority\"],orders_df[\"order_quantity\"],orders_df[\"order_status\"])\n",
    "else:\n",
    "    update_records = new_orders_df.join(results_df, ['row_id'], 'inner').select(new_orders_df[\"row_id\"],results_df[\"customer_id\"],results_df[\"order_id\"],new_orders_df[\"order_date\"],new_orders_df[\"ship_date\"],results_df[\"order_priority\"],results_df[\"order_quantity\"],results_df[\"order_status\"])"
   ]
  },
  {
   "cell_type": "code",
   "execution_count": 0,
   "metadata": {
    "application/vnd.databricks.v1+cell": {
     "cellMetadata": {
      "byteLimit": 2048000,
      "rowLimit": 10000
     },
     "inputWidgets": {},
     "nuid": "1f91f9ca-315f-49e0-a32d-f4015d6360a9",
     "showTitle": false,
     "title": ""
    }
   },
   "outputs": [
    {
     "output_type": "stream",
     "name": "stdout",
     "output_type": "stream",
     "text": [
      "+------+----------------------------------------------------------------+--------+----------+----------+--------------+--------------+------------+\n|row_id|customer_id                                                     |order_id|order_date|ship_date |order_priority|order_quantity|order_status|\n+------+----------------------------------------------------------------+--------+----------+----------+--------------+--------------+------------+\n|8409  |07de8c2693a047311aac3bb2e1a7bf301d9e290b04431926048d92a40e3bbfd7|59981   |2024-05-03|null      |Low           |20            |In Progress |\n|8410  |07de8c2693a047311aac3bb2e1a7bf301d9e290b04431926048d92a40e3bbfd8|59982   |2024-05-03|null      |Low           |20            |In Progress |\n|8411  |07de8c2693a047311aac3bb2e1a7bf301d9e290b04431926048d92a40e3bbfd9|59983   |2024-05-03|2024-05-04|Low           |20            |In Progress |\n|8412  |07de8c2693a047311aac3bb2e1a7bf301d9e290b04431926048d92a40e3bbfd9|59983   |2024-05-03|2024-05-04|Low           |20            |In Progress |\n+------+----------------------------------------------------------------+--------+----------+----------+--------------+--------------+------------+\n\n"
     ]
    }
   ],
   "source": [
    "update_records.show(truncate=False)"
   ]
  },
  {
   "cell_type": "code",
   "execution_count": 0,
   "metadata": {
    "application/vnd.databricks.v1+cell": {
     "cellMetadata": {
      "byteLimit": 2048000,
      "rowLimit": 10000
     },
     "inputWidgets": {},
     "nuid": "ac306b62-e741-4eaa-86f4-e24a6b6c86e7",
     "showTitle": false,
     "title": ""
    }
   },
   "outputs": [],
   "source": [
    "update_records = update_records.withColumn(\"order_status\",\n",
    "                                            when((update_records[\"ship_date\"].isNull()) & (update_records[\"order_date\"] < current_date() - 4), \"Cancelled\") \\\n",
    "                                            .when((update_records[\"ship_date\"].isNull()) &  ((update_records[\"order_date\"] == current_date()) | (update_records[\"order_date\"] >= current_date() - 4)), \"In Progress\") \\\n",
    "                                            .otherwise(\"Completed\")\n",
    "                                            )"
   ]
  },
  {
   "cell_type": "code",
   "execution_count": 0,
   "metadata": {
    "application/vnd.databricks.v1+cell": {
     "cellMetadata": {
      "byteLimit": 2048000,
      "rowLimit": 10000
     },
     "inputWidgets": {},
     "nuid": "03141c7e-93c4-4291-ae30-f4c3ab917e3e",
     "showTitle": false,
     "title": ""
    }
   },
   "outputs": [
    {
     "output_type": "stream",
     "name": "stdout",
     "output_type": "stream",
     "text": [
      "+------+----------------------------------------------------------------+--------+----------+----------+--------------+--------------+------------+\n|row_id|customer_id                                                     |order_id|order_date|ship_date |order_priority|order_quantity|order_status|\n+------+----------------------------------------------------------------+--------+----------+----------+--------------+--------------+------------+\n|8409  |07de8c2693a047311aac3bb2e1a7bf301d9e290b04431926048d92a40e3bbfd7|59981   |2024-05-03|null      |Low           |20            |In Progress |\n|8410  |07de8c2693a047311aac3bb2e1a7bf301d9e290b04431926048d92a40e3bbfd8|59982   |2024-05-03|null      |Low           |20            |In Progress |\n|8411  |07de8c2693a047311aac3bb2e1a7bf301d9e290b04431926048d92a40e3bbfd9|59983   |2024-05-03|2024-05-04|Low           |20            |Completed   |\n|8412  |07de8c2693a047311aac3bb2e1a7bf301d9e290b04431926048d92a40e3bbfd9|59983   |2024-05-03|2024-05-04|Low           |20            |Completed   |\n+------+----------------------------------------------------------------+--------+----------+----------+--------------+--------------+------------+\n\n"
     ]
    }
   ],
   "source": [
    "update_records.show(truncate=False)"
   ]
  },
  {
   "cell_type": "code",
   "execution_count": 0,
   "metadata": {
    "application/vnd.databricks.v1+cell": {
     "cellMetadata": {
      "byteLimit": 2048000,
      "rowLimit": 10000
     },
     "inputWidgets": {},
     "nuid": "39ec4871-00f5-4246-8d21-b8be6f22d0f1",
     "showTitle": false,
     "title": ""
    }
   },
   "outputs": [],
   "source": [
    "if full_run == 0:\n",
    "    results_df = results_df.join(update_records, on=\"row_id\", how=\"left_anti\") \\\n",
    "        .unionByName(insert_records) \\\n",
    "        .unionByName(update_records)\n",
    "    results_df.count()\n",
    "    results_df.createOrReplaceTempView(\"results_temp_vw\")"
   ]
  },
  {
   "cell_type": "code",
   "execution_count": 0,
   "metadata": {
    "application/vnd.databricks.v1+cell": {
     "cellMetadata": {
      "byteLimit": 2048000,
      "rowLimit": 10000
     },
     "inputWidgets": {},
     "nuid": "3adabec3-6a3b-48ca-9f72-a0e154fbd69a",
     "showTitle": false,
     "title": ""
    }
   },
   "outputs": [],
   "source": [
    "if full_run == 1:\n",
    "    orders_df = orders_df.join(update_records, on=\"row_id\", how=\"left_anti\") \\\n",
    "        .unionByName(insert_records) \\\n",
    "        .unionByName(update_records)\n",
    "    orders_df.count()\n",
    "else:\n",
    "    spark.sql(\"\"\"\n",
    "        MERGE INTO sales.orders_details\n",
    "        USING results_temp_vw\n",
    "        ON sales.orders_details.row_id = results_temp_vw.row_id\n",
    "        WHEN MATCHED THEN UPDATE SET *\n",
    "        WHEN NOT MATCHED THEN INSERT *\n",
    "    \"\"\")"
   ]
  },
  {
   "cell_type": "code",
   "execution_count": 0,
   "metadata": {
    "application/vnd.databricks.v1+cell": {
     "cellMetadata": {
      "byteLimit": 2048000,
      "rowLimit": 10000
     },
     "inputWidgets": {},
     "nuid": "9068ed38-356a-41d0-8677-2c01635145b6",
     "showTitle": false,
     "title": ""
    }
   },
   "outputs": [],
   "source": [
    "if full_run == 1:\n",
    "    orders_df.createOrReplaceTempView('orders_temp_vw')\n",
    "\n",
    "    create_db_sql = \"\"\"\n",
    "        CREATE DATABASE IF NOT EXISTS sales\n",
    "    \"\"\"\n",
    "    \n",
    "    create_table_sql = \"\"\"\n",
    "        CREATE OR REPLACE TABLE sales.orders_details\n",
    "        (\n",
    "            row_id INT,\n",
    "            customer_id STRING,\n",
    "            order_id INT,\n",
    "            order_date DATE,\n",
    "            ship_date DATE,\n",
    "            order_priority STRING,\n",
    "            order_quantity INT,\n",
    "            order_status STRING\n",
    "        )\n",
    "        USING DELTA\n",
    "        LOCATION '/FileStore/tables/delta-table-merge/orders_details'\n",
    "    \"\"\""
   ]
  },
  {
   "cell_type": "code",
   "execution_count": 0,
   "metadata": {
    "application/vnd.databricks.v1+cell": {
     "cellMetadata": {
      "byteLimit": 2048000,
      "implicitDf": true,
      "rowLimit": 10000
     },
     "inputWidgets": {},
     "nuid": "405a48ce-3b55-4e99-ae9f-cbf907b947cc",
     "showTitle": false,
     "title": ""
    }
   },
   "outputs": [],
   "source": [
    "if full_run == 1:\n",
    "    spark.sql(create_db_sql)\n",
    "    spark.sql(create_table_sql)"
   ]
  },
  {
   "cell_type": "code",
   "execution_count": 0,
   "metadata": {
    "application/vnd.databricks.v1+cell": {
     "cellMetadata": {
      "byteLimit": 2048000,
      "implicitDf": true,
      "rowLimit": 10000
     },
     "inputWidgets": {},
     "nuid": "128bee52-3432-4aa5-9a05-905417eacc27",
     "showTitle": false,
     "title": ""
    }
   },
   "outputs": [
    {
     "output_type": "stream",
     "name": "stdout",
     "output_type": "stream",
     "text": [
      "+--------+\n|count(1)|\n+--------+\n|8412    |\n+--------+\n\n"
     ]
    }
   ],
   "source": [
    "'''\n",
    "%sql\n",
    "select count(*) from sales.orders_details'''\n",
    "spark.sql('''\n",
    "          select count(*) from sales.orders_details\n",
    "          ''').show(truncate=False)"
   ]
  },
  {
   "cell_type": "markdown",
   "metadata": {
    "application/vnd.databricks.v1+cell": {
     "cellMetadata": {
      "byteLimit": 2048000,
      "rowLimit": 10000
     },
     "inputWidgets": {},
     "nuid": "cc4a5308-7683-4f74-92f7-c7ef81ad5671",
     "showTitle": false,
     "title": ""
    }
   },
   "source": [
    "#Incremental Run for updating In progress records or inserting new records"
   ]
  },
  {
   "cell_type": "code",
   "execution_count": 0,
   "metadata": {
    "application/vnd.databricks.v1+cell": {
     "cellMetadata": {
      "byteLimit": 2048000,
      "implicitDf": true,
      "rowLimit": 10000
     },
     "inputWidgets": {},
     "nuid": "c3badb59-981f-4586-bd85-92db29e85675",
     "showTitle": false,
     "title": ""
    }
   },
   "outputs": [
    {
     "output_type": "stream",
     "name": "stdout",
     "output_type": "stream",
     "text": [
      "Skipping truncation. full_run is not set to 1.\n"
     ]
    }
   ],
   "source": [
    "if full_run == 1:\n",
    "    # Truncate Delta table if full_run is 1\n",
    "    spark.sql(\"TRUNCATE TABLE sales.orders_details\")\n",
    "    print(\"sales.orders_details table truncated.\")\n",
    "else:\n",
    "    # Do nothing if full_run is not 1\n",
    "    print(\"Skipping truncation. full_run is not set to 1.\")"
   ]
  },
  {
   "cell_type": "code",
   "execution_count": 0,
   "metadata": {
    "application/vnd.databricks.v1+cell": {
     "cellMetadata": {
      "byteLimit": 2048000,
      "implicitDf": true,
      "rowLimit": 10000
     },
     "inputWidgets": {},
     "nuid": "998ab9cf-6656-4e30-9b92-d006e6f61896",
     "showTitle": false,
     "title": ""
    }
   },
   "outputs": [
    {
     "output_type": "stream",
     "name": "stdout",
     "output_type": "stream",
     "text": [
      "Skipping one time load. full_run is not set to 1.\n"
     ]
    }
   ],
   "source": [
    "if full_run == 1:\n",
    "    # One time full load if full_run is 1\n",
    "    spark.sql(\"INSERT INTO sales.orders_details SELECT * FROM orders_temp_vw\")\n",
    "    print(\"one time load successful.\")\n",
    "else:\n",
    "    # Do nothing if full_run is not 1\n",
    "    print(\"Skipping one time load. full_run is not set to 1.\")"
   ]
  },
  {
   "cell_type": "code",
   "execution_count": 0,
   "metadata": {
    "application/vnd.databricks.v1+cell": {
     "cellMetadata": {
      "byteLimit": 2048000,
      "implicitDf": true,
      "rowLimit": 10000
     },
     "inputWidgets": {},
     "nuid": "515ec5e2-0ec1-4059-b55d-9b223cf1ff91",
     "showTitle": false,
     "title": ""
    }
   },
   "outputs": [
    {
     "output_type": "stream",
     "name": "stdout",
     "output_type": "stream",
     "text": [
      "+------+----------------------------------------------------------------+--------+----------+----------+--------------+--------------+------------+\n|row_id|customer_id                                                     |order_id|order_date|ship_date |order_priority|order_quantity|order_status|\n+------+----------------------------------------------------------------+--------+----------+----------+--------------+--------------+------------+\n|5409  |03de3b10f1d1797fa42d5372db545dadd5aa777b823885979bdd09fa20e9660d|38466   |2011-08-17|2011-08-18|Critical      |22            |Completed   |\n|7747  |0fb77b87360fcb496a32cb2673d291c1a83fd88c48d968a4b79d55a169e7144b|55459   |2009-04-25|2009-04-27|Critical      |5             |Completed   |\n|29    |136d2dcc58235d6f3fecb6222bf3ae4c9bb00c635db1c1370edf2e86a903924e|194     |2012-04-04|2012-04-06|Medium        |6             |Completed   |\n|2927  |1f07e41c5a310fda2c158f4a6760f4b7732a0f24c20db3466a661802b9b07bf9|21220   |2012-12-22|2012-12-25|Not Specified |4             |Completed   |\n|3091  |241fa973f0bcb05c4bd0dd785045691547cd2c4d652daa1e308e7b3c3d757a92|22181   |2011-10-07|2011-10-16|Low           |41            |Completed   |\n+------+----------------------------------------------------------------+--------+----------+----------+--------------+--------------+------------+\n\n"
     ]
    }
   ],
   "source": [
    "spark.sql('''\n",
    "          select * from sales.orders_details limit 5 \n",
    "          ''').show(truncate=False)"
   ]
  },
  {
   "cell_type": "code",
   "execution_count": 0,
   "metadata": {
    "application/vnd.databricks.v1+cell": {
     "cellMetadata": {
      "byteLimit": 2048000,
      "implicitDf": true,
      "rowLimit": 10000
     },
     "inputWidgets": {},
     "nuid": "451bc16b-6d7d-4f44-8ee2-e95048f97c9b",
     "showTitle": false,
     "title": ""
    }
   },
   "outputs": [
    {
     "output_type": "stream",
     "name": "stdout",
     "output_type": "stream",
     "text": [
      "+------+----------------------------------------------------------------+--------+----------+----------+--------------+--------------+------------+\n|row_id|customer_id                                                     |order_id|order_date|ship_date |order_priority|order_quantity|order_status|\n+------+----------------------------------------------------------------+--------+----------+----------+--------------+--------------+------------+\n|8411  |07de8c2693a047311aac3bb2e1a7bf301d9e290b04431926048d92a40e3bbfd9|59983   |2024-05-03|2024-05-04|Low           |20            |Completed   |\n|8412  |07de8c2693a047311aac3bb2e1a7bf301d9e290b04431926048d92a40e3bbfd9|59983   |2024-05-03|2024-05-04|Low           |20            |Completed   |\n+------+----------------------------------------------------------------+--------+----------+----------+--------------+--------------+------------+\n\n"
     ]
    }
   ],
   "source": [
    "\n",
    "spark.sql('''\n",
    "          select * from sales.orders_details where customer_id= '07de8c2693a047311aac3bb2e1a7bf301d9e290b04431926048d92a40e3bbfd9'\n",
    "          ''').show(truncate=False)"
   ]
  },
  {
   "cell_type": "code",
   "execution_count": 0,
   "metadata": {
    "application/vnd.databricks.v1+cell": {
     "cellMetadata": {
      "byteLimit": 2048000,
      "rowLimit": 10000
     },
     "inputWidgets": {},
     "nuid": "e0a53c7f-4f0f-4998-bace-bb0b9e8f7f9e",
     "showTitle": false,
     "title": ""
    }
   },
   "outputs": [],
   "source": []
  },
  {
   "cell_type": "code",
   "execution_count": 0,
   "metadata": {
    "application/vnd.databricks.v1+cell": {
     "cellMetadata": {
      "byteLimit": 2048000,
      "rowLimit": 10000
     },
     "inputWidgets": {},
     "nuid": "c47f5e87-fca5-4469-a16d-834bedad9821",
     "showTitle": false,
     "title": ""
    }
   },
   "outputs": [],
   "source": []
  },
  {
   "cell_type": "code",
   "execution_count": 0,
   "metadata": {
    "application/vnd.databricks.v1+cell": {
     "cellMetadata": {
      "byteLimit": 2048000,
      "rowLimit": 10000
     },
     "inputWidgets": {},
     "nuid": "7b337592-a8e2-4669-b220-9e6b64b3eae2",
     "showTitle": false,
     "title": ""
    }
   },
   "outputs": [],
   "source": []
  },
  {
   "cell_type": "code",
   "execution_count": 0,
   "metadata": {
    "application/vnd.databricks.v1+cell": {
     "cellMetadata": {
      "byteLimit": 2048000,
      "rowLimit": 10000
     },
     "inputWidgets": {},
     "nuid": "9ed9314f-8505-41ed-925d-4ae401041afa",
     "showTitle": false,
     "title": ""
    }
   },
   "outputs": [],
   "source": []
  }
 ],
 "metadata": {
  "application/vnd.databricks.v1+notebook": {
   "dashboards": [],
   "language": "python",
   "notebookMetadata": {
    "mostRecentlyExecutedCommandWithImplicitDF": {
     "commandId": -1,
     "dataframes": [
      "_sqldf"
     ]
    },
    "pythonIndentUnit": 4
   },
   "notebookName": "load_to_order_details_table_inc_run",
   "widgets": {}
  }
 },
 "nbformat": 4,
 "nbformat_minor": 0
}
