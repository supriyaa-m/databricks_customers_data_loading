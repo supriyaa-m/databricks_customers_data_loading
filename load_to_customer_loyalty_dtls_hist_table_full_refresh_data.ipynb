{
 "cells": [
  {
   "cell_type": "code",
   "execution_count": 0,
   "metadata": {
    "application/vnd.databricks.v1+cell": {
     "cellMetadata": {
      "byteLimit": 2048000,
      "rowLimit": 10000
     },
     "inputWidgets": {},
     "nuid": "3de6117f-41c2-4859-9e6c-93d5b83b2e81",
     "showTitle": false,
     "title": ""
    }
   },
   "outputs": [],
   "source": [
    "from pyspark.sql.functions import *\n",
    "from pyspark.sql.types import *\n",
    "from pyspark.sql.window import Window"
   ]
  },
  {
   "cell_type": "code",
   "execution_count": 0,
   "metadata": {
    "application/vnd.databricks.v1+cell": {
     "cellMetadata": {
      "byteLimit": 2048000,
      "rowLimit": 10000
     },
     "inputWidgets": {},
     "nuid": "6b5dd576-e07c-4f0c-9661-237b8a466bb9",
     "showTitle": false,
     "title": ""
    }
   },
   "outputs": [],
   "source": [
    "file_location = \"/FileStore/tables/customers_refined.csv\"\n",
    "file_type = \"csv\""
   ]
  },
  {
   "cell_type": "code",
   "execution_count": 0,
   "metadata": {
    "application/vnd.databricks.v1+cell": {
     "cellMetadata": {
      "byteLimit": 2048000,
      "implicitDf": true,
      "rowLimit": 10000
     },
     "inputWidgets": {},
     "nuid": "351709b1-2ea5-4818-9a1a-0a21d422a644",
     "showTitle": false,
     "title": ""
    }
   },
   "outputs": [
    {
     "output_type": "display_data",
     "data": {
      "text/html": [
       "<style scoped>\n",
       "  .table-result-container {\n",
       "    max-height: 300px;\n",
       "    overflow: auto;\n",
       "  }\n",
       "  table, th, td {\n",
       "    border: 1px solid black;\n",
       "    border-collapse: collapse;\n",
       "  }\n",
       "  th, td {\n",
       "    padding: 5px;\n",
       "  }\n",
       "  th {\n",
       "    text-align: left;\n",
       "  }\n",
       "</style><div class='table-result-container'><table class='table-result'><thead style='background-color: white'><tr></tr></thead><tbody></tbody></table></div>"
      ]
     },
     "metadata": {
      "application/vnd.databricks.v1+output": {
       "addedWidgets": {},
       "aggData": [],
       "aggError": "",
       "aggOverflow": false,
       "aggSchema": [],
       "aggSeriesLimitReached": false,
       "aggType": "",
       "arguments": {},
       "columnCustomDisplayInfos": {},
       "data": [],
       "datasetInfos": [],
       "dbfsResultPath": null,
       "isJsonSchema": true,
       "metadata": {},
       "overflow": false,
       "plotOptions": {
        "customPlotOptions": {},
        "displayType": "table",
        "pivotAggregation": null,
        "pivotColumns": null,
        "xColumns": null,
        "yColumns": null
       },
       "removedWidgets": [],
       "schema": [],
       "type": "table"
      }
     },
     "output_type": "display_data"
    }
   ],
   "source": [
    "%sql\n",
    "CREATE DATABASE IF NOT EXISTS sales"
   ]
  },
  {
   "cell_type": "code",
   "execution_count": 0,
   "metadata": {
    "application/vnd.databricks.v1+cell": {
     "cellMetadata": {
      "byteLimit": 2048000,
      "implicitDf": true,
      "rowLimit": 10000
     },
     "inputWidgets": {},
     "nuid": "ee462f07-ad27-4cfc-a6a4-d1bc44f88d6c",
     "showTitle": false,
     "title": ""
    }
   },
   "outputs": [
    {
     "output_type": "display_data",
     "data": {
      "text/html": [
       "<style scoped>\n",
       "  .table-result-container {\n",
       "    max-height: 300px;\n",
       "    overflow: auto;\n",
       "  }\n",
       "  table, th, td {\n",
       "    border: 1px solid black;\n",
       "    border-collapse: collapse;\n",
       "  }\n",
       "  th, td {\n",
       "    padding: 5px;\n",
       "  }\n",
       "  th {\n",
       "    text-align: left;\n",
       "  }\n",
       "</style><div class='table-result-container'><table class='table-result'><thead style='background-color: white'><tr></tr></thead><tbody></tbody></table></div>"
      ]
     },
     "metadata": {
      "application/vnd.databricks.v1+output": {
       "addedWidgets": {},
       "aggData": [],
       "aggError": "",
       "aggOverflow": false,
       "aggSchema": [],
       "aggSeriesLimitReached": false,
       "aggType": "",
       "arguments": {},
       "columnCustomDisplayInfos": {},
       "data": [],
       "datasetInfos": [],
       "dbfsResultPath": null,
       "isJsonSchema": true,
       "metadata": {},
       "overflow": false,
       "plotOptions": {
        "customPlotOptions": {},
        "displayType": "table",
        "pivotAggregation": null,
        "pivotColumns": null,
        "xColumns": null,
        "yColumns": null
       },
       "removedWidgets": [],
       "schema": [],
       "type": "table"
      }
     },
     "output_type": "display_data"
    }
   ],
   "source": [
    "%sql\n",
    "CREATE OR REPLACE TABLE sales.customer_loyalty_hist_details\n",
    "(\n",
    "    row_id INT,\n",
    "    customer_id STRING,\n",
    "    customer_name STRING,\n",
    "    region STRING,\n",
    "    province STRING,\n",
    "    customer_since INT,\n",
    "    total_years INT,\n",
    "    total_orders_count INT,\n",
    "    loyalty_points INT,\n",
    "    loyalty_type STRING,\n",
    "    start_date DATE,\n",
    "    end_date DATE\n",
    ")\n",
    "USING DELTA\n",
    "LOCATION '/FileStore/tables/delta-table-merge/customer_loyalty_hist_details';"
   ]
  },
  {
   "cell_type": "code",
   "execution_count": 0,
   "metadata": {
    "application/vnd.databricks.v1+cell": {
     "cellMetadata": {
      "byteLimit": 2048000,
      "implicitDf": true,
      "rowLimit": 10000
     },
     "inputWidgets": {},
     "nuid": "51a467ee-d255-49a4-9dbc-93e3a102e4c9",
     "showTitle": false,
     "title": ""
    }
   },
   "outputs": [
    {
     "output_type": "display_data",
     "data": {
      "text/html": [
       "<style scoped>\n",
       "  .table-result-container {\n",
       "    max-height: 300px;\n",
       "    overflow: auto;\n",
       "  }\n",
       "  table, th, td {\n",
       "    border: 1px solid black;\n",
       "    border-collapse: collapse;\n",
       "  }\n",
       "  th, td {\n",
       "    padding: 5px;\n",
       "  }\n",
       "  th {\n",
       "    text-align: left;\n",
       "  }\n",
       "</style><div class='table-result-container'><table class='table-result'><thead style='background-color: white'><tr></tr></thead><tbody></tbody></table></div>"
      ]
     },
     "metadata": {
      "application/vnd.databricks.v1+output": {
       "addedWidgets": {},
       "aggData": [],
       "aggError": "",
       "aggOverflow": false,
       "aggSchema": [],
       "aggSeriesLimitReached": false,
       "aggType": "",
       "arguments": {},
       "columnCustomDisplayInfos": {},
       "data": [],
       "datasetInfos": [],
       "dbfsResultPath": null,
       "isJsonSchema": true,
       "metadata": {},
       "overflow": false,
       "plotOptions": {
        "customPlotOptions": {},
        "displayType": "table",
        "pivotAggregation": null,
        "pivotColumns": null,
        "xColumns": null,
        "yColumns": null
       },
       "removedWidgets": [],
       "schema": [],
       "type": "table"
      }
     },
     "output_type": "display_data"
    }
   ],
   "source": [
    "%sql\n",
    "truncate table sales.customer_loyalty_hist_details;"
   ]
  },
  {
   "cell_type": "code",
   "execution_count": 0,
   "metadata": {
    "application/vnd.databricks.v1+cell": {
     "cellMetadata": {
      "byteLimit": 2048000,
      "rowLimit": 10000
     },
     "inputWidgets": {},
     "nuid": "1e1b2320-ee14-44b7-92b9-7f0867de5548",
     "showTitle": false,
     "title": ""
    }
   },
   "outputs": [
    {
     "output_type": "stream",
     "name": "stdout",
     "output_type": "stream",
     "text": [
      "<class 'delta.tables.DeltaTable'>\n"
     ]
    }
   ],
   "source": [
    "from delta.tables import *\n",
    "\n",
    "customer_loyalty_details_hist_instance = DeltaTable.forPath(spark, \"/FileStore/tables/delta-table-merge/customer_loyalty_hist_details\")\n",
    "print(type(customer_loyalty_details_hist_instance))"
   ]
  },
  {
   "cell_type": "code",
   "execution_count": 0,
   "metadata": {
    "application/vnd.databricks.v1+cell": {
     "cellMetadata": {
      "byteLimit": 2048000,
      "rowLimit": 10000
     },
     "inputWidgets": {},
     "nuid": "ae8cac02-3e61-4b7d-b7ce-c863421fc3c3",
     "showTitle": false,
     "title": ""
    }
   },
   "outputs": [
    {
     "output_type": "stream",
     "name": "stdout",
     "output_type": "stream",
     "text": [
      "+------+-----------+-------------+------+--------+--------------+-----------+------------------+--------------+------------+----------+--------+\n|row_id|customer_id|customer_name|region|province|customer_since|total_years|total_orders_count|loyalty_points|loyalty_type|start_date|end_date|\n+------+-----------+-------------+------+--------+--------------+-----------+------------------+--------------+------------+----------+--------+\n+------+-----------+-------------+------+--------+--------------+-----------+------------------+--------------+------------+----------+--------+\n\n"
     ]
    }
   ],
   "source": [
    "customer_loyalty_details_hist_instance.toDF().show(3,truncate=False)"
   ]
  },
  {
   "cell_type": "code",
   "execution_count": 0,
   "metadata": {
    "application/vnd.databricks.v1+cell": {
     "cellMetadata": {
      "byteLimit": 2048000,
      "rowLimit": 10000
     },
     "inputWidgets": {},
     "nuid": "206a0ed6-1f36-482f-ac28-15edfac1d3ac",
     "showTitle": false,
     "title": ""
    }
   },
   "outputs": [],
   "source": [
    "df = spark.read.format('delta') \\\n",
    "  .load(file_location)"
   ]
  },
  {
   "cell_type": "code",
   "execution_count": 0,
   "metadata": {
    "application/vnd.databricks.v1+cell": {
     "cellMetadata": {
      "byteLimit": 2048000,
      "rowLimit": 10000
     },
     "inputWidgets": {},
     "nuid": "eceb91b2-6cfc-4875-83e4-91203e74af97",
     "showTitle": false,
     "title": ""
    }
   },
   "outputs": [],
   "source": [
    "df = df.withColumn(\"row_number\", row_number().over(\n",
    "    Window.partitionBy(\"customer_id\").orderBy(desc(\"order_date\"))\n",
    "    )\n",
    "                                   )"
   ]
  },
  {
   "cell_type": "code",
   "execution_count": 0,
   "metadata": {
    "application/vnd.databricks.v1+cell": {
     "cellMetadata": {
      "byteLimit": 2048000,
      "rowLimit": 10000
     },
     "inputWidgets": {},
     "nuid": "397707a5-76f6-4f12-be89-99878931a87e",
     "showTitle": false,
     "title": ""
    }
   },
   "outputs": [],
   "source": [
    "df = df.filter(\"row_number = 1\").drop(\"row_number\")"
   ]
  },
  {
   "cell_type": "code",
   "execution_count": 0,
   "metadata": {
    "application/vnd.databricks.v1+cell": {
     "cellMetadata": {
      "byteLimit": 2048000,
      "rowLimit": 10000
     },
     "inputWidgets": {},
     "nuid": "ef750ff1-34ef-42cd-ad4e-f47a0fa3ec8e",
     "showTitle": false,
     "title": ""
    }
   },
   "outputs": [
    {
     "output_type": "stream",
     "name": "stdout",
     "output_type": "stream",
     "text": [
      "+------+--------+-------------------+--------------+--------------+-------+--------+--------------+--------+----------+-------------+----------------+----------------+------+----------------+----------------+--------------------+-----------------------------------------+-----------------+----------+--------------+------------+----------------------------------------------------------------+------------------+--------------+-----------+\n|row_id|order_id|order_date         |order_priority|order_quantity|sales  |discount|ship_mode     |profit  |unit_price|shipping_cost|customer_name   |province        |region|customer_segment|product_category|product_sub_category|product_name                             |product_container|ship_date |loyalty_points|loyalty_type|customer_id                                                     |total_orders_count|customer_since|total_years|\n+------+--------+-------------------+--------------+--------------+-------+--------+--------------+--------+----------+-------------+----------------+----------------+------+----------------+----------------+--------------------+-----------------------------------------+-----------------+----------+--------------+------------+----------------------------------------------------------------+------------------+--------------+-----------+\n|2533  |18374   |2012-09-30 00:00:00|Low           |21            |150.16 |0.09    |Regular Air   |-32.78  |7.28      |5.47         |Nick Crebassa   |Saskachewan     |Prarie|Corporate       |Office Supplies |Paper               |Southworth Structures Collection�        |Small Box        |2012-10-02|650           |Classic     |001492ac094ba3c986a45e7799a0409db64ed3c856e39cf16854012aa468fa01|432               |2009          |15         |\n|3637  |25986   |2012-06-22 00:00:00|Medium        |48            |278.07 |0.08    |Regular Air   |-71.45  |5.78      |4.96         |Barry Pond      |Yukon           |Yukon |Consumer        |Office Supplies |Paper               |Xerox 1899                               |Small Box        |2012-06-23|350           |Classic     |00fcf5c6646b01ce72417b854ad2ebcff2a73c4beec096c90dd9d1e60a7fd1e9|227               |2010          |14         |\n|1681  |12129   |2012-12-25 00:00:00|Medium        |36            |4852.05|0.0     |Delivery Truck|-1197.58|122.99    |70.2         |Giulietta Weimer|British Columbia|West  |Corporate       |Furniture       |Chairs & Chairmats  |Global High-Back Leather Tilter, Burgundy|Jumbo Drum       |2012-12-28|800           |Classic     |0105946ed08fb4ccf5f3efcec88a83121bb5804c698b14f2ad20cf7dd2541f7f|492               |2009          |15         |\n|5573  |39490   |2012-08-12 00:00:00|Low           |38            |456.03 |0.02    |Regular Air   |-61.61  |11.97     |5.81         |Ashley Jarboe   |Yukon           |Yukon |Small Business  |Office Supplies |Pens & Art Supplies |Staples SlimLine Pencil Sharpener        |Small Pack       |2012-08-12|950           |Classic     |018fc79fefdcb46768279300fb6e32f4e1e9f627ae99e3a672244d3052462e9b|495               |2009          |15         |\n|683   |4771    |2012-12-13 00:00:00|Critical      |4             |135.928|0.04    |Delivery Truck|-126.47 |31.76     |45.51        |Christy Brittain|Yukon           |Yukon |Consumer        |Furniture       |Tables              |Hon iLevel� Computer Training Table      |Jumbo Box        |2012-12-15|1500          |Daimond     |01a041b0a5fbe79fb524be166ed14fc9f58054716ce63e9db05a67d35f767527|604               |2009          |15         |\n+------+--------+-------------------+--------------+--------------+-------+--------+--------------+--------+----------+-------------+----------------+----------------+------+----------------+----------------+--------------------+-----------------------------------------+-----------------+----------+--------------+------------+----------------------------------------------------------------+------------------+--------------+-----------+\nonly showing top 5 rows\n\n"
     ]
    }
   ],
   "source": [
    "df.show(5,truncate=False)"
   ]
  },
  {
   "cell_type": "code",
   "execution_count": 0,
   "metadata": {
    "application/vnd.databricks.v1+cell": {
     "cellMetadata": {
      "byteLimit": 2048000,
      "rowLimit": 10000
     },
     "inputWidgets": {},
     "nuid": "c3ff2626-2d6f-4fc9-8380-5e821495a75d",
     "showTitle": false,
     "title": ""
    }
   },
   "outputs": [],
   "source": [
    "customers_loyalty_hist_df = df.select('customer_id', 'customer_name', 'region','province' ,'customer_since', 'total_years', 'total_orders_count','loyalty_points','loyalty_type')"
   ]
  },
  {
   "cell_type": "code",
   "execution_count": 0,
   "metadata": {
    "application/vnd.databricks.v1+cell": {
     "cellMetadata": {
      "byteLimit": 2048000,
      "rowLimit": 10000
     },
     "inputWidgets": {},
     "nuid": "a35508e9-a5c0-4975-bb50-17e80896c0d8",
     "showTitle": false,
     "title": ""
    }
   },
   "outputs": [],
   "source": [
    "customers_loyalty_hist_df = customers_loyalty_hist_df.withColumn(\"start_date\", current_date()) \\\n",
    "               .withColumn(\"end_date\", lit(\"9999-12-31\"))"
   ]
  },
  {
   "cell_type": "code",
   "execution_count": 0,
   "metadata": {
    "application/vnd.databricks.v1+cell": {
     "cellMetadata": {
      "byteLimit": 2048000,
      "rowLimit": 10000
     },
     "inputWidgets": {},
     "nuid": "03ba8222-57fb-4d39-b4d9-8d035015518e",
     "showTitle": false,
     "title": ""
    }
   },
   "outputs": [],
   "source": [
    "max_row_id = 0\n",
    "# Add incremental row_id to new records\n",
    "customers_loyalty_hist_df = customers_loyalty_hist_df.withColumn(\"row_id\", row_number().over(Window.orderBy(\"customer_id\")) + max_row_id)"
   ]
  },
  {
   "cell_type": "code",
   "execution_count": 0,
   "metadata": {
    "application/vnd.databricks.v1+cell": {
     "cellMetadata": {
      "byteLimit": 2048000,
      "rowLimit": 10000
     },
     "inputWidgets": {},
     "nuid": "f8fcf43c-7699-49cd-b30b-605e6501cb9c",
     "showTitle": false,
     "title": ""
    }
   },
   "outputs": [
    {
     "output_type": "stream",
     "name": "stdout",
     "output_type": "stream",
     "text": [
      "+-----------+-----+\n|customer_id|count|\n+-----------+-----+\n+-----------+-----+\n\n"
     ]
    }
   ],
   "source": [
    "customers_loyalty_hist_df.groupBy('customer_id').count().filter(\"count>1\").show()"
   ]
  },
  {
   "cell_type": "code",
   "execution_count": 0,
   "metadata": {
    "application/vnd.databricks.v1+cell": {
     "cellMetadata": {
      "byteLimit": 2048000,
      "rowLimit": 10000
     },
     "inputWidgets": {},
     "nuid": "b84039cb-52ce-4f7a-8417-9f112a19d097",
     "showTitle": false,
     "title": ""
    }
   },
   "outputs": [],
   "source": [
    "customer_loyalty_details_hist_instance.alias(\"Target\") \\\n",
    "    .merge(\n",
    "        source=customers_loyalty_hist_df.alias(\"Source\"),\n",
    "        condition=\"Target.customer_id == Source.customer_id\"\n",
    "    ) \\\n",
    "    .whenNotMatchedInsertAll() \\\n",
    "    .execute()"
   ]
  },
  {
   "cell_type": "code",
   "execution_count": 0,
   "metadata": {
    "application/vnd.databricks.v1+cell": {
     "cellMetadata": {
      "byteLimit": 2048000,
      "implicitDf": true,
      "rowLimit": 10000
     },
     "inputWidgets": {},
     "nuid": "20f7cc99-6983-40f7-abc1-443bbabaedae",
     "showTitle": false,
     "title": ""
    }
   },
   "outputs": [
    {
     "output_type": "display_data",
     "data": {
      "text/html": [
       "<style scoped>\n",
       "  .table-result-container {\n",
       "    max-height: 300px;\n",
       "    overflow: auto;\n",
       "  }\n",
       "  table, th, td {\n",
       "    border: 1px solid black;\n",
       "    border-collapse: collapse;\n",
       "  }\n",
       "  th, td {\n",
       "    padding: 5px;\n",
       "  }\n",
       "  th {\n",
       "    text-align: left;\n",
       "  }\n",
       "</style><div class='table-result-container'><table class='table-result'><thead style='background-color: white'><tr><th>row_id</th><th>customer_id</th><th>customer_name</th><th>region</th><th>province</th><th>customer_since</th><th>total_years</th><th>total_orders_count</th><th>loyalty_points</th><th>loyalty_type</th><th>start_date</th><th>end_date</th></tr></thead><tbody><tr><td>1</td><td>001492ac094ba3c986a45e7799a0409db64ed3c856e39cf16854012aa468fa01</td><td>Nick Crebassa</td><td>Prarie</td><td>Saskachewan</td><td>2009</td><td>15</td><td>432</td><td>650</td><td>Classic</td><td>2024-05-26</td><td>9999-12-31</td></tr><tr><td>2</td><td>00fcf5c6646b01ce72417b854ad2ebcff2a73c4beec096c90dd9d1e60a7fd1e9</td><td>Barry Pond</td><td>Yukon</td><td>Yukon</td><td>2010</td><td>14</td><td>227</td><td>350</td><td>Classic</td><td>2024-05-26</td><td>9999-12-31</td></tr><tr><td>3</td><td>0105946ed08fb4ccf5f3efcec88a83121bb5804c698b14f2ad20cf7dd2541f7f</td><td>Giulietta Weimer</td><td>West</td><td>British Columbia</td><td>2009</td><td>15</td><td>492</td><td>800</td><td>Classic</td><td>2024-05-26</td><td>9999-12-31</td></tr><tr><td>4</td><td>018fc79fefdcb46768279300fb6e32f4e1e9f627ae99e3a672244d3052462e9b</td><td>Ashley Jarboe</td><td>Yukon</td><td>Yukon</td><td>2009</td><td>15</td><td>495</td><td>950</td><td>Classic</td><td>2024-05-26</td><td>9999-12-31</td></tr><tr><td>5</td><td>01a041b0a5fbe79fb524be166ed14fc9f58054716ce63e9db05a67d35f767527</td><td>Christy Brittain</td><td>Yukon</td><td>Yukon</td><td>2009</td><td>15</td><td>604</td><td>1500</td><td>Daimond</td><td>2024-05-26</td><td>9999-12-31</td></tr></tbody></table></div>"
      ]
     },
     "metadata": {
      "application/vnd.databricks.v1+output": {
       "addedWidgets": {},
       "aggData": [],
       "aggError": "",
       "aggOverflow": false,
       "aggSchema": [],
       "aggSeriesLimitReached": false,
       "aggType": "",
       "arguments": {},
       "columnCustomDisplayInfos": {},
       "data": [
        [
         1,
         "001492ac094ba3c986a45e7799a0409db64ed3c856e39cf16854012aa468fa01",
         "Nick Crebassa",
         "Prarie",
         "Saskachewan",
         2009,
         15,
         432,
         650,
         "Classic",
         "2024-05-26",
         "9999-12-31"
        ],
        [
         2,
         "00fcf5c6646b01ce72417b854ad2ebcff2a73c4beec096c90dd9d1e60a7fd1e9",
         "Barry Pond",
         "Yukon",
         "Yukon",
         2010,
         14,
         227,
         350,
         "Classic",
         "2024-05-26",
         "9999-12-31"
        ],
        [
         3,
         "0105946ed08fb4ccf5f3efcec88a83121bb5804c698b14f2ad20cf7dd2541f7f",
         "Giulietta Weimer",
         "West",
         "British Columbia",
         2009,
         15,
         492,
         800,
         "Classic",
         "2024-05-26",
         "9999-12-31"
        ],
        [
         4,
         "018fc79fefdcb46768279300fb6e32f4e1e9f627ae99e3a672244d3052462e9b",
         "Ashley Jarboe",
         "Yukon",
         "Yukon",
         2009,
         15,
         495,
         950,
         "Classic",
         "2024-05-26",
         "9999-12-31"
        ],
        [
         5,
         "01a041b0a5fbe79fb524be166ed14fc9f58054716ce63e9db05a67d35f767527",
         "Christy Brittain",
         "Yukon",
         "Yukon",
         2009,
         15,
         604,
         1500,
         "Daimond",
         "2024-05-26",
         "9999-12-31"
        ]
       ],
       "datasetInfos": [],
       "dbfsResultPath": null,
       "isJsonSchema": true,
       "metadata": {},
       "overflow": false,
       "plotOptions": {
        "customPlotOptions": {},
        "displayType": "table",
        "pivotAggregation": null,
        "pivotColumns": null,
        "xColumns": null,
        "yColumns": null
       },
       "removedWidgets": [],
       "schema": [
        {
         "metadata": "{}",
         "name": "row_id",
         "type": "\"integer\""
        },
        {
         "metadata": "{}",
         "name": "customer_id",
         "type": "\"string\""
        },
        {
         "metadata": "{}",
         "name": "customer_name",
         "type": "\"string\""
        },
        {
         "metadata": "{}",
         "name": "region",
         "type": "\"string\""
        },
        {
         "metadata": "{}",
         "name": "province",
         "type": "\"string\""
        },
        {
         "metadata": "{}",
         "name": "customer_since",
         "type": "\"integer\""
        },
        {
         "metadata": "{}",
         "name": "total_years",
         "type": "\"integer\""
        },
        {
         "metadata": "{}",
         "name": "total_orders_count",
         "type": "\"integer\""
        },
        {
         "metadata": "{}",
         "name": "loyalty_points",
         "type": "\"integer\""
        },
        {
         "metadata": "{}",
         "name": "loyalty_type",
         "type": "\"string\""
        },
        {
         "metadata": "{}",
         "name": "start_date",
         "type": "\"date\""
        },
        {
         "metadata": "{}",
         "name": "end_date",
         "type": "\"date\""
        }
       ],
       "type": "table"
      }
     },
     "output_type": "display_data"
    }
   ],
   "source": [
    "%sql\n",
    "select * from sales.customer_loyalty_hist_details order by row_id limit 5"
   ]
  },
  {
   "cell_type": "code",
   "execution_count": 0,
   "metadata": {
    "application/vnd.databricks.v1+cell": {
     "cellMetadata": {
      "byteLimit": 2048000,
      "rowLimit": 10000
     },
     "inputWidgets": {},
     "nuid": "087ed982-a2f7-40a2-8c71-10c57fef5520",
     "showTitle": false,
     "title": ""
    }
   },
   "outputs": [
    {
     "output_type": "stream",
     "name": "stdout",
     "output_type": "stream",
     "text": [
      "+------+----------------------------------------------------------------+----------------+------+----------------+--------------+-----------+------------------+--------------+------------+----------+----------+\n|row_id|customer_id                                                     |customer_name   |region|province        |customer_since|total_years|total_orders_count|loyalty_points|loyalty_type|start_date|end_date  |\n+------+----------------------------------------------------------------+----------------+------+----------------+--------------+-----------+------------------+--------------+------------+----------+----------+\n|1     |001492ac094ba3c986a45e7799a0409db64ed3c856e39cf16854012aa468fa01|Nick Crebassa   |Prarie|Saskachewan     |2009          |15         |432               |650           |Classic     |2024-05-26|9999-12-31|\n|2     |00fcf5c6646b01ce72417b854ad2ebcff2a73c4beec096c90dd9d1e60a7fd1e9|Barry Pond      |Yukon |Yukon           |2010          |14         |227               |350           |Classic     |2024-05-26|9999-12-31|\n|3     |0105946ed08fb4ccf5f3efcec88a83121bb5804c698b14f2ad20cf7dd2541f7f|Giulietta Weimer|West  |British Columbia|2009          |15         |492               |800           |Classic     |2024-05-26|9999-12-31|\n|4     |018fc79fefdcb46768279300fb6e32f4e1e9f627ae99e3a672244d3052462e9b|Ashley Jarboe   |Yukon |Yukon           |2009          |15         |495               |950           |Classic     |2024-05-26|9999-12-31|\n|5     |01a041b0a5fbe79fb524be166ed14fc9f58054716ce63e9db05a67d35f767527|Christy Brittain|Yukon |Yukon           |2009          |15         |604               |1500          |Daimond     |2024-05-26|9999-12-31|\n+------+----------------------------------------------------------------+----------------+------+----------------+--------------+-----------+------------------+--------------+------------+----------+----------+\n\n"
     ]
    }
   ],
   "source": [
    "spark.sql('''select * from sales.customer_loyalty_hist_details order by row_id limit 5''').show(5,truncate=False)"
   ]
  },
  {
   "cell_type": "code",
   "execution_count": 0,
   "metadata": {
    "application/vnd.databricks.v1+cell": {
     "cellMetadata": {
      "byteLimit": 2048000,
      "rowLimit": 10000
     },
     "inputWidgets": {},
     "nuid": "bf153cb7-ba14-4306-b994-51a16b9c6f90",
     "showTitle": false,
     "title": ""
    }
   },
   "outputs": [],
   "source": []
  }
 ],
 "metadata": {
  "application/vnd.databricks.v1+notebook": {
   "dashboards": [],
   "environmentMetadata": null,
   "language": "python",
   "notebookMetadata": {
    "mostRecentlyExecutedCommandWithImplicitDF": {
     "commandId": 1220419608551806,
     "dataframes": [
      "_sqldf"
     ]
    },
    "pythonIndentUnit": 4
   },
   "notebookName": "load_to_customer_loyalty_dtls_hist_table_full_refresh_data",
   "widgets": {}
  }
 },
 "nbformat": 4,
 "nbformat_minor": 0
}
