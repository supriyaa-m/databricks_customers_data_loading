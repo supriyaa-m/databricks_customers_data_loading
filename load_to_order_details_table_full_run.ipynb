{
 "cells": [
  {
   "cell_type": "code",
   "execution_count": 0,
   "metadata": {
    "application/vnd.databricks.v1+cell": {
     "cellMetadata": {
      "byteLimit": 2048000,
      "rowLimit": 10000
     },
     "inputWidgets": {},
     "nuid": "fe120211-4e09-4a26-b8b4-fa4124499548",
     "showTitle": false,
     "title": ""
    }
   },
   "outputs": [],
   "source": [
    "file_location = \"/FileStore/tables/customers_refined.csv\"\n",
    "file_type = \"csv\""
   ]
  },
  {
   "cell_type": "code",
   "execution_count": 0,
   "metadata": {
    "application/vnd.databricks.v1+cell": {
     "cellMetadata": {
      "byteLimit": 2048000,
      "rowLimit": 10000
     },
     "inputWidgets": {},
     "nuid": "d6f9491b-2b16-461b-a7c2-27fa49824219",
     "showTitle": false,
     "title": ""
    }
   },
   "outputs": [],
   "source": [
    "from pyspark.sql.functions import *\n",
    "from pyspark.sql.types import *\n",
    "from pyspark.sql.window import Window"
   ]
  },
  {
   "cell_type": "code",
   "execution_count": 0,
   "metadata": {
    "application/vnd.databricks.v1+cell": {
     "cellMetadata": {
      "byteLimit": 2048000,
      "rowLimit": 10000
     },
     "inputWidgets": {},
     "nuid": "cde5a341-3cc3-4705-9588-b44672a8d9c3",
     "showTitle": false,
     "title": ""
    }
   },
   "outputs": [],
   "source": [
    "df = spark.read.format('delta') \\\n",
    "  .load(file_location)"
   ]
  },
  {
   "cell_type": "code",
   "execution_count": 0,
   "metadata": {
    "application/vnd.databricks.v1+cell": {
     "cellMetadata": {
      "byteLimit": 2048000,
      "rowLimit": 10000
     },
     "inputWidgets": {},
     "nuid": "0426e302-d228-4927-b0df-5f9761cd860c",
     "showTitle": false,
     "title": ""
    }
   },
   "outputs": [
    {
     "output_type": "stream",
     "name": "stdout",
     "output_type": "stream",
     "text": [
      "Out[4]: ['row_id',\n 'order_id',\n 'order_date',\n 'order_priority',\n 'order_quantity',\n 'sales',\n 'discount',\n 'ship_mode',\n 'profit',\n 'unit_price',\n 'shipping_cost',\n 'customer_name',\n 'province',\n 'region',\n 'customer_segment',\n 'product_category',\n 'product_sub_category',\n 'product_name',\n 'product_container',\n 'ship_date',\n 'loyalty_points',\n 'loyalty_type',\n 'customer_id',\n 'total_orders_count',\n 'customer_since',\n 'total_years']"
     ]
    }
   ],
   "source": [
    "df.columns"
   ]
  },
  {
   "cell_type": "code",
   "execution_count": 0,
   "metadata": {
    "application/vnd.databricks.v1+cell": {
     "cellMetadata": {
      "byteLimit": 2048000,
      "rowLimit": 10000
     },
     "inputWidgets": {},
     "nuid": "fb50b5cb-882f-47f7-a1e8-2aefbb6c89f6",
     "showTitle": false,
     "title": ""
    }
   },
   "outputs": [],
   "source": [
    "orders_df = df.select('customer_id', 'order_id', 'order_date', 'ship_date', 'order_priority', 'order_quantity')"
   ]
  },
  {
   "cell_type": "code",
   "execution_count": 0,
   "metadata": {
    "application/vnd.databricks.v1+cell": {
     "cellMetadata": {
      "byteLimit": 2048000,
      "rowLimit": 10000
     },
     "inputWidgets": {},
     "nuid": "f10e0b15-400e-4823-b555-dc88d0a76a5a",
     "showTitle": false,
     "title": ""
    }
   },
   "outputs": [
    {
     "output_type": "stream",
     "name": "stdout",
     "output_type": "stream",
     "text": [
      "+--------------------+--------+-------------------+----------+--------------+--------------+\n|         customer_id|order_id|         order_date| ship_date|order_priority|order_quantity|\n+--------------------+--------+-------------------+----------+--------------+--------------+\n|001492ac094ba3c98...|   18374|2012-09-30 00:00:00|2012-10-02|           Low|            21|\n|001492ac094ba3c98...|   25314|2012-02-24 00:00:00|2012-02-26|          High|            43|\n|001492ac094ba3c98...|   31106|2012-02-16 00:00:00|2012-02-16|           Low|            37|\n|001492ac094ba3c98...|   31106|2012-02-16 00:00:00|2012-02-21|           Low|             7|\n|001492ac094ba3c98...|   31106|2012-02-16 00:00:00|2012-02-18|           Low|            45|\n+--------------------+--------+-------------------+----------+--------------+--------------+\nonly showing top 5 rows\n\n"
     ]
    }
   ],
   "source": [
    "orders_df.show(5)"
   ]
  },
  {
   "cell_type": "code",
   "execution_count": 0,
   "metadata": {
    "application/vnd.databricks.v1+cell": {
     "cellMetadata": {
      "byteLimit": 2048000,
      "rowLimit": 10000
     },
     "inputWidgets": {},
     "nuid": "fdad9ab3-e030-4e76-ac74-bfb38f379d58",
     "showTitle": false,
     "title": ""
    }
   },
   "outputs": [
    {
     "output_type": "stream",
     "name": "stdout",
     "output_type": "stream",
     "text": [
      "Out[7]: 290"
     ]
    }
   ],
   "source": [
    "orders_df.filter(\"ship_date is null\").count()"
   ]
  },
  {
   "cell_type": "code",
   "execution_count": 0,
   "metadata": {
    "application/vnd.databricks.v1+cell": {
     "cellMetadata": {
      "byteLimit": 2048000,
      "rowLimit": 10000
     },
     "inputWidgets": {},
     "nuid": "733c3fc4-0b4c-45e8-ab77-80258a7d8996",
     "showTitle": false,
     "title": ""
    }
   },
   "outputs": [
    {
     "output_type": "stream",
     "name": "stdout",
     "output_type": "stream",
     "text": [
      "+--------------------+--------+-------------------+---------+--------------+--------------+\n|         customer_id|order_id|         order_date|ship_date|order_priority|order_quantity|\n+--------------------+--------+-------------------+---------+--------------+--------------+\n|001492ac094ba3c98...|   43493|2012-05-10 00:00:00|     null|          High|            22|\n|0105946ed08fb4ccf...|   48452|2010-10-09 00:00:00|     null|          High|            15|\n|018fc79fefdcb4676...|   21600|2010-04-04 00:00:00|     null|           Low|            17|\n|01a041b0a5fbe79fb...|   59815|2010-12-15 00:00:00|     null| Not Specified|            14|\n+--------------------+--------+-------------------+---------+--------------+--------------+\nonly showing top 4 rows\n\n"
     ]
    }
   ],
   "source": [
    "orders_df.filter(\"ship_date is null\").show(4)"
   ]
  },
  {
   "cell_type": "code",
   "execution_count": 0,
   "metadata": {
    "application/vnd.databricks.v1+cell": {
     "cellMetadata": {
      "byteLimit": 2048000,
      "rowLimit": 10000
     },
     "inputWidgets": {},
     "nuid": "19715e8b-0050-422f-bcbe-5dca734bd47b",
     "showTitle": false,
     "title": ""
    }
   },
   "outputs": [
    {
     "output_type": "stream",
     "name": "stdout",
     "output_type": "stream",
     "text": [
      "Out[9]: 8109"
     ]
    }
   ],
   "source": [
    "orders_df.filter(\"ship_date is not null\").count()"
   ]
  },
  {
   "cell_type": "code",
   "execution_count": 0,
   "metadata": {
    "application/vnd.databricks.v1+cell": {
     "cellMetadata": {
      "byteLimit": 2048000,
      "rowLimit": 10000
     },
     "inputWidgets": {},
     "nuid": "90716c94-80d3-44b9-b50e-1fff08a26476",
     "showTitle": false,
     "title": ""
    }
   },
   "outputs": [],
   "source": [
    "orders_df = orders_df.withColumn(\"order_status\",\n",
    "                                            when((orders_df[\"ship_date\"].isNull()) & (orders_df[\"order_date\"] < current_date() - 4), \"Cancelled\") \\\n",
    "                                            .when((orders_df[\"ship_date\"].isNull()) &  ((orders_df[\"order_date\"] == current_date()) | (orders_df[\"order_date\"] >= current_date() - 4)), \"In Progress\") \\\n",
    "                                            .otherwise(\"Completed\")\n",
    "                                            ) \\\n",
    "                     .withColumn(\"order_date\", to_date(\"order_date\")) \\\n",
    "                     .withColumn(\"order_id\", col(\"order_id\").cast(\"long\"))\n"
   ]
  },
  {
   "cell_type": "code",
   "execution_count": 0,
   "metadata": {
    "application/vnd.databricks.v1+cell": {
     "cellMetadata": {
      "byteLimit": 2048000,
      "rowLimit": 10000
     },
     "inputWidgets": {},
     "nuid": "1ecdc716-f530-44e9-b80b-981ed21dfc81",
     "showTitle": false,
     "title": ""
    }
   },
   "outputs": [
    {
     "output_type": "stream",
     "name": "stdout",
     "output_type": "stream",
     "text": [
      "+--------------------+--------+----------+----------+--------------+--------------+------------+\n|         customer_id|order_id|order_date| ship_date|order_priority|order_quantity|order_status|\n+--------------------+--------+----------+----------+--------------+--------------+------------+\n|001492ac094ba3c98...|   18374|2012-09-30|2012-10-02|           Low|            21|   Completed|\n|001492ac094ba3c98...|   25314|2012-02-24|2012-02-26|          High|            43|   Completed|\n|001492ac094ba3c98...|   31106|2012-02-16|2012-02-16|           Low|            37|   Completed|\n|001492ac094ba3c98...|   31106|2012-02-16|2012-02-21|           Low|             7|   Completed|\n|001492ac094ba3c98...|   31106|2012-02-16|2012-02-18|           Low|            45|   Completed|\n+--------------------+--------+----------+----------+--------------+--------------+------------+\nonly showing top 5 rows\n\n"
     ]
    }
   ],
   "source": [
    "orders_df.show(5)"
   ]
  },
  {
   "cell_type": "code",
   "execution_count": 0,
   "metadata": {
    "application/vnd.databricks.v1+cell": {
     "cellMetadata": {
      "byteLimit": 2048000,
      "rowLimit": 10000
     },
     "inputWidgets": {},
     "nuid": "9c4bcd5f-a6c3-44ef-8ef3-d6ed464633ab",
     "showTitle": false,
     "title": ""
    }
   },
   "outputs": [
    {
     "output_type": "display_data",
     "data": {
      "text/html": [
       "<style scoped>\n",
       "  .table-result-container {\n",
       "    max-height: 300px;\n",
       "    overflow: auto;\n",
       "  }\n",
       "  table, th, td {\n",
       "    border: 1px solid black;\n",
       "    border-collapse: collapse;\n",
       "  }\n",
       "  th, td {\n",
       "    padding: 5px;\n",
       "  }\n",
       "  th {\n",
       "    text-align: left;\n",
       "  }\n",
       "</style><div class='table-result-container'><table class='table-result'><thead style='background-color: white'><tr><th>customer_id</th><th>order_id</th><th>order_date</th><th>ship_date</th><th>order_priority</th><th>order_quantity</th><th>order_status</th></tr></thead><tbody><tr><td>001492ac094ba3c986a45e7799a0409db64ed3c856e39cf16854012aa468fa01</td><td>18374</td><td>2012-09-30</td><td>2012-10-02</td><td>Low</td><td>21</td><td>Completed</td></tr><tr><td>001492ac094ba3c986a45e7799a0409db64ed3c856e39cf16854012aa468fa01</td><td>25314</td><td>2012-02-24</td><td>2012-02-26</td><td>High</td><td>43</td><td>Completed</td></tr><tr><td>001492ac094ba3c986a45e7799a0409db64ed3c856e39cf16854012aa468fa01</td><td>31106</td><td>2012-02-16</td><td>2012-02-16</td><td>Low</td><td>37</td><td>Completed</td></tr><tr><td>001492ac094ba3c986a45e7799a0409db64ed3c856e39cf16854012aa468fa01</td><td>31106</td><td>2012-02-16</td><td>2012-02-21</td><td>Low</td><td>7</td><td>Completed</td></tr><tr><td>001492ac094ba3c986a45e7799a0409db64ed3c856e39cf16854012aa468fa01</td><td>31106</td><td>2012-02-16</td><td>2012-02-18</td><td>Low</td><td>45</td><td>Completed</td></tr><tr><td>001492ac094ba3c986a45e7799a0409db64ed3c856e39cf16854012aa468fa01</td><td>31106</td><td>2012-02-16</td><td>2012-02-23</td><td>Low</td><td>43</td><td>Completed</td></tr><tr><td>001492ac094ba3c986a45e7799a0409db64ed3c856e39cf16854012aa468fa01</td><td>34663</td><td>2011-07-06</td><td>2011-07-08</td><td>Not Specified</td><td>38</td><td>Completed</td></tr><tr><td>001492ac094ba3c986a45e7799a0409db64ed3c856e39cf16854012aa468fa01</td><td>43493</td><td>2012-05-10</td><td>null</td><td>High</td><td>22</td><td>Cancelled</td></tr><tr><td>001492ac094ba3c986a45e7799a0409db64ed3c856e39cf16854012aa468fa01</td><td>43493</td><td>2012-05-10</td><td>2012-05-12</td><td>High</td><td>14</td><td>Completed</td></tr><tr><td>001492ac094ba3c986a45e7799a0409db64ed3c856e39cf16854012aa468fa01</td><td>43493</td><td>2012-05-10</td><td>2012-05-13</td><td>High</td><td>37</td><td>Completed</td></tr><tr><td>001492ac094ba3c986a45e7799a0409db64ed3c856e39cf16854012aa468fa01</td><td>45767</td><td>2012-07-10</td><td>2012-07-12</td><td>High</td><td>49</td><td>Completed</td></tr><tr><td>001492ac094ba3c986a45e7799a0409db64ed3c856e39cf16854012aa468fa01</td><td>46881</td><td>2009-10-06</td><td>2009-10-08</td><td>Critical</td><td>31</td><td>Completed</td></tr><tr><td>001492ac094ba3c986a45e7799a0409db64ed3c856e39cf16854012aa468fa01</td><td>48391</td><td>2010-10-29</td><td>2010-10-30</td><td>Not Specified</td><td>45</td><td>Completed</td></tr><tr><td>07c41f7f8da2ed563ce0452e1d066605494817333732bafb29d6c596e6aeb39a</td><td>12486</td><td>2011-02-20</td><td>2011-02-21</td><td>High</td><td>31</td><td>Completed</td></tr><tr><td>07c41f7f8da2ed563ce0452e1d066605494817333732bafb29d6c596e6aeb39a</td><td>12486</td><td>2011-02-20</td><td>2011-02-21</td><td>High</td><td>42</td><td>Completed</td></tr><tr><td>07c41f7f8da2ed563ce0452e1d066605494817333732bafb29d6c596e6aeb39a</td><td>12706</td><td>2009-11-20</td><td>2009-11-21</td><td>Critical</td><td>46</td><td>Completed</td></tr><tr><td>07c41f7f8da2ed563ce0452e1d066605494817333732bafb29d6c596e6aeb39a</td><td>20898</td><td>2011-10-30</td><td>2011-11-01</td><td>Medium</td><td>33</td><td>Completed</td></tr><tr><td>07c41f7f8da2ed563ce0452e1d066605494817333732bafb29d6c596e6aeb39a</td><td>28354</td><td>2009-03-27</td><td>2009-04-01</td><td>Low</td><td>34</td><td>Completed</td></tr><tr><td>07c41f7f8da2ed563ce0452e1d066605494817333732bafb29d6c596e6aeb39a</td><td>28832</td><td>2010-09-24</td><td>2010-09-25</td><td>Medium</td><td>46</td><td>Completed</td></tr><tr><td>07c41f7f8da2ed563ce0452e1d066605494817333732bafb29d6c596e6aeb39a</td><td>28832</td><td>2010-09-24</td><td>2010-09-26</td><td>Medium</td><td>45</td><td>Completed</td></tr><tr><td>07c41f7f8da2ed563ce0452e1d066605494817333732bafb29d6c596e6aeb39a</td><td>32129</td><td>2011-07-02</td><td>2011-07-03</td><td>Critical</td><td>20</td><td>Completed</td></tr><tr><td>07c41f7f8da2ed563ce0452e1d066605494817333732bafb29d6c596e6aeb39a</td><td>32129</td><td>2011-07-02</td><td>2011-07-04</td><td>Critical</td><td>4</td><td>Completed</td></tr><tr><td>07c41f7f8da2ed563ce0452e1d066605494817333732bafb29d6c596e6aeb39a</td><td>55040</td><td>2009-04-12</td><td>2009-04-14</td><td>High</td><td>8</td><td>Completed</td></tr><tr><td>07c41f7f8da2ed563ce0452e1d066605494817333732bafb29d6c596e6aeb39a</td><td>55040</td><td>2009-04-12</td><td>2009-04-12</td><td>High</td><td>24</td><td>Completed</td></tr><tr><td>07c41f7f8da2ed563ce0452e1d066605494817333732bafb29d6c596e6aeb39a</td><td>55040</td><td>2009-04-12</td><td>2009-04-14</td><td>High</td><td>34</td><td>Completed</td></tr><tr><td>07c41f7f8da2ed563ce0452e1d066605494817333732bafb29d6c596e6aeb39a</td><td>55040</td><td>2009-04-12</td><td>2009-04-14</td><td>High</td><td>2</td><td>Completed</td></tr><tr><td>07c41f7f8da2ed563ce0452e1d066605494817333732bafb29d6c596e6aeb39a</td><td>56676</td><td>2012-10-25</td><td>2012-10-26</td><td>Critical</td><td>39</td><td>Completed</td></tr><tr><td>1212e8749bdc3800d2514d8ae53c10b8cbe3a9e4355de5db35f746c510c4603e</td><td>26023</td><td>2010-08-20</td><td>2010-08-21</td><td>High</td><td>49</td><td>Completed</td></tr><tr><td>1212e8749bdc3800d2514d8ae53c10b8cbe3a9e4355de5db35f746c510c4603e</td><td>28003</td><td>2011-03-19</td><td>2011-03-21</td><td>Critical</td><td>31</td><td>Completed</td></tr><tr><td>1212e8749bdc3800d2514d8ae53c10b8cbe3a9e4355de5db35f746c510c4603e</td><td>30658</td><td>2011-03-26</td><td>2011-03-27</td><td>Medium</td><td>35</td><td>Completed</td></tr><tr><td>1212e8749bdc3800d2514d8ae53c10b8cbe3a9e4355de5db35f746c510c4603e</td><td>30658</td><td>2011-03-26</td><td>2011-03-28</td><td>Medium</td><td>44</td><td>Completed</td></tr><tr><td>1212e8749bdc3800d2514d8ae53c10b8cbe3a9e4355de5db35f746c510c4603e</td><td>30947</td><td>2010-07-14</td><td>2010-07-18</td><td>Low</td><td>17</td><td>Completed</td></tr><tr><td>1212e8749bdc3800d2514d8ae53c10b8cbe3a9e4355de5db35f746c510c4603e</td><td>30947</td><td>2010-07-14</td><td>2010-07-18</td><td>Low</td><td>45</td><td>Completed</td></tr><tr><td>1212e8749bdc3800d2514d8ae53c10b8cbe3a9e4355de5db35f746c510c4603e</td><td>47620</td><td>2012-06-26</td><td>2012-07-05</td><td>Low</td><td>27</td><td>Completed</td></tr></tbody></table></div>"
      ]
     },
     "metadata": {
      "application/vnd.databricks.v1+output": {
       "addedWidgets": {},
       "aggData": [],
       "aggError": "",
       "aggOverflow": false,
       "aggSchema": [],
       "aggSeriesLimitReached": false,
       "aggType": "",
       "arguments": {},
       "columnCustomDisplayInfos": {},
       "data": [
        [
         "001492ac094ba3c986a45e7799a0409db64ed3c856e39cf16854012aa468fa01",
         18374,
         "2012-09-30",
         "2012-10-02",
         "Low",
         21,
         "Completed"
        ],
        [
         "001492ac094ba3c986a45e7799a0409db64ed3c856e39cf16854012aa468fa01",
         25314,
         "2012-02-24",
         "2012-02-26",
         "High",
         43,
         "Completed"
        ],
        [
         "001492ac094ba3c986a45e7799a0409db64ed3c856e39cf16854012aa468fa01",
         31106,
         "2012-02-16",
         "2012-02-16",
         "Low",
         37,
         "Completed"
        ],
        [
         "001492ac094ba3c986a45e7799a0409db64ed3c856e39cf16854012aa468fa01",
         31106,
         "2012-02-16",
         "2012-02-21",
         "Low",
         7,
         "Completed"
        ],
        [
         "001492ac094ba3c986a45e7799a0409db64ed3c856e39cf16854012aa468fa01",
         31106,
         "2012-02-16",
         "2012-02-18",
         "Low",
         45,
         "Completed"
        ],
        [
         "001492ac094ba3c986a45e7799a0409db64ed3c856e39cf16854012aa468fa01",
         31106,
         "2012-02-16",
         "2012-02-23",
         "Low",
         43,
         "Completed"
        ],
        [
         "001492ac094ba3c986a45e7799a0409db64ed3c856e39cf16854012aa468fa01",
         34663,
         "2011-07-06",
         "2011-07-08",
         "Not Specified",
         38,
         "Completed"
        ],
        [
         "001492ac094ba3c986a45e7799a0409db64ed3c856e39cf16854012aa468fa01",
         43493,
         "2012-05-10",
         null,
         "High",
         22,
         "Cancelled"
        ],
        [
         "001492ac094ba3c986a45e7799a0409db64ed3c856e39cf16854012aa468fa01",
         43493,
         "2012-05-10",
         "2012-05-12",
         "High",
         14,
         "Completed"
        ],
        [
         "001492ac094ba3c986a45e7799a0409db64ed3c856e39cf16854012aa468fa01",
         43493,
         "2012-05-10",
         "2012-05-13",
         "High",
         37,
         "Completed"
        ],
        [
         "001492ac094ba3c986a45e7799a0409db64ed3c856e39cf16854012aa468fa01",
         45767,
         "2012-07-10",
         "2012-07-12",
         "High",
         49,
         "Completed"
        ],
        [
         "001492ac094ba3c986a45e7799a0409db64ed3c856e39cf16854012aa468fa01",
         46881,
         "2009-10-06",
         "2009-10-08",
         "Critical",
         31,
         "Completed"
        ],
        [
         "001492ac094ba3c986a45e7799a0409db64ed3c856e39cf16854012aa468fa01",
         48391,
         "2010-10-29",
         "2010-10-30",
         "Not Specified",
         45,
         "Completed"
        ],
        [
         "07c41f7f8da2ed563ce0452e1d066605494817333732bafb29d6c596e6aeb39a",
         12486,
         "2011-02-20",
         "2011-02-21",
         "High",
         31,
         "Completed"
        ],
        [
         "07c41f7f8da2ed563ce0452e1d066605494817333732bafb29d6c596e6aeb39a",
         12486,
         "2011-02-20",
         "2011-02-21",
         "High",
         42,
         "Completed"
        ],
        [
         "07c41f7f8da2ed563ce0452e1d066605494817333732bafb29d6c596e6aeb39a",
         12706,
         "2009-11-20",
         "2009-11-21",
         "Critical",
         46,
         "Completed"
        ],
        [
         "07c41f7f8da2ed563ce0452e1d066605494817333732bafb29d6c596e6aeb39a",
         20898,
         "2011-10-30",
         "2011-11-01",
         "Medium",
         33,
         "Completed"
        ],
        [
         "07c41f7f8da2ed563ce0452e1d066605494817333732bafb29d6c596e6aeb39a",
         28354,
         "2009-03-27",
         "2009-04-01",
         "Low",
         34,
         "Completed"
        ],
        [
         "07c41f7f8da2ed563ce0452e1d066605494817333732bafb29d6c596e6aeb39a",
         28832,
         "2010-09-24",
         "2010-09-25",
         "Medium",
         46,
         "Completed"
        ],
        [
         "07c41f7f8da2ed563ce0452e1d066605494817333732bafb29d6c596e6aeb39a",
         28832,
         "2010-09-24",
         "2010-09-26",
         "Medium",
         45,
         "Completed"
        ],
        [
         "07c41f7f8da2ed563ce0452e1d066605494817333732bafb29d6c596e6aeb39a",
         32129,
         "2011-07-02",
         "2011-07-03",
         "Critical",
         20,
         "Completed"
        ],
        [
         "07c41f7f8da2ed563ce0452e1d066605494817333732bafb29d6c596e6aeb39a",
         32129,
         "2011-07-02",
         "2011-07-04",
         "Critical",
         4,
         "Completed"
        ],
        [
         "07c41f7f8da2ed563ce0452e1d066605494817333732bafb29d6c596e6aeb39a",
         55040,
         "2009-04-12",
         "2009-04-14",
         "High",
         8,
         "Completed"
        ],
        [
         "07c41f7f8da2ed563ce0452e1d066605494817333732bafb29d6c596e6aeb39a",
         55040,
         "2009-04-12",
         "2009-04-12",
         "High",
         24,
         "Completed"
        ],
        [
         "07c41f7f8da2ed563ce0452e1d066605494817333732bafb29d6c596e6aeb39a",
         55040,
         "2009-04-12",
         "2009-04-14",
         "High",
         34,
         "Completed"
        ],
        [
         "07c41f7f8da2ed563ce0452e1d066605494817333732bafb29d6c596e6aeb39a",
         55040,
         "2009-04-12",
         "2009-04-14",
         "High",
         2,
         "Completed"
        ],
        [
         "07c41f7f8da2ed563ce0452e1d066605494817333732bafb29d6c596e6aeb39a",
         56676,
         "2012-10-25",
         "2012-10-26",
         "Critical",
         39,
         "Completed"
        ],
        [
         "1212e8749bdc3800d2514d8ae53c10b8cbe3a9e4355de5db35f746c510c4603e",
         26023,
         "2010-08-20",
         "2010-08-21",
         "High",
         49,
         "Completed"
        ],
        [
         "1212e8749bdc3800d2514d8ae53c10b8cbe3a9e4355de5db35f746c510c4603e",
         28003,
         "2011-03-19",
         "2011-03-21",
         "Critical",
         31,
         "Completed"
        ],
        [
         "1212e8749bdc3800d2514d8ae53c10b8cbe3a9e4355de5db35f746c510c4603e",
         30658,
         "2011-03-26",
         "2011-03-27",
         "Medium",
         35,
         "Completed"
        ],
        [
         "1212e8749bdc3800d2514d8ae53c10b8cbe3a9e4355de5db35f746c510c4603e",
         30658,
         "2011-03-26",
         "2011-03-28",
         "Medium",
         44,
         "Completed"
        ],
        [
         "1212e8749bdc3800d2514d8ae53c10b8cbe3a9e4355de5db35f746c510c4603e",
         30947,
         "2010-07-14",
         "2010-07-18",
         "Low",
         17,
         "Completed"
        ],
        [
         "1212e8749bdc3800d2514d8ae53c10b8cbe3a9e4355de5db35f746c510c4603e",
         30947,
         "2010-07-14",
         "2010-07-18",
         "Low",
         45,
         "Completed"
        ],
        [
         "1212e8749bdc3800d2514d8ae53c10b8cbe3a9e4355de5db35f746c510c4603e",
         47620,
         "2012-06-26",
         "2012-07-05",
         "Low",
         27,
         "Completed"
        ]
       ],
       "datasetInfos": [],
       "dbfsResultPath": null,
       "isJsonSchema": true,
       "metadata": {},
       "overflow": false,
       "plotOptions": {
        "customPlotOptions": {},
        "displayType": "table",
        "pivotAggregation": null,
        "pivotColumns": null,
        "xColumns": null,
        "yColumns": null
       },
       "removedWidgets": [],
       "schema": [
        {
         "metadata": "{}",
         "name": "customer_id",
         "type": "\"string\""
        },
        {
         "metadata": "{}",
         "name": "order_id",
         "type": "\"long\""
        },
        {
         "metadata": "{}",
         "name": "order_date",
         "type": "\"date\""
        },
        {
         "metadata": "{}",
         "name": "ship_date",
         "type": "\"date\""
        },
        {
         "metadata": "{}",
         "name": "order_priority",
         "type": "\"string\""
        },
        {
         "metadata": "{}",
         "name": "order_quantity",
         "type": "\"long\""
        },
        {
         "metadata": "{}",
         "name": "order_status",
         "type": "\"string\""
        }
       ],
       "type": "table"
      }
     },
     "output_type": "display_data"
    }
   ],
   "source": [
    "orders_df.filter(\"customer_id in ('07c41f7f8da2ed563ce0452e1d066605494817333732bafb29d6c596e6aeb39a','1212e8749bdc3800d2514d8ae53c10b8cbe3a9e4355de5db35f746c510c4603e','1312e8749bdc3800d2514d8ae53c10b8cbe3a9e4355de5db35f746c510c4603e','001492ac094ba3c986a45e7799a0409db64ed3c856e39cf16854012aa468fa01')\").display()"
   ]
  },
  {
   "cell_type": "code",
   "execution_count": 0,
   "metadata": {
    "application/vnd.databricks.v1+cell": {
     "cellMetadata": {
      "byteLimit": 2048000,
      "rowLimit": 10000
     },
     "inputWidgets": {},
     "nuid": "f52f229b-d51d-4879-a766-c045aadecd15",
     "showTitle": false,
     "title": ""
    }
   },
   "outputs": [
    {
     "output_type": "stream",
     "name": "stdout",
     "output_type": "stream",
     "text": [
      "+--------+-----+\n|order_id|count|\n+--------+-----+\n|   24132|    6|\n|   43745|    6|\n|   59781|    5|\n|   48772|    5|\n|   43875|    5|\n|    1444|    5|\n|   43488|    5|\n|   13540|    5|\n|   57253|    5|\n|    8995|    5|\n|   48452|    5|\n|   29187|    5|\n|   58470|    5|\n|   12067|    5|\n|   12261|    5|\n|   27106|    5|\n|   15109|    5|\n|   33797|    5|\n|   42528|    5|\n|   58784|    5|\n+--------+-----+\nonly showing top 20 rows\n\n"
     ]
    }
   ],
   "source": [
    "orders_df.groupBy('order_id').count().filter(col('count')>1).orderBy('count',ascending=False).show()"
   ]
  },
  {
   "cell_type": "code",
   "execution_count": 0,
   "metadata": {
    "application/vnd.databricks.v1+cell": {
     "cellMetadata": {
      "byteLimit": 2048000,
      "rowLimit": 10000
     },
     "inputWidgets": {},
     "nuid": "b170add7-ecc9-44b6-8a1a-503a58734f1f",
     "showTitle": false,
     "title": ""
    }
   },
   "outputs": [
    {
     "output_type": "stream",
     "name": "stdout",
     "output_type": "stream",
     "text": [
      "+--------------------+--------+----------+----------+--------------+--------------+------------+\n|         customer_id|order_id|order_date| ship_date|order_priority|order_quantity|order_status|\n+--------------------+--------+----------+----------+--------------+--------------+------------+\n|dfff7e512bc9808c8...|   48772|2009-05-12|2009-05-14|        Medium|            44|   Completed|\n|dfff7e512bc9808c8...|   48772|2009-05-12|2009-05-13|        Medium|            11|   Completed|\n|dfff7e512bc9808c8...|   48772|2009-05-12|2009-05-13|        Medium|            18|   Completed|\n|dfff7e512bc9808c8...|   48772|2009-05-12|2009-05-13|        Medium|            12|   Completed|\n|dfff7e512bc9808c8...|   48772|2009-05-12|2009-05-13|        Medium|            10|   Completed|\n+--------------------+--------+----------+----------+--------------+--------------+------------+\n\n"
     ]
    }
   ],
   "source": [
    "orders_df.filter(\"order_id = '48772'\").show() #same order_id but products ordered will be different "
   ]
  },
  {
   "cell_type": "code",
   "execution_count": 0,
   "metadata": {
    "application/vnd.databricks.v1+cell": {
     "cellMetadata": {
      "byteLimit": 2048000,
      "rowLimit": 10000
     },
     "inputWidgets": {},
     "nuid": "3637fe90-66bb-41a4-bf38-ac392be9bcc4",
     "showTitle": false,
     "title": ""
    }
   },
   "outputs": [
    {
     "output_type": "stream",
     "name": "stdout",
     "output_type": "stream",
     "text": [
      "+------+--------+-------------------+--------------+--------------+-------+--------+-----------+------+----------+-------------+--------------+--------+------+----------------+----------------+--------------------+--------------------+-----------------+----------+--------------+------------+--------------------+------------------+--------------+-----------+\n|row_id|order_id|         order_date|order_priority|order_quantity|  sales|discount|  ship_mode|profit|unit_price|shipping_cost| customer_name|province|region|customer_segment|product_category|product_sub_category|        product_name|product_container| ship_date|loyalty_points|loyalty_type|         customer_id|total_orders_count|customer_since|total_years|\n+------+--------+-------------------+--------------+--------------+-------+--------+-----------+------+----------+-------------+--------------+--------+------+----------------+----------------+--------------------+--------------------+-----------------+----------+--------------+------------+--------------------+------------------+--------------+-----------+\n|  6844|   48772|2009-05-12 00:00:00|        Medium|            44|3202.25|    0.09|Regular Air|991.26|     78.69|        19.99|Aaron Smayling|Manitoba|Prarie|  Small Business|       Furniture|  Office Furnishings|Howard Miller 12-...|        Small Box|2009-05-14|           700|     Classic|dfff7e512bc9808c8...|               303|          2009|         15|\n|  6845|   48772|2009-05-12 00:00:00|        Medium|            11|  81.25|    0.01|Regular Air|-44.54|      6.48|         7.86|Aaron Smayling|Manitoba|Prarie|  Small Business| Office Supplies|               Paper|           Xerox 213|        Small Box|2009-05-13|           700|     Classic|dfff7e512bc9808c8...|               303|          2009|         15|\n|  6846|   48772|2009-05-12 00:00:00|        Medium|            18|  57.17|    0.08|Regular Air|-24.03|      3.28|         2.31|Aaron Smayling|Manitoba|Prarie|  Small Business| Office Supplies| Pens & Art Supplies|          Newell 321|         Wrap Bag|2009-05-13|           700|     Classic|dfff7e512bc9808c8...|               303|          2009|         15|\n|  6847|   48772|2009-05-12 00:00:00|        Medium|            12|  41.97|    0.05|Regular Air|-37.03|      3.28|          4.2|Aaron Smayling|Manitoba|Prarie|  Small Business| Office Supplies| Pens & Art Supplies|          Newell 351|         Wrap Bag|2009-05-13|           700|     Classic|dfff7e512bc9808c8...|               303|          2009|         15|\n|  6848|   48772|2009-05-12 00:00:00|        Medium|            10|  35.64|    0.05|Regular Air| -0.71|      3.58|         1.63|Aaron Smayling|Manitoba|Prarie|  Small Business| Office Supplies|        Rubber Bands|OIC Colored Binde...|         Wrap Bag|2009-05-13|           700|     Classic|dfff7e512bc9808c8...|               303|          2009|         15|\n+------+--------+-------------------+--------------+--------------+-------+--------+-----------+------+----------+-------------+--------------+--------+------+----------------+----------------+--------------------+--------------------+-----------------+----------+--------------+------------+--------------------+------------------+--------------+-----------+\n\n"
     ]
    }
   ],
   "source": [
    "df.filter(\"order_id = '48772'\").show() "
   ]
  },
  {
   "cell_type": "code",
   "execution_count": 0,
   "metadata": {
    "application/vnd.databricks.v1+cell": {
     "cellMetadata": {
      "byteLimit": 2048000,
      "rowLimit": 10000
     },
     "inputWidgets": {},
     "nuid": "b5747993-b012-4b3a-b872-a3c05993c0ae",
     "showTitle": false,
     "title": ""
    }
   },
   "outputs": [
    {
     "output_type": "stream",
     "name": "stdout",
     "output_type": "stream",
     "text": [
      "+----------------------------------------------------------------+--------+----------+----------+--------------+--------------+------------+-----+\n|customer_id                                                     |order_id|order_date|ship_date |order_priority|order_quantity|order_status|count|\n+----------------------------------------------------------------+--------+----------+----------+--------------+--------------+------------+-----+\n|07de8c2693a047311aac3bb2e1a7bf301d9e290b04431926048d92a40e3bbfd0|46916   |2011-10-03|2011-10-05|High          |40            |Completed   |3    |\n|6380a2b9a6213ea50eacbe6393a7eaa6ce003677db42816672596d8add21632e|18368   |2012-11-30|2012-12-02|Not Specified |3             |Completed   |2    |\n|64755dd6894b7317c422c86cf30c43c71cfcc4efcae2362acf98633e940242e8|43488   |2012-06-18|2012-06-19|Critical      |46            |Completed   |2    |\n|3f0784e0bbdb7619091710f15923331f57e8dbf2d4e76e05866e7b5fa61e7974|11011   |2012-05-13|2012-05-14|High          |36            |Completed   |2    |\n|f5611d5c98f2b1d658fc13e8fe19ea2831fda59081e1e9e16e6161cda1d82643|59015   |2012-05-26|2012-05-27|Medium        |32            |Completed   |2    |\n|8519c43a7bab323d3d6e44fd177ec2110f1e44b9998aca3e66b623bb7ca005c7|18210   |2010-08-06|2010-08-07|Not Specified |27            |Completed   |2    |\n|d57a74a6820c97e742faf80de1d8b3a928c3350f9f3a1772d9a985895e31551a|35813   |2009-04-21|2009-04-21|Critical      |21            |Completed   |2    |\n|f19cf1573f886e457a5765972952e73085d708f591dccba60c544713c8bcdc29|36131   |2009-05-17|2009-05-18|High          |26            |Completed   |2    |\n|ab887f2d87a3a8a811aaa72f66db0044da11c6b7259cf4e16fc0b328dc7e87b5|59781   |2012-12-12|2012-12-13|Not Specified |24            |Completed   |2    |\n|8b371d7f70689858196e59f61551c6679abf81f30affe7ab6c83f9e918c11cca|386     |2011-01-24|2011-01-26|High          |4             |Completed   |2    |\n|1e647d0424b19db5aa0fbf0ebee397e8a47cf32b48fc89b37222599ac90a00d0|21442   |2009-12-25|2010-01-01|Low           |48            |Completed   |2    |\n|01a041b0a5fbe79fb524be166ed14fc9f58054716ce63e9db05a67d35f767527|57638   |2012-04-22|2012-04-24|Low           |49            |Completed   |2    |\n|35d04b00439baef82988264cf8de335343e375817ebe687e5f2a1290b0d87c3c|14662   |2011-11-16|2011-11-17|High          |48            |Completed   |2    |\n|189487264c1534c55efda0b24b2cbd70070c2505f6d20b17c4b8551d53b152c9|28007   |2010-04-08|2010-04-09|Not Specified |20            |Completed   |2    |\n|c967f478556da7e228590fc70aff25f0df61779cbf7ce74eb050455313f37452|36737   |2010-03-15|2010-03-16|Not Specified |10            |Completed   |2    |\n|2ef6e88c79cbdc76ba287422270d111ce61fe9e1ab273c526b0ab36a6542ee73|36803   |2012-08-04|2012-08-06|Not Specified |2             |Completed   |2    |\n|4f404df4677230f9717d13a692e1b02341b8394cf6df19ce4d77513551658b1a|44992   |2012-12-24|2012-12-26|Critical      |32            |Completed   |2    |\n|741905b9c79999208becabf6a176e48271cd311ec8185b8b7b8623d4d306c18a|28934   |2012-11-28|2012-11-30|Medium        |26            |Completed   |2    |\n|c850d76da0ba057f4783c0dcba967697861f3f376628cb23c746eda6f539d862|42242   |2009-04-01|2009-04-02|Not Specified |23            |Completed   |2    |\n|501d35c3a889e57a4a3e72f27c3a6c77d7fda53e1dc6cfcb99e690bdc780f9dd|24672   |2012-03-17|2012-03-19|Medium        |37            |Completed   |2    |\n+----------------------------------------------------------------+--------+----------+----------+--------------+--------------+------------+-----+\nonly showing top 20 rows\n\n"
     ]
    }
   ],
   "source": [
    "orders_df.groupBy('customer_id','order_id','order_date','ship_date','order_priority','order_quantity','order_status').count().filter(col('count')>1).orderBy('count',ascending=False).show(truncate=False)"
   ]
  },
  {
   "cell_type": "code",
   "execution_count": 0,
   "metadata": {
    "application/vnd.databricks.v1+cell": {
     "cellMetadata": {
      "byteLimit": 2048000,
      "rowLimit": 10000
     },
     "inputWidgets": {},
     "nuid": "126bebca-9252-44cd-ad15-db9db3f3dec6",
     "showTitle": false,
     "title": ""
    }
   },
   "outputs": [
    {
     "output_type": "stream",
     "name": "stdout",
     "output_type": "stream",
     "text": [
      "+----------------------------------------------------------------+--------+----------+----------+--------------+--------------+------------+\n|customer_id                                                     |order_id|order_date|ship_date |order_priority|order_quantity|order_status|\n+----------------------------------------------------------------+--------+----------+----------+--------------+--------------+------------+\n|07de8c2693a047311aac3bb2e1a7bf301d9e290b04431926048d92a40e3bbfd0|46916   |2011-10-03|2011-10-05|High          |40            |Completed   |\n|07de8c2693a047311aac3bb2e1a7bf301d9e290b04431926048d92a40e3bbfd0|46916   |2011-10-03|2011-10-05|High          |40            |Completed   |\n|07de8c2693a047311aac3bb2e1a7bf301d9e290b04431926048d92a40e3bbfd0|46916   |2011-10-03|2011-10-05|High          |40            |Completed   |\n+----------------------------------------------------------------+--------+----------+----------+--------------+--------------+------------+\n\n"
     ]
    }
   ],
   "source": [
    "orders_df.filter(\"order_id = '46916'\").show(truncate=False) #same order_id but products are different"
   ]
  },
  {
   "cell_type": "code",
   "execution_count": 0,
   "metadata": {
    "application/vnd.databricks.v1+cell": {
     "cellMetadata": {
      "byteLimit": 2048000,
      "rowLimit": 10000
     },
     "inputWidgets": {},
     "nuid": "57795203-79ae-4efa-bffb-6d617c724b05",
     "showTitle": false,
     "title": ""
    }
   },
   "outputs": [
    {
     "output_type": "stream",
     "name": "stdout",
     "output_type": "stream",
     "text": [
      "+------+--------+-------------------+--------------+--------------+-------+--------+-----------+------+----------+-------------+-------------+-------------+--------+----------------+----------------+--------------------+-----------------------------------------------------------------+-----------------+----------+--------------+------------+----------------------------------------------------------------+------------------+--------------+-----------+\n|row_id|order_id|order_date         |order_priority|order_quantity|sales  |discount|ship_mode  |profit|unit_price|shipping_cost|customer_name|province     |region  |customer_segment|product_category|product_sub_category|product_name                                                     |product_container|ship_date |loyalty_points|loyalty_type|customer_id                                                     |total_orders_count|customer_since|total_years|\n+------+--------+-------------------+--------------+--------------+-------+--------+-----------+------+----------+-------------+-------------+-------------+--------+----------------+----------------+--------------------+-----------------------------------------------------------------+-----------------+----------+--------------+------------+----------------------------------------------------------------+------------------+--------------+-----------+\n|6592  |46916   |2011-10-03 00:00:00|High          |40            |115.51 |0.0     |Regular Air|5.54  |2.78      |0.97         |Nora Price   |Quebec       |Quebec  |Home Office     |Office Supplies |Pens & Art Supplies |Newell 339                                                       |Wrap Bag         |2011-10-05|1600          |Daimond     |07de8c2693a047311aac3bb2e1a7bf301d9e290b04431926048d92a40e3bbfd0|675               |2009          |15         |\n|6593  |46916   |2011-10-03 00:00:00|High          |40            |103.79 |0.03    |Regular Air|37.85 |2.61      |0.5          |Nora Price   |New Brunswick|Atlantic|Home Office     |Office Supplies |Labels              |Avery 479                                                        |Small Box        |2011-10-05|1600          |Daimond     |07de8c2693a047311aac3bb2e1a7bf301d9e290b04431926048d92a40e3bbfd0|675               |2009          |15         |\n|6594  |46916   |2011-10-03 00:00:00|High          |40            |2108.21|0.03    |Regular Air|273.61|51.75     |19.99        |Nora Price   |New Brunswick|Atlantic|Home Office     |Furniture       |Office Furnishings  |\"Howard Miller 13-3/4\"\" Diameter Brushed Chrome Round Wall Clock\"|Small Box        |2011-10-05|1600          |Daimond     |07de8c2693a047311aac3bb2e1a7bf301d9e290b04431926048d92a40e3bbfd0|675               |2009          |15         |\n+------+--------+-------------------+--------------+--------------+-------+--------+-----------+------+----------+-------------+-------------+-------------+--------+----------------+----------------+--------------------+-----------------------------------------------------------------+-----------------+----------+--------------+------------+----------------------------------------------------------------+------------------+--------------+-----------+\n\n"
     ]
    }
   ],
   "source": [
    "df.filter(\"order_id = '46916'\").show(truncate=False)"
   ]
  },
  {
   "cell_type": "code",
   "execution_count": 0,
   "metadata": {
    "application/vnd.databricks.v1+cell": {
     "cellMetadata": {
      "byteLimit": 2048000,
      "rowLimit": 10000
     },
     "inputWidgets": {},
     "nuid": "f8cd5f10-2c9c-4ec4-b76f-88258e7e8c31",
     "showTitle": false,
     "title": ""
    }
   },
   "outputs": [],
   "source": [
    "#adding row_id column as its unique for each row\n",
    "orders_df = df.select('row_id','customer_id', 'order_id', 'order_date', 'ship_date', 'order_priority', 'order_quantity')\n",
    "orders_df = orders_df.withColumn(\"order_status\",\n",
    "                                            when((orders_df[\"ship_date\"].isNull()) & (orders_df[\"order_date\"] < current_date() - 4), \"Cancelled\") \\\n",
    "                                            .when((orders_df[\"ship_date\"].isNull()) &  ((orders_df[\"order_date\"] == current_date()) | (orders_df[\"order_date\"] >= current_date() - 4)), \"In Progress\") \\\n",
    "                                            .otherwise(\"Completed\")\n",
    "                                            ) \\\n",
    "                    .withColumn(\"row_id\", col(\"row_id\").cast(\"long\")) \\\n",
    "                     .withColumn(\"order_date\", to_date(\"order_date\")) \\\n",
    "                     .withColumn(\"order_id\", col(\"order_id\").cast(\"long\"))"
   ]
  },
  {
   "cell_type": "code",
   "execution_count": 0,
   "metadata": {
    "application/vnd.databricks.v1+cell": {
     "cellMetadata": {
      "byteLimit": 2048000,
      "rowLimit": 10000
     },
     "inputWidgets": {},
     "nuid": "b0f34fb9-0b77-4997-9adc-f6a567a8507c",
     "showTitle": false,
     "title": ""
    }
   },
   "outputs": [
    {
     "output_type": "stream",
     "name": "stdout",
     "output_type": "stream",
     "text": [
      "+------+----------------------------------------------------------------+--------+----------+----------+--------------+--------------+------------+\n|row_id|customer_id                                                     |order_id|order_date|ship_date |order_priority|order_quantity|order_status|\n+------+----------------------------------------------------------------+--------+----------+----------+--------------+--------------+------------+\n|6592  |07de8c2693a047311aac3bb2e1a7bf301d9e290b04431926048d92a40e3bbfd0|46916   |2011-10-03|2011-10-05|High          |40            |Completed   |\n|6593  |07de8c2693a047311aac3bb2e1a7bf301d9e290b04431926048d92a40e3bbfd0|46916   |2011-10-03|2011-10-05|High          |40            |Completed   |\n|6594  |07de8c2693a047311aac3bb2e1a7bf301d9e290b04431926048d92a40e3bbfd0|46916   |2011-10-03|2011-10-05|High          |40            |Completed   |\n+------+----------------------------------------------------------------+--------+----------+----------+--------------+--------------+------------+\n\n"
     ]
    }
   ],
   "source": [
    "orders_df.filter(\"order_id = '46916'\").show(truncate=False)"
   ]
  },
  {
   "cell_type": "code",
   "execution_count": 0,
   "metadata": {
    "application/vnd.databricks.v1+cell": {
     "cellMetadata": {
      "byteLimit": 2048000,
      "rowLimit": 10000
     },
     "inputWidgets": {},
     "nuid": "e5cac305-805e-43e7-9417-766c42454f09",
     "showTitle": false,
     "title": ""
    }
   },
   "outputs": [
    {
     "output_type": "stream",
     "name": "stdout",
     "output_type": "stream",
     "text": [
      "+------+----------------------------------------------------------------+--------+----------+----------+--------------+--------------+------------+\n|row_id|customer_id                                                     |order_id|order_date|ship_date |order_priority|order_quantity|order_status|\n+------+----------------------------------------------------------------+--------+----------+----------+--------------+--------------+------------+\n|8399  |509e60618cef2ad50eda723bf33957832ecbce73b78cf2d067e6e1ea6ae450ea|59973   |2011-11-15|2011-11-19|Low           |30            |Completed   |\n+------+----------------------------------------------------------------+--------+----------+----------+--------------+--------------+------------+\n\n"
     ]
    }
   ],
   "source": [
    "orders_df.orderBy(\"row_id\",ascending=False).limit(1).show(truncate=False)"
   ]
  },
  {
   "cell_type": "code",
   "execution_count": 0,
   "metadata": {
    "application/vnd.databricks.v1+cell": {
     "cellMetadata": {
      "byteLimit": 2048000,
      "rowLimit": 10000
     },
     "inputWidgets": {},
     "nuid": "867af545-af9c-4690-a072-de8128ac953f",
     "showTitle": false,
     "title": ""
    }
   },
   "outputs": [
    {
     "output_type": "stream",
     "name": "stdout",
     "output_type": "stream",
     "text": [
      "max row id :  8399\n"
     ]
    }
   ],
   "source": [
    "max_row_id = orders_df.agg({\"row_id\": \"max\"}).collect()[0][0]\n",
    "#orders_df.select(max(\"row_id\")).collect()[0][0]\n",
    "print(\"max row id : \",max_row_id)"
   ]
  },
  {
   "cell_type": "code",
   "execution_count": 0,
   "metadata": {
    "application/vnd.databricks.v1+cell": {
     "cellMetadata": {
      "byteLimit": 2048000,
      "rowLimit": 10000
     },
     "inputWidgets": {},
     "nuid": "bb4a68dc-62d1-4f1d-a719-23b37f36c764",
     "showTitle": false,
     "title": ""
    }
   },
   "outputs": [
    {
     "output_type": "stream",
     "name": "stdout",
     "output_type": "stream",
     "text": [
      "max order id :  59973\n"
     ]
    }
   ],
   "source": [
    "max_order_id = orders_df.agg({\"order_id\": \"max\"}).collect()[0][0]\n",
    "#orders_df.select(max(\"row_id\")).collect()[0][0]\n",
    "print(\"max order id : \",max_order_id)"
   ]
  },
  {
   "cell_type": "code",
   "execution_count": 0,
   "metadata": {
    "application/vnd.databricks.v1+cell": {
     "cellMetadata": {
      "byteLimit": 2048000,
      "rowLimit": 10000
     },
     "inputWidgets": {},
     "nuid": "244ce690-5815-4f55-9798-66e33235b638",
     "showTitle": false,
     "title": ""
    }
   },
   "outputs": [
    {
     "output_type": "stream",
     "name": "stdout",
     "output_type": "stream",
     "text": [
      "root\n |-- row_id: long (nullable = true)\n |-- customer_id: string (nullable = true)\n |-- order_id: long (nullable = true)\n |-- order_date: date (nullable = true)\n |-- ship_date: date (nullable = true)\n |-- order_priority: string (nullable = true)\n |-- order_quantity: long (nullable = true)\n |-- order_status: string (nullable = false)\n\n"
     ]
    }
   ],
   "source": [
    "orders_df.printSchema()"
   ]
  },
  {
   "cell_type": "code",
   "execution_count": 0,
   "metadata": {
    "application/vnd.databricks.v1+cell": {
     "cellMetadata": {
      "byteLimit": 2048000,
      "rowLimit": 10000
     },
     "inputWidgets": {},
     "nuid": "57b45fe5-d013-4a4d-9c78-b0555d52894c",
     "showTitle": false,
     "title": ""
    }
   },
   "outputs": [
    {
     "output_type": "stream",
     "name": "stdout",
     "output_type": "stream",
     "text": [
      "+------+----------------------------------------------------------------+--------+----------+----------+--------------+--------------+------------+\n|row_id|customer_id                                                     |order_id|order_date|ship_date |order_priority|order_quantity|order_status|\n+------+----------------------------------------------------------------+--------+----------+----------+--------------+--------------+------------+\n|6592  |07de8c2693a047311aac3bb2e1a7bf301d9e290b04431926048d92a40e3bbfd0|46916   |2011-10-03|2011-10-05|High          |40            |Completed   |\n|6593  |07de8c2693a047311aac3bb2e1a7bf301d9e290b04431926048d92a40e3bbfd0|46916   |2011-10-03|2011-10-05|High          |40            |Completed   |\n|6594  |07de8c2693a047311aac3bb2e1a7bf301d9e290b04431926048d92a40e3bbfd0|46916   |2011-10-03|2011-10-05|High          |40            |Completed   |\n+------+----------------------------------------------------------------+--------+----------+----------+--------------+--------------+------------+\n\n"
     ]
    }
   ],
   "source": [
    "orders_df.filter(\"order_id = '46916'\").show(truncate=False)"
   ]
  },
  {
   "cell_type": "code",
   "execution_count": 0,
   "metadata": {
    "application/vnd.databricks.v1+cell": {
     "cellMetadata": {
      "byteLimit": 2048000,
      "rowLimit": 10000
     },
     "inputWidgets": {},
     "nuid": "d17272c3-7a7b-44f4-bff0-f91344d0f3ba",
     "showTitle": false,
     "title": ""
    }
   },
   "outputs": [
    {
     "output_type": "stream",
     "name": "stdout",
     "output_type": "stream",
     "text": [
      "+------+-----------+--------+----------+---------+--------------+--------------+------------+\n|row_id|customer_id|order_id|order_date|ship_date|order_priority|order_quantity|order_status|\n+------+-----------+--------+----------+---------+--------------+--------------+------------+\n+------+-----------+--------+----------+---------+--------------+--------------+------------+\n\n"
     ]
    }
   ],
   "source": [
    "orders_df.filter(\"customer_id = '1312e8749bdc3800d2514d8ae53c10b8cbe3a9e4355de5db35f746c510c4603e'\").show(truncate=False)"
   ]
  },
  {
   "cell_type": "code",
   "execution_count": 0,
   "metadata": {
    "application/vnd.databricks.v1+cell": {
     "cellMetadata": {
      "byteLimit": 2048000,
      "rowLimit": 10000
     },
     "inputWidgets": {},
     "nuid": "e2b5ec6d-2723-47e9-a53d-4ba89ae082c9",
     "showTitle": false,
     "title": ""
    }
   },
   "outputs": [],
   "source": [
    "new_orders_data = [\n",
    "    (8400, \"07de8c2693a047311aac3bb2e1a7bf301d9e290b04431926048d92a40e3bbfd1\", 59974, \"High\", 30),\n",
    "    (8401, \"1212e8749bdc3800d2514d8ae53c10b8cbe3a9e4355de5db35f746c510c4603f\", 59975, \"Low\", 10),\n",
    "    (8402, \"1212e8749bdc3800d2514d8ae53c10b8cbe3a9e4355de5db35f746c510c4603f\", 59975, \"Low\", 10)\n",
    "]\n",
    "\n",
    "# Create DataFrame for new order data\n",
    "new_orders_df = spark.createDataFrame(new_orders_data, [\"row_id\", \"customer_id\", \"order_id\", \"order_priority\", \"order_quantity\" ])"
   ]
  },
  {
   "cell_type": "code",
   "execution_count": 0,
   "metadata": {
    "application/vnd.databricks.v1+cell": {
     "cellMetadata": {
      "byteLimit": 2048000,
      "rowLimit": 10000
     },
     "inputWidgets": {},
     "nuid": "1109f959-2c0b-451b-a8ee-8688e2f789f5",
     "showTitle": false,
     "title": ""
    }
   },
   "outputs": [],
   "source": [
    "#insert records\n",
    "insert_records = new_orders_df.join(orders_df, ['row_id'], 'left_anti')"
   ]
  },
  {
   "cell_type": "code",
   "execution_count": 0,
   "metadata": {
    "application/vnd.databricks.v1+cell": {
     "cellMetadata": {
      "byteLimit": 2048000,
      "rowLimit": 10000
     },
     "inputWidgets": {},
     "nuid": "c0c79603-4c58-4337-8a45-a440efca2ffa",
     "showTitle": false,
     "title": ""
    }
   },
   "outputs": [
    {
     "output_type": "stream",
     "name": "stdout",
     "output_type": "stream",
     "text": [
      "+------+----------------------------------------------------------------+--------+--------------+--------------+\n|row_id|customer_id                                                     |order_id|order_priority|order_quantity|\n+------+----------------------------------------------------------------+--------+--------------+--------------+\n|8400  |07de8c2693a047311aac3bb2e1a7bf301d9e290b04431926048d92a40e3bbfd1|59974   |High          |30            |\n|8401  |1212e8749bdc3800d2514d8ae53c10b8cbe3a9e4355de5db35f746c510c4603f|59975   |Low           |10            |\n|8402  |1212e8749bdc3800d2514d8ae53c10b8cbe3a9e4355de5db35f746c510c4603f|59975   |Low           |10            |\n+------+----------------------------------------------------------------+--------+--------------+--------------+\n\n"
     ]
    }
   ],
   "source": [
    "insert_records.show(truncate=False)"
   ]
  },
  {
   "cell_type": "code",
   "execution_count": 0,
   "metadata": {
    "application/vnd.databricks.v1+cell": {
     "cellMetadata": {
      "byteLimit": 2048000,
      "rowLimit": 10000
     },
     "inputWidgets": {},
     "nuid": "db633323-d9c1-4084-bc7b-5878686b9650",
     "showTitle": false,
     "title": ""
    }
   },
   "outputs": [],
   "source": [
    "insert_records = insert_records.withColumn(\"order_date\", current_date()-1) \\\n",
    "    .withColumn(\"ship_date\", lit(None)) \\\n",
    "    .withColumn(\"order_status\", lit(\"In Progress\"))"
   ]
  },
  {
   "cell_type": "code",
   "execution_count": 0,
   "metadata": {
    "application/vnd.databricks.v1+cell": {
     "cellMetadata": {
      "byteLimit": 2048000,
      "rowLimit": 10000
     },
     "inputWidgets": {},
     "nuid": "2d902ef4-dc53-423f-8d42-6846fe942c46",
     "showTitle": false,
     "title": ""
    }
   },
   "outputs": [
    {
     "output_type": "stream",
     "name": "stdout",
     "output_type": "stream",
     "text": [
      "+------+----------------------------------------------------------------+--------+----------+---------+--------------+--------------+------------+\n|row_id|customer_id                                                     |order_id|order_date|ship_date|order_priority|order_quantity|order_status|\n+------+----------------------------------------------------------------+--------+----------+---------+--------------+--------------+------------+\n|8400  |07de8c2693a047311aac3bb2e1a7bf301d9e290b04431926048d92a40e3bbfd1|59974   |2024-05-03|null     |High          |30            |In Progress |\n|8401  |1212e8749bdc3800d2514d8ae53c10b8cbe3a9e4355de5db35f746c510c4603f|59975   |2024-05-03|null     |Low           |10            |In Progress |\n|8402  |1212e8749bdc3800d2514d8ae53c10b8cbe3a9e4355de5db35f746c510c4603f|59975   |2024-05-03|null     |Low           |10            |In Progress |\n+------+----------------------------------------------------------------+--------+----------+---------+--------------+--------------+------------+\n\n"
     ]
    }
   ],
   "source": [
    "insert_records = insert_records.select('row_id','customer_id', 'order_id', 'order_date', 'ship_date', 'order_priority', 'order_quantity','order_status')\n",
    "insert_records.show(truncate=False)"
   ]
  },
  {
   "cell_type": "code",
   "execution_count": 0,
   "metadata": {
    "application/vnd.databricks.v1+cell": {
     "cellMetadata": {
      "byteLimit": 2048000,
      "rowLimit": 10000
     },
     "inputWidgets": {},
     "nuid": "aad56bb9-6a20-4a6a-9179-fce2ad745467",
     "showTitle": false,
     "title": ""
    }
   },
   "outputs": [],
   "source": [
    "full_run = 1 # 1 for full run and 0 for incremental run "
   ]
  },
  {
   "cell_type": "code",
   "execution_count": 0,
   "metadata": {
    "application/vnd.databricks.v1+cell": {
     "cellMetadata": {
      "byteLimit": 2048000,
      "rowLimit": 10000
     },
     "inputWidgets": {},
     "nuid": "18a1108b-88f9-4e7d-927f-db8d6f8bbdd6",
     "showTitle": false,
     "title": ""
    }
   },
   "outputs": [],
   "source": [
    "order_details_instance = \"sales.orders_details\" "
   ]
  },
  {
   "cell_type": "code",
   "execution_count": 0,
   "metadata": {
    "application/vnd.databricks.v1+cell": {
     "cellMetadata": {
      "byteLimit": 2048000,
      "rowLimit": 10000
     },
     "inputWidgets": {},
     "nuid": "13da727f-2de5-4b69-9786-dc13e9813bdd",
     "showTitle": false,
     "title": ""
    }
   },
   "outputs": [],
   "source": [
    "if full_run == 0:  #incremental run for updates -- only In progress records will be updated either to Completed or Cancelled\n",
    "    results_df = spark.read.format(\"delta\").table(order_details_instance).filter(\"order_status = 'In Progress'\")"
   ]
  },
  {
   "cell_type": "code",
   "execution_count": 0,
   "metadata": {
    "application/vnd.databricks.v1+cell": {
     "cellMetadata": {
      "byteLimit": 2048000,
      "rowLimit": 10000
     },
     "inputWidgets": {},
     "nuid": "4927583e-bca6-4214-8038-e9c710048134",
     "showTitle": false,
     "title": ""
    }
   },
   "outputs": [
    {
     "output_type": "stream",
     "name": "stdout",
     "output_type": "stream",
     "text": [
      "8402\n"
     ]
    }
   ],
   "source": [
    "if full_run == 1:\n",
    "    orders_df = orders_df.unionByName(insert_records)\n",
    "    print(orders_df.count())\n",
    "else:\n",
    "    results_df = results_df.unionByName(insert_records)\n",
    "    print(results_df.count())"
   ]
  },
  {
   "cell_type": "code",
   "execution_count": 0,
   "metadata": {
    "application/vnd.databricks.v1+cell": {
     "cellMetadata": {
      "byteLimit": 2048000,
      "rowLimit": 10000
     },
     "inputWidgets": {},
     "nuid": "81ed0a73-8aae-4389-b326-ebb20583f710",
     "showTitle": false,
     "title": ""
    }
   },
   "outputs": [
    {
     "output_type": "stream",
     "name": "stdout",
     "output_type": "stream",
     "text": [
      "+------+----------------------------------------------------------------+--------+----------+----------+--------------+--------------+------------+\n|row_id|customer_id                                                     |order_id|order_date|ship_date |order_priority|order_quantity|order_status|\n+------+----------------------------------------------------------------+--------+----------+----------+--------------+--------------+------------+\n|2533  |001492ac094ba3c986a45e7799a0409db64ed3c856e39cf16854012aa468fa01|18374   |2012-09-30|2012-10-02|Low           |21            |Completed   |\n|8400  |07de8c2693a047311aac3bb2e1a7bf301d9e290b04431926048d92a40e3bbfd1|59974   |2024-05-03|null      |High          |30            |In Progress |\n+------+----------------------------------------------------------------+--------+----------+----------+--------------+--------------+------------+\n\n"
     ]
    }
   ],
   "source": [
    "orders_df.filter(\"row_id in ('2533','8400') \").show(truncate=False)"
   ]
  },
  {
   "cell_type": "code",
   "execution_count": 0,
   "metadata": {
    "application/vnd.databricks.v1+cell": {
     "cellMetadata": {
      "byteLimit": 2048000,
      "rowLimit": 10000
     },
     "inputWidgets": {},
     "nuid": "deec53a9-a21a-42cd-8ec4-3afdd86074d9",
     "showTitle": false,
     "title": ""
    }
   },
   "outputs": [
    {
     "output_type": "stream",
     "name": "stdout",
     "output_type": "stream",
     "text": [
      "max row id :  8402\nmax order id :  59975\n"
     ]
    }
   ],
   "source": [
    "if full_run == 1:\n",
    "    max_row_id = orders_df.agg({\"row_id\": \"max\"}).collect()[0][0]\n",
    "    #orders_df.select(max(\"row_id\")).collect()[0][0]\n",
    "    print(\"max row id : \",max_row_id)\n",
    "\n",
    "    max_order_id = orders_df.agg({\"order_id\": \"max\"}).collect()[0][0]\n",
    "    #orders_df.select(max(\"row_id\")).collect()[0][0]\n",
    "    print(\"max order id : \",max_order_id)\n",
    "\n",
    "else:\n",
    "    max_row_id = spark.sql(\"SELECT MAX(row_id) FROM sales.orders_details\").collect()[0][0]\n",
    "    #orders_df.select(max(\"row_id\")).collect()[0][0]\n",
    "    print(\"max row id : \",max_row_id)\n",
    "\n",
    "    max_order_id = spark.sql(\"SELECT MAX(order_id) FROM sales.orders_details\").collect()[0][0]\n",
    "    #orders_df.select(max(\"row_id\")).collect()[0][0]\n",
    "    print(\"max order id : \",max_order_id)"
   ]
  },
  {
   "cell_type": "code",
   "execution_count": 0,
   "metadata": {
    "application/vnd.databricks.v1+cell": {
     "cellMetadata": {
      "byteLimit": 2048000,
      "rowLimit": 10000
     },
     "inputWidgets": {},
     "nuid": "36a3dc67-a542-4c95-a54c-b8ceedee1443",
     "showTitle": false,
     "title": ""
    }
   },
   "outputs": [],
   "source": [
    "schema = StructType([\n",
    "    StructField(\"row_id\", IntegerType(), True),  \n",
    "    StructField(\"customer_id\", StringType(), True), \n",
    "    StructField(\"order_id\", IntegerType(), True), \n",
    "    StructField(\"order_date\", StringType(), True), \n",
    "    StructField(\"ship_date\", StringType(), True), \n",
    "    StructField(\"order_priority\", StringType(), True), \n",
    "    StructField(\"order_quantity\", IntegerType(), True) ,\n",
    "    StructField(\"order_status\", StringType(), True) \n",
    "])\n",
    "new_orders_data = [\n",
    "    (8400,\"07de8c2693a047311aac3bb2e1a7bf301d9e290b04431926048d92a40e3bbfd1\", 59974 ,   '2024-04-28',  '2024-04-30', \"High\", 30, None),\n",
    "    (8401,\"1212e8749bdc3800d2514d8ae53c10b8cbe3a9e4355de5db35f746c510c4603f\", 59975 ,   '2024-04-30', None,         \"Low\", 10,None),\n",
    "    (8402,\"1212e8749bdc3800d2514d8ae53c10b8cbe3a9e4355de5db35f746c510c4603f\", 59975 ,   '2024-04-30', None,         \"Low\", 10,None),\n",
    "    (None,\"07de8c2693a047311aac3bb2e1a7bf301d9e290b04431926048d92a40e3bbfd2\", None,    None,        None,         \"Medium\",20,None),\n",
    "    (None,\"07de8c2693a047311aac3bb2e1a7bf301d9e290b04431926048d92a40e3bbfd3\", None,    None,        None,         \"Critical\",60,None),\n",
    "    (None,\"07de8c2693a047311aac3bb2e1a7bf301d9e290b04431926048d92a40e3bbfd4\", None,    None,        None,         \"Low\", 20,None),\n",
    "    (None,\"07de8c2693a047311aac3bb2e1a7bf301d9e290b04431926048d92a40e3bbfd5\", None,    None,        None,         \"High\", 50,None),\n",
    "    (None,\"07de8c2693a047311aac3bb2e1a7bf301d9e290b04431926048d92a40e3bbfd6\", None,    None,        None,         \"High\", 60,None),\n",
    "    (None,\"07de8c2693a047311aac3bb2e1a7bf301d9e290b04431926048d92a40e3bbfd6\", None,    None,        None,         \"Low\", 20,None)\n",
    "]\n",
    "\n",
    "# Create DataFrame for new order data\n",
    "new_orders_df = spark.createDataFrame(new_orders_data,schema).withColumn(\"order_date\", to_date(\"order_date\")).withColumn(\"ship_date\", to_date(\"ship_date\"))\n"
   ]
  },
  {
   "cell_type": "code",
   "execution_count": 0,
   "metadata": {
    "application/vnd.databricks.v1+cell": {
     "cellMetadata": {
      "byteLimit": 2048000,
      "rowLimit": 10000
     },
     "inputWidgets": {},
     "nuid": "2a42ab68-bce5-447b-82f9-4063074ceb4f",
     "showTitle": false,
     "title": ""
    }
   },
   "outputs": [
    {
     "output_type": "stream",
     "name": "stdout",
     "output_type": "stream",
     "text": [
      "+------+----------------------------------------------------------------+--------+----------+----------+--------------+--------------+------------+\n|row_id|customer_id                                                     |order_id|order_date|ship_date |order_priority|order_quantity|order_status|\n+------+----------------------------------------------------------------+--------+----------+----------+--------------+--------------+------------+\n|8400  |07de8c2693a047311aac3bb2e1a7bf301d9e290b04431926048d92a40e3bbfd1|59974   |2024-04-28|2024-04-30|High          |30            |null        |\n|8401  |1212e8749bdc3800d2514d8ae53c10b8cbe3a9e4355de5db35f746c510c4603f|59975   |2024-04-30|null      |Low           |10            |null        |\n|8402  |1212e8749bdc3800d2514d8ae53c10b8cbe3a9e4355de5db35f746c510c4603f|59975   |2024-04-30|null      |Low           |10            |null        |\n|null  |07de8c2693a047311aac3bb2e1a7bf301d9e290b04431926048d92a40e3bbfd2|null    |null      |null      |Medium        |20            |null        |\n|null  |07de8c2693a047311aac3bb2e1a7bf301d9e290b04431926048d92a40e3bbfd3|null    |null      |null      |Critical      |60            |null        |\n|null  |07de8c2693a047311aac3bb2e1a7bf301d9e290b04431926048d92a40e3bbfd4|null    |null      |null      |Low           |20            |null        |\n|null  |07de8c2693a047311aac3bb2e1a7bf301d9e290b04431926048d92a40e3bbfd5|null    |null      |null      |High          |50            |null        |\n|null  |07de8c2693a047311aac3bb2e1a7bf301d9e290b04431926048d92a40e3bbfd6|null    |null      |null      |High          |60            |null        |\n|null  |07de8c2693a047311aac3bb2e1a7bf301d9e290b04431926048d92a40e3bbfd6|null    |null      |null      |Low           |20            |null        |\n+------+----------------------------------------------------------------+--------+----------+----------+--------------+--------------+------------+\n\n"
     ]
    }
   ],
   "source": [
    "new_orders_df.show(truncate=False)"
   ]
  },
  {
   "cell_type": "code",
   "execution_count": 0,
   "metadata": {
    "application/vnd.databricks.v1+cell": {
     "cellMetadata": {
      "byteLimit": 2048000,
      "rowLimit": 10000
     },
     "inputWidgets": {},
     "nuid": "ded4331c-ca23-4405-8d15-e2cae86ff76a",
     "showTitle": false,
     "title": ""
    }
   },
   "outputs": [],
   "source": [
    "if full_run == 1:\n",
    "    insert_records = new_orders_df.join(orders_df, ['row_id'], 'left_anti')\n",
    "else:\n",
    "    insert_records = new_orders_df.join(results_df, ['row_id'], 'left_anti')"
   ]
  },
  {
   "cell_type": "code",
   "execution_count": 0,
   "metadata": {
    "application/vnd.databricks.v1+cell": {
     "cellMetadata": {
      "byteLimit": 2048000,
      "rowLimit": 10000
     },
     "inputWidgets": {},
     "nuid": "f5e65ec6-70d9-4821-b969-8d11c327a399",
     "showTitle": false,
     "title": ""
    }
   },
   "outputs": [
    {
     "output_type": "stream",
     "name": "stdout",
     "output_type": "stream",
     "text": [
      "+------+----------------------------------------------------------------+--------+----------+---------+--------------+--------------+------------+\n|row_id|customer_id                                                     |order_id|order_date|ship_date|order_priority|order_quantity|order_status|\n+------+----------------------------------------------------------------+--------+----------+---------+--------------+--------------+------------+\n|null  |07de8c2693a047311aac3bb2e1a7bf301d9e290b04431926048d92a40e3bbfd2|null    |null      |null     |Medium        |20            |null        |\n|null  |07de8c2693a047311aac3bb2e1a7bf301d9e290b04431926048d92a40e3bbfd3|null    |null      |null     |Critical      |60            |null        |\n|null  |07de8c2693a047311aac3bb2e1a7bf301d9e290b04431926048d92a40e3bbfd4|null    |null      |null     |Low           |20            |null        |\n|null  |07de8c2693a047311aac3bb2e1a7bf301d9e290b04431926048d92a40e3bbfd5|null    |null      |null     |High          |50            |null        |\n|null  |07de8c2693a047311aac3bb2e1a7bf301d9e290b04431926048d92a40e3bbfd6|null    |null      |null     |High          |60            |null        |\n|null  |07de8c2693a047311aac3bb2e1a7bf301d9e290b04431926048d92a40e3bbfd6|null    |null      |null     |Low           |20            |null        |\n+------+----------------------------------------------------------------+--------+----------+---------+--------------+--------------+------------+\n\n"
     ]
    }
   ],
   "source": [
    "insert_records.show(truncate=False)"
   ]
  },
  {
   "cell_type": "code",
   "execution_count": 0,
   "metadata": {
    "application/vnd.databricks.v1+cell": {
     "cellMetadata": {
      "byteLimit": 2048000,
      "rowLimit": 10000
     },
     "inputWidgets": {},
     "nuid": "576779af-28d2-4002-9578-b147b71bacb1",
     "showTitle": false,
     "title": ""
    }
   },
   "outputs": [],
   "source": [
    "#row_id should be unique to each row whereas order_id shoud be same when customer_id is same for that particular day i,e, order_date\n",
    "windowSpec = Window.orderBy(lit(1))\n",
    "windowSpec1 = Window.orderBy(\"customer_id\")"
   ]
  },
  {
   "cell_type": "code",
   "execution_count": 0,
   "metadata": {
    "application/vnd.databricks.v1+cell": {
     "cellMetadata": {
      "byteLimit": 2048000,
      "rowLimit": 10000
     },
     "inputWidgets": {},
     "nuid": "3c0eeb7d-753d-467d-80e0-019e932b3807",
     "showTitle": false,
     "title": ""
    }
   },
   "outputs": [],
   "source": [
    "insert_records = insert_records.withColumn(\"row_id\", max_row_id + row_number().over(windowSpec)) \\\n",
    "    .withColumn(\"customer_id_prev\", lag(\"customer_id\").over(windowSpec)) \\\n",
    "    .withColumn(\"order_date\", current_date()-1) \\\n",
    "    .withColumn(\"ship_date\", lit(None)) \\\n",
    "    .withColumn(\"order_status\", lit(\"In Progress\"))"
   ]
  },
  {
   "cell_type": "code",
   "execution_count": 0,
   "metadata": {
    "application/vnd.databricks.v1+cell": {
     "cellMetadata": {
      "byteLimit": 2048000,
      "rowLimit": 10000
     },
     "inputWidgets": {},
     "nuid": "2d487cfb-7d72-415f-8b5a-30dc9ac0236f",
     "showTitle": false,
     "title": ""
    }
   },
   "outputs": [],
   "source": [
    "insert_records = insert_records.withColumn(\"order_id_inc\", when((col(\"customer_id_prev\").isNull()) | (insert_records[\"customer_id\"] != insert_records[\"customer_id_prev\"]), 1).otherwise(0)) \\\n",
    "    .withColumn(\"order_id_offset\", sum(\"order_id_inc\").over(windowSpec1)) \\\n",
    "    .withColumn(\"order_id\", max_order_id + col(\"order_id_offset\")) "
   ]
  },
  {
   "cell_type": "code",
   "execution_count": 0,
   "metadata": {
    "application/vnd.databricks.v1+cell": {
     "cellMetadata": {
      "byteLimit": 2048000,
      "rowLimit": 10000
     },
     "inputWidgets": {},
     "nuid": "d1b01cee-988e-42e1-8daa-51f89eb69fe3",
     "showTitle": false,
     "title": ""
    }
   },
   "outputs": [
    {
     "output_type": "stream",
     "name": "stdout",
     "output_type": "stream",
     "text": [
      "+------+----------------------------------------------------------------+--------+----------+---------+--------------+--------------+------------+----------------------------------------------------------------+------------+---------------+\n|row_id|customer_id                                                     |order_id|order_date|ship_date|order_priority|order_quantity|order_status|customer_id_prev                                                |order_id_inc|order_id_offset|\n+------+----------------------------------------------------------------+--------+----------+---------+--------------+--------------+------------+----------------------------------------------------------------+------------+---------------+\n|8403  |07de8c2693a047311aac3bb2e1a7bf301d9e290b04431926048d92a40e3bbfd2|59976   |2024-05-03|null     |Medium        |20            |In Progress |null                                                            |1           |1              |\n|8404  |07de8c2693a047311aac3bb2e1a7bf301d9e290b04431926048d92a40e3bbfd3|59977   |2024-05-03|null     |Critical      |60            |In Progress |07de8c2693a047311aac3bb2e1a7bf301d9e290b04431926048d92a40e3bbfd2|1           |2              |\n|8405  |07de8c2693a047311aac3bb2e1a7bf301d9e290b04431926048d92a40e3bbfd4|59978   |2024-05-03|null     |Low           |20            |In Progress |07de8c2693a047311aac3bb2e1a7bf301d9e290b04431926048d92a40e3bbfd3|1           |3              |\n|8406  |07de8c2693a047311aac3bb2e1a7bf301d9e290b04431926048d92a40e3bbfd5|59979   |2024-05-03|null     |High          |50            |In Progress |07de8c2693a047311aac3bb2e1a7bf301d9e290b04431926048d92a40e3bbfd4|1           |4              |\n|8407  |07de8c2693a047311aac3bb2e1a7bf301d9e290b04431926048d92a40e3bbfd6|59980   |2024-05-03|null     |High          |60            |In Progress |07de8c2693a047311aac3bb2e1a7bf301d9e290b04431926048d92a40e3bbfd5|1           |5              |\n|8408  |07de8c2693a047311aac3bb2e1a7bf301d9e290b04431926048d92a40e3bbfd6|59980   |2024-05-03|null     |Low           |20            |In Progress |07de8c2693a047311aac3bb2e1a7bf301d9e290b04431926048d92a40e3bbfd6|0           |5              |\n+------+----------------------------------------------------------------+--------+----------+---------+--------------+--------------+------------+----------------------------------------------------------------+------------+---------------+\n\n"
     ]
    }
   ],
   "source": [
    "insert_records.show(truncate=False)"
   ]
  },
  {
   "cell_type": "code",
   "execution_count": 0,
   "metadata": {
    "application/vnd.databricks.v1+cell": {
     "cellMetadata": {
      "byteLimit": 2048000,
      "rowLimit": 10000
     },
     "inputWidgets": {},
     "nuid": "0167dbd1-acbf-48d6-8764-acac8b523a31",
     "showTitle": false,
     "title": ""
    }
   },
   "outputs": [],
   "source": [
    "insert_records = insert_records.select('row_id','customer_id', 'order_id', 'order_date', 'ship_date', 'order_priority', 'order_quantity','order_status')"
   ]
  },
  {
   "cell_type": "code",
   "execution_count": 0,
   "metadata": {
    "application/vnd.databricks.v1+cell": {
     "cellMetadata": {
      "byteLimit": 2048000,
      "rowLimit": 10000
     },
     "inputWidgets": {},
     "nuid": "2740d994-314f-4651-96ac-5d9346247bb8",
     "showTitle": false,
     "title": ""
    }
   },
   "outputs": [],
   "source": [
    "if full_run == 1:\n",
    "    update_records = new_orders_df.join(orders_df, ['row_id'], 'inner').filter(orders_df[\"order_status\"] == \"In Progress\").select(new_orders_df[\"row_id\"],orders_df[\"customer_id\"],orders_df[\"order_id\"],new_orders_df[\"order_date\"],new_orders_df[\"ship_date\"],orders_df[\"order_priority\"],orders_df[\"order_quantity\"],orders_df[\"order_status\"])\n",
    "else:\n",
    "    update_records = new_orders_df.join(results_df, ['row_id'], 'inner').select(new_orders_df[\"row_id\"],results_df[\"customer_id\"],results_df[\"order_id\"],new_orders_df[\"order_date\"],new_orders_df[\"ship_date\"],results_df[\"order_priority\"],results_df[\"order_quantity\"],results_df[\"order_status\"])"
   ]
  },
  {
   "cell_type": "code",
   "execution_count": 0,
   "metadata": {
    "application/vnd.databricks.v1+cell": {
     "cellMetadata": {
      "byteLimit": 2048000,
      "rowLimit": 10000
     },
     "inputWidgets": {},
     "nuid": "3d05ba3c-7458-49e0-ae15-9d1db9dbbb45",
     "showTitle": false,
     "title": ""
    }
   },
   "outputs": [],
   "source": [
    "update_records = update_records.withColumn(\"order_status\",\n",
    "                                            when((update_records[\"ship_date\"].isNull()) & (update_records[\"order_date\"] < current_date() - 4), \"Cancelled\") \\\n",
    "                                            .when((update_records[\"ship_date\"].isNull()) &  ((update_records[\"order_date\"] == current_date()) | (update_records[\"order_date\"] >= current_date() - 4)), \"In Progress\") \\\n",
    "                                            .otherwise(\"Completed\")\n",
    "                                            )"
   ]
  },
  {
   "cell_type": "code",
   "execution_count": 0,
   "metadata": {
    "application/vnd.databricks.v1+cell": {
     "cellMetadata": {
      "byteLimit": 2048000,
      "rowLimit": 10000
     },
     "inputWidgets": {},
     "nuid": "c59d45e1-3c75-4755-83a4-365d8c72c1f2",
     "showTitle": false,
     "title": ""
    }
   },
   "outputs": [
    {
     "output_type": "stream",
     "name": "stdout",
     "output_type": "stream",
     "text": [
      "+------+----------------------------------------------------------------+--------+----------+----------+--------------+--------------+------------+\n|row_id|customer_id                                                     |order_id|order_date|ship_date |order_priority|order_quantity|order_status|\n+------+----------------------------------------------------------------+--------+----------+----------+--------------+--------------+------------+\n|8400  |07de8c2693a047311aac3bb2e1a7bf301d9e290b04431926048d92a40e3bbfd1|59974   |2024-04-28|2024-04-30|High          |30            |Completed   |\n|8401  |1212e8749bdc3800d2514d8ae53c10b8cbe3a9e4355de5db35f746c510c4603f|59975   |2024-04-30|null      |Low           |10            |In Progress |\n|8402  |1212e8749bdc3800d2514d8ae53c10b8cbe3a9e4355de5db35f746c510c4603f|59975   |2024-04-30|null      |Low           |10            |In Progress |\n+------+----------------------------------------------------------------+--------+----------+----------+--------------+--------------+------------+\n\n"
     ]
    }
   ],
   "source": [
    "update_records.show(truncate=False)"
   ]
  },
  {
   "cell_type": "code",
   "execution_count": 0,
   "metadata": {
    "application/vnd.databricks.v1+cell": {
     "cellMetadata": {
      "byteLimit": 2048000,
      "rowLimit": 10000
     },
     "inputWidgets": {},
     "nuid": "eb344c79-0411-4cf9-ae8c-d3986b7d2231",
     "showTitle": false,
     "title": ""
    }
   },
   "outputs": [],
   "source": [
    "if full_run == 0:\n",
    "    results_df = results_df.join(update_records, on=\"row_id\", how=\"left_anti\") \\\n",
    "        .unionByName(insert_records) \\\n",
    "        .unionByName(update_records)\n",
    "    results_df.count()\n",
    "    results_df.createOrReplaceTempView(\"results_temp_vw\")"
   ]
  },
  {
   "cell_type": "code",
   "execution_count": 0,
   "metadata": {
    "application/vnd.databricks.v1+cell": {
     "cellMetadata": {
      "byteLimit": 2048000,
      "rowLimit": 10000
     },
     "inputWidgets": {},
     "nuid": "d2f1e218-fe26-4be1-9259-02612c6e7f15",
     "showTitle": false,
     "title": ""
    }
   },
   "outputs": [],
   "source": [
    "if full_run == 1:\n",
    "    orders_df = orders_df.join(update_records, on=\"row_id\", how=\"left_anti\") \\\n",
    "        .unionByName(insert_records) \\\n",
    "        .unionByName(update_records)\n",
    "    orders_df.count()\n",
    "else:\n",
    "    spark.sql(\"\"\"\n",
    "        MERGE INTO sales.orders_details\n",
    "        USING results_temp_vw\n",
    "        ON sales.orders_details.row_id = results_temp_vw.row_id\n",
    "        WHEN MATCHED THEN UPDATE SET *\n",
    "        WHEN NOT MATCHED THEN INSERT *\n",
    "    \"\"\")"
   ]
  },
  {
   "cell_type": "code",
   "execution_count": 0,
   "metadata": {
    "application/vnd.databricks.v1+cell": {
     "cellMetadata": {
      "byteLimit": 2048000,
      "rowLimit": 10000
     },
     "inputWidgets": {},
     "nuid": "5b9aa973-2fa1-4b90-90d5-523e4ff1dc6a",
     "showTitle": false,
     "title": ""
    }
   },
   "outputs": [
    {
     "output_type": "stream",
     "name": "stdout",
     "output_type": "stream",
     "text": [
      "+------+----------------------------------------------------------------+--------+----------+---------+--------------+--------------+------------+\n|row_id|customer_id                                                     |order_id|order_date|ship_date|order_priority|order_quantity|order_status|\n+------+----------------------------------------------------------------+--------+----------+---------+--------------+--------------+------------+\n|8403  |07de8c2693a047311aac3bb2e1a7bf301d9e290b04431926048d92a40e3bbfd2|59976   |2024-05-03|null     |Medium        |20            |In Progress |\n|8404  |07de8c2693a047311aac3bb2e1a7bf301d9e290b04431926048d92a40e3bbfd3|59977   |2024-05-03|null     |Critical      |60            |In Progress |\n|8405  |07de8c2693a047311aac3bb2e1a7bf301d9e290b04431926048d92a40e3bbfd4|59978   |2024-05-03|null     |Low           |20            |In Progress |\n|8406  |07de8c2693a047311aac3bb2e1a7bf301d9e290b04431926048d92a40e3bbfd5|59979   |2024-05-03|null     |High          |50            |In Progress |\n|8407  |07de8c2693a047311aac3bb2e1a7bf301d9e290b04431926048d92a40e3bbfd6|59980   |2024-05-03|null     |High          |60            |In Progress |\n|8408  |07de8c2693a047311aac3bb2e1a7bf301d9e290b04431926048d92a40e3bbfd6|59980   |2024-05-03|null     |Low           |20            |In Progress |\n|8401  |1212e8749bdc3800d2514d8ae53c10b8cbe3a9e4355de5db35f746c510c4603f|59975   |2024-04-30|null     |Low           |10            |In Progress |\n|8402  |1212e8749bdc3800d2514d8ae53c10b8cbe3a9e4355de5db35f746c510c4603f|59975   |2024-04-30|null     |Low           |10            |In Progress |\n+------+----------------------------------------------------------------+--------+----------+---------+--------------+--------------+------------+\n\n"
     ]
    }
   ],
   "source": [
    "orders_df.filter(\"order_status = 'In Progress'\").show(truncate=False)"
   ]
  },
  {
   "cell_type": "code",
   "execution_count": 0,
   "metadata": {
    "application/vnd.databricks.v1+cell": {
     "cellMetadata": {
      "byteLimit": 2048000,
      "rowLimit": 10000
     },
     "inputWidgets": {},
     "nuid": "b14c0996-6e66-44ad-8e4f-6e1897ee9b5f",
     "showTitle": false,
     "title": ""
    }
   },
   "outputs": [
    {
     "output_type": "stream",
     "name": "stdout",
     "output_type": "stream",
     "text": [
      "max row id :  8408\nmax order id :  59980\n"
     ]
    }
   ],
   "source": [
    "if full_run == 1:\n",
    "    max_row_id = orders_df.agg({\"row_id\": \"max\"}).collect()[0][0]\n",
    "    #orders_df.select(max(\"row_id\")).collect()[0][0]\n",
    "    print(\"max row id : \",max_row_id)\n",
    "\n",
    "    max_order_id = orders_df.agg({\"order_id\": \"max\"}).collect()[0][0]\n",
    "    #orders_df.select(max(\"row_id\")).collect()[0][0]\n",
    "    print(\"max order id : \",max_order_id)\n",
    "\n",
    "else:\n",
    "    max_row_id = spark.sql(\"SELECT MAX(row_id) FROM sales.orders_details\").collect()[0][0]\n",
    "    #orders_df.select(max(\"row_id\")).collect()[0][0]\n",
    "    print(\"max row id : \",max_row_id)\n",
    "\n",
    "    max_order_id = spark.sql(\"SELECT MAX(order_id) FROM sales.orders_details\").collect()[0][0]\n",
    "    #orders_df.select(max(\"row_id\")).collect()[0][0]\n",
    "    print(\"max order id : \",max_order_id)"
   ]
  },
  {
   "cell_type": "code",
   "execution_count": 0,
   "metadata": {
    "application/vnd.databricks.v1+cell": {
     "cellMetadata": {
      "byteLimit": 2048000,
      "rowLimit": 10000
     },
     "inputWidgets": {},
     "nuid": "0b474146-adc8-4daf-9bfc-b858cbe248e2",
     "showTitle": false,
     "title": ""
    }
   },
   "outputs": [],
   "source": [
    "schema = StructType([\n",
    "    StructField(\"row_id\", IntegerType(), True),  \n",
    "    StructField(\"customer_id\", StringType(), True), \n",
    "    StructField(\"order_id\", IntegerType(), True), \n",
    "    StructField(\"order_date\", StringType(), True), \n",
    "    StructField(\"ship_date\", StringType(), True), \n",
    "    StructField(\"order_priority\", StringType(), True), \n",
    "    StructField(\"order_quantity\", IntegerType(), True) ,\n",
    "    StructField(\"order_status\", StringType(), True) \n",
    "])\n",
    "new_orders_data = [\n",
    "    (8403,\"07de8c2693a047311aac3bb2e1a7bf301d9e290b04431926048d92a40e3bbfd2\", 59976,    '2024-04-30', '2024-05-01',  \"Medium\",20,None),\n",
    "    (8404,\"07de8c2693a047311aac3bb2e1a7bf301d9e290b04431926048d92a40e3bbfd3\", 59977,    '2024-04-30', '2024-05-01',  \"Critical\",60,None),\n",
    "    (8405,\"07de8c2693a047311aac3bb2e1a7bf301d9e290b04431926048d92a40e3bbfd4\", 59978,    '2024-04-30',  None,         \"Low\", 20,None),\n",
    "    (8406,\"07de8c2693a047311aac3bb2e1a7bf301d9e290b04431926048d92a40e3bbfd5\", 59979,    '2024-04-30',  None,         \"High\", 50,None),\n",
    "    (8407,\"07de8c2693a047311aac3bb2e1a7bf301d9e290b04431926048d92a40e3bbfd6\", 59980,    '2024-04-30',  None,         \"High\", 60,None),\n",
    "    (8408,\"07de8c2693a047311aac3bb2e1a7bf301d9e290b04431926048d92a40e3bbfd6\", 59980,    '2024-04-30',  '2024-05-01', \"Low\", 20,None),\n",
    "    (8409,\"07de8c2693a047311aac3bb2e1a7bf301d9e290b04431926048d92a40e3bbfd7\", 59981,    '2024-05-03',  None, \"Low\", 20,None),\n",
    "    (8410,\"07de8c2693a047311aac3bb2e1a7bf301d9e290b04431926048d92a40e3bbfd8\", 59982,    '2024-05-03',  None, \"Low\", 20,None),\n",
    "    (8411,\"07de8c2693a047311aac3bb2e1a7bf301d9e290b04431926048d92a40e3bbfd9\", 59983,    '2024-05-03',  '2024-05-04', \"Low\", 20,None),\n",
    "    (8412,\"07de8c2693a047311aac3bb2e1a7bf301d9e290b04431926048d92a40e3bbfd9\", 59983,    '2024-05-03',  '2024-05-04', \"Low\", 20,None)\n",
    "]\n",
    "\n",
    "# Create DataFrame for new order data\n",
    "new_orders_df = spark.createDataFrame(new_orders_data,schema).withColumn(\"order_date\", to_date(\"order_date\")).withColumn(\"ship_date\", to_date(\"ship_date\"))"
   ]
  },
  {
   "cell_type": "code",
   "execution_count": 0,
   "metadata": {
    "application/vnd.databricks.v1+cell": {
     "cellMetadata": {
      "byteLimit": 2048000,
      "rowLimit": 10000
     },
     "inputWidgets": {},
     "nuid": "29eef76c-49da-4773-bfbf-4f5147f22472",
     "showTitle": false,
     "title": ""
    }
   },
   "outputs": [
    {
     "output_type": "stream",
     "name": "stdout",
     "output_type": "stream",
     "text": [
      "+------+----------------------------------------------------------------+--------+----------+----------+--------------+--------------+------------+\n|row_id|customer_id                                                     |order_id|order_date|ship_date |order_priority|order_quantity|order_status|\n+------+----------------------------------------------------------------+--------+----------+----------+--------------+--------------+------------+\n|8403  |07de8c2693a047311aac3bb2e1a7bf301d9e290b04431926048d92a40e3bbfd2|59976   |2024-04-30|2024-05-01|Medium        |20            |null        |\n|8404  |07de8c2693a047311aac3bb2e1a7bf301d9e290b04431926048d92a40e3bbfd3|59977   |2024-04-30|2024-05-01|Critical      |60            |null        |\n|8405  |07de8c2693a047311aac3bb2e1a7bf301d9e290b04431926048d92a40e3bbfd4|59978   |2024-04-30|null      |Low           |20            |null        |\n|8406  |07de8c2693a047311aac3bb2e1a7bf301d9e290b04431926048d92a40e3bbfd5|59979   |2024-04-30|null      |High          |50            |null        |\n|8407  |07de8c2693a047311aac3bb2e1a7bf301d9e290b04431926048d92a40e3bbfd6|59980   |2024-04-30|null      |High          |60            |null        |\n|8408  |07de8c2693a047311aac3bb2e1a7bf301d9e290b04431926048d92a40e3bbfd6|59980   |2024-04-30|2024-05-01|Low           |20            |null        |\n|8409  |07de8c2693a047311aac3bb2e1a7bf301d9e290b04431926048d92a40e3bbfd7|59981   |2024-05-03|null      |Low           |20            |null        |\n|8410  |07de8c2693a047311aac3bb2e1a7bf301d9e290b04431926048d92a40e3bbfd8|59982   |2024-05-03|null      |Low           |20            |null        |\n|8411  |07de8c2693a047311aac3bb2e1a7bf301d9e290b04431926048d92a40e3bbfd9|59983   |2024-05-03|2024-05-04|Low           |20            |null        |\n|8412  |07de8c2693a047311aac3bb2e1a7bf301d9e290b04431926048d92a40e3bbfd9|59983   |2024-05-03|2024-05-04|Low           |20            |null        |\n+------+----------------------------------------------------------------+--------+----------+----------+--------------+--------------+------------+\n\n"
     ]
    }
   ],
   "source": [
    "new_orders_df.show(truncate=False)"
   ]
  },
  {
   "cell_type": "code",
   "execution_count": 0,
   "metadata": {
    "application/vnd.databricks.v1+cell": {
     "cellMetadata": {
      "byteLimit": 2048000,
      "rowLimit": 10000
     },
     "inputWidgets": {},
     "nuid": "344c2f02-ef72-47dc-93a2-6765ff59be9a",
     "showTitle": false,
     "title": ""
    }
   },
   "outputs": [],
   "source": [
    "if full_run == 1:\n",
    "    insert_records = new_orders_df.join(orders_df, ['row_id'], 'left_anti')\n",
    "else:\n",
    "    insert_records = new_orders_df.join(results_df, ['row_id'], 'left_anti')"
   ]
  },
  {
   "cell_type": "code",
   "execution_count": 0,
   "metadata": {
    "application/vnd.databricks.v1+cell": {
     "cellMetadata": {
      "byteLimit": 2048000,
      "rowLimit": 10000
     },
     "inputWidgets": {},
     "nuid": "9e388907-8d8d-4964-b1e6-a710e46ad53c",
     "showTitle": false,
     "title": ""
    }
   },
   "outputs": [
    {
     "output_type": "stream",
     "name": "stdout",
     "output_type": "stream",
     "text": [
      "+------+----------------------------------------------------------------+--------+----------+----------+--------------+--------------+------------+\n|row_id|customer_id                                                     |order_id|order_date|ship_date |order_priority|order_quantity|order_status|\n+------+----------------------------------------------------------------+--------+----------+----------+--------------+--------------+------------+\n|8409  |07de8c2693a047311aac3bb2e1a7bf301d9e290b04431926048d92a40e3bbfd7|59981   |2024-05-03|null      |Low           |20            |null        |\n|8410  |07de8c2693a047311aac3bb2e1a7bf301d9e290b04431926048d92a40e3bbfd8|59982   |2024-05-03|null      |Low           |20            |null        |\n|8411  |07de8c2693a047311aac3bb2e1a7bf301d9e290b04431926048d92a40e3bbfd9|59983   |2024-05-03|2024-05-04|Low           |20            |null        |\n|8412  |07de8c2693a047311aac3bb2e1a7bf301d9e290b04431926048d92a40e3bbfd9|59983   |2024-05-03|2024-05-04|Low           |20            |null        |\n+------+----------------------------------------------------------------+--------+----------+----------+--------------+--------------+------------+\n\n"
     ]
    }
   ],
   "source": [
    "insert_records.show(truncate=False)"
   ]
  },
  {
   "cell_type": "code",
   "execution_count": 0,
   "metadata": {
    "application/vnd.databricks.v1+cell": {
     "cellMetadata": {
      "byteLimit": 2048000,
      "rowLimit": 10000
     },
     "inputWidgets": {},
     "nuid": "a6ffa2ac-2576-407e-a583-99faa01ecf44",
     "showTitle": false,
     "title": ""
    }
   },
   "outputs": [],
   "source": [
    "windowSpec = Window.orderBy(lit(1))\n",
    "windowSpec1 = Window.orderBy(\"customer_id\")"
   ]
  },
  {
   "cell_type": "code",
   "execution_count": 0,
   "metadata": {
    "application/vnd.databricks.v1+cell": {
     "cellMetadata": {
      "byteLimit": 2048000,
      "rowLimit": 10000
     },
     "inputWidgets": {},
     "nuid": "073fb4d7-6196-42dc-9dad-2e9b05f586a0",
     "showTitle": false,
     "title": ""
    }
   },
   "outputs": [],
   "source": [
    "insert_records = insert_records.withColumn(\"row_id\", max_row_id + row_number().over(windowSpec)) \\\n",
    "    .withColumn(\"customer_id_prev\", lag(\"customer_id\").over(windowSpec)) \\\n",
    "    .withColumn(\"order_date\", current_date()-1) \\\n",
    "    .withColumn(\"ship_date\", lit(None)) \\\n",
    "    .withColumn(\"order_status\", lit(\"In Progress\"))"
   ]
  },
  {
   "cell_type": "code",
   "execution_count": 0,
   "metadata": {
    "application/vnd.databricks.v1+cell": {
     "cellMetadata": {
      "byteLimit": 2048000,
      "rowLimit": 10000
     },
     "inputWidgets": {},
     "nuid": "51702013-2bcf-492c-b8e5-789072ba502e",
     "showTitle": false,
     "title": ""
    }
   },
   "outputs": [],
   "source": [
    "insert_records = insert_records.withColumn(\"order_id_inc\", when((col(\"customer_id_prev\").isNull()) | (insert_records[\"customer_id\"] != insert_records[\"customer_id_prev\"]), 1).otherwise(0)) \\\n",
    "    .withColumn(\"order_id_offset\", sum(\"order_id_inc\").over(windowSpec1)) \\\n",
    "    .withColumn(\"order_id\", max_order_id + col(\"order_id_offset\")) \n",
    "\n",
    "insert_records = insert_records.select('row_id','customer_id', 'order_id', 'order_date', 'ship_date', 'order_priority', 'order_quantity','order_status')"
   ]
  },
  {
   "cell_type": "code",
   "execution_count": 0,
   "metadata": {
    "application/vnd.databricks.v1+cell": {
     "cellMetadata": {
      "byteLimit": 2048000,
      "rowLimit": 10000
     },
     "inputWidgets": {},
     "nuid": "d997de11-6ff4-4eda-94fa-8b6f2befae5a",
     "showTitle": false,
     "title": ""
    }
   },
   "outputs": [
    {
     "output_type": "stream",
     "name": "stdout",
     "output_type": "stream",
     "text": [
      "+------+----------------------------------------------------------------+--------+----------+----------+--------------+--------------+------------+\n|row_id|customer_id                                                     |order_id|order_date|ship_date |order_priority|order_quantity|order_status|\n+------+----------------------------------------------------------------+--------+----------+----------+--------------+--------------+------------+\n|8400  |07de8c2693a047311aac3bb2e1a7bf301d9e290b04431926048d92a40e3bbfd1|59974   |2024-04-28|2024-04-30|High          |30            |Completed   |\n+------+----------------------------------------------------------------+--------+----------+----------+--------------+--------------+------------+\n\n"
     ]
    }
   ],
   "source": [
    "orders_df.filter(\"row_id = '8400'\").show(truncate=False)"
   ]
  },
  {
   "cell_type": "code",
   "execution_count": 0,
   "metadata": {
    "application/vnd.databricks.v1+cell": {
     "cellMetadata": {
      "byteLimit": 2048000,
      "rowLimit": 10000
     },
     "inputWidgets": {},
     "nuid": "4e2f62b1-4ba8-4cec-ba36-bc04e3183437",
     "showTitle": false,
     "title": ""
    }
   },
   "outputs": [
    {
     "output_type": "stream",
     "name": "stdout",
     "output_type": "stream",
     "text": [
      "root\n |-- row_id: long (nullable = true)\n |-- customer_id: string (nullable = true)\n |-- order_id: long (nullable = true)\n |-- order_date: date (nullable = true)\n |-- ship_date: date (nullable = true)\n |-- order_priority: string (nullable = true)\n |-- order_quantity: long (nullable = true)\n |-- order_status: string (nullable = false)\n\n"
     ]
    }
   ],
   "source": [
    "orders_df.printSchema()"
   ]
  },
  {
   "cell_type": "code",
   "execution_count": 0,
   "metadata": {
    "application/vnd.databricks.v1+cell": {
     "cellMetadata": {
      "byteLimit": 2048000,
      "rowLimit": 10000
     },
     "inputWidgets": {},
     "nuid": "fe536b84-5f6d-4b06-9e6a-9e35ae2363f1",
     "showTitle": false,
     "title": ""
    }
   },
   "outputs": [
    {
     "output_type": "stream",
     "name": "stdout",
     "output_type": "stream",
     "text": [
      "+------+----------------------------------------------------------------+--------+----------+---------+--------------+--------------+------------+\n|row_id|customer_id                                                     |order_id|order_date|ship_date|order_priority|order_quantity|order_status|\n+------+----------------------------------------------------------------+--------+----------+---------+--------------+--------------+------------+\n|8409  |07de8c2693a047311aac3bb2e1a7bf301d9e290b04431926048d92a40e3bbfd7|59981   |2024-05-03|null     |Low           |20            |In Progress |\n|8410  |07de8c2693a047311aac3bb2e1a7bf301d9e290b04431926048d92a40e3bbfd8|59982   |2024-05-03|null     |Low           |20            |In Progress |\n|8411  |07de8c2693a047311aac3bb2e1a7bf301d9e290b04431926048d92a40e3bbfd9|59983   |2024-05-03|null     |Low           |20            |In Progress |\n|8412  |07de8c2693a047311aac3bb2e1a7bf301d9e290b04431926048d92a40e3bbfd9|59983   |2024-05-03|null     |Low           |20            |In Progress |\n+------+----------------------------------------------------------------+--------+----------+---------+--------------+--------------+------------+\n\n"
     ]
    }
   ],
   "source": [
    "insert_records.show(truncate=False)"
   ]
  },
  {
   "cell_type": "code",
   "execution_count": 0,
   "metadata": {
    "application/vnd.databricks.v1+cell": {
     "cellMetadata": {
      "byteLimit": 2048000,
      "rowLimit": 10000
     },
     "inputWidgets": {},
     "nuid": "55900713-2fd6-44c8-8eff-9d9e41925cb1",
     "showTitle": false,
     "title": ""
    }
   },
   "outputs": [],
   "source": [
    "if full_run == 1:\n",
    "    update_records = new_orders_df.join(orders_df, ['row_id'], 'inner').filter(orders_df[\"order_status\"] == \"In Progress\").select(new_orders_df[\"row_id\"],orders_df[\"customer_id\"],orders_df[\"order_id\"],new_orders_df[\"order_date\"],new_orders_df[\"ship_date\"],orders_df[\"order_priority\"],orders_df[\"order_quantity\"],orders_df[\"order_status\"])\n",
    "else:\n",
    "    update_records = new_orders_df.join(results_df, ['row_id'], 'inner').select(new_orders_df[\"row_id\"],results_df[\"customer_id\"],results_df[\"order_id\"],new_orders_df[\"order_date\"],new_orders_df[\"ship_date\"],results_df[\"order_priority\"],results_df[\"order_quantity\"],results_df[\"order_status\"])"
   ]
  },
  {
   "cell_type": "code",
   "execution_count": 0,
   "metadata": {
    "application/vnd.databricks.v1+cell": {
     "cellMetadata": {
      "byteLimit": 2048000,
      "rowLimit": 10000
     },
     "inputWidgets": {},
     "nuid": "1f91f9ca-315f-49e0-a32d-f4015d6360a9",
     "showTitle": false,
     "title": ""
    }
   },
   "outputs": [
    {
     "output_type": "stream",
     "name": "stdout",
     "output_type": "stream",
     "text": [
      "+------+----------------------------------------------------------------+--------+----------+----------+--------------+--------------+------------+\n|row_id|customer_id                                                     |order_id|order_date|ship_date |order_priority|order_quantity|order_status|\n+------+----------------------------------------------------------------+--------+----------+----------+--------------+--------------+------------+\n|8403  |07de8c2693a047311aac3bb2e1a7bf301d9e290b04431926048d92a40e3bbfd2|59976   |2024-04-30|2024-05-01|Medium        |20            |In Progress |\n|8404  |07de8c2693a047311aac3bb2e1a7bf301d9e290b04431926048d92a40e3bbfd3|59977   |2024-04-30|2024-05-01|Critical      |60            |In Progress |\n|8405  |07de8c2693a047311aac3bb2e1a7bf301d9e290b04431926048d92a40e3bbfd4|59978   |2024-04-30|null      |Low           |20            |In Progress |\n|8406  |07de8c2693a047311aac3bb2e1a7bf301d9e290b04431926048d92a40e3bbfd5|59979   |2024-04-30|null      |High          |50            |In Progress |\n|8407  |07de8c2693a047311aac3bb2e1a7bf301d9e290b04431926048d92a40e3bbfd6|59980   |2024-04-30|null      |High          |60            |In Progress |\n|8408  |07de8c2693a047311aac3bb2e1a7bf301d9e290b04431926048d92a40e3bbfd6|59980   |2024-04-30|2024-05-01|Low           |20            |In Progress |\n+------+----------------------------------------------------------------+--------+----------+----------+--------------+--------------+------------+\n\n"
     ]
    }
   ],
   "source": [
    "update_records.show(truncate=False)"
   ]
  },
  {
   "cell_type": "code",
   "execution_count": 0,
   "metadata": {
    "application/vnd.databricks.v1+cell": {
     "cellMetadata": {
      "byteLimit": 2048000,
      "rowLimit": 10000
     },
     "inputWidgets": {},
     "nuid": "ac306b62-e741-4eaa-86f4-e24a6b6c86e7",
     "showTitle": false,
     "title": ""
    }
   },
   "outputs": [],
   "source": [
    "update_records = update_records.withColumn(\"order_status\",\n",
    "                                            when((update_records[\"ship_date\"].isNull()) & (update_records[\"order_date\"] < current_date() - 4), \"Cancelled\") \\\n",
    "                                            .when((update_records[\"ship_date\"].isNull()) &  ((update_records[\"order_date\"] == current_date()) | (update_records[\"order_date\"] >= current_date() - 4)), \"In Progress\") \\\n",
    "                                            .otherwise(\"Completed\")\n",
    "                                            )"
   ]
  },
  {
   "cell_type": "code",
   "execution_count": 0,
   "metadata": {
    "application/vnd.databricks.v1+cell": {
     "cellMetadata": {
      "byteLimit": 2048000,
      "rowLimit": 10000
     },
     "inputWidgets": {},
     "nuid": "03141c7e-93c4-4291-ae30-f4c3ab917e3e",
     "showTitle": false,
     "title": ""
    }
   },
   "outputs": [
    {
     "output_type": "stream",
     "name": "stdout",
     "output_type": "stream",
     "text": [
      "+------+----------------------------------------------------------------+--------+----------+----------+--------------+--------------+------------+\n|row_id|customer_id                                                     |order_id|order_date|ship_date |order_priority|order_quantity|order_status|\n+------+----------------------------------------------------------------+--------+----------+----------+--------------+--------------+------------+\n|8403  |07de8c2693a047311aac3bb2e1a7bf301d9e290b04431926048d92a40e3bbfd2|59976   |2024-04-30|2024-05-01|Medium        |20            |Completed   |\n|8404  |07de8c2693a047311aac3bb2e1a7bf301d9e290b04431926048d92a40e3bbfd3|59977   |2024-04-30|2024-05-01|Critical      |60            |Completed   |\n|8405  |07de8c2693a047311aac3bb2e1a7bf301d9e290b04431926048d92a40e3bbfd4|59978   |2024-04-30|null      |Low           |20            |In Progress |\n|8406  |07de8c2693a047311aac3bb2e1a7bf301d9e290b04431926048d92a40e3bbfd5|59979   |2024-04-30|null      |High          |50            |In Progress |\n|8407  |07de8c2693a047311aac3bb2e1a7bf301d9e290b04431926048d92a40e3bbfd6|59980   |2024-04-30|null      |High          |60            |In Progress |\n|8408  |07de8c2693a047311aac3bb2e1a7bf301d9e290b04431926048d92a40e3bbfd6|59980   |2024-04-30|2024-05-01|Low           |20            |Completed   |\n+------+----------------------------------------------------------------+--------+----------+----------+--------------+--------------+------------+\n\n"
     ]
    }
   ],
   "source": [
    "update_records.show(truncate=False)"
   ]
  },
  {
   "cell_type": "code",
   "execution_count": 0,
   "metadata": {
    "application/vnd.databricks.v1+cell": {
     "cellMetadata": {
      "byteLimit": 2048000,
      "rowLimit": 10000
     },
     "inputWidgets": {},
     "nuid": "8d65b6bf-10b1-4112-8210-291f00533d6c",
     "showTitle": false,
     "title": ""
    }
   },
   "outputs": [],
   "source": [
    "if full_run == 0:\n",
    "    results_df = results_df.join(update_records, on=\"row_id\", how=\"left_anti\") \\\n",
    "        .unionByName(insert_records) \\\n",
    "        .unionByName(update_records)\n",
    "    results_df.count()\n",
    "    results_df.createOrReplaceTempView(\"results_temp_vw\")"
   ]
  },
  {
   "cell_type": "code",
   "execution_count": 0,
   "metadata": {
    "application/vnd.databricks.v1+cell": {
     "cellMetadata": {
      "byteLimit": 2048000,
      "rowLimit": 10000
     },
     "inputWidgets": {},
     "nuid": "3adabec3-6a3b-48ca-9f72-a0e154fbd69a",
     "showTitle": false,
     "title": ""
    }
   },
   "outputs": [],
   "source": [
    "if full_run == 1:\n",
    "    orders_df = orders_df.join(update_records, on=\"row_id\", how=\"left_anti\") \\\n",
    "        .unionByName(insert_records) \\\n",
    "        .unionByName(update_records)\n",
    "    orders_df.count()\n",
    "else:\n",
    "    spark.sql(\"\"\"\n",
    "        MERGE INTO sales.orders_details\n",
    "        USING results_temp_vw\n",
    "        ON sales.orders_details.row_id = results_temp_vw.row_id\n",
    "        WHEN MATCHED THEN UPDATE SET *\n",
    "        WHEN NOT MATCHED THEN INSERT *\n",
    "    \"\"\")"
   ]
  },
  {
   "cell_type": "code",
   "execution_count": 0,
   "metadata": {
    "application/vnd.databricks.v1+cell": {
     "cellMetadata": {
      "byteLimit": 2048000,
      "rowLimit": 10000
     },
     "inputWidgets": {},
     "nuid": "9068ed38-356a-41d0-8677-2c01635145b6",
     "showTitle": false,
     "title": ""
    }
   },
   "outputs": [],
   "source": [
    "if full_run == 1:\n",
    "    orders_df.createOrReplaceTempView('orders_temp_vw')\n",
    "\n",
    "    create_db_sql = \"\"\"\n",
    "        CREATE DATABASE IF NOT EXISTS sales\n",
    "    \"\"\"\n",
    "    \n",
    "    create_table_sql = \"\"\"\n",
    "        CREATE OR REPLACE TABLE sales.orders_details\n",
    "        (\n",
    "            row_id INT,\n",
    "            customer_id STRING,\n",
    "            order_id INT,\n",
    "            order_date DATE,\n",
    "            ship_date DATE,\n",
    "            order_priority STRING,\n",
    "            order_quantity INT,\n",
    "            order_status STRING\n",
    "        )\n",
    "        USING DELTA\n",
    "        LOCATION '/FileStore/tables/delta-table-merge/orders_details'\n",
    "    \"\"\""
   ]
  },
  {
   "cell_type": "code",
   "execution_count": 0,
   "metadata": {
    "application/vnd.databricks.v1+cell": {
     "cellMetadata": {
      "byteLimit": 2048000,
      "implicitDf": true,
      "rowLimit": 10000
     },
     "inputWidgets": {},
     "nuid": "405a48ce-3b55-4e99-ae9f-cbf907b947cc",
     "showTitle": false,
     "title": ""
    }
   },
   "outputs": [],
   "source": [
    "if full_run == 1:\n",
    "    spark.sql(create_db_sql)\n",
    "    spark.sql(create_table_sql)"
   ]
  },
  {
   "cell_type": "code",
   "execution_count": 0,
   "metadata": {
    "application/vnd.databricks.v1+cell": {
     "cellMetadata": {
      "byteLimit": 2048000,
      "implicitDf": true,
      "rowLimit": 10000
     },
     "inputWidgets": {},
     "nuid": "128bee52-3432-4aa5-9a05-905417eacc27",
     "showTitle": false,
     "title": ""
    }
   },
   "outputs": [
    {
     "output_type": "stream",
     "name": "stdout",
     "output_type": "stream",
     "text": [
      "+--------+\n|count(1)|\n+--------+\n|8412    |\n+--------+\n\n"
     ]
    }
   ],
   "source": [
    "'''\n",
    "%sql\n",
    "select count(*) from sales.orders_details'''\n",
    "spark.sql('''\n",
    "          select count(*) from sales.orders_details\n",
    "          ''').show(truncate=False)"
   ]
  },
  {
   "cell_type": "markdown",
   "metadata": {
    "application/vnd.databricks.v1+cell": {
     "cellMetadata": {
      "byteLimit": 2048000,
      "rowLimit": 10000
     },
     "inputWidgets": {},
     "nuid": "cc4a5308-7683-4f74-92f7-c7ef81ad5671",
     "showTitle": false,
     "title": ""
    }
   },
   "source": [
    "#One Time Full Run for first run and whenever refresh data is required"
   ]
  },
  {
   "cell_type": "code",
   "execution_count": 0,
   "metadata": {
    "application/vnd.databricks.v1+cell": {
     "cellMetadata": {
      "byteLimit": 2048000,
      "implicitDf": true,
      "rowLimit": 10000
     },
     "inputWidgets": {},
     "nuid": "c3badb59-981f-4586-bd85-92db29e85675",
     "showTitle": false,
     "title": ""
    }
   },
   "outputs": [
    {
     "output_type": "stream",
     "name": "stdout",
     "output_type": "stream",
     "text": [
      "sales.orders_details table truncated.\n"
     ]
    }
   ],
   "source": [
    "if full_run == 1:\n",
    "    # Truncate Delta table if full_run is 1\n",
    "    spark.sql(\"TRUNCATE TABLE sales.orders_details\")\n",
    "    print(\"sales.orders_details table truncated.\")\n",
    "else:\n",
    "    # Do nothing if full_run is not 1\n",
    "    print(\"Skipping truncation. full_run is not set to 1.\")"
   ]
  },
  {
   "cell_type": "code",
   "execution_count": 0,
   "metadata": {
    "application/vnd.databricks.v1+cell": {
     "cellMetadata": {
      "byteLimit": 2048000,
      "implicitDf": true,
      "rowLimit": 10000
     },
     "inputWidgets": {},
     "nuid": "998ab9cf-6656-4e30-9b92-d006e6f61896",
     "showTitle": false,
     "title": ""
    }
   },
   "outputs": [
    {
     "output_type": "stream",
     "name": "stdout",
     "output_type": "stream",
     "text": [
      "one time load successful.\n"
     ]
    }
   ],
   "source": [
    "if full_run == 1:\n",
    "    # One time full load if full_run is 1\n",
    "    spark.sql(\"INSERT INTO sales.orders_details SELECT * FROM orders_temp_vw\")\n",
    "    print(\"one time load successful.\")\n",
    "else:\n",
    "    # Do nothing if full_run is not 1\n",
    "    print(\"Skipping one time load. full_run is not set to 1.\")"
   ]
  },
  {
   "cell_type": "code",
   "execution_count": 0,
   "metadata": {
    "application/vnd.databricks.v1+cell": {
     "cellMetadata": {
      "byteLimit": 2048000,
      "implicitDf": true,
      "rowLimit": 10000
     },
     "inputWidgets": {},
     "nuid": "515ec5e2-0ec1-4059-b55d-9b223cf1ff91",
     "showTitle": false,
     "title": ""
    }
   },
   "outputs": [
    {
     "output_type": "stream",
     "name": "stdout",
     "output_type": "stream",
     "text": [
      "+------+----------------------------------------------------------------+--------+----------+----------+--------------+--------------+------------+\n|row_id|customer_id                                                     |order_id|order_date|ship_date |order_priority|order_quantity|order_status|\n+------+----------------------------------------------------------------+--------+----------+----------+--------------+--------------+------------+\n|5409  |03de3b10f1d1797fa42d5372db545dadd5aa777b823885979bdd09fa20e9660d|38466   |2011-08-17|2011-08-18|Critical      |22            |Completed   |\n|7747  |0fb77b87360fcb496a32cb2673d291c1a83fd88c48d968a4b79d55a169e7144b|55459   |2009-04-25|2009-04-27|Critical      |5             |Completed   |\n|29    |136d2dcc58235d6f3fecb6222bf3ae4c9bb00c635db1c1370edf2e86a903924e|194     |2012-04-04|2012-04-06|Medium        |6             |Completed   |\n|2927  |1f07e41c5a310fda2c158f4a6760f4b7732a0f24c20db3466a661802b9b07bf9|21220   |2012-12-22|2012-12-25|Not Specified |4             |Completed   |\n|3091  |241fa973f0bcb05c4bd0dd785045691547cd2c4d652daa1e308e7b3c3d757a92|22181   |2011-10-07|2011-10-16|Low           |41            |Completed   |\n+------+----------------------------------------------------------------+--------+----------+----------+--------------+--------------+------------+\n\n"
     ]
    }
   ],
   "source": [
    "spark.sql('''\n",
    "          select * from sales.orders_details limit 5 \n",
    "          ''').show(truncate=False)"
   ]
  },
  {
   "cell_type": "code",
   "execution_count": 0,
   "metadata": {
    "application/vnd.databricks.v1+cell": {
     "cellMetadata": {
      "byteLimit": 2048000,
      "implicitDf": true,
      "rowLimit": 10000
     },
     "inputWidgets": {},
     "nuid": "451bc16b-6d7d-4f44-8ee2-e95048f97c9b",
     "showTitle": false,
     "title": ""
    }
   },
   "outputs": [
    {
     "output_type": "stream",
     "name": "stdout",
     "output_type": "stream",
     "text": [
      "+------+----------------------------------------------------------------+--------+----------+---------+--------------+--------------+------------+\n|row_id|customer_id                                                     |order_id|order_date|ship_date|order_priority|order_quantity|order_status|\n+------+----------------------------------------------------------------+--------+----------+---------+--------------+--------------+------------+\n|8411  |07de8c2693a047311aac3bb2e1a7bf301d9e290b04431926048d92a40e3bbfd9|59983   |2024-05-03|null     |Low           |20            |In Progress |\n|8412  |07de8c2693a047311aac3bb2e1a7bf301d9e290b04431926048d92a40e3bbfd9|59983   |2024-05-03|null     |Low           |20            |In Progress |\n+------+----------------------------------------------------------------+--------+----------+---------+--------------+--------------+------------+\n\n"
     ]
    }
   ],
   "source": [
    "\n",
    "spark.sql('''\n",
    "          select * from sales.orders_details where customer_id= '07de8c2693a047311aac3bb2e1a7bf301d9e290b04431926048d92a40e3bbfd9'\n",
    "          ''').show(truncate=False)"
   ]
  },
  {
   "cell_type": "code",
   "execution_count": 0,
   "metadata": {
    "application/vnd.databricks.v1+cell": {
     "cellMetadata": {
      "byteLimit": 2048000,
      "rowLimit": 10000
     },
     "inputWidgets": {},
     "nuid": "e0a53c7f-4f0f-4998-bace-bb0b9e8f7f9e",
     "showTitle": false,
     "title": ""
    }
   },
   "outputs": [],
   "source": []
  },
  {
   "cell_type": "code",
   "execution_count": 0,
   "metadata": {
    "application/vnd.databricks.v1+cell": {
     "cellMetadata": {
      "byteLimit": 2048000,
      "rowLimit": 10000
     },
     "inputWidgets": {},
     "nuid": "c47f5e87-fca5-4469-a16d-834bedad9821",
     "showTitle": false,
     "title": ""
    }
   },
   "outputs": [],
   "source": []
  },
  {
   "cell_type": "code",
   "execution_count": 0,
   "metadata": {
    "application/vnd.databricks.v1+cell": {
     "cellMetadata": {
      "byteLimit": 2048000,
      "rowLimit": 10000
     },
     "inputWidgets": {},
     "nuid": "7b337592-a8e2-4669-b220-9e6b64b3eae2",
     "showTitle": false,
     "title": ""
    }
   },
   "outputs": [],
   "source": []
  },
  {
   "cell_type": "code",
   "execution_count": 0,
   "metadata": {
    "application/vnd.databricks.v1+cell": {
     "cellMetadata": {
      "byteLimit": 2048000,
      "rowLimit": 10000
     },
     "inputWidgets": {},
     "nuid": "9ed9314f-8505-41ed-925d-4ae401041afa",
     "showTitle": false,
     "title": ""
    }
   },
   "outputs": [],
   "source": []
  }
 ],
 "metadata": {
  "application/vnd.databricks.v1+notebook": {
   "dashboards": [],
   "language": "python",
   "notebookMetadata": {
    "mostRecentlyExecutedCommandWithImplicitDF": {
     "commandId": -1,
     "dataframes": [
      "_sqldf"
     ]
    },
    "pythonIndentUnit": 4
   },
   "notebookName": "load_to_order_details_table_full_run",
   "widgets": {}
  }
 },
 "nbformat": 4,
 "nbformat_minor": 0
}
