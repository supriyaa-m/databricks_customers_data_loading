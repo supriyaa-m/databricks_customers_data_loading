{
 "cells": [
  {
   "cell_type": "code",
   "execution_count": 0,
   "metadata": {
    "application/vnd.databricks.v1+cell": {
     "cellMetadata": {
      "byteLimit": 2048000,
      "rowLimit": 10000
     },
     "inputWidgets": {},
     "nuid": "f2da4ff0-288f-4b4c-8de5-7810404f7013",
     "showTitle": false,
     "title": ""
    }
   },
   "outputs": [],
   "source": [
    "file_location = \"/FileStore/tables/customers_refined.csv\"\n",
    "file_type = \"csv\""
   ]
  },
  {
   "cell_type": "code",
   "execution_count": 0,
   "metadata": {
    "application/vnd.databricks.v1+cell": {
     "cellMetadata": {
      "byteLimit": 2048000,
      "rowLimit": 10000
     },
     "inputWidgets": {},
     "nuid": "94f19791-4cc9-445d-a524-4e15ba25819c",
     "showTitle": false,
     "title": ""
    }
   },
   "outputs": [],
   "source": [
    "from pyspark.sql.functions import *\n",
    "from pyspark.sql.window import Window"
   ]
  },
  {
   "cell_type": "code",
   "execution_count": 0,
   "metadata": {
    "application/vnd.databricks.v1+cell": {
     "cellMetadata": {
      "byteLimit": 2048000,
      "rowLimit": 10000
     },
     "inputWidgets": {},
     "nuid": "1b06ccd6-2ab3-4beb-b327-7e6b5e1bcf86",
     "showTitle": false,
     "title": ""
    }
   },
   "outputs": [],
   "source": [
    "df = spark.read.format('delta') \\\n",
    "  .load(file_location)"
   ]
  },
  {
   "cell_type": "code",
   "execution_count": 0,
   "metadata": {
    "application/vnd.databricks.v1+cell": {
     "cellMetadata": {
      "byteLimit": 2048000,
      "rowLimit": 10000
     },
     "inputWidgets": {},
     "nuid": "98d1e529-9946-4caa-acca-e77517c9eaa0",
     "showTitle": false,
     "title": ""
    }
   },
   "outputs": [
    {
     "output_type": "stream",
     "name": "stdout",
     "output_type": "stream",
     "text": [
      "+------+--------+-------------------+--------------+--------------+--------+--------+-----------+-------+----------+-------------+-------------+-----------+------+----------------+----------------+-----------------------------+-------------------------------------------------------+-----------------+----------+--------------+------------+----------------------------------------------------------------+------------------+--------------+-----------+\n|row_id|order_id|order_date         |order_priority|order_quantity|sales   |discount|ship_mode  |profit |unit_price|shipping_cost|customer_name|province   |region|customer_segment|product_category|product_sub_category         |product_name                                           |product_container|ship_date |loyalty_points|loyalty_type|customer_id                                                     |total_orders_count|customer_since|total_years|\n+------+--------+-------------------+--------------+--------------+--------+--------+-----------+-------+----------+-------------+-------------+-----------+------+----------------+----------------+-----------------------------+-------------------------------------------------------+-----------------+----------+--------------+------------+----------------------------------------------------------------+------------------+--------------+-----------+\n|2533  |18374   |2012-09-30 00:00:00|Low           |21            |150.16  |0.09    |Regular Air|-32.78 |7.28      |5.47         |Nick Crebassa|Saskachewan|Prarie|Corporate       |Office Supplies |Paper                        |Southworth Structures Collection�                      |Small Box        |2012-10-02|650           |Classic     |001492ac094ba3c986a45e7799a0409db64ed3c856e39cf16854012aa468fa01|432               |2009          |15         |\n|3548  |25314   |2012-02-24 00:00:00|High          |43            |7679.512|0.0     |Regular Air|2307.42|205.99    |5.0          |Nick Crebassa|Saskachewan|Prarie|Corporate       |Technology      |Telephones and Communication |Phone 918                                              |Small Box        |2012-02-26|650           |Classic     |001492ac094ba3c986a45e7799a0409db64ed3c856e39cf16854012aa468fa01|432               |2009          |15         |\n|4364  |31106   |2012-02-16 00:00:00|Low           |37            |101.9   |0.0     |Regular Air|40.52  |2.61      |0.5          |Nick Crebassa|Saskachewan|Prarie|Corporate       |Office Supplies |Labels                       |Avery 494                                              |Small Box        |2012-02-16|650           |Classic     |001492ac094ba3c986a45e7799a0409db64ed3c856e39cf16854012aa468fa01|432               |2009          |15         |\n|4365  |31106   |2012-02-16 00:00:00|Low           |7             |187.33  |0.03    |Regular Air|66.47  |25.13     |9.87         |Nick Crebassa|Saskachewan|Prarie|Corporate       |Furniture       |Office Furnishings           |Eldon� Executive Woodline II Desk Accessories, Mahogany|Small Box        |2012-02-21|650           |Classic     |001492ac094ba3c986a45e7799a0409db64ed3c856e39cf16854012aa468fa01|432               |2009          |15         |\n|4366  |31106   |2012-02-16 00:00:00|Low           |45            |259.17  |0.01    |Regular Air|-57.33 |5.68      |3.6          |Nick Crebassa|Saskachewan|Prarie|Corporate       |Office Supplies |Scissors, Rulers and Trimmers|Acme� Preferred Stainless Steel Scissors               |Small Pack       |2012-02-18|650           |Classic     |001492ac094ba3c986a45e7799a0409db64ed3c856e39cf16854012aa468fa01|432               |2009          |15         |\n+------+--------+-------------------+--------------+--------------+--------+--------+-----------+-------+----------+-------------+-------------+-----------+------+----------------+----------------+-----------------------------+-------------------------------------------------------+-----------------+----------+--------------+------------+----------------------------------------------------------------+------------------+--------------+-----------+\nonly showing top 5 rows\n\n"
     ]
    }
   ],
   "source": [
    "df.show(5,truncate=False)"
   ]
  },
  {
   "cell_type": "code",
   "execution_count": 0,
   "metadata": {
    "application/vnd.databricks.v1+cell": {
     "cellMetadata": {
      "byteLimit": 2048000,
      "rowLimit": 10000
     },
     "inputWidgets": {},
     "nuid": "a6561b67-0bbb-4d57-ae21-34eba8eb965a",
     "showTitle": false,
     "title": ""
    }
   },
   "outputs": [
    {
     "output_type": "stream",
     "name": "stdout",
     "output_type": "stream",
     "text": [
      "root\n |-- row_id: string (nullable = true)\n |-- order_id: string (nullable = true)\n |-- order_date: string (nullable = true)\n |-- order_priority: string (nullable = true)\n |-- order_quantity: long (nullable = true)\n |-- sales: float (nullable = true)\n |-- discount: float (nullable = true)\n |-- ship_mode: string (nullable = true)\n |-- profit: float (nullable = true)\n |-- unit_price: float (nullable = true)\n |-- shipping_cost: float (nullable = true)\n |-- customer_name: string (nullable = true)\n |-- province: string (nullable = true)\n |-- region: string (nullable = true)\n |-- customer_segment: string (nullable = true)\n |-- product_category: string (nullable = true)\n |-- product_sub_category: string (nullable = true)\n |-- product_name: string (nullable = true)\n |-- product_container: string (nullable = true)\n |-- ship_date: date (nullable = true)\n |-- loyalty_points: long (nullable = true)\n |-- loyalty_type: string (nullable = true)\n |-- customer_id: string (nullable = true)\n |-- total_orders_count: long (nullable = true)\n |-- customer_since: integer (nullable = true)\n |-- total_years: integer (nullable = true)\n\n"
     ]
    }
   ],
   "source": [
    "df.printSchema()"
   ]
  },
  {
   "cell_type": "code",
   "execution_count": 0,
   "metadata": {
    "application/vnd.databricks.v1+cell": {
     "cellMetadata": {
      "byteLimit": 2048000,
      "rowLimit": 10000
     },
     "inputWidgets": {},
     "nuid": "278977e5-44db-4e9a-8c7c-ec5d711d0154",
     "showTitle": false,
     "title": ""
    }
   },
   "outputs": [],
   "source": [
    "customers_loyalty_df = df.select('customer_id', 'customer_name', 'customer_since', 'total_years', 'total_orders_count','loyalty_points','loyalty_type','order_date')"
   ]
  },
  {
   "cell_type": "code",
   "execution_count": 0,
   "metadata": {
    "application/vnd.databricks.v1+cell": {
     "cellMetadata": {
      "byteLimit": 2048000,
      "rowLimit": 10000
     },
     "inputWidgets": {},
     "nuid": "c67d716a-fffb-465f-9354-343f181e1cff",
     "showTitle": false,
     "title": ""
    }
   },
   "outputs": [
    {
     "output_type": "stream",
     "name": "stdout",
     "output_type": "stream",
     "text": [
      "+----------------------------------------------------------------+-------------+--------------+-----------+------------------+--------------+------------+-------------------+\n|customer_id                                                     |customer_name|customer_since|total_years|total_orders_count|loyalty_points|loyalty_type|order_date         |\n+----------------------------------------------------------------+-------------+--------------+-----------+------------------+--------------+------------+-------------------+\n|001492ac094ba3c986a45e7799a0409db64ed3c856e39cf16854012aa468fa01|Nick Crebassa|2009          |15         |432               |650           |Classic     |2012-09-30 00:00:00|\n|001492ac094ba3c986a45e7799a0409db64ed3c856e39cf16854012aa468fa01|Nick Crebassa|2009          |15         |432               |650           |Classic     |2012-02-24 00:00:00|\n|001492ac094ba3c986a45e7799a0409db64ed3c856e39cf16854012aa468fa01|Nick Crebassa|2009          |15         |432               |650           |Classic     |2012-02-16 00:00:00|\n|001492ac094ba3c986a45e7799a0409db64ed3c856e39cf16854012aa468fa01|Nick Crebassa|2009          |15         |432               |650           |Classic     |2012-02-16 00:00:00|\n|001492ac094ba3c986a45e7799a0409db64ed3c856e39cf16854012aa468fa01|Nick Crebassa|2009          |15         |432               |650           |Classic     |2012-02-16 00:00:00|\n+----------------------------------------------------------------+-------------+--------------+-----------+------------------+--------------+------------+-------------------+\nonly showing top 5 rows\n\n"
     ]
    }
   ],
   "source": [
    "customers_loyalty_df.show(5,truncate=False)"
   ]
  },
  {
   "cell_type": "code",
   "execution_count": 0,
   "metadata": {
    "application/vnd.databricks.v1+cell": {
     "cellMetadata": {
      "byteLimit": 2048000,
      "rowLimit": 10000
     },
     "inputWidgets": {},
     "nuid": "3ffceaaa-5e96-4966-9a4c-b23e60e14672",
     "showTitle": false,
     "title": ""
    }
   },
   "outputs": [
    {
     "output_type": "stream",
     "name": "stdout",
     "output_type": "stream",
     "text": [
      "Out[8]: 8399"
     ]
    }
   ],
   "source": [
    "customers_loyalty_df.count()"
   ]
  },
  {
   "cell_type": "code",
   "execution_count": 0,
   "metadata": {
    "application/vnd.databricks.v1+cell": {
     "cellMetadata": {
      "byteLimit": 2048000,
      "rowLimit": 10000
     },
     "inputWidgets": {},
     "nuid": "d24f9bbc-8cf9-4a0f-890b-3a431c3b6b2d",
     "showTitle": false,
     "title": ""
    }
   },
   "outputs": [
    {
     "output_type": "stream",
     "name": "stdout",
     "output_type": "stream",
     "text": [
      "+----------------------------------------------------------------+-------------+--------------+-----------+------------------+--------------+------------+-------------------+\n|customer_id                                                     |customer_name|customer_since|total_years|total_orders_count|loyalty_points|loyalty_type|order_date         |\n+----------------------------------------------------------------+-------------+--------------+-----------+------------------+--------------+------------+-------------------+\n|001492ac094ba3c986a45e7799a0409db64ed3c856e39cf16854012aa468fa01|Nick Crebassa|2009          |15         |432               |650           |Classic     |2012-09-30 00:00:00|\n|001492ac094ba3c986a45e7799a0409db64ed3c856e39cf16854012aa468fa01|Nick Crebassa|2009          |15         |432               |650           |Classic     |2012-02-24 00:00:00|\n|001492ac094ba3c986a45e7799a0409db64ed3c856e39cf16854012aa468fa01|Nick Crebassa|2009          |15         |432               |650           |Classic     |2012-02-16 00:00:00|\n|001492ac094ba3c986a45e7799a0409db64ed3c856e39cf16854012aa468fa01|Nick Crebassa|2009          |15         |432               |650           |Classic     |2012-02-16 00:00:00|\n|001492ac094ba3c986a45e7799a0409db64ed3c856e39cf16854012aa468fa01|Nick Crebassa|2009          |15         |432               |650           |Classic     |2012-02-16 00:00:00|\n+----------------------------------------------------------------+-------------+--------------+-----------+------------------+--------------+------------+-------------------+\nonly showing top 5 rows\n\n"
     ]
    }
   ],
   "source": [
    "customers_loyalty_df.show(5,truncate=False)"
   ]
  },
  {
   "cell_type": "code",
   "execution_count": 0,
   "metadata": {
    "application/vnd.databricks.v1+cell": {
     "cellMetadata": {
      "byteLimit": 2048000,
      "rowLimit": 10000
     },
     "inputWidgets": {},
     "nuid": "f8170b72-2d0d-46e7-8ddd-14ed952cfe24",
     "showTitle": false,
     "title": ""
    }
   },
   "outputs": [
    {
     "output_type": "stream",
     "name": "stdout",
     "output_type": "stream",
     "text": [
      "+--------------------+-----+\n|         customer_id|count|\n+--------------------+-----+\n|0105946ed08fb4ccf...|   16|\n|487e1c84ea398291f...|    5|\n|dfff7e512bc9808c8...|   14|\n|360d850c3d7945f54...|    2|\n|3c2220b146abbc800...|    5|\n|71171fca026b1e5ed...|   10|\n|751f994a3d3b5b290...|    6|\n|88e780296873c748a...|   10|\n|b0b4faa3da57c2038...|    3|\n|beacc4d65042807d4...|    9|\n|d39dd257708e4e664...|    3|\n|5aff1f6aac0864967...|    8|\n|6992e80e67de3e022...|   20|\n|7fea1e195dc74b43b...|   21|\n|94fa84a56e1b77cf6...|    2|\n|dd70309d73910b98d...|    7|\n|ff79734b8b635c06e...|    9|\n|1193e8010b51cd44c...|    3|\n|075609fdf9c07ddef...|   12|\n|41e6dec82a3754747...|   17|\n+--------------------+-----+\nonly showing top 20 rows\n\n"
     ]
    }
   ],
   "source": [
    "customers_loyalty_df.groupBy(\"customer_id\").count().filter(\"count>1\").show()"
   ]
  },
  {
   "cell_type": "code",
   "execution_count": 0,
   "metadata": {
    "application/vnd.databricks.v1+cell": {
     "cellMetadata": {
      "byteLimit": 2048000,
      "rowLimit": 10000
     },
     "inputWidgets": {},
     "nuid": "5cee77b8-6774-431c-9c4d-7cf7088a2851",
     "showTitle": false,
     "title": ""
    }
   },
   "outputs": [],
   "source": [
    "# Need latest loyalty details against each customer not the history of loyalty assigned\n",
    "customers_loyalty_df = customers_loyalty_df.withColumn(\"row_number\", row_number().over(\n",
    "    Window.partitionBy(\"customer_id\").orderBy(desc(\"order_date\"))\n",
    "    )\n",
    "                                   )"
   ]
  },
  {
   "cell_type": "code",
   "execution_count": 0,
   "metadata": {
    "application/vnd.databricks.v1+cell": {
     "cellMetadata": {
      "byteLimit": 2048000,
      "rowLimit": 10000
     },
     "inputWidgets": {},
     "nuid": "e993297c-1b29-4e8f-aaba-67f25cbc7a7a",
     "showTitle": false,
     "title": ""
    }
   },
   "outputs": [],
   "source": [
    "latest_customers_df = customers_loyalty_df.filter(\"row_number = 1\").drop(\"row_number\",\"order_date\")"
   ]
  },
  {
   "cell_type": "code",
   "execution_count": 0,
   "metadata": {
    "application/vnd.databricks.v1+cell": {
     "cellMetadata": {
      "byteLimit": 2048000,
      "rowLimit": 10000
     },
     "inputWidgets": {},
     "nuid": "391437bd-709e-46fb-818f-98b142489f9e",
     "showTitle": false,
     "title": ""
    }
   },
   "outputs": [
    {
     "output_type": "stream",
     "name": "stdout",
     "output_type": "stream",
     "text": [
      "+----------------------------------------------------------------+-------------+--------------+-----------+------------------+--------------+------------+\n|customer_id                                                     |customer_name|customer_since|total_years|total_orders_count|loyalty_points|loyalty_type|\n+----------------------------------------------------------------+-------------+--------------+-----------+------------------+--------------+------------+\n|07c41f7f8da2ed563ce0452e1d066605494817333732bafb29d6c596e6aeb39a|Dave Kipp    |2009          |15         |408               |700           |Classic     |\n+----------------------------------------------------------------+-------------+--------------+-----------+------------------+--------------+------------+\n\n"
     ]
    }
   ],
   "source": [
    "latest_customers_df.filter(\"customer_id = '07c41f7f8da2ed563ce0452e1d066605494817333732bafb29d6c596e6aeb39a' \").show(truncate=False)"
   ]
  },
  {
   "cell_type": "code",
   "execution_count": 0,
   "metadata": {
    "application/vnd.databricks.v1+cell": {
     "cellMetadata": {
      "byteLimit": 2048000,
      "rowLimit": 10000
     },
     "inputWidgets": {},
     "nuid": "dff3155e-ceb1-48df-9593-100ac091344b",
     "showTitle": false,
     "title": ""
    }
   },
   "outputs": [
    {
     "output_type": "stream",
     "name": "stdout",
     "output_type": "stream",
     "text": [
      "Out[14]: 795"
     ]
    }
   ],
   "source": [
    "latest_customers_df.count()"
   ]
  },
  {
   "cell_type": "code",
   "execution_count": 0,
   "metadata": {
    "application/vnd.databricks.v1+cell": {
     "cellMetadata": {
      "byteLimit": 2048000,
      "implicitDf": true,
      "rowLimit": 10000
     },
     "inputWidgets": {},
     "nuid": "98bc60ad-989e-42f7-9996-0bce91bc91b0",
     "showTitle": false,
     "title": ""
    }
   },
   "outputs": [
    {
     "output_type": "display_data",
     "data": {
      "text/html": [
       "<style scoped>\n",
       "  .table-result-container {\n",
       "    max-height: 300px;\n",
       "    overflow: auto;\n",
       "  }\n",
       "  table, th, td {\n",
       "    border: 1px solid black;\n",
       "    border-collapse: collapse;\n",
       "  }\n",
       "  th, td {\n",
       "    padding: 5px;\n",
       "  }\n",
       "  th {\n",
       "    text-align: left;\n",
       "  }\n",
       "</style><div class='table-result-container'><table class='table-result'><thead style='background-color: white'><tr></tr></thead><tbody></tbody></table></div>"
      ]
     },
     "metadata": {
      "application/vnd.databricks.v1+output": {
       "addedWidgets": {},
       "aggData": [],
       "aggError": "",
       "aggOverflow": false,
       "aggSchema": [],
       "aggSeriesLimitReached": false,
       "aggType": "",
       "arguments": {},
       "columnCustomDisplayInfos": {},
       "data": [],
       "datasetInfos": [],
       "dbfsResultPath": null,
       "isJsonSchema": true,
       "metadata": {},
       "overflow": false,
       "plotOptions": {
        "customPlotOptions": {},
        "displayType": "table",
        "pivotAggregation": null,
        "pivotColumns": null,
        "xColumns": null,
        "yColumns": null
       },
       "removedWidgets": [],
       "schema": [],
       "type": "table"
      }
     },
     "output_type": "display_data"
    }
   ],
   "source": [
    "%sql\n",
    "CREATE DATABASE IF NOT EXISTS sales;"
   ]
  },
  {
   "cell_type": "code",
   "execution_count": 0,
   "metadata": {
    "application/vnd.databricks.v1+cell": {
     "cellMetadata": {
      "byteLimit": 2048000,
      "implicitDf": true,
      "rowLimit": 10000
     },
     "inputWidgets": {},
     "nuid": "5537bff3-d2e7-4d45-8b45-503b72373e4b",
     "showTitle": false,
     "title": ""
    }
   },
   "outputs": [
    {
     "output_type": "display_data",
     "data": {
      "text/html": [
       "<style scoped>\n",
       "  .table-result-container {\n",
       "    max-height: 300px;\n",
       "    overflow: auto;\n",
       "  }\n",
       "  table, th, td {\n",
       "    border: 1px solid black;\n",
       "    border-collapse: collapse;\n",
       "  }\n",
       "  th, td {\n",
       "    padding: 5px;\n",
       "  }\n",
       "  th {\n",
       "    text-align: left;\n",
       "  }\n",
       "</style><div class='table-result-container'><table class='table-result'><thead style='background-color: white'><tr></tr></thead><tbody></tbody></table></div>"
      ]
     },
     "metadata": {
      "application/vnd.databricks.v1+output": {
       "addedWidgets": {},
       "aggData": [],
       "aggError": "",
       "aggOverflow": false,
       "aggSchema": [],
       "aggSeriesLimitReached": false,
       "aggType": "",
       "arguments": {},
       "columnCustomDisplayInfos": {},
       "data": [],
       "datasetInfos": [],
       "dbfsResultPath": null,
       "isJsonSchema": true,
       "metadata": {},
       "overflow": false,
       "plotOptions": {
        "customPlotOptions": {},
        "displayType": "table",
        "pivotAggregation": null,
        "pivotColumns": null,
        "xColumns": null,
        "yColumns": null
       },
       "removedWidgets": [],
       "schema": [],
       "type": "table"
      }
     },
     "output_type": "display_data"
    }
   ],
   "source": [
    "%sql\n",
    "CREATE OR REPLACE TABLE sales.customer_loyalty_details\n",
    "(\n",
    "    customer_id STRING,\n",
    "    customer_name STRING,\n",
    "    customer_since INT,\n",
    "    total_years INT,\n",
    "    total_orders_count INT,\n",
    "    loyalty_points INT,\n",
    "    loyalty_type STRING\n",
    ")\n",
    "USING DELTA\n",
    "LOCATION '/FileStore/tables/delta-table-merge/customer_loyalty_details';"
   ]
  },
  {
   "cell_type": "code",
   "execution_count": 0,
   "metadata": {
    "application/vnd.databricks.v1+cell": {
     "cellMetadata": {
      "byteLimit": 2048000,
      "implicitDf": true,
      "rowLimit": 10000
     },
     "inputWidgets": {},
     "nuid": "2d905867-0473-430d-9863-179de4b326d1",
     "showTitle": false,
     "title": ""
    }
   },
   "outputs": [
    {
     "output_type": "display_data",
     "data": {
      "text/html": [
       "<style scoped>\n",
       "  .table-result-container {\n",
       "    max-height: 300px;\n",
       "    overflow: auto;\n",
       "  }\n",
       "  table, th, td {\n",
       "    border: 1px solid black;\n",
       "    border-collapse: collapse;\n",
       "  }\n",
       "  th, td {\n",
       "    padding: 5px;\n",
       "  }\n",
       "  th {\n",
       "    text-align: left;\n",
       "  }\n",
       "</style><div class='table-result-container'><table class='table-result'><thead style='background-color: white'><tr><th>customer_id</th><th>customer_name</th><th>customer_since</th><th>total_years</th><th>total_orders_count</th><th>loyalty_points</th><th>loyalty_type</th></tr></thead><tbody><tr><td>001492ac094ba3c986a45e7799a0409db64ed3c856e39cf16854012aa468fa01</td><td>Nick Crebassa</td><td>2009</td><td>15</td><td>432</td><td>650</td><td>Classic</td></tr><tr><td>00fcf5c6646b01ce72417b854ad2ebcff2a73c4beec096c90dd9d1e60a7fd1e9</td><td>Barry Pond</td><td>2010</td><td>14</td><td>227</td><td>350</td><td>Classic</td></tr><tr><td>0105946ed08fb4ccf5f3efcec88a83121bb5804c698b14f2ad20cf7dd2541f7f</td><td>Giulietta Weimer</td><td>2009</td><td>15</td><td>492</td><td>800</td><td>Classic</td></tr><tr><td>018fc79fefdcb46768279300fb6e32f4e1e9f627ae99e3a672244d3052462e9b</td><td>Ashley Jarboe</td><td>2009</td><td>15</td><td>495</td><td>950</td><td>Classic</td></tr><tr><td>01a041b0a5fbe79fb524be166ed14fc9f58054716ce63e9db05a67d35f767527</td><td>Christy Brittain</td><td>2009</td><td>15</td><td>604</td><td>1500</td><td>Daimond</td></tr><tr><td>02c48608c84d4e55fff763c5fccac13bc5ceca8b7c7932cb8a826644840fc504</td><td>Bradley Talbott</td><td>2010</td><td>14</td><td>92</td><td>200</td><td>Classic</td></tr><tr><td>033169eeb2aa318446ae8e8c8095650da8de9c0a48d3ea967e1b30d8102a6751</td><td>Chris Selesnick</td><td>2009</td><td>15</td><td>153</td><td>300</td><td>Classic</td></tr><tr><td>0369ac17df128032c356845c2affa7514fec536015f9a12cd48e6adfc3067395</td><td>Yana Sorensen</td><td>2009</td><td>15</td><td>153</td><td>300</td><td>Classic</td></tr><tr><td>03cb105570054c13f9cc768fa1462134f4ddbc8077501f712e3be987506ac10a</td><td>Erica Smith</td><td>2009</td><td>15</td><td>375</td><td>750</td><td>Classic</td></tr><tr><td>03de3b10f1d1797fa42d5372db545dadd5aa777b823885979bdd09fa20e9660d</td><td>Jane Waco</td><td>2010</td><td>14</td><td>217</td><td>350</td><td>Classic</td></tr><tr><td>043877670a01371fbcd859331f0b5e941cefe9c2849811cbfa302b719aca28e9</td><td>Anne McFarland</td><td>2011</td><td>13</td><td>27</td><td>100</td><td>Gold</td></tr><tr><td>045f5df947412e50b9ed9c3d263192b6922fb22edb9d09dd0cb5f00699b9afd1</td><td>Bobby Elias</td><td>2009</td><td>15</td><td>381</td><td>800</td><td>Classic</td></tr><tr><td>0484dd98ac6d61c6eaaecf48d3b5fe0ba26db2a3bc09dde14ef69cbc352d77f3</td><td>Brenda Bowman</td><td>2010</td><td>14</td><td>227</td><td>500</td><td>Classic</td></tr><tr><td>04a25c05e08770e4e47788646336a5197d5637a6d1d8530f47a7542e1c848b7c</td><td>John Murray</td><td>2009</td><td>15</td><td>342</td><td>650</td><td>Classic</td></tr><tr><td>04b4a7b0d0be27d672931d8cf2c335af25470b792a942bf3c53ae7c2321a4972</td><td>Dionis Lloyd</td><td>2009</td><td>15</td><td>233</td><td>550</td><td>Classic</td></tr><tr><td>04b566a5700b9c9a660782824de3fae4a3f135f31a89c8d89035c278397a8998</td><td>Tonja Turnell</td><td>2009</td><td>15</td><td>395</td><td>700</td><td>Classic</td></tr><tr><td>04e3af039f6f9cf64fe4e4d1be54cb6c4cbce4ef6929222f2fc509ea60568a14</td><td>Vivek Grady</td><td>2009</td><td>15</td><td>552</td><td>1350</td><td>Daimond</td></tr><tr><td>04f42e90c8977b09fe318b42b5458d679cf2acc9669fbdba31ad08335a55248e</td><td>Lauren Leatherbury</td><td>2009</td><td>15</td><td>657</td><td>1400</td><td>Daimond</td></tr><tr><td>052c513c02579c9042cb5774784d8c5c8f06a2db63d7df5cbf596a5960a25c24</td><td>Bill Overfelt</td><td>2009</td><td>15</td><td>296</td><td>550</td><td>Classic</td></tr><tr><td>059ae84db3a4e7d61daf4943cf7c7353a89541e58541d27babaaa4dfcf40d70e</td><td>Keith Dawkins</td><td>2009</td><td>15</td><td>348</td><td>900</td><td>Classic</td></tr><tr><td>061ce599d1ba7311e9b2c34f16d28fd156b6cd1158938df6a86125ff0e869f7d</td><td>David Philippe</td><td>2009</td><td>15</td><td>292</td><td>550</td><td>Classic</td></tr><tr><td>06995bd404f477b2b964353f1a79077604e5c41c0e73b47dd4ce6f8bbe064bf7</td><td>Toby Carlisle</td><td>2010</td><td>14</td><td>154</td><td>400</td><td>Classic</td></tr><tr><td>06a4de5b13d3ff590e897c76f81026e1c20e46ce500231294b10d419b2471ec9</td><td>Nathan Mautz</td><td>2009</td><td>15</td><td>647</td><td>1300</td><td>Daimond</td></tr><tr><td>075609fdf9c07ddef4b9259b6c56a3291e98d6494c8e9d06351e6a38f5550564</td><td>Christopher Conant</td><td>2009</td><td>15</td><td>209</td><td>600</td><td>Classic</td></tr><tr><td>0793a35adbcd0469c7729c5de1cd1f3372de3945e6ff6434905b586b5a722aed</td><td>Jeremy Ellison</td><td>2009</td><td>15</td><td>91</td><td>150</td><td>Classic</td></tr><tr><td>07de8c2693a047311aac3bb2e1a7bf301d9e290b04431926048d92a40e3bbfd0</td><td>Nora Price</td><td>2009</td><td>15</td><td>675</td><td>1600</td><td>Daimond</td></tr><tr><td>07f3f14b28ce55cd671554eef9decec7955ba1c8a2f54bf3b5252838bd4022a5</td><td>Susan Pistek</td><td>2009</td><td>15</td><td>109</td><td>300</td><td>Classic</td></tr><tr><td>0802db7347bb4f1a3a7e0310647f22cfdabd74a13450c9f28892e05d93907fe6</td><td>Anthony O'Donnell</td><td>2009</td><td>15</td><td>242</td><td>500</td><td>Classic</td></tr><tr><td>0898d2b2c0071a3ff9dde80a1ae1d12123e3f5b9b388ae4c40d83343b26c6cd3</td><td>Vivek Sundaresam</td><td>2010</td><td>14</td><td>170</td><td>400</td><td>Classic</td></tr><tr><td>08d05646fc39bbe28a8e36601be2d3844a895c231a882e220539c7481ce843e9</td><td>Ken Brennan</td><td>2009</td><td>15</td><td>230</td><td>500</td><td>Classic</td></tr><tr><td>08e78c5c7016583ea3b387fe33cb9294d4b65d1915e5347516f2447fb63a4634</td><td>Maya Herman</td><td>2009</td><td>15</td><td>221</td><td>550</td><td>Classic</td></tr><tr><td>08ed85f3a659f33e49e72286ad34d69db859e210d88466993f7645c9530d02e0</td><td>Melanie Page</td><td>2009</td><td>15</td><td>344</td><td>600</td><td>Classic</td></tr><tr><td>092bbdda282fd43fe4a1bff177dbd53f5e96c5f47098fa535a513bdf442c0877</td><td>Maurice Satty</td><td>2009</td><td>15</td><td>56</td><td>200</td><td>Classic</td></tr><tr><td>0938650cdb648100e7fca825a1f6136e5835fc36232f3375ff7d71c2925b36f7</td><td>Eva Jacobs</td><td>2009</td><td>15</td><td>384</td><td>800</td><td>Classic</td></tr><tr><td>09917c0e2ed240d3f8973cea239d664d7c7ef7c582c1083d3fb75ec4c082057b</td><td>Adam Hart</td><td>2009</td><td>15</td><td>506</td><td>1550</td><td>Daimond</td></tr><tr><td>0b1ea44dafe0f4a475bdf08b4e0d0557a9f2481ab884bd94a734d82c402717b5</td><td>Jill Matthias</td><td>2009</td><td>15</td><td>138</td><td>350</td><td>Classic</td></tr><tr><td>0b3bc5dfa9bb1de600da4f502f79fec94747949a105fc522d0a4de4f25eb2703</td><td>Mark Haberlin</td><td>2009</td><td>15</td><td>182</td><td>400</td><td>Classic</td></tr><tr><td>0b77dc33b331c977efbbf2151ab5a60d78e0a8dbec4b537794d85a836f2cc87b</td><td>Chuck Magee</td><td>2009</td><td>15</td><td>111</td><td>250</td><td>Classic</td></tr><tr><td>0c4bf67b74c997a8db741822e5c7f3dfc0b20aa0e246056044c13c5618390385</td><td>Harry Greene</td><td>2010</td><td>14</td><td>98</td><td>150</td><td>Classic</td></tr><tr><td>0cdc1666b77dda902251832ed1b3439c0ed68b84fc33a453fdccb44723e20354</td><td>Giulietta Dortch</td><td>2009</td><td>15</td><td>734</td><td>1600</td><td>Daimond</td></tr><tr><td>0d3327a2829b24a3ab19448dbe85f5a38ae66b2b367c18717a2200948da8cb11</td><td>Mary Zewe</td><td>2009</td><td>15</td><td>129</td><td>250</td><td>Classic</td></tr><tr><td>0d70c60e67ee695abca5f9b6d6058bbc5dc67b0dc572d9462c5c2ef0bfb04b20</td><td>Paul Lucas</td><td>2009</td><td>15</td><td>99</td><td>300</td><td>Classic</td></tr><tr><td>0de04a07de4b1b0dcc8e6a5699ecd66a9c7500a4127a79b29ed7ed8b49d8ade4</td><td>Julie Kriz</td><td>2009</td><td>15</td><td>201</td><td>400</td><td>Classic</td></tr><tr><td>0de518a0b7f4d8cc4564456d9849bc7500b6bb8689963829752fb381945e22b3</td><td>Christina Anderson</td><td>2009</td><td>15</td><td>259</td><td>350</td><td>Classic</td></tr><tr><td>0e18e652aac8016d3b3c642f39bfbc973d2834d848cfb835ceb40435733eef37</td><td>Ed Jacobs</td><td>2009</td><td>15</td><td>145</td><td>300</td><td>Classic</td></tr><tr><td>0ea0617fcd2092956d0c998f635359d9decd2f2c6c83591346b139350d743e0e</td><td>Sarah Jordon</td><td>2009</td><td>15</td><td>193</td><td>400</td><td>Classic</td></tr><tr><td>0eceb1abe53e7c3ac3ea4f175577c5af68f2e25520638ec5b35cb9d495974571</td><td>Kelly Andreada</td><td>2009</td><td>15</td><td>160</td><td>400</td><td>Classic</td></tr><tr><td>0ed9bf0dcaa019266eefd4035d03d7fde51d6837d755f4881a4516b06e6c0fa8</td><td>Chuck Clark</td><td>2009</td><td>15</td><td>543</td><td>1150</td><td>Daimond</td></tr><tr><td>0f2e6f58fd81b54aee95b2013175aadca26822bcc51966287fc97a67e989b511</td><td>Toby Knight</td><td>2009</td><td>15</td><td>137</td><td>350</td><td>Classic</td></tr><tr><td>0fb77b87360fcb496a32cb2673d291c1a83fd88c48d968a4b79d55a169e7144b</td><td>Larry Tron</td><td>2009</td><td>15</td><td>513</td><td>1000</td><td>Daimond</td></tr><tr><td>0ff9ada2631346808c7d1bba4f5b5a1f23cd8a9e1c06c5796ce7d13c0175e36b</td><td>Heather Jas</td><td>2009</td><td>15</td><td>113</td><td>150</td><td>Classic</td></tr><tr><td>1072a523c69ae8f0187cb182b08a3ffb53c00d2d9a49ab7aeb2adc31aba4c84d</td><td>Rachel Payne</td><td>2009</td><td>15</td><td>276</td><td>500</td><td>Classic</td></tr><tr><td>10c105139e2a0246ac9305078cad24292b1a917a2e561d18ed4c5f02fdfae080</td><td>Alex Avila</td><td>2009</td><td>15</td><td>410</td><td>700</td><td>Classic</td></tr><tr><td>10c7310fb3780dfa6ceb8c8d1a8a8d4046d2e3fbb734dbe96e3335778121090d</td><td>Henry Goldwyn</td><td>2009</td><td>15</td><td>243</td><td>500</td><td>Classic</td></tr><tr><td>10e41e5bcc9f9947b13b67d3aa460f52dcb04dfd6cb50e51bb250f8f159eabea</td><td>Roy Skaria</td><td>2009</td><td>15</td><td>773</td><td>1500</td><td>Daimond</td></tr><tr><td>1193e8010b51cd44c5ea3ce36c13e4e631ac7c427a08c17a32ee9a229276d71e</td><td>Bruce Money</td><td>2010</td><td>14</td><td>55</td><td>150</td><td>Classic</td></tr><tr><td>11b988dabb31d707f0489e3ef88d57c650eef355bb29d7008a1150efd89ca140</td><td>Scott Cohen</td><td>2009</td><td>15</td><td>240</td><td>600</td><td>Classic</td></tr><tr><td>1200bba41e2048d080096176a859ce3f6c9c61235d6ff3f3bee15a0cca45956f</td><td>Ryan Akin</td><td>2009</td><td>15</td><td>127</td><td>250</td><td>Classic</td></tr><tr><td>122636d71225b9df54757209ab41bf0ecb92aa0ab7f6b3122f0a35bfdb878969</td><td>Nicole Brennan</td><td>2009</td><td>15</td><td>545</td><td>1300</td><td>Daimond</td></tr><tr><td>12baa372aa2b34f88fe8cde5e986730d85feb52498a5e601fe276ee917aab4ca</td><td>Darrin Van Huff</td><td>2009</td><td>15</td><td>199</td><td>450</td><td>Classic</td></tr><tr><td>132b3fabc6e340c4b9a05b9b19b8963b344a01367e32690785bb73db95f50a0c</td><td>Anemone Ratner</td><td>2010</td><td>14</td><td>287</td><td>600</td><td>Classic</td></tr><tr><td>136d2dcc58235d6f3fecb6222bf3ae4c9bb00c635db1c1370edf2e86a903924e</td><td>Maria Zettner</td><td>2009</td><td>15</td><td>304</td><td>600</td><td>Classic</td></tr><tr><td>13c182b1e4af071deaf51b0202aa1d4a18d24a66ffc06d70c2b3564a21c55345</td><td>Michael Paige</td><td>2010</td><td>14</td><td>171</td><td>300</td><td>Classic</td></tr><tr><td>13d0c2650cd31c1a2d2c1093852a2e52be6abce908cd64d66efe52f8cf5295a7</td><td>Jim Sink</td><td>2009</td><td>15</td><td>393</td><td>550</td><td>Classic</td></tr><tr><td>1424395112f8a5b8ecc052866d6cdb9e2688947eff721acf81bf9fd590849b12</td><td>Michelle Lonsdale</td><td>2011</td><td>13</td><td>286</td><td>700</td><td>Classic</td></tr><tr><td>14b432c4d10a5ee3c0af1c91d208f0daa24665251008c2d7c7c26ec3de394ac8</td><td>Muhammed MacIntyre</td><td>2009</td><td>15</td><td>322</td><td>650</td><td>Classic</td></tr><tr><td>14e6ac014029ae8d5cb44dc9988cf4cf277f1f3904f7eb304f87a03e58fd6dee</td><td>Ben Wallace</td><td>2009</td><td>15</td><td>210</td><td>400</td><td>Classic</td></tr><tr><td>151750c6a693ff2000f3da34245b13103a667daf6b49a92399ff86ba66be4e56</td><td>Chad Sievert</td><td>2009</td><td>15</td><td>270</td><td>550</td><td>Classic</td></tr><tr><td>151d04fcbcd6b8bd6b17e352361b2994d24e52b11bb2218813b7a2b5050feab1</td><td>Erin Mull</td><td>2009</td><td>15</td><td>260</td><td>550</td><td>Classic</td></tr><tr><td>159648aed86f0d8412991c9af782bcccbe7c91127f0636614c45b04adafe11fa</td><td>Brosina Hoffman</td><td>2009</td><td>15</td><td>151</td><td>300</td><td>Classic</td></tr><tr><td>15f5465e73de75f9ca195edaa760f0974dcce4adc7edfa9cf6c6c95e70cd4ccf</td><td>Dean Braden</td><td>2009</td><td>15</td><td>38</td><td>100</td><td>Classic</td></tr><tr><td>160467acfa4f36bf3d51ab3b745f3f70905803f31a2f89138ef8796b4c71f39d</td><td>Ed Ludwig</td><td>2009</td><td>15</td><td>438</td><td>700</td><td>Classic</td></tr><tr><td>161e83995502de2067fdce02285164deb0833359deb482d815b2a41d695c7a56</td><td>Steve Chapman</td><td>2009</td><td>15</td><td>378</td><td>800</td><td>Classic</td></tr><tr><td>1655ae38b5091c88b4709fa0c24e0e114d0e7ce3493c8e8c9a23337d5d296551</td><td>Darrin Sayre</td><td>2009</td><td>15</td><td>237</td><td>400</td><td>Classic</td></tr><tr><td>16627e687178cfcae7f1d9eece60691922845377795f77f051436bb834a49f4d</td><td>Frank Price</td><td>2010</td><td>14</td><td>125</td><td>300</td><td>Classic</td></tr><tr><td>16df83b80f9a980dd09980086ed1ba2ac02b5f36f6e642fd161003087a57ba4d</td><td>Thea Hendricks</td><td>2011</td><td>13</td><td>192</td><td>400</td><td>Gold</td></tr><tr><td>16f5e3e5939745b2ac4f59f859670751c169d90e16b20dabddba3e70f5ec89c1</td><td>Jim Kriz</td><td>2009</td><td>15</td><td>421</td><td>650</td><td>Classic</td></tr><tr><td>17f942428e509d4b7769069542abafe9b6402238c4106a5cfc3960456a870dc3</td><td>Tom Ashbrook</td><td>2010</td><td>14</td><td>216</td><td>450</td><td>Classic</td></tr><tr><td>18534d3f963ce903bc02977190506fe153524c922f98ee896649193a6eb192a4</td><td>Tracy Zic</td><td>2010</td><td>14</td><td>180</td><td>400</td><td>Classic</td></tr><tr><td>187fac1dffba064b21170062a5609f2317937004e2c1002cb4c4683c5f248363</td><td>Lisa Ryan</td><td>2009</td><td>15</td><td>105</td><td>200</td><td>Classic</td></tr><tr><td>189487264c1534c55efda0b24b2cbd70070c2505f6d20b17c4b8551d53b152c9</td><td>Deborah Brumfield</td><td>2009</td><td>15</td><td>554</td><td>1200</td><td>Daimond</td></tr><tr><td>18bd9daf27dda998260a54a3391c15c04c0c4d987da22a4e657c7bd1ac52d8b3</td><td>Beth Thompson</td><td>2009</td><td>15</td><td>453</td><td>1000</td><td>Classic</td></tr><tr><td>18e780c8b5090b029818e6ae6ea451713b832432bd1bdee2c45996f5e503c6c0</td><td>Maribeth Schnelling</td><td>2009</td><td>15</td><td>130</td><td>250</td><td>Classic</td></tr><tr><td>1931726d2b13ca37ed6d6a4f292ed3282bef0759a6cf86541e5fb783fcee2417</td><td>Cyma Kinney</td><td>2009</td><td>15</td><td>99</td><td>300</td><td>Classic</td></tr><tr><td>19755da5e60119bb7710b2164e17d89ffe101a04f60c4fef0e0263b7e7e84a79</td><td>Marc Crier</td><td>2009</td><td>15</td><td>353</td><td>850</td><td>Classic</td></tr><tr><td>19e872f5d8f2f6a244e5a7417c6639dccc45735e544aec8ff0629b5e03f5fb44</td><td>Alex Grayson</td><td>2009</td><td>15</td><td>481</td><td>750</td><td>Classic</td></tr><tr><td>19fb0eb4b97d4ce127ae387fedde681aa15935f34feccd5c73cf2ee398cfa2e7</td><td>Gary Hwang</td><td>2009</td><td>15</td><td>422</td><td>650</td><td>Classic</td></tr><tr><td>1a0ac634beff4621785f17eabf5f65fdbef47932d92d73cbc7f340b40e19225e</td><td>Max Jones</td><td>2009</td><td>15</td><td>382</td><td>650</td><td>Classic</td></tr><tr><td>1a909b735b4175b36256f389ff9c8dea6d8177df67a3dd9ed7f6699b934dcb60</td><td>Neoma Murray</td><td>2010</td><td>14</td><td>249</td><td>400</td><td>Classic</td></tr><tr><td>1af01c669b42374d68da206d9a0b4ef38c83cd17137ed1cea09090f6ef9ae105</td><td>Gary Hansen</td><td>2010</td><td>14</td><td>95</td><td>200</td><td>Classic</td></tr><tr><td>1b06b3f9a44e7b0446797cae783598938a54618346563859f3ce4ea58999db20</td><td>Jeremy Pistek</td><td>2009</td><td>15</td><td>228</td><td>500</td><td>Classic</td></tr><tr><td>1b09539d85b22468940a9805938588c1bc4ed349c3eb8ff237de1cc330c3eb5c</td><td>Sonia Sunley</td><td>2009</td><td>15</td><td>635</td><td>1500</td><td>Daimond</td></tr><tr><td>1b32675546b3ec7dc10572407d52f20e9cbfd384e8c589607037af45aad9379f</td><td>Sam Zeldin</td><td>2009</td><td>15</td><td>52</td><td>200</td><td>Classic</td></tr><tr><td>1ba433aaaf4bd1519f688d8cfc6c4fc1bf4be5084ae48b34b481a7a864c915b2</td><td>Russell Applegate</td><td>2009</td><td>15</td><td>337</td><td>550</td><td>Classic</td></tr><tr><td>1be11b7864ea49ae22bde720848df139257015b00fc2e6f70e27999e9774ea4c</td><td>Beth Paige</td><td>2009</td><td>15</td><td>254</td><td>400</td><td>Classic</td></tr><tr><td>1cdf480865f74865bcc622fa92544ebf5b3c0ad2b26b0e03e16e6ffe82fa885e</td><td>Natalie DeCherney</td><td>2010</td><td>14</td><td>21</td><td>50</td><td>Classic</td></tr><tr><td>1d85f87d30ee3dbb594f86536226ad05637bd7479b0e9636b3b8886dd59e2a05</td><td>Hallie Redmond</td><td>2010</td><td>14</td><td>156</td><td>550</td><td>Classic</td></tr><tr><td>1dee97b9756b9b65f10834d0d5ef3a2cc233d90ef443fe9420642985f8fadc7b</td><td>David Kendrick</td><td>2009</td><td>15</td><td>150</td><td>400</td><td>Classic</td></tr><tr><td>1e647d0424b19db5aa0fbf0ebee397e8a47cf32b48fc89b37222599ac90a00d0</td><td>Thea Hudgings</td><td>2009</td><td>15</td><td>309</td><td>450</td><td>Classic</td></tr><tr><td>1e82628651952ee1e72bd72e716e30f53f50052636db3ea3d2acfd35912611d5</td><td>Berenike Kampe</td><td>2009</td><td>15</td><td>305</td><td>450</td><td>Classic</td></tr><tr><td>1f07e41c5a310fda2c158f4a6760f4b7732a0f24c20db3466a661802b9b07bf9</td><td>Rick Hansen</td><td>2009</td><td>15</td><td>321</td><td>750</td><td>Classic</td></tr><tr><td>1f1dc639c18c307a2703d0fcdd60dc317360d863e1ff0117ac7a2a49573b5754</td><td>Rick Wilson</td><td>2009</td><td>15</td><td>542</td><td>1300</td><td>Daimond</td></tr><tr><td>1f2139f589d7a0a0679c6af970972a72a5e184b1d98610fa95e6be37224b57f1</td><td>Ralph Knight</td><td>2009</td><td>15</td><td>147</td><td>350</td><td>Classic</td></tr><tr><td>1f46ad3966b04be329665717336598e334a09c372f54f34663b0adbdeb533cad</td><td>Emily Phan</td><td>2009</td><td>15</td><td>269</td><td>500</td><td>Classic</td></tr><tr><td>1f884cb1d5ba4878115939df34de5e3dbab177f694481c4c8f7acdbfaf80383d</td><td>Rob Beeghly</td><td>2009</td><td>15</td><td>261</td><td>400</td><td>Classic</td></tr><tr><td>200a059e2845582ec74efb03cc7684cc64df81a25b23967b46660b354abba4cb</td><td>Arianne Irving</td><td>2009</td><td>15</td><td>233</td><td>450</td><td>Classic</td></tr><tr><td>20b1f6988bb38f77fad46970cb9da8630b9f0675dcc2b74a30441266d8b6c2e9</td><td>Greg Maxwell</td><td>2009</td><td>15</td><td>104</td><td>150</td><td>Classic</td></tr><tr><td>211063aa2012d9e249f637a692b80cd11e4a3eac6416927e0b4605749ad177c9</td><td>Cathy Hwang</td><td>2009</td><td>15</td><td>94</td><td>200</td><td>Classic</td></tr><tr><td>2112e9c1e00bb7721175e6a99182d433bd560390356d2c70c790831e4e1a4032</td><td>Ted Butterfield</td><td>2010</td><td>14</td><td>89</td><td>100</td><td>Classic</td></tr><tr><td>214267adaeec6b7c8f0f75eb0e3482fe372a644e0aff809f47007fc04fa0154f</td><td>Christine Kargatis</td><td>2009</td><td>15</td><td>30</td><td>100</td><td>Classic</td></tr><tr><td>215a5f8ebf80cff12872d0c0a7396e8435374d57eaa048d58674919df59a44d0</td><td>Harold Ryan</td><td>2009</td><td>15</td><td>371</td><td>600</td><td>Classic</td></tr><tr><td>21a925cfa1043c0709c1d72395155595a187da59b6699e1d6c32392a8ed477e5</td><td>Susan Gilcrest</td><td>2010</td><td>14</td><td>150</td><td>200</td><td>Classic</td></tr><tr><td>220007f3b16a228bf7ed771a5eafea4e7780d42001d40c8e82f7b8e625752541</td><td>Paul Knutson</td><td>2009</td><td>15</td><td>234</td><td>550</td><td>Classic</td></tr><tr><td>221aeafc7774e8d86ae277ce0ede019ecd7cdf60c7836463f6355c3b34e9ad65</td><td>Gary Mitchum</td><td>2009</td><td>15</td><td>89</td><td>250</td><td>Classic</td></tr><tr><td>2297a9a9f69dc54e258686b495740bd7d81de3ffbaef5885c8c1a34aaaa7ace8</td><td>Mike Pelletier</td><td>2009</td><td>15</td><td>252</td><td>500</td><td>Classic</td></tr><tr><td>23f1970ca9463ff3d36d788b963de3ffb7c855028157c765afb9596838a62f00</td><td>Sue Ann Reed</td><td>2009</td><td>15</td><td>230</td><td>400</td><td>Classic</td></tr><tr><td>240239b1be097749c3ded17638a4bf5385971acbcc73dd6654451cc1cc3dce20</td><td>Natalie Fritzler</td><td>2009</td><td>15</td><td>112</td><td>200</td><td>Classic</td></tr><tr><td>241fa973f0bcb05c4bd0dd785045691547cd2c4d652daa1e308e7b3c3d757a92</td><td>Alan Hwang</td><td>2009</td><td>15</td><td>689</td><td>1550</td><td>Daimond</td></tr><tr><td>2490fb063e2af0df44f45f6711862c00638373ef65aedc81c801d210bf776a7f</td><td>Jocasta Rupert</td><td>2009</td><td>15</td><td>101</td><td>200</td><td>Classic</td></tr><tr><td>24a4ed9e16b132ba3eb448d7237185ff3a4e685ed9d65b6e2e83dac06f14e582</td><td>Marina Lichtenstein</td><td>2009</td><td>15</td><td>98</td><td>250</td><td>Classic</td></tr><tr><td>24b8bec57ef5eeec046a25c6bbfef16dc3db2b9afae0e4e6279ae2eb6a779092</td><td>Filia McAdams</td><td>2009</td><td>15</td><td>269</td><td>450</td><td>Classic</td></tr><tr><td>2514fb9cae0c75054af9c37aced3c85053b8af21a1b7bbc5f6da3407349c8434</td><td>Erin Ashbrook</td><td>2009</td><td>15</td><td>166</td><td>500</td><td>Classic</td></tr><tr><td>2522e6abde8b192691f567f2c6dde574c980074799ce5b3ce22dd1a65164f7e7</td><td>Matt Hagelstein</td><td>2011</td><td>13</td><td>61</td><td>150</td><td>Gold</td></tr><tr><td>2589da5927385a60b0bf28e8bd044735322f1b859d220d0e29510df5bc4d0c64</td><td>Shaun Chance</td><td>2009</td><td>15</td><td>237</td><td>550</td><td>Classic</td></tr><tr><td>259be8d163d3378f95b2182dc40eceaa94d72382ea74e44bd965757cb2a5742d</td><td>Katrina Willman</td><td>2010</td><td>14</td><td>310</td><td>600</td><td>Platinum</td></tr><tr><td>25b6430634f423aa7d88b26f438a43b719ec70ba4e054067964459b9c6494454</td><td>Joni Blumstein</td><td>2009</td><td>15</td><td>388</td><td>800</td><td>Classic</td></tr><tr><td>25eaa37317379b5c7719c79b186b2555b313176e5ef890fdcf3513938739e689</td><td>Kristen Hastings</td><td>2009</td><td>15</td><td>248</td><td>500</td><td>Classic</td></tr><tr><td>267e62c00b66411d570469429942c5fa7470955fb03bd50ba0141f3a01c1710b</td><td>Jonathan Howell</td><td>2009</td><td>15</td><td>127</td><td>300</td><td>Classic</td></tr><tr><td>26a8ff701670b51576e953c30c93ea50843d8bd577dcdd1762287cde683ad960</td><td>Giulietta Baptist</td><td>2010</td><td>14</td><td>230</td><td>350</td><td>Classic</td></tr><tr><td>27d28f15f9b310009331d211afb413bc259880163fcda2f6ae02d4bb3a8a850b</td><td>Noel Staavos</td><td>2009</td><td>15</td><td>548</td><td>1250</td><td>Daimond</td></tr><tr><td>27d86d0ee95308f62b2cad4c623ebedd742c058b3dde341c28a731150a6235de</td><td>Toby Grace</td><td>2011</td><td>13</td><td>153</td><td>300</td><td>Gold</td></tr><tr><td>28b5e1e4b82e23aa90b5699fb8159469669fc0ebb25c6ee975135670f99026ed</td><td>Robert Waldorf</td><td>2009</td><td>15</td><td>193</td><td>350</td><td>Classic</td></tr><tr><td>28baf94da46e6eba9fbb1af942375e727d46f6e682496a806bfee52b9c0bbd92</td><td>Frank Atkinson</td><td>2010</td><td>14</td><td>248</td><td>450</td><td>Classic</td></tr><tr><td>290a06f8069b0780b742c330b123876fb86290ec99190295179dc0e1ae60fef2</td><td>Katherine Murray</td><td>2009</td><td>15</td><td>157</td><td>400</td><td>Classic</td></tr><tr><td>29ab312ee832b934c059203661707ad5079a833d2f96f583af2cf227da93e3e5</td><td>Jay Kimmel</td><td>2011</td><td>13</td><td>145</td><td>200</td><td>Gold</td></tr><tr><td>29b8f8f54a0405dc20c84f25d2344ddb3fa644459453c184dc8237349bb460db</td><td>Kimberly Carter</td><td>2009</td><td>15</td><td>323</td><td>600</td><td>Classic</td></tr><tr><td>2a9162dec76bcbf29ae17214cfe480d323edd9f0b9f7ed75b6efe4008e362716</td><td>Sharelle Roach</td><td>2009</td><td>15</td><td>96</td><td>150</td><td>Classic</td></tr><tr><td>2ac82f8e880ce5f892bf11c17e4bfdc22703fe311fceb32adc5107e4004bf01e</td><td>Lindsay Shagiari</td><td>2010</td><td>14</td><td>122</td><td>300</td><td>Classic</td></tr><tr><td>2af1ded49c44b93a88782ffd77491edcb3b3851e8a83818a53ffe07a60d74767</td><td>Barry Weirich</td><td>2009</td><td>15</td><td>164</td><td>450</td><td>Classic</td></tr><tr><td>2b23d8d47f81764a6c5829edc9ae1b3a743e5d80f14b1c84b576144fe98e625c</td><td>Sibella Parks</td><td>2009</td><td>15</td><td>372</td><td>700</td><td>Classic</td></tr><tr><td>2c35be7297edc0b77e2479662e8150c0aff9b3132d44ef74baa402044722ce98</td><td>Michael Nguyen</td><td>2009</td><td>15</td><td>111</td><td>150</td><td>Classic</td></tr><tr><td>2c55bad098630c006140bdb4ef7a5befc9a32886ca50aa24908aa82be7ea96d7</td><td>Lisa Hazard</td><td>2009</td><td>15</td><td>260</td><td>550</td><td>Classic</td></tr><tr><td>2c63cfd0a21c1f5b6974c7aa6d6423921ec41d5bd6d4573c869cbe3d51fc5a36</td><td>Paul MacIntyre</td><td>2009</td><td>15</td><td>213</td><td>400</td><td>Classic</td></tr><tr><td>2cd8446c5a260cb4e8e90ffdc677b66aebfa1e1db4868a853ed68be297d86828</td><td>Hilary Holden</td><td>2009</td><td>15</td><td>408</td><td>750</td><td>Classic</td></tr><tr><td>2d0baf102a7a92a29a5f6c12d1e6656d1d8e74d63d3c4f716fa157f11b50a06b</td><td>Duane Noonan</td><td>2009</td><td>15</td><td>216</td><td>450</td><td>Classic</td></tr><tr><td>2d1ee28200bc044652efc192f943ca2a22a66614429d6dbaf963c7e46dc2be7a</td><td>Cari MacIntyre</td><td>2009</td><td>15</td><td>420</td><td>800</td><td>Classic</td></tr><tr><td>2ef6e88c79cbdc76ba287422270d111ce61fe9e1ab273c526b0ab36a6542ee73</td><td>Ralph Kennedy</td><td>2009</td><td>15</td><td>418</td><td>900</td><td>Classic</td></tr><tr><td>2f0bd6709f6bad57ea646ec0443217d9180c6ae36329ebc120a51d817391881b</td><td>Clay Rozendal</td><td>2009</td><td>15</td><td>124</td><td>250</td><td>Classic</td></tr><tr><td>2f3431ddad8c5c7a93c3f13ec9119c38ee811210db7b171bb9ffd02d1226d371</td><td>Astrea Jones</td><td>2009</td><td>15</td><td>187</td><td>600</td><td>Classic</td></tr><tr><td>2ff69240af214a8e97793e0a4107d4b100b73199f22c332060151cbc01b6a35e</td><td>Clay Cheatham</td><td>2009</td><td>15</td><td>100</td><td>250</td><td>Classic</td></tr><tr><td>3033ab01288babc849076860dbd729a1e4fa7c4048e98890c745bfe1895134c6</td><td>Kelly Collister</td><td>2010</td><td>14</td><td>68</td><td>150</td><td>Classic</td></tr><tr><td>30a9dceb5f733baff74883ab3968ad7c64d7b060e1af9bed4b25aa6c41b8f707</td><td>Meg O'Connel</td><td>2009</td><td>15</td><td>508</td><td>1050</td><td>Daimond</td></tr><tr><td>30c232dcba2cacb9061f7ed2a50ca548223ddfec22e4a4c6c092234830bedbc1</td><td>Corey Catlett</td><td>2010</td><td>14</td><td>266</td><td>550</td><td>Classic</td></tr><tr><td>313b031a92e682d9f9d91644dcd954bf2963238f6b0c3b15a33612fd823f41da</td><td>Dennis Kane</td><td>2009</td><td>15</td><td>525</td><td>1200</td><td>Daimond</td></tr><tr><td>319a6694398fec939ca7e6e03b344d0fe67c938136e64007d31fe0724838bd9b</td><td>Nick Zandusky</td><td>2009</td><td>15</td><td>208</td><td>450</td><td>Classic</td></tr><tr><td>31a85079343b02a762c80c6a7a413b74a7eb428225471f6da6ce7bd7ba0cbb72</td><td>Joe Elijah</td><td>2009</td><td>15</td><td>253</td><td>400</td><td>Classic</td></tr><tr><td>31abf03e963d007131782accb39951a02a7a170b64d6cb36b9dfcf6491281126</td><td>Michael Grace</td><td>2009</td><td>15</td><td>404</td><td>800</td><td>Classic</td></tr><tr><td>31cd763fe2e896605920cb11125e309f52187961d8a9f657c4b0a381c8b7dc83</td><td>Gene McClure</td><td>2009</td><td>15</td><td>188</td><td>400</td><td>Classic</td></tr><tr><td>31fecbf10caf4ef6d7a3836b34604242737d8df0c4889f9a36423c46321198db</td><td>Eugene Moren</td><td>2009</td><td>15</td><td>312</td><td>550</td><td>Classic</td></tr><tr><td>33ddabb5a0a1c54baf57ac88132b977a896b9e28d4709cbd898fdb11ac91b469</td><td>Dianna Vittorini</td><td>2009</td><td>15</td><td>265</td><td>600</td><td>Classic</td></tr><tr><td>344807ea459dfbd86423331f676805c76e93369cef082753397e03aa40e27aad</td><td>Beth Fritzler</td><td>2009</td><td>15</td><td>240</td><td>400</td><td>Classic</td></tr><tr><td>35588cdd2599d94d02e979b731a4c1514814dd069cb1c589158d09152f5e4a0b</td><td>Bryan Mills</td><td>2009</td><td>15</td><td>211</td><td>400</td><td>Classic</td></tr><tr><td>3592c238edc287f1569ccc6f1b6e0b55d66a90e6791de0633b9f8d9e3cbfdcb5</td><td>Craig Yedwab</td><td>2010</td><td>14</td><td>188</td><td>400</td><td>Classic</td></tr><tr><td>35a0e46fb79e3ae6acb270373690be938f57e69ad4b04f389e96558114391387</td><td>Rob Haberlin</td><td>2009</td><td>15</td><td>593</td><td>1350</td><td>Daimond</td></tr><tr><td>35b8b68ae838e0aab619a183b8527799a8cf615ab15782c0b44ff7b9fc089df1</td><td>Denny Blanton</td><td>2009</td><td>15</td><td>93</td><td>350</td><td>Classic</td></tr><tr><td>35c14fa7d7d34d8ba00cc15af02167c9d92232e75ca5c7370bbb408ce8afbe2e</td><td>Evan Minnotte</td><td>2009</td><td>15</td><td>184</td><td>350</td><td>Classic</td></tr><tr><td>35d04b00439baef82988264cf8de335343e375817ebe687e5f2a1290b0d87c3c</td><td>Karl Brown</td><td>2009</td><td>15</td><td>663</td><td>1350</td><td>Daimond</td></tr><tr><td>360d850c3d7945f54da94fa0a507dd28b4d9a1bf3d697ad00bb9bf2365fbaebb</td><td>Mark Hamilton</td><td>2011</td><td>13</td><td>38</td><td>100</td><td>Gold</td></tr><tr><td>361ad9c35cbc270701f76f8fc58cf228fad5cd955467447633aed780c053f535</td><td>Henia Zydlo</td><td>2009</td><td>15</td><td>207</td><td>300</td><td>Classic</td></tr><tr><td>3637fe73d3846939a9aa965d134f221fc6109dade03aeff72f4e8e6ee9a91efc</td><td>Denise Monton</td><td>2009</td><td>15</td><td>625</td><td>1550</td><td>Daimond</td></tr><tr><td>367eb6df340bd4afe3e5d931e77ecac4d2f0e4c9b4d0a9bc57f9c6508ded8b8c</td><td>Dorothy Badders</td><td>2009</td><td>15</td><td>267</td><td>400</td><td>Classic</td></tr><tr><td>36a59426f05136c590db1904975483e30e89c2c0e315122520d981c3d82d0da0</td><td>Matt Connell</td><td>2009</td><td>15</td><td>356</td><td>550</td><td>Classic</td></tr><tr><td>386058fca8945b81bd83b6e31008f6d87459660a1529116b41abc238d0aec336</td><td>Steve Carroll</td><td>2009</td><td>15</td><td>227</td><td>400</td><td>Classic</td></tr><tr><td>38be3ed0184b3b229653c2ffa0074065c65f981fe85fbbd4248e3efd448a784e</td><td>Ricardo Emerson</td><td>2011</td><td>13</td><td>187</td><td>350</td><td>Gold</td></tr><tr><td>38cecfecdfbe4a16877fbf81d8b9c61f2e274b5b19c08c9999ec0b7eb8744dc0</td><td>Tamara Willingham</td><td>2009</td><td>15</td><td>384</td><td>800</td><td>Classic</td></tr><tr><td>396021354c681e1dbb586f69b7ed27b92a4799015376ffad4bb6a5564ac79e98</td><td>Nat Gilpin</td><td>2009</td><td>15</td><td>133</td><td>350</td><td>Classic</td></tr><tr><td>3974e3b97e97f327d70931eb8684577b939e4febe8d8df63ca53526cbf96dcf7</td><td>Evan Bailliet</td><td>2009</td><td>15</td><td>138</td><td>400</td><td>Classic</td></tr><tr><td>397f65136486c9bbe139df08795f8ae89baac6e44ce80f6497b568ff0a6df4b0</td><td>Grace Kelly</td><td>2009</td><td>15</td><td>202</td><td>400</td><td>Classic</td></tr><tr><td>39bfe1e4ce657e47108aa45c9fdd6cb2b74accaa43a64e9186732c3b4203d85f</td><td>Doug O'Connell</td><td>2009</td><td>15</td><td>64</td><td>250</td><td>Classic</td></tr><tr><td>3a921a669a2f742df3980e99eacb61e3d62d196193658566057a0eea9259d491</td><td>Karen Daniels</td><td>2010</td><td>14</td><td>218</td><td>400</td><td>Classic</td></tr><tr><td>3a955b01f5e396c1d0eeefd7e982145ad6eef4027d4e85ad6a70b409e1b3bd26</td><td>Tamara Chand</td><td>2009</td><td>15</td><td>196</td><td>450</td><td>Classic</td></tr><tr><td>3aaf6d8f0dc3ac5e803c7388dc58991235294977edab2244b03611717adac01c</td><td>Lynn Smith</td><td>2009</td><td>15</td><td>240</td><td>450</td><td>Classic</td></tr><tr><td>3ab6b4cace3a73811861a015ba8a97f4e12779ba7910dd9519a9b1547e0b44aa</td><td>Frank Olsen</td><td>2009</td><td>15</td><td>88</td><td>200</td><td>Classic</td></tr><tr><td>3ae5be391673f9e63dbfa23e8b56ae9d2bf27c4942c4f8275332dfd0efbe616d</td><td>James Lanier</td><td>2009</td><td>15</td><td>370</td><td>650</td><td>Classic</td></tr><tr><td>3b20479a49434bff2a9220b8902331fde5b84092f772535bb803f84a6b381d2d</td><td>Roger Demir</td><td>2009</td><td>15</td><td>148</td><td>450</td><td>Classic</td></tr><tr><td>3b65651c9a2304b5a3ecf0ccdd7cc89e9f5e3fe5aeaef1703822742db99d85ee</td><td>Andy Yotov</td><td>2010</td><td>14</td><td>81</td><td>200</td><td>Classic</td></tr><tr><td>3bbc3af83a0c1dd53ac4893b5aee6ce9b865edb885e36df84091be5750c62572</td><td>Magdelene Morse</td><td>2009</td><td>15</td><td>289</td><td>650</td><td>Classic</td></tr><tr><td>3c11e2192e8c629b42184b209feb998984ac969fc5a0301b4ef6c7c39e7ddd24</td><td>Patrick Jones</td><td>2009</td><td>15</td><td>713</td><td>1700</td><td>Daimond</td></tr><tr><td>3c2220b146abbc80096c82d03e1c17d41cb19d7642c5b56da580179f2aee64d6</td><td>Emily Ducich</td><td>2009</td><td>15</td><td>110</td><td>250</td><td>Classic</td></tr><tr><td>3c4aa895273ad154a51ca92ef6b5dfacc88f55a45c964e92bce1e1a3ab5716a4</td><td>Sandra Glassco</td><td>2009</td><td>15</td><td>406</td><td>900</td><td>Classic</td></tr><tr><td>3c5f4f9d7bd5ae8295dd873dcd50fda96d9fe06296b8335e6b8a8961906d96e5</td><td>Michael Chen</td><td>2009</td><td>15</td><td>209</td><td>400</td><td>Classic</td></tr><tr><td>3cff804ac02c10c6ecba66d7703f7609db2f3c8a4233c72896ba63702ce2ebbf</td><td>Stephanie Ulpright</td><td>2009</td><td>15</td><td>273</td><td>550</td><td>Classic</td></tr><tr><td>3d18b46936f92bb2c782a177a02a9bd72650e8b0cf697e18b3f032e42e7a2bce</td><td>Peter McVee</td><td>2009</td><td>15</td><td>90</td><td>250</td><td>Classic</td></tr><tr><td>3d26ef86d68b647346d67419a06f22e31135d00f8d85f167cc691b97920db498</td><td>Bruce Degenhardt</td><td>2009</td><td>15</td><td>360</td><td>500</td><td>Classic</td></tr><tr><td>3d353049cfcefc6cdd1718725b66eefc744679aedec4bd476b145e8805e8945d</td><td>Lena Radford</td><td>2009</td><td>15</td><td>251</td><td>550</td><td>Classic</td></tr><tr><td>3ddfe721dd4666159e4a06c6e2579a865cfbf10eb6d7f48af20e7a8343a71381</td><td>Ben Peterman</td><td>2009</td><td>15</td><td>163</td><td>350</td><td>Classic</td></tr><tr><td>3deced8171faecd73686102a7c95ecd0bbc655476202a1472ea4cbc62594702d</td><td>Thomas Thornton</td><td>2010</td><td>14</td><td>280</td><td>500</td><td>Classic</td></tr><tr><td>3e3adc789a2b8295dbd394d0109292375a75f57158e52a2e63eb7c6afe466bd9</td><td>Jesus Ocampo</td><td>2009</td><td>15</td><td>139</td><td>250</td><td>Classic</td></tr><tr><td>3eb9d43e41868bfbf83600f215c4e649f6924731ac3e36f7879b92bb189653db</td><td>Linda Southworth</td><td>2009</td><td>15</td><td>503</td><td>1100</td><td>Daimond</td></tr><tr><td>3ec4cff4aa8c598c8c14970a1401d8a6cb01a163269e0651ada89766a0cfb761</td><td>Jas O'Carroll</td><td>2009</td><td>15</td><td>417</td><td>800</td><td>Classic</td></tr><tr><td>3ee9e03ab97b9e4d230b0a2a28df02238a4bbc8232cddb823f18868a6fca7812</td><td>Christina Vanderzanden</td><td>2009</td><td>15</td><td>627</td><td>1150</td><td>Daimond</td></tr><tr><td>3f0784e0bbdb7619091710f15923331f57e8dbf2d4e76e05866e7b5fa61e7974</td><td>Fred McMath</td><td>2010</td><td>14</td><td>470</td><td>800</td><td>Platinum</td></tr><tr><td>3f5c7b2e0b11b4b2571f73ff791b15c0eaf436fa672a9c60b5c493c0377f37bb</td><td>Jennifer Patt</td><td>2009</td><td>15</td><td>424</td><td>900</td><td>Classic</td></tr><tr><td>3f64bc6c558bc0fca70213678811aa97bcb419086c6a9302bcec4a3fea5f6b7d</td><td>Tony Sayre</td><td>2009</td><td>15</td><td>687</td><td>1650</td><td>Daimond</td></tr><tr><td>3f6ed5df4f24029d6f299e99f3ea21998e4a8d164abb46e10a56d9d2b15a3881</td><td>Cynthia Arntzen</td><td>2009</td><td>15</td><td>585</td><td>1450</td><td>Daimond</td></tr><tr><td>3fa218ff4e886e81cea52b84288dbfcfb28930ec7e3304e28c4131bb9194d094</td><td>Charles Crestani</td><td>2009</td><td>15</td><td>455</td><td>800</td><td>Classic</td></tr><tr><td>3fdc059c9ba67c2fc19ec70af40f5ce566ea0f595d94b637ca5119d447854daa</td><td>Stuart Calhoun</td><td>2009</td><td>15</td><td>218</td><td>450</td><td>Classic</td></tr><tr><td>4069f57246bb494f3da9be720da809ffe9f24af86be47de3889542ba130573d9</td><td>Yoseph Carroll</td><td>2009</td><td>15</td><td>276</td><td>450</td><td>Classic</td></tr><tr><td>4104152c4b2703d96000cdbaba1b3535dd8dcf7efebdd4d9dd480460f88da794</td><td>Bart Pistole</td><td>2009</td><td>15</td><td>55</td><td>100</td><td>Classic</td></tr><tr><td>410c6cbd3c84cd8fc080e98f8717aaa970605c82d77837de02704b78a515c017</td><td>Arthur Gainer</td><td>2009</td><td>15</td><td>291</td><td>600</td><td>Classic</td></tr><tr><td>41627ec6feb05ca4eb2192e3912def0a45bab19cf6d2901663d061e44849e14a</td><td>Claudia Miner</td><td>2009</td><td>15</td><td>141</td><td>500</td><td>Classic</td></tr><tr><td>41d968dd2ee84345c899db7ca92a2e7d64899b48874c936be9113ceebd05de33</td><td>Gary Zandusky</td><td>2009</td><td>15</td><td>234</td><td>450</td><td>Classic</td></tr><tr><td>41e6dec82a3754747544c7d40a8fc8e6f7e453a708c8cc4b57d259b5e422a8de</td><td>Mathew Reese</td><td>2009</td><td>15</td><td>519</td><td>1050</td><td>Daimond</td></tr><tr><td>42248c6e8d3096d150211e9adbf0c76b60651a64022731bcde8fa259ff0d97ca</td><td>Chad Cunningham</td><td>2010</td><td>14</td><td>124</td><td>250</td><td>Classic</td></tr><tr><td>42a69b4fb33f9508c70ee9260ac7299cdb9d9a40cb615533bc74b63c6398a2d7</td><td>Brad Norvell</td><td>2009</td><td>15</td><td>126</td><td>350</td><td>Classic</td></tr><tr><td>42af236b974ac678bfefab79d08578e7ec6d712e8c094a40a8827dbd64909f47</td><td>Jack Garza</td><td>2009</td><td>15</td><td>182</td><td>400</td><td>Classic</td></tr><tr><td>42dd2029bbed5434fbe19b1053876df7014553ff9d12c58c166572fb73358e3b</td><td>Katrina Bavinger</td><td>2009</td><td>15</td><td>137</td><td>300</td><td>Classic</td></tr><tr><td>42ef732c0404b97a427a2f849c45075c4780300bbfd32315deca5811990ba234</td><td>Craig Leslie</td><td>2009</td><td>15</td><td>229</td><td>500</td><td>Classic</td></tr><tr><td>42fb3a7e57c7512771ccfcf881464372d8695eff77a024110b575627363a0a81</td><td>Laurel Workman</td><td>2009</td><td>15</td><td>131</td><td>350</td><td>Classic</td></tr><tr><td>434c95e27fb4646fa7c092ed3f1a2cb747da3c5d0dfa0f800a441ccd5bde2da5</td><td>Anna Chung</td><td>2009</td><td>15</td><td>54</td><td>200</td><td>Classic</td></tr><tr><td>434f2abd99425cf80e570844f17a237d4417be28811006dde9f4e1eb2efffe45</td><td>Steve Nguyen</td><td>2009</td><td>15</td><td>509</td><td>1200</td><td>Daimond</td></tr><tr><td>43bf225001478f9a6820a600d6ecada959b8281d8a0a62488b4deb403690a29d</td><td>Daniel Byrd</td><td>2009</td><td>15</td><td>264</td><td>400</td><td>Classic</td></tr><tr><td>4402bfd91964016a2f6a3059e4fcb7dcaf146df33dd401b16b5c284956a417de</td><td>Cari Sayre</td><td>2009</td><td>15</td><td>445</td><td>800</td><td>Classic</td></tr><tr><td>4404ed41c72cda5124eae2e306be20f087fe241820b50a75f2fc47bc1291dd26</td><td>Tamara Manning</td><td>2009</td><td>15</td><td>282</td><td>600</td><td>Classic</td></tr><tr><td>4410b635a875967ffa22548c447e045b3b646822bc589f8de0f4a7d0c39582df</td><td>Keith Herrera</td><td>2010</td><td>14</td><td>161</td><td>300</td><td>Classic</td></tr><tr><td>4442916f23f1e8ed5c23705bb5b915dc620fddf6d737393135cb41e4b4e5fc42</td><td>Carlos Soltero</td><td>2009</td><td>15</td><td>896</td><td>1850</td><td>Daimond</td></tr><tr><td>44d366a4aa956a5e75fe58ee0acc42b40c8f0675d5ec4f4d0661a0248584fe3e</td><td>Alejandro Grove</td><td>2009</td><td>15</td><td>415</td><td>700</td><td>Classic</td></tr><tr><td>45c94540463ca4987c5a501a8d3ee6a3b54521f1c921a88cc10de12a3ec6828c</td><td>Jim Epp</td><td>2009</td><td>15</td><td>440</td><td>750</td><td>Classic</td></tr><tr><td>46b4b6a30cdcc7d3fc0971e1b219f3a4847e95f05e3eedc0f7224c8d82be1dd5</td><td>Mike Caudle</td><td>2011</td><td>13</td><td>198</td><td>350</td><td>Gold</td></tr><tr><td>46dc27f585c383ceafaa7ce84dbb0dc838aaa4965839b35b66d5aeff25b8fe31</td><td>Tim Taslimi</td><td>2009</td><td>15</td><td>183</td><td>350</td><td>Classic</td></tr><tr><td>4723ee51e3661535f11b48b588f2d27a8a276ef304ba70c0afb8b26052190e02</td><td>Liz Pelletier</td><td>2009</td><td>15</td><td>315</td><td>750</td><td>Classic</td></tr><tr><td>474dd2109f176dccee9447c46b84ff72203ec9245c00f538ece58a10ac5261b7</td><td>Russell D'Ascenzo</td><td>2010</td><td>14</td><td>67</td><td>200</td><td>Classic</td></tr><tr><td>4770ca3041502db5e72cb65a9e6228333ee89d49ca96f5c1bec0e795110fcfc9</td><td>Lela Donovan</td><td>2009</td><td>15</td><td>394</td><td>800</td><td>Classic</td></tr><tr><td>478631629320991f6dee1872ceaba6802df4718587477844a9b3add5fd73433a</td><td>Ivan Gibson</td><td>2009</td><td>15</td><td>83</td><td>250</td><td>Classic</td></tr><tr><td>479ad49a0a63f8d8dc0e3edfe8e75c3317d8865b2ec0a85842a00009c7e5eb12</td><td>Fred Chung</td><td>2010</td><td>14</td><td>165</td><td>350</td><td>Classic</td></tr><tr><td>47c7301ec42baae2e8428008e1fe59d8ca6ca6d13e90cf29e34d096fc3e5c6a6</td><td>Emily Grady</td><td>2009</td><td>15</td><td>482</td><td>950</td><td>Classic</td></tr><tr><td>4859e5727e4620157a85b9a4efdc97a506b62b921ae80028a04e1bb642c8d317</td><td>Jim Karlsson</td><td>2011</td><td>13</td><td>307</td><td>600</td><td>Classic</td></tr><tr><td>486497fee2e4d23788a1debdd64709a2f5f9256b5a9cbd5f49bd76ee43a467b4</td><td>Todd Sumrall</td><td>2011</td><td>13</td><td>54</td><td>200</td><td>Gold</td></tr><tr><td>487163772a799af178a28b48709b3adb92acb03db632acb896b46472ae58bb7e</td><td>Michelle Arnett</td><td>2009</td><td>15</td><td>374</td><td>700</td><td>Classic</td></tr><tr><td>487e1c84ea398291fef582b3a92519d5957182969efc4789a4fd250816e738e4</td><td>Sarah Bern</td><td>2009</td><td>15</td><td>98</td><td>250</td><td>Classic</td></tr><tr><td>4938d0fbca6708075d1e3537258322e5294394c3aadd2d3dd928446ba3e4d043</td><td>Odella Nelson</td><td>2009</td><td>15</td><td>366</td><td>800</td><td>Classic</td></tr><tr><td>49501ef23dc84cbbb3dc9de66a5f7fe92cb0e50d550612a3ec0fd96bedd4a778</td><td>Craig Molinari</td><td>2009</td><td>15</td><td>219</td><td>450</td><td>Classic</td></tr><tr><td>4976245a537d09c5945421eacf523447137bd7e1a3b4063bfb745824e6d93d9b</td><td>Joy Smith</td><td>2009</td><td>15</td><td>754</td><td>1600</td><td>Daimond</td></tr><tr><td>4a536b3ed54c5f45c94b05879a30981b4cc473aa3a40056d3afe1b7bb6723e0f</td><td>Alyssa Tate</td><td>2009</td><td>15</td><td>111</td><td>350</td><td>Classic</td></tr><tr><td>4afc5e30f591827fea4b0746df02672d781d7d24af077936b2fdbf9cbab585b6</td><td>Karen Carlisle</td><td>2009</td><td>15</td><td>339</td><td>750</td><td>Classic</td></tr><tr><td>4b2aae1d49d36c1ed4af3920d39882dfdfd1ad5a546e6f34efb661227fbfe6dc</td><td>Nat Carroll</td><td>2009</td><td>15</td><td>192</td><td>500</td><td>Classic</td></tr><tr><td>4b96bb2d8a5fd641eb2e71bbeeac7aa116af6e784189c722597ca44acfff7914</td><td>Justin MacKendrick</td><td>2010</td><td>14</td><td>200</td><td>300</td><td>Classic</td></tr><tr><td>4bc2fbf1f79e417b9fc3314d03f3847c450c31cf1268926c588af68f44cd75bc</td><td>Paul Van Hugh</td><td>2009</td><td>15</td><td>189</td><td>300</td><td>Classic</td></tr><tr><td>4cb1e2b254eb1ad727e5dbebcb3ecd13e6baef07f11f6ef241f333b40c2e466e</td><td>Scott Williamson</td><td>2010</td><td>14</td><td>133</td><td>150</td><td>Classic</td></tr><tr><td>4d410a6c65d1d9186f818a8956e1b56500f6a11799ee0eb554b441aa30c6150e</td><td>Valerie Takahito</td><td>2009</td><td>15</td><td>476</td><td>950</td><td>Classic</td></tr><tr><td>4d6332100165348fa813016808e349986c4ae3742810625044e51fddb679aba1</td><td>Fred Hopkins</td><td>2010</td><td>14</td><td>56</td><td>150</td><td>Classic</td></tr><tr><td>4d75b2891fbb7bf928e512cc797f150a5d32ec97b26c79e723816c6551bcb29d</td><td>Eugene Barchas</td><td>2009</td><td>15</td><td>310</td><td>500</td><td>Classic</td></tr><tr><td>4db72018568c021eab4b2fb2c6592fed194ece0096e9f3748aa01c2e70dc2797</td><td>Maribeth Dona</td><td>2009</td><td>15</td><td>235</td><td>600</td><td>Classic</td></tr><tr><td>4dbbc43538d935d1106cfcf9b154c722ef3f6253318d1de699ecf78f8ecf42af</td><td>Shui Tom</td><td>2010</td><td>14</td><td>252</td><td>450</td><td>Classic</td></tr><tr><td>4ddb56f35b601940f04142a6b582d4b0e68ee800d0f88a7cb0f18c51cd26c2f9</td><td>Tony Chapman</td><td>2009</td><td>15</td><td>241</td><td>400</td><td>Classic</td></tr><tr><td>4e892349561cb6c9f5216ddbef278d439e4aecea680e0d103696466d6c7f83a9</td><td>Barry French</td><td>2010</td><td>14</td><td>160</td><td>200</td><td>Classic</td></tr><tr><td>4ef538c03da56cccb085043a56edb7bfc97849b16a71ca630835ebce7204f309</td><td>Barry Blumstein</td><td>2009</td><td>15</td><td>338</td><td>600</td><td>Classic</td></tr><tr><td>4f1b60b8c1838ba5c0a8d0ed629b0d08a6dabffe131ec80bc6c78d2a4ddf627e</td><td>Christina DeMoss</td><td>2009</td><td>15</td><td>189</td><td>350</td><td>Classic</td></tr><tr><td>4f228e7d3d0d8c93d0c992f34a2f760a6e54dc967a1e1da9a3f7392868848477</td><td>Evan Henry</td><td>2009</td><td>15</td><td>201</td><td>550</td><td>Classic</td></tr><tr><td>4f404df4677230f9717d13a692e1b02341b8394cf6df19ce4d77513551658b1a</td><td>Anthony Witt</td><td>2012</td><td>12</td><td>177</td><td>250</td><td>Gold</td></tr><tr><td>4f8437358b22c5d88ace50538185aa7aa1bb4ccaf434d6f0d9082007ca7fb728</td><td>Scot Wooten</td><td>2009</td><td>15</td><td>59</td><td>150</td><td>Classic</td></tr><tr><td>4fa5c37d2c822b2edd85a55750616f75eba3b83f45f7ac0d76d9229d44a2c610</td><td>Alan Haines</td><td>2009</td><td>15</td><td>425</td><td>650</td><td>Classic</td></tr><tr><td>4fc8eea6eda1b94efb3ca32a30d09163002a58ac4beb9db696660cf2de941de7</td><td>Pierre Wener</td><td>2009</td><td>15</td><td>207</td><td>450</td><td>Classic</td></tr><tr><td>5002b23fe4353cd6221c4b8af73dc94b6714c415d6cbac15a910f12e56829b83</td><td>Alan Barnes</td><td>2009</td><td>15</td><td>289</td><td>700</td><td>Classic</td></tr><tr><td>501d35c3a889e57a4a3e72f27c3a6c77d7fda53e1dc6cfcb99e690bdc780f9dd</td><td>Stuart Van</td><td>2009</td><td>15</td><td>177</td><td>350</td><td>Classic</td></tr><tr><td>509e60618cef2ad50eda723bf33957832ecbce73b78cf2d067e6e1ea6ae450ea</td><td>Suzanne McNair</td><td>2009</td><td>15</td><td>227</td><td>550</td><td>Classic</td></tr><tr><td>511f7ae01a62b4af63b29164ca2cf96f0998ddf32702f41fee7ba641a76897dd</td><td>Darren Powers</td><td>2009</td><td>15</td><td>355</td><td>650</td><td>Classic</td></tr><tr><td>518776147537ddb3c8e999d943d07bc69919279bbe4d54f97c7866832359d78c</td><td>Sean Miller</td><td>2009</td><td>15</td><td>248</td><td>500</td><td>Classic</td></tr><tr><td>51b88e1a1b7f4f9f9276dc27c3906b5b4c16d2085f8a19c5df8236d335c32244</td><td>Julia Dunbar</td><td>2009</td><td>15</td><td>453</td><td>800</td><td>Classic</td></tr><tr><td>52508526a37240cdf4e6abfb221df7c03da023a26ad6edaeed47dc3bd5c9e04c</td><td>Dorris Love</td><td>2009</td><td>15</td><td>279</td><td>650</td><td>Classic</td></tr><tr><td>527038ca127d351f2144bc04b967f432d916f937d03503d5f86f4b8eb9d2064c</td><td>George Bell</td><td>2010</td><td>14</td><td>184</td><td>450</td><td>Classic</td></tr><tr><td>52ff0ebb31d5071d4cbca0a86417c6aa9d08de9453b9a0bb5d500520b5517d9e</td><td>Roland Fjeld</td><td>2009</td><td>15</td><td>129</td><td>250</td><td>Classic</td></tr><tr><td>53909514294d51545407ea2bcc883b0cd48c4bd036f138808f3f39364f10902d</td><td>Caroline Jumper</td><td>2010</td><td>14</td><td>294</td><td>600</td><td>Classic</td></tr><tr><td>53ad86a7da4d1c911d40ea77f279d52630078a61f989457d94fba8f86812cd74</td><td>Paul Stevenson</td><td>2010</td><td>14</td><td>173</td><td>350</td><td>Classic</td></tr><tr><td>542bd26a88d24710064c076695eb03fb9c4b55bd00d5a372d5dfe55821aefaac</td><td>Dennis Pardue</td><td>2010</td><td>14</td><td>546</td><td>1200</td><td>Classic</td></tr><tr><td>54ed1cb195b08224dea9f7d783f758deb3151be3588c66cff1aa1d2535591832</td><td>Edward Hooks</td><td>2009</td><td>15</td><td>266</td><td>350</td><td>Classic</td></tr><tr><td>54f6c5dea8bd1d6694ee7eac81dfd227f1995c869a6c0191cad2dc90f4bd958d</td><td>Penelope Sewall</td><td>2010</td><td>14</td><td>323</td><td>550</td><td>Classic</td></tr><tr><td>551972221f1028791258eade220e59093212529633b4857b77b6b2a788c73648</td><td>Ruben Dartt</td><td>2009</td><td>15</td><td>217</td><td>500</td><td>Classic</td></tr><tr><td>55892c7d6228a93c526bdd7cd93eee3b711936701579fc939e004428d48cd4e9</td><td>Christopher Martinez</td><td>2009</td><td>15</td><td>491</td><td>950</td><td>Classic</td></tr><tr><td>55e50d025ec065e97dcb76674b25e0248c72bc64f6f145292d869ccd0b0096e9</td><td>Arthur Wiediger</td><td>2009</td><td>15</td><td>170</td><td>250</td><td>Classic</td></tr><tr><td>56b7ee9f3e4cba4de5c61f082fb36fae517b421392bc6e8650c9341d7aa7f0c5</td><td>Bill Donatelli</td><td>2009</td><td>15</td><td>620</td><td>1450</td><td>Daimond</td></tr><tr><td>56c3a652c62d18c800ac28ce3fe0a4b9644c25ef39195a5035e9bc60784b10ff</td><td>Katherine Hughes</td><td>2009</td><td>15</td><td>196</td><td>400</td><td>Classic</td></tr><tr><td>586f8636f7a7629cd3e17e26659c5d1cba68aaf9d958e3c71fc2dae570075805</td><td>Aimee Bixby</td><td>2011</td><td>13</td><td>131</td><td>200</td><td>Gold</td></tr><tr><td>58b5e53b0e2919ddbfbdb41c0601fccdaaba1e5d88d220483c91249f92ea661f</td><td>Liz Price</td><td>2009</td><td>15</td><td>638</td><td>1250</td><td>Daimond</td></tr><tr><td>5914298238a18427ce9e56fc4144b327737d5dbbeea35a8518089ef3e0b2dad9</td><td>Jamie Kunitz</td><td>2010</td><td>14</td><td>134</td><td>400</td><td>Classic</td></tr><tr><td>595906a28e191e608c940f158783fde7e17b7fb26af05fa43f8e0a8b4e77c922</td><td>Saphhira Shifley</td><td>2009</td><td>15</td><td>468</td><td>800</td><td>Classic</td></tr><tr><td>59b4e5e854af2492ddaf130ba5a7248a1d709de7398912a47cbb8467ea42836f</td><td>Becky Martin</td><td>2009</td><td>15</td><td>175</td><td>250</td><td>Classic</td></tr><tr><td>5a54490f4cb883cc05ee735b75a47ae31405cf9d46e050b5e48c86e6f5c9d9ae</td><td>Art Foster</td><td>2009</td><td>15</td><td>343</td><td>750</td><td>Classic</td></tr><tr><td>5a6cf4e461034fcd8475f4dc5961facf1ced93216e6e94d72936a5fe4bdfd7af</td><td>Luke Schmidt</td><td>2009</td><td>15</td><td>442</td><td>900</td><td>Classic</td></tr><tr><td>5ab16e489e3204b17b444f4426a0e003e2588dee9d5a4091bba008cdbbfca39b</td><td>Tony Molinari</td><td>2009</td><td>15</td><td>280</td><td>500</td><td>Classic</td></tr><tr><td>5aff1f6aac086496781375987a2f89854e287f273ffefc187bf26cd902c1269b</td><td>Heather Kirkland</td><td>2009</td><td>15</td><td>181</td><td>400</td><td>Classic</td></tr><tr><td>5b0a4fb8abc5d4c13054089517d26156fbfc8d93305536523211f40c3e25773e</td><td>Mitch Webber</td><td>2009</td><td>15</td><td>223</td><td>400</td><td>Classic</td></tr><tr><td>5b20102444abdb2f42c86893781188bc6081661ca3700e53c3bfdb1bfa6ed150</td><td>Laurel Elliston</td><td>2009</td><td>15</td><td>399</td><td>950</td><td>Classic</td></tr><tr><td>5b579ccf5b583de4c3adf6023355987d6561e06fd005950a92d7270869e20985</td><td>Matthew Clasen</td><td>2009</td><td>15</td><td>78</td><td>250</td><td>Classic</td></tr><tr><td>5c0fd0898abf9d590014a023af4bc709a60a82e299841be09cc172a7ab9f80cf</td><td>Resi Polking</td><td>2009</td><td>15</td><td>316</td><td>450</td><td>Classic</td></tr><tr><td>5c386c540563f02a93b46b3915fadbc518490b6ab881671451e1d68d48a64a27</td><td>Hunter Lopez</td><td>2009</td><td>15</td><td>225</td><td>400</td><td>Classic</td></tr><tr><td>5c599dabe4fa7ddda9fde18a2292d3535789db9e8749ae3180be6a238c75c1ef</td><td>Mike Kennedy</td><td>2009</td><td>15</td><td>382</td><td>700</td><td>Classic</td></tr><tr><td>5c83cd27a54ce084b03ba8dc73bdf2f06c267cdc70907d634ae5ef9408b35f63</td><td>Sarah Brown</td><td>2009</td><td>15</td><td>331</td><td>600</td><td>Classic</td></tr><tr><td>5cc2ef07c078829f755ac292609bcf6db74e4872b03c7c3a427cc254fc10cc0e</td><td>Ross DeVincentis</td><td>2010</td><td>14</td><td>113</td><td>150</td><td>Classic</td></tr><tr><td>5d3ec596d6d6e994828ed7b179663c4879716ac82f8ea37aba3261581f9fe528</td><td>Craig Carreira</td><td>2012</td><td>12</td><td>8</td><td>50</td><td>Gold</td></tr><tr><td>5d433e0b622d40fbb24cb6e11b6873652d7700977fabe197ac69397abcee6997</td><td>Maureen Gastineau</td><td>2010</td><td>14</td><td>333</td><td>700</td><td>Platinum</td></tr><tr><td>5d4c45642034061fa6e3741733abd2a862c71aa42bba102ffe932bd3ef225c7f</td><td>Adrian Barton</td><td>2011</td><td>13</td><td>84</td><td>250</td><td>Gold</td></tr><tr><td>5d69542371169eda312e769f1a35a75235d8fcce0b7afa0921310db2a5102a41</td><td>Robert Marley</td><td>2009</td><td>15</td><td>199</td><td>550</td><td>Classic</td></tr><tr><td>5ddfb7389f5b5ca2a723df6e3d44b53c67bcf853fa25ab4b63eed30670d67bf1</td><td>Sean Braxton</td><td>2009</td><td>15</td><td>202</td><td>600</td><td>Classic</td></tr><tr><td>5e710d5c728a17e4b0e58f0260bc9977cc2000723a7ad23424791c6781e2ed9e</td><td>Cassandra Brandow</td><td>2011</td><td>13</td><td>103</td><td>200</td><td>Gold</td></tr><tr><td>5ef7dd40f3f8186c5046fc440e95c4b6e86ef4edd5cc0a62f2b4f97c75042039</td><td>Brian Dahlen</td><td>2009</td><td>15</td><td>177</td><td>300</td><td>Classic</td></tr><tr><td>5f12595ed64f392c7ba40fc534a207c3ea6bc7716f53fad436dc4061f7f1760d</td><td>Sean Wendt</td><td>2009</td><td>15</td><td>171</td><td>450</td><td>Classic</td></tr><tr><td>5f355d652b6f2efb54ebc80a83672c64706ca886131f1dd8f040286e6336e6fa</td><td>Adam Bellavance</td><td>2009</td><td>15</td><td>333</td><td>600</td><td>Classic</td></tr><tr><td>5f65674363bdf331d6c4126e81a962b941f8beebb3677131fc0c89f105482a81</td><td>Christine Sundaresam</td><td>2009</td><td>15</td><td>301</td><td>550</td><td>Classic</td></tr><tr><td>5f830097b07860b00765b9e8beb933119694b50499454ab39178049d6cd7eea3</td><td>Larry Blacks</td><td>2009</td><td>15</td><td>91</td><td>250</td><td>Classic</td></tr><tr><td>5feed99a70e119deb77bbcacfa60c9dcd688e14ee7d1e4e80c933689ffecbf18</td><td>Catherine Glotzbach</td><td>2010</td><td>14</td><td>233</td><td>400</td><td>Classic</td></tr><tr><td>6018bf74c2b9d6194fc41a758b91439095d4d40c4ba6c3a0effc1be7948c46cf</td><td>Kelly Lampkin</td><td>2009</td><td>15</td><td>286</td><td>600</td><td>Classic</td></tr><tr><td>6047cb2dfe479371bfc6adea9940e2ea1e009a78fb5c12d7457659877ffc5018</td><td>Brian Thompson</td><td>2009</td><td>15</td><td>128</td><td>250</td><td>Classic</td></tr><tr><td>605a16fae519a1f404bd3dfbc983037f747796c099e52ad675ccd3e23fb5dc6f</td><td>Jack O'Briant</td><td>2009</td><td>15</td><td>662</td><td>1600</td><td>Daimond</td></tr><tr><td>60845b0502b3be10c881b02cc3f63ce3279cd7a6c3db622e524988ae1ef710db</td><td>Frank Hawley</td><td>2009</td><td>15</td><td>314</td><td>600</td><td>Classic</td></tr><tr><td>615174ce0697b0a0780857309cb2295d9bdffa7e0bde510567ea8ecd15c41147</td><td>Anna Haberlin</td><td>2010</td><td>14</td><td>217</td><td>350</td><td>Classic</td></tr><tr><td>61bbb765a66307d381e80c7ae6c96fdcd04ef025147ebcd77bf76f22a1c8974c</td><td>Andy Gerbode</td><td>2009</td><td>15</td><td>177</td><td>350</td><td>Classic</td></tr><tr><td>6281ab53c93d6c38b3a4cc9cbed52bfc9f739e6a0fd2c6d8d465981a0efb8554</td><td>Muhammed Yedwab</td><td>2009</td><td>15</td><td>497</td><td>1100</td><td>Classic</td></tr><tr><td>628e4f067594bcbfbd6f8470c693e803abc72fa326bf9c3cb1b60cfa2708824a</td><td>Rick Bensley</td><td>2010</td><td>14</td><td>314</td><td>450</td><td>Classic</td></tr><tr><td>6316a4622464ab6bfeb5fd3c3049f92b3eb06b1f5045666e6c568890911ff77b</td><td>Frank Carlisle</td><td>2010</td><td>14</td><td>40</td><td>150</td><td>Classic</td></tr><tr><td>631bb89776ac256bef891b032f8b5104ac57a79a43af213972af13819fece9fa</td><td>Alejandro Savely</td><td>2009</td><td>15</td><td>169</td><td>250</td><td>Classic</td></tr><tr><td>6380a2b9a6213ea50eacbe6393a7eaa6ce003677db42816672596d8add21632e</td><td>Alyssa Crouse</td><td>2010</td><td>14</td><td>184</td><td>400</td><td>Classic</td></tr><tr><td>63da178bf8a188c616032a35014b23e77f41c2c1dfaf05ca36a3472c81379c73</td><td>James Galang</td><td>2009</td><td>15</td><td>391</td><td>650</td><td>Classic</td></tr><tr><td>63e0d6ef363a7725ba9ec7e594247597de431cdf4238480e077a7eebe0815603</td><td>Bryan Spruell</td><td>2010</td><td>14</td><td>296</td><td>600</td><td>Classic</td></tr><tr><td>64755dd6894b7317c422c86cf30c43c71cfcc4efcae2362acf98633e940242e8</td><td>Michelle Huthwaite</td><td>2009</td><td>15</td><td>349</td><td>600</td><td>Classic</td></tr><tr><td>64ab89a0a904f2c97916e7de560b3d6b9003b2fb68a0d10490eea7123f873e9f</td><td>Chris Cortes</td><td>2009</td><td>15</td><td>151</td><td>400</td><td>Classic</td></tr><tr><td>65380c2cd7d45fa633b5cd51badcd1ed19cf6b60458186dc2fbad4ae3baf4dcf</td><td>Michael Oakman</td><td>2009</td><td>15</td><td>456</td><td>900</td><td>Classic</td></tr><tr><td>65b7b0a94acd93c4b17a231f6e0d44cc791e09c34336ababb5cec2f54279b848</td><td>Katherine Nockton</td><td>2009</td><td>15</td><td>321</td><td>700</td><td>Classic</td></tr><tr><td>665a82ea8d8474a78180fd7886b903546aecbb99069bec8b8a66a9142ca5a124</td><td>Corey Lock</td><td>2009</td><td>15</td><td>286</td><td>500</td><td>Classic</td></tr><tr><td>66877f4dab7a6ac49a9b23e74fad75dbaf48e620d814066d1825cfeac8a3cbae</td><td>Luke Weiss</td><td>2010</td><td>14</td><td>309</td><td>550</td><td>Classic</td></tr><tr><td>66b7c49d637887993790b67df4b4dbe09f4aef9d8dd1547c0e8e50b64eb74e44</td><td>Barry Franz</td><td>2009</td><td>15</td><td>184</td><td>450</td><td>Classic</td></tr><tr><td>67a7a076023cd67ca904509eda577b2f3d1115ed662cebd10068faf1b036718c</td><td>Jack Lebron</td><td>2009</td><td>15</td><td>493</td><td>1100</td><td>Classic</td></tr><tr><td>67e837c7acce65ab21611c6e4cf4c20446ae547feb40358df3e99b87b98acf64</td><td>Justin Hirsh</td><td>2009</td><td>15</td><td>334</td><td>850</td><td>Classic</td></tr><tr><td>68d29d94047691b2b0309b062740c65666d4ef505dd1b4fc43531e968d28475a</td><td>Michael Stewart</td><td>2009</td><td>15</td><td>177</td><td>450</td><td>Classic</td></tr><tr><td>695ddb0a2503bc4edab75b5c94d2d8bf404a58ba4b8719b7104c71dfd6260a04</td><td>Don Jones</td><td>2009</td><td>15</td><td>117</td><td>300</td><td>Classic</td></tr><tr><td>6992e80e67de3e022cc6817d5f447b631e9308c9e056e26fda9582d195344244</td><td>Liz MacKendrick</td><td>2009</td><td>15</td><td>590</td><td>1200</td><td>Daimond</td></tr><tr><td>69cb97aef66653a4849d25658e5aced3b99dbb5921537ddb1806248351ac3c2b</td><td>Bill Shonely</td><td>2009</td><td>15</td><td>344</td><td>650</td><td>Classic</td></tr><tr><td>6b28da9654cbd65c35eb9d7e0bfba9c644124a089716aadd98a56b0bc5a68ae6</td><td>Pete Kriz</td><td>2009</td><td>15</td><td>42</td><td>150</td><td>Classic</td></tr><tr><td>6c0e4c80b830bed50777aa4dd7f2910c0edf2f53977993ce21d7d4f3672351ca</td><td>Mark Van Huff</td><td>2009</td><td>15</td><td>98</td><td>200</td><td>Classic</td></tr><tr><td>6c13c8b58dca55727f7bb209ead39ce85fe9487c1d07ee4a9eef0f9c926353c6</td><td>Edward Becker</td><td>2009</td><td>15</td><td>506</td><td>1100</td><td>Daimond</td></tr><tr><td>6c4b17e8effd6417f05bf7ce7664c7a91f73011b687aed9a645d550b426376a8</td><td>Brian Derr</td><td>2011</td><td>13</td><td>154</td><td>250</td><td>Gold</td></tr><tr><td>6cd60d9de9edad8925a51eb6793bacf1eb2ee5b696f8e524ffe3284ad6c5d577</td><td>Rob Dowd</td><td>2009</td><td>15</td><td>293</td><td>550</td><td>Classic</td></tr><tr><td>6d1811cde0aa70e35d9faf49c3953331984b4dfbd84295871a0912dc9a84b593</td><td>John Huston</td><td>2009</td><td>15</td><td>71</td><td>150</td><td>Classic</td></tr><tr><td>6d22a881105786a4cb5e0507dcfbd187856caa1b75465af7cbe7b3d4ac6ad0f4</td><td>Grant Carroll</td><td>2009</td><td>15</td><td>739</td><td>1550</td><td>Daimond</td></tr><tr><td>6d6e5955916aa263f4fc722589f1e92d7a8167ded90fa52c937e8a3c622998b4</td><td>Randy Bradley</td><td>2009</td><td>15</td><td>149</td><td>350</td><td>Classic</td></tr><tr><td>6d8e49d3e3459bf4592d136ac878a547baa7ca66fcbd96d2e92edd1c35ccd784</td><td>Valerie Dominguez</td><td>2009</td><td>15</td><td>262</td><td>450</td><td>Classic</td></tr><tr><td>6d98502ed8c04e84fe8f610f00a13c7b8def3b7958c1ed428ca0ccdd0d3bee4a</td><td>Harold Pawlan</td><td>2009</td><td>15</td><td>334</td><td>650</td><td>Classic</td></tr><tr><td>6de13bca3ab7bbd2c7184b500ce21135b7a8da9ab0980a0399de7823ffe9dd7e</td><td>Julie Creighton</td><td>2010</td><td>14</td><td>165</td><td>350</td><td>Classic</td></tr><tr><td>6e1efbb7d175d963fc4cd4b6f7be0688f0eeef4b2bb7daffca54ecc2ec8ca4b3</td><td>Rob Lucas</td><td>2010</td><td>14</td><td>58</td><td>100</td><td>Classic</td></tr><tr><td>6e5ed680a77d8b29e3d8098dd17d195802e67a916a40650f4d0e7b43d9cfbd44</td><td>Candace McMahon</td><td>2009</td><td>15</td><td>286</td><td>450</td><td>Classic</td></tr><tr><td>6ec451761105dd9bf0227488eed2a8b568a03ba8bf14460f2cfe00aa297a395b</td><td>Matt Collins</td><td>2009</td><td>15</td><td>170</td><td>400</td><td>Classic</td></tr><tr><td>6f61c3137bb3a746ceee28aa0f2a0d5f3a249a043cb734aa1e4ce57e8c6e91db</td><td>Liz Carlisle</td><td>2009</td><td>15</td><td>207</td><td>550</td><td>Classic</td></tr><tr><td>6f702a5cc52e9300b945a8e974944172187ff899e2fbbe053c3c185486643a8b</td><td>Jill Fjeld</td><td>2010</td><td>14</td><td>180</td><td>300</td><td>Classic</td></tr><tr><td>6fd7067640bab98de18b5f75cbd8d506e72b63ce0490895bfc4f06c5e3c929d6</td><td>Ross Baird</td><td>2009</td><td>15</td><td>129</td><td>300</td><td>Classic</td></tr><tr><td>7061644fd4bcb170a3a8267205cdaebede9b83bcb589c3e1bbb8ae058ef1cf49</td><td>John Grady</td><td>2010</td><td>14</td><td>71</td><td>150</td><td>Classic</td></tr><tr><td>70a63f1112c3bd484fabe2a7a66abbcf765509357fc7096f58c29f7f51b5a7db</td><td>Shahid Collister</td><td>2009</td><td>15</td><td>153</td><td>300</td><td>Classic</td></tr><tr><td>70c7fef87e2eb18857c166ceecc6e8465643c7c4b99a6a1c428d7dc81e3a63f8</td><td>Joel Jenkins</td><td>2010</td><td>14</td><td>85</td><td>200</td><td>Classic</td></tr><tr><td>71171fca026b1e5eddce54382e0f7ae23d82736aea09fa2514a4454095595bda</td><td>Jim Mitchum</td><td>2009</td><td>15</td><td>253</td><td>500</td><td>Classic</td></tr><tr><td>713215ceea0715f6b43765352b5289ac6d510a413c0a974f3fba024c57d5309d</td><td>Joni Wasserman</td><td>2009</td><td>15</td><td>248</td><td>600</td><td>Classic</td></tr><tr><td>71465f6c54cb54729192c30b2ae816602413b0dec41ecdfd6369ace2c62cec7d</td><td>Damala Kotsonis</td><td>2009</td><td>15</td><td>351</td><td>650</td><td>Classic</td></tr><tr><td>7244e82fbb5c13992488e3bae0f92e332506874c69731203c81916dc9057fb0d</td><td>Brendan Sweed</td><td>2009</td><td>15</td><td>238</td><td>550</td><td>Classic</td></tr><tr><td>7258b952ca46326b6890846e0b0e6cc4be04adb2f1038668d556810a775c23e8</td><td>Sung Pak</td><td>2010</td><td>14</td><td>234</td><td>400</td><td>Classic</td></tr><tr><td>726489c622c22ad3249a734230d5b71edcb6d8c5e8b274ccb77fa41f9e0378d7</td><td>Delfina Latchford</td><td>2009</td><td>15</td><td>154</td><td>300</td><td>Classic</td></tr><tr><td>730c3bf3497e2868ddca9571ab596d7d7c05c87abbc8524d9e460ff7c30aadf5</td><td>Erin Smith</td><td>2010</td><td>14</td><td>133</td><td>250</td><td>Classic</td></tr><tr><td>741905b9c79999208becabf6a176e48271cd311ec8185b8b7b8623d4d306c18a</td><td>Stephanie Phelps</td><td>2009</td><td>15</td><td>261</td><td>600</td><td>Classic</td></tr><tr><td>748710f958bcc87c7c408b7eb0f2b14634a51c79e885df5ad30aa0e77905d6d4</td><td>Carol Darley</td><td>2009</td><td>15</td><td>276</td><td>450</td><td>Classic</td></tr><tr><td>7501160fd5e8d90c7f1d80d59fc98e9efda931f68897716cb7efe4a75d3cc415</td><td>Tamara Dahlen</td><td>2009</td><td>15</td><td>213</td><td>450</td><td>Classic</td></tr><tr><td>751f994a3d3b5b290a0f619f1f6d9f58003cb0875f934ad1b3dec4d4b14bfa61</td><td>Dan Reichenbach</td><td>2009</td><td>15</td><td>181</td><td>300</td><td>Classic</td></tr><tr><td>7631f1104d778baefd152fa8ac7bb941ca69f8e1318974e804d9a00b75c4847e</td><td>Ben Ferrer</td><td>2009</td><td>15</td><td>134</td><td>300</td><td>Classic</td></tr><tr><td>76521ed023170f59e15bce58e2d9e84d5a10330fa682d39493c12bcf17a95af5</td><td>Allen Armold</td><td>2009</td><td>15</td><td>189</td><td>350</td><td>Classic</td></tr><tr><td>76aac39a76d2e68327c5aaf66e05f93922f50a1db0df084850d4f655b829c8d2</td><td>Julia West</td><td>2009</td><td>15</td><td>275</td><td>500</td><td>Classic</td></tr><tr><td>77064ffdb622e8223f8196c130e3532914df90e1898ca0b797b8480a06f53170</td><td>Jonathan Doherty</td><td>2009</td><td>15</td><td>574</td><td>1300</td><td>Daimond</td></tr><tr><td>7780fe937339db62c979ea88ad050683f4ba8a62a8ca499be9dfefd68e2d3d6f</td><td>Elpida Rittenbach</td><td>2009</td><td>15</td><td>184</td><td>400</td><td>Classic</td></tr><tr><td>7854bf44e01326dd7ad95a98248d6cabcacaa663de5c2c6116e64d3a4a933254</td><td>Mike Gockenbach</td><td>2009</td><td>15</td><td>285</td><td>450</td><td>Classic</td></tr><tr><td>78ebe87dee35447df50040503dd0159181cca2f947fe2416fa7e484970100955</td><td>Allen Rosenblatt</td><td>2009</td><td>15</td><td>136</td><td>300</td><td>Classic</td></tr><tr><td>79412eca913e6f34aa530cc151cb8d4ed79e6c64942cfb9d6aa86292a8890a4a</td><td>Sean O'Donnell</td><td>2009</td><td>15</td><td>454</td><td>800</td><td>Classic</td></tr><tr><td>79af9b87a4075552073f26f8d1793e9d12bd04c1dd1f64a3fdb7486af13550f2</td><td>Pete Takahito</td><td>2009</td><td>15</td><td>231</td><td>400</td><td>Classic</td></tr><tr><td>7a43cd081dfb3a1681496cf9373cdb7d6d85ec2477710b95c2470ff75649ba06</td><td>Sung Shariari</td><td>2009</td><td>15</td><td>216</td><td>500</td><td>Classic</td></tr><tr><td>7a7d651daf4b0b8e200fceb6d4cec5a22ca32ec3198c71a435bf360e5fa1ddd7</td><td>Christine Abelman</td><td>2009</td><td>15</td><td>471</td><td>850</td><td>Classic</td></tr><tr><td>7aaf5748ac751d6c9eb5b8dfd372eee15c136af82ae3d6e472f4ec2619828887</td><td>Karen Seio</td><td>2009</td><td>15</td><td>299</td><td>600</td><td>Classic</td></tr><tr><td>7b0c1c8bc54205c34fc34e31ff7d468a45fb7b568d5c1b3d9659891ff5126d70</td><td>Pauline Chand</td><td>2009</td><td>15</td><td>537</td><td>1400</td><td>Daimond</td></tr><tr><td>7b2e2f9052d2b6d4b48cc1df5ff3840333f29205801ee6d76cf71a7c4f94f835</td><td>Shirley Jackson</td><td>2009</td><td>15</td><td>223</td><td>400</td><td>Classic</td></tr><tr><td>7b3aa691d0178f482bdb2cb02e8990bb8f755d65e6540854679a3d1a46f1237e</td><td>Charles Sheldon</td><td>2009</td><td>15</td><td>210</td><td>350</td><td>Classic</td></tr><tr><td>7bb3755527193638a5c501d038bf0e44944942de53c9417bdf59aa98c299925f</td><td>Joseph Holt</td><td>2009</td><td>15</td><td>114</td><td>150</td><td>Classic</td></tr><tr><td>7bce59f6a6278f4accb3b7ce3fe6260cd61d3a61a08ff80292c8daf84f61bb2f</td><td>Craig Rider</td><td>2009</td><td>15</td><td>95</td><td>100</td><td>Classic</td></tr><tr><td>7c8079ced9e87c24e7bfc2e76bfdece96d7383fd30a348c4d69d4db2c002af11</td><td>Lindsay Williams</td><td>2009</td><td>15</td><td>62</td><td>150</td><td>Classic</td></tr><tr><td>7d0d033e5367204785e8cf194879c72372b989ebbb4be5b9be1a27949f7c3681</td><td>Neil French</td><td>2009</td><td>15</td><td>274</td><td>650</td><td>Classic</td></tr><tr><td>7d3ae796f6a2d889a7a7081137c214f6eb109a3db8b167fc6d1435c49f3bc9e0</td><td>George Ashbrook</td><td>2009</td><td>15</td><td>374</td><td>700</td><td>Classic</td></tr><tr><td>7e01ddbeba180be3f36247892622fd31c0747a9488ce1d7afaeef2d060f586ea</td><td>Katherine Ducich</td><td>2009</td><td>15</td><td>154</td><td>350</td><td>Classic</td></tr><tr><td>7e9f85e95833afcf0a030d8616b676f1f2cee2d10898094bc2a75ba5439e39ec</td><td>Roy Collins</td><td>2009</td><td>15</td><td>358</td><td>750</td><td>Classic</td></tr><tr><td>7f07552dadc39df46e6d366f491e41bf1266528a71ba0b687ca2d4a1a9b32894</td><td>Brian Moss</td><td>2009</td><td>15</td><td>312</td><td>600</td><td>Classic</td></tr><tr><td>7f56abbfb7ca70fddb13eec253f5c0e8432d685854fd5511c5ca2f0a6a33bb8e</td><td>Sally Matthias</td><td>2009</td><td>15</td><td>249</td><td>550</td><td>Classic</td></tr><tr><td>7fcf731cba702a0b5e7c802274c52e09c6fb03646b84b7ceae63fc4746a8bc4c</td><td>Skye Norling</td><td>2009</td><td>15</td><td>300</td><td>450</td><td>Classic</td></tr><tr><td>7fea1e195dc74b43bc72ba8d9b926800886a4d0434c97406daa93cb9eed33217</td><td>Dave Hallsten</td><td>2009</td><td>15</td><td>527</td><td>1250</td><td>Daimond</td></tr><tr><td>80786f1ad5365d106a19b40d0b67916212eadc1d9864f16fb41c584c216d612f</td><td>Nick Radford</td><td>2009</td><td>15</td><td>242</td><td>400</td><td>Classic</td></tr><tr><td>80c0ffb8e7511b0d183323069c7c87e27541823138be68d96bc778f9252ed37a</td><td>Scot Coram</td><td>2009</td><td>15</td><td>232</td><td>400</td><td>Classic</td></tr><tr><td>815714cc71cc9a0ef2758756e90bc52d37bf3be1f318a1a07e68678cdb01a462</td><td>Paul Prost</td><td>2009</td><td>15</td><td>217</td><td>550</td><td>Classic</td></tr><tr><td>816451df1ab628c87c6f1ca7d2bce00165b88c6372a48aeabf67f817ea948b14</td><td>Jeremy Lonsdale</td><td>2009</td><td>15</td><td>429</td><td>750</td><td>Classic</td></tr><tr><td>816df87f0cb260c731107b3b1bbf018e9f3bdad01246845b7c40b1262ed56401</td><td>Mick Brown</td><td>2009</td><td>15</td><td>169</td><td>300</td><td>Classic</td></tr><tr><td>817fa89df131737fa51223cf68085f11afd5b7b1ce4d214724e3513a0eed70e6</td><td>Carol Adams</td><td>2009</td><td>15</td><td>138</td><td>200</td><td>Classic</td></tr><tr><td>82229789ff10b65c12fa538847895380ce4abef0737e61d102fa2d8ab9441c70</td><td>Bradley Nguyen</td><td>2009</td><td>15</td><td>192</td><td>300</td><td>Classic</td></tr><tr><td>822ac2c5948b9ebb8b4eeacba412dbfe8a00250b21f2c7cbf4bdc4d8f250a2a6</td><td>Benjamin Venier</td><td>2009</td><td>15</td><td>344</td><td>550</td><td>Classic</td></tr><tr><td>82d0e643aaf91bfd1f77cb2e0c6b3a784c3e1bab094cbfbeecf52cbd6493f09c</td><td>Ruben Ausman</td><td>2009</td><td>15</td><td>224</td><td>400</td><td>Classic</td></tr><tr><td>84a304c540701655acf7582a27231ce7b890c121a6dbae6c18a00f5e9a298868</td><td>Kristina Nunn</td><td>2009</td><td>15</td><td>391</td><td>700</td><td>Classic</td></tr><tr><td>85154703e55447f4495847ce71dd677fa9f1050eb0ac6a5afdc6006f6522311a</td><td>Roy French</td><td>2009</td><td>15</td><td>155</td><td>250</td><td>Classic</td></tr><tr><td>8519c43a7bab323d3d6e44fd177ec2110f1e44b9998aca3e66b623bb7ca005c7</td><td>Greg Guthrie</td><td>2009</td><td>15</td><td>546</td><td>1250</td><td>Daimond</td></tr><tr><td>853f4ebac28521a86a8c5a85399633f52bc2b87b1ffbf694fde201e4452c4340</td><td>Doug Bickford</td><td>2009</td><td>15</td><td>563</td><td>1350</td><td>Daimond</td></tr><tr><td>85d1981126b347ae4e38672aeb65fdd5cad11a9543b2071c8e1d6b7497d9b660</td><td>Nicole Fjeld</td><td>2010</td><td>14</td><td>44</td><td>100</td><td>Classic</td></tr><tr><td>85e3d46528d9ab13b1bf33b021fdfcf14b9fbdbe884f8d988737975c7e617487</td><td>Dorothy Wardle</td><td>2009</td><td>15</td><td>395</td><td>850</td><td>Classic</td></tr><tr><td>86279a31c487457ba73065e3e5287cb282feebf0844bdbe3292bd79bfd081400</td><td>Karen Ferguson</td><td>2009</td><td>15</td><td>119</td><td>400</td><td>Classic</td></tr><tr><td>865b9f0e2491415c0e55d717fe7a2fcdcf94237663b3630eb2d601853c132466</td><td>Guy Armstrong</td><td>2009</td><td>15</td><td>375</td><td>750</td><td>Classic</td></tr><tr><td>87e4721f9ce7d509109edc028b2aeef18e075f4ec9538443aec9a5351166b98d</td><td>Ken Lonsdale</td><td>2009</td><td>15</td><td>310</td><td>700</td><td>Classic</td></tr><tr><td>87f446bc3e44608598a0fa5154197bc29bc5d5f93eed2c0475a53b58bb9a7440</td><td>Phillina Ober</td><td>2009</td><td>15</td><td>144</td><td>350</td><td>Classic</td></tr><tr><td>88342fd6c13a69cf1947f7351fe0e8cb7d95c2817da044c2638cef2cf2054363</td><td>Sanjit Jacobs</td><td>2009</td><td>15</td><td>339</td><td>550</td><td>Classic</td></tr><tr><td>88cf3d259bad68e6933dddfe7d6138341ebafee4674ce1b3cdb873f5e6f4f14a</td><td>Hunter Glantz</td><td>2012</td><td>12</td><td>83</td><td>200</td><td>Gold</td></tr><tr><td>88e780296873c748aa44e54927705015a1c0680af00fb325c780701ee423094e</td><td>Philip Fox</td><td>2009</td><td>15</td><td>294</td><td>500</td><td>Classic</td></tr><tr><td>8924e40ed31fadd7e36207a07829a62c57d290505d8a7b5d911e2c42fcf27248</td><td>Nona Balk</td><td>2009</td><td>15</td><td>278</td><td>600</td><td>Classic</td></tr><tr><td>892d48d7c1eec6dc7a2a2691c2c9224eabecc104e02aa9d60354ca7e61a012b0</td><td>Kean Nguyen</td><td>2009</td><td>15</td><td>244</td><td>450</td><td>Classic</td></tr><tr><td>89e3df22d3f9f9d73610f9b583229be9245e903ebcc05f2e63588cd7cf8bdac5</td><td>Jason Klamczynski</td><td>2009</td><td>15</td><td>316</td><td>550</td><td>Classic</td></tr><tr><td>8a1801f098e023ebbbe6de8b774e69886fffb55ae83e1402569c43778308e03e</td><td>Ralph Arnett</td><td>2009</td><td>15</td><td>216</td><td>600</td><td>Classic</td></tr><tr><td>8a39d9feff28bb163fef85bb8f3a3420014e86abdedd9b0299cea631e1d4013a</td><td>Helen Wasserman</td><td>2009</td><td>15</td><td>551</td><td>1300</td><td>Daimond</td></tr><tr><td>8a408717b2c36365760c5cc85a1253628e969d2c106dc7f27fe0f85e229bae04</td><td>Bradley Drucker</td><td>2009</td><td>15</td><td>456</td><td>850</td><td>Classic</td></tr><tr><td>8aeda14518f9276d45489da8b59c6e5cc5a480826bec377860b6936f3bd8c08e</td><td>Maureen Fritzler</td><td>2010</td><td>14</td><td>249</td><td>400</td><td>Classic</td></tr><tr><td>8b0e0038adf6e75309c694cacab11a24a09aa98693ab0b0f4407d248a1c3093b</td><td>Gary McGarr</td><td>2009</td><td>15</td><td>254</td><td>400</td><td>Classic</td></tr><tr><td>8b371d7f70689858196e59f61551c6679abf81f30affe7ab6c83f9e918c11cca</td><td>Tracy Poddar</td><td>2010</td><td>14</td><td>231</td><td>600</td><td>Classic</td></tr><tr><td>8b46c06d5697825fb27f722580d47657a68724f49016d7e37e0eae7a06e199cc</td><td>John Lucas</td><td>2009</td><td>15</td><td>553</td><td>1100</td><td>Daimond</td></tr><tr><td>8b8c6440700e8a5c60149add6d350ad3ace21906e5206ed13908ee062993183a</td><td>Jessica Myrick</td><td>2009</td><td>15</td><td>258</td><td>500</td><td>Classic</td></tr><tr><td>8ba97182e9527c454b6b54edfce01f1b5a501058163fc9cd60267fc5b06f7301</td><td>Michael Granlund</td><td>2009</td><td>15</td><td>359</td><td>650</td><td>Classic</td></tr><tr><td>8c15791f3dddd44778ab074366bcf26e1ba1b84834724d38fb1dd40b97cd866d</td><td>Bobby Odegard</td><td>2009</td><td>15</td><td>288</td><td>550</td><td>Classic</td></tr><tr><td>8c21ef72cbf4a9c187988c9c05a0eaf67c6a8dc4e616432d18ac0a0647aff8fa</td><td>Monica Federle</td><td>2009</td><td>15</td><td>300</td><td>550</td><td>Classic</td></tr><tr><td>8c806e3b7f7a9c3d13afbdd4d87b3ad55093acb815455a640584ba1035c94b6b</td><td>Andrew Allen</td><td>2009</td><td>15</td><td>154</td><td>350</td><td>Classic</td></tr><tr><td>8cebc5c4b99de39702d580daa99702408b42b118a4602fee389a81e872b4508b</td><td>Matthew Grinstein</td><td>2009</td><td>15</td><td>510</td><td>1100</td><td>Daimond</td></tr><tr><td>8cf289081edf20ba2f774c6d65c85554ef0a985805830ba9c8fe8df55bc5d3eb</td><td>Charlotte Melton</td><td>2009</td><td>15</td><td>151</td><td>300</td><td>Classic</td></tr><tr><td>8d34da86898f58f219e8821554b133398375f48a071c2e9b2018e840b8f46f51</td><td>Janet Lee</td><td>2009</td><td>15</td><td>332</td><td>550</td><td>Classic</td></tr><tr><td>8d9caa69e897e11e5b8b2589761ca97d293ab5b76a3e6e3216c69e520a6e62f9</td><td>Roy Phan</td><td>2009</td><td>15</td><td>361</td><td>900</td><td>Classic</td></tr><tr><td>8df0886479bbe3ab0aaee7e68a0b203441af22b7a5a7a75f70cde6a955c7e10e</td><td>Chuck Sachs</td><td>2009</td><td>15</td><td>357</td><td>950</td><td>Classic</td></tr><tr><td>8e07df493fd32bea4a65fe201eff94d380c72e8671e90c2fe1a6ee6791d42cd9</td><td>Pete Armstrong</td><td>2010</td><td>14</td><td>208</td><td>500</td><td>Classic</td></tr><tr><td>8e77ecd8ba458e6b961216e3c9d5288de78e7d445a0790bec58527fa2f89c301</td><td>Anthony Rawles</td><td>2009</td><td>15</td><td>367</td><td>600</td><td>Classic</td></tr><tr><td>8e864096f00b5d869ffb63f9ca86b47080b1c2dcdbd3a24ae7dd084e93b1d698</td><td>Clytie Kelty</td><td>2009</td><td>15</td><td>460</td><td>900</td><td>Classic</td></tr><tr><td>8e9e117390136f613c33455e91566b73b6b7ee2fd3b0ed7cc0c504eade21a464</td><td>Cindy Stewart</td><td>2009</td><td>15</td><td>151</td><td>500</td><td>Classic</td></tr><tr><td>8eff4f2a9e612aaa76eea3f8d166fc2bbe6679f8ef59d767c4a7f23a4037d6fc</td><td>Angele Hood</td><td>2009</td><td>15</td><td>73</td><td>150</td><td>Classic</td></tr><tr><td>8f659ef8c29a9edcb559e6f84a937f59a6852ee5b45299c4ff99e1442d5b099c</td><td>Noah Childs</td><td>2009</td><td>15</td><td>136</td><td>300</td><td>Classic</td></tr><tr><td>901b53693341e9adc1e1c89ac218a8e03927b2ade3c866d13addd463f5a57aa8</td><td>Amy Cox</td><td>2009</td><td>15</td><td>442</td><td>950</td><td>Classic</td></tr><tr><td>9025053521be9bde7c21daa70ef24afbac85fa7aaba93ab21bd474d872fc116c</td><td>Andy Reiter</td><td>2009</td><td>15</td><td>199</td><td>500</td><td>Classic</td></tr><tr><td>9067d8c2b3a299c13b351312eb44b542c7d993540120c9edd5f8f130d66d6265</td><td>Tim Brockman</td><td>2009</td><td>15</td><td>263</td><td>450</td><td>Classic</td></tr><tr><td>90833b9acdd6f173823e49bbf5ace933ec63625caebde2c7b7d432f7960a2ab9</td><td>Craig Carroll</td><td>2009</td><td>15</td><td>220</td><td>450</td><td>Classic</td></tr><tr><td>91418c2a3e0b76b8971d03a3f3d8ad4c68cabc79db0f0d270cf0d1c614a88c90</td><td>Ken Dana</td><td>2009</td><td>15</td><td>342</td><td>600</td><td>Classic</td></tr><tr><td>914ad6bf169c3275320c9fb699e77afaf2b07dd7a16a11214a50f15c3afc983f</td><td>Clay Ludtke</td><td>2012</td><td>12</td><td>152</td><td>300</td><td>Gold</td></tr><tr><td>9164a9227fbb43822dba6c9e4bdb60aac69e66c9029687039f5639c2dfd9e718</td><td>Carlos Daly</td><td>2009</td><td>15</td><td>252</td><td>600</td><td>Classic</td></tr><tr><td>916863fd0a89083e806f4dac34857badfdcdb6da6425b6d4ac56370c73f0cc3b</td><td>David Flashing</td><td>2009</td><td>15</td><td>161</td><td>300</td><td>Classic</td></tr><tr><td>91b9d6dffe9b9f4bf08ed5b3c8219b648030e103f1094d5a90637f3a22142b9b</td><td>Adam Shillingsburg</td><td>2009</td><td>15</td><td>343</td><td>600</td><td>Classic</td></tr><tr><td>91bac3cd75b62d83bd11cdd95d30901a8b9a5a1b467e8f560c55a2ced4b01ebf</td><td>Victoria Wilson</td><td>2009</td><td>15</td><td>463</td><td>800</td><td>Classic</td></tr><tr><td>91dc62ff00c1e51b33f774efa192d387fe94ebefd41def777262250f840b3bc3</td><td>Rose O'Brian</td><td>2009</td><td>15</td><td>196</td><td>350</td><td>Classic</td></tr><tr><td>92017bc222a584cb826c1ab7109756bd203c027b6eae2706a6752521b7c8a73a</td><td>Carl Ludwig</td><td>2010</td><td>14</td><td>166</td><td>400</td><td>Classic</td></tr><tr><td>92425d3a3e0d8ac862a52b4ab5925b356886466c78bc2d91e61fed4b8a3d5a10</td><td>Jennifer Halladay</td><td>2010</td><td>14</td><td>213</td><td>300</td><td>Classic</td></tr><tr><td>9248986a9341c93b02be4706b6e8972834b16439e278e44276d88c55975b7e33</td><td>Dean Percer</td><td>2009</td><td>15</td><td>317</td><td>550</td><td>Classic</td></tr><tr><td>925e334223a6c2511d30286311a746438b7cbe2aa48a5098067f98340a32f9db</td><td>Phillip Breyer</td><td>2010</td><td>14</td><td>144</td><td>200</td><td>Classic</td></tr><tr><td>92700ed5f9ada6df1bd9ccd1c6e855261301c397b78f252f911b615cb016a520</td><td>Eileen Kiefer</td><td>2009</td><td>15</td><td>152</td><td>300</td><td>Classic</td></tr><tr><td>928b618f425d819b77451052ad84e60c2b8f3731d05d9f860ca0863c40800899</td><td>Rick Reed</td><td>2009</td><td>15</td><td>109</td><td>150</td><td>Classic</td></tr><tr><td>928d106ea783965c06471bc16954b85b4b166e13b5f5538a570bad7be30e7898</td><td>Tracy Hopkins</td><td>2009</td><td>15</td><td>202</td><td>300</td><td>Classic</td></tr><tr><td>928df1665bfd3dbf0ddc9f9f5c80323c6071dc90ef5cb326515defa18eec6c2a</td><td>Chad McGuire</td><td>2010</td><td>14</td><td>136</td><td>300</td><td>Classic</td></tr><tr><td>92dad6d904b57601f1a0785c623d0b21317289a552a65171e0d6a7a0b795f39c</td><td>Mitch Gastineau</td><td>2009</td><td>15</td><td>424</td><td>650</td><td>Classic</td></tr><tr><td>931f00db57c755cc0a4d43af7f61eab662e96c2c37fb01d728fe7dc643f41dcd</td><td>Michelle Tran</td><td>2009</td><td>15</td><td>314</td><td>650</td><td>Classic</td></tr><tr><td>93264b202c64a721882b9d6a0341f95fadea2b416cfa16ded99a35585095b8de</td><td>Joe Kamberova</td><td>2009</td><td>15</td><td>81</td><td>150</td><td>Classic</td></tr><tr><td>940f1b813eb597b6a620522c7dbebfa810f564b099b97b00a50c86e7464f689d</td><td>Doug Jacobs</td><td>2010</td><td>14</td><td>123</td><td>250</td><td>Classic</td></tr><tr><td>94fa84a56e1b77cf6fa955f609b2414db6d4101c4a8f0f336701d03e796a7b4d</td><td>Paul Gonzalez</td><td>2010</td><td>14</td><td>75</td><td>100</td><td>Classic</td></tr><tr><td>9565e1e7ad64ef799bc9b0bd813e0dc433dfae9e2cf2fa889424a29d8b13c5cb</td><td>Nathan Cano</td><td>2009</td><td>15</td><td>171</td><td>300</td><td>Classic</td></tr><tr><td>958692314c38f687a938e31cf37b771ddf27b87534df207d691d70d2c25df754</td><td>Katharine Harms</td><td>2009</td><td>15</td><td>136</td><td>200</td><td>Classic</td></tr><tr><td>959d8cbbd51734e7a3c6edca145731247f797971ffc5e916131fc4814a062941</td><td>Patrick O'Donnell</td><td>2009</td><td>15</td><td>250</td><td>500</td><td>Classic</td></tr><tr><td>9652c195dc8729972b79e1cc5ffb188afd410e16203b7f8cdf8f3a369c9967a4</td><td>Eugene Hildebrand</td><td>2009</td><td>15</td><td>300</td><td>550</td><td>Classic</td></tr><tr><td>96ed40b45f9b4f377f225833a1181de818c083a62f1ddd492fa9138243358c62</td><td>Neil Knudson</td><td>2009</td><td>15</td><td>570</td><td>1300</td><td>Daimond</td></tr><tr><td>9714b7d60ecad554e53103d3644405323e8bad3ea5b8dd70858ac74586133e23</td><td>Duane Benoit</td><td>2009</td><td>15</td><td>227</td><td>550</td><td>Classic</td></tr><tr><td>97b0232d8bdf5cd1fc8050fb133555e896d1015a49accb0db2b19eb13d272830</td><td>Anna Gayman</td><td>2009</td><td>15</td><td>68</td><td>150</td><td>Classic</td></tr><tr><td>97fad6aea68399d5dbc1fcb2223f458ca2e6e0a28ba4bb6925f45370d730118b</td><td>Katrina Edelman</td><td>2011</td><td>13</td><td>37</td><td>100</td><td>Gold</td></tr><tr><td>982aa8e2ce6c81f03a09a3d2901485534a02c0a0b50df025a5c3424f3d8f85ec</td><td>Raymond Book</td><td>2009</td><td>15</td><td>567</td><td>1200</td><td>Daimond</td></tr><tr><td>98e22a697f4cf3f7ac4aa6a0eb21ae1699e35401d72bdbee12d9a01592b39c82</td><td>Georgia Rosenberg</td><td>2009</td><td>15</td><td>235</td><td>400</td><td>Classic</td></tr><tr><td>9985c2dbdd6582e6514e50eb23e2fcbeb078bf0d45f750159c06663a5aacc107</td><td>Carlos Meador</td><td>2009</td><td>15</td><td>512</td><td>1250</td><td>Daimond</td></tr><tr><td>9988ba1da040084ec9aab2d9641ff4013760e7b20fd0fd1543a0d55275b93215</td><td>Guy Thornton</td><td>2009</td><td>15</td><td>276</td><td>450</td><td>Classic</td></tr><tr><td>998a70aaeaba5e6617f86cb1ce268c4633a9e948a9f636c5088692c2cc071d65</td><td>Jasper Cacioppo</td><td>2009</td><td>15</td><td>285</td><td>600</td><td>Classic</td></tr><tr><td>99ad2101263be0f3a41b462411b4de0aefd9a78326480b460b11550c8b0c64eb</td><td>Bryan Davis</td><td>2011</td><td>13</td><td>73</td><td>150</td><td>Gold</td></tr><tr><td>99b02196121eac94a9ad8bc00d85ea4e80ca638b1a7325d5550190b63ca89376</td><td>Ken Black</td><td>2010</td><td>14</td><td>81</td><td>200</td><td>Classic</td></tr><tr><td>9a10cc26d6dcb71b595df960d13daae74f3c631abec85d4c72c471786e0214c5</td><td>Toby Swindell</td><td>2009</td><td>15</td><td>329</td><td>800</td><td>Classic</td></tr><tr><td>9a124d43184ccec31548b4e11612baad0b7462420cf3fb6a31b9b4de8e70ef63</td><td>Philip Brown</td><td>2009</td><td>15</td><td>550</td><td>1150</td><td>Daimond</td></tr><tr><td>9a1b4e375de06f71a2d399a302964293017efa7446ee3f767641983039a57d14</td><td>Shirley Schmidt</td><td>2010</td><td>14</td><td>159</td><td>250</td><td>Classic</td></tr><tr><td>9b3e06ee1c34c3ccf4d8f45a8f0e48cc2d1d8c55f8e75d0735e3416dec7722fc</td><td>Joy Bell</td><td>2009</td><td>15</td><td>319</td><td>550</td><td>Classic</td></tr><tr><td>9bd0c80e01a8325658a3576b3996234c90b3e5d9622d30d830efe63094255bfa</td><td>Matt Abelman</td><td>2009</td><td>15</td><td>555</td><td>1100</td><td>Daimond</td></tr><tr><td>9ceac0f00eeacc4be46e38a320fea9657bda24503f3e3af9b6e473a80f3b9dc2</td><td>Lisa DeCherney</td><td>2009</td><td>15</td><td>674</td><td>1300</td><td>Daimond</td></tr><tr><td>9d5dfcc08ecb65648e36552c18622d2d09eb0410e0e3178503339ed006004aae</td><td>Todd Boyes</td><td>2009</td><td>15</td><td>471</td><td>850</td><td>Classic</td></tr><tr><td>9d93a5157810d83c15b7e2f95ec72de9f1c302b5c53e0661ab7e87c97f8b2565</td><td>David Bremer</td><td>2009</td><td>15</td><td>105</td><td>350</td><td>Classic</td></tr><tr><td>9dbe9cdd9e1288378a5a044f532f9c94f71ca31b2a1791f0bfc81719f0c78cfd</td><td>Brian Stugart</td><td>2009</td><td>15</td><td>356</td><td>800</td><td>Classic</td></tr><tr><td>9def45b76418617c9ff378f37ea12f3240c27e4e265195ad9863da3f2028d978</td><td>George Zrebassa</td><td>2009</td><td>15</td><td>298</td><td>550</td><td>Classic</td></tr><tr><td>9dffda4ff29a1186200bc9cb3a43b28a6766e696a35d521d41a220ee61a62f8d</td><td>Ionia McGrath</td><td>2009</td><td>15</td><td>449</td><td>900</td><td>Classic</td></tr><tr><td>9e417e8a53cf96fbb42f60dc44d227b600b07ddbaffce065901fec8be0f13d5b</td><td>Theresa Swint</td><td>2009</td><td>15</td><td>474</td><td>1000</td><td>Classic</td></tr><tr><td>9eaa22b40ca8ce5e326cf8d63f261953095aeae3fc57a27340de41675bc71109</td><td>Justin Deggeller</td><td>2010</td><td>14</td><td>172</td><td>250</td><td>Classic</td></tr><tr><td>9ecdee3bc913bdb97926871a0f03de62775b47f363ba9a9e4324ae96766c17fc</td><td>Dave Brooks</td><td>2009</td><td>15</td><td>178</td><td>300</td><td>Classic</td></tr><tr><td>9f2f61b0b4accc9a0dc76e5d48fa7cb881e8a8de2428c895b155517429d48836</td><td>Sally Hughsby</td><td>2009</td><td>15</td><td>502</td><td>1250</td><td>Daimond</td></tr><tr><td>9f7b79797209ed1fb0f0348b09c1a0eed1a119d9b648f48bae63191a85203458</td><td>Aaron Hawkins</td><td>2009</td><td>15</td><td>370</td><td>600</td><td>Classic</td></tr><tr><td>9fde7329a33e51868cf81a3574ed127bacbe4877458ba1b63c2be9371e874cdc</td><td>Alex Russell</td><td>2009</td><td>15</td><td>279</td><td>500</td><td>Classic</td></tr><tr><td>a14624e593d5fe1635de353c585b7a6f0cf315e67cd5c9780af130903783ea55</td><td>Daniel Lacy</td><td>2009</td><td>15</td><td>203</td><td>450</td><td>Classic</td></tr><tr><td>a15b141421c92e003c954e2b7462375d3d8fcc38c035814639062ae1296e821f</td><td>Dario Medina</td><td>2009</td><td>15</td><td>160</td><td>400</td><td>Classic</td></tr><tr><td>a15dc825c47d2409f80ebbaa6ca388f073d2665053c784e831e44d2f497f5cd9</td><td>Justin Knight</td><td>2009</td><td>15</td><td>375</td><td>950</td><td>Classic</td></tr><tr><td>a1947982d10ede6c5363260817cd6e1aef9751b79c41837cf7630c6e35cde7e5</td><td>Dianna Arnett</td><td>2009</td><td>15</td><td>201</td><td>300</td><td>Classic</td></tr><tr><td>a23cd7eed72429d58d7ed5cc96885a9c85b61aa688b6b086c9ed9a25689570e4</td><td>Lindsay Castell</td><td>2009</td><td>15</td><td>205</td><td>500</td><td>Classic</td></tr><tr><td>a2cbe3544b22c8b259464f7f2d00d98a0a3ba523de1f14768fbdd661531662b3</td><td>Mark Packer</td><td>2009</td><td>15</td><td>269</td><td>450</td><td>Classic</td></tr><tr><td>a328d1a7068fa0e66545fcd1124920424e5c019fc6df984242a4e3b781ab35bd</td><td>David Wiener</td><td>2010</td><td>14</td><td>189</td><td>400</td><td>Classic</td></tr><tr><td>a3f0be1cb1c89acc0ef0ab96de7419737552977b4e9e93f1d7bd993d0ac3686d</td><td>Cathy Prescott</td><td>2009</td><td>15</td><td>111</td><td>200</td><td>Classic</td></tr><tr><td>a41042a799b579450bdc8bc881a3ee2e500d7c68eb614f03829ec1936a29dc0d</td><td>Bart Folk</td><td>2009</td><td>15</td><td>199</td><td>350</td><td>Classic</td></tr><tr><td>a442904cd56b7892d6938ee4213fbed442f99d2b58fa752d697880365053b8b5</td><td>Lycoris Saunders</td><td>2009</td><td>15</td><td>572</td><td>1300</td><td>Daimond</td></tr><tr><td>a59c08c62ffbfe649f3b9c7a573f8c9ce239f0ac69816261964696e32db27f8d</td><td>Khloe Miller</td><td>2009</td><td>15</td><td>360</td><td>850</td><td>Classic</td></tr><tr><td>a66cebd1de8a3cc78c477eee4ca67909b24b86cc6048230a2972b377b5395111</td><td>Ann Chong</td><td>2009</td><td>15</td><td>126</td><td>350</td><td>Classic</td></tr><tr><td>a6cda37380ea39eda246fc1c4e5e67902ec84c481cab033cc000f8f848fa7e48</td><td>Robert Barroso</td><td>2009</td><td>15</td><td>297</td><td>600</td><td>Classic</td></tr><tr><td>a70d4e088e460ddd7ac38055cd2ce04c3ea5a4adb570b8a6daa0556916b586e5</td><td>Steven Roelle</td><td>2009</td><td>15</td><td>322</td><td>600</td><td>Classic</td></tr><tr><td>a724f7adf378ea0467c7077a063f46c70910330687b42ee430d3ffe3cf4acdda</td><td>Anthony Garverick</td><td>2009</td><td>15</td><td>250</td><td>450</td><td>Classic</td></tr><tr><td>a79ddae1186b3c62282923a1767195325cae663cb83d1ef5649b1888e4e1a420</td><td>Chris McAfee</td><td>2010</td><td>14</td><td>29</td><td>100</td><td>Classic</td></tr><tr><td>a7a916524b1c66de8ac9fb512c96287b206dc088de4896715c90b0ce3b560331</td><td>Justin Ellison</td><td>2009</td><td>15</td><td>208</td><td>450</td><td>Classic</td></tr><tr><td>a87ffaaba3152e1af8eb027cd8af296d3797e2cef9b1ca985d95fe2580b99581</td><td>Mary O'Rourke</td><td>2009</td><td>15</td><td>117</td><td>200</td><td>Classic</td></tr><tr><td>a8a75a74e5b069e483aad503756b8fd3e6fd87a4a29cc9ae9560844d28d5a117</td><td>Kean Thornton</td><td>2010</td><td>14</td><td>239</td><td>450</td><td>Classic</td></tr><tr><td>a8c0201cf511861a64b649c34cc88fba0854893f80855722d84c0b8fccd1f57d</td><td>Harold Engle</td><td>2009</td><td>15</td><td>535</td><td>1100</td><td>Daimond</td></tr><tr><td>a8da9feb38b89062ee83b78a4e1c155441feacaca0f0c74599ee2254efa2530e</td><td>Susan MacKendrick</td><td>2009</td><td>15</td><td>273</td><td>450</td><td>Classic</td></tr><tr><td>a95d89a3357d8117cab449b80c0e1b0a96e2ab0cc0dbc9c1494b2a84df84f778</td><td>John Stevenson</td><td>2009</td><td>15</td><td>130</td><td>400</td><td>Classic</td></tr><tr><td>a971ce461c8dc53f18a68f38262a57ccd7f4999f8c35d7d27d355423c79b46b3</td><td>Kalyca Meade</td><td>2010</td><td>14</td><td>103</td><td>200</td><td>Classic</td></tr><tr><td>a9dc8fa8fc8e1b76cccd84ad520916b0c7c883663a7eef794ac4f7276d8cf52a</td><td>Julie Prescott</td><td>2009</td><td>15</td><td>204</td><td>450</td><td>Classic</td></tr><tr><td>aa19cf4cefc1e1515355993237265ccbbc75b8b5cfd894b0ec2b49b21889ae12</td><td>Greg Hansen</td><td>2010</td><td>14</td><td>216</td><td>450</td><td>Classic</td></tr><tr><td>aa2ea3695d053b8e2bc0c4f18bf487d2637eccae05c49562210ca0d6630c6906</td><td>Victoria Brennan</td><td>2009</td><td>15</td><td>251</td><td>550</td><td>Classic</td></tr><tr><td>aab49853e43a2e74592e49343ccd6e28be3621c3dd394e0c0c1db97b5887e996</td><td>Jay Fine</td><td>2009</td><td>15</td><td>308</td><td>600</td><td>Classic</td></tr><tr><td>aab52635f3d5250db1610d500a4840311c9e554c005b94f4d4de4d8ac0265ea9</td><td>Muhammed Lee</td><td>2010</td><td>14</td><td>352</td><td>600</td><td>Platinum</td></tr><tr><td>ab4294ca26aebd391c68a3bd909cd38745b1887c6553fceb047d5e127ea42699</td><td>Greg Tran</td><td>2010</td><td>14</td><td>186</td><td>350</td><td>Classic</td></tr><tr><td>ab887f2d87a3a8a811aaa72f66db0044da11c6b7259cf4e16fc0b328dc7e87b5</td><td>Julia Barnett</td><td>2009</td><td>15</td><td>633</td><td>1250</td><td>Daimond</td></tr><tr><td>ab92d7af0e5bbf52ab4ec640cb3117d9536de21e293e7f9cb32f8e528e840e7a</td><td>Erica Hernandez</td><td>2009</td><td>15</td><td>287</td><td>500</td><td>Classic</td></tr><tr><td>abe7ddad35bb414793b1742a21968b1f2dca416e3f90f416a24781023acd932b</td><td>Lori Olson</td><td>2010</td><td>14</td><td>105</td><td>250</td><td>Classic</td></tr><tr><td>abf4426c7abac56d464c06c1db594a9fe55ede89f52827e158e350d71fda862f</td><td>Cindy Chapman</td><td>2009</td><td>15</td><td>483</td><td>1000</td><td>Classic</td></tr><tr><td>abfb2f2572d82e9cabe7f7591f68678794b7ad334239078bdebb5fb0428ab05b</td><td>Sonia Cooley</td><td>2010</td><td>14</td><td>167</td><td>250</td><td>Classic</td></tr><tr><td>ac09dfda96f96b7f64afb595f1222b3f338a2ec5cf6ea0ec347afb39fc54a0b8</td><td>Liz Thompson</td><td>2010</td><td>14</td><td>99</td><td>200</td><td>Classic</td></tr><tr><td>ac547826f7516f4fa0932a350c856d094102dae0d7bfc5fa95845bb2dce3f1ad</td><td>Herbert Flentye</td><td>2010</td><td>14</td><td>39</td><td>250</td><td>Classic</td></tr><tr><td>acacb685f70f0714fde637f8a7aabb6b515deaf355987e9f5d8c8fb9487d68b7</td><td>Anthony Jacobs</td><td>2011</td><td>13</td><td>19</td><td>100</td><td>Gold</td></tr><tr><td>acc9f0022184ebca1670eb4a62e09809a310ad168592483abb8ff95b3f3eaae0</td><td>Brian DeCherney</td><td>2011</td><td>13</td><td>217</td><td>400</td><td>Gold</td></tr><tr><td>acf29bd1e3c93dbe4b1ba4036cfb59c0c0c2990b29f6e317eee77615aa1f9c8f</td><td>Tanja Norvell</td><td>2009</td><td>15</td><td>575</td><td>1300</td><td>Daimond</td></tr><tr><td>ad63080bfa461365b4fd299600040964fb3a626b8a1a7a27b24bd7a98de09469</td><td>Dorothy Dickinson</td><td>2010</td><td>14</td><td>47</td><td>50</td><td>Classic</td></tr><tr><td>adc60cbc82cd24bb8cb6209451278559dbaf92bad79276f9943df6a6543c54ff</td><td>Amy Hunt</td><td>2009</td><td>15</td><td>495</td><td>1000</td><td>Classic</td></tr><tr><td>ae09f52f6bc5db69f2fdd5918c604cb8bdd412cb5079cb44693be2ec78aca19d</td><td>Trudy Bell</td><td>2009</td><td>15</td><td>276</td><td>450</td><td>Classic</td></tr><tr><td>ae0c4d76b0b5978204a908ca3cf37660fbfac413dbf387f930db8772df7e13fc</td><td>Nathan Gelder</td><td>2009</td><td>15</td><td>163</td><td>400</td><td>Classic</td></tr><tr><td>ae49bc6ea2962fd1b721b3eb1b898e1f3f000479fb0ffceb1068956ed27093ad</td><td>Gene Hale</td><td>2009</td><td>15</td><td>202</td><td>500</td><td>Classic</td></tr><tr><td>ae676bf5c132bfd22fc26ef4a02a354fbba034f98cc339351a4d880d1d42dec3</td><td>Natalie Webber</td><td>2009</td><td>15</td><td>402</td><td>900</td><td>Classic</td></tr><tr><td>ae863a364010002ceecf4c313557fc8047d5120b3f1055372555f2ed910b8cec</td><td>Bill Eplett</td><td>2009</td><td>15</td><td>407</td><td>1000</td><td>Classic</td></tr><tr><td>ae92c5aa68dbc325a083b527bc4467c47829418bb5574c34e9d50923604c18c8</td><td>Larry Hughes</td><td>2009</td><td>15</td><td>108</td><td>200</td><td>Classic</td></tr><tr><td>ae96946559a9f3928f0618ebb34315f729bfac843b03fdde2a779260dc9aab70</td><td>Pauline Webber</td><td>2009</td><td>15</td><td>236</td><td>650</td><td>Classic</td></tr><tr><td>aef1a01376b6f71dd725430d123f15a72d98b6ace5e93c7b4d15373a359bd26c</td><td>Barry Gonzalez</td><td>2009</td><td>15</td><td>613</td><td>1250</td><td>Daimond</td></tr><tr><td>af5d0c2efa23bc6bbde18cd729baf42ac7f0af01d04356260a6a088d59a052ce</td><td>Frank Gastineau</td><td>2010</td><td>14</td><td>169</td><td>250</td><td>Classic</td></tr><tr><td>afab7e23ca183f3c4b0101695577189389b7fdc96c92d76e4c2b9123173394de</td><td>Don Weiss</td><td>2009</td><td>15</td><td>76</td><td>350</td><td>Classic</td></tr><tr><td>afef3464c37298ac4b95921e06083b4f8ad5eef6ac03fcebd8295c2194566eda</td><td>Joel Eaton</td><td>2009</td><td>15</td><td>135</td><td>400</td><td>Classic</td></tr><tr><td>b05212290e64273a5781731f0c2a978ed0567a81d95bad0771b0a1eaccf5ebe5</td><td>John Castell</td><td>2009</td><td>15</td><td>357</td><td>850</td><td>Classic</td></tr><tr><td>b0b4faa3da57c2038cc19bb54f253f66b602f5a229a6967b1b31b307149a3e6c</td><td>Mick Hernandez</td><td>2009</td><td>15</td><td>99</td><td>150</td><td>Classic</td></tr><tr><td>b1152359ffbd8d26ee1f3577a47b84161c47c7dda4e36a9d5a5fe7552dd53c1b</td><td>Richard Eichhorn</td><td>2010</td><td>14</td><td>147</td><td>300</td><td>Classic</td></tr><tr><td>b1189c531f531bb4d1bdabf50c4ef5ca8fdca100801f9c3e23de4347bebcd501</td><td>Rick Duston</td><td>2009</td><td>15</td><td>260</td><td>500</td><td>Classic</td></tr><tr><td>b13236fe29b083f78f723bd26c1230f61ba13d7ce1c5fbeb834e7c9ad5f33938</td><td>Bobby Trafton</td><td>2009</td><td>15</td><td>644</td><td>1150</td><td>Daimond</td></tr><tr><td>b143cb5f1749371d7fa73553dc8d06aac1567aed3badb34596a7b22176db3f93</td><td>Adrian Hane</td><td>2010</td><td>14</td><td>106</td><td>200</td><td>Classic</td></tr><tr><td>b17fd88cb13216e92198967520e9cca1c7f6cc19c6ba5f54a4379d05fb40629b</td><td>Neola Schneider</td><td>2009</td><td>15</td><td>212</td><td>350</td><td>Classic</td></tr><tr><td>b2386733f0b0d6f896591656694bc39dd2f040e0adee29f207316c91e32aba06</td><td>Nicole Hansen</td><td>2009</td><td>15</td><td>311</td><td>600</td><td>Classic</td></tr><tr><td>b2ab68f04fcdfdc4209aa89a19244fd2bb674e34ea3243212b2a0c57a1aa7731</td><td>Corinna Mitchell</td><td>2009</td><td>15</td><td>126</td><td>300</td><td>Classic</td></tr><tr><td>b4ccda7205a114a24a5769895c2d4d041a1a68ed59f6a94cc211b78da249bfb5</td><td>Benjamin Patterson</td><td>2009</td><td>15</td><td>160</td><td>500</td><td>Classic</td></tr><tr><td>b526ce4cfd3e394acc54ce5d84c8c56d285d733cbb93af0c7ca1febad03c1873</td><td>Edward Nazzal</td><td>2009</td><td>15</td><td>707</td><td>1400</td><td>Daimond</td></tr><tr><td>b5c5e714e41e16ba15178e9473e575957b2167374c627c9e926bef0faf87165d</td><td>Grant Thornton</td><td>2009</td><td>15</td><td>428</td><td>850</td><td>Classic</td></tr><tr><td>b645e425f5e84234dfc1501b4a993eb5f45fd921408d7555d9a37ed1d0a03df3</td><td>Don Miller</td><td>2009</td><td>15</td><td>199</td><td>450</td><td>Classic</td></tr><tr><td>b6d9162762eab1c56451a338b2ede6819f5300ec8b0a97173c927359c4f2b35e</td><td>Mitch Willingham</td><td>2009</td><td>15</td><td>376</td><td>600</td><td>Classic</td></tr><tr><td>b70c17386144686c3990cb2ab090dbca14eceaab06e590df7574fc5d768493bf</td><td>Greg Matthias</td><td>2009</td><td>15</td><td>221</td><td>500</td><td>Classic</td></tr><tr><td>b71815319403a0e7695c59ad52321a7b78dc7d552c8480944cf1d1ea5be49bdc</td><td>Ellis Ballard</td><td>2009</td><td>15</td><td>227</td><td>450</td><td>Classic</td></tr><tr><td>b72c74567e2cf44d03b075674b30a1ac3c22bc9b626d4888d32f0bd59482db94</td><td>Sanjit Chand</td><td>2010</td><td>14</td><td>290</td><td>600</td><td>Classic</td></tr><tr><td>b7f4aaf0c47329e2da34fc8352af1fd719ce455aa4e4d7c2324213f0aa66184d</td><td>Alan Shonely</td><td>2011</td><td>13</td><td>174</td><td>350</td><td>Gold</td></tr><tr><td>b89dcc8e8f1c8e2a9e7f6822de3e907e90c5a2cf0e0f68814835d30f8cef8830</td><td>Dianna Wilson</td><td>2010</td><td>14</td><td>79</td><td>200</td><td>Classic</td></tr><tr><td>b90a4e5598ffbea7840d1ef361d9a7e4392bd3680d2e0cc0cea42c4518a3a7e2</td><td>Philisse Overcash</td><td>2011</td><td>13</td><td>86</td><td>150</td><td>Gold</td></tr><tr><td>b9afb511c8d91ca0a1b1762bd1c6236ae55e4561a2f0e5c813d00a1e8e7741fd</td><td>Parhena Norris</td><td>2009</td><td>15</td><td>178</td><td>350</td><td>Classic</td></tr><tr><td>b9d74a7b75fa577654255b5114c4f160ba5607026a3fc8b8395cc81dfa79bab2</td><td>Liz Willingham</td><td>2009</td><td>15</td><td>412</td><td>800</td><td>Classic</td></tr><tr><td>ba174501d462fe9f907ca42e9e281007144a55c25517d631ccdb0e9694201897</td><td>Dan Lawera</td><td>2009</td><td>15</td><td>328</td><td>600</td><td>Classic</td></tr><tr><td>ba4eb625e7290045ef053f6fd143960648d7c4d66e87384f70fd4075dab82b95</td><td>Troy Blackwell</td><td>2009</td><td>15</td><td>441</td><td>750</td><td>Classic</td></tr><tr><td>bad4e932c45d24bed028e46073ff0d10213147c3915a036d1e6c52cf231f4ebe</td><td>Denise Leinenbach</td><td>2009</td><td>15</td><td>79</td><td>300</td><td>Classic</td></tr><tr><td>bb77981eacef121748465051ff5e774ced80b7216841298617bdb3a95c2404d0</td><td>Michael Kennedy</td><td>2009</td><td>15</td><td>244</td><td>350</td><td>Classic</td></tr><tr><td>bb79fcb80a43dc1002a74048a29ea3dd4ceec201a261504c8044ae0f98184bab</td><td>Steven Cartwright</td><td>2010</td><td>14</td><td>174</td><td>250</td><td>Classic</td></tr><tr><td>bb7af591f0438d738385058a11337da57f2062e0da31a3e50d11e1b0f8f8a98b</td><td>Luke Foster</td><td>2009</td><td>15</td><td>172</td><td>300</td><td>Classic</td></tr><tr><td>bbf652b010bfd87436865021fd84ad52928ceb87e4ee0803cf05938e61ca6aa2</td><td>Helen Andreada</td><td>2009</td><td>15</td><td>308</td><td>700</td><td>Classic</td></tr><tr><td>bc21ed08e37501336c373ac8ef9678f07749fa3804a7dff5813134abfa0da440</td><td>Susan Vittorini</td><td>2009</td><td>15</td><td>325</td><td>700</td><td>Classic</td></tr><tr><td>bc6c413a07da4e600cb4e20126ab4af5a0253f5c502f28b13ff447005e714eaf</td><td>Vivian Mathis</td><td>2009</td><td>15</td><td>359</td><td>750</td><td>Classic</td></tr><tr><td>bc769a7220a543e625c4cc84e232a977c5e219b6eca3240012d58f812e34165b</td><td>Dan Campbell</td><td>2009</td><td>15</td><td>528</td><td>1250</td><td>Daimond</td></tr><tr><td>bc76bfd8d1d1821dc05bc3c35d366cccb7b0044a63a5a6217601c2f3d5f3e2bd</td><td>Sung Chung</td><td>2009</td><td>15</td><td>242</td><td>400</td><td>Classic</td></tr><tr><td>bd333a547b45c2171298cb062da20b264cc25088e0f595205fc5d7db678b00b9</td><td>Alejandro Ballentine</td><td>2010</td><td>14</td><td>258</td><td>450</td><td>Classic</td></tr><tr><td>bd46e32023bc58f189b38446fa2508ed9e9f723aa7ef1672c83f5578e62a3490</td><td>Roger Barcio</td><td>2009</td><td>15</td><td>101</td><td>150</td><td>Classic</td></tr><tr><td>bded6464f097e66af40869a07c51caee720e4af4f5ac82b984629af1d21feb4f</td><td>Irene Maddox</td><td>2009</td><td>15</td><td>153</td><td>400</td><td>Classic</td></tr><tr><td>be0ee567a77d86f497f06e3105efd1eb0cb6b793549fe3487674b0b29cd91799</td><td>Barbara Fisher</td><td>2009</td><td>15</td><td>402</td><td>800</td><td>Classic</td></tr><tr><td>be0f4a8904726cd0b0919aa00ff97fb470179160ec9f3dd4a835e62d53ec2430</td><td>Steven Ward</td><td>2009</td><td>15</td><td>167</td><td>350</td><td>Classic</td></tr><tr><td>be72bbfe0777ef61e557f5cdb72f8e2d7a7b2cc3f5e1399bd7062472cf12d1e5</td><td>Peter Fuller</td><td>2009</td><td>15</td><td>655</td><td>1200</td><td>Daimond</td></tr><tr><td>bea09f051dafd1e87b0f7c05522b05d647e1941456aa7094bb8c891902f4fe2a</td><td>Roland Murray</td><td>2010</td><td>14</td><td>108</td><td>200</td><td>Classic</td></tr><tr><td>beacc4d65042807d421c10d4ca23b3d2ebc347d87aa92015099448555ddefce8</td><td>Ricardo Block</td><td>2009</td><td>15</td><td>225</td><td>450</td><td>Classic</td></tr><tr><td>beb430e4e2617bc0f8c5b3191d687b1aa057004592f7e3013f74850f0cf032c3</td><td>Cynthia Delaney</td><td>2009</td><td>15</td><td>392</td><td>600</td><td>Classic</td></tr><tr><td>bf63b04c2e8bbe89f416fb17a14264beb823f57fc1d607dfae031e3635456984</td><td>John Dryer</td><td>2009</td><td>15</td><td>283</td><td>650</td><td>Classic</td></tr><tr><td>c015efc36bc004c1bd91535364b3ea741d075c40b88a903a85e6abd9b18a13a0</td><td>Laurel Beltran</td><td>2009</td><td>15</td><td>41</td><td>200</td><td>Classic</td></tr><tr><td>c0b2a30025246ff92ba4b631f2e93f36375cf5e0f551f1d6a6cefe870928cf11</td><td>Victoria Pisteka</td><td>2009</td><td>15</td><td>478</td><td>900</td><td>Classic</td></tr><tr><td>c0e2e23114cccfbbb7d77cede43326424631ac5e6bb2323cc386594549c0adef</td><td>Fred Wasserman</td><td>2009</td><td>15</td><td>220</td><td>550</td><td>Classic</td></tr><tr><td>c10956db3e671a6bc216f92616141652db6938744d5ffaa901d4e3a52418fa5e</td><td>Shahid Shariari</td><td>2009</td><td>15</td><td>495</td><td>1150</td><td>Classic</td></tr><tr><td>c241b92705185713bcaed16fec6d1de0eb283b294d737346db61fe29b94b9c78</td><td>Guy Phonely</td><td>2009</td><td>15</td><td>182</td><td>500</td><td>Classic</td></tr><tr><td>c258c5e6e382b9019ca6c155fc9612db18b97b8bd4925e3726266bb6e40a73df</td><td>Brendan Murry</td><td>2009</td><td>15</td><td>336</td><td>600</td><td>Classic</td></tr><tr><td>c26e5b734f0e69757e23946d5a8288ee6ccdae119bccc5a59aa8d117184a4d5c</td><td>Harry Marie</td><td>2010</td><td>14</td><td>281</td><td>450</td><td>Classic</td></tr><tr><td>c48c711e5da0498639e9097a430cb56bfb4fc449137d9bc82af53c30ce823cfb</td><td>Michael Moore</td><td>2009</td><td>15</td><td>133</td><td>300</td><td>Classic</td></tr><tr><td>c4bc3cf6c549b9ac89b027248fbc4ba3098241b76857993f1045a8f0da95b068</td><td>Ritsa Hightower</td><td>2010</td><td>14</td><td>390</td><td>800</td><td>Platinum</td></tr><tr><td>c540f007e51b19153edd702dc3b22d4747126fae2e9f1d0f7fd95ae2d04e1b74</td><td>Alice McCarthy</td><td>2009</td><td>15</td><td>290</td><td>500</td><td>Classic</td></tr><tr><td>c5873608cbe3f18982258fd77315e1023873bf76952d1ff51b10df5717c2f899</td><td>Anne Pryor</td><td>2009</td><td>15</td><td>417</td><td>950</td><td>Classic</td></tr><tr><td>c6ac69f6e94f12b3639dddfd5b629ca5c69af7405bd500ed8d08be59f9c51b58</td><td>Maureen Grace</td><td>2010</td><td>14</td><td>43</td><td>50</td><td>Classic</td></tr><tr><td>c6ca1ec8289124d9d5312911679a5b6c4706530c9d5c0deb0b5a8de59a4d142e</td><td>Jamie Frazer</td><td>2009</td><td>15</td><td>85</td><td>200</td><td>Classic</td></tr><tr><td>c7206d76650aab5d305bd452b40110eff48ad11319a9e738e34600cb8e58b0dd</td><td>Brooke Gillingham</td><td>2009</td><td>15</td><td>206</td><td>450</td><td>Classic</td></tr><tr><td>c72b076609bc79332e52e2362b43733fe82d8900be909c670c720c11bd4efe80</td><td>William Brown</td><td>2009</td><td>15</td><td>555</td><td>1350</td><td>Daimond</td></tr><tr><td>c74399a46d48983669b138dc8f9392bdbaf5f6583e6cccb88020f6dcea7c54fd</td><td>Jason Fortune</td><td>2009</td><td>15</td><td>283</td><td>450</td><td>Classic</td></tr><tr><td>c785097e44dfdf3ea6fc985c15ddcea69a6f20ad265ed42f2ad36cb35559327b</td><td>Jim Radford</td><td>2009</td><td>15</td><td>228</td><td>500</td><td>Classic</td></tr><tr><td>c80390913b97210756d64aca75cb04d1c13b20e7d0eb4fdff66cf365d2bcdde7</td><td>Arthur Prichep</td><td>2009</td><td>15</td><td>326</td><td>650</td><td>Classic</td></tr><tr><td>c84db3cc7eb20c4483f079de2f7c2164c36b337e35912aa187c0e22b2e07317c</td><td>Nora Paige</td><td>2009</td><td>15</td><td>457</td><td>850</td><td>Classic</td></tr><tr><td>c850d76da0ba057f4783c0dcba967697861f3f376628cb23c746eda6f539d862</td><td>Thomas Boland</td><td>2009</td><td>15</td><td>229</td><td>550</td><td>Classic</td></tr><tr><td>c8589f5ecc7209ddfed982ee1b4185afb7d0d1a06fbe0613ce2377e2025a17f4</td><td>Max Ludwig</td><td>2009</td><td>15</td><td>173</td><td>300</td><td>Classic</td></tr><tr><td>c967f478556da7e228590fc70aff25f0df61779cbf7ce74eb050455313f37452</td><td>Harold Dahlen</td><td>2009</td><td>15</td><td>602</td><td>1500</td><td>Daimond</td></tr><tr><td>c9e96537f4e8997f5aea0a97e2b8274fe93c0e3ddc89d2d7aa9270098982c30c</td><td>Trudy Schmidt</td><td>2009</td><td>15</td><td>169</td><td>350</td><td>Classic</td></tr><tr><td>c9f0fb3d4fe3f537f1dd5f84506d2a4268b7a7a9933266ba7e2a0922f5296d22</td><td>Theresa Coyne</td><td>2010</td><td>14</td><td>140</td><td>250</td><td>Classic</td></tr><tr><td>ca0d89eceb5998139f12c6d2ef7740bb64c6cfa488d262e39ce09aa12a65bedf</td><td>MaryBeth Skach</td><td>2009</td><td>15</td><td>305</td><td>550</td><td>Classic</td></tr><tr><td>ca6262f7481b8e17ba41535ec463c23f5da5e7d5a6df6651612b0abc0928a63d</td><td>Erica Bern</td><td>2009</td><td>15</td><td>588</td><td>1100</td><td>Daimond</td></tr><tr><td>ca7ff19106713973ddfef244aa13305d8dd5975b341182b24dadf86e6cb3b559</td><td>Brendan Dodson</td><td>2009</td><td>15</td><td>162</td><td>400</td><td>Classic</td></tr><tr><td>ca8ec4970ed530a13e22eb943a381d49ae0f846f8e09932f9b3eabf226dd58b9</td><td>Janet Martin</td><td>2009</td><td>15</td><td>280</td><td>550</td><td>Classic</td></tr><tr><td>ca99ef23e9385064404600bab9c4292ee4df2a32855a4ff36738682771785958</td><td>Vicky Freymann</td><td>2009</td><td>15</td><td>224</td><td>450</td><td>Classic</td></tr><tr><td>cb656acd15bd8c49c555c407aedad898090ddaf6593228781e3c4a1ba28735ee</td><td>Tom Stivers</td><td>2009</td><td>15</td><td>423</td><td>700</td><td>Classic</td></tr><tr><td>cb7a0b0946b004546c2b84d276e56af1b9a8d117a677c3122a061a3b8fd25796</td><td>Dave Poirier</td><td>2009</td><td>15</td><td>515</td><td>1100</td><td>Daimond</td></tr><tr><td>cb9c5d58d309901fc7643f58660a7f90a816c5698231a23152b71d723728262f</td><td>Anthony Johnson</td><td>2009</td><td>15</td><td>259</td><td>600</td><td>Classic</td></tr><tr><td>cbf0f88927bd83a4f3985fc137097260b5dd1d542b93c3d21165ba3a38ae7421</td><td>Jenna Caffey</td><td>2009</td><td>15</td><td>316</td><td>650</td><td>Classic</td></tr><tr><td>cc0fa13c0349e6c9ec6b0a506f35d7d0a3f98fe57ea6d659c2d2b51b7aa0df5f</td><td>Pauline Johnson</td><td>2010</td><td>14</td><td>136</td><td>250</td><td>Classic</td></tr><tr><td>cc3f1536fe53300f4620e234016ad4ad192d588f2a824e194bd50cca6b79f241</td><td>Olvera Toch</td><td>2009</td><td>15</td><td>452</td><td>750</td><td>Classic</td></tr><tr><td>cc4a00b8562b5190ea573e15e164c0e4faaa4493bd3b2a7b8a25abf28c7576e2</td><td>Cindy Schnelling</td><td>2009</td><td>15</td><td>282</td><td>650</td><td>Classic</td></tr><tr><td>cc718f326faad08360ecd3e8a4b6f2e6c5d9c2d487e1d49198230eac8ef1144d</td><td>Lena Hernandez</td><td>2010</td><td>14</td><td>167</td><td>250</td><td>Classic</td></tr><tr><td>cc8582a3de73403cba448a8d23d543fc843b29dc9fe3d8ee3714c5651ddc8e41</td><td>Allen Golden</td><td>2010</td><td>14</td><td>159</td><td>350</td><td>Classic</td></tr><tr><td>cd410eb4d5359af52e46565975ebf0ecb7e5befa896c62585abaefdd91507cb5</td><td>Tom Boeckenhauer</td><td>2009</td><td>15</td><td>218</td><td>400</td><td>Classic</td></tr><tr><td>cd7e2b8da797eb4b62ce6fb89f3e68a0e0bab6799ef0a1e246d2486d59dd69c8</td><td>Shaun Weien</td><td>2009</td><td>15</td><td>223</td><td>400</td><td>Classic</td></tr><tr><td>cdf5de46861a5653b31203674638c15bad5f610aeaa4eae958ffa03e9d1ae4e7</td><td>Seth Vernon</td><td>2009</td><td>15</td><td>352</td><td>600</td><td>Classic</td></tr><tr><td>ce2fc54c999dfbcc4ae46d518d4dbbe38c84cf602207405a2988d3bb0d46fadd</td><td>Becky Pak</td><td>2009</td><td>15</td><td>304</td><td>650</td><td>Classic</td></tr><tr><td>ce703e6cf050f5016a545dcaa65d71bb48f813b64fe24c1c6945f2ea3a6c1ec3</td><td>Christine Phan</td><td>2010</td><td>14</td><td>199</td><td>350</td><td>Classic</td></tr><tr><td>ce864c3c394037ff9ae577f19e4ea1917021953edc3ad2fd195be40a1a237134</td><td>Thomas Seio</td><td>2009</td><td>15</td><td>194</td><td>350</td><td>Classic</td></tr><tr><td>cf24ae5c8de1a6fda2c407558cad5ec07f2cdb3bd9ec4e86cead0599729c77c6</td><td>Debra Catini</td><td>2009</td><td>15</td><td>256</td><td>550</td><td>Classic</td></tr><tr><td>cf332d83e21157d7a82cbc35717fc111c4fe82ed3e0aa255bffd9d268bc4d441</td><td>Christopher Schild</td><td>2009</td><td>15</td><td>311</td><td>550</td><td>Classic</td></tr><tr><td>cf4a83c03f2498fe3ed99c4450749e819092c1bc7ab2f9928a250dd29513f6ec</td><td>Sara Luxemburg</td><td>2009</td><td>15</td><td>428</td><td>950</td><td>Classic</td></tr><tr><td>cf69c79637665fa37dd71c37989cd863481e0bb150d2e450bbd7f75d49ad356f</td><td>Deirdre Greer</td><td>2010</td><td>14</td><td>125</td><td>250</td><td>Classic</td></tr><tr><td>cfdb253ddd1f98cc8f4197c63aa4d33b2181b4fdd358ce4a390bb816e23fc391</td><td>Mike Vittorini</td><td>2009</td><td>15</td><td>289</td><td>500</td><td>Classic</td></tr><tr><td>cff9ef2bcc03ea0bdafdda1b77b87b8935429e296e1096f8246530ab10eec226</td><td>Duane Huffman</td><td>2009</td><td>15</td><td>455</td><td>850</td><td>Classic</td></tr><tr><td>cffebe440357360061d5b087d41e23a5cc8ef13fa2517729a88be54f940c86e0</td><td>Joy Daniels</td><td>2010</td><td>14</td><td>110</td><td>250</td><td>Classic</td></tr><tr><td>d01ee9a5a291b8f8fdea8f3e908f437e217514b93db9ca5563786a34fec182f6</td><td>Darren Koutras</td><td>2011</td><td>13</td><td>151</td><td>200</td><td>Gold</td></tr><tr><td>d07797183e67a07c788a3d992c8c0fbcc100831c2277c133b4ccf345e091d5f2</td><td>Cyra Reiten</td><td>2010</td><td>14</td><td>197</td><td>300</td><td>Classic</td></tr><tr><td>d07ddad4149ec8c1ef1c14ad9381b57bcfcc2037ca8a5a9511643e7369d41140</td><td>Henry MacAllister</td><td>2009</td><td>15</td><td>31</td><td>150</td><td>Classic</td></tr><tr><td>d139f59a2a34e1971c03e68ed69ab62552099d3a4ca02870a78f22d5099ae5b1</td><td>Jennifer Jackson</td><td>2009</td><td>15</td><td>303</td><td>550</td><td>Classic</td></tr><tr><td>d18c18026d139c930e83d7a7cbc6ed051e92f8c789794e5ec5825fe4c0cc8b89</td><td>Brad Thomas</td><td>2009</td><td>15</td><td>868</td><td>1950</td><td>Daimond</td></tr><tr><td>d1eb041667c1611cedb5da9e5bea5fe0414feab1e4523ecc93a20a2139791ebe</td><td>Sheri Gordon</td><td>2009</td><td>15</td><td>389</td><td>600</td><td>Classic</td></tr><tr><td>d251714af3f96eaf936ca41cb0bc38b39a193cd1372ee70e6fbd12d1abc56f87</td><td>Daniel Raglin</td><td>2009</td><td>15</td><td>74</td><td>200</td><td>Classic</td></tr><tr><td>d25a2a58914892203b49e49b0a9f1a30b7f6c43d2f98166a9faec5ec459b9b97</td><td>Randy Ferguson</td><td>2009</td><td>15</td><td>502</td><td>1000</td><td>Daimond</td></tr><tr><td>d32cf0eb8be222cee9e51629bd7eee3dc1c8006bf8b20bb26781833f49cf320b</td><td>Karen Bern</td><td>2009</td><td>15</td><td>124</td><td>200</td><td>Classic</td></tr><tr><td>d34dfd89303787743c5f0308f555e049e0f12a72af2e0b31e71dc5d85682810c</td><td>Patrick Gardner</td><td>2009</td><td>15</td><td>140</td><td>250</td><td>Classic</td></tr><tr><td>d39dd257708e4e664c440b9b7aad0545c1ef69f210f35c84706dcc29654c0ca3</td><td>Corey Roper</td><td>2009</td><td>15</td><td>81</td><td>150</td><td>Classic</td></tr><tr><td>d41101c45fea4f8d1997ae8bb779f00d786d2dd8bd7e51fae7243dd3e9e5f42b</td><td>Becky Castell</td><td>2009</td><td>15</td><td>152</td><td>350</td><td>Classic</td></tr><tr><td>d488b417e7ddfff7fb3e5915087797e9b5791aea5d9dffc022747da9501cd934</td><td>Michelle Moray</td><td>2009</td><td>15</td><td>433</td><td>750</td><td>Classic</td></tr><tr><td>d57a74a6820c97e742faf80de1d8b3a928c3350f9f3a1772d9a985895e31551a</td><td>Tracy Collins</td><td>2009</td><td>15</td><td>456</td><td>900</td><td>Classic</td></tr><tr><td>d5f108ea5e230804b12e56c1f2a195f3c24f5823430d0d659977f17a74d44856</td><td>Kean Takahito</td><td>2009</td><td>15</td><td>56</td><td>150</td><td>Classic</td></tr><tr><td>d616214454d91b094bccfee7edb771f53dd8823d2ea66847d9f429769d4bfb89</td><td>Eric Barreto</td><td>2009</td><td>15</td><td>585</td><td>1550</td><td>Daimond</td></tr><tr><td>d660d1b702e7057b1efb86ec603fa4c949dee23a56ef6ac294c330e9844bf876</td><td>Sarah Foster</td><td>2009</td><td>15</td><td>336</td><td>500</td><td>Classic</td></tr><tr><td>d694df1801a82b53d134cbf94e6ae05415ce715eae1e7021f240e2a010b84d84</td><td>Frank Merwin</td><td>2009</td><td>15</td><td>382</td><td>800</td><td>Classic</td></tr><tr><td>d6f8531879a43d228e2722a01e3c40e422ff0d1612992683589585a432b141bc</td><td>Stefania Perrino</td><td>2009</td><td>15</td><td>194</td><td>450</td><td>Classic</td></tr><tr><td>d7b3203228fc0017e007f1b6c670027ff3f57baea251b4d41884569b21171244</td><td>Sample Company A</td><td>2011</td><td>13</td><td>46</td><td>50</td><td>Gold</td></tr><tr><td>d7b42cd007c7d94f52deff1d6baa23d28dcecee3cd85e8cf0c59a108831d1ec1</td><td>Deanra Eno</td><td>2009</td><td>15</td><td>426</td><td>1050</td><td>Classic</td></tr><tr><td>d839132b89ef6c18c6c47a9053595721ab015b67cbc8c2508307875f828196d6</td><td>Denny Joy</td><td>2009</td><td>15</td><td>185</td><td>400</td><td>Classic</td></tr><tr><td>d8492b04dfb5545db2d3442cdd7c7681e27502da6b4c56b07140b0ec6282a579</td><td>Neil Ducich</td><td>2009</td><td>15</td><td>143</td><td>300</td><td>Classic</td></tr><tr><td>d8afc35766fc4cdf7ef0a99b7b19fdf1fd3743542faf181c4594ea9aa52ed2dc</td><td>Bill Tyler</td><td>2009</td><td>15</td><td>144</td><td>250</td><td>Classic</td></tr><tr><td>d8b000196e15e3fb8355043f05da84ce6a042c45be5f7bdc2b204c0deeda3917</td><td>Xylona Price</td><td>2009</td><td>15</td><td>374</td><td>700</td><td>Classic</td></tr><tr><td>d8f7206fd994c1e9611a2505f2c628d2c9f7280746a11b4acba1a8b40dd8c94f</td><td>Bart Watters</td><td>2010</td><td>14</td><td>174</td><td>250</td><td>Classic</td></tr><tr><td>d93310f09a7d3a0aad8233d66511879f379554a5490b9a678f47cf23ba5dc592</td><td>Bill Stewart</td><td>2009</td><td>15</td><td>92</td><td>300</td><td>Classic</td></tr><tr><td>da71a35af2884d7095114445ecdb3df18685d2655ca50761057131dac6c82aa6</td><td>Joni Sundaresam</td><td>2010</td><td>14</td><td>70</td><td>200</td><td>Classic</td></tr><tr><td>dad4599cf4ae5bb2ffb5559ed129a696a69d02f5538d5674dee2f2d11e2975ca</td><td>Pamela Coakley</td><td>2010</td><td>14</td><td>68</td><td>100</td><td>Classic</td></tr><tr><td>daed5954b43cfcc6838f0028d1e8fccb3ce0fd66fde89b06a8b77569d77eb587</td><td>Eleni McCrary</td><td>2009</td><td>15</td><td>214</td><td>400</td><td>Classic</td></tr><tr><td>db99349fb7f09cebff0c296bee1f5cf1e345c852c7b1c42895c73fc26f7dedab</td><td>Quincy Jones</td><td>2009</td><td>15</td><td>864</td><td>1450</td><td>Daimond</td></tr><tr><td>dba71186ea6a4b943441f49f71ece9975cfcf3909a74bc6901d88595b9e00ff8</td><td>Mark Cousins</td><td>2009</td><td>15</td><td>786</td><td>1600</td><td>Daimond</td></tr><tr><td>dbc2a0f81744ad416b0fc132e9eaf3f39b40d9b3d2b3ce6f2bbfe9900fa53b92</td><td>Dana Kaydos</td><td>2009</td><td>15</td><td>265</td><td>450</td><td>Classic</td></tr><tr><td>dbd201b2a7423c8cbcc582de7a3c20c1651d93322d68250caa858edb76f1322a</td><td>Jill Stevenson</td><td>2010</td><td>14</td><td>219</td><td>350</td><td>Classic</td></tr><tr><td>dc6cd9cb2a4d8c322c26258faf9b59391f5590ffa40efae1fa7b204d69c96c1f</td><td>Michael Dominguez</td><td>2009</td><td>15</td><td>462</td><td>950</td><td>Classic</td></tr><tr><td>dc96881e50de52a586d252400462fe271cd9808d7a7e4b60cbd3b8c557835990</td><td>Denny Ordway</td><td>2009</td><td>15</td><td>188</td><td>400</td><td>Classic</td></tr><tr><td>dcf9f4d4a48e0360c4e771e8a9786d834fb1d3741dc15360734096ba13834f02</td><td>Maribeth Yedwab</td><td>2010</td><td>14</td><td>241</td><td>500</td><td>Classic</td></tr><tr><td>dd70309d73910b98d14c7d81edd7b3153cc828a3bf78a161f076f7efe806c7a1</td><td>Ryan Crowe</td><td>2009</td><td>15</td><td>147</td><td>350</td><td>Classic</td></tr><tr><td>dd991b267deaf9995263f0737d3f457a5264bdc9c37eb61a0a239305a289a174</td><td>Fred Harton</td><td>2009</td><td>15</td><td>481</td><td>850</td><td>Classic</td></tr><tr><td>ddf50ad218b880c27d0fbfc33a3aa1a641b95718d59e99ab7f4a346cdb280414</td><td>Theone Pippenger</td><td>2009</td><td>15</td><td>299</td><td>550</td><td>Classic</td></tr><tr><td>de3737e5c2c27919a271bcd99d85ebc07b8deae8891af1488da1dc36ca26ab36</td><td>Ken Heidel</td><td>2011</td><td>13</td><td>251</td><td>550</td><td>Gold</td></tr><tr><td>dedabc9b906ab54cfe64044e03821943d39da7a805a59a0a9246dbc717abca77</td><td>Troy Staebel</td><td>2009</td><td>15</td><td>262</td><td>650</td><td>Classic</td></tr><tr><td>df5aabb0681594bf702d66a73644c89142d16896ae12e4db4449f95d1ae49b07</td><td>Logan Currie</td><td>2010</td><td>14</td><td>62</td><td>200</td><td>Classic</td></tr><tr><td>df60f56011ee0e4bec293c63d138b301ca41d88ce8d58895f3f2d1fafff2daca</td><td>Carl Weiss</td><td>2009</td><td>15</td><td>494</td><td>700</td><td>Classic</td></tr><tr><td>dfebf711158d7f8c4b7373ced405a1b3d2230e3496b138608cab2022fd30f828</td><td>Sean Christensen</td><td>2009</td><td>15</td><td>221</td><td>400</td><td>Classic</td></tr><tr><td>dfedc9266ccc64f0993539b6b5a11536854550193b8f073582c83d60f4a88d12</td><td>Trudy Brown</td><td>2009</td><td>15</td><td>256</td><td>500</td><td>Classic</td></tr><tr><td>dfff7e512bc9808c866fe745c5dadb105e1767f691f3493001df201f28f3a9e5</td><td>Aaron Smayling</td><td>2009</td><td>15</td><td>303</td><td>700</td><td>Classic</td></tr><tr><td>e07691eb1317aa5e3c002298f8a3d2489d10be13b5fc82d475ba584950b82c8e</td><td>Stefanie Holloman</td><td>2009</td><td>15</td><td>75</td><td>150</td><td>Classic</td></tr><tr><td>e079a69bcaa9e92935a1ce70dea68bd30c38340ea7a85bc3163a7db2be5ba78b</td><td>Annie Cyprus</td><td>2010</td><td>14</td><td>177</td><td>400</td><td>Classic</td></tr><tr><td>e0c2ae24e3f33b1ae536637b80a22ac9ab5dc9bd361ac8f57fad235e9a14b356</td><td>Raymond Fair</td><td>2009</td><td>15</td><td>353</td><td>550</td><td>Classic</td></tr><tr><td>e0f0bdeae659777d59f9397e345e5befc6c1c79bc5ebb0baf07f4544ced8d5d8</td><td>Art Miller</td><td>2009</td><td>15</td><td>245</td><td>650</td><td>Classic</td></tr><tr><td>e105a2263af9b22edd50627f92a9777ea54fd28b9c75fa0b7c3d476e080d9a64</td><td>Patrick O'Brill</td><td>2009</td><td>15</td><td>222</td><td>500</td><td>Classic</td></tr><tr><td>e213a139f137c937b70fe3661670934ec8b73fa1e4d0f222a6c5c539658e58b2</td><td>Patrick Ryan</td><td>2009</td><td>15</td><td>340</td><td>750</td><td>Classic</td></tr><tr><td>e29fd1279d1f7f383acbf423f20d4fa7387a57445a07e704df9795bc0a43914b</td><td>Alan Dominguez</td><td>2009</td><td>15</td><td>147</td><td>300</td><td>Classic</td></tr><tr><td>e35ce57d66996f3d1bd87ffd50d50af3299d71622982142bb100a1cf1d988097</td><td>Nancy Lomonaco</td><td>2009</td><td>15</td><td>248</td><td>400</td><td>Classic</td></tr><tr><td>e3977419db2c5ccf6dcf4ce32b829e34e2166bd5280f9a666876543a5fef5cd9</td><td>John Lee</td><td>2009</td><td>15</td><td>620</td><td>1100</td><td>Daimond</td></tr><tr><td>e39b1ac45013d3a8b99122908792be79f9923f11ac95664d28c5099325fc11ed</td><td>Brad Eason</td><td>2009</td><td>15</td><td>320</td><td>550</td><td>Classic</td></tr><tr><td>e3d7debcd0f1723ea6e5c4dc89a7625f88c663946cdda4947f1eda110401ecc1</td><td>Thomas Brumley</td><td>2009</td><td>15</td><td>164</td><td>350</td><td>Classic</td></tr><tr><td>e422b7233ae24e15e9b5ad56ea7a616cd6d47de15358b481b08796bf857b39e7</td><td>Helen Abelman</td><td>2010</td><td>14</td><td>219</td><td>300</td><td>Classic</td></tr><tr><td>e45defa8ff402eb4525f7dd0c1d1f7c88125c618381a08cb2aed7c2493abc07f</td><td>Maxwell Schwartz</td><td>2009</td><td>15</td><td>366</td><td>800</td><td>Classic</td></tr><tr><td>e46496c049b16150daa029a38d5e2d45872f21874bbd1b53c924ef244e41dd1a</td><td>Marc Harrigan</td><td>2009</td><td>15</td><td>82</td><td>150</td><td>Classic</td></tr><tr><td>e502cb356ebcc731b14ff675c997ff8327af4c08b79e279c29a717177749f8df</td><td>Maria Etezadi</td><td>2009</td><td>15</td><td>46</td><td>50</td><td>Classic</td></tr><tr><td>e55306e7c128e7c51dc2e639e44757fdac51bf775189250567c14f344f9d5a7f</td><td>Tiffany House</td><td>2010</td><td>14</td><td>17</td><td>100</td><td>Classic</td></tr><tr><td>e587ed947d240cb3fd842448817ead87d15dbd1a14646a309b48d45c47f389a3</td><td>Pamela Stobb</td><td>2009</td><td>15</td><td>227</td><td>400</td><td>Classic</td></tr><tr><td>e59b0b5c95900cc8df3fedd36324978efe493b6fecd6fa7ace0faf2419ce6f9c</td><td>Sally Knutson</td><td>2009</td><td>15</td><td>842</td><td>1550</td><td>Daimond</td></tr><tr><td>e62f8bdf37a3f09c812068e4a182b58742e6c51e157b4adf381f543922134e41</td><td>Anna Andreadi</td><td>2009</td><td>15</td><td>194</td><td>400</td><td>Classic</td></tr><tr><td>e68c93f522de271ad9425ca92f6fd2f2a60914efec15282be800ce203a946bc1</td><td>Mick Crebagga</td><td>2009</td><td>15</td><td>519</td><td>1200</td><td>Daimond</td></tr><tr><td>e6be52d4bd64a14f6c3b7099c3f33fd33c60355963b901ba243a6640a720d293</td><td>Andrew Gjertsen</td><td>2010</td><td>14</td><td>111</td><td>200</td><td>Classic</td></tr><tr><td>e6cbdfc635de0b91fb14dd801711b867986e9b4059486dfb21736bef3f7b261e</td><td>Nora Pelletier</td><td>2009</td><td>15</td><td>273</td><td>650</td><td>Classic</td></tr><tr><td>e6f36f777e542f0db3536d714868a4bc4654fd14923c15e8e1587e164baf65f8</td><td>Shirley Daniels</td><td>2012</td><td>12</td><td>132</td><td>250</td><td>Gold</td></tr><tr><td>e77738b55aeee196a17d543165a6235bc371f4d822ffb6f3344ea43d83add736</td><td>Jennifer Braxton</td><td>2009</td><td>15</td><td>199</td><td>500</td><td>Classic</td></tr><tr><td>e7cc235d404dc503f972b702acf776f284000af78a91293f332f1ea83635cd85</td><td>Ted Trevino</td><td>2010</td><td>14</td><td>111</td><td>300</td><td>Classic</td></tr><tr><td>e80ed5b8a457305e98d57a560900821cee39d4901f3d97e3f8c5fcf176d114a5</td><td>Art Ferguson</td><td>2009</td><td>15</td><td>345</td><td>600</td><td>Classic</td></tr><tr><td>e8b4fcce8ab03bbc32fa885ab7428e2bbdd5ab77521d5e2398ad041eee560ed6</td><td>Lena Cacioppo</td><td>2009</td><td>15</td><td>167</td><td>300</td><td>Classic</td></tr><tr><td>e950fecebe8703c480d06a3580c1ab9fa6b040ee6bb8c95d7cc5cd65c425a188</td><td>Cynthia Voltz</td><td>2009</td><td>15</td><td>194</td><td>300</td><td>Classic</td></tr><tr><td>ead88de8401b74315d7b7e4f76899d000517e89fb7e846219d9609a15eb57a7f</td><td>Ivan Liston</td><td>2010</td><td>14</td><td>345</td><td>650</td><td>Platinum</td></tr><tr><td>ead931fb686965a780c500603df5f53a259406b14cb31b86c52ab20083874f3c</td><td>Speros Goranitis</td><td>2009</td><td>15</td><td>158</td><td>400</td><td>Classic</td></tr><tr><td>eb34d810bb5a3c11531b39288a09ba65276ac3677c2e89c6328352c217649075</td><td>Annie Thurman</td><td>2009</td><td>15</td><td>400</td><td>950</td><td>Classic</td></tr><tr><td>eb67c7828939e23045705ac660c5a4b95350caeac34d04ba8a1d33871d410471</td><td>Elizabeth Moffitt</td><td>2009</td><td>15</td><td>146</td><td>350</td><td>Classic</td></tr><tr><td>ebb43a06d0bdfaa3a610dd2731e5cb6d8875246a171032d2653785d06e6b2345</td><td>Ann Steele</td><td>2009</td><td>15</td><td>257</td><td>500</td><td>Classic</td></tr><tr><td>ec21e6eedb351709551dce40dac804dc82df203a8aa4a93493c55b00195f1a37</td><td>Benjamin Farhat</td><td>2009</td><td>15</td><td>363</td><td>450</td><td>Classic</td></tr><tr><td>ec256fdef770504292f993857b86aff8730e6c611d904bb08c7107909aa199bb</td><td>Lena Creighton</td><td>2009</td><td>15</td><td>718</td><td>1600</td><td>Daimond</td></tr><tr><td>ed5cd9d4bcee72bac2fb700053d76945a2f86c0b00c6ebb79d7291174c99ffc3</td><td>Dean Katz</td><td>2009</td><td>15</td><td>73</td><td>350</td><td>Classic</td></tr><tr><td>ed8c12f9b29b76fb3123683e4a3cee69ef886485fbf26d614f55c04b7865258b</td><td>Tracy Blumstein</td><td>2009</td><td>15</td><td>247</td><td>500</td><td>Classic</td></tr><tr><td>edd13398f89a35a5c747c9dfe46a9609e683abfb92e312c2eb03774b778bc155</td><td>Tom Zandusky</td><td>2009</td><td>15</td><td>76</td><td>250</td><td>Classic</td></tr><tr><td>ede70f867ee89362688eaf5b9d4548d156f66a923ef0cd26aaf4173254c67637</td><td>Joseph Airdo</td><td>2009</td><td>15</td><td>365</td><td>750</td><td>Classic</td></tr><tr><td>ee40b42cf6e355fb4d0b7a4e022071a979a08efa5077a744b312deb955a7490a</td><td>Phillip Flathmann</td><td>2009</td><td>15</td><td>256</td><td>700</td><td>Classic</td></tr><tr><td>ee46b0a165e2c84bf864146f949bfb307fa113920e5ec290fd4f03cc2b243dd8</td><td>Laura Armstrong</td><td>2009</td><td>15</td><td>312</td><td>500</td><td>Classic</td></tr><tr><td>ee5d792357f94844b9ca231d07c75523d12734fe6a6d2fd6cc617e7b78f6865d</td><td>David Smith</td><td>2009</td><td>15</td><td>154</td><td>350</td><td>Classic</td></tr><tr><td>ee9b4c17b1bc6ebf111c7259e29d38f4c8dfd7ec14e6d946ec01b6db59e7ca53</td><td>Grant Donatelli</td><td>2009</td><td>15</td><td>156</td><td>300</td><td>Classic</td></tr><tr><td>eeb3440e640aa9dc639334bec75af01115982db574cbcb197a41cbfc45495214</td><td>Tom Prescott</td><td>2009</td><td>15</td><td>274</td><td>600</td><td>Classic</td></tr><tr><td>eebbbf85f8124701c17eaabe23e4ab5634aec0a891bde86a27e7d258353eae05</td><td>Eric Murdock</td><td>2010</td><td>14</td><td>82</td><td>200</td><td>Classic</td></tr><tr><td>eef8b5133031d4c1712d2e7abfdeafd41ef35b39434a6ac27a76833692ee3835</td><td>Matt Collister</td><td>2009</td><td>15</td><td>520</td><td>1050</td><td>Daimond</td></tr><tr><td>ef0e05835305378c8f96d2f40508fc0ba13fe95cbc698d11171b63c9edbaea88</td><td>Janet Molinari</td><td>2011</td><td>13</td><td>89</td><td>200</td><td>Gold</td></tr><tr><td>ef31767a24d828837d28f04eaf204df006226335b80a0470fe4592444bc40ce5</td><td>Michelle Ellison</td><td>2009</td><td>15</td><td>490</td><td>900</td><td>Classic</td></tr><tr><td>efa8577bd6b338e9a55db90c35b056ca8f4a045ba8bac9e24930d8a55a9907e9</td><td>Sandra Flanagan</td><td>2009</td><td>15</td><td>277</td><td>550</td><td>Classic</td></tr><tr><td>efae66e4f73f907ca393bebda92f0750db7cfad2c4749a8c5fc1d06b7e5cec0a</td><td>Linda Cazamias</td><td>2009</td><td>15</td><td>126</td><td>200</td><td>Classic</td></tr><tr><td>efc30153cb2a01d373bbe38140d0f2e7c4702d795f99e31ab1364781b78ed4b5</td><td>Cathy Armstrong</td><td>2009</td><td>15</td><td>355</td><td>650</td><td>Classic</td></tr><tr><td>f021cdecd815b9ceb63ab2a7f06e16df379aa9667491d08552d7edc49fb922fe</td><td>Jeremy Farry</td><td>2009</td><td>15</td><td>28</td><td>100</td><td>Classic</td></tr><tr><td>f02c79c1acf2281c2639b13c50d41de50bf6bd8bba886fe5400605149ecb2db1</td><td>Bruce Stewart</td><td>2009</td><td>15</td><td>254</td><td>500</td><td>Classic</td></tr><tr><td>f0d8297e5fb0bc7b0c3e57ff21dc872a787aeae98dc4e346ab081a90c7e01393</td><td>Peter Buhler</td><td>2009</td><td>15</td><td>175</td><td>300</td><td>Classic</td></tr><tr><td>f143a4235116d3fea49521236a643063533d9e230a35b5e179aaabeea97d110c</td><td>Victor Price</td><td>2009</td><td>15</td><td>78</td><td>300</td><td>Classic</td></tr><tr><td>f19cf1573f886e457a5765972952e73085d708f591dccba60c544713c8bcdc29</td><td>Aleksandra Gannaway</td><td>2009</td><td>15</td><td>556</td><td>1100</td><td>Daimond</td></tr><tr><td>f1b8c08638f6c4d091ec43b31dd4f8eb6441381460f2d2886b884d7fcb940f55</td><td>Vivek Gonzalez</td><td>2010</td><td>14</td><td>107</td><td>300</td><td>Classic</td></tr><tr><td>f1bf9094de816501962455b066366f272efbdf728603efb0c4f8eb072fe85fd9</td><td>Ed Braxton</td><td>2009</td><td>15</td><td>1058</td><td>2100</td><td>Classic</td></tr><tr><td>f1ff5701f0d8ad129b4805706b4761e1b00ec441e41041d75c310edf87b8b68b</td><td>Sanjit Engle</td><td>2009</td><td>15</td><td>78</td><td>150</td><td>Classic</td></tr><tr><td>f2452bd17e6196290285937fb1335a1a326bd3250cdc5617f58f9b441abbba72</td><td>Ann Blume</td><td>2009</td><td>15</td><td>205</td><td>400</td><td>Classic</td></tr><tr><td>f2c2287051f97878d71cb72cde739403ade2d572d1cf01c3b1d353bad10af78d</td><td>Patricia Hirasaki</td><td>2010</td><td>14</td><td>143</td><td>200</td><td>Classic</td></tr><tr><td>f2ce20cf125c39b450ff8cf8517619f622cf753c59fb223f177c6f7f1165676f</td><td>Meg Tillman</td><td>2009</td><td>15</td><td>377</td><td>600</td><td>Classic</td></tr><tr><td>f2d69f1bfbac52e4237b5c8564ec8af969b383bde3734cca607a6358b592c473</td><td>Aaron Bergman</td><td>2009</td><td>15</td><td>168</td><td>350</td><td>Classic</td></tr><tr><td>f3a0ec7a67e8a8cc874835d7c638d892766ade2b994890d8817c707f264bc247</td><td>Stewart Carmichael</td><td>2009</td><td>15</td><td>54</td><td>100</td><td>Classic</td></tr><tr><td>f3a9eee4e1049652393d1edd60a370006d969342f7e33ebb5dd1ae4c615a2e2c</td><td>Darren Budd</td><td>2009</td><td>15</td><td>1140</td><td>2250</td><td>Classic</td></tr><tr><td>f3e8ecb08688f4079765541152f5125a18553ed24795165c58b65a7344bc1e17</td><td>Darrin Martin</td><td>2009</td><td>15</td><td>171</td><td>300</td><td>Classic</td></tr><tr><td>f3f6871f6b7fa3c90d5c2e3873086faf900cdd61ce7d389875c7e923aff372d9</td><td>Adrian Shami</td><td>2009</td><td>15</td><td>130</td><td>300</td><td>Classic</td></tr><tr><td>f44474bbd730e2746096005bba57352083f3b73873e7c1b4226334b53ab39bcd</td><td>Logan Haushalter</td><td>2009</td><td>15</td><td>474</td><td>900</td><td>Classic</td></tr><tr><td>f4c79c9a307478fc157b17603620b87ab7c9f92243a9ecf03724c4b61dac93c4</td><td>Maria Bertelson</td><td>2009</td><td>15</td><td>600</td><td>1450</td><td>Daimond</td></tr><tr><td>f5611d5c98f2b1d658fc13e8fe19ea2831fda59081e1e9e16e6161cda1d82643</td><td>Andrew Roberts</td><td>2009</td><td>15</td><td>398</td><td>700</td><td>Classic</td></tr><tr><td>f5d2400f40752f57a52c54aa4928b8fd6035aaafd94a930a1a4dd4b57d145966</td><td>Eric Hoffmann</td><td>2009</td><td>15</td><td>194</td><td>350</td><td>Classic</td></tr><tr><td>f5d6d689d87862d4e9dac2b294362623181d08cc4048afa7c7e40783804313f2</td><td>Claire Good</td><td>2009</td><td>15</td><td>225</td><td>400</td><td>Classic</td></tr><tr><td>f5f8d724e93d3a74426d05859ddf2cc33b15f3987f85bb9de1320a06eb835084</td><td>Sam Craven</td><td>2010</td><td>14</td><td>242</td><td>500</td><td>Classic</td></tr><tr><td>f65a81cada672536bddb32a10381e5066e59dd5148d40f4988aae0684d1738cf</td><td>Robert Dilbeck</td><td>2009</td><td>15</td><td>166</td><td>250</td><td>Classic</td></tr><tr><td>f6753bea3f3b104baa953ccce162c27d9c9d44e343711ddc725b518862c47c26</td><td>Maris LaWare</td><td>2010</td><td>14</td><td>89</td><td>150</td><td>Classic</td></tr><tr><td>f7ecbebf6248c064d326b629049af3c2fc35046cea386ef4fd4b45246eaca74a</td><td>Toby Braunhardt</td><td>2009</td><td>15</td><td>89</td><td>150</td><td>Classic</td></tr><tr><td>f8614def7e92b8becb66d5f2b86b119bda5fee5c1b45f21f8c89280de738aaea</td><td>Dennis Bolton</td><td>2009</td><td>15</td><td>386</td><td>700</td><td>Classic</td></tr><tr><td>f8e46813a2178992d9e806cdf78d379bfab891d44acf1ed4eef87366f0d54445</td><td>Patrick Bzostek</td><td>2009</td><td>15</td><td>346</td><td>650</td><td>Classic</td></tr><tr><td>f9416c6491274437b78122341ab9133f1f2f46287f1ebc295c7b852379caf486</td><td>Sylvia Foulston</td><td>2009</td><td>15</td><td>707</td><td>1400</td><td>Daimond</td></tr><tr><td>f95d7a252ead3cce31a2eb2198ed6bb1dbf9338ef5bab8dc8edb87eb9ac31e24</td><td>Juliana Krohn</td><td>2009</td><td>15</td><td>323</td><td>750</td><td>Classic</td></tr><tr><td>f9a0beb671bc49c12003d6bff8babde7d4484cadd13d2a60c27cfd9a58bcaf5a</td><td>Max Engle</td><td>2009</td><td>15</td><td>200</td><td>500</td><td>Classic</td></tr><tr><td>f9acadec6d678f959202c05e72864e6cccc2d58f2d1f097922ef40fccb06bf31</td><td>Rick Huthwaite</td><td>2009</td><td>15</td><td>79</td><td>150</td><td>Classic</td></tr><tr><td>f9ae065a880167d13b2d3c5c6fd4af36b410b46b0acf4eb056f42bb183123c23</td><td>Kelly Williams</td><td>2009</td><td>15</td><td>305</td><td>650</td><td>Classic</td></tr><tr><td>f9b162eb1a0a28817bac4c5faf615a9a5a30f9c46f933cebc61f75ff76704428</td><td>Valerie Mitchum</td><td>2011</td><td>13</td><td>196</td><td>300</td><td>Gold</td></tr><tr><td>f9c8983bee680e9f7b7bc1ae321477ad9e513abd0649e1675e080a58817c848e</td><td>Carl Jackson</td><td>2010</td><td>14</td><td>197</td><td>400</td><td>Classic</td></tr><tr><td>fa5fb627aa8dea5245984890f5d3f1c7f67ebab7bdf25b221ca547b12baef667</td><td>Erica Hackney</td><td>2010</td><td>14</td><td>217</td><td>300</td><td>Classic</td></tr><tr><td>fa898b2a261cc641a2666ffd9a548d57c54dd57911a64b9483f65b2b885140b1</td><td>Eudokia Martin</td><td>2009</td><td>15</td><td>96</td><td>250</td><td>Classic</td></tr><tr><td>faed9c1d6f256a7f1356fb045617203877ce645b6fc8e86cde72fdf2ee867224</td><td>Carol Triggs</td><td>2009</td><td>15</td><td>258</td><td>550</td><td>Classic</td></tr><tr><td>fb960f6625100c9b005be7f6dd7526455f25af0fc66897abcafecc567944c6f2</td><td>Jason Gross</td><td>2010</td><td>14</td><td>51</td><td>150</td><td>Classic</td></tr><tr><td>fbd09db34d922b3bee1aceab61a521602d8a395d0cdce9b9bb1392008e6ca7e2</td><td>Jennifer Ferguson</td><td>2009</td><td>15</td><td>266</td><td>550</td><td>Classic</td></tr><tr><td>fc0cf83af32ab0e822e4113a3108065f2302ebe03f1167b3054432a0a3aa0dd1</td><td>Stewart Visinsky</td><td>2010</td><td>14</td><td>104</td><td>350</td><td>Classic</td></tr><tr><td>fc4f363cb343fac8503852cd8e4efe4a3f924f0fc5d1d7c5bca02b212f7a5e8d</td><td>Erin Creighton</td><td>2009</td><td>15</td><td>496</td><td>900</td><td>Classic</td></tr><tr><td>fce7212c6ff39469b1be038fbaa449e1dcbc08e79c640ac8ccc469d3bb08ae1f</td><td>Emily Burns</td><td>2010</td><td>14</td><td>51</td><td>150</td><td>Classic</td></tr><tr><td>fce8555e26eccfa4ac658b9485897573814ff62da77be2afcb6f23dcb0bd63f5</td><td>Naresj Patel</td><td>2009</td><td>15</td><td>414</td><td>700</td><td>Classic</td></tr><tr><td>fd334b9964f3f132b4997ebae8f2fe349781e8da6bd2617524afb5a27d6b035f</td><td>Chloris Kastensmidt</td><td>2009</td><td>15</td><td>114</td><td>200</td><td>Classic</td></tr><tr><td>fd81089080dd4e8e8ac5da9f8d30965871221f89e56a5805a539464c71a95377</td><td>Cari Schnelling</td><td>2010</td><td>14</td><td>159</td><td>350</td><td>Classic</td></tr><tr><td>fd985ff1a9fcc2b2dd8772d3d9d0ceb52bfea459906ba64c1385b9cd1db6732a</td><td>Alan Schoenberger</td><td>2009</td><td>15</td><td>320</td><td>500</td><td>Classic</td></tr><tr><td>fdf12cd9ae1340466be391ce67a067f2a3b728ae0d8c305503e7ce7058d4d76e</td><td>Roland Black</td><td>2009</td><td>15</td><td>206</td><td>450</td><td>Classic</td></tr><tr><td>fe88da6a8e94228f1500b1c07ba113ba8650a660d7df30ea78b782da912034b1</td><td>Thais Sissman</td><td>2009</td><td>15</td><td>473</td><td>1050</td><td>Classic</td></tr><tr><td>ff2e26cf425394627667539a98f66a6bad2a07fe3fad2ed7b5f2d33051c33b26</td><td>Rob Williams</td><td>2009</td><td>15</td><td>71</td><td>200</td><td>Classic</td></tr><tr><td>ff79734b8b635c06e79d806b1e6ed26d7c755edfa1e40fac9d41a826232c81db</td><td>Shahid Hopkins</td><td>2011</td><td>13</td><td>255</td><td>450</td><td>Gold</td></tr><tr><td>ffabfb04840925384f7b019a832db453433cdae78f3f23be44cb8ec13596d72f</td><td>Richard Bierner</td><td>2009</td><td>15</td><td>150</td><td>400</td><td>Classic</td></tr><tr><td>1212e8749bdc3800d2514d8ae53c10b8cbe3a9e4355de5db35f746c510c4603e</td><td>Charles McCrossin</td><td>2010</td><td>14</td><td>100</td><td>200</td><td>Gold</td></tr><tr><td>1312e8749bdc3800d2514d8ae53c10b8cbe3a9e4355de5db35f746c510c4603e</td><td>Andrew Tazas</td><td>2022</td><td>2</td><td>1</td><td>30</td><td>Classic</td></tr><tr><td>07c41f7f8da2ed563ce0452e1d066605494817333732bafb29d6c596e6aeb39a</td><td>Dave Kipp</td><td>2009</td><td>15</td><td>700</td><td>1100</td><td>Platinum</td></tr></tbody></table></div>"
      ]
     },
     "metadata": {
      "application/vnd.databricks.v1+output": {
       "addedWidgets": {},
       "aggData": [],
       "aggError": "",
       "aggOverflow": false,
       "aggSchema": [],
       "aggSeriesLimitReached": false,
       "aggType": "",
       "arguments": {},
       "columnCustomDisplayInfos": {},
       "data": [
        [
         "001492ac094ba3c986a45e7799a0409db64ed3c856e39cf16854012aa468fa01",
         "Nick Crebassa",
         2009,
         15,
         432,
         650,
         "Classic"
        ],
        [
         "00fcf5c6646b01ce72417b854ad2ebcff2a73c4beec096c90dd9d1e60a7fd1e9",
         "Barry Pond",
         2010,
         14,
         227,
         350,
         "Classic"
        ],
        [
         "0105946ed08fb4ccf5f3efcec88a83121bb5804c698b14f2ad20cf7dd2541f7f",
         "Giulietta Weimer",
         2009,
         15,
         492,
         800,
         "Classic"
        ],
        [
         "018fc79fefdcb46768279300fb6e32f4e1e9f627ae99e3a672244d3052462e9b",
         "Ashley Jarboe",
         2009,
         15,
         495,
         950,
         "Classic"
        ],
        [
         "01a041b0a5fbe79fb524be166ed14fc9f58054716ce63e9db05a67d35f767527",
         "Christy Brittain",
         2009,
         15,
         604,
         1500,
         "Daimond"
        ],
        [
         "02c48608c84d4e55fff763c5fccac13bc5ceca8b7c7932cb8a826644840fc504",
         "Bradley Talbott",
         2010,
         14,
         92,
         200,
         "Classic"
        ],
        [
         "033169eeb2aa318446ae8e8c8095650da8de9c0a48d3ea967e1b30d8102a6751",
         "Chris Selesnick",
         2009,
         15,
         153,
         300,
         "Classic"
        ],
        [
         "0369ac17df128032c356845c2affa7514fec536015f9a12cd48e6adfc3067395",
         "Yana Sorensen",
         2009,
         15,
         153,
         300,
         "Classic"
        ],
        [
         "03cb105570054c13f9cc768fa1462134f4ddbc8077501f712e3be987506ac10a",
         "Erica Smith",
         2009,
         15,
         375,
         750,
         "Classic"
        ],
        [
         "03de3b10f1d1797fa42d5372db545dadd5aa777b823885979bdd09fa20e9660d",
         "Jane Waco",
         2010,
         14,
         217,
         350,
         "Classic"
        ],
        [
         "043877670a01371fbcd859331f0b5e941cefe9c2849811cbfa302b719aca28e9",
         "Anne McFarland",
         2011,
         13,
         27,
         100,
         "Gold"
        ],
        [
         "045f5df947412e50b9ed9c3d263192b6922fb22edb9d09dd0cb5f00699b9afd1",
         "Bobby Elias",
         2009,
         15,
         381,
         800,
         "Classic"
        ],
        [
         "0484dd98ac6d61c6eaaecf48d3b5fe0ba26db2a3bc09dde14ef69cbc352d77f3",
         "Brenda Bowman",
         2010,
         14,
         227,
         500,
         "Classic"
        ],
        [
         "04a25c05e08770e4e47788646336a5197d5637a6d1d8530f47a7542e1c848b7c",
         "John Murray",
         2009,
         15,
         342,
         650,
         "Classic"
        ],
        [
         "04b4a7b0d0be27d672931d8cf2c335af25470b792a942bf3c53ae7c2321a4972",
         "Dionis Lloyd",
         2009,
         15,
         233,
         550,
         "Classic"
        ],
        [
         "04b566a5700b9c9a660782824de3fae4a3f135f31a89c8d89035c278397a8998",
         "Tonja Turnell",
         2009,
         15,
         395,
         700,
         "Classic"
        ],
        [
         "04e3af039f6f9cf64fe4e4d1be54cb6c4cbce4ef6929222f2fc509ea60568a14",
         "Vivek Grady",
         2009,
         15,
         552,
         1350,
         "Daimond"
        ],
        [
         "04f42e90c8977b09fe318b42b5458d679cf2acc9669fbdba31ad08335a55248e",
         "Lauren Leatherbury",
         2009,
         15,
         657,
         1400,
         "Daimond"
        ],
        [
         "052c513c02579c9042cb5774784d8c5c8f06a2db63d7df5cbf596a5960a25c24",
         "Bill Overfelt",
         2009,
         15,
         296,
         550,
         "Classic"
        ],
        [
         "059ae84db3a4e7d61daf4943cf7c7353a89541e58541d27babaaa4dfcf40d70e",
         "Keith Dawkins",
         2009,
         15,
         348,
         900,
         "Classic"
        ],
        [
         "061ce599d1ba7311e9b2c34f16d28fd156b6cd1158938df6a86125ff0e869f7d",
         "David Philippe",
         2009,
         15,
         292,
         550,
         "Classic"
        ],
        [
         "06995bd404f477b2b964353f1a79077604e5c41c0e73b47dd4ce6f8bbe064bf7",
         "Toby Carlisle",
         2010,
         14,
         154,
         400,
         "Classic"
        ],
        [
         "06a4de5b13d3ff590e897c76f81026e1c20e46ce500231294b10d419b2471ec9",
         "Nathan Mautz",
         2009,
         15,
         647,
         1300,
         "Daimond"
        ],
        [
         "075609fdf9c07ddef4b9259b6c56a3291e98d6494c8e9d06351e6a38f5550564",
         "Christopher Conant",
         2009,
         15,
         209,
         600,
         "Classic"
        ],
        [
         "0793a35adbcd0469c7729c5de1cd1f3372de3945e6ff6434905b586b5a722aed",
         "Jeremy Ellison",
         2009,
         15,
         91,
         150,
         "Classic"
        ],
        [
         "07de8c2693a047311aac3bb2e1a7bf301d9e290b04431926048d92a40e3bbfd0",
         "Nora Price",
         2009,
         15,
         675,
         1600,
         "Daimond"
        ],
        [
         "07f3f14b28ce55cd671554eef9decec7955ba1c8a2f54bf3b5252838bd4022a5",
         "Susan Pistek",
         2009,
         15,
         109,
         300,
         "Classic"
        ],
        [
         "0802db7347bb4f1a3a7e0310647f22cfdabd74a13450c9f28892e05d93907fe6",
         "Anthony O'Donnell",
         2009,
         15,
         242,
         500,
         "Classic"
        ],
        [
         "0898d2b2c0071a3ff9dde80a1ae1d12123e3f5b9b388ae4c40d83343b26c6cd3",
         "Vivek Sundaresam",
         2010,
         14,
         170,
         400,
         "Classic"
        ],
        [
         "08d05646fc39bbe28a8e36601be2d3844a895c231a882e220539c7481ce843e9",
         "Ken Brennan",
         2009,
         15,
         230,
         500,
         "Classic"
        ],
        [
         "08e78c5c7016583ea3b387fe33cb9294d4b65d1915e5347516f2447fb63a4634",
         "Maya Herman",
         2009,
         15,
         221,
         550,
         "Classic"
        ],
        [
         "08ed85f3a659f33e49e72286ad34d69db859e210d88466993f7645c9530d02e0",
         "Melanie Page",
         2009,
         15,
         344,
         600,
         "Classic"
        ],
        [
         "092bbdda282fd43fe4a1bff177dbd53f5e96c5f47098fa535a513bdf442c0877",
         "Maurice Satty",
         2009,
         15,
         56,
         200,
         "Classic"
        ],
        [
         "0938650cdb648100e7fca825a1f6136e5835fc36232f3375ff7d71c2925b36f7",
         "Eva Jacobs",
         2009,
         15,
         384,
         800,
         "Classic"
        ],
        [
         "09917c0e2ed240d3f8973cea239d664d7c7ef7c582c1083d3fb75ec4c082057b",
         "Adam Hart",
         2009,
         15,
         506,
         1550,
         "Daimond"
        ],
        [
         "0b1ea44dafe0f4a475bdf08b4e0d0557a9f2481ab884bd94a734d82c402717b5",
         "Jill Matthias",
         2009,
         15,
         138,
         350,
         "Classic"
        ],
        [
         "0b3bc5dfa9bb1de600da4f502f79fec94747949a105fc522d0a4de4f25eb2703",
         "Mark Haberlin",
         2009,
         15,
         182,
         400,
         "Classic"
        ],
        [
         "0b77dc33b331c977efbbf2151ab5a60d78e0a8dbec4b537794d85a836f2cc87b",
         "Chuck Magee",
         2009,
         15,
         111,
         250,
         "Classic"
        ],
        [
         "0c4bf67b74c997a8db741822e5c7f3dfc0b20aa0e246056044c13c5618390385",
         "Harry Greene",
         2010,
         14,
         98,
         150,
         "Classic"
        ],
        [
         "0cdc1666b77dda902251832ed1b3439c0ed68b84fc33a453fdccb44723e20354",
         "Giulietta Dortch",
         2009,
         15,
         734,
         1600,
         "Daimond"
        ],
        [
         "0d3327a2829b24a3ab19448dbe85f5a38ae66b2b367c18717a2200948da8cb11",
         "Mary Zewe",
         2009,
         15,
         129,
         250,
         "Classic"
        ],
        [
         "0d70c60e67ee695abca5f9b6d6058bbc5dc67b0dc572d9462c5c2ef0bfb04b20",
         "Paul Lucas",
         2009,
         15,
         99,
         300,
         "Classic"
        ],
        [
         "0de04a07de4b1b0dcc8e6a5699ecd66a9c7500a4127a79b29ed7ed8b49d8ade4",
         "Julie Kriz",
         2009,
         15,
         201,
         400,
         "Classic"
        ],
        [
         "0de518a0b7f4d8cc4564456d9849bc7500b6bb8689963829752fb381945e22b3",
         "Christina Anderson",
         2009,
         15,
         259,
         350,
         "Classic"
        ],
        [
         "0e18e652aac8016d3b3c642f39bfbc973d2834d848cfb835ceb40435733eef37",
         "Ed Jacobs",
         2009,
         15,
         145,
         300,
         "Classic"
        ],
        [
         "0ea0617fcd2092956d0c998f635359d9decd2f2c6c83591346b139350d743e0e",
         "Sarah Jordon",
         2009,
         15,
         193,
         400,
         "Classic"
        ],
        [
         "0eceb1abe53e7c3ac3ea4f175577c5af68f2e25520638ec5b35cb9d495974571",
         "Kelly Andreada",
         2009,
         15,
         160,
         400,
         "Classic"
        ],
        [
         "0ed9bf0dcaa019266eefd4035d03d7fde51d6837d755f4881a4516b06e6c0fa8",
         "Chuck Clark",
         2009,
         15,
         543,
         1150,
         "Daimond"
        ],
        [
         "0f2e6f58fd81b54aee95b2013175aadca26822bcc51966287fc97a67e989b511",
         "Toby Knight",
         2009,
         15,
         137,
         350,
         "Classic"
        ],
        [
         "0fb77b87360fcb496a32cb2673d291c1a83fd88c48d968a4b79d55a169e7144b",
         "Larry Tron",
         2009,
         15,
         513,
         1000,
         "Daimond"
        ],
        [
         "0ff9ada2631346808c7d1bba4f5b5a1f23cd8a9e1c06c5796ce7d13c0175e36b",
         "Heather Jas",
         2009,
         15,
         113,
         150,
         "Classic"
        ],
        [
         "1072a523c69ae8f0187cb182b08a3ffb53c00d2d9a49ab7aeb2adc31aba4c84d",
         "Rachel Payne",
         2009,
         15,
         276,
         500,
         "Classic"
        ],
        [
         "10c105139e2a0246ac9305078cad24292b1a917a2e561d18ed4c5f02fdfae080",
         "Alex Avila",
         2009,
         15,
         410,
         700,
         "Classic"
        ],
        [
         "10c7310fb3780dfa6ceb8c8d1a8a8d4046d2e3fbb734dbe96e3335778121090d",
         "Henry Goldwyn",
         2009,
         15,
         243,
         500,
         "Classic"
        ],
        [
         "10e41e5bcc9f9947b13b67d3aa460f52dcb04dfd6cb50e51bb250f8f159eabea",
         "Roy Skaria",
         2009,
         15,
         773,
         1500,
         "Daimond"
        ],
        [
         "1193e8010b51cd44c5ea3ce36c13e4e631ac7c427a08c17a32ee9a229276d71e",
         "Bruce Money",
         2010,
         14,
         55,
         150,
         "Classic"
        ],
        [
         "11b988dabb31d707f0489e3ef88d57c650eef355bb29d7008a1150efd89ca140",
         "Scott Cohen",
         2009,
         15,
         240,
         600,
         "Classic"
        ],
        [
         "1200bba41e2048d080096176a859ce3f6c9c61235d6ff3f3bee15a0cca45956f",
         "Ryan Akin",
         2009,
         15,
         127,
         250,
         "Classic"
        ],
        [
         "122636d71225b9df54757209ab41bf0ecb92aa0ab7f6b3122f0a35bfdb878969",
         "Nicole Brennan",
         2009,
         15,
         545,
         1300,
         "Daimond"
        ],
        [
         "12baa372aa2b34f88fe8cde5e986730d85feb52498a5e601fe276ee917aab4ca",
         "Darrin Van Huff",
         2009,
         15,
         199,
         450,
         "Classic"
        ],
        [
         "132b3fabc6e340c4b9a05b9b19b8963b344a01367e32690785bb73db95f50a0c",
         "Anemone Ratner",
         2010,
         14,
         287,
         600,
         "Classic"
        ],
        [
         "136d2dcc58235d6f3fecb6222bf3ae4c9bb00c635db1c1370edf2e86a903924e",
         "Maria Zettner",
         2009,
         15,
         304,
         600,
         "Classic"
        ],
        [
         "13c182b1e4af071deaf51b0202aa1d4a18d24a66ffc06d70c2b3564a21c55345",
         "Michael Paige",
         2010,
         14,
         171,
         300,
         "Classic"
        ],
        [
         "13d0c2650cd31c1a2d2c1093852a2e52be6abce908cd64d66efe52f8cf5295a7",
         "Jim Sink",
         2009,
         15,
         393,
         550,
         "Classic"
        ],
        [
         "1424395112f8a5b8ecc052866d6cdb9e2688947eff721acf81bf9fd590849b12",
         "Michelle Lonsdale",
         2011,
         13,
         286,
         700,
         "Classic"
        ],
        [
         "14b432c4d10a5ee3c0af1c91d208f0daa24665251008c2d7c7c26ec3de394ac8",
         "Muhammed MacIntyre",
         2009,
         15,
         322,
         650,
         "Classic"
        ],
        [
         "14e6ac014029ae8d5cb44dc9988cf4cf277f1f3904f7eb304f87a03e58fd6dee",
         "Ben Wallace",
         2009,
         15,
         210,
         400,
         "Classic"
        ],
        [
         "151750c6a693ff2000f3da34245b13103a667daf6b49a92399ff86ba66be4e56",
         "Chad Sievert",
         2009,
         15,
         270,
         550,
         "Classic"
        ],
        [
         "151d04fcbcd6b8bd6b17e352361b2994d24e52b11bb2218813b7a2b5050feab1",
         "Erin Mull",
         2009,
         15,
         260,
         550,
         "Classic"
        ],
        [
         "159648aed86f0d8412991c9af782bcccbe7c91127f0636614c45b04adafe11fa",
         "Brosina Hoffman",
         2009,
         15,
         151,
         300,
         "Classic"
        ],
        [
         "15f5465e73de75f9ca195edaa760f0974dcce4adc7edfa9cf6c6c95e70cd4ccf",
         "Dean Braden",
         2009,
         15,
         38,
         100,
         "Classic"
        ],
        [
         "160467acfa4f36bf3d51ab3b745f3f70905803f31a2f89138ef8796b4c71f39d",
         "Ed Ludwig",
         2009,
         15,
         438,
         700,
         "Classic"
        ],
        [
         "161e83995502de2067fdce02285164deb0833359deb482d815b2a41d695c7a56",
         "Steve Chapman",
         2009,
         15,
         378,
         800,
         "Classic"
        ],
        [
         "1655ae38b5091c88b4709fa0c24e0e114d0e7ce3493c8e8c9a23337d5d296551",
         "Darrin Sayre",
         2009,
         15,
         237,
         400,
         "Classic"
        ],
        [
         "16627e687178cfcae7f1d9eece60691922845377795f77f051436bb834a49f4d",
         "Frank Price",
         2010,
         14,
         125,
         300,
         "Classic"
        ],
        [
         "16df83b80f9a980dd09980086ed1ba2ac02b5f36f6e642fd161003087a57ba4d",
         "Thea Hendricks",
         2011,
         13,
         192,
         400,
         "Gold"
        ],
        [
         "16f5e3e5939745b2ac4f59f859670751c169d90e16b20dabddba3e70f5ec89c1",
         "Jim Kriz",
         2009,
         15,
         421,
         650,
         "Classic"
        ],
        [
         "17f942428e509d4b7769069542abafe9b6402238c4106a5cfc3960456a870dc3",
         "Tom Ashbrook",
         2010,
         14,
         216,
         450,
         "Classic"
        ],
        [
         "18534d3f963ce903bc02977190506fe153524c922f98ee896649193a6eb192a4",
         "Tracy Zic",
         2010,
         14,
         180,
         400,
         "Classic"
        ],
        [
         "187fac1dffba064b21170062a5609f2317937004e2c1002cb4c4683c5f248363",
         "Lisa Ryan",
         2009,
         15,
         105,
         200,
         "Classic"
        ],
        [
         "189487264c1534c55efda0b24b2cbd70070c2505f6d20b17c4b8551d53b152c9",
         "Deborah Brumfield",
         2009,
         15,
         554,
         1200,
         "Daimond"
        ],
        [
         "18bd9daf27dda998260a54a3391c15c04c0c4d987da22a4e657c7bd1ac52d8b3",
         "Beth Thompson",
         2009,
         15,
         453,
         1000,
         "Classic"
        ],
        [
         "18e780c8b5090b029818e6ae6ea451713b832432bd1bdee2c45996f5e503c6c0",
         "Maribeth Schnelling",
         2009,
         15,
         130,
         250,
         "Classic"
        ],
        [
         "1931726d2b13ca37ed6d6a4f292ed3282bef0759a6cf86541e5fb783fcee2417",
         "Cyma Kinney",
         2009,
         15,
         99,
         300,
         "Classic"
        ],
        [
         "19755da5e60119bb7710b2164e17d89ffe101a04f60c4fef0e0263b7e7e84a79",
         "Marc Crier",
         2009,
         15,
         353,
         850,
         "Classic"
        ],
        [
         "19e872f5d8f2f6a244e5a7417c6639dccc45735e544aec8ff0629b5e03f5fb44",
         "Alex Grayson",
         2009,
         15,
         481,
         750,
         "Classic"
        ],
        [
         "19fb0eb4b97d4ce127ae387fedde681aa15935f34feccd5c73cf2ee398cfa2e7",
         "Gary Hwang",
         2009,
         15,
         422,
         650,
         "Classic"
        ],
        [
         "1a0ac634beff4621785f17eabf5f65fdbef47932d92d73cbc7f340b40e19225e",
         "Max Jones",
         2009,
         15,
         382,
         650,
         "Classic"
        ],
        [
         "1a909b735b4175b36256f389ff9c8dea6d8177df67a3dd9ed7f6699b934dcb60",
         "Neoma Murray",
         2010,
         14,
         249,
         400,
         "Classic"
        ],
        [
         "1af01c669b42374d68da206d9a0b4ef38c83cd17137ed1cea09090f6ef9ae105",
         "Gary Hansen",
         2010,
         14,
         95,
         200,
         "Classic"
        ],
        [
         "1b06b3f9a44e7b0446797cae783598938a54618346563859f3ce4ea58999db20",
         "Jeremy Pistek",
         2009,
         15,
         228,
         500,
         "Classic"
        ],
        [
         "1b09539d85b22468940a9805938588c1bc4ed349c3eb8ff237de1cc330c3eb5c",
         "Sonia Sunley",
         2009,
         15,
         635,
         1500,
         "Daimond"
        ],
        [
         "1b32675546b3ec7dc10572407d52f20e9cbfd384e8c589607037af45aad9379f",
         "Sam Zeldin",
         2009,
         15,
         52,
         200,
         "Classic"
        ],
        [
         "1ba433aaaf4bd1519f688d8cfc6c4fc1bf4be5084ae48b34b481a7a864c915b2",
         "Russell Applegate",
         2009,
         15,
         337,
         550,
         "Classic"
        ],
        [
         "1be11b7864ea49ae22bde720848df139257015b00fc2e6f70e27999e9774ea4c",
         "Beth Paige",
         2009,
         15,
         254,
         400,
         "Classic"
        ],
        [
         "1cdf480865f74865bcc622fa92544ebf5b3c0ad2b26b0e03e16e6ffe82fa885e",
         "Natalie DeCherney",
         2010,
         14,
         21,
         50,
         "Classic"
        ],
        [
         "1d85f87d30ee3dbb594f86536226ad05637bd7479b0e9636b3b8886dd59e2a05",
         "Hallie Redmond",
         2010,
         14,
         156,
         550,
         "Classic"
        ],
        [
         "1dee97b9756b9b65f10834d0d5ef3a2cc233d90ef443fe9420642985f8fadc7b",
         "David Kendrick",
         2009,
         15,
         150,
         400,
         "Classic"
        ],
        [
         "1e647d0424b19db5aa0fbf0ebee397e8a47cf32b48fc89b37222599ac90a00d0",
         "Thea Hudgings",
         2009,
         15,
         309,
         450,
         "Classic"
        ],
        [
         "1e82628651952ee1e72bd72e716e30f53f50052636db3ea3d2acfd35912611d5",
         "Berenike Kampe",
         2009,
         15,
         305,
         450,
         "Classic"
        ],
        [
         "1f07e41c5a310fda2c158f4a6760f4b7732a0f24c20db3466a661802b9b07bf9",
         "Rick Hansen",
         2009,
         15,
         321,
         750,
         "Classic"
        ],
        [
         "1f1dc639c18c307a2703d0fcdd60dc317360d863e1ff0117ac7a2a49573b5754",
         "Rick Wilson",
         2009,
         15,
         542,
         1300,
         "Daimond"
        ],
        [
         "1f2139f589d7a0a0679c6af970972a72a5e184b1d98610fa95e6be37224b57f1",
         "Ralph Knight",
         2009,
         15,
         147,
         350,
         "Classic"
        ],
        [
         "1f46ad3966b04be329665717336598e334a09c372f54f34663b0adbdeb533cad",
         "Emily Phan",
         2009,
         15,
         269,
         500,
         "Classic"
        ],
        [
         "1f884cb1d5ba4878115939df34de5e3dbab177f694481c4c8f7acdbfaf80383d",
         "Rob Beeghly",
         2009,
         15,
         261,
         400,
         "Classic"
        ],
        [
         "200a059e2845582ec74efb03cc7684cc64df81a25b23967b46660b354abba4cb",
         "Arianne Irving",
         2009,
         15,
         233,
         450,
         "Classic"
        ],
        [
         "20b1f6988bb38f77fad46970cb9da8630b9f0675dcc2b74a30441266d8b6c2e9",
         "Greg Maxwell",
         2009,
         15,
         104,
         150,
         "Classic"
        ],
        [
         "211063aa2012d9e249f637a692b80cd11e4a3eac6416927e0b4605749ad177c9",
         "Cathy Hwang",
         2009,
         15,
         94,
         200,
         "Classic"
        ],
        [
         "2112e9c1e00bb7721175e6a99182d433bd560390356d2c70c790831e4e1a4032",
         "Ted Butterfield",
         2010,
         14,
         89,
         100,
         "Classic"
        ],
        [
         "214267adaeec6b7c8f0f75eb0e3482fe372a644e0aff809f47007fc04fa0154f",
         "Christine Kargatis",
         2009,
         15,
         30,
         100,
         "Classic"
        ],
        [
         "215a5f8ebf80cff12872d0c0a7396e8435374d57eaa048d58674919df59a44d0",
         "Harold Ryan",
         2009,
         15,
         371,
         600,
         "Classic"
        ],
        [
         "21a925cfa1043c0709c1d72395155595a187da59b6699e1d6c32392a8ed477e5",
         "Susan Gilcrest",
         2010,
         14,
         150,
         200,
         "Classic"
        ],
        [
         "220007f3b16a228bf7ed771a5eafea4e7780d42001d40c8e82f7b8e625752541",
         "Paul Knutson",
         2009,
         15,
         234,
         550,
         "Classic"
        ],
        [
         "221aeafc7774e8d86ae277ce0ede019ecd7cdf60c7836463f6355c3b34e9ad65",
         "Gary Mitchum",
         2009,
         15,
         89,
         250,
         "Classic"
        ],
        [
         "2297a9a9f69dc54e258686b495740bd7d81de3ffbaef5885c8c1a34aaaa7ace8",
         "Mike Pelletier",
         2009,
         15,
         252,
         500,
         "Classic"
        ],
        [
         "23f1970ca9463ff3d36d788b963de3ffb7c855028157c765afb9596838a62f00",
         "Sue Ann Reed",
         2009,
         15,
         230,
         400,
         "Classic"
        ],
        [
         "240239b1be097749c3ded17638a4bf5385971acbcc73dd6654451cc1cc3dce20",
         "Natalie Fritzler",
         2009,
         15,
         112,
         200,
         "Classic"
        ],
        [
         "241fa973f0bcb05c4bd0dd785045691547cd2c4d652daa1e308e7b3c3d757a92",
         "Alan Hwang",
         2009,
         15,
         689,
         1550,
         "Daimond"
        ],
        [
         "2490fb063e2af0df44f45f6711862c00638373ef65aedc81c801d210bf776a7f",
         "Jocasta Rupert",
         2009,
         15,
         101,
         200,
         "Classic"
        ],
        [
         "24a4ed9e16b132ba3eb448d7237185ff3a4e685ed9d65b6e2e83dac06f14e582",
         "Marina Lichtenstein",
         2009,
         15,
         98,
         250,
         "Classic"
        ],
        [
         "24b8bec57ef5eeec046a25c6bbfef16dc3db2b9afae0e4e6279ae2eb6a779092",
         "Filia McAdams",
         2009,
         15,
         269,
         450,
         "Classic"
        ],
        [
         "2514fb9cae0c75054af9c37aced3c85053b8af21a1b7bbc5f6da3407349c8434",
         "Erin Ashbrook",
         2009,
         15,
         166,
         500,
         "Classic"
        ],
        [
         "2522e6abde8b192691f567f2c6dde574c980074799ce5b3ce22dd1a65164f7e7",
         "Matt Hagelstein",
         2011,
         13,
         61,
         150,
         "Gold"
        ],
        [
         "2589da5927385a60b0bf28e8bd044735322f1b859d220d0e29510df5bc4d0c64",
         "Shaun Chance",
         2009,
         15,
         237,
         550,
         "Classic"
        ],
        [
         "259be8d163d3378f95b2182dc40eceaa94d72382ea74e44bd965757cb2a5742d",
         "Katrina Willman",
         2010,
         14,
         310,
         600,
         "Platinum"
        ],
        [
         "25b6430634f423aa7d88b26f438a43b719ec70ba4e054067964459b9c6494454",
         "Joni Blumstein",
         2009,
         15,
         388,
         800,
         "Classic"
        ],
        [
         "25eaa37317379b5c7719c79b186b2555b313176e5ef890fdcf3513938739e689",
         "Kristen Hastings",
         2009,
         15,
         248,
         500,
         "Classic"
        ],
        [
         "267e62c00b66411d570469429942c5fa7470955fb03bd50ba0141f3a01c1710b",
         "Jonathan Howell",
         2009,
         15,
         127,
         300,
         "Classic"
        ],
        [
         "26a8ff701670b51576e953c30c93ea50843d8bd577dcdd1762287cde683ad960",
         "Giulietta Baptist",
         2010,
         14,
         230,
         350,
         "Classic"
        ],
        [
         "27d28f15f9b310009331d211afb413bc259880163fcda2f6ae02d4bb3a8a850b",
         "Noel Staavos",
         2009,
         15,
         548,
         1250,
         "Daimond"
        ],
        [
         "27d86d0ee95308f62b2cad4c623ebedd742c058b3dde341c28a731150a6235de",
         "Toby Grace",
         2011,
         13,
         153,
         300,
         "Gold"
        ],
        [
         "28b5e1e4b82e23aa90b5699fb8159469669fc0ebb25c6ee975135670f99026ed",
         "Robert Waldorf",
         2009,
         15,
         193,
         350,
         "Classic"
        ],
        [
         "28baf94da46e6eba9fbb1af942375e727d46f6e682496a806bfee52b9c0bbd92",
         "Frank Atkinson",
         2010,
         14,
         248,
         450,
         "Classic"
        ],
        [
         "290a06f8069b0780b742c330b123876fb86290ec99190295179dc0e1ae60fef2",
         "Katherine Murray",
         2009,
         15,
         157,
         400,
         "Classic"
        ],
        [
         "29ab312ee832b934c059203661707ad5079a833d2f96f583af2cf227da93e3e5",
         "Jay Kimmel",
         2011,
         13,
         145,
         200,
         "Gold"
        ],
        [
         "29b8f8f54a0405dc20c84f25d2344ddb3fa644459453c184dc8237349bb460db",
         "Kimberly Carter",
         2009,
         15,
         323,
         600,
         "Classic"
        ],
        [
         "2a9162dec76bcbf29ae17214cfe480d323edd9f0b9f7ed75b6efe4008e362716",
         "Sharelle Roach",
         2009,
         15,
         96,
         150,
         "Classic"
        ],
        [
         "2ac82f8e880ce5f892bf11c17e4bfdc22703fe311fceb32adc5107e4004bf01e",
         "Lindsay Shagiari",
         2010,
         14,
         122,
         300,
         "Classic"
        ],
        [
         "2af1ded49c44b93a88782ffd77491edcb3b3851e8a83818a53ffe07a60d74767",
         "Barry Weirich",
         2009,
         15,
         164,
         450,
         "Classic"
        ],
        [
         "2b23d8d47f81764a6c5829edc9ae1b3a743e5d80f14b1c84b576144fe98e625c",
         "Sibella Parks",
         2009,
         15,
         372,
         700,
         "Classic"
        ],
        [
         "2c35be7297edc0b77e2479662e8150c0aff9b3132d44ef74baa402044722ce98",
         "Michael Nguyen",
         2009,
         15,
         111,
         150,
         "Classic"
        ],
        [
         "2c55bad098630c006140bdb4ef7a5befc9a32886ca50aa24908aa82be7ea96d7",
         "Lisa Hazard",
         2009,
         15,
         260,
         550,
         "Classic"
        ],
        [
         "2c63cfd0a21c1f5b6974c7aa6d6423921ec41d5bd6d4573c869cbe3d51fc5a36",
         "Paul MacIntyre",
         2009,
         15,
         213,
         400,
         "Classic"
        ],
        [
         "2cd8446c5a260cb4e8e90ffdc677b66aebfa1e1db4868a853ed68be297d86828",
         "Hilary Holden",
         2009,
         15,
         408,
         750,
         "Classic"
        ],
        [
         "2d0baf102a7a92a29a5f6c12d1e6656d1d8e74d63d3c4f716fa157f11b50a06b",
         "Duane Noonan",
         2009,
         15,
         216,
         450,
         "Classic"
        ],
        [
         "2d1ee28200bc044652efc192f943ca2a22a66614429d6dbaf963c7e46dc2be7a",
         "Cari MacIntyre",
         2009,
         15,
         420,
         800,
         "Classic"
        ],
        [
         "2ef6e88c79cbdc76ba287422270d111ce61fe9e1ab273c526b0ab36a6542ee73",
         "Ralph Kennedy",
         2009,
         15,
         418,
         900,
         "Classic"
        ],
        [
         "2f0bd6709f6bad57ea646ec0443217d9180c6ae36329ebc120a51d817391881b",
         "Clay Rozendal",
         2009,
         15,
         124,
         250,
         "Classic"
        ],
        [
         "2f3431ddad8c5c7a93c3f13ec9119c38ee811210db7b171bb9ffd02d1226d371",
         "Astrea Jones",
         2009,
         15,
         187,
         600,
         "Classic"
        ],
        [
         "2ff69240af214a8e97793e0a4107d4b100b73199f22c332060151cbc01b6a35e",
         "Clay Cheatham",
         2009,
         15,
         100,
         250,
         "Classic"
        ],
        [
         "3033ab01288babc849076860dbd729a1e4fa7c4048e98890c745bfe1895134c6",
         "Kelly Collister",
         2010,
         14,
         68,
         150,
         "Classic"
        ],
        [
         "30a9dceb5f733baff74883ab3968ad7c64d7b060e1af9bed4b25aa6c41b8f707",
         "Meg O'Connel",
         2009,
         15,
         508,
         1050,
         "Daimond"
        ],
        [
         "30c232dcba2cacb9061f7ed2a50ca548223ddfec22e4a4c6c092234830bedbc1",
         "Corey Catlett",
         2010,
         14,
         266,
         550,
         "Classic"
        ],
        [
         "313b031a92e682d9f9d91644dcd954bf2963238f6b0c3b15a33612fd823f41da",
         "Dennis Kane",
         2009,
         15,
         525,
         1200,
         "Daimond"
        ],
        [
         "319a6694398fec939ca7e6e03b344d0fe67c938136e64007d31fe0724838bd9b",
         "Nick Zandusky",
         2009,
         15,
         208,
         450,
         "Classic"
        ],
        [
         "31a85079343b02a762c80c6a7a413b74a7eb428225471f6da6ce7bd7ba0cbb72",
         "Joe Elijah",
         2009,
         15,
         253,
         400,
         "Classic"
        ],
        [
         "31abf03e963d007131782accb39951a02a7a170b64d6cb36b9dfcf6491281126",
         "Michael Grace",
         2009,
         15,
         404,
         800,
         "Classic"
        ],
        [
         "31cd763fe2e896605920cb11125e309f52187961d8a9f657c4b0a381c8b7dc83",
         "Gene McClure",
         2009,
         15,
         188,
         400,
         "Classic"
        ],
        [
         "31fecbf10caf4ef6d7a3836b34604242737d8df0c4889f9a36423c46321198db",
         "Eugene Moren",
         2009,
         15,
         312,
         550,
         "Classic"
        ],
        [
         "33ddabb5a0a1c54baf57ac88132b977a896b9e28d4709cbd898fdb11ac91b469",
         "Dianna Vittorini",
         2009,
         15,
         265,
         600,
         "Classic"
        ],
        [
         "344807ea459dfbd86423331f676805c76e93369cef082753397e03aa40e27aad",
         "Beth Fritzler",
         2009,
         15,
         240,
         400,
         "Classic"
        ],
        [
         "35588cdd2599d94d02e979b731a4c1514814dd069cb1c589158d09152f5e4a0b",
         "Bryan Mills",
         2009,
         15,
         211,
         400,
         "Classic"
        ],
        [
         "3592c238edc287f1569ccc6f1b6e0b55d66a90e6791de0633b9f8d9e3cbfdcb5",
         "Craig Yedwab",
         2010,
         14,
         188,
         400,
         "Classic"
        ],
        [
         "35a0e46fb79e3ae6acb270373690be938f57e69ad4b04f389e96558114391387",
         "Rob Haberlin",
         2009,
         15,
         593,
         1350,
         "Daimond"
        ],
        [
         "35b8b68ae838e0aab619a183b8527799a8cf615ab15782c0b44ff7b9fc089df1",
         "Denny Blanton",
         2009,
         15,
         93,
         350,
         "Classic"
        ],
        [
         "35c14fa7d7d34d8ba00cc15af02167c9d92232e75ca5c7370bbb408ce8afbe2e",
         "Evan Minnotte",
         2009,
         15,
         184,
         350,
         "Classic"
        ],
        [
         "35d04b00439baef82988264cf8de335343e375817ebe687e5f2a1290b0d87c3c",
         "Karl Brown",
         2009,
         15,
         663,
         1350,
         "Daimond"
        ],
        [
         "360d850c3d7945f54da94fa0a507dd28b4d9a1bf3d697ad00bb9bf2365fbaebb",
         "Mark Hamilton",
         2011,
         13,
         38,
         100,
         "Gold"
        ],
        [
         "361ad9c35cbc270701f76f8fc58cf228fad5cd955467447633aed780c053f535",
         "Henia Zydlo",
         2009,
         15,
         207,
         300,
         "Classic"
        ],
        [
         "3637fe73d3846939a9aa965d134f221fc6109dade03aeff72f4e8e6ee9a91efc",
         "Denise Monton",
         2009,
         15,
         625,
         1550,
         "Daimond"
        ],
        [
         "367eb6df340bd4afe3e5d931e77ecac4d2f0e4c9b4d0a9bc57f9c6508ded8b8c",
         "Dorothy Badders",
         2009,
         15,
         267,
         400,
         "Classic"
        ],
        [
         "36a59426f05136c590db1904975483e30e89c2c0e315122520d981c3d82d0da0",
         "Matt Connell",
         2009,
         15,
         356,
         550,
         "Classic"
        ],
        [
         "386058fca8945b81bd83b6e31008f6d87459660a1529116b41abc238d0aec336",
         "Steve Carroll",
         2009,
         15,
         227,
         400,
         "Classic"
        ],
        [
         "38be3ed0184b3b229653c2ffa0074065c65f981fe85fbbd4248e3efd448a784e",
         "Ricardo Emerson",
         2011,
         13,
         187,
         350,
         "Gold"
        ],
        [
         "38cecfecdfbe4a16877fbf81d8b9c61f2e274b5b19c08c9999ec0b7eb8744dc0",
         "Tamara Willingham",
         2009,
         15,
         384,
         800,
         "Classic"
        ],
        [
         "396021354c681e1dbb586f69b7ed27b92a4799015376ffad4bb6a5564ac79e98",
         "Nat Gilpin",
         2009,
         15,
         133,
         350,
         "Classic"
        ],
        [
         "3974e3b97e97f327d70931eb8684577b939e4febe8d8df63ca53526cbf96dcf7",
         "Evan Bailliet",
         2009,
         15,
         138,
         400,
         "Classic"
        ],
        [
         "397f65136486c9bbe139df08795f8ae89baac6e44ce80f6497b568ff0a6df4b0",
         "Grace Kelly",
         2009,
         15,
         202,
         400,
         "Classic"
        ],
        [
         "39bfe1e4ce657e47108aa45c9fdd6cb2b74accaa43a64e9186732c3b4203d85f",
         "Doug O'Connell",
         2009,
         15,
         64,
         250,
         "Classic"
        ],
        [
         "3a921a669a2f742df3980e99eacb61e3d62d196193658566057a0eea9259d491",
         "Karen Daniels",
         2010,
         14,
         218,
         400,
         "Classic"
        ],
        [
         "3a955b01f5e396c1d0eeefd7e982145ad6eef4027d4e85ad6a70b409e1b3bd26",
         "Tamara Chand",
         2009,
         15,
         196,
         450,
         "Classic"
        ],
        [
         "3aaf6d8f0dc3ac5e803c7388dc58991235294977edab2244b03611717adac01c",
         "Lynn Smith",
         2009,
         15,
         240,
         450,
         "Classic"
        ],
        [
         "3ab6b4cace3a73811861a015ba8a97f4e12779ba7910dd9519a9b1547e0b44aa",
         "Frank Olsen",
         2009,
         15,
         88,
         200,
         "Classic"
        ],
        [
         "3ae5be391673f9e63dbfa23e8b56ae9d2bf27c4942c4f8275332dfd0efbe616d",
         "James Lanier",
         2009,
         15,
         370,
         650,
         "Classic"
        ],
        [
         "3b20479a49434bff2a9220b8902331fde5b84092f772535bb803f84a6b381d2d",
         "Roger Demir",
         2009,
         15,
         148,
         450,
         "Classic"
        ],
        [
         "3b65651c9a2304b5a3ecf0ccdd7cc89e9f5e3fe5aeaef1703822742db99d85ee",
         "Andy Yotov",
         2010,
         14,
         81,
         200,
         "Classic"
        ],
        [
         "3bbc3af83a0c1dd53ac4893b5aee6ce9b865edb885e36df84091be5750c62572",
         "Magdelene Morse",
         2009,
         15,
         289,
         650,
         "Classic"
        ],
        [
         "3c11e2192e8c629b42184b209feb998984ac969fc5a0301b4ef6c7c39e7ddd24",
         "Patrick Jones",
         2009,
         15,
         713,
         1700,
         "Daimond"
        ],
        [
         "3c2220b146abbc80096c82d03e1c17d41cb19d7642c5b56da580179f2aee64d6",
         "Emily Ducich",
         2009,
         15,
         110,
         250,
         "Classic"
        ],
        [
         "3c4aa895273ad154a51ca92ef6b5dfacc88f55a45c964e92bce1e1a3ab5716a4",
         "Sandra Glassco",
         2009,
         15,
         406,
         900,
         "Classic"
        ],
        [
         "3c5f4f9d7bd5ae8295dd873dcd50fda96d9fe06296b8335e6b8a8961906d96e5",
         "Michael Chen",
         2009,
         15,
         209,
         400,
         "Classic"
        ],
        [
         "3cff804ac02c10c6ecba66d7703f7609db2f3c8a4233c72896ba63702ce2ebbf",
         "Stephanie Ulpright",
         2009,
         15,
         273,
         550,
         "Classic"
        ],
        [
         "3d18b46936f92bb2c782a177a02a9bd72650e8b0cf697e18b3f032e42e7a2bce",
         "Peter McVee",
         2009,
         15,
         90,
         250,
         "Classic"
        ],
        [
         "3d26ef86d68b647346d67419a06f22e31135d00f8d85f167cc691b97920db498",
         "Bruce Degenhardt",
         2009,
         15,
         360,
         500,
         "Classic"
        ],
        [
         "3d353049cfcefc6cdd1718725b66eefc744679aedec4bd476b145e8805e8945d",
         "Lena Radford",
         2009,
         15,
         251,
         550,
         "Classic"
        ],
        [
         "3ddfe721dd4666159e4a06c6e2579a865cfbf10eb6d7f48af20e7a8343a71381",
         "Ben Peterman",
         2009,
         15,
         163,
         350,
         "Classic"
        ],
        [
         "3deced8171faecd73686102a7c95ecd0bbc655476202a1472ea4cbc62594702d",
         "Thomas Thornton",
         2010,
         14,
         280,
         500,
         "Classic"
        ],
        [
         "3e3adc789a2b8295dbd394d0109292375a75f57158e52a2e63eb7c6afe466bd9",
         "Jesus Ocampo",
         2009,
         15,
         139,
         250,
         "Classic"
        ],
        [
         "3eb9d43e41868bfbf83600f215c4e649f6924731ac3e36f7879b92bb189653db",
         "Linda Southworth",
         2009,
         15,
         503,
         1100,
         "Daimond"
        ],
        [
         "3ec4cff4aa8c598c8c14970a1401d8a6cb01a163269e0651ada89766a0cfb761",
         "Jas O'Carroll",
         2009,
         15,
         417,
         800,
         "Classic"
        ],
        [
         "3ee9e03ab97b9e4d230b0a2a28df02238a4bbc8232cddb823f18868a6fca7812",
         "Christina Vanderzanden",
         2009,
         15,
         627,
         1150,
         "Daimond"
        ],
        [
         "3f0784e0bbdb7619091710f15923331f57e8dbf2d4e76e05866e7b5fa61e7974",
         "Fred McMath",
         2010,
         14,
         470,
         800,
         "Platinum"
        ],
        [
         "3f5c7b2e0b11b4b2571f73ff791b15c0eaf436fa672a9c60b5c493c0377f37bb",
         "Jennifer Patt",
         2009,
         15,
         424,
         900,
         "Classic"
        ],
        [
         "3f64bc6c558bc0fca70213678811aa97bcb419086c6a9302bcec4a3fea5f6b7d",
         "Tony Sayre",
         2009,
         15,
         687,
         1650,
         "Daimond"
        ],
        [
         "3f6ed5df4f24029d6f299e99f3ea21998e4a8d164abb46e10a56d9d2b15a3881",
         "Cynthia Arntzen",
         2009,
         15,
         585,
         1450,
         "Daimond"
        ],
        [
         "3fa218ff4e886e81cea52b84288dbfcfb28930ec7e3304e28c4131bb9194d094",
         "Charles Crestani",
         2009,
         15,
         455,
         800,
         "Classic"
        ],
        [
         "3fdc059c9ba67c2fc19ec70af40f5ce566ea0f595d94b637ca5119d447854daa",
         "Stuart Calhoun",
         2009,
         15,
         218,
         450,
         "Classic"
        ],
        [
         "4069f57246bb494f3da9be720da809ffe9f24af86be47de3889542ba130573d9",
         "Yoseph Carroll",
         2009,
         15,
         276,
         450,
         "Classic"
        ],
        [
         "4104152c4b2703d96000cdbaba1b3535dd8dcf7efebdd4d9dd480460f88da794",
         "Bart Pistole",
         2009,
         15,
         55,
         100,
         "Classic"
        ],
        [
         "410c6cbd3c84cd8fc080e98f8717aaa970605c82d77837de02704b78a515c017",
         "Arthur Gainer",
         2009,
         15,
         291,
         600,
         "Classic"
        ],
        [
         "41627ec6feb05ca4eb2192e3912def0a45bab19cf6d2901663d061e44849e14a",
         "Claudia Miner",
         2009,
         15,
         141,
         500,
         "Classic"
        ],
        [
         "41d968dd2ee84345c899db7ca92a2e7d64899b48874c936be9113ceebd05de33",
         "Gary Zandusky",
         2009,
         15,
         234,
         450,
         "Classic"
        ],
        [
         "41e6dec82a3754747544c7d40a8fc8e6f7e453a708c8cc4b57d259b5e422a8de",
         "Mathew Reese",
         2009,
         15,
         519,
         1050,
         "Daimond"
        ],
        [
         "42248c6e8d3096d150211e9adbf0c76b60651a64022731bcde8fa259ff0d97ca",
         "Chad Cunningham",
         2010,
         14,
         124,
         250,
         "Classic"
        ],
        [
         "42a69b4fb33f9508c70ee9260ac7299cdb9d9a40cb615533bc74b63c6398a2d7",
         "Brad Norvell",
         2009,
         15,
         126,
         350,
         "Classic"
        ],
        [
         "42af236b974ac678bfefab79d08578e7ec6d712e8c094a40a8827dbd64909f47",
         "Jack Garza",
         2009,
         15,
         182,
         400,
         "Classic"
        ],
        [
         "42dd2029bbed5434fbe19b1053876df7014553ff9d12c58c166572fb73358e3b",
         "Katrina Bavinger",
         2009,
         15,
         137,
         300,
         "Classic"
        ],
        [
         "42ef732c0404b97a427a2f849c45075c4780300bbfd32315deca5811990ba234",
         "Craig Leslie",
         2009,
         15,
         229,
         500,
         "Classic"
        ],
        [
         "42fb3a7e57c7512771ccfcf881464372d8695eff77a024110b575627363a0a81",
         "Laurel Workman",
         2009,
         15,
         131,
         350,
         "Classic"
        ],
        [
         "434c95e27fb4646fa7c092ed3f1a2cb747da3c5d0dfa0f800a441ccd5bde2da5",
         "Anna Chung",
         2009,
         15,
         54,
         200,
         "Classic"
        ],
        [
         "434f2abd99425cf80e570844f17a237d4417be28811006dde9f4e1eb2efffe45",
         "Steve Nguyen",
         2009,
         15,
         509,
         1200,
         "Daimond"
        ],
        [
         "43bf225001478f9a6820a600d6ecada959b8281d8a0a62488b4deb403690a29d",
         "Daniel Byrd",
         2009,
         15,
         264,
         400,
         "Classic"
        ],
        [
         "4402bfd91964016a2f6a3059e4fcb7dcaf146df33dd401b16b5c284956a417de",
         "Cari Sayre",
         2009,
         15,
         445,
         800,
         "Classic"
        ],
        [
         "4404ed41c72cda5124eae2e306be20f087fe241820b50a75f2fc47bc1291dd26",
         "Tamara Manning",
         2009,
         15,
         282,
         600,
         "Classic"
        ],
        [
         "4410b635a875967ffa22548c447e045b3b646822bc589f8de0f4a7d0c39582df",
         "Keith Herrera",
         2010,
         14,
         161,
         300,
         "Classic"
        ],
        [
         "4442916f23f1e8ed5c23705bb5b915dc620fddf6d737393135cb41e4b4e5fc42",
         "Carlos Soltero",
         2009,
         15,
         896,
         1850,
         "Daimond"
        ],
        [
         "44d366a4aa956a5e75fe58ee0acc42b40c8f0675d5ec4f4d0661a0248584fe3e",
         "Alejandro Grove",
         2009,
         15,
         415,
         700,
         "Classic"
        ],
        [
         "45c94540463ca4987c5a501a8d3ee6a3b54521f1c921a88cc10de12a3ec6828c",
         "Jim Epp",
         2009,
         15,
         440,
         750,
         "Classic"
        ],
        [
         "46b4b6a30cdcc7d3fc0971e1b219f3a4847e95f05e3eedc0f7224c8d82be1dd5",
         "Mike Caudle",
         2011,
         13,
         198,
         350,
         "Gold"
        ],
        [
         "46dc27f585c383ceafaa7ce84dbb0dc838aaa4965839b35b66d5aeff25b8fe31",
         "Tim Taslimi",
         2009,
         15,
         183,
         350,
         "Classic"
        ],
        [
         "4723ee51e3661535f11b48b588f2d27a8a276ef304ba70c0afb8b26052190e02",
         "Liz Pelletier",
         2009,
         15,
         315,
         750,
         "Classic"
        ],
        [
         "474dd2109f176dccee9447c46b84ff72203ec9245c00f538ece58a10ac5261b7",
         "Russell D'Ascenzo",
         2010,
         14,
         67,
         200,
         "Classic"
        ],
        [
         "4770ca3041502db5e72cb65a9e6228333ee89d49ca96f5c1bec0e795110fcfc9",
         "Lela Donovan",
         2009,
         15,
         394,
         800,
         "Classic"
        ],
        [
         "478631629320991f6dee1872ceaba6802df4718587477844a9b3add5fd73433a",
         "Ivan Gibson",
         2009,
         15,
         83,
         250,
         "Classic"
        ],
        [
         "479ad49a0a63f8d8dc0e3edfe8e75c3317d8865b2ec0a85842a00009c7e5eb12",
         "Fred Chung",
         2010,
         14,
         165,
         350,
         "Classic"
        ],
        [
         "47c7301ec42baae2e8428008e1fe59d8ca6ca6d13e90cf29e34d096fc3e5c6a6",
         "Emily Grady",
         2009,
         15,
         482,
         950,
         "Classic"
        ],
        [
         "4859e5727e4620157a85b9a4efdc97a506b62b921ae80028a04e1bb642c8d317",
         "Jim Karlsson",
         2011,
         13,
         307,
         600,
         "Classic"
        ],
        [
         "486497fee2e4d23788a1debdd64709a2f5f9256b5a9cbd5f49bd76ee43a467b4",
         "Todd Sumrall",
         2011,
         13,
         54,
         200,
         "Gold"
        ],
        [
         "487163772a799af178a28b48709b3adb92acb03db632acb896b46472ae58bb7e",
         "Michelle Arnett",
         2009,
         15,
         374,
         700,
         "Classic"
        ],
        [
         "487e1c84ea398291fef582b3a92519d5957182969efc4789a4fd250816e738e4",
         "Sarah Bern",
         2009,
         15,
         98,
         250,
         "Classic"
        ],
        [
         "4938d0fbca6708075d1e3537258322e5294394c3aadd2d3dd928446ba3e4d043",
         "Odella Nelson",
         2009,
         15,
         366,
         800,
         "Classic"
        ],
        [
         "49501ef23dc84cbbb3dc9de66a5f7fe92cb0e50d550612a3ec0fd96bedd4a778",
         "Craig Molinari",
         2009,
         15,
         219,
         450,
         "Classic"
        ],
        [
         "4976245a537d09c5945421eacf523447137bd7e1a3b4063bfb745824e6d93d9b",
         "Joy Smith",
         2009,
         15,
         754,
         1600,
         "Daimond"
        ],
        [
         "4a536b3ed54c5f45c94b05879a30981b4cc473aa3a40056d3afe1b7bb6723e0f",
         "Alyssa Tate",
         2009,
         15,
         111,
         350,
         "Classic"
        ],
        [
         "4afc5e30f591827fea4b0746df02672d781d7d24af077936b2fdbf9cbab585b6",
         "Karen Carlisle",
         2009,
         15,
         339,
         750,
         "Classic"
        ],
        [
         "4b2aae1d49d36c1ed4af3920d39882dfdfd1ad5a546e6f34efb661227fbfe6dc",
         "Nat Carroll",
         2009,
         15,
         192,
         500,
         "Classic"
        ],
        [
         "4b96bb2d8a5fd641eb2e71bbeeac7aa116af6e784189c722597ca44acfff7914",
         "Justin MacKendrick",
         2010,
         14,
         200,
         300,
         "Classic"
        ],
        [
         "4bc2fbf1f79e417b9fc3314d03f3847c450c31cf1268926c588af68f44cd75bc",
         "Paul Van Hugh",
         2009,
         15,
         189,
         300,
         "Classic"
        ],
        [
         "4cb1e2b254eb1ad727e5dbebcb3ecd13e6baef07f11f6ef241f333b40c2e466e",
         "Scott Williamson",
         2010,
         14,
         133,
         150,
         "Classic"
        ],
        [
         "4d410a6c65d1d9186f818a8956e1b56500f6a11799ee0eb554b441aa30c6150e",
         "Valerie Takahito",
         2009,
         15,
         476,
         950,
         "Classic"
        ],
        [
         "4d6332100165348fa813016808e349986c4ae3742810625044e51fddb679aba1",
         "Fred Hopkins",
         2010,
         14,
         56,
         150,
         "Classic"
        ],
        [
         "4d75b2891fbb7bf928e512cc797f150a5d32ec97b26c79e723816c6551bcb29d",
         "Eugene Barchas",
         2009,
         15,
         310,
         500,
         "Classic"
        ],
        [
         "4db72018568c021eab4b2fb2c6592fed194ece0096e9f3748aa01c2e70dc2797",
         "Maribeth Dona",
         2009,
         15,
         235,
         600,
         "Classic"
        ],
        [
         "4dbbc43538d935d1106cfcf9b154c722ef3f6253318d1de699ecf78f8ecf42af",
         "Shui Tom",
         2010,
         14,
         252,
         450,
         "Classic"
        ],
        [
         "4ddb56f35b601940f04142a6b582d4b0e68ee800d0f88a7cb0f18c51cd26c2f9",
         "Tony Chapman",
         2009,
         15,
         241,
         400,
         "Classic"
        ],
        [
         "4e892349561cb6c9f5216ddbef278d439e4aecea680e0d103696466d6c7f83a9",
         "Barry French",
         2010,
         14,
         160,
         200,
         "Classic"
        ],
        [
         "4ef538c03da56cccb085043a56edb7bfc97849b16a71ca630835ebce7204f309",
         "Barry Blumstein",
         2009,
         15,
         338,
         600,
         "Classic"
        ],
        [
         "4f1b60b8c1838ba5c0a8d0ed629b0d08a6dabffe131ec80bc6c78d2a4ddf627e",
         "Christina DeMoss",
         2009,
         15,
         189,
         350,
         "Classic"
        ],
        [
         "4f228e7d3d0d8c93d0c992f34a2f760a6e54dc967a1e1da9a3f7392868848477",
         "Evan Henry",
         2009,
         15,
         201,
         550,
         "Classic"
        ],
        [
         "4f404df4677230f9717d13a692e1b02341b8394cf6df19ce4d77513551658b1a",
         "Anthony Witt",
         2012,
         12,
         177,
         250,
         "Gold"
        ],
        [
         "4f8437358b22c5d88ace50538185aa7aa1bb4ccaf434d6f0d9082007ca7fb728",
         "Scot Wooten",
         2009,
         15,
         59,
         150,
         "Classic"
        ],
        [
         "4fa5c37d2c822b2edd85a55750616f75eba3b83f45f7ac0d76d9229d44a2c610",
         "Alan Haines",
         2009,
         15,
         425,
         650,
         "Classic"
        ],
        [
         "4fc8eea6eda1b94efb3ca32a30d09163002a58ac4beb9db696660cf2de941de7",
         "Pierre Wener",
         2009,
         15,
         207,
         450,
         "Classic"
        ],
        [
         "5002b23fe4353cd6221c4b8af73dc94b6714c415d6cbac15a910f12e56829b83",
         "Alan Barnes",
         2009,
         15,
         289,
         700,
         "Classic"
        ],
        [
         "501d35c3a889e57a4a3e72f27c3a6c77d7fda53e1dc6cfcb99e690bdc780f9dd",
         "Stuart Van",
         2009,
         15,
         177,
         350,
         "Classic"
        ],
        [
         "509e60618cef2ad50eda723bf33957832ecbce73b78cf2d067e6e1ea6ae450ea",
         "Suzanne McNair",
         2009,
         15,
         227,
         550,
         "Classic"
        ],
        [
         "511f7ae01a62b4af63b29164ca2cf96f0998ddf32702f41fee7ba641a76897dd",
         "Darren Powers",
         2009,
         15,
         355,
         650,
         "Classic"
        ],
        [
         "518776147537ddb3c8e999d943d07bc69919279bbe4d54f97c7866832359d78c",
         "Sean Miller",
         2009,
         15,
         248,
         500,
         "Classic"
        ],
        [
         "51b88e1a1b7f4f9f9276dc27c3906b5b4c16d2085f8a19c5df8236d335c32244",
         "Julia Dunbar",
         2009,
         15,
         453,
         800,
         "Classic"
        ],
        [
         "52508526a37240cdf4e6abfb221df7c03da023a26ad6edaeed47dc3bd5c9e04c",
         "Dorris Love",
         2009,
         15,
         279,
         650,
         "Classic"
        ],
        [
         "527038ca127d351f2144bc04b967f432d916f937d03503d5f86f4b8eb9d2064c",
         "George Bell",
         2010,
         14,
         184,
         450,
         "Classic"
        ],
        [
         "52ff0ebb31d5071d4cbca0a86417c6aa9d08de9453b9a0bb5d500520b5517d9e",
         "Roland Fjeld",
         2009,
         15,
         129,
         250,
         "Classic"
        ],
        [
         "53909514294d51545407ea2bcc883b0cd48c4bd036f138808f3f39364f10902d",
         "Caroline Jumper",
         2010,
         14,
         294,
         600,
         "Classic"
        ],
        [
         "53ad86a7da4d1c911d40ea77f279d52630078a61f989457d94fba8f86812cd74",
         "Paul Stevenson",
         2010,
         14,
         173,
         350,
         "Classic"
        ],
        [
         "542bd26a88d24710064c076695eb03fb9c4b55bd00d5a372d5dfe55821aefaac",
         "Dennis Pardue",
         2010,
         14,
         546,
         1200,
         "Classic"
        ],
        [
         "54ed1cb195b08224dea9f7d783f758deb3151be3588c66cff1aa1d2535591832",
         "Edward Hooks",
         2009,
         15,
         266,
         350,
         "Classic"
        ],
        [
         "54f6c5dea8bd1d6694ee7eac81dfd227f1995c869a6c0191cad2dc90f4bd958d",
         "Penelope Sewall",
         2010,
         14,
         323,
         550,
         "Classic"
        ],
        [
         "551972221f1028791258eade220e59093212529633b4857b77b6b2a788c73648",
         "Ruben Dartt",
         2009,
         15,
         217,
         500,
         "Classic"
        ],
        [
         "55892c7d6228a93c526bdd7cd93eee3b711936701579fc939e004428d48cd4e9",
         "Christopher Martinez",
         2009,
         15,
         491,
         950,
         "Classic"
        ],
        [
         "55e50d025ec065e97dcb76674b25e0248c72bc64f6f145292d869ccd0b0096e9",
         "Arthur Wiediger",
         2009,
         15,
         170,
         250,
         "Classic"
        ],
        [
         "56b7ee9f3e4cba4de5c61f082fb36fae517b421392bc6e8650c9341d7aa7f0c5",
         "Bill Donatelli",
         2009,
         15,
         620,
         1450,
         "Daimond"
        ],
        [
         "56c3a652c62d18c800ac28ce3fe0a4b9644c25ef39195a5035e9bc60784b10ff",
         "Katherine Hughes",
         2009,
         15,
         196,
         400,
         "Classic"
        ],
        [
         "586f8636f7a7629cd3e17e26659c5d1cba68aaf9d958e3c71fc2dae570075805",
         "Aimee Bixby",
         2011,
         13,
         131,
         200,
         "Gold"
        ],
        [
         "58b5e53b0e2919ddbfbdb41c0601fccdaaba1e5d88d220483c91249f92ea661f",
         "Liz Price",
         2009,
         15,
         638,
         1250,
         "Daimond"
        ],
        [
         "5914298238a18427ce9e56fc4144b327737d5dbbeea35a8518089ef3e0b2dad9",
         "Jamie Kunitz",
         2010,
         14,
         134,
         400,
         "Classic"
        ],
        [
         "595906a28e191e608c940f158783fde7e17b7fb26af05fa43f8e0a8b4e77c922",
         "Saphhira Shifley",
         2009,
         15,
         468,
         800,
         "Classic"
        ],
        [
         "59b4e5e854af2492ddaf130ba5a7248a1d709de7398912a47cbb8467ea42836f",
         "Becky Martin",
         2009,
         15,
         175,
         250,
         "Classic"
        ],
        [
         "5a54490f4cb883cc05ee735b75a47ae31405cf9d46e050b5e48c86e6f5c9d9ae",
         "Art Foster",
         2009,
         15,
         343,
         750,
         "Classic"
        ],
        [
         "5a6cf4e461034fcd8475f4dc5961facf1ced93216e6e94d72936a5fe4bdfd7af",
         "Luke Schmidt",
         2009,
         15,
         442,
         900,
         "Classic"
        ],
        [
         "5ab16e489e3204b17b444f4426a0e003e2588dee9d5a4091bba008cdbbfca39b",
         "Tony Molinari",
         2009,
         15,
         280,
         500,
         "Classic"
        ],
        [
         "5aff1f6aac086496781375987a2f89854e287f273ffefc187bf26cd902c1269b",
         "Heather Kirkland",
         2009,
         15,
         181,
         400,
         "Classic"
        ],
        [
         "5b0a4fb8abc5d4c13054089517d26156fbfc8d93305536523211f40c3e25773e",
         "Mitch Webber",
         2009,
         15,
         223,
         400,
         "Classic"
        ],
        [
         "5b20102444abdb2f42c86893781188bc6081661ca3700e53c3bfdb1bfa6ed150",
         "Laurel Elliston",
         2009,
         15,
         399,
         950,
         "Classic"
        ],
        [
         "5b579ccf5b583de4c3adf6023355987d6561e06fd005950a92d7270869e20985",
         "Matthew Clasen",
         2009,
         15,
         78,
         250,
         "Classic"
        ],
        [
         "5c0fd0898abf9d590014a023af4bc709a60a82e299841be09cc172a7ab9f80cf",
         "Resi Polking",
         2009,
         15,
         316,
         450,
         "Classic"
        ],
        [
         "5c386c540563f02a93b46b3915fadbc518490b6ab881671451e1d68d48a64a27",
         "Hunter Lopez",
         2009,
         15,
         225,
         400,
         "Classic"
        ],
        [
         "5c599dabe4fa7ddda9fde18a2292d3535789db9e8749ae3180be6a238c75c1ef",
         "Mike Kennedy",
         2009,
         15,
         382,
         700,
         "Classic"
        ],
        [
         "5c83cd27a54ce084b03ba8dc73bdf2f06c267cdc70907d634ae5ef9408b35f63",
         "Sarah Brown",
         2009,
         15,
         331,
         600,
         "Classic"
        ],
        [
         "5cc2ef07c078829f755ac292609bcf6db74e4872b03c7c3a427cc254fc10cc0e",
         "Ross DeVincentis",
         2010,
         14,
         113,
         150,
         "Classic"
        ],
        [
         "5d3ec596d6d6e994828ed7b179663c4879716ac82f8ea37aba3261581f9fe528",
         "Craig Carreira",
         2012,
         12,
         8,
         50,
         "Gold"
        ],
        [
         "5d433e0b622d40fbb24cb6e11b6873652d7700977fabe197ac69397abcee6997",
         "Maureen Gastineau",
         2010,
         14,
         333,
         700,
         "Platinum"
        ],
        [
         "5d4c45642034061fa6e3741733abd2a862c71aa42bba102ffe932bd3ef225c7f",
         "Adrian Barton",
         2011,
         13,
         84,
         250,
         "Gold"
        ],
        [
         "5d69542371169eda312e769f1a35a75235d8fcce0b7afa0921310db2a5102a41",
         "Robert Marley",
         2009,
         15,
         199,
         550,
         "Classic"
        ],
        [
         "5ddfb7389f5b5ca2a723df6e3d44b53c67bcf853fa25ab4b63eed30670d67bf1",
         "Sean Braxton",
         2009,
         15,
         202,
         600,
         "Classic"
        ],
        [
         "5e710d5c728a17e4b0e58f0260bc9977cc2000723a7ad23424791c6781e2ed9e",
         "Cassandra Brandow",
         2011,
         13,
         103,
         200,
         "Gold"
        ],
        [
         "5ef7dd40f3f8186c5046fc440e95c4b6e86ef4edd5cc0a62f2b4f97c75042039",
         "Brian Dahlen",
         2009,
         15,
         177,
         300,
         "Classic"
        ],
        [
         "5f12595ed64f392c7ba40fc534a207c3ea6bc7716f53fad436dc4061f7f1760d",
         "Sean Wendt",
         2009,
         15,
         171,
         450,
         "Classic"
        ],
        [
         "5f355d652b6f2efb54ebc80a83672c64706ca886131f1dd8f040286e6336e6fa",
         "Adam Bellavance",
         2009,
         15,
         333,
         600,
         "Classic"
        ],
        [
         "5f65674363bdf331d6c4126e81a962b941f8beebb3677131fc0c89f105482a81",
         "Christine Sundaresam",
         2009,
         15,
         301,
         550,
         "Classic"
        ],
        [
         "5f830097b07860b00765b9e8beb933119694b50499454ab39178049d6cd7eea3",
         "Larry Blacks",
         2009,
         15,
         91,
         250,
         "Classic"
        ],
        [
         "5feed99a70e119deb77bbcacfa60c9dcd688e14ee7d1e4e80c933689ffecbf18",
         "Catherine Glotzbach",
         2010,
         14,
         233,
         400,
         "Classic"
        ],
        [
         "6018bf74c2b9d6194fc41a758b91439095d4d40c4ba6c3a0effc1be7948c46cf",
         "Kelly Lampkin",
         2009,
         15,
         286,
         600,
         "Classic"
        ],
        [
         "6047cb2dfe479371bfc6adea9940e2ea1e009a78fb5c12d7457659877ffc5018",
         "Brian Thompson",
         2009,
         15,
         128,
         250,
         "Classic"
        ],
        [
         "605a16fae519a1f404bd3dfbc983037f747796c099e52ad675ccd3e23fb5dc6f",
         "Jack O'Briant",
         2009,
         15,
         662,
         1600,
         "Daimond"
        ],
        [
         "60845b0502b3be10c881b02cc3f63ce3279cd7a6c3db622e524988ae1ef710db",
         "Frank Hawley",
         2009,
         15,
         314,
         600,
         "Classic"
        ],
        [
         "615174ce0697b0a0780857309cb2295d9bdffa7e0bde510567ea8ecd15c41147",
         "Anna Haberlin",
         2010,
         14,
         217,
         350,
         "Classic"
        ],
        [
         "61bbb765a66307d381e80c7ae6c96fdcd04ef025147ebcd77bf76f22a1c8974c",
         "Andy Gerbode",
         2009,
         15,
         177,
         350,
         "Classic"
        ],
        [
         "6281ab53c93d6c38b3a4cc9cbed52bfc9f739e6a0fd2c6d8d465981a0efb8554",
         "Muhammed Yedwab",
         2009,
         15,
         497,
         1100,
         "Classic"
        ],
        [
         "628e4f067594bcbfbd6f8470c693e803abc72fa326bf9c3cb1b60cfa2708824a",
         "Rick Bensley",
         2010,
         14,
         314,
         450,
         "Classic"
        ],
        [
         "6316a4622464ab6bfeb5fd3c3049f92b3eb06b1f5045666e6c568890911ff77b",
         "Frank Carlisle",
         2010,
         14,
         40,
         150,
         "Classic"
        ],
        [
         "631bb89776ac256bef891b032f8b5104ac57a79a43af213972af13819fece9fa",
         "Alejandro Savely",
         2009,
         15,
         169,
         250,
         "Classic"
        ],
        [
         "6380a2b9a6213ea50eacbe6393a7eaa6ce003677db42816672596d8add21632e",
         "Alyssa Crouse",
         2010,
         14,
         184,
         400,
         "Classic"
        ],
        [
         "63da178bf8a188c616032a35014b23e77f41c2c1dfaf05ca36a3472c81379c73",
         "James Galang",
         2009,
         15,
         391,
         650,
         "Classic"
        ],
        [
         "63e0d6ef363a7725ba9ec7e594247597de431cdf4238480e077a7eebe0815603",
         "Bryan Spruell",
         2010,
         14,
         296,
         600,
         "Classic"
        ],
        [
         "64755dd6894b7317c422c86cf30c43c71cfcc4efcae2362acf98633e940242e8",
         "Michelle Huthwaite",
         2009,
         15,
         349,
         600,
         "Classic"
        ],
        [
         "64ab89a0a904f2c97916e7de560b3d6b9003b2fb68a0d10490eea7123f873e9f",
         "Chris Cortes",
         2009,
         15,
         151,
         400,
         "Classic"
        ],
        [
         "65380c2cd7d45fa633b5cd51badcd1ed19cf6b60458186dc2fbad4ae3baf4dcf",
         "Michael Oakman",
         2009,
         15,
         456,
         900,
         "Classic"
        ],
        [
         "65b7b0a94acd93c4b17a231f6e0d44cc791e09c34336ababb5cec2f54279b848",
         "Katherine Nockton",
         2009,
         15,
         321,
         700,
         "Classic"
        ],
        [
         "665a82ea8d8474a78180fd7886b903546aecbb99069bec8b8a66a9142ca5a124",
         "Corey Lock",
         2009,
         15,
         286,
         500,
         "Classic"
        ],
        [
         "66877f4dab7a6ac49a9b23e74fad75dbaf48e620d814066d1825cfeac8a3cbae",
         "Luke Weiss",
         2010,
         14,
         309,
         550,
         "Classic"
        ],
        [
         "66b7c49d637887993790b67df4b4dbe09f4aef9d8dd1547c0e8e50b64eb74e44",
         "Barry Franz",
         2009,
         15,
         184,
         450,
         "Classic"
        ],
        [
         "67a7a076023cd67ca904509eda577b2f3d1115ed662cebd10068faf1b036718c",
         "Jack Lebron",
         2009,
         15,
         493,
         1100,
         "Classic"
        ],
        [
         "67e837c7acce65ab21611c6e4cf4c20446ae547feb40358df3e99b87b98acf64",
         "Justin Hirsh",
         2009,
         15,
         334,
         850,
         "Classic"
        ],
        [
         "68d29d94047691b2b0309b062740c65666d4ef505dd1b4fc43531e968d28475a",
         "Michael Stewart",
         2009,
         15,
         177,
         450,
         "Classic"
        ],
        [
         "695ddb0a2503bc4edab75b5c94d2d8bf404a58ba4b8719b7104c71dfd6260a04",
         "Don Jones",
         2009,
         15,
         117,
         300,
         "Classic"
        ],
        [
         "6992e80e67de3e022cc6817d5f447b631e9308c9e056e26fda9582d195344244",
         "Liz MacKendrick",
         2009,
         15,
         590,
         1200,
         "Daimond"
        ],
        [
         "69cb97aef66653a4849d25658e5aced3b99dbb5921537ddb1806248351ac3c2b",
         "Bill Shonely",
         2009,
         15,
         344,
         650,
         "Classic"
        ],
        [
         "6b28da9654cbd65c35eb9d7e0bfba9c644124a089716aadd98a56b0bc5a68ae6",
         "Pete Kriz",
         2009,
         15,
         42,
         150,
         "Classic"
        ],
        [
         "6c0e4c80b830bed50777aa4dd7f2910c0edf2f53977993ce21d7d4f3672351ca",
         "Mark Van Huff",
         2009,
         15,
         98,
         200,
         "Classic"
        ],
        [
         "6c13c8b58dca55727f7bb209ead39ce85fe9487c1d07ee4a9eef0f9c926353c6",
         "Edward Becker",
         2009,
         15,
         506,
         1100,
         "Daimond"
        ],
        [
         "6c4b17e8effd6417f05bf7ce7664c7a91f73011b687aed9a645d550b426376a8",
         "Brian Derr",
         2011,
         13,
         154,
         250,
         "Gold"
        ],
        [
         "6cd60d9de9edad8925a51eb6793bacf1eb2ee5b696f8e524ffe3284ad6c5d577",
         "Rob Dowd",
         2009,
         15,
         293,
         550,
         "Classic"
        ],
        [
         "6d1811cde0aa70e35d9faf49c3953331984b4dfbd84295871a0912dc9a84b593",
         "John Huston",
         2009,
         15,
         71,
         150,
         "Classic"
        ],
        [
         "6d22a881105786a4cb5e0507dcfbd187856caa1b75465af7cbe7b3d4ac6ad0f4",
         "Grant Carroll",
         2009,
         15,
         739,
         1550,
         "Daimond"
        ],
        [
         "6d6e5955916aa263f4fc722589f1e92d7a8167ded90fa52c937e8a3c622998b4",
         "Randy Bradley",
         2009,
         15,
         149,
         350,
         "Classic"
        ],
        [
         "6d8e49d3e3459bf4592d136ac878a547baa7ca66fcbd96d2e92edd1c35ccd784",
         "Valerie Dominguez",
         2009,
         15,
         262,
         450,
         "Classic"
        ],
        [
         "6d98502ed8c04e84fe8f610f00a13c7b8def3b7958c1ed428ca0ccdd0d3bee4a",
         "Harold Pawlan",
         2009,
         15,
         334,
         650,
         "Classic"
        ],
        [
         "6de13bca3ab7bbd2c7184b500ce21135b7a8da9ab0980a0399de7823ffe9dd7e",
         "Julie Creighton",
         2010,
         14,
         165,
         350,
         "Classic"
        ],
        [
         "6e1efbb7d175d963fc4cd4b6f7be0688f0eeef4b2bb7daffca54ecc2ec8ca4b3",
         "Rob Lucas",
         2010,
         14,
         58,
         100,
         "Classic"
        ],
        [
         "6e5ed680a77d8b29e3d8098dd17d195802e67a916a40650f4d0e7b43d9cfbd44",
         "Candace McMahon",
         2009,
         15,
         286,
         450,
         "Classic"
        ],
        [
         "6ec451761105dd9bf0227488eed2a8b568a03ba8bf14460f2cfe00aa297a395b",
         "Matt Collins",
         2009,
         15,
         170,
         400,
         "Classic"
        ],
        [
         "6f61c3137bb3a746ceee28aa0f2a0d5f3a249a043cb734aa1e4ce57e8c6e91db",
         "Liz Carlisle",
         2009,
         15,
         207,
         550,
         "Classic"
        ],
        [
         "6f702a5cc52e9300b945a8e974944172187ff899e2fbbe053c3c185486643a8b",
         "Jill Fjeld",
         2010,
         14,
         180,
         300,
         "Classic"
        ],
        [
         "6fd7067640bab98de18b5f75cbd8d506e72b63ce0490895bfc4f06c5e3c929d6",
         "Ross Baird",
         2009,
         15,
         129,
         300,
         "Classic"
        ],
        [
         "7061644fd4bcb170a3a8267205cdaebede9b83bcb589c3e1bbb8ae058ef1cf49",
         "John Grady",
         2010,
         14,
         71,
         150,
         "Classic"
        ],
        [
         "70a63f1112c3bd484fabe2a7a66abbcf765509357fc7096f58c29f7f51b5a7db",
         "Shahid Collister",
         2009,
         15,
         153,
         300,
         "Classic"
        ],
        [
         "70c7fef87e2eb18857c166ceecc6e8465643c7c4b99a6a1c428d7dc81e3a63f8",
         "Joel Jenkins",
         2010,
         14,
         85,
         200,
         "Classic"
        ],
        [
         "71171fca026b1e5eddce54382e0f7ae23d82736aea09fa2514a4454095595bda",
         "Jim Mitchum",
         2009,
         15,
         253,
         500,
         "Classic"
        ],
        [
         "713215ceea0715f6b43765352b5289ac6d510a413c0a974f3fba024c57d5309d",
         "Joni Wasserman",
         2009,
         15,
         248,
         600,
         "Classic"
        ],
        [
         "71465f6c54cb54729192c30b2ae816602413b0dec41ecdfd6369ace2c62cec7d",
         "Damala Kotsonis",
         2009,
         15,
         351,
         650,
         "Classic"
        ],
        [
         "7244e82fbb5c13992488e3bae0f92e332506874c69731203c81916dc9057fb0d",
         "Brendan Sweed",
         2009,
         15,
         238,
         550,
         "Classic"
        ],
        [
         "7258b952ca46326b6890846e0b0e6cc4be04adb2f1038668d556810a775c23e8",
         "Sung Pak",
         2010,
         14,
         234,
         400,
         "Classic"
        ],
        [
         "726489c622c22ad3249a734230d5b71edcb6d8c5e8b274ccb77fa41f9e0378d7",
         "Delfina Latchford",
         2009,
         15,
         154,
         300,
         "Classic"
        ],
        [
         "730c3bf3497e2868ddca9571ab596d7d7c05c87abbc8524d9e460ff7c30aadf5",
         "Erin Smith",
         2010,
         14,
         133,
         250,
         "Classic"
        ],
        [
         "741905b9c79999208becabf6a176e48271cd311ec8185b8b7b8623d4d306c18a",
         "Stephanie Phelps",
         2009,
         15,
         261,
         600,
         "Classic"
        ],
        [
         "748710f958bcc87c7c408b7eb0f2b14634a51c79e885df5ad30aa0e77905d6d4",
         "Carol Darley",
         2009,
         15,
         276,
         450,
         "Classic"
        ],
        [
         "7501160fd5e8d90c7f1d80d59fc98e9efda931f68897716cb7efe4a75d3cc415",
         "Tamara Dahlen",
         2009,
         15,
         213,
         450,
         "Classic"
        ],
        [
         "751f994a3d3b5b290a0f619f1f6d9f58003cb0875f934ad1b3dec4d4b14bfa61",
         "Dan Reichenbach",
         2009,
         15,
         181,
         300,
         "Classic"
        ],
        [
         "7631f1104d778baefd152fa8ac7bb941ca69f8e1318974e804d9a00b75c4847e",
         "Ben Ferrer",
         2009,
         15,
         134,
         300,
         "Classic"
        ],
        [
         "76521ed023170f59e15bce58e2d9e84d5a10330fa682d39493c12bcf17a95af5",
         "Allen Armold",
         2009,
         15,
         189,
         350,
         "Classic"
        ],
        [
         "76aac39a76d2e68327c5aaf66e05f93922f50a1db0df084850d4f655b829c8d2",
         "Julia West",
         2009,
         15,
         275,
         500,
         "Classic"
        ],
        [
         "77064ffdb622e8223f8196c130e3532914df90e1898ca0b797b8480a06f53170",
         "Jonathan Doherty",
         2009,
         15,
         574,
         1300,
         "Daimond"
        ],
        [
         "7780fe937339db62c979ea88ad050683f4ba8a62a8ca499be9dfefd68e2d3d6f",
         "Elpida Rittenbach",
         2009,
         15,
         184,
         400,
         "Classic"
        ],
        [
         "7854bf44e01326dd7ad95a98248d6cabcacaa663de5c2c6116e64d3a4a933254",
         "Mike Gockenbach",
         2009,
         15,
         285,
         450,
         "Classic"
        ],
        [
         "78ebe87dee35447df50040503dd0159181cca2f947fe2416fa7e484970100955",
         "Allen Rosenblatt",
         2009,
         15,
         136,
         300,
         "Classic"
        ],
        [
         "79412eca913e6f34aa530cc151cb8d4ed79e6c64942cfb9d6aa86292a8890a4a",
         "Sean O'Donnell",
         2009,
         15,
         454,
         800,
         "Classic"
        ],
        [
         "79af9b87a4075552073f26f8d1793e9d12bd04c1dd1f64a3fdb7486af13550f2",
         "Pete Takahito",
         2009,
         15,
         231,
         400,
         "Classic"
        ],
        [
         "7a43cd081dfb3a1681496cf9373cdb7d6d85ec2477710b95c2470ff75649ba06",
         "Sung Shariari",
         2009,
         15,
         216,
         500,
         "Classic"
        ],
        [
         "7a7d651daf4b0b8e200fceb6d4cec5a22ca32ec3198c71a435bf360e5fa1ddd7",
         "Christine Abelman",
         2009,
         15,
         471,
         850,
         "Classic"
        ],
        [
         "7aaf5748ac751d6c9eb5b8dfd372eee15c136af82ae3d6e472f4ec2619828887",
         "Karen Seio",
         2009,
         15,
         299,
         600,
         "Classic"
        ],
        [
         "7b0c1c8bc54205c34fc34e31ff7d468a45fb7b568d5c1b3d9659891ff5126d70",
         "Pauline Chand",
         2009,
         15,
         537,
         1400,
         "Daimond"
        ],
        [
         "7b2e2f9052d2b6d4b48cc1df5ff3840333f29205801ee6d76cf71a7c4f94f835",
         "Shirley Jackson",
         2009,
         15,
         223,
         400,
         "Classic"
        ],
        [
         "7b3aa691d0178f482bdb2cb02e8990bb8f755d65e6540854679a3d1a46f1237e",
         "Charles Sheldon",
         2009,
         15,
         210,
         350,
         "Classic"
        ],
        [
         "7bb3755527193638a5c501d038bf0e44944942de53c9417bdf59aa98c299925f",
         "Joseph Holt",
         2009,
         15,
         114,
         150,
         "Classic"
        ],
        [
         "7bce59f6a6278f4accb3b7ce3fe6260cd61d3a61a08ff80292c8daf84f61bb2f",
         "Craig Rider",
         2009,
         15,
         95,
         100,
         "Classic"
        ],
        [
         "7c8079ced9e87c24e7bfc2e76bfdece96d7383fd30a348c4d69d4db2c002af11",
         "Lindsay Williams",
         2009,
         15,
         62,
         150,
         "Classic"
        ],
        [
         "7d0d033e5367204785e8cf194879c72372b989ebbb4be5b9be1a27949f7c3681",
         "Neil French",
         2009,
         15,
         274,
         650,
         "Classic"
        ],
        [
         "7d3ae796f6a2d889a7a7081137c214f6eb109a3db8b167fc6d1435c49f3bc9e0",
         "George Ashbrook",
         2009,
         15,
         374,
         700,
         "Classic"
        ],
        [
         "7e01ddbeba180be3f36247892622fd31c0747a9488ce1d7afaeef2d060f586ea",
         "Katherine Ducich",
         2009,
         15,
         154,
         350,
         "Classic"
        ],
        [
         "7e9f85e95833afcf0a030d8616b676f1f2cee2d10898094bc2a75ba5439e39ec",
         "Roy Collins",
         2009,
         15,
         358,
         750,
         "Classic"
        ],
        [
         "7f07552dadc39df46e6d366f491e41bf1266528a71ba0b687ca2d4a1a9b32894",
         "Brian Moss",
         2009,
         15,
         312,
         600,
         "Classic"
        ],
        [
         "7f56abbfb7ca70fddb13eec253f5c0e8432d685854fd5511c5ca2f0a6a33bb8e",
         "Sally Matthias",
         2009,
         15,
         249,
         550,
         "Classic"
        ],
        [
         "7fcf731cba702a0b5e7c802274c52e09c6fb03646b84b7ceae63fc4746a8bc4c",
         "Skye Norling",
         2009,
         15,
         300,
         450,
         "Classic"
        ],
        [
         "7fea1e195dc74b43bc72ba8d9b926800886a4d0434c97406daa93cb9eed33217",
         "Dave Hallsten",
         2009,
         15,
         527,
         1250,
         "Daimond"
        ],
        [
         "80786f1ad5365d106a19b40d0b67916212eadc1d9864f16fb41c584c216d612f",
         "Nick Radford",
         2009,
         15,
         242,
         400,
         "Classic"
        ],
        [
         "80c0ffb8e7511b0d183323069c7c87e27541823138be68d96bc778f9252ed37a",
         "Scot Coram",
         2009,
         15,
         232,
         400,
         "Classic"
        ],
        [
         "815714cc71cc9a0ef2758756e90bc52d37bf3be1f318a1a07e68678cdb01a462",
         "Paul Prost",
         2009,
         15,
         217,
         550,
         "Classic"
        ],
        [
         "816451df1ab628c87c6f1ca7d2bce00165b88c6372a48aeabf67f817ea948b14",
         "Jeremy Lonsdale",
         2009,
         15,
         429,
         750,
         "Classic"
        ],
        [
         "816df87f0cb260c731107b3b1bbf018e9f3bdad01246845b7c40b1262ed56401",
         "Mick Brown",
         2009,
         15,
         169,
         300,
         "Classic"
        ],
        [
         "817fa89df131737fa51223cf68085f11afd5b7b1ce4d214724e3513a0eed70e6",
         "Carol Adams",
         2009,
         15,
         138,
         200,
         "Classic"
        ],
        [
         "82229789ff10b65c12fa538847895380ce4abef0737e61d102fa2d8ab9441c70",
         "Bradley Nguyen",
         2009,
         15,
         192,
         300,
         "Classic"
        ],
        [
         "822ac2c5948b9ebb8b4eeacba412dbfe8a00250b21f2c7cbf4bdc4d8f250a2a6",
         "Benjamin Venier",
         2009,
         15,
         344,
         550,
         "Classic"
        ],
        [
         "82d0e643aaf91bfd1f77cb2e0c6b3a784c3e1bab094cbfbeecf52cbd6493f09c",
         "Ruben Ausman",
         2009,
         15,
         224,
         400,
         "Classic"
        ],
        [
         "84a304c540701655acf7582a27231ce7b890c121a6dbae6c18a00f5e9a298868",
         "Kristina Nunn",
         2009,
         15,
         391,
         700,
         "Classic"
        ],
        [
         "85154703e55447f4495847ce71dd677fa9f1050eb0ac6a5afdc6006f6522311a",
         "Roy French",
         2009,
         15,
         155,
         250,
         "Classic"
        ],
        [
         "8519c43a7bab323d3d6e44fd177ec2110f1e44b9998aca3e66b623bb7ca005c7",
         "Greg Guthrie",
         2009,
         15,
         546,
         1250,
         "Daimond"
        ],
        [
         "853f4ebac28521a86a8c5a85399633f52bc2b87b1ffbf694fde201e4452c4340",
         "Doug Bickford",
         2009,
         15,
         563,
         1350,
         "Daimond"
        ],
        [
         "85d1981126b347ae4e38672aeb65fdd5cad11a9543b2071c8e1d6b7497d9b660",
         "Nicole Fjeld",
         2010,
         14,
         44,
         100,
         "Classic"
        ],
        [
         "85e3d46528d9ab13b1bf33b021fdfcf14b9fbdbe884f8d988737975c7e617487",
         "Dorothy Wardle",
         2009,
         15,
         395,
         850,
         "Classic"
        ],
        [
         "86279a31c487457ba73065e3e5287cb282feebf0844bdbe3292bd79bfd081400",
         "Karen Ferguson",
         2009,
         15,
         119,
         400,
         "Classic"
        ],
        [
         "865b9f0e2491415c0e55d717fe7a2fcdcf94237663b3630eb2d601853c132466",
         "Guy Armstrong",
         2009,
         15,
         375,
         750,
         "Classic"
        ],
        [
         "87e4721f9ce7d509109edc028b2aeef18e075f4ec9538443aec9a5351166b98d",
         "Ken Lonsdale",
         2009,
         15,
         310,
         700,
         "Classic"
        ],
        [
         "87f446bc3e44608598a0fa5154197bc29bc5d5f93eed2c0475a53b58bb9a7440",
         "Phillina Ober",
         2009,
         15,
         144,
         350,
         "Classic"
        ],
        [
         "88342fd6c13a69cf1947f7351fe0e8cb7d95c2817da044c2638cef2cf2054363",
         "Sanjit Jacobs",
         2009,
         15,
         339,
         550,
         "Classic"
        ],
        [
         "88cf3d259bad68e6933dddfe7d6138341ebafee4674ce1b3cdb873f5e6f4f14a",
         "Hunter Glantz",
         2012,
         12,
         83,
         200,
         "Gold"
        ],
        [
         "88e780296873c748aa44e54927705015a1c0680af00fb325c780701ee423094e",
         "Philip Fox",
         2009,
         15,
         294,
         500,
         "Classic"
        ],
        [
         "8924e40ed31fadd7e36207a07829a62c57d290505d8a7b5d911e2c42fcf27248",
         "Nona Balk",
         2009,
         15,
         278,
         600,
         "Classic"
        ],
        [
         "892d48d7c1eec6dc7a2a2691c2c9224eabecc104e02aa9d60354ca7e61a012b0",
         "Kean Nguyen",
         2009,
         15,
         244,
         450,
         "Classic"
        ],
        [
         "89e3df22d3f9f9d73610f9b583229be9245e903ebcc05f2e63588cd7cf8bdac5",
         "Jason Klamczynski",
         2009,
         15,
         316,
         550,
         "Classic"
        ],
        [
         "8a1801f098e023ebbbe6de8b774e69886fffb55ae83e1402569c43778308e03e",
         "Ralph Arnett",
         2009,
         15,
         216,
         600,
         "Classic"
        ],
        [
         "8a39d9feff28bb163fef85bb8f3a3420014e86abdedd9b0299cea631e1d4013a",
         "Helen Wasserman",
         2009,
         15,
         551,
         1300,
         "Daimond"
        ],
        [
         "8a408717b2c36365760c5cc85a1253628e969d2c106dc7f27fe0f85e229bae04",
         "Bradley Drucker",
         2009,
         15,
         456,
         850,
         "Classic"
        ],
        [
         "8aeda14518f9276d45489da8b59c6e5cc5a480826bec377860b6936f3bd8c08e",
         "Maureen Fritzler",
         2010,
         14,
         249,
         400,
         "Classic"
        ],
        [
         "8b0e0038adf6e75309c694cacab11a24a09aa98693ab0b0f4407d248a1c3093b",
         "Gary McGarr",
         2009,
         15,
         254,
         400,
         "Classic"
        ],
        [
         "8b371d7f70689858196e59f61551c6679abf81f30affe7ab6c83f9e918c11cca",
         "Tracy Poddar",
         2010,
         14,
         231,
         600,
         "Classic"
        ],
        [
         "8b46c06d5697825fb27f722580d47657a68724f49016d7e37e0eae7a06e199cc",
         "John Lucas",
         2009,
         15,
         553,
         1100,
         "Daimond"
        ],
        [
         "8b8c6440700e8a5c60149add6d350ad3ace21906e5206ed13908ee062993183a",
         "Jessica Myrick",
         2009,
         15,
         258,
         500,
         "Classic"
        ],
        [
         "8ba97182e9527c454b6b54edfce01f1b5a501058163fc9cd60267fc5b06f7301",
         "Michael Granlund",
         2009,
         15,
         359,
         650,
         "Classic"
        ],
        [
         "8c15791f3dddd44778ab074366bcf26e1ba1b84834724d38fb1dd40b97cd866d",
         "Bobby Odegard",
         2009,
         15,
         288,
         550,
         "Classic"
        ],
        [
         "8c21ef72cbf4a9c187988c9c05a0eaf67c6a8dc4e616432d18ac0a0647aff8fa",
         "Monica Federle",
         2009,
         15,
         300,
         550,
         "Classic"
        ],
        [
         "8c806e3b7f7a9c3d13afbdd4d87b3ad55093acb815455a640584ba1035c94b6b",
         "Andrew Allen",
         2009,
         15,
         154,
         350,
         "Classic"
        ],
        [
         "8cebc5c4b99de39702d580daa99702408b42b118a4602fee389a81e872b4508b",
         "Matthew Grinstein",
         2009,
         15,
         510,
         1100,
         "Daimond"
        ],
        [
         "8cf289081edf20ba2f774c6d65c85554ef0a985805830ba9c8fe8df55bc5d3eb",
         "Charlotte Melton",
         2009,
         15,
         151,
         300,
         "Classic"
        ],
        [
         "8d34da86898f58f219e8821554b133398375f48a071c2e9b2018e840b8f46f51",
         "Janet Lee",
         2009,
         15,
         332,
         550,
         "Classic"
        ],
        [
         "8d9caa69e897e11e5b8b2589761ca97d293ab5b76a3e6e3216c69e520a6e62f9",
         "Roy Phan",
         2009,
         15,
         361,
         900,
         "Classic"
        ],
        [
         "8df0886479bbe3ab0aaee7e68a0b203441af22b7a5a7a75f70cde6a955c7e10e",
         "Chuck Sachs",
         2009,
         15,
         357,
         950,
         "Classic"
        ],
        [
         "8e07df493fd32bea4a65fe201eff94d380c72e8671e90c2fe1a6ee6791d42cd9",
         "Pete Armstrong",
         2010,
         14,
         208,
         500,
         "Classic"
        ],
        [
         "8e77ecd8ba458e6b961216e3c9d5288de78e7d445a0790bec58527fa2f89c301",
         "Anthony Rawles",
         2009,
         15,
         367,
         600,
         "Classic"
        ],
        [
         "8e864096f00b5d869ffb63f9ca86b47080b1c2dcdbd3a24ae7dd084e93b1d698",
         "Clytie Kelty",
         2009,
         15,
         460,
         900,
         "Classic"
        ],
        [
         "8e9e117390136f613c33455e91566b73b6b7ee2fd3b0ed7cc0c504eade21a464",
         "Cindy Stewart",
         2009,
         15,
         151,
         500,
         "Classic"
        ],
        [
         "8eff4f2a9e612aaa76eea3f8d166fc2bbe6679f8ef59d767c4a7f23a4037d6fc",
         "Angele Hood",
         2009,
         15,
         73,
         150,
         "Classic"
        ],
        [
         "8f659ef8c29a9edcb559e6f84a937f59a6852ee5b45299c4ff99e1442d5b099c",
         "Noah Childs",
         2009,
         15,
         136,
         300,
         "Classic"
        ],
        [
         "901b53693341e9adc1e1c89ac218a8e03927b2ade3c866d13addd463f5a57aa8",
         "Amy Cox",
         2009,
         15,
         442,
         950,
         "Classic"
        ],
        [
         "9025053521be9bde7c21daa70ef24afbac85fa7aaba93ab21bd474d872fc116c",
         "Andy Reiter",
         2009,
         15,
         199,
         500,
         "Classic"
        ],
        [
         "9067d8c2b3a299c13b351312eb44b542c7d993540120c9edd5f8f130d66d6265",
         "Tim Brockman",
         2009,
         15,
         263,
         450,
         "Classic"
        ],
        [
         "90833b9acdd6f173823e49bbf5ace933ec63625caebde2c7b7d432f7960a2ab9",
         "Craig Carroll",
         2009,
         15,
         220,
         450,
         "Classic"
        ],
        [
         "91418c2a3e0b76b8971d03a3f3d8ad4c68cabc79db0f0d270cf0d1c614a88c90",
         "Ken Dana",
         2009,
         15,
         342,
         600,
         "Classic"
        ],
        [
         "914ad6bf169c3275320c9fb699e77afaf2b07dd7a16a11214a50f15c3afc983f",
         "Clay Ludtke",
         2012,
         12,
         152,
         300,
         "Gold"
        ],
        [
         "9164a9227fbb43822dba6c9e4bdb60aac69e66c9029687039f5639c2dfd9e718",
         "Carlos Daly",
         2009,
         15,
         252,
         600,
         "Classic"
        ],
        [
         "916863fd0a89083e806f4dac34857badfdcdb6da6425b6d4ac56370c73f0cc3b",
         "David Flashing",
         2009,
         15,
         161,
         300,
         "Classic"
        ],
        [
         "91b9d6dffe9b9f4bf08ed5b3c8219b648030e103f1094d5a90637f3a22142b9b",
         "Adam Shillingsburg",
         2009,
         15,
         343,
         600,
         "Classic"
        ],
        [
         "91bac3cd75b62d83bd11cdd95d30901a8b9a5a1b467e8f560c55a2ced4b01ebf",
         "Victoria Wilson",
         2009,
         15,
         463,
         800,
         "Classic"
        ],
        [
         "91dc62ff00c1e51b33f774efa192d387fe94ebefd41def777262250f840b3bc3",
         "Rose O'Brian",
         2009,
         15,
         196,
         350,
         "Classic"
        ],
        [
         "92017bc222a584cb826c1ab7109756bd203c027b6eae2706a6752521b7c8a73a",
         "Carl Ludwig",
         2010,
         14,
         166,
         400,
         "Classic"
        ],
        [
         "92425d3a3e0d8ac862a52b4ab5925b356886466c78bc2d91e61fed4b8a3d5a10",
         "Jennifer Halladay",
         2010,
         14,
         213,
         300,
         "Classic"
        ],
        [
         "9248986a9341c93b02be4706b6e8972834b16439e278e44276d88c55975b7e33",
         "Dean Percer",
         2009,
         15,
         317,
         550,
         "Classic"
        ],
        [
         "925e334223a6c2511d30286311a746438b7cbe2aa48a5098067f98340a32f9db",
         "Phillip Breyer",
         2010,
         14,
         144,
         200,
         "Classic"
        ],
        [
         "92700ed5f9ada6df1bd9ccd1c6e855261301c397b78f252f911b615cb016a520",
         "Eileen Kiefer",
         2009,
         15,
         152,
         300,
         "Classic"
        ],
        [
         "928b618f425d819b77451052ad84e60c2b8f3731d05d9f860ca0863c40800899",
         "Rick Reed",
         2009,
         15,
         109,
         150,
         "Classic"
        ],
        [
         "928d106ea783965c06471bc16954b85b4b166e13b5f5538a570bad7be30e7898",
         "Tracy Hopkins",
         2009,
         15,
         202,
         300,
         "Classic"
        ],
        [
         "928df1665bfd3dbf0ddc9f9f5c80323c6071dc90ef5cb326515defa18eec6c2a",
         "Chad McGuire",
         2010,
         14,
         136,
         300,
         "Classic"
        ],
        [
         "92dad6d904b57601f1a0785c623d0b21317289a552a65171e0d6a7a0b795f39c",
         "Mitch Gastineau",
         2009,
         15,
         424,
         650,
         "Classic"
        ],
        [
         "931f00db57c755cc0a4d43af7f61eab662e96c2c37fb01d728fe7dc643f41dcd",
         "Michelle Tran",
         2009,
         15,
         314,
         650,
         "Classic"
        ],
        [
         "93264b202c64a721882b9d6a0341f95fadea2b416cfa16ded99a35585095b8de",
         "Joe Kamberova",
         2009,
         15,
         81,
         150,
         "Classic"
        ],
        [
         "940f1b813eb597b6a620522c7dbebfa810f564b099b97b00a50c86e7464f689d",
         "Doug Jacobs",
         2010,
         14,
         123,
         250,
         "Classic"
        ],
        [
         "94fa84a56e1b77cf6fa955f609b2414db6d4101c4a8f0f336701d03e796a7b4d",
         "Paul Gonzalez",
         2010,
         14,
         75,
         100,
         "Classic"
        ],
        [
         "9565e1e7ad64ef799bc9b0bd813e0dc433dfae9e2cf2fa889424a29d8b13c5cb",
         "Nathan Cano",
         2009,
         15,
         171,
         300,
         "Classic"
        ],
        [
         "958692314c38f687a938e31cf37b771ddf27b87534df207d691d70d2c25df754",
         "Katharine Harms",
         2009,
         15,
         136,
         200,
         "Classic"
        ],
        [
         "959d8cbbd51734e7a3c6edca145731247f797971ffc5e916131fc4814a062941",
         "Patrick O'Donnell",
         2009,
         15,
         250,
         500,
         "Classic"
        ],
        [
         "9652c195dc8729972b79e1cc5ffb188afd410e16203b7f8cdf8f3a369c9967a4",
         "Eugene Hildebrand",
         2009,
         15,
         300,
         550,
         "Classic"
        ],
        [
         "96ed40b45f9b4f377f225833a1181de818c083a62f1ddd492fa9138243358c62",
         "Neil Knudson",
         2009,
         15,
         570,
         1300,
         "Daimond"
        ],
        [
         "9714b7d60ecad554e53103d3644405323e8bad3ea5b8dd70858ac74586133e23",
         "Duane Benoit",
         2009,
         15,
         227,
         550,
         "Classic"
        ],
        [
         "97b0232d8bdf5cd1fc8050fb133555e896d1015a49accb0db2b19eb13d272830",
         "Anna Gayman",
         2009,
         15,
         68,
         150,
         "Classic"
        ],
        [
         "97fad6aea68399d5dbc1fcb2223f458ca2e6e0a28ba4bb6925f45370d730118b",
         "Katrina Edelman",
         2011,
         13,
         37,
         100,
         "Gold"
        ],
        [
         "982aa8e2ce6c81f03a09a3d2901485534a02c0a0b50df025a5c3424f3d8f85ec",
         "Raymond Book",
         2009,
         15,
         567,
         1200,
         "Daimond"
        ],
        [
         "98e22a697f4cf3f7ac4aa6a0eb21ae1699e35401d72bdbee12d9a01592b39c82",
         "Georgia Rosenberg",
         2009,
         15,
         235,
         400,
         "Classic"
        ],
        [
         "9985c2dbdd6582e6514e50eb23e2fcbeb078bf0d45f750159c06663a5aacc107",
         "Carlos Meador",
         2009,
         15,
         512,
         1250,
         "Daimond"
        ],
        [
         "9988ba1da040084ec9aab2d9641ff4013760e7b20fd0fd1543a0d55275b93215",
         "Guy Thornton",
         2009,
         15,
         276,
         450,
         "Classic"
        ],
        [
         "998a70aaeaba5e6617f86cb1ce268c4633a9e948a9f636c5088692c2cc071d65",
         "Jasper Cacioppo",
         2009,
         15,
         285,
         600,
         "Classic"
        ],
        [
         "99ad2101263be0f3a41b462411b4de0aefd9a78326480b460b11550c8b0c64eb",
         "Bryan Davis",
         2011,
         13,
         73,
         150,
         "Gold"
        ],
        [
         "99b02196121eac94a9ad8bc00d85ea4e80ca638b1a7325d5550190b63ca89376",
         "Ken Black",
         2010,
         14,
         81,
         200,
         "Classic"
        ],
        [
         "9a10cc26d6dcb71b595df960d13daae74f3c631abec85d4c72c471786e0214c5",
         "Toby Swindell",
         2009,
         15,
         329,
         800,
         "Classic"
        ],
        [
         "9a124d43184ccec31548b4e11612baad0b7462420cf3fb6a31b9b4de8e70ef63",
         "Philip Brown",
         2009,
         15,
         550,
         1150,
         "Daimond"
        ],
        [
         "9a1b4e375de06f71a2d399a302964293017efa7446ee3f767641983039a57d14",
         "Shirley Schmidt",
         2010,
         14,
         159,
         250,
         "Classic"
        ],
        [
         "9b3e06ee1c34c3ccf4d8f45a8f0e48cc2d1d8c55f8e75d0735e3416dec7722fc",
         "Joy Bell",
         2009,
         15,
         319,
         550,
         "Classic"
        ],
        [
         "9bd0c80e01a8325658a3576b3996234c90b3e5d9622d30d830efe63094255bfa",
         "Matt Abelman",
         2009,
         15,
         555,
         1100,
         "Daimond"
        ],
        [
         "9ceac0f00eeacc4be46e38a320fea9657bda24503f3e3af9b6e473a80f3b9dc2",
         "Lisa DeCherney",
         2009,
         15,
         674,
         1300,
         "Daimond"
        ],
        [
         "9d5dfcc08ecb65648e36552c18622d2d09eb0410e0e3178503339ed006004aae",
         "Todd Boyes",
         2009,
         15,
         471,
         850,
         "Classic"
        ],
        [
         "9d93a5157810d83c15b7e2f95ec72de9f1c302b5c53e0661ab7e87c97f8b2565",
         "David Bremer",
         2009,
         15,
         105,
         350,
         "Classic"
        ],
        [
         "9dbe9cdd9e1288378a5a044f532f9c94f71ca31b2a1791f0bfc81719f0c78cfd",
         "Brian Stugart",
         2009,
         15,
         356,
         800,
         "Classic"
        ],
        [
         "9def45b76418617c9ff378f37ea12f3240c27e4e265195ad9863da3f2028d978",
         "George Zrebassa",
         2009,
         15,
         298,
         550,
         "Classic"
        ],
        [
         "9dffda4ff29a1186200bc9cb3a43b28a6766e696a35d521d41a220ee61a62f8d",
         "Ionia McGrath",
         2009,
         15,
         449,
         900,
         "Classic"
        ],
        [
         "9e417e8a53cf96fbb42f60dc44d227b600b07ddbaffce065901fec8be0f13d5b",
         "Theresa Swint",
         2009,
         15,
         474,
         1000,
         "Classic"
        ],
        [
         "9eaa22b40ca8ce5e326cf8d63f261953095aeae3fc57a27340de41675bc71109",
         "Justin Deggeller",
         2010,
         14,
         172,
         250,
         "Classic"
        ],
        [
         "9ecdee3bc913bdb97926871a0f03de62775b47f363ba9a9e4324ae96766c17fc",
         "Dave Brooks",
         2009,
         15,
         178,
         300,
         "Classic"
        ],
        [
         "9f2f61b0b4accc9a0dc76e5d48fa7cb881e8a8de2428c895b155517429d48836",
         "Sally Hughsby",
         2009,
         15,
         502,
         1250,
         "Daimond"
        ],
        [
         "9f7b79797209ed1fb0f0348b09c1a0eed1a119d9b648f48bae63191a85203458",
         "Aaron Hawkins",
         2009,
         15,
         370,
         600,
         "Classic"
        ],
        [
         "9fde7329a33e51868cf81a3574ed127bacbe4877458ba1b63c2be9371e874cdc",
         "Alex Russell",
         2009,
         15,
         279,
         500,
         "Classic"
        ],
        [
         "a14624e593d5fe1635de353c585b7a6f0cf315e67cd5c9780af130903783ea55",
         "Daniel Lacy",
         2009,
         15,
         203,
         450,
         "Classic"
        ],
        [
         "a15b141421c92e003c954e2b7462375d3d8fcc38c035814639062ae1296e821f",
         "Dario Medina",
         2009,
         15,
         160,
         400,
         "Classic"
        ],
        [
         "a15dc825c47d2409f80ebbaa6ca388f073d2665053c784e831e44d2f497f5cd9",
         "Justin Knight",
         2009,
         15,
         375,
         950,
         "Classic"
        ],
        [
         "a1947982d10ede6c5363260817cd6e1aef9751b79c41837cf7630c6e35cde7e5",
         "Dianna Arnett",
         2009,
         15,
         201,
         300,
         "Classic"
        ],
        [
         "a23cd7eed72429d58d7ed5cc96885a9c85b61aa688b6b086c9ed9a25689570e4",
         "Lindsay Castell",
         2009,
         15,
         205,
         500,
         "Classic"
        ],
        [
         "a2cbe3544b22c8b259464f7f2d00d98a0a3ba523de1f14768fbdd661531662b3",
         "Mark Packer",
         2009,
         15,
         269,
         450,
         "Classic"
        ],
        [
         "a328d1a7068fa0e66545fcd1124920424e5c019fc6df984242a4e3b781ab35bd",
         "David Wiener",
         2010,
         14,
         189,
         400,
         "Classic"
        ],
        [
         "a3f0be1cb1c89acc0ef0ab96de7419737552977b4e9e93f1d7bd993d0ac3686d",
         "Cathy Prescott",
         2009,
         15,
         111,
         200,
         "Classic"
        ],
        [
         "a41042a799b579450bdc8bc881a3ee2e500d7c68eb614f03829ec1936a29dc0d",
         "Bart Folk",
         2009,
         15,
         199,
         350,
         "Classic"
        ],
        [
         "a442904cd56b7892d6938ee4213fbed442f99d2b58fa752d697880365053b8b5",
         "Lycoris Saunders",
         2009,
         15,
         572,
         1300,
         "Daimond"
        ],
        [
         "a59c08c62ffbfe649f3b9c7a573f8c9ce239f0ac69816261964696e32db27f8d",
         "Khloe Miller",
         2009,
         15,
         360,
         850,
         "Classic"
        ],
        [
         "a66cebd1de8a3cc78c477eee4ca67909b24b86cc6048230a2972b377b5395111",
         "Ann Chong",
         2009,
         15,
         126,
         350,
         "Classic"
        ],
        [
         "a6cda37380ea39eda246fc1c4e5e67902ec84c481cab033cc000f8f848fa7e48",
         "Robert Barroso",
         2009,
         15,
         297,
         600,
         "Classic"
        ],
        [
         "a70d4e088e460ddd7ac38055cd2ce04c3ea5a4adb570b8a6daa0556916b586e5",
         "Steven Roelle",
         2009,
         15,
         322,
         600,
         "Classic"
        ],
        [
         "a724f7adf378ea0467c7077a063f46c70910330687b42ee430d3ffe3cf4acdda",
         "Anthony Garverick",
         2009,
         15,
         250,
         450,
         "Classic"
        ],
        [
         "a79ddae1186b3c62282923a1767195325cae663cb83d1ef5649b1888e4e1a420",
         "Chris McAfee",
         2010,
         14,
         29,
         100,
         "Classic"
        ],
        [
         "a7a916524b1c66de8ac9fb512c96287b206dc088de4896715c90b0ce3b560331",
         "Justin Ellison",
         2009,
         15,
         208,
         450,
         "Classic"
        ],
        [
         "a87ffaaba3152e1af8eb027cd8af296d3797e2cef9b1ca985d95fe2580b99581",
         "Mary O'Rourke",
         2009,
         15,
         117,
         200,
         "Classic"
        ],
        [
         "a8a75a74e5b069e483aad503756b8fd3e6fd87a4a29cc9ae9560844d28d5a117",
         "Kean Thornton",
         2010,
         14,
         239,
         450,
         "Classic"
        ],
        [
         "a8c0201cf511861a64b649c34cc88fba0854893f80855722d84c0b8fccd1f57d",
         "Harold Engle",
         2009,
         15,
         535,
         1100,
         "Daimond"
        ],
        [
         "a8da9feb38b89062ee83b78a4e1c155441feacaca0f0c74599ee2254efa2530e",
         "Susan MacKendrick",
         2009,
         15,
         273,
         450,
         "Classic"
        ],
        [
         "a95d89a3357d8117cab449b80c0e1b0a96e2ab0cc0dbc9c1494b2a84df84f778",
         "John Stevenson",
         2009,
         15,
         130,
         400,
         "Classic"
        ],
        [
         "a971ce461c8dc53f18a68f38262a57ccd7f4999f8c35d7d27d355423c79b46b3",
         "Kalyca Meade",
         2010,
         14,
         103,
         200,
         "Classic"
        ],
        [
         "a9dc8fa8fc8e1b76cccd84ad520916b0c7c883663a7eef794ac4f7276d8cf52a",
         "Julie Prescott",
         2009,
         15,
         204,
         450,
         "Classic"
        ],
        [
         "aa19cf4cefc1e1515355993237265ccbbc75b8b5cfd894b0ec2b49b21889ae12",
         "Greg Hansen",
         2010,
         14,
         216,
         450,
         "Classic"
        ],
        [
         "aa2ea3695d053b8e2bc0c4f18bf487d2637eccae05c49562210ca0d6630c6906",
         "Victoria Brennan",
         2009,
         15,
         251,
         550,
         "Classic"
        ],
        [
         "aab49853e43a2e74592e49343ccd6e28be3621c3dd394e0c0c1db97b5887e996",
         "Jay Fine",
         2009,
         15,
         308,
         600,
         "Classic"
        ],
        [
         "aab52635f3d5250db1610d500a4840311c9e554c005b94f4d4de4d8ac0265ea9",
         "Muhammed Lee",
         2010,
         14,
         352,
         600,
         "Platinum"
        ],
        [
         "ab4294ca26aebd391c68a3bd909cd38745b1887c6553fceb047d5e127ea42699",
         "Greg Tran",
         2010,
         14,
         186,
         350,
         "Classic"
        ],
        [
         "ab887f2d87a3a8a811aaa72f66db0044da11c6b7259cf4e16fc0b328dc7e87b5",
         "Julia Barnett",
         2009,
         15,
         633,
         1250,
         "Daimond"
        ],
        [
         "ab92d7af0e5bbf52ab4ec640cb3117d9536de21e293e7f9cb32f8e528e840e7a",
         "Erica Hernandez",
         2009,
         15,
         287,
         500,
         "Classic"
        ],
        [
         "abe7ddad35bb414793b1742a21968b1f2dca416e3f90f416a24781023acd932b",
         "Lori Olson",
         2010,
         14,
         105,
         250,
         "Classic"
        ],
        [
         "abf4426c7abac56d464c06c1db594a9fe55ede89f52827e158e350d71fda862f",
         "Cindy Chapman",
         2009,
         15,
         483,
         1000,
         "Classic"
        ],
        [
         "abfb2f2572d82e9cabe7f7591f68678794b7ad334239078bdebb5fb0428ab05b",
         "Sonia Cooley",
         2010,
         14,
         167,
         250,
         "Classic"
        ],
        [
         "ac09dfda96f96b7f64afb595f1222b3f338a2ec5cf6ea0ec347afb39fc54a0b8",
         "Liz Thompson",
         2010,
         14,
         99,
         200,
         "Classic"
        ],
        [
         "ac547826f7516f4fa0932a350c856d094102dae0d7bfc5fa95845bb2dce3f1ad",
         "Herbert Flentye",
         2010,
         14,
         39,
         250,
         "Classic"
        ],
        [
         "acacb685f70f0714fde637f8a7aabb6b515deaf355987e9f5d8c8fb9487d68b7",
         "Anthony Jacobs",
         2011,
         13,
         19,
         100,
         "Gold"
        ],
        [
         "acc9f0022184ebca1670eb4a62e09809a310ad168592483abb8ff95b3f3eaae0",
         "Brian DeCherney",
         2011,
         13,
         217,
         400,
         "Gold"
        ],
        [
         "acf29bd1e3c93dbe4b1ba4036cfb59c0c0c2990b29f6e317eee77615aa1f9c8f",
         "Tanja Norvell",
         2009,
         15,
         575,
         1300,
         "Daimond"
        ],
        [
         "ad63080bfa461365b4fd299600040964fb3a626b8a1a7a27b24bd7a98de09469",
         "Dorothy Dickinson",
         2010,
         14,
         47,
         50,
         "Classic"
        ],
        [
         "adc60cbc82cd24bb8cb6209451278559dbaf92bad79276f9943df6a6543c54ff",
         "Amy Hunt",
         2009,
         15,
         495,
         1000,
         "Classic"
        ],
        [
         "ae09f52f6bc5db69f2fdd5918c604cb8bdd412cb5079cb44693be2ec78aca19d",
         "Trudy Bell",
         2009,
         15,
         276,
         450,
         "Classic"
        ],
        [
         "ae0c4d76b0b5978204a908ca3cf37660fbfac413dbf387f930db8772df7e13fc",
         "Nathan Gelder",
         2009,
         15,
         163,
         400,
         "Classic"
        ],
        [
         "ae49bc6ea2962fd1b721b3eb1b898e1f3f000479fb0ffceb1068956ed27093ad",
         "Gene Hale",
         2009,
         15,
         202,
         500,
         "Classic"
        ],
        [
         "ae676bf5c132bfd22fc26ef4a02a354fbba034f98cc339351a4d880d1d42dec3",
         "Natalie Webber",
         2009,
         15,
         402,
         900,
         "Classic"
        ],
        [
         "ae863a364010002ceecf4c313557fc8047d5120b3f1055372555f2ed910b8cec",
         "Bill Eplett",
         2009,
         15,
         407,
         1000,
         "Classic"
        ],
        [
         "ae92c5aa68dbc325a083b527bc4467c47829418bb5574c34e9d50923604c18c8",
         "Larry Hughes",
         2009,
         15,
         108,
         200,
         "Classic"
        ],
        [
         "ae96946559a9f3928f0618ebb34315f729bfac843b03fdde2a779260dc9aab70",
         "Pauline Webber",
         2009,
         15,
         236,
         650,
         "Classic"
        ],
        [
         "aef1a01376b6f71dd725430d123f15a72d98b6ace5e93c7b4d15373a359bd26c",
         "Barry Gonzalez",
         2009,
         15,
         613,
         1250,
         "Daimond"
        ],
        [
         "af5d0c2efa23bc6bbde18cd729baf42ac7f0af01d04356260a6a088d59a052ce",
         "Frank Gastineau",
         2010,
         14,
         169,
         250,
         "Classic"
        ],
        [
         "afab7e23ca183f3c4b0101695577189389b7fdc96c92d76e4c2b9123173394de",
         "Don Weiss",
         2009,
         15,
         76,
         350,
         "Classic"
        ],
        [
         "afef3464c37298ac4b95921e06083b4f8ad5eef6ac03fcebd8295c2194566eda",
         "Joel Eaton",
         2009,
         15,
         135,
         400,
         "Classic"
        ],
        [
         "b05212290e64273a5781731f0c2a978ed0567a81d95bad0771b0a1eaccf5ebe5",
         "John Castell",
         2009,
         15,
         357,
         850,
         "Classic"
        ],
        [
         "b0b4faa3da57c2038cc19bb54f253f66b602f5a229a6967b1b31b307149a3e6c",
         "Mick Hernandez",
         2009,
         15,
         99,
         150,
         "Classic"
        ],
        [
         "b1152359ffbd8d26ee1f3577a47b84161c47c7dda4e36a9d5a5fe7552dd53c1b",
         "Richard Eichhorn",
         2010,
         14,
         147,
         300,
         "Classic"
        ],
        [
         "b1189c531f531bb4d1bdabf50c4ef5ca8fdca100801f9c3e23de4347bebcd501",
         "Rick Duston",
         2009,
         15,
         260,
         500,
         "Classic"
        ],
        [
         "b13236fe29b083f78f723bd26c1230f61ba13d7ce1c5fbeb834e7c9ad5f33938",
         "Bobby Trafton",
         2009,
         15,
         644,
         1150,
         "Daimond"
        ],
        [
         "b143cb5f1749371d7fa73553dc8d06aac1567aed3badb34596a7b22176db3f93",
         "Adrian Hane",
         2010,
         14,
         106,
         200,
         "Classic"
        ],
        [
         "b17fd88cb13216e92198967520e9cca1c7f6cc19c6ba5f54a4379d05fb40629b",
         "Neola Schneider",
         2009,
         15,
         212,
         350,
         "Classic"
        ],
        [
         "b2386733f0b0d6f896591656694bc39dd2f040e0adee29f207316c91e32aba06",
         "Nicole Hansen",
         2009,
         15,
         311,
         600,
         "Classic"
        ],
        [
         "b2ab68f04fcdfdc4209aa89a19244fd2bb674e34ea3243212b2a0c57a1aa7731",
         "Corinna Mitchell",
         2009,
         15,
         126,
         300,
         "Classic"
        ],
        [
         "b4ccda7205a114a24a5769895c2d4d041a1a68ed59f6a94cc211b78da249bfb5",
         "Benjamin Patterson",
         2009,
         15,
         160,
         500,
         "Classic"
        ],
        [
         "b526ce4cfd3e394acc54ce5d84c8c56d285d733cbb93af0c7ca1febad03c1873",
         "Edward Nazzal",
         2009,
         15,
         707,
         1400,
         "Daimond"
        ],
        [
         "b5c5e714e41e16ba15178e9473e575957b2167374c627c9e926bef0faf87165d",
         "Grant Thornton",
         2009,
         15,
         428,
         850,
         "Classic"
        ],
        [
         "b645e425f5e84234dfc1501b4a993eb5f45fd921408d7555d9a37ed1d0a03df3",
         "Don Miller",
         2009,
         15,
         199,
         450,
         "Classic"
        ],
        [
         "b6d9162762eab1c56451a338b2ede6819f5300ec8b0a97173c927359c4f2b35e",
         "Mitch Willingham",
         2009,
         15,
         376,
         600,
         "Classic"
        ],
        [
         "b70c17386144686c3990cb2ab090dbca14eceaab06e590df7574fc5d768493bf",
         "Greg Matthias",
         2009,
         15,
         221,
         500,
         "Classic"
        ],
        [
         "b71815319403a0e7695c59ad52321a7b78dc7d552c8480944cf1d1ea5be49bdc",
         "Ellis Ballard",
         2009,
         15,
         227,
         450,
         "Classic"
        ],
        [
         "b72c74567e2cf44d03b075674b30a1ac3c22bc9b626d4888d32f0bd59482db94",
         "Sanjit Chand",
         2010,
         14,
         290,
         600,
         "Classic"
        ],
        [
         "b7f4aaf0c47329e2da34fc8352af1fd719ce455aa4e4d7c2324213f0aa66184d",
         "Alan Shonely",
         2011,
         13,
         174,
         350,
         "Gold"
        ],
        [
         "b89dcc8e8f1c8e2a9e7f6822de3e907e90c5a2cf0e0f68814835d30f8cef8830",
         "Dianna Wilson",
         2010,
         14,
         79,
         200,
         "Classic"
        ],
        [
         "b90a4e5598ffbea7840d1ef361d9a7e4392bd3680d2e0cc0cea42c4518a3a7e2",
         "Philisse Overcash",
         2011,
         13,
         86,
         150,
         "Gold"
        ],
        [
         "b9afb511c8d91ca0a1b1762bd1c6236ae55e4561a2f0e5c813d00a1e8e7741fd",
         "Parhena Norris",
         2009,
         15,
         178,
         350,
         "Classic"
        ],
        [
         "b9d74a7b75fa577654255b5114c4f160ba5607026a3fc8b8395cc81dfa79bab2",
         "Liz Willingham",
         2009,
         15,
         412,
         800,
         "Classic"
        ],
        [
         "ba174501d462fe9f907ca42e9e281007144a55c25517d631ccdb0e9694201897",
         "Dan Lawera",
         2009,
         15,
         328,
         600,
         "Classic"
        ],
        [
         "ba4eb625e7290045ef053f6fd143960648d7c4d66e87384f70fd4075dab82b95",
         "Troy Blackwell",
         2009,
         15,
         441,
         750,
         "Classic"
        ],
        [
         "bad4e932c45d24bed028e46073ff0d10213147c3915a036d1e6c52cf231f4ebe",
         "Denise Leinenbach",
         2009,
         15,
         79,
         300,
         "Classic"
        ],
        [
         "bb77981eacef121748465051ff5e774ced80b7216841298617bdb3a95c2404d0",
         "Michael Kennedy",
         2009,
         15,
         244,
         350,
         "Classic"
        ],
        [
         "bb79fcb80a43dc1002a74048a29ea3dd4ceec201a261504c8044ae0f98184bab",
         "Steven Cartwright",
         2010,
         14,
         174,
         250,
         "Classic"
        ],
        [
         "bb7af591f0438d738385058a11337da57f2062e0da31a3e50d11e1b0f8f8a98b",
         "Luke Foster",
         2009,
         15,
         172,
         300,
         "Classic"
        ],
        [
         "bbf652b010bfd87436865021fd84ad52928ceb87e4ee0803cf05938e61ca6aa2",
         "Helen Andreada",
         2009,
         15,
         308,
         700,
         "Classic"
        ],
        [
         "bc21ed08e37501336c373ac8ef9678f07749fa3804a7dff5813134abfa0da440",
         "Susan Vittorini",
         2009,
         15,
         325,
         700,
         "Classic"
        ],
        [
         "bc6c413a07da4e600cb4e20126ab4af5a0253f5c502f28b13ff447005e714eaf",
         "Vivian Mathis",
         2009,
         15,
         359,
         750,
         "Classic"
        ],
        [
         "bc769a7220a543e625c4cc84e232a977c5e219b6eca3240012d58f812e34165b",
         "Dan Campbell",
         2009,
         15,
         528,
         1250,
         "Daimond"
        ],
        [
         "bc76bfd8d1d1821dc05bc3c35d366cccb7b0044a63a5a6217601c2f3d5f3e2bd",
         "Sung Chung",
         2009,
         15,
         242,
         400,
         "Classic"
        ],
        [
         "bd333a547b45c2171298cb062da20b264cc25088e0f595205fc5d7db678b00b9",
         "Alejandro Ballentine",
         2010,
         14,
         258,
         450,
         "Classic"
        ],
        [
         "bd46e32023bc58f189b38446fa2508ed9e9f723aa7ef1672c83f5578e62a3490",
         "Roger Barcio",
         2009,
         15,
         101,
         150,
         "Classic"
        ],
        [
         "bded6464f097e66af40869a07c51caee720e4af4f5ac82b984629af1d21feb4f",
         "Irene Maddox",
         2009,
         15,
         153,
         400,
         "Classic"
        ],
        [
         "be0ee567a77d86f497f06e3105efd1eb0cb6b793549fe3487674b0b29cd91799",
         "Barbara Fisher",
         2009,
         15,
         402,
         800,
         "Classic"
        ],
        [
         "be0f4a8904726cd0b0919aa00ff97fb470179160ec9f3dd4a835e62d53ec2430",
         "Steven Ward",
         2009,
         15,
         167,
         350,
         "Classic"
        ],
        [
         "be72bbfe0777ef61e557f5cdb72f8e2d7a7b2cc3f5e1399bd7062472cf12d1e5",
         "Peter Fuller",
         2009,
         15,
         655,
         1200,
         "Daimond"
        ],
        [
         "bea09f051dafd1e87b0f7c05522b05d647e1941456aa7094bb8c891902f4fe2a",
         "Roland Murray",
         2010,
         14,
         108,
         200,
         "Classic"
        ],
        [
         "beacc4d65042807d421c10d4ca23b3d2ebc347d87aa92015099448555ddefce8",
         "Ricardo Block",
         2009,
         15,
         225,
         450,
         "Classic"
        ],
        [
         "beb430e4e2617bc0f8c5b3191d687b1aa057004592f7e3013f74850f0cf032c3",
         "Cynthia Delaney",
         2009,
         15,
         392,
         600,
         "Classic"
        ],
        [
         "bf63b04c2e8bbe89f416fb17a14264beb823f57fc1d607dfae031e3635456984",
         "John Dryer",
         2009,
         15,
         283,
         650,
         "Classic"
        ],
        [
         "c015efc36bc004c1bd91535364b3ea741d075c40b88a903a85e6abd9b18a13a0",
         "Laurel Beltran",
         2009,
         15,
         41,
         200,
         "Classic"
        ],
        [
         "c0b2a30025246ff92ba4b631f2e93f36375cf5e0f551f1d6a6cefe870928cf11",
         "Victoria Pisteka",
         2009,
         15,
         478,
         900,
         "Classic"
        ],
        [
         "c0e2e23114cccfbbb7d77cede43326424631ac5e6bb2323cc386594549c0adef",
         "Fred Wasserman",
         2009,
         15,
         220,
         550,
         "Classic"
        ],
        [
         "c10956db3e671a6bc216f92616141652db6938744d5ffaa901d4e3a52418fa5e",
         "Shahid Shariari",
         2009,
         15,
         495,
         1150,
         "Classic"
        ],
        [
         "c241b92705185713bcaed16fec6d1de0eb283b294d737346db61fe29b94b9c78",
         "Guy Phonely",
         2009,
         15,
         182,
         500,
         "Classic"
        ],
        [
         "c258c5e6e382b9019ca6c155fc9612db18b97b8bd4925e3726266bb6e40a73df",
         "Brendan Murry",
         2009,
         15,
         336,
         600,
         "Classic"
        ],
        [
         "c26e5b734f0e69757e23946d5a8288ee6ccdae119bccc5a59aa8d117184a4d5c",
         "Harry Marie",
         2010,
         14,
         281,
         450,
         "Classic"
        ],
        [
         "c48c711e5da0498639e9097a430cb56bfb4fc449137d9bc82af53c30ce823cfb",
         "Michael Moore",
         2009,
         15,
         133,
         300,
         "Classic"
        ],
        [
         "c4bc3cf6c549b9ac89b027248fbc4ba3098241b76857993f1045a8f0da95b068",
         "Ritsa Hightower",
         2010,
         14,
         390,
         800,
         "Platinum"
        ],
        [
         "c540f007e51b19153edd702dc3b22d4747126fae2e9f1d0f7fd95ae2d04e1b74",
         "Alice McCarthy",
         2009,
         15,
         290,
         500,
         "Classic"
        ],
        [
         "c5873608cbe3f18982258fd77315e1023873bf76952d1ff51b10df5717c2f899",
         "Anne Pryor",
         2009,
         15,
         417,
         950,
         "Classic"
        ],
        [
         "c6ac69f6e94f12b3639dddfd5b629ca5c69af7405bd500ed8d08be59f9c51b58",
         "Maureen Grace",
         2010,
         14,
         43,
         50,
         "Classic"
        ],
        [
         "c6ca1ec8289124d9d5312911679a5b6c4706530c9d5c0deb0b5a8de59a4d142e",
         "Jamie Frazer",
         2009,
         15,
         85,
         200,
         "Classic"
        ],
        [
         "c7206d76650aab5d305bd452b40110eff48ad11319a9e738e34600cb8e58b0dd",
         "Brooke Gillingham",
         2009,
         15,
         206,
         450,
         "Classic"
        ],
        [
         "c72b076609bc79332e52e2362b43733fe82d8900be909c670c720c11bd4efe80",
         "William Brown",
         2009,
         15,
         555,
         1350,
         "Daimond"
        ],
        [
         "c74399a46d48983669b138dc8f9392bdbaf5f6583e6cccb88020f6dcea7c54fd",
         "Jason Fortune",
         2009,
         15,
         283,
         450,
         "Classic"
        ],
        [
         "c785097e44dfdf3ea6fc985c15ddcea69a6f20ad265ed42f2ad36cb35559327b",
         "Jim Radford",
         2009,
         15,
         228,
         500,
         "Classic"
        ],
        [
         "c80390913b97210756d64aca75cb04d1c13b20e7d0eb4fdff66cf365d2bcdde7",
         "Arthur Prichep",
         2009,
         15,
         326,
         650,
         "Classic"
        ],
        [
         "c84db3cc7eb20c4483f079de2f7c2164c36b337e35912aa187c0e22b2e07317c",
         "Nora Paige",
         2009,
         15,
         457,
         850,
         "Classic"
        ],
        [
         "c850d76da0ba057f4783c0dcba967697861f3f376628cb23c746eda6f539d862",
         "Thomas Boland",
         2009,
         15,
         229,
         550,
         "Classic"
        ],
        [
         "c8589f5ecc7209ddfed982ee1b4185afb7d0d1a06fbe0613ce2377e2025a17f4",
         "Max Ludwig",
         2009,
         15,
         173,
         300,
         "Classic"
        ],
        [
         "c967f478556da7e228590fc70aff25f0df61779cbf7ce74eb050455313f37452",
         "Harold Dahlen",
         2009,
         15,
         602,
         1500,
         "Daimond"
        ],
        [
         "c9e96537f4e8997f5aea0a97e2b8274fe93c0e3ddc89d2d7aa9270098982c30c",
         "Trudy Schmidt",
         2009,
         15,
         169,
         350,
         "Classic"
        ],
        [
         "c9f0fb3d4fe3f537f1dd5f84506d2a4268b7a7a9933266ba7e2a0922f5296d22",
         "Theresa Coyne",
         2010,
         14,
         140,
         250,
         "Classic"
        ],
        [
         "ca0d89eceb5998139f12c6d2ef7740bb64c6cfa488d262e39ce09aa12a65bedf",
         "MaryBeth Skach",
         2009,
         15,
         305,
         550,
         "Classic"
        ],
        [
         "ca6262f7481b8e17ba41535ec463c23f5da5e7d5a6df6651612b0abc0928a63d",
         "Erica Bern",
         2009,
         15,
         588,
         1100,
         "Daimond"
        ],
        [
         "ca7ff19106713973ddfef244aa13305d8dd5975b341182b24dadf86e6cb3b559",
         "Brendan Dodson",
         2009,
         15,
         162,
         400,
         "Classic"
        ],
        [
         "ca8ec4970ed530a13e22eb943a381d49ae0f846f8e09932f9b3eabf226dd58b9",
         "Janet Martin",
         2009,
         15,
         280,
         550,
         "Classic"
        ],
        [
         "ca99ef23e9385064404600bab9c4292ee4df2a32855a4ff36738682771785958",
         "Vicky Freymann",
         2009,
         15,
         224,
         450,
         "Classic"
        ],
        [
         "cb656acd15bd8c49c555c407aedad898090ddaf6593228781e3c4a1ba28735ee",
         "Tom Stivers",
         2009,
         15,
         423,
         700,
         "Classic"
        ],
        [
         "cb7a0b0946b004546c2b84d276e56af1b9a8d117a677c3122a061a3b8fd25796",
         "Dave Poirier",
         2009,
         15,
         515,
         1100,
         "Daimond"
        ],
        [
         "cb9c5d58d309901fc7643f58660a7f90a816c5698231a23152b71d723728262f",
         "Anthony Johnson",
         2009,
         15,
         259,
         600,
         "Classic"
        ],
        [
         "cbf0f88927bd83a4f3985fc137097260b5dd1d542b93c3d21165ba3a38ae7421",
         "Jenna Caffey",
         2009,
         15,
         316,
         650,
         "Classic"
        ],
        [
         "cc0fa13c0349e6c9ec6b0a506f35d7d0a3f98fe57ea6d659c2d2b51b7aa0df5f",
         "Pauline Johnson",
         2010,
         14,
         136,
         250,
         "Classic"
        ],
        [
         "cc3f1536fe53300f4620e234016ad4ad192d588f2a824e194bd50cca6b79f241",
         "Olvera Toch",
         2009,
         15,
         452,
         750,
         "Classic"
        ],
        [
         "cc4a00b8562b5190ea573e15e164c0e4faaa4493bd3b2a7b8a25abf28c7576e2",
         "Cindy Schnelling",
         2009,
         15,
         282,
         650,
         "Classic"
        ],
        [
         "cc718f326faad08360ecd3e8a4b6f2e6c5d9c2d487e1d49198230eac8ef1144d",
         "Lena Hernandez",
         2010,
         14,
         167,
         250,
         "Classic"
        ],
        [
         "cc8582a3de73403cba448a8d23d543fc843b29dc9fe3d8ee3714c5651ddc8e41",
         "Allen Golden",
         2010,
         14,
         159,
         350,
         "Classic"
        ],
        [
         "cd410eb4d5359af52e46565975ebf0ecb7e5befa896c62585abaefdd91507cb5",
         "Tom Boeckenhauer",
         2009,
         15,
         218,
         400,
         "Classic"
        ],
        [
         "cd7e2b8da797eb4b62ce6fb89f3e68a0e0bab6799ef0a1e246d2486d59dd69c8",
         "Shaun Weien",
         2009,
         15,
         223,
         400,
         "Classic"
        ],
        [
         "cdf5de46861a5653b31203674638c15bad5f610aeaa4eae958ffa03e9d1ae4e7",
         "Seth Vernon",
         2009,
         15,
         352,
         600,
         "Classic"
        ],
        [
         "ce2fc54c999dfbcc4ae46d518d4dbbe38c84cf602207405a2988d3bb0d46fadd",
         "Becky Pak",
         2009,
         15,
         304,
         650,
         "Classic"
        ],
        [
         "ce703e6cf050f5016a545dcaa65d71bb48f813b64fe24c1c6945f2ea3a6c1ec3",
         "Christine Phan",
         2010,
         14,
         199,
         350,
         "Classic"
        ],
        [
         "ce864c3c394037ff9ae577f19e4ea1917021953edc3ad2fd195be40a1a237134",
         "Thomas Seio",
         2009,
         15,
         194,
         350,
         "Classic"
        ],
        [
         "cf24ae5c8de1a6fda2c407558cad5ec07f2cdb3bd9ec4e86cead0599729c77c6",
         "Debra Catini",
         2009,
         15,
         256,
         550,
         "Classic"
        ],
        [
         "cf332d83e21157d7a82cbc35717fc111c4fe82ed3e0aa255bffd9d268bc4d441",
         "Christopher Schild",
         2009,
         15,
         311,
         550,
         "Classic"
        ],
        [
         "cf4a83c03f2498fe3ed99c4450749e819092c1bc7ab2f9928a250dd29513f6ec",
         "Sara Luxemburg",
         2009,
         15,
         428,
         950,
         "Classic"
        ],
        [
         "cf69c79637665fa37dd71c37989cd863481e0bb150d2e450bbd7f75d49ad356f",
         "Deirdre Greer",
         2010,
         14,
         125,
         250,
         "Classic"
        ],
        [
         "cfdb253ddd1f98cc8f4197c63aa4d33b2181b4fdd358ce4a390bb816e23fc391",
         "Mike Vittorini",
         2009,
         15,
         289,
         500,
         "Classic"
        ],
        [
         "cff9ef2bcc03ea0bdafdda1b77b87b8935429e296e1096f8246530ab10eec226",
         "Duane Huffman",
         2009,
         15,
         455,
         850,
         "Classic"
        ],
        [
         "cffebe440357360061d5b087d41e23a5cc8ef13fa2517729a88be54f940c86e0",
         "Joy Daniels",
         2010,
         14,
         110,
         250,
         "Classic"
        ],
        [
         "d01ee9a5a291b8f8fdea8f3e908f437e217514b93db9ca5563786a34fec182f6",
         "Darren Koutras",
         2011,
         13,
         151,
         200,
         "Gold"
        ],
        [
         "d07797183e67a07c788a3d992c8c0fbcc100831c2277c133b4ccf345e091d5f2",
         "Cyra Reiten",
         2010,
         14,
         197,
         300,
         "Classic"
        ],
        [
         "d07ddad4149ec8c1ef1c14ad9381b57bcfcc2037ca8a5a9511643e7369d41140",
         "Henry MacAllister",
         2009,
         15,
         31,
         150,
         "Classic"
        ],
        [
         "d139f59a2a34e1971c03e68ed69ab62552099d3a4ca02870a78f22d5099ae5b1",
         "Jennifer Jackson",
         2009,
         15,
         303,
         550,
         "Classic"
        ],
        [
         "d18c18026d139c930e83d7a7cbc6ed051e92f8c789794e5ec5825fe4c0cc8b89",
         "Brad Thomas",
         2009,
         15,
         868,
         1950,
         "Daimond"
        ],
        [
         "d1eb041667c1611cedb5da9e5bea5fe0414feab1e4523ecc93a20a2139791ebe",
         "Sheri Gordon",
         2009,
         15,
         389,
         600,
         "Classic"
        ],
        [
         "d251714af3f96eaf936ca41cb0bc38b39a193cd1372ee70e6fbd12d1abc56f87",
         "Daniel Raglin",
         2009,
         15,
         74,
         200,
         "Classic"
        ],
        [
         "d25a2a58914892203b49e49b0a9f1a30b7f6c43d2f98166a9faec5ec459b9b97",
         "Randy Ferguson",
         2009,
         15,
         502,
         1000,
         "Daimond"
        ],
        [
         "d32cf0eb8be222cee9e51629bd7eee3dc1c8006bf8b20bb26781833f49cf320b",
         "Karen Bern",
         2009,
         15,
         124,
         200,
         "Classic"
        ],
        [
         "d34dfd89303787743c5f0308f555e049e0f12a72af2e0b31e71dc5d85682810c",
         "Patrick Gardner",
         2009,
         15,
         140,
         250,
         "Classic"
        ],
        [
         "d39dd257708e4e664c440b9b7aad0545c1ef69f210f35c84706dcc29654c0ca3",
         "Corey Roper",
         2009,
         15,
         81,
         150,
         "Classic"
        ],
        [
         "d41101c45fea4f8d1997ae8bb779f00d786d2dd8bd7e51fae7243dd3e9e5f42b",
         "Becky Castell",
         2009,
         15,
         152,
         350,
         "Classic"
        ],
        [
         "d488b417e7ddfff7fb3e5915087797e9b5791aea5d9dffc022747da9501cd934",
         "Michelle Moray",
         2009,
         15,
         433,
         750,
         "Classic"
        ],
        [
         "d57a74a6820c97e742faf80de1d8b3a928c3350f9f3a1772d9a985895e31551a",
         "Tracy Collins",
         2009,
         15,
         456,
         900,
         "Classic"
        ],
        [
         "d5f108ea5e230804b12e56c1f2a195f3c24f5823430d0d659977f17a74d44856",
         "Kean Takahito",
         2009,
         15,
         56,
         150,
         "Classic"
        ],
        [
         "d616214454d91b094bccfee7edb771f53dd8823d2ea66847d9f429769d4bfb89",
         "Eric Barreto",
         2009,
         15,
         585,
         1550,
         "Daimond"
        ],
        [
         "d660d1b702e7057b1efb86ec603fa4c949dee23a56ef6ac294c330e9844bf876",
         "Sarah Foster",
         2009,
         15,
         336,
         500,
         "Classic"
        ],
        [
         "d694df1801a82b53d134cbf94e6ae05415ce715eae1e7021f240e2a010b84d84",
         "Frank Merwin",
         2009,
         15,
         382,
         800,
         "Classic"
        ],
        [
         "d6f8531879a43d228e2722a01e3c40e422ff0d1612992683589585a432b141bc",
         "Stefania Perrino",
         2009,
         15,
         194,
         450,
         "Classic"
        ],
        [
         "d7b3203228fc0017e007f1b6c670027ff3f57baea251b4d41884569b21171244",
         "Sample Company A",
         2011,
         13,
         46,
         50,
         "Gold"
        ],
        [
         "d7b42cd007c7d94f52deff1d6baa23d28dcecee3cd85e8cf0c59a108831d1ec1",
         "Deanra Eno",
         2009,
         15,
         426,
         1050,
         "Classic"
        ],
        [
         "d839132b89ef6c18c6c47a9053595721ab015b67cbc8c2508307875f828196d6",
         "Denny Joy",
         2009,
         15,
         185,
         400,
         "Classic"
        ],
        [
         "d8492b04dfb5545db2d3442cdd7c7681e27502da6b4c56b07140b0ec6282a579",
         "Neil Ducich",
         2009,
         15,
         143,
         300,
         "Classic"
        ],
        [
         "d8afc35766fc4cdf7ef0a99b7b19fdf1fd3743542faf181c4594ea9aa52ed2dc",
         "Bill Tyler",
         2009,
         15,
         144,
         250,
         "Classic"
        ],
        [
         "d8b000196e15e3fb8355043f05da84ce6a042c45be5f7bdc2b204c0deeda3917",
         "Xylona Price",
         2009,
         15,
         374,
         700,
         "Classic"
        ],
        [
         "d8f7206fd994c1e9611a2505f2c628d2c9f7280746a11b4acba1a8b40dd8c94f",
         "Bart Watters",
         2010,
         14,
         174,
         250,
         "Classic"
        ],
        [
         "d93310f09a7d3a0aad8233d66511879f379554a5490b9a678f47cf23ba5dc592",
         "Bill Stewart",
         2009,
         15,
         92,
         300,
         "Classic"
        ],
        [
         "da71a35af2884d7095114445ecdb3df18685d2655ca50761057131dac6c82aa6",
         "Joni Sundaresam",
         2010,
         14,
         70,
         200,
         "Classic"
        ],
        [
         "dad4599cf4ae5bb2ffb5559ed129a696a69d02f5538d5674dee2f2d11e2975ca",
         "Pamela Coakley",
         2010,
         14,
         68,
         100,
         "Classic"
        ],
        [
         "daed5954b43cfcc6838f0028d1e8fccb3ce0fd66fde89b06a8b77569d77eb587",
         "Eleni McCrary",
         2009,
         15,
         214,
         400,
         "Classic"
        ],
        [
         "db99349fb7f09cebff0c296bee1f5cf1e345c852c7b1c42895c73fc26f7dedab",
         "Quincy Jones",
         2009,
         15,
         864,
         1450,
         "Daimond"
        ],
        [
         "dba71186ea6a4b943441f49f71ece9975cfcf3909a74bc6901d88595b9e00ff8",
         "Mark Cousins",
         2009,
         15,
         786,
         1600,
         "Daimond"
        ],
        [
         "dbc2a0f81744ad416b0fc132e9eaf3f39b40d9b3d2b3ce6f2bbfe9900fa53b92",
         "Dana Kaydos",
         2009,
         15,
         265,
         450,
         "Classic"
        ],
        [
         "dbd201b2a7423c8cbcc582de7a3c20c1651d93322d68250caa858edb76f1322a",
         "Jill Stevenson",
         2010,
         14,
         219,
         350,
         "Classic"
        ],
        [
         "dc6cd9cb2a4d8c322c26258faf9b59391f5590ffa40efae1fa7b204d69c96c1f",
         "Michael Dominguez",
         2009,
         15,
         462,
         950,
         "Classic"
        ],
        [
         "dc96881e50de52a586d252400462fe271cd9808d7a7e4b60cbd3b8c557835990",
         "Denny Ordway",
         2009,
         15,
         188,
         400,
         "Classic"
        ],
        [
         "dcf9f4d4a48e0360c4e771e8a9786d834fb1d3741dc15360734096ba13834f02",
         "Maribeth Yedwab",
         2010,
         14,
         241,
         500,
         "Classic"
        ],
        [
         "dd70309d73910b98d14c7d81edd7b3153cc828a3bf78a161f076f7efe806c7a1",
         "Ryan Crowe",
         2009,
         15,
         147,
         350,
         "Classic"
        ],
        [
         "dd991b267deaf9995263f0737d3f457a5264bdc9c37eb61a0a239305a289a174",
         "Fred Harton",
         2009,
         15,
         481,
         850,
         "Classic"
        ],
        [
         "ddf50ad218b880c27d0fbfc33a3aa1a641b95718d59e99ab7f4a346cdb280414",
         "Theone Pippenger",
         2009,
         15,
         299,
         550,
         "Classic"
        ],
        [
         "de3737e5c2c27919a271bcd99d85ebc07b8deae8891af1488da1dc36ca26ab36",
         "Ken Heidel",
         2011,
         13,
         251,
         550,
         "Gold"
        ],
        [
         "dedabc9b906ab54cfe64044e03821943d39da7a805a59a0a9246dbc717abca77",
         "Troy Staebel",
         2009,
         15,
         262,
         650,
         "Classic"
        ],
        [
         "df5aabb0681594bf702d66a73644c89142d16896ae12e4db4449f95d1ae49b07",
         "Logan Currie",
         2010,
         14,
         62,
         200,
         "Classic"
        ],
        [
         "df60f56011ee0e4bec293c63d138b301ca41d88ce8d58895f3f2d1fafff2daca",
         "Carl Weiss",
         2009,
         15,
         494,
         700,
         "Classic"
        ],
        [
         "dfebf711158d7f8c4b7373ced405a1b3d2230e3496b138608cab2022fd30f828",
         "Sean Christensen",
         2009,
         15,
         221,
         400,
         "Classic"
        ],
        [
         "dfedc9266ccc64f0993539b6b5a11536854550193b8f073582c83d60f4a88d12",
         "Trudy Brown",
         2009,
         15,
         256,
         500,
         "Classic"
        ],
        [
         "dfff7e512bc9808c866fe745c5dadb105e1767f691f3493001df201f28f3a9e5",
         "Aaron Smayling",
         2009,
         15,
         303,
         700,
         "Classic"
        ],
        [
         "e07691eb1317aa5e3c002298f8a3d2489d10be13b5fc82d475ba584950b82c8e",
         "Stefanie Holloman",
         2009,
         15,
         75,
         150,
         "Classic"
        ],
        [
         "e079a69bcaa9e92935a1ce70dea68bd30c38340ea7a85bc3163a7db2be5ba78b",
         "Annie Cyprus",
         2010,
         14,
         177,
         400,
         "Classic"
        ],
        [
         "e0c2ae24e3f33b1ae536637b80a22ac9ab5dc9bd361ac8f57fad235e9a14b356",
         "Raymond Fair",
         2009,
         15,
         353,
         550,
         "Classic"
        ],
        [
         "e0f0bdeae659777d59f9397e345e5befc6c1c79bc5ebb0baf07f4544ced8d5d8",
         "Art Miller",
         2009,
         15,
         245,
         650,
         "Classic"
        ],
        [
         "e105a2263af9b22edd50627f92a9777ea54fd28b9c75fa0b7c3d476e080d9a64",
         "Patrick O'Brill",
         2009,
         15,
         222,
         500,
         "Classic"
        ],
        [
         "e213a139f137c937b70fe3661670934ec8b73fa1e4d0f222a6c5c539658e58b2",
         "Patrick Ryan",
         2009,
         15,
         340,
         750,
         "Classic"
        ],
        [
         "e29fd1279d1f7f383acbf423f20d4fa7387a57445a07e704df9795bc0a43914b",
         "Alan Dominguez",
         2009,
         15,
         147,
         300,
         "Classic"
        ],
        [
         "e35ce57d66996f3d1bd87ffd50d50af3299d71622982142bb100a1cf1d988097",
         "Nancy Lomonaco",
         2009,
         15,
         248,
         400,
         "Classic"
        ],
        [
         "e3977419db2c5ccf6dcf4ce32b829e34e2166bd5280f9a666876543a5fef5cd9",
         "John Lee",
         2009,
         15,
         620,
         1100,
         "Daimond"
        ],
        [
         "e39b1ac45013d3a8b99122908792be79f9923f11ac95664d28c5099325fc11ed",
         "Brad Eason",
         2009,
         15,
         320,
         550,
         "Classic"
        ],
        [
         "e3d7debcd0f1723ea6e5c4dc89a7625f88c663946cdda4947f1eda110401ecc1",
         "Thomas Brumley",
         2009,
         15,
         164,
         350,
         "Classic"
        ],
        [
         "e422b7233ae24e15e9b5ad56ea7a616cd6d47de15358b481b08796bf857b39e7",
         "Helen Abelman",
         2010,
         14,
         219,
         300,
         "Classic"
        ],
        [
         "e45defa8ff402eb4525f7dd0c1d1f7c88125c618381a08cb2aed7c2493abc07f",
         "Maxwell Schwartz",
         2009,
         15,
         366,
         800,
         "Classic"
        ],
        [
         "e46496c049b16150daa029a38d5e2d45872f21874bbd1b53c924ef244e41dd1a",
         "Marc Harrigan",
         2009,
         15,
         82,
         150,
         "Classic"
        ],
        [
         "e502cb356ebcc731b14ff675c997ff8327af4c08b79e279c29a717177749f8df",
         "Maria Etezadi",
         2009,
         15,
         46,
         50,
         "Classic"
        ],
        [
         "e55306e7c128e7c51dc2e639e44757fdac51bf775189250567c14f344f9d5a7f",
         "Tiffany House",
         2010,
         14,
         17,
         100,
         "Classic"
        ],
        [
         "e587ed947d240cb3fd842448817ead87d15dbd1a14646a309b48d45c47f389a3",
         "Pamela Stobb",
         2009,
         15,
         227,
         400,
         "Classic"
        ],
        [
         "e59b0b5c95900cc8df3fedd36324978efe493b6fecd6fa7ace0faf2419ce6f9c",
         "Sally Knutson",
         2009,
         15,
         842,
         1550,
         "Daimond"
        ],
        [
         "e62f8bdf37a3f09c812068e4a182b58742e6c51e157b4adf381f543922134e41",
         "Anna Andreadi",
         2009,
         15,
         194,
         400,
         "Classic"
        ],
        [
         "e68c93f522de271ad9425ca92f6fd2f2a60914efec15282be800ce203a946bc1",
         "Mick Crebagga",
         2009,
         15,
         519,
         1200,
         "Daimond"
        ],
        [
         "e6be52d4bd64a14f6c3b7099c3f33fd33c60355963b901ba243a6640a720d293",
         "Andrew Gjertsen",
         2010,
         14,
         111,
         200,
         "Classic"
        ],
        [
         "e6cbdfc635de0b91fb14dd801711b867986e9b4059486dfb21736bef3f7b261e",
         "Nora Pelletier",
         2009,
         15,
         273,
         650,
         "Classic"
        ],
        [
         "e6f36f777e542f0db3536d714868a4bc4654fd14923c15e8e1587e164baf65f8",
         "Shirley Daniels",
         2012,
         12,
         132,
         250,
         "Gold"
        ],
        [
         "e77738b55aeee196a17d543165a6235bc371f4d822ffb6f3344ea43d83add736",
         "Jennifer Braxton",
         2009,
         15,
         199,
         500,
         "Classic"
        ],
        [
         "e7cc235d404dc503f972b702acf776f284000af78a91293f332f1ea83635cd85",
         "Ted Trevino",
         2010,
         14,
         111,
         300,
         "Classic"
        ],
        [
         "e80ed5b8a457305e98d57a560900821cee39d4901f3d97e3f8c5fcf176d114a5",
         "Art Ferguson",
         2009,
         15,
         345,
         600,
         "Classic"
        ],
        [
         "e8b4fcce8ab03bbc32fa885ab7428e2bbdd5ab77521d5e2398ad041eee560ed6",
         "Lena Cacioppo",
         2009,
         15,
         167,
         300,
         "Classic"
        ],
        [
         "e950fecebe8703c480d06a3580c1ab9fa6b040ee6bb8c95d7cc5cd65c425a188",
         "Cynthia Voltz",
         2009,
         15,
         194,
         300,
         "Classic"
        ],
        [
         "ead88de8401b74315d7b7e4f76899d000517e89fb7e846219d9609a15eb57a7f",
         "Ivan Liston",
         2010,
         14,
         345,
         650,
         "Platinum"
        ],
        [
         "ead931fb686965a780c500603df5f53a259406b14cb31b86c52ab20083874f3c",
         "Speros Goranitis",
         2009,
         15,
         158,
         400,
         "Classic"
        ],
        [
         "eb34d810bb5a3c11531b39288a09ba65276ac3677c2e89c6328352c217649075",
         "Annie Thurman",
         2009,
         15,
         400,
         950,
         "Classic"
        ],
        [
         "eb67c7828939e23045705ac660c5a4b95350caeac34d04ba8a1d33871d410471",
         "Elizabeth Moffitt",
         2009,
         15,
         146,
         350,
         "Classic"
        ],
        [
         "ebb43a06d0bdfaa3a610dd2731e5cb6d8875246a171032d2653785d06e6b2345",
         "Ann Steele",
         2009,
         15,
         257,
         500,
         "Classic"
        ],
        [
         "ec21e6eedb351709551dce40dac804dc82df203a8aa4a93493c55b00195f1a37",
         "Benjamin Farhat",
         2009,
         15,
         363,
         450,
         "Classic"
        ],
        [
         "ec256fdef770504292f993857b86aff8730e6c611d904bb08c7107909aa199bb",
         "Lena Creighton",
         2009,
         15,
         718,
         1600,
         "Daimond"
        ],
        [
         "ed5cd9d4bcee72bac2fb700053d76945a2f86c0b00c6ebb79d7291174c99ffc3",
         "Dean Katz",
         2009,
         15,
         73,
         350,
         "Classic"
        ],
        [
         "ed8c12f9b29b76fb3123683e4a3cee69ef886485fbf26d614f55c04b7865258b",
         "Tracy Blumstein",
         2009,
         15,
         247,
         500,
         "Classic"
        ],
        [
         "edd13398f89a35a5c747c9dfe46a9609e683abfb92e312c2eb03774b778bc155",
         "Tom Zandusky",
         2009,
         15,
         76,
         250,
         "Classic"
        ],
        [
         "ede70f867ee89362688eaf5b9d4548d156f66a923ef0cd26aaf4173254c67637",
         "Joseph Airdo",
         2009,
         15,
         365,
         750,
         "Classic"
        ],
        [
         "ee40b42cf6e355fb4d0b7a4e022071a979a08efa5077a744b312deb955a7490a",
         "Phillip Flathmann",
         2009,
         15,
         256,
         700,
         "Classic"
        ],
        [
         "ee46b0a165e2c84bf864146f949bfb307fa113920e5ec290fd4f03cc2b243dd8",
         "Laura Armstrong",
         2009,
         15,
         312,
         500,
         "Classic"
        ],
        [
         "ee5d792357f94844b9ca231d07c75523d12734fe6a6d2fd6cc617e7b78f6865d",
         "David Smith",
         2009,
         15,
         154,
         350,
         "Classic"
        ],
        [
         "ee9b4c17b1bc6ebf111c7259e29d38f4c8dfd7ec14e6d946ec01b6db59e7ca53",
         "Grant Donatelli",
         2009,
         15,
         156,
         300,
         "Classic"
        ],
        [
         "eeb3440e640aa9dc639334bec75af01115982db574cbcb197a41cbfc45495214",
         "Tom Prescott",
         2009,
         15,
         274,
         600,
         "Classic"
        ],
        [
         "eebbbf85f8124701c17eaabe23e4ab5634aec0a891bde86a27e7d258353eae05",
         "Eric Murdock",
         2010,
         14,
         82,
         200,
         "Classic"
        ],
        [
         "eef8b5133031d4c1712d2e7abfdeafd41ef35b39434a6ac27a76833692ee3835",
         "Matt Collister",
         2009,
         15,
         520,
         1050,
         "Daimond"
        ],
        [
         "ef0e05835305378c8f96d2f40508fc0ba13fe95cbc698d11171b63c9edbaea88",
         "Janet Molinari",
         2011,
         13,
         89,
         200,
         "Gold"
        ],
        [
         "ef31767a24d828837d28f04eaf204df006226335b80a0470fe4592444bc40ce5",
         "Michelle Ellison",
         2009,
         15,
         490,
         900,
         "Classic"
        ],
        [
         "efa8577bd6b338e9a55db90c35b056ca8f4a045ba8bac9e24930d8a55a9907e9",
         "Sandra Flanagan",
         2009,
         15,
         277,
         550,
         "Classic"
        ],
        [
         "efae66e4f73f907ca393bebda92f0750db7cfad2c4749a8c5fc1d06b7e5cec0a",
         "Linda Cazamias",
         2009,
         15,
         126,
         200,
         "Classic"
        ],
        [
         "efc30153cb2a01d373bbe38140d0f2e7c4702d795f99e31ab1364781b78ed4b5",
         "Cathy Armstrong",
         2009,
         15,
         355,
         650,
         "Classic"
        ],
        [
         "f021cdecd815b9ceb63ab2a7f06e16df379aa9667491d08552d7edc49fb922fe",
         "Jeremy Farry",
         2009,
         15,
         28,
         100,
         "Classic"
        ],
        [
         "f02c79c1acf2281c2639b13c50d41de50bf6bd8bba886fe5400605149ecb2db1",
         "Bruce Stewart",
         2009,
         15,
         254,
         500,
         "Classic"
        ],
        [
         "f0d8297e5fb0bc7b0c3e57ff21dc872a787aeae98dc4e346ab081a90c7e01393",
         "Peter Buhler",
         2009,
         15,
         175,
         300,
         "Classic"
        ],
        [
         "f143a4235116d3fea49521236a643063533d9e230a35b5e179aaabeea97d110c",
         "Victor Price",
         2009,
         15,
         78,
         300,
         "Classic"
        ],
        [
         "f19cf1573f886e457a5765972952e73085d708f591dccba60c544713c8bcdc29",
         "Aleksandra Gannaway",
         2009,
         15,
         556,
         1100,
         "Daimond"
        ],
        [
         "f1b8c08638f6c4d091ec43b31dd4f8eb6441381460f2d2886b884d7fcb940f55",
         "Vivek Gonzalez",
         2010,
         14,
         107,
         300,
         "Classic"
        ],
        [
         "f1bf9094de816501962455b066366f272efbdf728603efb0c4f8eb072fe85fd9",
         "Ed Braxton",
         2009,
         15,
         1058,
         2100,
         "Classic"
        ],
        [
         "f1ff5701f0d8ad129b4805706b4761e1b00ec441e41041d75c310edf87b8b68b",
         "Sanjit Engle",
         2009,
         15,
         78,
         150,
         "Classic"
        ],
        [
         "f2452bd17e6196290285937fb1335a1a326bd3250cdc5617f58f9b441abbba72",
         "Ann Blume",
         2009,
         15,
         205,
         400,
         "Classic"
        ],
        [
         "f2c2287051f97878d71cb72cde739403ade2d572d1cf01c3b1d353bad10af78d",
         "Patricia Hirasaki",
         2010,
         14,
         143,
         200,
         "Classic"
        ],
        [
         "f2ce20cf125c39b450ff8cf8517619f622cf753c59fb223f177c6f7f1165676f",
         "Meg Tillman",
         2009,
         15,
         377,
         600,
         "Classic"
        ],
        [
         "f2d69f1bfbac52e4237b5c8564ec8af969b383bde3734cca607a6358b592c473",
         "Aaron Bergman",
         2009,
         15,
         168,
         350,
         "Classic"
        ],
        [
         "f3a0ec7a67e8a8cc874835d7c638d892766ade2b994890d8817c707f264bc247",
         "Stewart Carmichael",
         2009,
         15,
         54,
         100,
         "Classic"
        ],
        [
         "f3a9eee4e1049652393d1edd60a370006d969342f7e33ebb5dd1ae4c615a2e2c",
         "Darren Budd",
         2009,
         15,
         1140,
         2250,
         "Classic"
        ],
        [
         "f3e8ecb08688f4079765541152f5125a18553ed24795165c58b65a7344bc1e17",
         "Darrin Martin",
         2009,
         15,
         171,
         300,
         "Classic"
        ],
        [
         "f3f6871f6b7fa3c90d5c2e3873086faf900cdd61ce7d389875c7e923aff372d9",
         "Adrian Shami",
         2009,
         15,
         130,
         300,
         "Classic"
        ],
        [
         "f44474bbd730e2746096005bba57352083f3b73873e7c1b4226334b53ab39bcd",
         "Logan Haushalter",
         2009,
         15,
         474,
         900,
         "Classic"
        ],
        [
         "f4c79c9a307478fc157b17603620b87ab7c9f92243a9ecf03724c4b61dac93c4",
         "Maria Bertelson",
         2009,
         15,
         600,
         1450,
         "Daimond"
        ],
        [
         "f5611d5c98f2b1d658fc13e8fe19ea2831fda59081e1e9e16e6161cda1d82643",
         "Andrew Roberts",
         2009,
         15,
         398,
         700,
         "Classic"
        ],
        [
         "f5d2400f40752f57a52c54aa4928b8fd6035aaafd94a930a1a4dd4b57d145966",
         "Eric Hoffmann",
         2009,
         15,
         194,
         350,
         "Classic"
        ],
        [
         "f5d6d689d87862d4e9dac2b294362623181d08cc4048afa7c7e40783804313f2",
         "Claire Good",
         2009,
         15,
         225,
         400,
         "Classic"
        ],
        [
         "f5f8d724e93d3a74426d05859ddf2cc33b15f3987f85bb9de1320a06eb835084",
         "Sam Craven",
         2010,
         14,
         242,
         500,
         "Classic"
        ],
        [
         "f65a81cada672536bddb32a10381e5066e59dd5148d40f4988aae0684d1738cf",
         "Robert Dilbeck",
         2009,
         15,
         166,
         250,
         "Classic"
        ],
        [
         "f6753bea3f3b104baa953ccce162c27d9c9d44e343711ddc725b518862c47c26",
         "Maris LaWare",
         2010,
         14,
         89,
         150,
         "Classic"
        ],
        [
         "f7ecbebf6248c064d326b629049af3c2fc35046cea386ef4fd4b45246eaca74a",
         "Toby Braunhardt",
         2009,
         15,
         89,
         150,
         "Classic"
        ],
        [
         "f8614def7e92b8becb66d5f2b86b119bda5fee5c1b45f21f8c89280de738aaea",
         "Dennis Bolton",
         2009,
         15,
         386,
         700,
         "Classic"
        ],
        [
         "f8e46813a2178992d9e806cdf78d379bfab891d44acf1ed4eef87366f0d54445",
         "Patrick Bzostek",
         2009,
         15,
         346,
         650,
         "Classic"
        ],
        [
         "f9416c6491274437b78122341ab9133f1f2f46287f1ebc295c7b852379caf486",
         "Sylvia Foulston",
         2009,
         15,
         707,
         1400,
         "Daimond"
        ],
        [
         "f95d7a252ead3cce31a2eb2198ed6bb1dbf9338ef5bab8dc8edb87eb9ac31e24",
         "Juliana Krohn",
         2009,
         15,
         323,
         750,
         "Classic"
        ],
        [
         "f9a0beb671bc49c12003d6bff8babde7d4484cadd13d2a60c27cfd9a58bcaf5a",
         "Max Engle",
         2009,
         15,
         200,
         500,
         "Classic"
        ],
        [
         "f9acadec6d678f959202c05e72864e6cccc2d58f2d1f097922ef40fccb06bf31",
         "Rick Huthwaite",
         2009,
         15,
         79,
         150,
         "Classic"
        ],
        [
         "f9ae065a880167d13b2d3c5c6fd4af36b410b46b0acf4eb056f42bb183123c23",
         "Kelly Williams",
         2009,
         15,
         305,
         650,
         "Classic"
        ],
        [
         "f9b162eb1a0a28817bac4c5faf615a9a5a30f9c46f933cebc61f75ff76704428",
         "Valerie Mitchum",
         2011,
         13,
         196,
         300,
         "Gold"
        ],
        [
         "f9c8983bee680e9f7b7bc1ae321477ad9e513abd0649e1675e080a58817c848e",
         "Carl Jackson",
         2010,
         14,
         197,
         400,
         "Classic"
        ],
        [
         "fa5fb627aa8dea5245984890f5d3f1c7f67ebab7bdf25b221ca547b12baef667",
         "Erica Hackney",
         2010,
         14,
         217,
         300,
         "Classic"
        ],
        [
         "fa898b2a261cc641a2666ffd9a548d57c54dd57911a64b9483f65b2b885140b1",
         "Eudokia Martin",
         2009,
         15,
         96,
         250,
         "Classic"
        ],
        [
         "faed9c1d6f256a7f1356fb045617203877ce645b6fc8e86cde72fdf2ee867224",
         "Carol Triggs",
         2009,
         15,
         258,
         550,
         "Classic"
        ],
        [
         "fb960f6625100c9b005be7f6dd7526455f25af0fc66897abcafecc567944c6f2",
         "Jason Gross",
         2010,
         14,
         51,
         150,
         "Classic"
        ],
        [
         "fbd09db34d922b3bee1aceab61a521602d8a395d0cdce9b9bb1392008e6ca7e2",
         "Jennifer Ferguson",
         2009,
         15,
         266,
         550,
         "Classic"
        ],
        [
         "fc0cf83af32ab0e822e4113a3108065f2302ebe03f1167b3054432a0a3aa0dd1",
         "Stewart Visinsky",
         2010,
         14,
         104,
         350,
         "Classic"
        ],
        [
         "fc4f363cb343fac8503852cd8e4efe4a3f924f0fc5d1d7c5bca02b212f7a5e8d",
         "Erin Creighton",
         2009,
         15,
         496,
         900,
         "Classic"
        ],
        [
         "fce7212c6ff39469b1be038fbaa449e1dcbc08e79c640ac8ccc469d3bb08ae1f",
         "Emily Burns",
         2010,
         14,
         51,
         150,
         "Classic"
        ],
        [
         "fce8555e26eccfa4ac658b9485897573814ff62da77be2afcb6f23dcb0bd63f5",
         "Naresj Patel",
         2009,
         15,
         414,
         700,
         "Classic"
        ],
        [
         "fd334b9964f3f132b4997ebae8f2fe349781e8da6bd2617524afb5a27d6b035f",
         "Chloris Kastensmidt",
         2009,
         15,
         114,
         200,
         "Classic"
        ],
        [
         "fd81089080dd4e8e8ac5da9f8d30965871221f89e56a5805a539464c71a95377",
         "Cari Schnelling",
         2010,
         14,
         159,
         350,
         "Classic"
        ],
        [
         "fd985ff1a9fcc2b2dd8772d3d9d0ceb52bfea459906ba64c1385b9cd1db6732a",
         "Alan Schoenberger",
         2009,
         15,
         320,
         500,
         "Classic"
        ],
        [
         "fdf12cd9ae1340466be391ce67a067f2a3b728ae0d8c305503e7ce7058d4d76e",
         "Roland Black",
         2009,
         15,
         206,
         450,
         "Classic"
        ],
        [
         "fe88da6a8e94228f1500b1c07ba113ba8650a660d7df30ea78b782da912034b1",
         "Thais Sissman",
         2009,
         15,
         473,
         1050,
         "Classic"
        ],
        [
         "ff2e26cf425394627667539a98f66a6bad2a07fe3fad2ed7b5f2d33051c33b26",
         "Rob Williams",
         2009,
         15,
         71,
         200,
         "Classic"
        ],
        [
         "ff79734b8b635c06e79d806b1e6ed26d7c755edfa1e40fac9d41a826232c81db",
         "Shahid Hopkins",
         2011,
         13,
         255,
         450,
         "Gold"
        ],
        [
         "ffabfb04840925384f7b019a832db453433cdae78f3f23be44cb8ec13596d72f",
         "Richard Bierner",
         2009,
         15,
         150,
         400,
         "Classic"
        ],
        [
         "1212e8749bdc3800d2514d8ae53c10b8cbe3a9e4355de5db35f746c510c4603e",
         "Charles McCrossin",
         2010,
         14,
         100,
         200,
         "Gold"
        ],
        [
         "1312e8749bdc3800d2514d8ae53c10b8cbe3a9e4355de5db35f746c510c4603e",
         "Andrew Tazas",
         2022,
         2,
         1,
         30,
         "Classic"
        ],
        [
         "07c41f7f8da2ed563ce0452e1d066605494817333732bafb29d6c596e6aeb39a",
         "Dave Kipp",
         2009,
         15,
         700,
         1100,
         "Platinum"
        ]
       ],
       "datasetInfos": [],
       "dbfsResultPath": null,
       "isJsonSchema": true,
       "metadata": {},
       "overflow": false,
       "plotOptions": {
        "customPlotOptions": {},
        "displayType": "table",
        "pivotAggregation": null,
        "pivotColumns": null,
        "xColumns": null,
        "yColumns": null
       },
       "removedWidgets": [],
       "schema": [
        {
         "metadata": "{}",
         "name": "customer_id",
         "type": "\"string\""
        },
        {
         "metadata": "{}",
         "name": "customer_name",
         "type": "\"string\""
        },
        {
         "metadata": "{}",
         "name": "customer_since",
         "type": "\"integer\""
        },
        {
         "metadata": "{}",
         "name": "total_years",
         "type": "\"integer\""
        },
        {
         "metadata": "{}",
         "name": "total_orders_count",
         "type": "\"integer\""
        },
        {
         "metadata": "{}",
         "name": "loyalty_points",
         "type": "\"integer\""
        },
        {
         "metadata": "{}",
         "name": "loyalty_type",
         "type": "\"string\""
        }
       ],
       "type": "table"
      }
     },
     "output_type": "display_data"
    }
   ],
   "source": [
    "%sql\n",
    "select * from sales.customer_loyalty_details"
   ]
  },
  {
   "cell_type": "code",
   "execution_count": 0,
   "metadata": {
    "application/vnd.databricks.v1+cell": {
     "cellMetadata": {
      "byteLimit": 2048000,
      "rowLimit": 10000
     },
     "inputWidgets": {},
     "nuid": "78cfab8a-3e8f-44fe-9459-e69acf6c5524",
     "showTitle": false,
     "title": ""
    }
   },
   "outputs": [
    {
     "output_type": "stream",
     "name": "stdout",
     "output_type": "stream",
     "text": [
      "+----------------------------------------------------------------+------------------+--------------+-----------+------------------+--------------+------------+\n|customer_id                                                     |customer_name     |customer_since|total_years|total_orders_count|loyalty_points|loyalty_type|\n+----------------------------------------------------------------+------------------+--------------+-----------+------------------+--------------+------------+\n|001492ac094ba3c986a45e7799a0409db64ed3c856e39cf16854012aa468fa01|Nick Crebassa     |2009          |15         |432               |650           |Classic     |\n|00fcf5c6646b01ce72417b854ad2ebcff2a73c4beec096c90dd9d1e60a7fd1e9|Barry Pond        |2010          |14         |227               |350           |Classic     |\n|0105946ed08fb4ccf5f3efcec88a83121bb5804c698b14f2ad20cf7dd2541f7f|Giulietta Weimer  |2009          |15         |492               |800           |Classic     |\n|018fc79fefdcb46768279300fb6e32f4e1e9f627ae99e3a672244d3052462e9b|Ashley Jarboe     |2009          |15         |495               |950           |Classic     |\n|01a041b0a5fbe79fb524be166ed14fc9f58054716ce63e9db05a67d35f767527|Christy Brittain  |2009          |15         |604               |1500          |Daimond     |\n|02c48608c84d4e55fff763c5fccac13bc5ceca8b7c7932cb8a826644840fc504|Bradley Talbott   |2010          |14         |92                |200           |Classic     |\n|033169eeb2aa318446ae8e8c8095650da8de9c0a48d3ea967e1b30d8102a6751|Chris Selesnick   |2009          |15         |153               |300           |Classic     |\n|0369ac17df128032c356845c2affa7514fec536015f9a12cd48e6adfc3067395|Yana Sorensen     |2009          |15         |153               |300           |Classic     |\n|03cb105570054c13f9cc768fa1462134f4ddbc8077501f712e3be987506ac10a|Erica Smith       |2009          |15         |375               |750           |Classic     |\n|03de3b10f1d1797fa42d5372db545dadd5aa777b823885979bdd09fa20e9660d|Jane Waco         |2010          |14         |217               |350           |Classic     |\n|043877670a01371fbcd859331f0b5e941cefe9c2849811cbfa302b719aca28e9|Anne McFarland    |2011          |13         |27                |100           |Gold        |\n|045f5df947412e50b9ed9c3d263192b6922fb22edb9d09dd0cb5f00699b9afd1|Bobby Elias       |2009          |15         |381               |800           |Classic     |\n|0484dd98ac6d61c6eaaecf48d3b5fe0ba26db2a3bc09dde14ef69cbc352d77f3|Brenda Bowman     |2010          |14         |227               |500           |Classic     |\n|04a25c05e08770e4e47788646336a5197d5637a6d1d8530f47a7542e1c848b7c|John Murray       |2009          |15         |342               |650           |Classic     |\n|04b4a7b0d0be27d672931d8cf2c335af25470b792a942bf3c53ae7c2321a4972|Dionis Lloyd      |2009          |15         |233               |550           |Classic     |\n|04b566a5700b9c9a660782824de3fae4a3f135f31a89c8d89035c278397a8998|Tonja Turnell     |2009          |15         |395               |700           |Classic     |\n|04e3af039f6f9cf64fe4e4d1be54cb6c4cbce4ef6929222f2fc509ea60568a14|Vivek Grady       |2009          |15         |552               |1350          |Daimond     |\n|04f42e90c8977b09fe318b42b5458d679cf2acc9669fbdba31ad08335a55248e|Lauren Leatherbury|2009          |15         |657               |1400          |Daimond     |\n|052c513c02579c9042cb5774784d8c5c8f06a2db63d7df5cbf596a5960a25c24|Bill Overfelt     |2009          |15         |296               |550           |Classic     |\n|059ae84db3a4e7d61daf4943cf7c7353a89541e58541d27babaaa4dfcf40d70e|Keith Dawkins     |2009          |15         |348               |900           |Classic     |\n+----------------------------------------------------------------+------------------+--------------+-----------+------------------+--------------+------------+\nonly showing top 20 rows\n\n"
     ]
    }
   ],
   "source": [
    "spark.sql(\n",
    "'''\n",
    "select * from sales.customer_loyalty_details\n",
    "'''\n",
    ").show(truncate=False)"
   ]
  },
  {
   "cell_type": "code",
   "execution_count": 0,
   "metadata": {
    "application/vnd.databricks.v1+cell": {
     "cellMetadata": {
      "byteLimit": 2048000,
      "rowLimit": 10000
     },
     "inputWidgets": {},
     "nuid": "976098bc-4dc7-4d94-b015-08187c76735e",
     "showTitle": false,
     "title": ""
    }
   },
   "outputs": [
    {
     "output_type": "stream",
     "name": "stdout",
     "output_type": "stream",
     "text": [
      "<class 'delta.tables.DeltaTable'>\n"
     ]
    }
   ],
   "source": [
    "# creating an instance of delta table\n",
    "from delta.tables import *\n",
    "\n",
    "customer_loyalty_details_instance = DeltaTable.forPath(spark, \"/FileStore/tables/delta-table-merge/customer_loyalty_details\")\n",
    "print(type(customer_loyalty_details_instance))"
   ]
  },
  {
   "cell_type": "code",
   "execution_count": 0,
   "metadata": {
    "application/vnd.databricks.v1+cell": {
     "cellMetadata": {
      "byteLimit": 2048000,
      "rowLimit": 10000
     },
     "inputWidgets": {},
     "nuid": "bf9d5f33-2799-4e2d-b484-0d652a66ab3d",
     "showTitle": false,
     "title": ""
    }
   },
   "outputs": [],
   "source": [
    "customer_loyalty_details_instance.alias(\"Target\") \\\n",
    "    .merge(\n",
    "        source=latest_customers_df.alias(\"Source\"),\n",
    "        condition=\"Target.customer_id == Source.customer_id\"\n",
    "    ) \\\n",
    "    .whenMatchedUpdate(\n",
    "        set={\n",
    "            \"customer_name\": \"Source.customer_name\",\n",
    "            \"customer_since\": \"Source.customer_since\",\n",
    "            \"total_years\": \"Source.total_years\",\n",
    "            \"total_orders_count\": \"Source.total_orders_count\",\n",
    "             \"loyalty_points\": \"Source.loyalty_points\",\n",
    "            \"loyalty_type\": \"Source.loyalty_type\"\n",
    "        }\n",
    "    ) \\\n",
    "    .whenNotMatchedInsert(\n",
    "        values={\n",
    "            \"customer_id\": \"Source.customer_id\",\n",
    "             \"customer_name\": \"Source.customer_name\",\n",
    "            \"customer_since\": \"Source.customer_since\",\n",
    "            \"total_years\": \"Source.total_years\",\n",
    "            \"total_orders_count\": \"Source.total_orders_count\",\n",
    "             \"loyalty_points\": \"Source.loyalty_points\",\n",
    "            \"loyalty_type\": \"Source.loyalty_type\"\n",
    "        }\n",
    "    ) \\\n",
    "    .execute()\n"
   ]
  },
  {
   "cell_type": "code",
   "execution_count": 0,
   "metadata": {
    "application/vnd.databricks.v1+cell": {
     "cellMetadata": {
      "byteLimit": 2048000,
      "implicitDf": true,
      "rowLimit": 10000
     },
     "inputWidgets": {},
     "nuid": "cbf9a24c-d024-4134-b554-1632a18ffc21",
     "showTitle": false,
     "title": ""
    }
   },
   "outputs": [
    {
     "output_type": "display_data",
     "data": {
      "text/html": [
       "<style scoped>\n",
       "  .table-result-container {\n",
       "    max-height: 300px;\n",
       "    overflow: auto;\n",
       "  }\n",
       "  table, th, td {\n",
       "    border: 1px solid black;\n",
       "    border-collapse: collapse;\n",
       "  }\n",
       "  th, td {\n",
       "    padding: 5px;\n",
       "  }\n",
       "  th {\n",
       "    text-align: left;\n",
       "  }\n",
       "</style><div class='table-result-container'><table class='table-result'><thead style='background-color: white'><tr><th>customer_id</th><th>customer_name</th><th>customer_since</th><th>total_years</th><th>total_orders_count</th><th>loyalty_points</th><th>loyalty_type</th></tr></thead><tbody><tr><td>001492ac094ba3c986a45e7799a0409db64ed3c856e39cf16854012aa468fa01</td><td>Nick Crebassa</td><td>2009</td><td>15</td><td>432</td><td>650</td><td>Classic</td></tr><tr><td>00fcf5c6646b01ce72417b854ad2ebcff2a73c4beec096c90dd9d1e60a7fd1e9</td><td>Barry Pond</td><td>2010</td><td>14</td><td>227</td><td>350</td><td>Classic</td></tr><tr><td>0105946ed08fb4ccf5f3efcec88a83121bb5804c698b14f2ad20cf7dd2541f7f</td><td>Giulietta Weimer</td><td>2009</td><td>15</td><td>492</td><td>800</td><td>Classic</td></tr><tr><td>018fc79fefdcb46768279300fb6e32f4e1e9f627ae99e3a672244d3052462e9b</td><td>Ashley Jarboe</td><td>2009</td><td>15</td><td>495</td><td>950</td><td>Classic</td></tr><tr><td>01a041b0a5fbe79fb524be166ed14fc9f58054716ce63e9db05a67d35f767527</td><td>Christy Brittain</td><td>2009</td><td>15</td><td>604</td><td>1500</td><td>Daimond</td></tr></tbody></table></div>"
      ]
     },
     "metadata": {
      "application/vnd.databricks.v1+output": {
       "addedWidgets": {},
       "aggData": [],
       "aggError": "",
       "aggOverflow": false,
       "aggSchema": [],
       "aggSeriesLimitReached": false,
       "aggType": "",
       "arguments": {},
       "columnCustomDisplayInfos": {},
       "data": [
        [
         "001492ac094ba3c986a45e7799a0409db64ed3c856e39cf16854012aa468fa01",
         "Nick Crebassa",
         2009,
         15,
         432,
         650,
         "Classic"
        ],
        [
         "00fcf5c6646b01ce72417b854ad2ebcff2a73c4beec096c90dd9d1e60a7fd1e9",
         "Barry Pond",
         2010,
         14,
         227,
         350,
         "Classic"
        ],
        [
         "0105946ed08fb4ccf5f3efcec88a83121bb5804c698b14f2ad20cf7dd2541f7f",
         "Giulietta Weimer",
         2009,
         15,
         492,
         800,
         "Classic"
        ],
        [
         "018fc79fefdcb46768279300fb6e32f4e1e9f627ae99e3a672244d3052462e9b",
         "Ashley Jarboe",
         2009,
         15,
         495,
         950,
         "Classic"
        ],
        [
         "01a041b0a5fbe79fb524be166ed14fc9f58054716ce63e9db05a67d35f767527",
         "Christy Brittain",
         2009,
         15,
         604,
         1500,
         "Daimond"
        ]
       ],
       "datasetInfos": [],
       "dbfsResultPath": null,
       "isJsonSchema": true,
       "metadata": {},
       "overflow": false,
       "plotOptions": {
        "customPlotOptions": {},
        "displayType": "table",
        "pivotAggregation": null,
        "pivotColumns": null,
        "xColumns": null,
        "yColumns": null
       },
       "removedWidgets": [],
       "schema": [
        {
         "metadata": "{}",
         "name": "customer_id",
         "type": "\"string\""
        },
        {
         "metadata": "{}",
         "name": "customer_name",
         "type": "\"string\""
        },
        {
         "metadata": "{}",
         "name": "customer_since",
         "type": "\"integer\""
        },
        {
         "metadata": "{}",
         "name": "total_years",
         "type": "\"integer\""
        },
        {
         "metadata": "{}",
         "name": "total_orders_count",
         "type": "\"integer\""
        },
        {
         "metadata": "{}",
         "name": "loyalty_points",
         "type": "\"integer\""
        },
        {
         "metadata": "{}",
         "name": "loyalty_type",
         "type": "\"string\""
        }
       ],
       "type": "table"
      }
     },
     "output_type": "display_data"
    }
   ],
   "source": [
    "%sql\n",
    "select * from sales.customer_loyalty_details limit 5"
   ]
  },
  {
   "cell_type": "code",
   "execution_count": 0,
   "metadata": {
    "application/vnd.databricks.v1+cell": {
     "cellMetadata": {
      "byteLimit": 2048000,
      "rowLimit": 10000
     },
     "inputWidgets": {},
     "nuid": "e66c99c9-1f4b-445f-9214-b735a90f06c8",
     "showTitle": false,
     "title": ""
    }
   },
   "outputs": [
    {
     "output_type": "stream",
     "name": "stdout",
     "output_type": "stream",
     "text": [
      "+----------------------------------------------------------------+----------------+--------------+-----------+------------------+--------------+------------+\n|customer_id                                                     |customer_name   |customer_since|total_years|total_orders_count|loyalty_points|loyalty_type|\n+----------------------------------------------------------------+----------------+--------------+-----------+------------------+--------------+------------+\n|001492ac094ba3c986a45e7799a0409db64ed3c856e39cf16854012aa468fa01|Nick Crebassa   |2009          |15         |432               |650           |Classic     |\n|00fcf5c6646b01ce72417b854ad2ebcff2a73c4beec096c90dd9d1e60a7fd1e9|Barry Pond      |2010          |14         |227               |350           |Classic     |\n|0105946ed08fb4ccf5f3efcec88a83121bb5804c698b14f2ad20cf7dd2541f7f|Giulietta Weimer|2009          |15         |492               |800           |Classic     |\n|018fc79fefdcb46768279300fb6e32f4e1e9f627ae99e3a672244d3052462e9b|Ashley Jarboe   |2009          |15         |495               |950           |Classic     |\n|01a041b0a5fbe79fb524be166ed14fc9f58054716ce63e9db05a67d35f767527|Christy Brittain|2009          |15         |604               |1500          |Daimond     |\n+----------------------------------------------------------------+----------------+--------------+-----------+------------------+--------------+------------+\n\n"
     ]
    }
   ],
   "source": [
    "spark.sql(\n",
    "'''\n",
    "select * from sales.customer_loyalty_details limit 5\n",
    "'''\n",
    ").show(truncate=False)"
   ]
  },
  {
   "cell_type": "code",
   "execution_count": 0,
   "metadata": {
    "application/vnd.databricks.v1+cell": {
     "cellMetadata": {
      "byteLimit": 2048000,
      "rowLimit": 10000
     },
     "inputWidgets": {},
     "nuid": "cd5a91d5-411a-4f4c-b7e8-bf2dd2d66ae5",
     "showTitle": false,
     "title": ""
    }
   },
   "outputs": [
    {
     "output_type": "stream",
     "name": "stdout",
     "output_type": "stream",
     "text": [
      "+-----------+-------------+--------------+-----------+------------------+--------------+------------+----------+----------+\n|customer_id|customer_name|customer_since|total_years|total_orders_count|loyalty_points|loyalty_type|order_date|row_number|\n+-----------+-------------+--------------+-----------+------------------+--------------+------------+----------+----------+\n+-----------+-------------+--------------+-----------+------------------+--------------+------------+----------+----------+\n\n"
     ]
    }
   ],
   "source": [
    "customers_loyalty_df.filter(\"customer_id = '1312e8749bdc3800d2514d8ae53c10b8cbe3a9e4355de5db35f746c510c4603e' \").show(truncate=False)"
   ]
  },
  {
   "cell_type": "code",
   "execution_count": 0,
   "metadata": {
    "application/vnd.databricks.v1+cell": {
     "cellMetadata": {
      "byteLimit": 2048000,
      "rowLimit": 10000
     },
     "inputWidgets": {},
     "nuid": "e2977fef-6c0c-40e4-865e-5cce423a8d45",
     "showTitle": false,
     "title": ""
    }
   },
   "outputs": [],
   "source": [
    "new_customer_data = [\n",
    "    ('07c41f7f8da2ed563ce0452e1d066605494817333732bafb29d6c596e6aeb39a', \"Dave Kipp\", 2009, 15,  600, 1100, 'Platinum', '2009-10-11' ),\n",
    "    ('1212e8749bdc3800d2514d8ae53c10b8cbe3a9e4355de5db35f746c510c4603e', \"Charles McCrossin\",  2010 , 14,  100, 200, 'Gold','2009-07-11'),\n",
    "    ('1312e8749bdc3800d2514d8ae53c10b8cbe3a9e4355de5db35f746c510c4603e', \"Andrew Tazas\",  2022, 2 , 1, 30, 'Classic','2009-10-13'),\n",
    "    ('07c41f7f8da2ed563ce0452e1d066605494817333732bafb29d6c596e6aeb39a', \"Dave Kipp\", 2009, 15,  700, 1100, 'Platinum','2010-11-11' ),\n",
    "]\n",
    "\n",
    "# Create DataFrame for new customer data\n",
    "new_customer_df = spark.createDataFrame(new_customer_data, ['customer_id', 'customer_name', 'customer_since', 'total_years', 'total_orders_count','loyalty_points','loyalty_type','order_date' ])\n",
    "new_customer_df = new_customer_df.withColumn(\"order_date\",to_date(\"order_date\"))"
   ]
  },
  {
   "cell_type": "code",
   "execution_count": 0,
   "metadata": {
    "application/vnd.databricks.v1+cell": {
     "cellMetadata": {
      "byteLimit": 2048000,
      "rowLimit": 10000
     },
     "inputWidgets": {},
     "nuid": "a6284cd4-6979-42e5-8c05-0f30c1b404d4",
     "showTitle": false,
     "title": ""
    }
   },
   "outputs": [
    {
     "output_type": "stream",
     "name": "stdout",
     "output_type": "stream",
     "text": [
      "+----------------------------------------------------------------+-----------------+--------------+-----------+------------------+--------------+------------+----------+\n|customer_id                                                     |customer_name    |customer_since|total_years|total_orders_count|loyalty_points|loyalty_type|order_date|\n+----------------------------------------------------------------+-----------------+--------------+-----------+------------------+--------------+------------+----------+\n|07c41f7f8da2ed563ce0452e1d066605494817333732bafb29d6c596e6aeb39a|Dave Kipp        |2009          |15         |600               |1100          |Platinum    |2009-10-11|\n|1212e8749bdc3800d2514d8ae53c10b8cbe3a9e4355de5db35f746c510c4603e|Charles McCrossin|2010          |14         |100               |200           |Gold        |2009-07-11|\n|1312e8749bdc3800d2514d8ae53c10b8cbe3a9e4355de5db35f746c510c4603e|Andrew Tazas     |2022          |2          |1                 |30            |Classic     |2009-10-13|\n|07c41f7f8da2ed563ce0452e1d066605494817333732bafb29d6c596e6aeb39a|Dave Kipp        |2009          |15         |700               |1100          |Platinum    |2010-11-11|\n+----------------------------------------------------------------+-----------------+--------------+-----------+------------------+--------------+------------+----------+\n\n"
     ]
    }
   ],
   "source": [
    "new_customer_df.show(truncate=False)"
   ]
  },
  {
   "cell_type": "code",
   "execution_count": 0,
   "metadata": {
    "application/vnd.databricks.v1+cell": {
     "cellMetadata": {
      "byteLimit": 2048000,
      "rowLimit": 10000
     },
     "inputWidgets": {},
     "nuid": "45506e8e-b3c5-4c14-8bc4-217bf4ffb11c",
     "showTitle": false,
     "title": ""
    }
   },
   "outputs": [],
   "source": [
    "new_customer_df = new_customer_df.withColumn(\"row_number\", row_number().over(\n",
    "    Window.partitionBy(\"customer_id\").orderBy(desc(\"order_date\"))\n",
    "    )\n",
    "                                   )\n",
    "new_customer_df = new_customer_df.filter(\"row_number == 1\").drop(\"rownumber\",\"order_date\")"
   ]
  },
  {
   "cell_type": "code",
   "execution_count": 0,
   "metadata": {
    "application/vnd.databricks.v1+cell": {
     "cellMetadata": {
      "byteLimit": 2048000,
      "rowLimit": 10000
     },
     "inputWidgets": {},
     "nuid": "53f5b0f3-2042-4259-85a7-20612a2cfbce",
     "showTitle": false,
     "title": ""
    }
   },
   "outputs": [
    {
     "output_type": "stream",
     "name": "stdout",
     "output_type": "stream",
     "text": [
      "+----------------------------------------------------------------+-----------------+--------------+-----------+------------------+--------------+------------+----------+\n|customer_id                                                     |customer_name    |customer_since|total_years|total_orders_count|loyalty_points|loyalty_type|row_number|\n+----------------------------------------------------------------+-----------------+--------------+-----------+------------------+--------------+------------+----------+\n|07c41f7f8da2ed563ce0452e1d066605494817333732bafb29d6c596e6aeb39a|Dave Kipp        |2009          |15         |700               |1100          |Platinum    |1         |\n|1212e8749bdc3800d2514d8ae53c10b8cbe3a9e4355de5db35f746c510c4603e|Charles McCrossin|2010          |14         |100               |200           |Gold        |1         |\n|1312e8749bdc3800d2514d8ae53c10b8cbe3a9e4355de5db35f746c510c4603e|Andrew Tazas     |2022          |2          |1                 |30            |Classic     |1         |\n+----------------------------------------------------------------+-----------------+--------------+-----------+------------------+--------------+------------+----------+\n\n"
     ]
    }
   ],
   "source": [
    "new_customer_df.show(truncate=False)"
   ]
  },
  {
   "cell_type": "code",
   "execution_count": 0,
   "metadata": {
    "application/vnd.databricks.v1+cell": {
     "cellMetadata": {
      "byteLimit": 2048000,
      "implicitDf": true,
      "rowLimit": 10000
     },
     "inputWidgets": {},
     "nuid": "4e685826-963b-4beb-a669-206e25f54c21",
     "showTitle": false,
     "title": ""
    }
   },
   "outputs": [
    {
     "output_type": "display_data",
     "data": {
      "text/html": [
       "<style scoped>\n",
       "  .table-result-container {\n",
       "    max-height: 300px;\n",
       "    overflow: auto;\n",
       "  }\n",
       "  table, th, td {\n",
       "    border: 1px solid black;\n",
       "    border-collapse: collapse;\n",
       "  }\n",
       "  th, td {\n",
       "    padding: 5px;\n",
       "  }\n",
       "  th {\n",
       "    text-align: left;\n",
       "  }\n",
       "</style><div class='table-result-container'><table class='table-result'><thead style='background-color: white'><tr><th>customer_id</th><th>customer_name</th><th>customer_since</th><th>total_years</th><th>total_orders_count</th><th>loyalty_points</th><th>loyalty_type</th></tr></thead><tbody><tr><td>07c41f7f8da2ed563ce0452e1d066605494817333732bafb29d6c596e6aeb39a</td><td>Dave Kipp</td><td>2009</td><td>15</td><td>408</td><td>700</td><td>Classic</td></tr><tr><td>1212e8749bdc3800d2514d8ae53c10b8cbe3a9e4355de5db35f746c510c4603e</td><td>Charles McCrossin</td><td>2010</td><td>14</td><td>248</td><td>350</td><td>Classic</td></tr><tr><td>1312e8749bdc3800d2514d8ae53c10b8cbe3a9e4355de5db35f746c510c4603e</td><td>Andrew Tazas</td><td>2022</td><td>2</td><td>1</td><td>30</td><td>Classic</td></tr></tbody></table></div>"
      ]
     },
     "metadata": {
      "application/vnd.databricks.v1+output": {
       "addedWidgets": {},
       "aggData": [],
       "aggError": "",
       "aggOverflow": false,
       "aggSchema": [],
       "aggSeriesLimitReached": false,
       "aggType": "",
       "arguments": {},
       "columnCustomDisplayInfos": {},
       "data": [
        [
         "07c41f7f8da2ed563ce0452e1d066605494817333732bafb29d6c596e6aeb39a",
         "Dave Kipp",
         2009,
         15,
         408,
         700,
         "Classic"
        ],
        [
         "1212e8749bdc3800d2514d8ae53c10b8cbe3a9e4355de5db35f746c510c4603e",
         "Charles McCrossin",
         2010,
         14,
         248,
         350,
         "Classic"
        ],
        [
         "1312e8749bdc3800d2514d8ae53c10b8cbe3a9e4355de5db35f746c510c4603e",
         "Andrew Tazas",
         2022,
         2,
         1,
         30,
         "Classic"
        ]
       ],
       "datasetInfos": [],
       "dbfsResultPath": null,
       "isJsonSchema": true,
       "metadata": {},
       "overflow": false,
       "plotOptions": {
        "customPlotOptions": {},
        "displayType": "table",
        "pivotAggregation": null,
        "pivotColumns": null,
        "xColumns": null,
        "yColumns": null
       },
       "removedWidgets": [],
       "schema": [
        {
         "metadata": "{}",
         "name": "customer_id",
         "type": "\"string\""
        },
        {
         "metadata": "{}",
         "name": "customer_name",
         "type": "\"string\""
        },
        {
         "metadata": "{}",
         "name": "customer_since",
         "type": "\"integer\""
        },
        {
         "metadata": "{}",
         "name": "total_years",
         "type": "\"integer\""
        },
        {
         "metadata": "{}",
         "name": "total_orders_count",
         "type": "\"integer\""
        },
        {
         "metadata": "{}",
         "name": "loyalty_points",
         "type": "\"integer\""
        },
        {
         "metadata": "{}",
         "name": "loyalty_type",
         "type": "\"string\""
        }
       ],
       "type": "table"
      }
     },
     "output_type": "display_data"
    }
   ],
   "source": [
    "%sql\n",
    "select * from sales.customer_loyalty_details where customer_id in ('07c41f7f8da2ed563ce0452e1d066605494817333732bafb29d6c596e6aeb39a','1212e8749bdc3800d2514d8ae53c10b8cbe3a9e4355de5db35f746c510c4603e','1312e8749bdc3800d2514d8ae53c10b8cbe3a9e4355de5db35f746c510c4603e')"
   ]
  },
  {
   "cell_type": "code",
   "execution_count": 0,
   "metadata": {
    "application/vnd.databricks.v1+cell": {
     "cellMetadata": {
      "byteLimit": 2048000,
      "rowLimit": 10000
     },
     "inputWidgets": {},
     "nuid": "82256496-90bb-4374-94dd-425d3a9593d1",
     "showTitle": false,
     "title": ""
    }
   },
   "outputs": [
    {
     "output_type": "stream",
     "name": "stdout",
     "output_type": "stream",
     "text": [
      "+----------------------------------------------------------------+-----------------+--------------+-----------+------------------+--------------+------------+\n|customer_id                                                     |customer_name    |customer_since|total_years|total_orders_count|loyalty_points|loyalty_type|\n+----------------------------------------------------------------+-----------------+--------------+-----------+------------------+--------------+------------+\n|07c41f7f8da2ed563ce0452e1d066605494817333732bafb29d6c596e6aeb39a|Dave Kipp        |2009          |15         |408               |700           |Classic     |\n|1212e8749bdc3800d2514d8ae53c10b8cbe3a9e4355de5db35f746c510c4603e|Charles McCrossin|2010          |14         |248               |350           |Classic     |\n|1312e8749bdc3800d2514d8ae53c10b8cbe3a9e4355de5db35f746c510c4603e|Andrew Tazas     |2022          |2          |1                 |30            |Classic     |\n+----------------------------------------------------------------+-----------------+--------------+-----------+------------------+--------------+------------+\n\n"
     ]
    }
   ],
   "source": [
    "spark.sql(\n",
    "    '''\n",
    "    select * from sales.customer_loyalty_details where customer_id in ('07c41f7f8da2ed563ce0452e1d066605494817333732bafb29d6c596e6aeb39a','1212e8749bdc3800d2514d8ae53c10b8cbe3a9e4355de5db35f746c510c4603e','1312e8749bdc3800d2514d8ae53c10b8cbe3a9e4355de5db35f746c510c4603e')\n",
    "    '''\n",
    ").show(truncate=False)"
   ]
  },
  {
   "cell_type": "code",
   "execution_count": 0,
   "metadata": {
    "application/vnd.databricks.v1+cell": {
     "cellMetadata": {
      "byteLimit": 2048000,
      "rowLimit": 10000
     },
     "inputWidgets": {},
     "nuid": "e4b0c5bf-7232-4564-bcff-1ea271b29cc4",
     "showTitle": false,
     "title": ""
    }
   },
   "outputs": [],
   "source": [
    "customer_loyalty_details_instance.alias(\"Target\") \\\n",
    "    .merge(\n",
    "        source=new_customer_df.alias(\"Source\"),\n",
    "        condition=\"Target.customer_id == Source.customer_id\"\n",
    "    ) \\\n",
    "    .whenMatchedUpdate(\n",
    "        set={\n",
    "            \"customer_name\": \"Source.customer_name\",\n",
    "            \"customer_since\": \"Source.customer_since\",\n",
    "            \"total_years\": \"Source.total_years\",\n",
    "            \"total_orders_count\": \"Source.total_orders_count\",\n",
    "             \"loyalty_points\": \"Source.loyalty_points\",\n",
    "            \"loyalty_type\": \"Source.loyalty_type\"\n",
    "        }\n",
    "    ) \\\n",
    "    .whenNotMatchedInsert(\n",
    "        values={\n",
    "            \"customer_id\": \"Source.customer_id\",\n",
    "             \"customer_name\": \"Source.customer_name\",\n",
    "            \"customer_since\": \"Source.customer_since\",\n",
    "            \"total_years\": \"Source.total_years\",\n",
    "            \"total_orders_count\": \"Source.total_orders_count\",\n",
    "             \"loyalty_points\": \"Source.loyalty_points\",\n",
    "            \"loyalty_type\": \"Source.loyalty_type\"\n",
    "        }\n",
    "    ) \\\n",
    "    .execute()"
   ]
  },
  {
   "cell_type": "code",
   "execution_count": 0,
   "metadata": {
    "application/vnd.databricks.v1+cell": {
     "cellMetadata": {
      "byteLimit": 2048000,
      "implicitDf": true,
      "rowLimit": 10000
     },
     "inputWidgets": {},
     "nuid": "7f41f33f-a746-40ec-af20-254a061b6c47",
     "showTitle": false,
     "title": ""
    }
   },
   "outputs": [
    {
     "output_type": "display_data",
     "data": {
      "text/html": [
       "<style scoped>\n",
       "  .table-result-container {\n",
       "    max-height: 300px;\n",
       "    overflow: auto;\n",
       "  }\n",
       "  table, th, td {\n",
       "    border: 1px solid black;\n",
       "    border-collapse: collapse;\n",
       "  }\n",
       "  th, td {\n",
       "    padding: 5px;\n",
       "  }\n",
       "  th {\n",
       "    text-align: left;\n",
       "  }\n",
       "</style><div class='table-result-container'><table class='table-result'><thead style='background-color: white'><tr><th>customer_id</th><th>customer_name</th><th>customer_since</th><th>total_years</th><th>total_orders_count</th><th>loyalty_points</th><th>loyalty_type</th></tr></thead><tbody><tr><td>07c41f7f8da2ed563ce0452e1d066605494817333732bafb29d6c596e6aeb39a</td><td>Dave Kipp</td><td>2009</td><td>15</td><td>700</td><td>1100</td><td>Platinum</td></tr><tr><td>1212e8749bdc3800d2514d8ae53c10b8cbe3a9e4355de5db35f746c510c4603e</td><td>Charles McCrossin</td><td>2010</td><td>14</td><td>100</td><td>200</td><td>Gold</td></tr><tr><td>1312e8749bdc3800d2514d8ae53c10b8cbe3a9e4355de5db35f746c510c4603e</td><td>Andrew Tazas</td><td>2022</td><td>2</td><td>1</td><td>30</td><td>Classic</td></tr></tbody></table></div>"
      ]
     },
     "metadata": {
      "application/vnd.databricks.v1+output": {
       "addedWidgets": {},
       "aggData": [],
       "aggError": "",
       "aggOverflow": false,
       "aggSchema": [],
       "aggSeriesLimitReached": false,
       "aggType": "",
       "arguments": {},
       "columnCustomDisplayInfos": {},
       "data": [
        [
         "07c41f7f8da2ed563ce0452e1d066605494817333732bafb29d6c596e6aeb39a",
         "Dave Kipp",
         2009,
         15,
         700,
         1100,
         "Platinum"
        ],
        [
         "1212e8749bdc3800d2514d8ae53c10b8cbe3a9e4355de5db35f746c510c4603e",
         "Charles McCrossin",
         2010,
         14,
         100,
         200,
         "Gold"
        ],
        [
         "1312e8749bdc3800d2514d8ae53c10b8cbe3a9e4355de5db35f746c510c4603e",
         "Andrew Tazas",
         2022,
         2,
         1,
         30,
         "Classic"
        ]
       ],
       "datasetInfos": [],
       "dbfsResultPath": null,
       "isJsonSchema": true,
       "metadata": {},
       "overflow": false,
       "plotOptions": {
        "customPlotOptions": {},
        "displayType": "table",
        "pivotAggregation": null,
        "pivotColumns": null,
        "xColumns": null,
        "yColumns": null
       },
       "removedWidgets": [],
       "schema": [
        {
         "metadata": "{}",
         "name": "customer_id",
         "type": "\"string\""
        },
        {
         "metadata": "{}",
         "name": "customer_name",
         "type": "\"string\""
        },
        {
         "metadata": "{}",
         "name": "customer_since",
         "type": "\"integer\""
        },
        {
         "metadata": "{}",
         "name": "total_years",
         "type": "\"integer\""
        },
        {
         "metadata": "{}",
         "name": "total_orders_count",
         "type": "\"integer\""
        },
        {
         "metadata": "{}",
         "name": "loyalty_points",
         "type": "\"integer\""
        },
        {
         "metadata": "{}",
         "name": "loyalty_type",
         "type": "\"string\""
        }
       ],
       "type": "table"
      }
     },
     "output_type": "display_data"
    }
   ],
   "source": [
    "%sql\n",
    "select * from sales.customer_loyalty_details where customer_id in ('07c41f7f8da2ed563ce0452e1d066605494817333732bafb29d6c596e6aeb39a','1212e8749bdc3800d2514d8ae53c10b8cbe3a9e4355de5db35f746c510c4603e','1312e8749bdc3800d2514d8ae53c10b8cbe3a9e4355de5db35f746c510c4603e')"
   ]
  },
  {
   "cell_type": "code",
   "execution_count": 0,
   "metadata": {
    "application/vnd.databricks.v1+cell": {
     "cellMetadata": {
      "byteLimit": 2048000,
      "rowLimit": 10000
     },
     "inputWidgets": {},
     "nuid": "57023931-e78a-4f7b-9572-44067130b03c",
     "showTitle": false,
     "title": ""
    }
   },
   "outputs": [
    {
     "output_type": "stream",
     "name": "stdout",
     "output_type": "stream",
     "text": [
      "+----------------------------------------------------------------+-----------------+--------------+-----------+------------------+--------------+------------+\n|customer_id                                                     |customer_name    |customer_since|total_years|total_orders_count|loyalty_points|loyalty_type|\n+----------------------------------------------------------------+-----------------+--------------+-----------+------------------+--------------+------------+\n|07c41f7f8da2ed563ce0452e1d066605494817333732bafb29d6c596e6aeb39a|Dave Kipp        |2009          |15         |700               |1100          |Platinum    |\n|1212e8749bdc3800d2514d8ae53c10b8cbe3a9e4355de5db35f746c510c4603e|Charles McCrossin|2010          |14         |100               |200           |Gold        |\n|1312e8749bdc3800d2514d8ae53c10b8cbe3a9e4355de5db35f746c510c4603e|Andrew Tazas     |2022          |2          |1                 |30            |Classic     |\n+----------------------------------------------------------------+-----------------+--------------+-----------+------------------+--------------+------------+\n\n"
     ]
    }
   ],
   "source": [
    "spark.sql(\n",
    "    '''\n",
    "    select * from sales.customer_loyalty_details where customer_id in ('07c41f7f8da2ed563ce0452e1d066605494817333732bafb29d6c596e6aeb39a','1212e8749bdc3800d2514d8ae53c10b8cbe3a9e4355de5db35f746c510c4603e','1312e8749bdc3800d2514d8ae53c10b8cbe3a9e4355de5db35f746c510c4603e')\n",
    "    '''\n",
    ").show(truncate=False)"
   ]
  }
 ],
 "metadata": {
  "application/vnd.databricks.v1+notebook": {
   "dashboards": [],
   "language": "python",
   "notebookMetadata": {
    "mostRecentlyExecutedCommandWithImplicitDF": {
     "commandId": 865580001142251,
     "dataframes": [
      "_sqldf"
     ]
    },
    "pythonIndentUnit": 4
   },
   "notebookName": "load_to_customer_loyalty_details_table",
   "widgets": {}
  }
 },
 "nbformat": 4,
 "nbformat_minor": 0
}
