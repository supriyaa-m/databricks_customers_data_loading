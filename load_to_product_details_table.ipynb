{
 "cells": [
  {
   "cell_type": "code",
   "execution_count": 0,
   "metadata": {
    "application/vnd.databricks.v1+cell": {
     "cellMetadata": {
      "byteLimit": 2048000,
      "rowLimit": 10000
     },
     "inputWidgets": {},
     "nuid": "5c25554c-a17f-4eae-bd12-ceb21a86a952",
     "showTitle": false,
     "title": ""
    }
   },
   "outputs": [],
   "source": [
    "file_location = \"/FileStore/tables/customers_refined.csv\"\n",
    "file_type = \"csv\""
   ]
  },
  {
   "cell_type": "code",
   "execution_count": 0,
   "metadata": {
    "application/vnd.databricks.v1+cell": {
     "cellMetadata": {
      "byteLimit": 2048000,
      "rowLimit": 10000
     },
     "inputWidgets": {},
     "nuid": "abe0ae79-2f0a-4e86-83ac-c1d19642c27e",
     "showTitle": false,
     "title": ""
    }
   },
   "outputs": [],
   "source": [
    "from pyspark.sql.functions import *\n",
    "from pyspark.sql.types import *\n",
    "from pyspark.sql.window import Window"
   ]
  },
  {
   "cell_type": "code",
   "execution_count": 0,
   "metadata": {
    "application/vnd.databricks.v1+cell": {
     "cellMetadata": {
      "byteLimit": 2048000,
      "rowLimit": 10000
     },
     "inputWidgets": {},
     "nuid": "fa8aa473-6d31-403b-b598-d98089504000",
     "showTitle": false,
     "title": ""
    }
   },
   "outputs": [],
   "source": [
    "df = spark.read.format('delta') \\\n",
    "  .load(file_location)"
   ]
  },
  {
   "cell_type": "code",
   "execution_count": 0,
   "metadata": {
    "application/vnd.databricks.v1+cell": {
     "cellMetadata": {
      "byteLimit": 2048000,
      "rowLimit": 10000
     },
     "inputWidgets": {},
     "nuid": "6b1e45cb-de3c-466c-b727-1c69f82818d2",
     "showTitle": false,
     "title": ""
    }
   },
   "outputs": [
    {
     "output_type": "stream",
     "name": "stdout",
     "output_type": "stream",
     "text": [
      "root\n |-- row_id: string (nullable = true)\n |-- order_id: string (nullable = true)\n |-- order_date: string (nullable = true)\n |-- order_priority: string (nullable = true)\n |-- order_quantity: long (nullable = true)\n |-- sales: float (nullable = true)\n |-- discount: float (nullable = true)\n |-- ship_mode: string (nullable = true)\n |-- profit: float (nullable = true)\n |-- unit_price: float (nullable = true)\n |-- shipping_cost: float (nullable = true)\n |-- customer_name: string (nullable = true)\n |-- province: string (nullable = true)\n |-- region: string (nullable = true)\n |-- customer_segment: string (nullable = true)\n |-- product_category: string (nullable = true)\n |-- product_sub_category: string (nullable = true)\n |-- product_name: string (nullable = true)\n |-- product_container: string (nullable = true)\n |-- ship_date: date (nullable = true)\n |-- loyalty_points: long (nullable = true)\n |-- loyalty_type: string (nullable = true)\n |-- customer_id: string (nullable = true)\n |-- total_orders_count: long (nullable = true)\n |-- customer_since: integer (nullable = true)\n |-- total_years: integer (nullable = true)\n\n"
     ]
    }
   ],
   "source": [
    "df.printSchema()"
   ]
  },
  {
   "cell_type": "code",
   "execution_count": 0,
   "metadata": {
    "application/vnd.databricks.v1+cell": {
     "cellMetadata": {
      "byteLimit": 2048000,
      "rowLimit": 10000
     },
     "inputWidgets": {},
     "nuid": "e67e5a04-f8fc-4c96-b364-3aa3b62a3838",
     "showTitle": false,
     "title": ""
    }
   },
   "outputs": [],
   "source": [
    "product_df = df.select('row_id','customer_id', 'order_id', 'order_date', 'product_category', 'product_sub_category', 'product_name','product_container')"
   ]
  },
  {
   "cell_type": "code",
   "execution_count": 0,
   "metadata": {
    "application/vnd.databricks.v1+cell": {
     "cellMetadata": {
      "byteLimit": 2048000,
      "rowLimit": 10000
     },
     "inputWidgets": {},
     "nuid": "40564019-2b6f-4a18-aa0f-c88726fe5228",
     "showTitle": false,
     "title": ""
    }
   },
   "outputs": [
    {
     "output_type": "display_data",
     "data": {
      "text/html": [
       "<style scoped>\n",
       "  .table-result-container {\n",
       "    max-height: 300px;\n",
       "    overflow: auto;\n",
       "  }\n",
       "  table, th, td {\n",
       "    border: 1px solid black;\n",
       "    border-collapse: collapse;\n",
       "  }\n",
       "  th, td {\n",
       "    padding: 5px;\n",
       "  }\n",
       "  th {\n",
       "    text-align: left;\n",
       "  }\n",
       "</style><div class='table-result-container'><table class='table-result'><thead style='background-color: white'><tr><th>row_id</th><th>customer_id</th><th>order_id</th><th>order_date</th><th>product_category</th><th>product_sub_category</th><th>product_name</th><th>product_container</th></tr></thead><tbody><tr><td>2533</td><td>001492ac094ba3c986a45e7799a0409db64ed3c856e39cf16854012aa468fa01</td><td>18374</td><td>2012-09-30 00:00:00</td><td>Office Supplies</td><td>Paper</td><td>Southworth Structures Collection�</td><td>Small Box</td></tr><tr><td>3548</td><td>001492ac094ba3c986a45e7799a0409db64ed3c856e39cf16854012aa468fa01</td><td>25314</td><td>2012-02-24 00:00:00</td><td>Technology</td><td>Telephones and Communication</td><td>Phone 918</td><td>Small Box</td></tr><tr><td>4364</td><td>001492ac094ba3c986a45e7799a0409db64ed3c856e39cf16854012aa468fa01</td><td>31106</td><td>2012-02-16 00:00:00</td><td>Office Supplies</td><td>Labels</td><td>Avery 494</td><td>Small Box</td></tr><tr><td>4365</td><td>001492ac094ba3c986a45e7799a0409db64ed3c856e39cf16854012aa468fa01</td><td>31106</td><td>2012-02-16 00:00:00</td><td>Furniture</td><td>Office Furnishings</td><td>Eldon� Executive Woodline II Desk Accessories, Mahogany</td><td>Small Box</td></tr><tr><td>4366</td><td>001492ac094ba3c986a45e7799a0409db64ed3c856e39cf16854012aa468fa01</td><td>31106</td><td>2012-02-16 00:00:00</td><td>Office Supplies</td><td>Scissors, Rulers and Trimmers</td><td>Acme� Preferred Stainless Steel Scissors</td><td>Small Pack</td></tr></tbody></table></div>"
      ]
     },
     "metadata": {
      "application/vnd.databricks.v1+output": {
       "addedWidgets": {},
       "aggData": [],
       "aggError": "",
       "aggOverflow": false,
       "aggSchema": [],
       "aggSeriesLimitReached": false,
       "aggType": "",
       "arguments": {},
       "columnCustomDisplayInfos": {},
       "data": [
        [
         "2533",
         "001492ac094ba3c986a45e7799a0409db64ed3c856e39cf16854012aa468fa01",
         "18374",
         "2012-09-30 00:00:00",
         "Office Supplies",
         "Paper",
         "Southworth Structures Collection�",
         "Small Box"
        ],
        [
         "3548",
         "001492ac094ba3c986a45e7799a0409db64ed3c856e39cf16854012aa468fa01",
         "25314",
         "2012-02-24 00:00:00",
         "Technology",
         "Telephones and Communication",
         "Phone 918",
         "Small Box"
        ],
        [
         "4364",
         "001492ac094ba3c986a45e7799a0409db64ed3c856e39cf16854012aa468fa01",
         "31106",
         "2012-02-16 00:00:00",
         "Office Supplies",
         "Labels",
         "Avery 494",
         "Small Box"
        ],
        [
         "4365",
         "001492ac094ba3c986a45e7799a0409db64ed3c856e39cf16854012aa468fa01",
         "31106",
         "2012-02-16 00:00:00",
         "Furniture",
         "Office Furnishings",
         "Eldon� Executive Woodline II Desk Accessories, Mahogany",
         "Small Box"
        ],
        [
         "4366",
         "001492ac094ba3c986a45e7799a0409db64ed3c856e39cf16854012aa468fa01",
         "31106",
         "2012-02-16 00:00:00",
         "Office Supplies",
         "Scissors, Rulers and Trimmers",
         "Acme� Preferred Stainless Steel Scissors",
         "Small Pack"
        ]
       ],
       "datasetInfos": [],
       "dbfsResultPath": null,
       "isJsonSchema": true,
       "metadata": {},
       "overflow": false,
       "plotOptions": {
        "customPlotOptions": {},
        "displayType": "table",
        "pivotAggregation": null,
        "pivotColumns": null,
        "xColumns": null,
        "yColumns": null
       },
       "removedWidgets": [],
       "schema": [
        {
         "metadata": "{}",
         "name": "row_id",
         "type": "\"string\""
        },
        {
         "metadata": "{}",
         "name": "customer_id",
         "type": "\"string\""
        },
        {
         "metadata": "{}",
         "name": "order_id",
         "type": "\"string\""
        },
        {
         "metadata": "{}",
         "name": "order_date",
         "type": "\"string\""
        },
        {
         "metadata": "{}",
         "name": "product_category",
         "type": "\"string\""
        },
        {
         "metadata": "{}",
         "name": "product_sub_category",
         "type": "\"string\""
        },
        {
         "metadata": "{}",
         "name": "product_name",
         "type": "\"string\""
        },
        {
         "metadata": "{}",
         "name": "product_container",
         "type": "\"string\""
        }
       ],
       "type": "table"
      }
     },
     "output_type": "display_data"
    }
   ],
   "source": [
    "product_df.limit(5).display()"
   ]
  },
  {
   "cell_type": "code",
   "execution_count": 0,
   "metadata": {
    "application/vnd.databricks.v1+cell": {
     "cellMetadata": {
      "byteLimit": 2048000,
      "rowLimit": 10000
     },
     "inputWidgets": {},
     "nuid": "af7eda5b-fb47-4948-adf9-fef91112a06d",
     "showTitle": false,
     "title": ""
    }
   },
   "outputs": [],
   "source": [
    "product_df = product_df.withColumn(\"row_id\", col(\"row_id\").cast(\"long\")) \\\n",
    "                     .withColumn(\"order_date\", to_date(\"order_date\")) \\\n",
    "                     .withColumn(\"order_id\", col(\"order_id\").cast(\"long\"))"
   ]
  },
  {
   "cell_type": "code",
   "execution_count": 0,
   "metadata": {
    "application/vnd.databricks.v1+cell": {
     "cellMetadata": {
      "byteLimit": 2048000,
      "rowLimit": 10000
     },
     "inputWidgets": {},
     "nuid": "c4353743-f417-4dc4-b86c-2df658398968",
     "showTitle": false,
     "title": ""
    }
   },
   "outputs": [
    {
     "output_type": "stream",
     "name": "stdout",
     "output_type": "stream",
     "text": [
      "root\n |-- row_id: long (nullable = true)\n |-- customer_id: string (nullable = true)\n |-- order_id: long (nullable = true)\n |-- order_date: date (nullable = true)\n |-- product_category: string (nullable = true)\n |-- product_sub_category: string (nullable = true)\n |-- product_name: string (nullable = true)\n |-- product_container: string (nullable = true)\n\n"
     ]
    }
   ],
   "source": [
    "product_df.printSchema()"
   ]
  },
  {
   "cell_type": "code",
   "execution_count": 0,
   "metadata": {
    "application/vnd.databricks.v1+cell": {
     "cellMetadata": {
      "byteLimit": 2048000,
      "rowLimit": 10000
     },
     "inputWidgets": {},
     "nuid": "e4209498-42b8-49f7-86b5-2b93a6952099",
     "showTitle": false,
     "title": ""
    }
   },
   "outputs": [],
   "source": [
    "# product details will be updated as and when customer makes a purchase\n",
    "schema = StructType([\n",
    "    StructField(\"row_id\", IntegerType(), True),  \n",
    "    StructField(\"customer_id\", StringType(), True), \n",
    "    StructField(\"order_id\", IntegerType(), True), \n",
    "    StructField(\"order_date\", StringType(), True), \n",
    "    StructField(\"product_category\", StringType(), True), \n",
    "    StructField(\"product_sub_category\", StringType(), True), \n",
    "    StructField(\"product_name\", StringType(), True) ,\n",
    "    StructField(\"product_container\", StringType(), True) \n",
    "])\n",
    "new_products_data = [\n",
    "    (8400,\"07de8c2693a047311aac3bb2e1a7bf301d9e290b04431926048d92a40e3bbfd1\", 59974 ,'2024-04-28','Furniture', \"Office Furnitures\",\"Desk accessories\",\"Small Box\"),\n",
    "    (8401,\"1212e8749bdc3800d2514d8ae53c10b8cbe3a9e4355de5db35f746c510c4603f\", 59975 ,'2024-04-30','Technology',\"Communication\",\"Telephone\",\"Small Box\")\n",
    "]\n",
    "\n",
    "# Create DataFrame for new order data\n",
    "new_products_df = spark.createDataFrame(new_products_data,schema).withColumn(\"order_date\", to_date(\"order_date\"))"
   ]
  },
  {
   "cell_type": "code",
   "execution_count": 0,
   "metadata": {
    "application/vnd.databricks.v1+cell": {
     "cellMetadata": {
      "byteLimit": 2048000,
      "rowLimit": 10000
     },
     "inputWidgets": {},
     "nuid": "c2b61e94-4c6c-4f2b-9176-f89b62d6a8ed",
     "showTitle": false,
     "title": ""
    }
   },
   "outputs": [],
   "source": [
    "product_df = product_df.union(new_products_df)"
   ]
  },
  {
   "cell_type": "code",
   "execution_count": 0,
   "metadata": {
    "application/vnd.databricks.v1+cell": {
     "cellMetadata": {
      "byteLimit": 2048000,
      "rowLimit": 10000
     },
     "inputWidgets": {},
     "nuid": "28a0d38f-8499-4afe-9983-ecc1c880d781",
     "showTitle": false,
     "title": ""
    }
   },
   "outputs": [],
   "source": [
    "product_df.createOrReplaceTempView('products_dtls_vw')"
   ]
  },
  {
   "cell_type": "code",
   "execution_count": 0,
   "metadata": {
    "application/vnd.databricks.v1+cell": {
     "cellMetadata": {
      "byteLimit": 2048000,
      "implicitDf": true,
      "rowLimit": 10000
     },
     "inputWidgets": {},
     "nuid": "3c720dec-ccf0-4172-bf31-337686e7585b",
     "showTitle": false,
     "title": ""
    }
   },
   "outputs": [
    {
     "output_type": "display_data",
     "data": {
      "text/html": [
       "<style scoped>\n",
       "  .table-result-container {\n",
       "    max-height: 300px;\n",
       "    overflow: auto;\n",
       "  }\n",
       "  table, th, td {\n",
       "    border: 1px solid black;\n",
       "    border-collapse: collapse;\n",
       "  }\n",
       "  th, td {\n",
       "    padding: 5px;\n",
       "  }\n",
       "  th {\n",
       "    text-align: left;\n",
       "  }\n",
       "</style><div class='table-result-container'><table class='table-result'><thead style='background-color: white'><tr><th>count(1)</th></tr></thead><tbody><tr><td>8115</td></tr></tbody></table></div>"
      ]
     },
     "metadata": {
      "application/vnd.databricks.v1+output": {
       "addedWidgets": {},
       "aggData": [],
       "aggError": "",
       "aggOverflow": false,
       "aggSchema": [],
       "aggSeriesLimitReached": false,
       "aggType": "",
       "arguments": {},
       "columnCustomDisplayInfos": {},
       "data": [
        [
         8115
        ]
       ],
       "datasetInfos": [],
       "dbfsResultPath": null,
       "isJsonSchema": true,
       "metadata": {},
       "overflow": false,
       "plotOptions": {
        "customPlotOptions": {},
        "displayType": "table",
        "pivotAggregation": null,
        "pivotColumns": null,
        "xColumns": null,
        "yColumns": null
       },
       "removedWidgets": [],
       "schema": [
        {
         "metadata": "{\"__autoGeneratedAlias\":\"true\"}",
         "name": "count(1)",
         "type": "\"long\""
        }
       ],
       "type": "table"
      }
     },
     "output_type": "display_data"
    }
   ],
   "source": [
    "%sql\n",
    "select count(*) from sales.orders_details where order_status = 'Completed'"
   ]
  },
  {
   "cell_type": "code",
   "execution_count": 0,
   "metadata": {
    "application/vnd.databricks.v1+cell": {
     "cellMetadata": {
      "byteLimit": 2048000,
      "implicitDf": true,
      "rowLimit": 10000
     },
     "inputWidgets": {},
     "nuid": "406e90a2-f45a-40af-8970-7a2ed64fb838",
     "showTitle": false,
     "title": ""
    }
   },
   "outputs": [
    {
     "output_type": "display_data",
     "data": {
      "text/html": [
       "<style scoped>\n",
       "  .table-result-container {\n",
       "    max-height: 300px;\n",
       "    overflow: auto;\n",
       "  }\n",
       "  table, th, td {\n",
       "    border: 1px solid black;\n",
       "    border-collapse: collapse;\n",
       "  }\n",
       "  th, td {\n",
       "    padding: 5px;\n",
       "  }\n",
       "  th {\n",
       "    text-align: left;\n",
       "  }\n",
       "</style><div class='table-result-container'><table class='table-result'><thead style='background-color: white'><tr><th>row_id</th><th>customer_id</th><th>order_id</th><th>order_date</th><th>ship_date</th><th>order_priority</th><th>order_quantity</th><th>order_status</th></tr></thead><tbody><tr><td>8402</td><td>1212e8749bdc3800d2514d8ae53c10b8cbe3a9e4355de5db35f746c510c4603f</td><td>59975</td><td>2024-04-30</td><td>null</td><td>Low</td><td>10</td><td>In Progress</td></tr><tr><td>8401</td><td>1212e8749bdc3800d2514d8ae53c10b8cbe3a9e4355de5db35f746c510c4603f</td><td>59975</td><td>2024-04-30</td><td>null</td><td>Low</td><td>10</td><td>In Progress</td></tr></tbody></table></div>"
      ]
     },
     "metadata": {
      "application/vnd.databricks.v1+output": {
       "addedWidgets": {},
       "aggData": [],
       "aggError": "",
       "aggOverflow": false,
       "aggSchema": [],
       "aggSeriesLimitReached": false,
       "aggType": "",
       "arguments": {},
       "columnCustomDisplayInfos": {},
       "data": [
        [
         8402,
         "1212e8749bdc3800d2514d8ae53c10b8cbe3a9e4355de5db35f746c510c4603f",
         59975,
         "2024-04-30",
         null,
         "Low",
         10,
         "In Progress"
        ],
        [
         8401,
         "1212e8749bdc3800d2514d8ae53c10b8cbe3a9e4355de5db35f746c510c4603f",
         59975,
         "2024-04-30",
         null,
         "Low",
         10,
         "In Progress"
        ]
       ],
       "datasetInfos": [],
       "dbfsResultPath": null,
       "isJsonSchema": true,
       "metadata": {},
       "overflow": false,
       "plotOptions": {
        "customPlotOptions": {},
        "displayType": "table",
        "pivotAggregation": null,
        "pivotColumns": null,
        "xColumns": null,
        "yColumns": null
       },
       "removedWidgets": [],
       "schema": [
        {
         "metadata": "{}",
         "name": "row_id",
         "type": "\"integer\""
        },
        {
         "metadata": "{}",
         "name": "customer_id",
         "type": "\"string\""
        },
        {
         "metadata": "{}",
         "name": "order_id",
         "type": "\"integer\""
        },
        {
         "metadata": "{}",
         "name": "order_date",
         "type": "\"date\""
        },
        {
         "metadata": "{}",
         "name": "ship_date",
         "type": "\"date\""
        },
        {
         "metadata": "{}",
         "name": "order_priority",
         "type": "\"string\""
        },
        {
         "metadata": "{}",
         "name": "order_quantity",
         "type": "\"integer\""
        },
        {
         "metadata": "{}",
         "name": "order_status",
         "type": "\"string\""
        }
       ],
       "type": "table"
      }
     },
     "output_type": "display_data"
    }
   ],
   "source": [
    "%sql\n",
    "select * from sales.orders_details where customer_id='1212e8749bdc3800d2514d8ae53c10b8cbe3a9e4355de5db35f746c510c4603f'"
   ]
  },
  {
   "cell_type": "code",
   "execution_count": 0,
   "metadata": {
    "application/vnd.databricks.v1+cell": {
     "cellMetadata": {
      "byteLimit": 2048000,
      "implicitDf": true,
      "rowLimit": 10000
     },
     "inputWidgets": {},
     "nuid": "7b1f7f17-c0ae-499a-83ae-c82881585b20",
     "showTitle": false,
     "title": ""
    }
   },
   "outputs": [
    {
     "output_type": "display_data",
     "data": {
      "text/html": [
       "<style scoped>\n",
       "  .table-result-container {\n",
       "    max-height: 300px;\n",
       "    overflow: auto;\n",
       "  }\n",
       "  table, th, td {\n",
       "    border: 1px solid black;\n",
       "    border-collapse: collapse;\n",
       "  }\n",
       "  th, td {\n",
       "    padding: 5px;\n",
       "  }\n",
       "  th {\n",
       "    text-align: left;\n",
       "  }\n",
       "</style><div class='table-result-container'><table class='table-result'><thead style='background-color: white'><tr><th>row_id</th><th>customer_id</th><th>order_id</th><th>order_date</th><th>product_category</th><th>product_sub_category</th><th>product_name</th><th>product_container</th></tr></thead><tbody><tr><td>2533</td><td>001492ac094ba3c986a45e7799a0409db64ed3c856e39cf16854012aa468fa01</td><td>18374</td><td>2012-09-30</td><td>Office Supplies</td><td>Paper</td><td>Southworth Structures Collection�</td><td>Small Box</td></tr><tr><td>3548</td><td>001492ac094ba3c986a45e7799a0409db64ed3c856e39cf16854012aa468fa01</td><td>25314</td><td>2012-02-24</td><td>Technology</td><td>Telephones and Communication</td><td>Phone 918</td><td>Small Box</td></tr><tr><td>4364</td><td>001492ac094ba3c986a45e7799a0409db64ed3c856e39cf16854012aa468fa01</td><td>31106</td><td>2012-02-16</td><td>Office Supplies</td><td>Labels</td><td>Avery 494</td><td>Small Box</td></tr><tr><td>4365</td><td>001492ac094ba3c986a45e7799a0409db64ed3c856e39cf16854012aa468fa01</td><td>31106</td><td>2012-02-16</td><td>Furniture</td><td>Office Furnishings</td><td>Eldon� Executive Woodline II Desk Accessories, Mahogany</td><td>Small Box</td></tr><tr><td>4366</td><td>001492ac094ba3c986a45e7799a0409db64ed3c856e39cf16854012aa468fa01</td><td>31106</td><td>2012-02-16</td><td>Office Supplies</td><td>Scissors, Rulers and Trimmers</td><td>Acme� Preferred Stainless Steel Scissors</td><td>Small Pack</td></tr></tbody></table></div>"
      ]
     },
     "metadata": {
      "application/vnd.databricks.v1+output": {
       "addedWidgets": {},
       "aggData": [],
       "aggError": "",
       "aggOverflow": false,
       "aggSchema": [],
       "aggSeriesLimitReached": false,
       "aggType": "",
       "arguments": {},
       "columnCustomDisplayInfos": {},
       "data": [
        [
         2533,
         "001492ac094ba3c986a45e7799a0409db64ed3c856e39cf16854012aa468fa01",
         18374,
         "2012-09-30",
         "Office Supplies",
         "Paper",
         "Southworth Structures Collection�",
         "Small Box"
        ],
        [
         3548,
         "001492ac094ba3c986a45e7799a0409db64ed3c856e39cf16854012aa468fa01",
         25314,
         "2012-02-24",
         "Technology",
         "Telephones and Communication",
         "Phone 918",
         "Small Box"
        ],
        [
         4364,
         "001492ac094ba3c986a45e7799a0409db64ed3c856e39cf16854012aa468fa01",
         31106,
         "2012-02-16",
         "Office Supplies",
         "Labels",
         "Avery 494",
         "Small Box"
        ],
        [
         4365,
         "001492ac094ba3c986a45e7799a0409db64ed3c856e39cf16854012aa468fa01",
         31106,
         "2012-02-16",
         "Furniture",
         "Office Furnishings",
         "Eldon� Executive Woodline II Desk Accessories, Mahogany",
         "Small Box"
        ],
        [
         4366,
         "001492ac094ba3c986a45e7799a0409db64ed3c856e39cf16854012aa468fa01",
         31106,
         "2012-02-16",
         "Office Supplies",
         "Scissors, Rulers and Trimmers",
         "Acme� Preferred Stainless Steel Scissors",
         "Small Pack"
        ]
       ],
       "datasetInfos": [],
       "dbfsResultPath": null,
       "isJsonSchema": true,
       "metadata": {},
       "overflow": false,
       "plotOptions": {
        "customPlotOptions": {},
        "displayType": "table",
        "pivotAggregation": null,
        "pivotColumns": null,
        "xColumns": null,
        "yColumns": null
       },
       "removedWidgets": [],
       "schema": [
        {
         "metadata": "{}",
         "name": "row_id",
         "type": "\"long\""
        },
        {
         "metadata": "{}",
         "name": "customer_id",
         "type": "\"string\""
        },
        {
         "metadata": "{}",
         "name": "order_id",
         "type": "\"long\""
        },
        {
         "metadata": "{}",
         "name": "order_date",
         "type": "\"date\""
        },
        {
         "metadata": "{}",
         "name": "product_category",
         "type": "\"string\""
        },
        {
         "metadata": "{}",
         "name": "product_sub_category",
         "type": "\"string\""
        },
        {
         "metadata": "{}",
         "name": "product_name",
         "type": "\"string\""
        },
        {
         "metadata": "{}",
         "name": "product_container",
         "type": "\"string\""
        }
       ],
       "type": "table"
      }
     },
     "output_type": "display_data"
    }
   ],
   "source": [
    "%sql\n",
    "select \n",
    "p.row_id,\n",
    "p.customer_id,\n",
    "p.order_id,\n",
    "o.order_date,\n",
    "p.product_category, \n",
    "p.product_sub_category,\n",
    "p.product_name,\n",
    "p.product_container\n",
    "from \n",
    "sales.orders_details o,\n",
    "products_dtls_vw p\n",
    "where 1=1\n",
    "and o.row_id = p.row_id\n",
    "and o.order_status = 'Completed'\n",
    "limit 5"
   ]
  },
  {
   "cell_type": "code",
   "execution_count": 0,
   "metadata": {
    "application/vnd.databricks.v1+cell": {
     "cellMetadata": {
      "byteLimit": 2048000,
      "implicitDf": true,
      "rowLimit": 10000
     },
     "inputWidgets": {},
     "nuid": "3975ebaf-cd32-405f-bcd3-7884082bacec",
     "showTitle": false,
     "title": ""
    }
   },
   "outputs": [
    {
     "output_type": "display_data",
     "data": {
      "text/html": [
       "<style scoped>\n",
       "  .table-result-container {\n",
       "    max-height: 300px;\n",
       "    overflow: auto;\n",
       "  }\n",
       "  table, th, td {\n",
       "    border: 1px solid black;\n",
       "    border-collapse: collapse;\n",
       "  }\n",
       "  th, td {\n",
       "    padding: 5px;\n",
       "  }\n",
       "  th {\n",
       "    text-align: left;\n",
       "  }\n",
       "</style><div class='table-result-container'><table class='table-result'><thead style='background-color: white'><tr></tr></thead><tbody></tbody></table></div>"
      ]
     },
     "metadata": {
      "application/vnd.databricks.v1+output": {
       "addedWidgets": {},
       "aggData": [],
       "aggError": "",
       "aggOverflow": false,
       "aggSchema": [],
       "aggSeriesLimitReached": false,
       "aggType": "",
       "arguments": {},
       "columnCustomDisplayInfos": {},
       "data": [],
       "datasetInfos": [],
       "dbfsResultPath": null,
       "isJsonSchema": true,
       "metadata": {},
       "overflow": false,
       "plotOptions": {
        "customPlotOptions": {},
        "displayType": "table",
        "pivotAggregation": null,
        "pivotColumns": null,
        "xColumns": null,
        "yColumns": null
       },
       "removedWidgets": [],
       "schema": [],
       "type": "table"
      }
     },
     "output_type": "display_data"
    }
   ],
   "source": [
    "%sql\n",
    "CREATE OR REPLACE TABLE sales.product_details\n",
    "(\n",
    "    product_id LONG,\n",
    "    customer_id STRING,\n",
    "    product_order_id LONG,\n",
    "    product_order_date DATE,\n",
    "    product_category STRING,\n",
    "    product_sub_category STRING,\n",
    "    product_name STRING,\n",
    "    product_container STRING\n",
    ")\n",
    "USING DELTA\n",
    "LOCATION '/FileStore/tables/delta-table-merge/product_details';"
   ]
  },
  {
   "cell_type": "code",
   "execution_count": 0,
   "metadata": {
    "application/vnd.databricks.v1+cell": {
     "cellMetadata": {
      "byteLimit": 2048000,
      "rowLimit": 10000
     },
     "inputWidgets": {},
     "nuid": "396c8052-4839-4632-a059-4163678c7b8d",
     "showTitle": false,
     "title": ""
    }
   },
   "outputs": [],
   "source": [
    "products_order_df = spark.sql(\n",
    "''' \n",
    "select \n",
    "p.row_id as product_id,\n",
    "p.customer_id,\n",
    "p.order_id as product_order_id,\n",
    "o.order_date as product_order_date,\n",
    "p.product_category, \n",
    "p.product_sub_category,\n",
    "p.product_name,\n",
    "p.product_container\n",
    "from \n",
    "sales.orders_details o,\n",
    "products_dtls_vw p\n",
    "where 1=1\n",
    "and o.row_id = p.row_id\n",
    "and o.order_status = \"Completed\"\n",
    "and p.row_id not in (select product_id from sales.product_details)\n",
    "'''\n",
    ")"
   ]
  },
  {
   "cell_type": "code",
   "execution_count": 0,
   "metadata": {
    "application/vnd.databricks.v1+cell": {
     "cellMetadata": {
      "byteLimit": 2048000,
      "rowLimit": 10000
     },
     "inputWidgets": {},
     "nuid": "c98b4de7-be12-4e1e-9341-8d74041d177c",
     "showTitle": false,
     "title": ""
    }
   },
   "outputs": [
    {
     "output_type": "stream",
     "name": "stdout",
     "output_type": "stream",
     "text": [
      "+----------+----------------------------------------------------------------+----------------+------------------+----------------+----------------------------+-------------------------------------------------------+-----------------+\n|product_id|customer_id                                                     |product_order_id|product_order_date|product_category|product_sub_category        |product_name                                           |product_container|\n+----------+----------------------------------------------------------------+----------------+------------------+----------------+----------------------------+-------------------------------------------------------+-----------------+\n|2533      |001492ac094ba3c986a45e7799a0409db64ed3c856e39cf16854012aa468fa01|18374           |2012-09-30        |Office Supplies |Paper                       |Southworth Structures Collection�                      |Small Box        |\n|3548      |001492ac094ba3c986a45e7799a0409db64ed3c856e39cf16854012aa468fa01|25314           |2012-02-24        |Technology      |Telephones and Communication|Phone 918                                              |Small Box        |\n|4364      |001492ac094ba3c986a45e7799a0409db64ed3c856e39cf16854012aa468fa01|31106           |2012-02-16        |Office Supplies |Labels                      |Avery 494                                              |Small Box        |\n|4365      |001492ac094ba3c986a45e7799a0409db64ed3c856e39cf16854012aa468fa01|31106           |2012-02-16        |Furniture       |Office Furnishings          |Eldon� Executive Woodline II Desk Accessories, Mahogany|Small Box        |\n+----------+----------------------------------------------------------------+----------------+------------------+----------------+----------------------------+-------------------------------------------------------+-----------------+\nonly showing top 4 rows\n\n"
     ]
    }
   ],
   "source": [
    "products_order_df.show(4,truncate=False)"
   ]
  },
  {
   "cell_type": "code",
   "execution_count": 0,
   "metadata": {
    "application/vnd.databricks.v1+cell": {
     "cellMetadata": {
      "byteLimit": 2048000,
      "rowLimit": 10000
     },
     "inputWidgets": {},
     "nuid": "dda28f64-aee1-41c3-8071-4dde7fd1f42c",
     "showTitle": false,
     "title": ""
    }
   },
   "outputs": [
    {
     "output_type": "stream",
     "name": "stdout",
     "output_type": "stream",
     "text": [
      "root\n |-- product_id: long (nullable = true)\n |-- customer_id: string (nullable = true)\n |-- product_order_id: long (nullable = true)\n |-- product_order_date: date (nullable = true)\n |-- product_category: string (nullable = true)\n |-- product_sub_category: string (nullable = true)\n |-- product_name: string (nullable = true)\n |-- product_container: string (nullable = true)\n\n"
     ]
    }
   ],
   "source": [
    "products_order_df.printSchema()"
   ]
  },
  {
   "cell_type": "code",
   "execution_count": 0,
   "metadata": {
    "application/vnd.databricks.v1+cell": {
     "cellMetadata": {
      "byteLimit": 2048000,
      "rowLimit": 10000
     },
     "inputWidgets": {},
     "nuid": "c957f4d2-1b42-45d6-a5fd-9aba17c79104",
     "showTitle": false,
     "title": ""
    }
   },
   "outputs": [
    {
     "output_type": "stream",
     "name": "stdout",
     "output_type": "stream",
     "text": [
      "+----------+-----+\n|product_id|count|\n+----------+-----+\n+----------+-----+\n\n"
     ]
    }
   ],
   "source": [
    "products_order_df.groupBy(\"product_id\").count().filter(\"count>1\").show()"
   ]
  },
  {
   "cell_type": "code",
   "execution_count": 0,
   "metadata": {
    "application/vnd.databricks.v1+cell": {
     "cellMetadata": {
      "byteLimit": 2048000,
      "implicitDf": true,
      "rowLimit": 10000
     },
     "inputWidgets": {},
     "nuid": "ab006e5d-88fc-4ad7-ae41-33d47cee4010",
     "showTitle": false,
     "title": ""
    }
   },
   "outputs": [],
   "source": [
    "products_order_df.write.format(\"delta\").mode(\"append\").save(\"/FileStore/tables/delta-table-merge/product_details\")"
   ]
  },
  {
   "cell_type": "code",
   "execution_count": 0,
   "metadata": {
    "application/vnd.databricks.v1+cell": {
     "cellMetadata": {
      "byteLimit": 2048000,
      "implicitDf": true,
      "rowLimit": 10000
     },
     "inputWidgets": {},
     "nuid": "f786116f-1ce1-4caf-beb4-c2635150d34e",
     "showTitle": false,
     "title": ""
    }
   },
   "outputs": [
    {
     "output_type": "display_data",
     "data": {
      "text/html": [
       "<style scoped>\n",
       "  .table-result-container {\n",
       "    max-height: 300px;\n",
       "    overflow: auto;\n",
       "  }\n",
       "  table, th, td {\n",
       "    border: 1px solid black;\n",
       "    border-collapse: collapse;\n",
       "  }\n",
       "  th, td {\n",
       "    padding: 5px;\n",
       "  }\n",
       "  th {\n",
       "    text-align: left;\n",
       "  }\n",
       "</style><div class='table-result-container'><table class='table-result'><thead style='background-color: white'><tr><th>product_id</th><th>customer_id</th><th>product_order_id</th><th>product_order_date</th><th>product_category</th><th>product_sub_category</th><th>product_name</th><th>product_container</th></tr></thead><tbody><tr><td>2533</td><td>001492ac094ba3c986a45e7799a0409db64ed3c856e39cf16854012aa468fa01</td><td>18374</td><td>2012-09-30</td><td>Office Supplies</td><td>Paper</td><td>Southworth Structures Collection�</td><td>Small Box</td></tr><tr><td>3548</td><td>001492ac094ba3c986a45e7799a0409db64ed3c856e39cf16854012aa468fa01</td><td>25314</td><td>2012-02-24</td><td>Technology</td><td>Telephones and Communication</td><td>Phone 918</td><td>Small Box</td></tr><tr><td>4364</td><td>001492ac094ba3c986a45e7799a0409db64ed3c856e39cf16854012aa468fa01</td><td>31106</td><td>2012-02-16</td><td>Office Supplies</td><td>Labels</td><td>Avery 494</td><td>Small Box</td></tr><tr><td>4365</td><td>001492ac094ba3c986a45e7799a0409db64ed3c856e39cf16854012aa468fa01</td><td>31106</td><td>2012-02-16</td><td>Furniture</td><td>Office Furnishings</td><td>Eldon� Executive Woodline II Desk Accessories, Mahogany</td><td>Small Box</td></tr><tr><td>4366</td><td>001492ac094ba3c986a45e7799a0409db64ed3c856e39cf16854012aa468fa01</td><td>31106</td><td>2012-02-16</td><td>Office Supplies</td><td>Scissors, Rulers and Trimmers</td><td>Acme� Preferred Stainless Steel Scissors</td><td>Small Pack</td></tr></tbody></table></div>"
      ]
     },
     "metadata": {
      "application/vnd.databricks.v1+output": {
       "addedWidgets": {},
       "aggData": [],
       "aggError": "",
       "aggOverflow": false,
       "aggSchema": [],
       "aggSeriesLimitReached": false,
       "aggType": "",
       "arguments": {},
       "columnCustomDisplayInfos": {},
       "data": [
        [
         2533,
         "001492ac094ba3c986a45e7799a0409db64ed3c856e39cf16854012aa468fa01",
         18374,
         "2012-09-30",
         "Office Supplies",
         "Paper",
         "Southworth Structures Collection�",
         "Small Box"
        ],
        [
         3548,
         "001492ac094ba3c986a45e7799a0409db64ed3c856e39cf16854012aa468fa01",
         25314,
         "2012-02-24",
         "Technology",
         "Telephones and Communication",
         "Phone 918",
         "Small Box"
        ],
        [
         4364,
         "001492ac094ba3c986a45e7799a0409db64ed3c856e39cf16854012aa468fa01",
         31106,
         "2012-02-16",
         "Office Supplies",
         "Labels",
         "Avery 494",
         "Small Box"
        ],
        [
         4365,
         "001492ac094ba3c986a45e7799a0409db64ed3c856e39cf16854012aa468fa01",
         31106,
         "2012-02-16",
         "Furniture",
         "Office Furnishings",
         "Eldon� Executive Woodline II Desk Accessories, Mahogany",
         "Small Box"
        ],
        [
         4366,
         "001492ac094ba3c986a45e7799a0409db64ed3c856e39cf16854012aa468fa01",
         31106,
         "2012-02-16",
         "Office Supplies",
         "Scissors, Rulers and Trimmers",
         "Acme� Preferred Stainless Steel Scissors",
         "Small Pack"
        ]
       ],
       "datasetInfos": [],
       "dbfsResultPath": null,
       "isJsonSchema": true,
       "metadata": {},
       "overflow": false,
       "plotOptions": {
        "customPlotOptions": {},
        "displayType": "table",
        "pivotAggregation": null,
        "pivotColumns": null,
        "xColumns": null,
        "yColumns": null
       },
       "removedWidgets": [],
       "schema": [
        {
         "metadata": "{}",
         "name": "product_id",
         "type": "\"long\""
        },
        {
         "metadata": "{}",
         "name": "customer_id",
         "type": "\"string\""
        },
        {
         "metadata": "{}",
         "name": "product_order_id",
         "type": "\"long\""
        },
        {
         "metadata": "{}",
         "name": "product_order_date",
         "type": "\"date\""
        },
        {
         "metadata": "{}",
         "name": "product_category",
         "type": "\"string\""
        },
        {
         "metadata": "{}",
         "name": "product_sub_category",
         "type": "\"string\""
        },
        {
         "metadata": "{}",
         "name": "product_name",
         "type": "\"string\""
        },
        {
         "metadata": "{}",
         "name": "product_container",
         "type": "\"string\""
        }
       ],
       "type": "table"
      }
     },
     "output_type": "display_data"
    }
   ],
   "source": [
    "%sql\n",
    "select * from sales.product_details limit 5"
   ]
  },
  {
   "cell_type": "code",
   "execution_count": 0,
   "metadata": {
    "application/vnd.databricks.v1+cell": {
     "cellMetadata": {
      "byteLimit": 2048000,
      "implicitDf": true,
      "rowLimit": 10000
     },
     "inputWidgets": {},
     "nuid": "dfdf85bd-5711-4084-b16c-46ea4162a97b",
     "showTitle": false,
     "title": ""
    }
   },
   "outputs": [
    {
     "output_type": "display_data",
     "data": {
      "text/html": [
       "<style scoped>\n",
       "  .table-result-container {\n",
       "    max-height: 300px;\n",
       "    overflow: auto;\n",
       "  }\n",
       "  table, th, td {\n",
       "    border: 1px solid black;\n",
       "    border-collapse: collapse;\n",
       "  }\n",
       "  th, td {\n",
       "    padding: 5px;\n",
       "  }\n",
       "  th {\n",
       "    text-align: left;\n",
       "  }\n",
       "</style><div class='table-result-container'><table class='table-result'><thead style='background-color: white'><tr><th>count(product_id)</th><th>product_id</th></tr></thead><tbody></tbody></table></div>"
      ]
     },
     "metadata": {
      "application/vnd.databricks.v1+output": {
       "addedWidgets": {},
       "aggData": [],
       "aggError": "",
       "aggOverflow": false,
       "aggSchema": [],
       "aggSeriesLimitReached": false,
       "aggType": "",
       "arguments": {},
       "columnCustomDisplayInfos": {},
       "data": [],
       "datasetInfos": [],
       "dbfsResultPath": null,
       "isJsonSchema": true,
       "metadata": {},
       "overflow": false,
       "plotOptions": {
        "customPlotOptions": {},
        "displayType": "table",
        "pivotAggregation": null,
        "pivotColumns": null,
        "xColumns": null,
        "yColumns": null
       },
       "removedWidgets": [],
       "schema": [
        {
         "metadata": "{\"__autoGeneratedAlias\":\"true\"}",
         "name": "count(product_id)",
         "type": "\"long\""
        },
        {
         "metadata": "{}",
         "name": "product_id",
         "type": "\"long\""
        }
       ],
       "type": "table"
      }
     },
     "output_type": "display_data"
    }
   ],
   "source": [
    "%sql\n",
    "select count(product_id), product_id from sales.product_details group by product_id having count(product_id)>1"
   ]
  },
  {
   "cell_type": "code",
   "execution_count": 0,
   "metadata": {
    "application/vnd.databricks.v1+cell": {
     "cellMetadata": {
      "byteLimit": 2048000,
      "implicitDf": true,
      "rowLimit": 10000
     },
     "inputWidgets": {},
     "nuid": "c3717dc9-8a50-45d5-a36d-04b79d0dacf5",
     "showTitle": false,
     "title": ""
    }
   },
   "outputs": [
    {
     "output_type": "display_data",
     "data": {
      "text/html": [
       "<style scoped>\n",
       "  .table-result-container {\n",
       "    max-height: 300px;\n",
       "    overflow: auto;\n",
       "  }\n",
       "  table, th, td {\n",
       "    border: 1px solid black;\n",
       "    border-collapse: collapse;\n",
       "  }\n",
       "  th, td {\n",
       "    padding: 5px;\n",
       "  }\n",
       "  th {\n",
       "    text-align: left;\n",
       "  }\n",
       "</style><div class='table-result-container'><table class='table-result'><thead style='background-color: white'><tr><th>product_id</th><th>customer_id</th><th>product_order_id</th><th>product_order_date</th><th>product_category</th><th>product_sub_category</th><th>product_name</th><th>product_container</th></tr></thead><tbody><tr><td>8400</td><td>07de8c2693a047311aac3bb2e1a7bf301d9e290b04431926048d92a40e3bbfd1</td><td>59974</td><td>2024-04-28</td><td>Furniture</td><td>Office Furnitures</td><td>Desk accessories</td><td>Small Box</td></tr></tbody></table></div>"
      ]
     },
     "metadata": {
      "application/vnd.databricks.v1+output": {
       "addedWidgets": {},
       "aggData": [],
       "aggError": "",
       "aggOverflow": false,
       "aggSchema": [],
       "aggSeriesLimitReached": false,
       "aggType": "",
       "arguments": {},
       "columnCustomDisplayInfos": {},
       "data": [
        [
         8400,
         "07de8c2693a047311aac3bb2e1a7bf301d9e290b04431926048d92a40e3bbfd1",
         59974,
         "2024-04-28",
         "Furniture",
         "Office Furnitures",
         "Desk accessories",
         "Small Box"
        ]
       ],
       "datasetInfos": [],
       "dbfsResultPath": null,
       "isJsonSchema": true,
       "metadata": {},
       "overflow": false,
       "plotOptions": {
        "customPlotOptions": {},
        "displayType": "table",
        "pivotAggregation": null,
        "pivotColumns": null,
        "xColumns": null,
        "yColumns": null
       },
       "removedWidgets": [],
       "schema": [
        {
         "metadata": "{}",
         "name": "product_id",
         "type": "\"long\""
        },
        {
         "metadata": "{}",
         "name": "customer_id",
         "type": "\"string\""
        },
        {
         "metadata": "{}",
         "name": "product_order_id",
         "type": "\"long\""
        },
        {
         "metadata": "{}",
         "name": "product_order_date",
         "type": "\"date\""
        },
        {
         "metadata": "{}",
         "name": "product_category",
         "type": "\"string\""
        },
        {
         "metadata": "{}",
         "name": "product_sub_category",
         "type": "\"string\""
        },
        {
         "metadata": "{}",
         "name": "product_name",
         "type": "\"string\""
        },
        {
         "metadata": "{}",
         "name": "product_container",
         "type": "\"string\""
        }
       ],
       "type": "table"
      }
     },
     "output_type": "display_data"
    }
   ],
   "source": [
    "%sql\n",
    "select * from sales.product_details where customer_id in ('1212e8749bdc3800d2514d8ae53c10b8cbe3a9e4355de5db35f746c510c4603f','07de8c2693a047311aac3bb2e1a7bf301d9e290b04431926048d92a40e3bbfd1')"
   ]
  },
  {
   "cell_type": "code",
   "execution_count": 0,
   "metadata": {
    "application/vnd.databricks.v1+cell": {
     "cellMetadata": {
      "byteLimit": 2048000,
      "rowLimit": 10000
     },
     "inputWidgets": {},
     "nuid": "27c584c2-08d2-45fe-9c47-8f488de632af",
     "showTitle": false,
     "title": ""
    }
   },
   "outputs": [],
   "source": []
  },
  {
   "cell_type": "code",
   "execution_count": 0,
   "metadata": {
    "application/vnd.databricks.v1+cell": {
     "cellMetadata": {
      "byteLimit": 2048000,
      "rowLimit": 10000
     },
     "inputWidgets": {},
     "nuid": "78e6189d-84a5-4a70-bf36-9f135310dd14",
     "showTitle": false,
     "title": ""
    }
   },
   "outputs": [],
   "source": []
  }
 ],
 "metadata": {
  "application/vnd.databricks.v1+notebook": {
   "dashboards": [],
   "language": "python",
   "notebookMetadata": {
    "mostRecentlyExecutedCommandWithImplicitDF": {
     "commandId": 444626019850249,
     "dataframes": [
      "_sqldf"
     ]
    },
    "pythonIndentUnit": 4
   },
   "notebookName": "load_to_product_details_table",
   "widgets": {}
  }
 },
 "nbformat": 4,
 "nbformat_minor": 0
}
