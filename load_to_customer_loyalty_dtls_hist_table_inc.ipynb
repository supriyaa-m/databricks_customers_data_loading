{
 "cells": [
  {
   "cell_type": "code",
   "execution_count": 0,
   "metadata": {
    "application/vnd.databricks.v1+cell": {
     "cellMetadata": {
      "byteLimit": 2048000,
      "rowLimit": 10000
     },
     "inputWidgets": {},
     "nuid": "29b929b9-2108-4989-b029-190b080fea3d",
     "showTitle": false,
     "title": ""
    }
   },
   "outputs": [],
   "source": [
    "from pyspark.sql.functions import *\n",
    "from pyspark.sql.types import *\n",
    "from pyspark.sql.window import Window"
   ]
  },
  {
   "cell_type": "code",
   "execution_count": 0,
   "metadata": {
    "application/vnd.databricks.v1+cell": {
     "cellMetadata": {
      "byteLimit": 2048000,
      "implicitDf": true,
      "rowLimit": 10000
     },
     "inputWidgets": {},
     "nuid": "d05df99b-8434-4ab0-9359-c5b2d498359f",
     "showTitle": false,
     "title": ""
    }
   },
   "outputs": [
    {
     "output_type": "display_data",
     "data": {
      "text/html": [
       "<style scoped>\n",
       "  .table-result-container {\n",
       "    max-height: 300px;\n",
       "    overflow: auto;\n",
       "  }\n",
       "  table, th, td {\n",
       "    border: 1px solid black;\n",
       "    border-collapse: collapse;\n",
       "  }\n",
       "  th, td {\n",
       "    padding: 5px;\n",
       "  }\n",
       "  th {\n",
       "    text-align: left;\n",
       "  }\n",
       "</style><div class='table-result-container'><table class='table-result'><thead style='background-color: white'><tr><th>row_id</th><th>customer_id</th><th>customer_name</th><th>region</th><th>province</th><th>customer_since</th><th>total_years</th><th>total_orders_count</th><th>loyalty_points</th><th>loyalty_type</th><th>start_date</th><th>end_date</th></tr></thead><tbody><tr><td>1</td><td>001492ac094ba3c986a45e7799a0409db64ed3c856e39cf16854012aa468fa01</td><td>Nick Crebassa</td><td>Prarie</td><td>Saskachewan</td><td>2009</td><td>15</td><td>432</td><td>650</td><td>Classic</td><td>2024-05-26</td><td>9999-12-31</td></tr><tr><td>2</td><td>00fcf5c6646b01ce72417b854ad2ebcff2a73c4beec096c90dd9d1e60a7fd1e9</td><td>Barry Pond</td><td>Yukon</td><td>Yukon</td><td>2010</td><td>14</td><td>227</td><td>350</td><td>Classic</td><td>2024-05-26</td><td>9999-12-31</td></tr><tr><td>3</td><td>0105946ed08fb4ccf5f3efcec88a83121bb5804c698b14f2ad20cf7dd2541f7f</td><td>Giulietta Weimer</td><td>West</td><td>British Columbia</td><td>2009</td><td>15</td><td>492</td><td>800</td><td>Classic</td><td>2024-05-26</td><td>9999-12-31</td></tr><tr><td>4</td><td>018fc79fefdcb46768279300fb6e32f4e1e9f627ae99e3a672244d3052462e9b</td><td>Ashley Jarboe</td><td>Yukon</td><td>Yukon</td><td>2009</td><td>15</td><td>495</td><td>950</td><td>Classic</td><td>2024-05-26</td><td>9999-12-31</td></tr><tr><td>5</td><td>01a041b0a5fbe79fb524be166ed14fc9f58054716ce63e9db05a67d35f767527</td><td>Christy Brittain</td><td>Yukon</td><td>Yukon</td><td>2009</td><td>15</td><td>604</td><td>1500</td><td>Daimond</td><td>2024-05-26</td><td>9999-12-31</td></tr></tbody></table></div>"
      ]
     },
     "metadata": {
      "application/vnd.databricks.v1+output": {
       "addedWidgets": {},
       "aggData": [],
       "aggError": "",
       "aggOverflow": false,
       "aggSchema": [],
       "aggSeriesLimitReached": false,
       "aggType": "",
       "arguments": {},
       "columnCustomDisplayInfos": {},
       "data": [
        [
         1,
         "001492ac094ba3c986a45e7799a0409db64ed3c856e39cf16854012aa468fa01",
         "Nick Crebassa",
         "Prarie",
         "Saskachewan",
         2009,
         15,
         432,
         650,
         "Classic",
         "2024-05-26",
         "9999-12-31"
        ],
        [
         2,
         "00fcf5c6646b01ce72417b854ad2ebcff2a73c4beec096c90dd9d1e60a7fd1e9",
         "Barry Pond",
         "Yukon",
         "Yukon",
         2010,
         14,
         227,
         350,
         "Classic",
         "2024-05-26",
         "9999-12-31"
        ],
        [
         3,
         "0105946ed08fb4ccf5f3efcec88a83121bb5804c698b14f2ad20cf7dd2541f7f",
         "Giulietta Weimer",
         "West",
         "British Columbia",
         2009,
         15,
         492,
         800,
         "Classic",
         "2024-05-26",
         "9999-12-31"
        ],
        [
         4,
         "018fc79fefdcb46768279300fb6e32f4e1e9f627ae99e3a672244d3052462e9b",
         "Ashley Jarboe",
         "Yukon",
         "Yukon",
         2009,
         15,
         495,
         950,
         "Classic",
         "2024-05-26",
         "9999-12-31"
        ],
        [
         5,
         "01a041b0a5fbe79fb524be166ed14fc9f58054716ce63e9db05a67d35f767527",
         "Christy Brittain",
         "Yukon",
         "Yukon",
         2009,
         15,
         604,
         1500,
         "Daimond",
         "2024-05-26",
         "9999-12-31"
        ]
       ],
       "datasetInfos": [],
       "dbfsResultPath": null,
       "isJsonSchema": true,
       "metadata": {},
       "overflow": false,
       "plotOptions": {
        "customPlotOptions": {},
        "displayType": "table",
        "pivotAggregation": null,
        "pivotColumns": null,
        "xColumns": null,
        "yColumns": null
       },
       "removedWidgets": [],
       "schema": [
        {
         "metadata": "{}",
         "name": "row_id",
         "type": "\"integer\""
        },
        {
         "metadata": "{}",
         "name": "customer_id",
         "type": "\"string\""
        },
        {
         "metadata": "{}",
         "name": "customer_name",
         "type": "\"string\""
        },
        {
         "metadata": "{}",
         "name": "region",
         "type": "\"string\""
        },
        {
         "metadata": "{}",
         "name": "province",
         "type": "\"string\""
        },
        {
         "metadata": "{}",
         "name": "customer_since",
         "type": "\"integer\""
        },
        {
         "metadata": "{}",
         "name": "total_years",
         "type": "\"integer\""
        },
        {
         "metadata": "{}",
         "name": "total_orders_count",
         "type": "\"integer\""
        },
        {
         "metadata": "{}",
         "name": "loyalty_points",
         "type": "\"integer\""
        },
        {
         "metadata": "{}",
         "name": "loyalty_type",
         "type": "\"string\""
        },
        {
         "metadata": "{}",
         "name": "start_date",
         "type": "\"date\""
        },
        {
         "metadata": "{}",
         "name": "end_date",
         "type": "\"date\""
        }
       ],
       "type": "table"
      }
     },
     "output_type": "display_data"
    }
   ],
   "source": [
    "%sql\n",
    "select * from sales.customer_loyalty_hist_details order by row_id limit 5"
   ]
  },
  {
   "cell_type": "code",
   "execution_count": 0,
   "metadata": {
    "application/vnd.databricks.v1+cell": {
     "cellMetadata": {
      "byteLimit": 2048000,
      "rowLimit": 10000
     },
     "inputWidgets": {},
     "nuid": "bdec9a6a-0b79-44ef-8557-6dd2da307e13",
     "showTitle": false,
     "title": ""
    }
   },
   "outputs": [
    {
     "output_type": "stream",
     "name": "stdout",
     "output_type": "stream",
     "text": [
      "+------+----------------------------------------------------------------+----------------+------+----------------+--------------+-----------+------------------+--------------+------------+----------+----------+\n|row_id|customer_id                                                     |customer_name   |region|province        |customer_since|total_years|total_orders_count|loyalty_points|loyalty_type|start_date|end_date  |\n+------+----------------------------------------------------------------+----------------+------+----------------+--------------+-----------+------------------+--------------+------------+----------+----------+\n|1     |001492ac094ba3c986a45e7799a0409db64ed3c856e39cf16854012aa468fa01|Nick Crebassa   |Prarie|Saskachewan     |2009          |15         |432               |650           |Classic     |2024-05-26|9999-12-31|\n|2     |00fcf5c6646b01ce72417b854ad2ebcff2a73c4beec096c90dd9d1e60a7fd1e9|Barry Pond      |Yukon |Yukon           |2010          |14         |227               |350           |Classic     |2024-05-26|9999-12-31|\n|3     |0105946ed08fb4ccf5f3efcec88a83121bb5804c698b14f2ad20cf7dd2541f7f|Giulietta Weimer|West  |British Columbia|2009          |15         |492               |800           |Classic     |2024-05-26|9999-12-31|\n|4     |018fc79fefdcb46768279300fb6e32f4e1e9f627ae99e3a672244d3052462e9b|Ashley Jarboe   |Yukon |Yukon           |2009          |15         |495               |950           |Classic     |2024-05-26|9999-12-31|\n|5     |01a041b0a5fbe79fb524be166ed14fc9f58054716ce63e9db05a67d35f767527|Christy Brittain|Yukon |Yukon           |2009          |15         |604               |1500          |Daimond     |2024-05-26|9999-12-31|\n+------+----------------------------------------------------------------+----------------+------+----------------+--------------+-----------+------------------+--------------+------------+----------+----------+\n\n"
     ]
    }
   ],
   "source": [
    "spark.sql('''select * from sales.customer_loyalty_hist_details order by row_id limit 5''').show(5,truncate=False)"
   ]
  },
  {
   "cell_type": "code",
   "execution_count": 0,
   "metadata": {
    "application/vnd.databricks.v1+cell": {
     "cellMetadata": {
      "byteLimit": 2048000,
      "rowLimit": 10000
     },
     "inputWidgets": {},
     "nuid": "7179aed3-53e5-452d-923e-a82dadc83abb",
     "showTitle": false,
     "title": ""
    }
   },
   "outputs": [
    {
     "output_type": "stream",
     "name": "stdout",
     "output_type": "stream",
     "text": [
      "max row id :  795\n"
     ]
    }
   ],
   "source": [
    "max_row_id = spark.sql(\"SELECT COALESCE(MAX(row_id)) FROM sales.customer_loyalty_hist_details\").collect()[0][0]\n",
    "print(\"max row id : \",max_row_id)"
   ]
  },
  {
   "cell_type": "code",
   "execution_count": 0,
   "metadata": {
    "application/vnd.databricks.v1+cell": {
     "cellMetadata": {
      "byteLimit": 2048000,
      "rowLimit": 10000
     },
     "inputWidgets": {},
     "nuid": "511be1e8-6cde-4eb6-80a1-5400c578d876",
     "showTitle": false,
     "title": ""
    }
   },
   "outputs": [],
   "source": [
    "schema = StructType([\n",
    "    StructField(\"customer_id\", StringType(), True), \n",
    "    StructField(\"customer_name\", StringType(), True), \n",
    "    StructField(\"region\", StringType(), True), \n",
    "    StructField(\"province\", StringType(), True), \n",
    "    StructField(\"customer_since\", IntegerType(), True), \n",
    "    StructField(\"total_years\", IntegerType(), True) ,\n",
    "    StructField(\"total_orders_count\", IntegerType(), True),\n",
    "    StructField(\"loyalty_points\", IntegerType(), True) ,\n",
    "    StructField(\"loyalty_type\", StringType(), True) \n",
    "])\n",
    "new_cust_dtls_data = [\n",
    "    (\"001492ac094ba3c986a45e7799a0409db64ed3c856e39cf16854012aa468fa01\",\"Nick Crebassa\",'Texas','Texas',2009,15,450,1000,\"Gold\"),\n",
    "    (\"001492ac094ba3c986a45e7799a0409db64ed3c856e39cf16854012aa468fa02\", \"Mike Jackson\",'North','Yukon',2024,1,1,50,\"Classic\")\n",
    "]\n",
    "# Create DataFrame for new order data\n",
    "new_cust_dtls_df = spark.createDataFrame(new_cust_dtls_data,schema)"
   ]
  },
  {
   "cell_type": "code",
   "execution_count": 0,
   "metadata": {
    "application/vnd.databricks.v1+cell": {
     "cellMetadata": {
      "byteLimit": 2048000,
      "rowLimit": 10000
     },
     "inputWidgets": {},
     "nuid": "89df6577-d6cf-48fa-b0aa-d7f36cc0a01d",
     "showTitle": false,
     "title": ""
    }
   },
   "outputs": [],
   "source": [
    "new_cust_dtls_df = new_cust_dtls_df.withColumn(\"start_date\", current_date()+1) \\\n",
    "               .withColumn(\"end_date\", lit(\"9999-12-31\"))"
   ]
  },
  {
   "cell_type": "code",
   "execution_count": 0,
   "metadata": {
    "application/vnd.databricks.v1+cell": {
     "cellMetadata": {
      "byteLimit": 2048000,
      "rowLimit": 10000
     },
     "inputWidgets": {},
     "nuid": "9801eefa-a8dc-4726-8468-9db35324d61b",
     "showTitle": false,
     "title": ""
    }
   },
   "outputs": [],
   "source": [
    "new_cust_dtls_df = new_cust_dtls_df.withColumn(\"row_id\", row_number().over(Window.orderBy(\"customer_id\")) + max_row_id)"
   ]
  },
  {
   "cell_type": "code",
   "execution_count": 0,
   "metadata": {
    "application/vnd.databricks.v1+cell": {
     "cellMetadata": {
      "byteLimit": 2048000,
      "rowLimit": 10000
     },
     "inputWidgets": {},
     "nuid": "176f979c-c629-4363-a8db-5e54f177b5cd",
     "showTitle": false,
     "title": ""
    }
   },
   "outputs": [
    {
     "output_type": "stream",
     "name": "stdout",
     "output_type": "stream",
     "text": [
      "+----------------------------------------------------------------+-------------+------+--------+--------------+-----------+------------------+--------------+------------+----------+----------+------+\n|customer_id                                                     |customer_name|region|province|customer_since|total_years|total_orders_count|loyalty_points|loyalty_type|start_date|end_date  |row_id|\n+----------------------------------------------------------------+-------------+------+--------+--------------+-----------+------------------+--------------+------------+----------+----------+------+\n|001492ac094ba3c986a45e7799a0409db64ed3c856e39cf16854012aa468fa01|Nick Crebassa|Texas |Texas   |2009          |15         |450               |1000          |Gold        |2024-05-27|9999-12-31|796   |\n|001492ac094ba3c986a45e7799a0409db64ed3c856e39cf16854012aa468fa02|Mike Jackson |North |Yukon   |2024          |1          |1                 |50            |Classic     |2024-05-27|9999-12-31|797   |\n+----------------------------------------------------------------+-------------+------+--------+--------------+-----------+------------------+--------------+------------+----------+----------+------+\n\n"
     ]
    }
   ],
   "source": [
    "new_cust_dtls_df.show(2,truncate=False)"
   ]
  },
  {
   "cell_type": "code",
   "execution_count": 0,
   "metadata": {
    "application/vnd.databricks.v1+cell": {
     "cellMetadata": {
      "byteLimit": 2048000,
      "rowLimit": 10000
     },
     "inputWidgets": {},
     "nuid": "f32687ed-4ec7-4e03-9a08-7b8b03d8595e",
     "showTitle": false,
     "title": ""
    }
   },
   "outputs": [
    {
     "output_type": "stream",
     "name": "stdout",
     "output_type": "stream",
     "text": [
      "+------+----------------------------------------------------------------+-------------+------+-----------+--------------+-----------+------------------+--------------+------------+----------+----------+\n|row_id|customer_id                                                     |customer_name|region|province   |customer_since|total_years|total_orders_count|loyalty_points|loyalty_type|start_date|end_date  |\n+------+----------------------------------------------------------------+-------------+------+-----------+--------------+-----------+------------------+--------------+------------+----------+----------+\n|1     |001492ac094ba3c986a45e7799a0409db64ed3c856e39cf16854012aa468fa01|Nick Crebassa|Prarie|Saskachewan|2009          |15         |432               |650           |Classic     |2024-05-26|9999-12-31|\n+------+----------------------------------------------------------------+-------------+------+-----------+--------------+-----------+------------------+--------------+------------+----------+----------+\n\n"
     ]
    }
   ],
   "source": [
    "spark.sql('''select * from sales.customer_loyalty_hist_details where\n",
    "          customer_id='001492ac094ba3c986a45e7799a0409db64ed3c856e39cf16854012aa468fa01'\n",
    "          ''').show(truncate=False)"
   ]
  },
  {
   "cell_type": "code",
   "execution_count": 0,
   "metadata": {
    "application/vnd.databricks.v1+cell": {
     "cellMetadata": {
      "byteLimit": 2048000,
      "rowLimit": 10000
     },
     "inputWidgets": {},
     "nuid": "61df4fd5-0131-4e1b-82ec-31db8ec7e3c8",
     "showTitle": false,
     "title": ""
    }
   },
   "outputs": [
    {
     "output_type": "stream",
     "name": "stdout",
     "output_type": "stream",
     "text": [
      "<class 'delta.tables.DeltaTable'>\n"
     ]
    }
   ],
   "source": [
    "from delta.tables import *\n",
    "\n",
    "customer_loyalty_details_hist_instance = DeltaTable.forPath(spark, \"/FileStore/tables/delta-table-merge/customer_loyalty_hist_details\")\n",
    "print(type(customer_loyalty_details_hist_instance))"
   ]
  },
  {
   "cell_type": "code",
   "execution_count": 0,
   "metadata": {
    "application/vnd.databricks.v1+cell": {
     "cellMetadata": {
      "byteLimit": 2048000,
      "rowLimit": 10000
     },
     "inputWidgets": {},
     "nuid": "0cd34e4e-73a1-4bcb-bc84-9e507a8edcf3",
     "showTitle": false,
     "title": ""
    }
   },
   "outputs": [],
   "source": [
    "#To update end_date of latest record only as a given customer_id can have multiple rows\n",
    "cust_latest_df = customer_loyalty_details_hist_instance.toDF().withColumn(\"row_number\", row_number().over(\n",
    "    Window.partitionBy(\"customer_id\").orderBy(desc(\"start_date\"))\n",
    "    )).filter(\"row_number = 1\").drop(\"row_number\")"
   ]
  },
  {
   "cell_type": "code",
   "execution_count": 0,
   "metadata": {
    "application/vnd.databricks.v1+cell": {
     "cellMetadata": {
      "byteLimit": 2048000,
      "rowLimit": 10000
     },
     "inputWidgets": {},
     "nuid": "df90aae1-fda6-40bc-a6f9-107c21439c92",
     "showTitle": false,
     "title": ""
    }
   },
   "outputs": [],
   "source": [
    "cust_latest_df.write.format(\"delta\").mode(\"overwrite\").save('/FileStore/tables/delta-table-merge/cust_loyalty_hist_latest_dtls')\n",
    "cust_dtls_hist_latest_instance = DeltaTable.forPath(spark, \"/FileStore/tables/delta-table-merge/cust_loyalty_hist_latest_dtls\")"
   ]
  },
  {
   "cell_type": "code",
   "execution_count": 0,
   "metadata": {
    "application/vnd.databricks.v1+cell": {
     "cellMetadata": {
      "byteLimit": 2048000,
      "rowLimit": 10000
     },
     "inputWidgets": {},
     "nuid": "e029de95-f008-40cf-82b5-60a89e1ef238",
     "showTitle": false,
     "title": ""
    }
   },
   "outputs": [],
   "source": [
    "#Updating end_date of latest record for a given customer\n",
    "cust_dtls_hist_latest_instance.alias(\"target\").merge(\n",
    "    new_cust_dtls_df.alias(\"source\"),\n",
    "    \"target.customer_id = source.customer_id\"\n",
    ").whenMatchedUpdate(\n",
    "    set={\"end_date\": current_date()+1}\n",
    ").whenNotMatchedInsertAll().execute()"
   ]
  },
  {
   "cell_type": "code",
   "execution_count": 0,
   "metadata": {
    "application/vnd.databricks.v1+cell": {
     "cellMetadata": {
      "byteLimit": 2048000,
      "rowLimit": 10000
     },
     "inputWidgets": {},
     "nuid": "e60f21f0-971d-4881-a9f7-d1c273bc4c47",
     "showTitle": false,
     "title": ""
    }
   },
   "outputs": [
    {
     "output_type": "stream",
     "name": "stdout",
     "output_type": "stream",
     "text": [
      "+------+--------------------+-------------+------+-----------+--------------+-----------+------------------+--------------+------------+----------+----------+\n|row_id|         customer_id|customer_name|region|   province|customer_since|total_years|total_orders_count|loyalty_points|loyalty_type|start_date|  end_date|\n+------+--------------------+-------------+------+-----------+--------------+-----------+------------------+--------------+------------+----------+----------+\n|     1|001492ac094ba3c98...|Nick Crebassa|Prarie|Saskachewan|          2009|         15|               432|           650|     Classic|2024-05-26|2024-05-27|\n+------+--------------------+-------------+------+-----------+--------------+-----------+------------------+--------------+------------+----------+----------+\n\n"
     ]
    }
   ],
   "source": [
    "cust_dtls_hist_latest_instance.toDF().filter(\"customer_id = '001492ac094ba3c986a45e7799a0409db64ed3c856e39cf16854012aa468fa01'\").show()"
   ]
  },
  {
   "cell_type": "code",
   "execution_count": 0,
   "metadata": {
    "application/vnd.databricks.v1+cell": {
     "cellMetadata": {
      "byteLimit": 2048000,
      "rowLimit": 10000
     },
     "inputWidgets": {},
     "nuid": "f8c2db67-74ad-4b53-ad81-f1c6d7846fde",
     "showTitle": false,
     "title": ""
    }
   },
   "outputs": [
    {
     "output_type": "stream",
     "name": "stdout",
     "output_type": "stream",
     "text": [
      "+------+--------------------+-------------+------+--------+--------------+-----------+------------------+--------------+------------+----------+----------+\n|row_id|         customer_id|customer_name|region|province|customer_since|total_years|total_orders_count|loyalty_points|loyalty_type|start_date|  end_date|\n+------+--------------------+-------------+------+--------+--------------+-----------+------------------+--------------+------------+----------+----------+\n|   797|001492ac094ba3c98...| Mike Jackson| North|   Yukon|          2024|          1|                 1|            50|     Classic|2024-05-27|9999-12-31|\n+------+--------------------+-------------+------+--------+--------------+-----------+------------------+--------------+------------+----------+----------+\n\n"
     ]
    }
   ],
   "source": [
    "cust_dtls_hist_latest_instance.toDF().filter(\"customer_id = '001492ac094ba3c986a45e7799a0409db64ed3c856e39cf16854012aa468fa02'\").show()"
   ]
  },
  {
   "cell_type": "code",
   "execution_count": 0,
   "metadata": {
    "application/vnd.databricks.v1+cell": {
     "cellMetadata": {
      "byteLimit": 2048000,
      "rowLimit": 10000
     },
     "inputWidgets": {},
     "nuid": "af22cb96-4508-4c39-a8e6-4071309cacdd",
     "showTitle": false,
     "title": ""
    }
   },
   "outputs": [],
   "source": [
    "# Inserting all the records with latest information about customer\n",
    "cust_dtls_hist_latest_instance.alias(\"target\").merge(\n",
    "    new_cust_dtls_df.alias(\"source\"),\n",
    "\"target.customer_id = source.customer_id and target.row_id = source.row_id and target.start_date = source.start_date and target.end_date = source.end_date\"\n",
    ").whenMatchedUpdateAll(). \\\n",
    "whenNotMatchedInsertAll(). \\\n",
    "execute()"
   ]
  },
  {
   "cell_type": "code",
   "execution_count": 0,
   "metadata": {
    "application/vnd.databricks.v1+cell": {
     "cellMetadata": {
      "byteLimit": 2048000,
      "rowLimit": 10000
     },
     "inputWidgets": {},
     "nuid": "e538b4a9-a89a-4470-a7e7-48815103e8c9",
     "showTitle": false,
     "title": ""
    }
   },
   "outputs": [
    {
     "output_type": "stream",
     "name": "stdout",
     "output_type": "stream",
     "text": [
      "+------+--------------------+-------------+------+-----------+--------------+-----------+------------------+--------------+------------+----------+----------+\n|row_id|         customer_id|customer_name|region|   province|customer_since|total_years|total_orders_count|loyalty_points|loyalty_type|start_date|  end_date|\n+------+--------------------+-------------+------+-----------+--------------+-----------+------------------+--------------+------------+----------+----------+\n|     1|001492ac094ba3c98...|Nick Crebassa|Prarie|Saskachewan|          2009|         15|               432|           650|     Classic|2024-05-26|9999-12-31|\n+------+--------------------+-------------+------+-----------+--------------+-----------+------------------+--------------+------------+----------+----------+\n\n"
     ]
    }
   ],
   "source": [
    "spark.sql('''\n",
    "select * from sales.customer_loyalty_hist_details where customer_id='001492ac094ba3c986a45e7799a0409db64ed3c856e39cf16854012aa468fa01'\n",
    "''').show()"
   ]
  },
  {
   "cell_type": "code",
   "execution_count": 0,
   "metadata": {
    "application/vnd.databricks.v1+cell": {
     "cellMetadata": {
      "byteLimit": 2048000,
      "rowLimit": 10000
     },
     "inputWidgets": {},
     "nuid": "94895d3f-67ab-45b7-9634-8ad1b9af33af",
     "showTitle": false,
     "title": ""
    }
   },
   "outputs": [
    {
     "output_type": "stream",
     "name": "stdout",
     "output_type": "stream",
     "text": [
      "+------+--------------------+-------------+------+-----------+--------------+-----------+------------------+--------------+------------+----------+----------+\n|row_id|         customer_id|customer_name|region|   province|customer_since|total_years|total_orders_count|loyalty_points|loyalty_type|start_date|  end_date|\n+------+--------------------+-------------+------+-----------+--------------+-----------+------------------+--------------+------------+----------+----------+\n|     1|001492ac094ba3c98...|Nick Crebassa|Prarie|Saskachewan|          2009|         15|               432|           650|     Classic|2024-05-26|2024-05-27|\n|   796|001492ac094ba3c98...|Nick Crebassa| Texas|      Texas|          2009|         15|               450|          1000|        Gold|2024-05-27|9999-12-31|\n+------+--------------------+-------------+------+-----------+--------------+-----------+------------------+--------------+------------+----------+----------+\n\n"
     ]
    }
   ],
   "source": [
    "cust_dtls_hist_latest_instance.toDF().filter(\"customer_id = '001492ac094ba3c986a45e7799a0409db64ed3c856e39cf16854012aa468fa01'\").show()"
   ]
  },
  {
   "cell_type": "code",
   "execution_count": 0,
   "metadata": {
    "application/vnd.databricks.v1+cell": {
     "cellMetadata": {
      "byteLimit": 2048000,
      "rowLimit": 10000
     },
     "inputWidgets": {},
     "nuid": "d27c4daa-1e38-42ff-83a5-48f631d30f2f",
     "showTitle": false,
     "title": ""
    }
   },
   "outputs": [
    {
     "output_type": "stream",
     "name": "stdout",
     "output_type": "stream",
     "text": [
      "+------+--------------------+-------------+------+--------+--------------+-----------+------------------+--------------+------------+----------+----------+\n|row_id|         customer_id|customer_name|region|province|customer_since|total_years|total_orders_count|loyalty_points|loyalty_type|start_date|  end_date|\n+------+--------------------+-------------+------+--------+--------------+-----------+------------------+--------------+------------+----------+----------+\n|   797|001492ac094ba3c98...| Mike Jackson| North|   Yukon|          2024|          1|                 1|            50|     Classic|2024-05-27|9999-12-31|\n+------+--------------------+-------------+------+--------+--------------+-----------+------------------+--------------+------------+----------+----------+\n\n"
     ]
    }
   ],
   "source": [
    "cust_dtls_hist_latest_instance.toDF().filter(\"customer_id = '001492ac094ba3c986a45e7799a0409db64ed3c856e39cf16854012aa468fa02'\").show()"
   ]
  },
  {
   "cell_type": "code",
   "execution_count": 0,
   "metadata": {
    "application/vnd.databricks.v1+cell": {
     "cellMetadata": {
      "byteLimit": 2048000,
      "rowLimit": 10000
     },
     "inputWidgets": {},
     "nuid": "56d559d9-5edc-4964-b9b9-9ac021126fc3",
     "showTitle": false,
     "title": ""
    }
   },
   "outputs": [],
   "source": [
    "customer_loyalty_details_hist_instance.alias(\"target\").merge(\n",
    "    cust_dtls_hist_latest_instance.toDF().alias(\"source\"),\n",
    "    \"target.customer_id = source.customer_id and target.row_id = source.row_id\"\n",
    ").whenMatchedUpdateAll(). \\\n",
    "whenNotMatchedInsertAll(). \\\n",
    "execute()"
   ]
  },
  {
   "cell_type": "code",
   "execution_count": 0,
   "metadata": {
    "application/vnd.databricks.v1+cell": {
     "cellMetadata": {
      "byteLimit": 2048000,
      "rowLimit": 10000
     },
     "inputWidgets": {},
     "nuid": "164b7668-de1e-4ba5-92fc-328e2fb04885",
     "showTitle": false,
     "title": ""
    }
   },
   "outputs": [
    {
     "output_type": "stream",
     "name": "stdout",
     "output_type": "stream",
     "text": [
      "+------+--------------------+-------------+------+-----------+--------------+-----------+------------------+--------------+------------+----------+----------+\n|row_id|         customer_id|customer_name|region|   province|customer_since|total_years|total_orders_count|loyalty_points|loyalty_type|start_date|  end_date|\n+------+--------------------+-------------+------+-----------+--------------+-----------+------------------+--------------+------------+----------+----------+\n|     1|001492ac094ba3c98...|Nick Crebassa|Prarie|Saskachewan|          2009|         15|               432|           650|     Classic|2024-05-26|2024-05-27|\n|   796|001492ac094ba3c98...|Nick Crebassa| Texas|      Texas|          2009|         15|               450|          1000|        Gold|2024-05-27|9999-12-31|\n+------+--------------------+-------------+------+-----------+--------------+-----------+------------------+--------------+------------+----------+----------+\n\n"
     ]
    }
   ],
   "source": [
    "spark.sql('''\n",
    "select * from sales.customer_loyalty_hist_details where customer_id='001492ac094ba3c986a45e7799a0409db64ed3c856e39cf16854012aa468fa01'\n",
    "''').show()"
   ]
  },
  {
   "cell_type": "code",
   "execution_count": 0,
   "metadata": {
    "application/vnd.databricks.v1+cell": {
     "cellMetadata": {
      "byteLimit": 2048000,
      "rowLimit": 10000
     },
     "inputWidgets": {},
     "nuid": "2ec4a536-fdfe-4842-aa9a-ff120c67ec7a",
     "showTitle": false,
     "title": ""
    }
   },
   "outputs": [
    {
     "output_type": "stream",
     "name": "stdout",
     "output_type": "stream",
     "text": [
      "+------+--------------------+-------------+------+--------+--------------+-----------+------------------+--------------+------------+----------+----------+\n|row_id|         customer_id|customer_name|region|province|customer_since|total_years|total_orders_count|loyalty_points|loyalty_type|start_date|  end_date|\n+------+--------------------+-------------+------+--------+--------------+-----------+------------------+--------------+------------+----------+----------+\n|   797|001492ac094ba3c98...| Mike Jackson| North|   Yukon|          2024|          1|                 1|            50|     Classic|2024-05-27|9999-12-31|\n+------+--------------------+-------------+------+--------+--------------+-----------+------------------+--------------+------------+----------+----------+\n\n"
     ]
    }
   ],
   "source": [
    "spark.sql('''\n",
    "select * from sales.customer_loyalty_hist_details where customer_id='001492ac094ba3c986a45e7799a0409db64ed3c856e39cf16854012aa468fa02'\n",
    "''').show()"
   ]
  },
  {
   "cell_type": "code",
   "execution_count": 0,
   "metadata": {
    "application/vnd.databricks.v1+cell": {
     "cellMetadata": {
      "byteLimit": 2048000,
      "rowLimit": 10000
     },
     "inputWidgets": {},
     "nuid": "d5bec0dd-5266-4760-a4b1-cd96a21c0f53",
     "showTitle": false,
     "title": ""
    }
   },
   "outputs": [
    {
     "output_type": "stream",
     "name": "stdout",
     "output_type": "stream",
     "text": [
      "max row id :  797\n"
     ]
    }
   ],
   "source": [
    "max_row_id = spark.sql(\"SELECT COALESCE(MAX(row_id)) FROM sales.customer_loyalty_hist_details\").collect()[0][0]\n",
    "print(\"max row id : \",max_row_id)"
   ]
  },
  {
   "cell_type": "code",
   "execution_count": 0,
   "metadata": {
    "application/vnd.databricks.v1+cell": {
     "cellMetadata": {
      "byteLimit": 2048000,
      "rowLimit": 10000
     },
     "inputWidgets": {},
     "nuid": "f35b3f73-9004-46c5-9a9b-29107dfc15c5",
     "showTitle": false,
     "title": ""
    }
   },
   "outputs": [],
   "source": [
    "schema = StructType([\n",
    "    StructField(\"customer_id\", StringType(), True), \n",
    "    StructField(\"customer_name\", StringType(), True), \n",
    "    StructField(\"region\", StringType(), True), \n",
    "    StructField(\"province\", StringType(), True), \n",
    "    StructField(\"customer_since\", IntegerType(), True), \n",
    "    StructField(\"total_years\", IntegerType(), True) ,\n",
    "    StructField(\"total_orders_count\", IntegerType(), True),\n",
    "    StructField(\"loyalty_points\", IntegerType(), True) ,\n",
    "    StructField(\"loyalty_type\", StringType(), True) \n",
    "])\n",
    "new_cust_dtls_data = [\n",
    "    (\"001492ac094ba3c986a45e7799a0409db64ed3c856e39cf16854012aa468fa01\",\"Nick Crebassa\",'Yukon','Texas',2009,15,460,1000,\"Gold\"),\n",
    "    (\"001492ac094ba3c986a45e7799a0409db64ed3c856e39cf16854012aa468fa02\", \"Mike Jackson\",'Andra','Yukon',2024,1,4,100,\"Classic\"),\n",
    "    (\"001492ac094ba3c986a45e7799a0409db64ed3c856e39cf16854012aa468fa03\", \"Nick Jones\",'Kingdom','Kingdom',2024,1,1,50,\"Classic\")\n",
    "]\n",
    "# Create DataFrame for new order data\n",
    "new_cust_dtls_df = spark.createDataFrame(new_cust_dtls_data,schema)"
   ]
  },
  {
   "cell_type": "code",
   "execution_count": 0,
   "metadata": {
    "application/vnd.databricks.v1+cell": {
     "cellMetadata": {
      "byteLimit": 2048000,
      "rowLimit": 10000
     },
     "inputWidgets": {},
     "nuid": "0e7f63a6-5404-4a69-8dd1-b9ac39c4bd8c",
     "showTitle": false,
     "title": ""
    }
   },
   "outputs": [],
   "source": [
    "new_cust_dtls_df = new_cust_dtls_df.withColumn(\"start_date\", current_date()+2) \\\n",
    "               .withColumn(\"end_date\", lit(\"9999-12-31\")) \\\n",
    "               .withColumn(\"row_id\", row_number().over(Window.orderBy(\"customer_id\")) + max_row_id)\n"
   ]
  },
  {
   "cell_type": "code",
   "execution_count": 0,
   "metadata": {
    "application/vnd.databricks.v1+cell": {
     "cellMetadata": {
      "byteLimit": 2048000,
      "rowLimit": 10000
     },
     "inputWidgets": {},
     "nuid": "5b96f6eb-fa87-47b1-981b-52641f70f69c",
     "showTitle": false,
     "title": ""
    }
   },
   "outputs": [
    {
     "output_type": "stream",
     "name": "stdout",
     "output_type": "stream",
     "text": [
      "+----------------------------------------------------------------+-------------+------+--------+--------------+-----------+------------------+--------------+------------+----------+----------+------+\n|customer_id                                                     |customer_name|region|province|customer_since|total_years|total_orders_count|loyalty_points|loyalty_type|start_date|end_date  |row_id|\n+----------------------------------------------------------------+-------------+------+--------+--------------+-----------+------------------+--------------+------------+----------+----------+------+\n|001492ac094ba3c986a45e7799a0409db64ed3c856e39cf16854012aa468fa01|Nick Crebassa|Yukon |Texas   |2009          |15         |460               |1000          |Gold        |2024-05-28|9999-12-31|798   |\n|001492ac094ba3c986a45e7799a0409db64ed3c856e39cf16854012aa468fa02|Mike Jackson |Andra |Yukon   |2024          |1          |4                 |100           |Classic     |2024-05-28|9999-12-31|799   |\n+----------------------------------------------------------------+-------------+------+--------+--------------+-----------+------------------+--------------+------------+----------+----------+------+\nonly showing top 2 rows\n\n"
     ]
    }
   ],
   "source": [
    "new_cust_dtls_df.show(2,truncate=False)"
   ]
  },
  {
   "cell_type": "code",
   "execution_count": 0,
   "metadata": {
    "application/vnd.databricks.v1+cell": {
     "cellMetadata": {
      "byteLimit": 2048000,
      "rowLimit": 10000
     },
     "inputWidgets": {},
     "nuid": "64ba5063-70dc-46da-97d7-283787796d4a",
     "showTitle": false,
     "title": ""
    }
   },
   "outputs": [],
   "source": [
    "cust_latest_df = customer_loyalty_details_hist_instance.toDF().withColumn(\"row_number\", row_number().over(\n",
    "    Window.partitionBy(\"customer_id\").orderBy(desc(\"start_date\"))\n",
    "    )).filter(\"row_number = 1\").drop(\"row_number\")\n",
    "cust_latest_df.write.format(\"delta\").mode(\"overwrite\").save('/FileStore/tables/delta-table-merge/cust_loyalty_hist_latest_dtls')\n",
    "cust_dtls_hist_latest_instance = DeltaTable.forPath(spark, \"/FileStore/tables/delta-table-merge/cust_loyalty_hist_latest_dtls\")"
   ]
  },
  {
   "cell_type": "code",
   "execution_count": 0,
   "metadata": {
    "application/vnd.databricks.v1+cell": {
     "cellMetadata": {
      "byteLimit": 2048000,
      "rowLimit": 10000
     },
     "inputWidgets": {},
     "nuid": "79ba7578-4f34-46e5-8a7e-a27f1ee7f7ff",
     "showTitle": false,
     "title": ""
    }
   },
   "outputs": [],
   "source": [
    "#Updating end_date of latest record for a given customer\n",
    "cust_dtls_hist_latest_instance.alias(\"target\").merge(\n",
    "    new_cust_dtls_df.alias(\"source\"),\n",
    "    \"target.customer_id = source.customer_id\"\n",
    ").whenMatchedUpdate(\n",
    "    set={\"end_date\": current_date()+2}\n",
    ").whenNotMatchedInsertAll().execute()\n",
    "\n"
   ]
  },
  {
   "cell_type": "code",
   "execution_count": 0,
   "metadata": {
    "application/vnd.databricks.v1+cell": {
     "cellMetadata": {
      "byteLimit": 2048000,
      "rowLimit": 10000
     },
     "inputWidgets": {},
     "nuid": "21731026-d428-4fdb-b711-0f8129a10016",
     "showTitle": false,
     "title": ""
    }
   },
   "outputs": [],
   "source": [
    "# Inserting all the records with latest information about customer\n",
    "cust_dtls_hist_latest_instance.alias(\"target\").merge(\n",
    "    new_cust_dtls_df.alias(\"source\"),\n",
    "\"target.customer_id = source.customer_id and target.row_id = source.row_id and target.start_date = source.start_date and target.end_date = source.end_date\"\n",
    ").whenMatchedUpdateAll(). \\\n",
    "whenNotMatchedInsertAll(). \\\n",
    "execute()"
   ]
  },
  {
   "cell_type": "code",
   "execution_count": 0,
   "metadata": {
    "application/vnd.databricks.v1+cell": {
     "cellMetadata": {
      "byteLimit": 2048000,
      "rowLimit": 10000
     },
     "inputWidgets": {},
     "nuid": "b73cc519-66d3-4210-af88-84c4a353a7e1",
     "showTitle": false,
     "title": ""
    }
   },
   "outputs": [
    {
     "output_type": "stream",
     "name": "stdout",
     "output_type": "stream",
     "text": [
      "+------+--------------------+-------------+------+--------+--------------+-----------+------------------+--------------+------------+----------+----------+\n|row_id|         customer_id|customer_name|region|province|customer_since|total_years|total_orders_count|loyalty_points|loyalty_type|start_date|  end_date|\n+------+--------------------+-------------+------+--------+--------------+-----------+------------------+--------------+------------+----------+----------+\n|   796|001492ac094ba3c98...|Nick Crebassa| Texas|   Texas|          2009|         15|               450|          1000|        Gold|2024-05-27|2024-05-28|\n|   797|001492ac094ba3c98...| Mike Jackson| North|   Yukon|          2024|          1|                 1|            50|     Classic|2024-05-27|2024-05-28|\n|   798|001492ac094ba3c98...|Nick Crebassa| Yukon|   Texas|          2009|         15|               460|          1000|        Gold|2024-05-28|9999-12-31|\n|   799|001492ac094ba3c98...| Mike Jackson| Andra|   Yukon|          2024|          1|                 4|           100|     Classic|2024-05-28|9999-12-31|\n+------+--------------------+-------------+------+--------+--------------+-----------+------------------+--------------+------------+----------+----------+\n\n"
     ]
    }
   ],
   "source": [
    "cust_dtls_hist_latest_instance.toDF().filter(\"customer_id in ('001492ac094ba3c986a45e7799a0409db64ed3c856e39cf16854012aa468fa01','001492ac094ba3c986a45e7799a0409db64ed3c856e39cf16854012aa468fa02')\").orderBy(\"row_id\").show()"
   ]
  },
  {
   "cell_type": "code",
   "execution_count": 0,
   "metadata": {
    "application/vnd.databricks.v1+cell": {
     "cellMetadata": {
      "byteLimit": 2048000,
      "rowLimit": 10000
     },
     "inputWidgets": {},
     "nuid": "2631d516-f7e1-4dcb-9e39-a1edc237f984",
     "showTitle": false,
     "title": ""
    }
   },
   "outputs": [],
   "source": [
    "customer_loyalty_details_hist_instance.alias(\"target\").merge(\n",
    "    cust_dtls_hist_latest_instance.toDF().alias(\"source\"),\n",
    "    \"target.customer_id = source.customer_id and target.row_id = source.row_id\"\n",
    ").whenMatchedUpdateAll(). \\\n",
    "whenNotMatchedInsertAll(). \\\n",
    "execute()"
   ]
  },
  {
   "cell_type": "code",
   "execution_count": 0,
   "metadata": {
    "application/vnd.databricks.v1+cell": {
     "cellMetadata": {
      "byteLimit": 2048000,
      "rowLimit": 10000
     },
     "inputWidgets": {},
     "nuid": "839a387d-8a3d-4844-b3fc-84c49c2afea3",
     "showTitle": false,
     "title": ""
    }
   },
   "outputs": [
    {
     "output_type": "stream",
     "name": "stdout",
     "output_type": "stream",
     "text": [
      "+------+--------------------+-------------+------+-----------+--------------+-----------+------------------+--------------+------------+----------+----------+\n|row_id|         customer_id|customer_name|region|   province|customer_since|total_years|total_orders_count|loyalty_points|loyalty_type|start_date|  end_date|\n+------+--------------------+-------------+------+-----------+--------------+-----------+------------------+--------------+------------+----------+----------+\n|     1|001492ac094ba3c98...|Nick Crebassa|Prarie|Saskachewan|          2009|         15|               432|           650|     Classic|2024-05-26|2024-05-27|\n|   796|001492ac094ba3c98...|Nick Crebassa| Texas|      Texas|          2009|         15|               450|          1000|        Gold|2024-05-27|2024-05-28|\n|   798|001492ac094ba3c98...|Nick Crebassa| Yukon|      Texas|          2009|         15|               460|          1000|        Gold|2024-05-28|9999-12-31|\n+------+--------------------+-------------+------+-----------+--------------+-----------+------------------+--------------+------------+----------+----------+\n\n"
     ]
    }
   ],
   "source": [
    "spark.sql('''\n",
    "select * from sales.customer_loyalty_hist_details where customer_id='001492ac094ba3c986a45e7799a0409db64ed3c856e39cf16854012aa468fa01' order by row_id\n",
    "''').show()"
   ]
  },
  {
   "cell_type": "code",
   "execution_count": 0,
   "metadata": {
    "application/vnd.databricks.v1+cell": {
     "cellMetadata": {
      "byteLimit": 2048000,
      "rowLimit": 10000
     },
     "inputWidgets": {},
     "nuid": "74a6da22-dc33-48be-acc7-2328fb545a11",
     "showTitle": false,
     "title": ""
    }
   },
   "outputs": [
    {
     "output_type": "stream",
     "name": "stdout",
     "output_type": "stream",
     "text": [
      "+------+--------------------+-------------+------+--------+--------------+-----------+------------------+--------------+------------+----------+----------+\n|row_id|         customer_id|customer_name|region|province|customer_since|total_years|total_orders_count|loyalty_points|loyalty_type|start_date|  end_date|\n+------+--------------------+-------------+------+--------+--------------+-----------+------------------+--------------+------------+----------+----------+\n|   797|001492ac094ba3c98...| Mike Jackson| North|   Yukon|          2024|          1|                 1|            50|     Classic|2024-05-27|2024-05-28|\n|   799|001492ac094ba3c98...| Mike Jackson| Andra|   Yukon|          2024|          1|                 4|           100|     Classic|2024-05-28|9999-12-31|\n+------+--------------------+-------------+------+--------+--------------+-----------+------------------+--------------+------------+----------+----------+\n\n"
     ]
    }
   ],
   "source": [
    "spark.sql('''\n",
    "select * from sales.customer_loyalty_hist_details where customer_id='001492ac094ba3c986a45e7799a0409db64ed3c856e39cf16854012aa468fa02' order by row_id\n",
    "''').show()"
   ]
  },
  {
   "cell_type": "code",
   "execution_count": 0,
   "metadata": {
    "application/vnd.databricks.v1+cell": {
     "cellMetadata": {
      "byteLimit": 2048000,
      "rowLimit": 10000
     },
     "inputWidgets": {},
     "nuid": "07d79694-74a4-48c3-bda3-25ff9ea1fb80",
     "showTitle": false,
     "title": ""
    }
   },
   "outputs": [
    {
     "output_type": "stream",
     "name": "stdout",
     "output_type": "stream",
     "text": [
      "+------+--------------------+-------------+-------+--------+--------------+-----------+------------------+--------------+------------+----------+----------+\n|row_id|         customer_id|customer_name| region|province|customer_since|total_years|total_orders_count|loyalty_points|loyalty_type|start_date|  end_date|\n+------+--------------------+-------------+-------+--------+--------------+-----------+------------------+--------------+------------+----------+----------+\n|   800|001492ac094ba3c98...|   Nick Jones|Kingdom| Kingdom|          2024|          1|                 1|            50|     Classic|2024-05-28|9999-12-31|\n+------+--------------------+-------------+-------+--------+--------------+-----------+------------------+--------------+------------+----------+----------+\n\n"
     ]
    }
   ],
   "source": [
    "spark.sql('''\n",
    "select * from sales.customer_loyalty_hist_details where customer_id='001492ac094ba3c986a45e7799a0409db64ed3c856e39cf16854012aa468fa03'\n",
    "''').show()"
   ]
  },
  {
   "cell_type": "code",
   "execution_count": 0,
   "metadata": {
    "application/vnd.databricks.v1+cell": {
     "cellMetadata": {
      "byteLimit": 2048000,
      "rowLimit": 10000
     },
     "inputWidgets": {},
     "nuid": "b58e7511-c801-4a93-8958-ccff8835a54c",
     "showTitle": false,
     "title": ""
    }
   },
   "outputs": [
    {
     "output_type": "stream",
     "name": "stdout",
     "output_type": "stream",
     "text": [
      "+------+--------------------+-------------+------+-----------+--------------+-----------+------------------+--------------+------------+----------+----------+\n|row_id|         customer_id|customer_name|region|   province|customer_since|total_years|total_orders_count|loyalty_points|loyalty_type|start_date|  end_date|\n+------+--------------------+-------------+------+-----------+--------------+-----------+------------------+--------------+------------+----------+----------+\n|     1|001492ac094ba3c98...|Nick Crebassa|Prarie|Saskachewan|          2009|         15|               432|           650|     Classic|2024-05-26|2024-05-27|\n|   796|001492ac094ba3c98...|Nick Crebassa| Texas|      Texas|          2009|         15|               450|          1000|        Gold|2024-05-27|2024-05-28|\n|   798|001492ac094ba3c98...|Nick Crebassa| Yukon|      Texas|          2009|         15|               460|          1000|        Gold|2024-05-28|9999-12-31|\n+------+--------------------+-------------+------+-----------+--------------+-----------+------------------+--------------+------------+----------+----------+\n\n+------+--------------------+-------------+------+--------+--------------+-----------+------------------+--------------+------------+----------+----------+\n|row_id|         customer_id|customer_name|region|province|customer_since|total_years|total_orders_count|loyalty_points|loyalty_type|start_date|  end_date|\n+------+--------------------+-------------+------+--------+--------------+-----------+------------------+--------------+------------+----------+----------+\n|   797|001492ac094ba3c98...| Mike Jackson| North|   Yukon|          2024|          1|                 1|            50|     Classic|2024-05-27|2024-05-28|\n|   799|001492ac094ba3c98...| Mike Jackson| Andra|   Yukon|          2024|          1|                 4|           100|     Classic|2024-05-28|9999-12-31|\n+------+--------------------+-------------+------+--------+--------------+-----------+------------------+--------------+------------+----------+----------+\n\n+------+--------------------+-------------+-------+--------+--------------+-----------+------------------+--------------+------------+----------+----------+\n|row_id|         customer_id|customer_name| region|province|customer_since|total_years|total_orders_count|loyalty_points|loyalty_type|start_date|  end_date|\n+------+--------------------+-------------+-------+--------+--------------+-----------+------------------+--------------+------------+----------+----------+\n|   800|001492ac094ba3c98...|   Nick Jones|Kingdom| Kingdom|          2024|          1|                 1|            50|     Classic|2024-05-28|9999-12-31|\n+------+--------------------+-------------+-------+--------+--------------+-----------+------------------+--------------+------------+----------+----------+\n\n"
     ]
    }
   ],
   "source": [
    "for customer_id in ['001492ac094ba3c986a45e7799a0409db64ed3c856e39cf16854012aa468fa01', '001492ac094ba3c986a45e7799a0409db64ed3c856e39cf16854012aa468fa02','001492ac094ba3c986a45e7799a0409db64ed3c856e39cf16854012aa468fa03']:\n",
    "    spark.sql(f\"SELECT * FROM sales.customer_loyalty_hist_details WHERE customer_id='{customer_id}' ORDER BY row_id\").show()"
   ]
  },
  {
   "cell_type": "code",
   "execution_count": 0,
   "metadata": {
    "application/vnd.databricks.v1+cell": {
     "cellMetadata": {
      "byteLimit": 2048000,
      "rowLimit": 10000
     },
     "inputWidgets": {},
     "nuid": "b4581e68-680e-4e78-b419-0426670715af",
     "showTitle": false,
     "title": ""
    }
   },
   "outputs": [
    {
     "output_type": "stream",
     "name": "stdout",
     "output_type": "stream",
     "text": [
      "+--------+\n|count(1)|\n+--------+\n|     800|\n+--------+\n\n"
     ]
    }
   ],
   "source": [
    "spark.sql('''\n",
    "select count(*) from sales.customer_loyalty_hist_details\n",
    "''').show()"
   ]
  }
 ],
 "metadata": {
  "application/vnd.databricks.v1+notebook": {
   "dashboards": [],
   "environmentMetadata": null,
   "language": "python",
   "notebookMetadata": {
    "mostRecentlyExecutedCommandWithImplicitDF": {
     "commandId": 3383603894133776,
     "dataframes": [
      "_sqldf"
     ]
    },
    "pythonIndentUnit": 4
   },
   "notebookName": "load_to_customer_loyalty_dtls_hist_table_inc",
   "widgets": {}
  }
 },
 "nbformat": 4,
 "nbformat_minor": 0
}
