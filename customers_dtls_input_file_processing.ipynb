{
 "cells": [
  {
   "cell_type": "code",
   "execution_count": 0,
   "metadata": {
    "application/vnd.databricks.v1+cell": {
     "cellMetadata": {
      "byteLimit": 2048000,
      "rowLimit": 10000
     },
     "inputWidgets": {},
     "nuid": "cf74c1fc-acfb-4f9a-bb17-0eb7ba4ca8d0",
     "showTitle": false,
     "title": ""
    }
   },
   "outputs": [],
   "source": [
    "file_location = \"/FileStore/tables/customers_order.csv\"\n",
    "file_type = \"csv\""
   ]
  },
  {
   "cell_type": "code",
   "execution_count": 0,
   "metadata": {
    "application/vnd.databricks.v1+cell": {
     "cellMetadata": {
      "byteLimit": 2048000,
      "rowLimit": 10000
     },
     "inputWidgets": {},
     "nuid": "cdf82c30-59e9-4322-bdc2-5d9e39bba1cf",
     "showTitle": false,
     "title": ""
    }
   },
   "outputs": [],
   "source": [
    "infer_schema = '''\n",
    "row_id string,\n",
    "order_id string,\n",
    "order_date string,\n",
    "order_priority string,\n",
    "order_quantity long,\n",
    "sales float,\n",
    "discount float,\n",
    "ship_mode string,\n",
    "profit float,\n",
    "unit_price float,\n",
    "shipping_cost float,\n",
    "customer_name string,\n",
    "province string,\n",
    "region string,\n",
    "customer_segment string,\n",
    "product_category string,\n",
    "product_sub_category string,\n",
    "product_name string,\n",
    "product_container string,\n",
    "ship_date string\n",
    "'''\n",
    "first_row_is_header = \"true\"\n",
    "delimiter = \",\"\n",
    "mode = \"PERMISSIVE\""
   ]
  },
  {
   "cell_type": "code",
   "execution_count": 0,
   "metadata": {
    "application/vnd.databricks.v1+cell": {
     "cellMetadata": {
      "byteLimit": 2048000,
      "rowLimit": 10000
     },
     "inputWidgets": {},
     "nuid": "f6553aae-97c3-4cfc-95ad-29e23b221fa3",
     "showTitle": false,
     "title": ""
    }
   },
   "outputs": [],
   "source": [
    "from pyspark.sql.functions import *\n",
    "from pyspark.sql.window import Window"
   ]
  },
  {
   "cell_type": "code",
   "execution_count": 0,
   "metadata": {
    "application/vnd.databricks.v1+cell": {
     "cellMetadata": {
      "byteLimit": 2048000,
      "rowLimit": 10000
     },
     "inputWidgets": {},
     "nuid": "5a94a012-2d60-47c0-8085-c0f0dc9aa419",
     "showTitle": false,
     "title": ""
    }
   },
   "outputs": [],
   "source": [
    "df = spark.read.format(file_type) \\\n",
    "  .option(\"mode\",mode) \\\n",
    "  .schema(infer_schema) \\\n",
    "  .option(\"sep\", delimiter) \\\n",
    "  .option(\"header\",first_row_is_header) \\\n",
    "  .load(file_location)"
   ]
  },
  {
   "cell_type": "code",
   "execution_count": 0,
   "metadata": {
    "application/vnd.databricks.v1+cell": {
     "cellMetadata": {
      "byteLimit": 2048000,
      "rowLimit": 10000
     },
     "inputWidgets": {},
     "nuid": "5c6d1f88-ad56-4dac-bbbe-3d206b25e341",
     "showTitle": false,
     "title": ""
    }
   },
   "outputs": [
    {
     "output_type": "display_data",
     "data": {
      "text/html": [
       "<style scoped>\n",
       "  .table-result-container {\n",
       "    max-height: 300px;\n",
       "    overflow: auto;\n",
       "  }\n",
       "  table, th, td {\n",
       "    border: 1px solid black;\n",
       "    border-collapse: collapse;\n",
       "  }\n",
       "  th, td {\n",
       "    padding: 5px;\n",
       "  }\n",
       "  th {\n",
       "    text-align: left;\n",
       "  }\n",
       "</style><div class='table-result-container'><table class='table-result'><thead style='background-color: white'><tr><th>row_id</th><th>order_id</th><th>order_date</th><th>order_priority</th><th>order_quantity</th><th>sales</th><th>discount</th><th>ship_mode</th><th>profit</th><th>unit_price</th><th>shipping_cost</th><th>customer_name</th><th>province</th><th>region</th><th>customer_segment</th><th>product_category</th><th>product_sub_category</th><th>product_name</th><th>product_container</th><th>ship_date</th></tr></thead><tbody><tr><td>1</td><td>3</td><td>40464</td><td>Low</td><td>6</td><td>261.54</td><td>0.04</td><td>Regular Air</td><td>-213.25</td><td>38.94</td><td>35.0</td><td>Muhammed MacIntyre</td><td>Nunavut</td><td>Nunavut</td><td>Small Business</td><td>Office Supplies</td><td>Storage & Organization</td><td>Eldon Base for stackable storage shelf, platinum</td><td>Large Box</td><td>20-10-2010</td></tr><tr><td>49</td><td>293</td><td>41183</td><td>High</td><td>49</td><td>10123.02</td><td>0.07</td><td>Delivery Truck</td><td>457.81</td><td>208.16</td><td>68.02</td><td>Barry French</td><td>Nunavut</td><td>Nunavut</td><td>Consumer</td><td>Office Supplies</td><td>Appliances</td><td>\"1.7 Cubic Foot Compact \"\"Cube\"\" Office Refrigerators\"</td><td>Jumbo Drum</td><td>02-10-2012</td></tr><tr><td>50</td><td>293</td><td>41183</td><td>High</td><td>27</td><td>244.57</td><td>0.01</td><td>Regular Air</td><td>46.71</td><td>8.69</td><td>2.99</td><td>Barry French</td><td>Nunavut</td><td>Nunavut</td><td>Consumer</td><td>Office Supplies</td><td>Binders and Binder Accessories</td><td>Cardinal Slant-D� Ring Binder, Heavy Gauge Vinyl</td><td>Small Box</td><td>03-10-2012</td></tr><tr><td>80</td><td>483</td><td>40734</td><td>High</td><td>30</td><td>4965.7593</td><td>0.08</td><td>Regular Air</td><td>1198.97</td><td>195.99</td><td>3.99</td><td>Clay Rozendal</td><td>Nunavut</td><td>Nunavut</td><td>Corporate</td><td>Technology</td><td>Telephones and Communication</td><td>R380</td><td>Small Box</td><td>12-07-2011</td></tr><tr><td>85</td><td>515</td><td>40418</td><td>Not Specified</td><td>19</td><td>394.27</td><td>0.08</td><td>Regular Air</td><td>30.94</td><td>21.78</td><td>5.94</td><td>Carlos Soltero</td><td>Nunavut</td><td>Nunavut</td><td>Consumer</td><td>Office Supplies</td><td>Appliances</td><td>Holmes HEPA Air Purifier</td><td>Medium Box</td><td>30-08-2010</td></tr></tbody></table></div>"
      ]
     },
     "metadata": {
      "application/vnd.databricks.v1+output": {
       "addedWidgets": {},
       "aggData": [],
       "aggError": "",
       "aggOverflow": false,
       "aggSchema": [],
       "aggSeriesLimitReached": false,
       "aggType": "",
       "arguments": {},
       "columnCustomDisplayInfos": {},
       "data": [
        [
         "1",
         "3",
         "40464",
         "Low",
         6,
         261.54,
         0.04,
         "Regular Air",
         -213.25,
         38.94,
         35.0,
         "Muhammed MacIntyre",
         "Nunavut",
         "Nunavut",
         "Small Business",
         "Office Supplies",
         "Storage & Organization",
         "Eldon Base for stackable storage shelf, platinum",
         "Large Box",
         "20-10-2010"
        ],
        [
         "49",
         "293",
         "41183",
         "High",
         49,
         10123.02,
         0.07,
         "Delivery Truck",
         457.81,
         208.16,
         68.02,
         "Barry French",
         "Nunavut",
         "Nunavut",
         "Consumer",
         "Office Supplies",
         "Appliances",
         "\"1.7 Cubic Foot Compact \"\"Cube\"\" Office Refrigerators\"",
         "Jumbo Drum",
         "02-10-2012"
        ],
        [
         "50",
         "293",
         "41183",
         "High",
         27,
         244.57,
         0.01,
         "Regular Air",
         46.71,
         8.69,
         2.99,
         "Barry French",
         "Nunavut",
         "Nunavut",
         "Consumer",
         "Office Supplies",
         "Binders and Binder Accessories",
         "Cardinal Slant-D� Ring Binder, Heavy Gauge Vinyl",
         "Small Box",
         "03-10-2012"
        ],
        [
         "80",
         "483",
         "40734",
         "High",
         30,
         4965.7593,
         0.08,
         "Regular Air",
         1198.97,
         195.99,
         3.99,
         "Clay Rozendal",
         "Nunavut",
         "Nunavut",
         "Corporate",
         "Technology",
         "Telephones and Communication",
         "R380",
         "Small Box",
         "12-07-2011"
        ],
        [
         "85",
         "515",
         "40418",
         "Not Specified",
         19,
         394.27,
         0.08,
         "Regular Air",
         30.94,
         21.78,
         5.94,
         "Carlos Soltero",
         "Nunavut",
         "Nunavut",
         "Consumer",
         "Office Supplies",
         "Appliances",
         "Holmes HEPA Air Purifier",
         "Medium Box",
         "30-08-2010"
        ]
       ],
       "datasetInfos": [],
       "dbfsResultPath": null,
       "isJsonSchema": true,
       "metadata": {},
       "overflow": false,
       "plotOptions": {
        "customPlotOptions": {},
        "displayType": "table",
        "pivotAggregation": null,
        "pivotColumns": null,
        "xColumns": null,
        "yColumns": null
       },
       "removedWidgets": [],
       "schema": [
        {
         "metadata": "{}",
         "name": "row_id",
         "type": "\"string\""
        },
        {
         "metadata": "{}",
         "name": "order_id",
         "type": "\"string\""
        },
        {
         "metadata": "{}",
         "name": "order_date",
         "type": "\"string\""
        },
        {
         "metadata": "{}",
         "name": "order_priority",
         "type": "\"string\""
        },
        {
         "metadata": "{}",
         "name": "order_quantity",
         "type": "\"long\""
        },
        {
         "metadata": "{}",
         "name": "sales",
         "type": "\"float\""
        },
        {
         "metadata": "{}",
         "name": "discount",
         "type": "\"float\""
        },
        {
         "metadata": "{}",
         "name": "ship_mode",
         "type": "\"string\""
        },
        {
         "metadata": "{}",
         "name": "profit",
         "type": "\"float\""
        },
        {
         "metadata": "{}",
         "name": "unit_price",
         "type": "\"float\""
        },
        {
         "metadata": "{}",
         "name": "shipping_cost",
         "type": "\"float\""
        },
        {
         "metadata": "{}",
         "name": "customer_name",
         "type": "\"string\""
        },
        {
         "metadata": "{}",
         "name": "province",
         "type": "\"string\""
        },
        {
         "metadata": "{}",
         "name": "region",
         "type": "\"string\""
        },
        {
         "metadata": "{}",
         "name": "customer_segment",
         "type": "\"string\""
        },
        {
         "metadata": "{}",
         "name": "product_category",
         "type": "\"string\""
        },
        {
         "metadata": "{}",
         "name": "product_sub_category",
         "type": "\"string\""
        },
        {
         "metadata": "{}",
         "name": "product_name",
         "type": "\"string\""
        },
        {
         "metadata": "{}",
         "name": "product_container",
         "type": "\"string\""
        },
        {
         "metadata": "{}",
         "name": "ship_date",
         "type": "\"string\""
        }
       ],
       "type": "table"
      }
     },
     "output_type": "display_data"
    }
   ],
   "source": [
    "df.limit(5).display()"
   ]
  },
  {
   "cell_type": "code",
   "execution_count": 0,
   "metadata": {
    "application/vnd.databricks.v1+cell": {
     "cellMetadata": {
      "byteLimit": 2048000,
      "rowLimit": 10000
     },
     "inputWidgets": {},
     "nuid": "a286a4b4-1114-4aad-b865-923f931abf39",
     "showTitle": false,
     "title": ""
    }
   },
   "outputs": [
    {
     "output_type": "stream",
     "name": "stdout",
     "output_type": "stream",
     "text": [
      "root\n |-- row_id: string (nullable = true)\n |-- order_id: string (nullable = true)\n |-- order_date: string (nullable = true)\n |-- order_priority: string (nullable = true)\n |-- order_quantity: long (nullable = true)\n |-- sales: float (nullable = true)\n |-- discount: float (nullable = true)\n |-- ship_mode: string (nullable = true)\n |-- profit: float (nullable = true)\n |-- unit_price: float (nullable = true)\n |-- shipping_cost: float (nullable = true)\n |-- customer_name: string (nullable = true)\n |-- province: string (nullable = true)\n |-- region: string (nullable = true)\n |-- customer_segment: string (nullable = true)\n |-- product_category: string (nullable = true)\n |-- product_sub_category: string (nullable = true)\n |-- product_name: string (nullable = true)\n |-- product_container: string (nullable = true)\n |-- ship_date: string (nullable = true)\n\n"
     ]
    }
   ],
   "source": [
    "df.printSchema()"
   ]
  },
  {
   "cell_type": "code",
   "execution_count": 0,
   "metadata": {
    "application/vnd.databricks.v1+cell": {
     "cellMetadata": {
      "byteLimit": 2048000,
      "rowLimit": 10000
     },
     "inputWidgets": {},
     "nuid": "ea850667-70c4-4a3f-9e67-f0e03b0685cc",
     "showTitle": false,
     "title": ""
    }
   },
   "outputs": [],
   "source": [
    "df = df.withColumn('ship_date', to_date('ship_date', 'dd-MM-yyyy'))"
   ]
  },
  {
   "cell_type": "code",
   "execution_count": 0,
   "metadata": {
    "application/vnd.databricks.v1+cell": {
     "cellMetadata": {
      "byteLimit": 2048000,
      "rowLimit": 10000
     },
     "inputWidgets": {},
     "nuid": "39fbb880-a17d-499a-8082-634697324f89",
     "showTitle": false,
     "title": ""
    }
   },
   "outputs": [
    {
     "output_type": "stream",
     "name": "stdout",
     "output_type": "stream",
     "text": [
      "root\n |-- row_id: string (nullable = true)\n |-- order_id: string (nullable = true)\n |-- order_date: string (nullable = true)\n |-- order_priority: string (nullable = true)\n |-- order_quantity: long (nullable = true)\n |-- sales: float (nullable = true)\n |-- discount: float (nullable = true)\n |-- ship_mode: string (nullable = true)\n |-- profit: float (nullable = true)\n |-- unit_price: float (nullable = true)\n |-- shipping_cost: float (nullable = true)\n |-- customer_name: string (nullable = true)\n |-- province: string (nullable = true)\n |-- region: string (nullable = true)\n |-- customer_segment: string (nullable = true)\n |-- product_category: string (nullable = true)\n |-- product_sub_category: string (nullable = true)\n |-- product_name: string (nullable = true)\n |-- product_container: string (nullable = true)\n |-- ship_date: date (nullable = true)\n\n"
     ]
    }
   ],
   "source": [
    "df.printSchema()"
   ]
  },
  {
   "cell_type": "code",
   "execution_count": 0,
   "metadata": {
    "application/vnd.databricks.v1+cell": {
     "cellMetadata": {
      "byteLimit": 2048000,
      "rowLimit": 10000
     },
     "inputWidgets": {},
     "nuid": "76f64c54-51b1-41d8-86f7-7671c747c496",
     "showTitle": false,
     "title": ""
    }
   },
   "outputs": [],
   "source": [
    "df=df.withColumn('loyalty_points',lit(50)) \\\n",
    "    .withColumn('loyalty_type', lit('Classic'))"
   ]
  },
  {
   "cell_type": "code",
   "execution_count": 0,
   "metadata": {
    "application/vnd.databricks.v1+cell": {
     "cellMetadata": {
      "byteLimit": 2048000,
      "implicitDf": true,
      "rowLimit": 10000
     },
     "inputWidgets": {},
     "nuid": "10b7538a-7c50-42ac-aa4a-5bdfe0d608ec",
     "showTitle": false,
     "title": ""
    }
   },
   "outputs": [
    {
     "output_type": "display_data",
     "data": {
      "text/html": [
       "<style scoped>\n",
       "  .table-result-container {\n",
       "    max-height: 300px;\n",
       "    overflow: auto;\n",
       "  }\n",
       "  table, th, td {\n",
       "    border: 1px solid black;\n",
       "    border-collapse: collapse;\n",
       "  }\n",
       "  th, td {\n",
       "    padding: 5px;\n",
       "  }\n",
       "  th {\n",
       "    text-align: left;\n",
       "  }\n",
       "</style><div class='table-result-container'><table class='table-result'><thead style='background-color: white'><tr><th>row_id</th><th>order_id</th><th>order_date</th><th>order_priority</th><th>order_quantity</th><th>sales</th><th>discount</th><th>ship_mode</th><th>profit</th><th>unit_price</th><th>shipping_cost</th><th>customer_name</th><th>province</th><th>region</th><th>customer_segment</th><th>product_category</th><th>product_sub_category</th><th>product_name</th><th>product_container</th><th>ship_date</th><th>loyalty_points</th><th>loyalty_type</th></tr></thead><tbody><tr><td>1</td><td>3</td><td>40464</td><td>Low</td><td>6</td><td>261.54</td><td>0.04</td><td>Regular Air</td><td>-213.25</td><td>38.94</td><td>35.0</td><td>Muhammed MacIntyre</td><td>Nunavut</td><td>Nunavut</td><td>Small Business</td><td>Office Supplies</td><td>Storage & Organization</td><td>Eldon Base for stackable storage shelf, platinum</td><td>Large Box</td><td>2010-10-20</td><td>50</td><td>Classic</td></tr><tr><td>49</td><td>293</td><td>41183</td><td>High</td><td>49</td><td>10123.02</td><td>0.07</td><td>Delivery Truck</td><td>457.81</td><td>208.16</td><td>68.02</td><td>Barry French</td><td>Nunavut</td><td>Nunavut</td><td>Consumer</td><td>Office Supplies</td><td>Appliances</td><td>\"1.7 Cubic Foot Compact \"\"Cube\"\" Office Refrigerators\"</td><td>Jumbo Drum</td><td>2012-10-02</td><td>50</td><td>Classic</td></tr><tr><td>50</td><td>293</td><td>41183</td><td>High</td><td>27</td><td>244.57</td><td>0.01</td><td>Regular Air</td><td>46.71</td><td>8.69</td><td>2.99</td><td>Barry French</td><td>Nunavut</td><td>Nunavut</td><td>Consumer</td><td>Office Supplies</td><td>Binders and Binder Accessories</td><td>Cardinal Slant-D� Ring Binder, Heavy Gauge Vinyl</td><td>Small Box</td><td>2012-10-03</td><td>50</td><td>Classic</td></tr><tr><td>80</td><td>483</td><td>40734</td><td>High</td><td>30</td><td>4965.7593</td><td>0.08</td><td>Regular Air</td><td>1198.97</td><td>195.99</td><td>3.99</td><td>Clay Rozendal</td><td>Nunavut</td><td>Nunavut</td><td>Corporate</td><td>Technology</td><td>Telephones and Communication</td><td>R380</td><td>Small Box</td><td>2011-07-12</td><td>50</td><td>Classic</td></tr><tr><td>85</td><td>515</td><td>40418</td><td>Not Specified</td><td>19</td><td>394.27</td><td>0.08</td><td>Regular Air</td><td>30.94</td><td>21.78</td><td>5.94</td><td>Carlos Soltero</td><td>Nunavut</td><td>Nunavut</td><td>Consumer</td><td>Office Supplies</td><td>Appliances</td><td>Holmes HEPA Air Purifier</td><td>Medium Box</td><td>2010-08-30</td><td>50</td><td>Classic</td></tr></tbody></table></div>"
      ]
     },
     "metadata": {
      "application/vnd.databricks.v1+output": {
       "addedWidgets": {},
       "aggData": [],
       "aggError": "",
       "aggOverflow": false,
       "aggSchema": [],
       "aggSeriesLimitReached": false,
       "aggType": "",
       "arguments": {},
       "columnCustomDisplayInfos": {},
       "data": [
        [
         "1",
         "3",
         "40464",
         "Low",
         6,
         261.54,
         0.04,
         "Regular Air",
         -213.25,
         38.94,
         35.0,
         "Muhammed MacIntyre",
         "Nunavut",
         "Nunavut",
         "Small Business",
         "Office Supplies",
         "Storage & Organization",
         "Eldon Base for stackable storage shelf, platinum",
         "Large Box",
         "2010-10-20",
         50,
         "Classic"
        ],
        [
         "49",
         "293",
         "41183",
         "High",
         49,
         10123.02,
         0.07,
         "Delivery Truck",
         457.81,
         208.16,
         68.02,
         "Barry French",
         "Nunavut",
         "Nunavut",
         "Consumer",
         "Office Supplies",
         "Appliances",
         "\"1.7 Cubic Foot Compact \"\"Cube\"\" Office Refrigerators\"",
         "Jumbo Drum",
         "2012-10-02",
         50,
         "Classic"
        ],
        [
         "50",
         "293",
         "41183",
         "High",
         27,
         244.57,
         0.01,
         "Regular Air",
         46.71,
         8.69,
         2.99,
         "Barry French",
         "Nunavut",
         "Nunavut",
         "Consumer",
         "Office Supplies",
         "Binders and Binder Accessories",
         "Cardinal Slant-D� Ring Binder, Heavy Gauge Vinyl",
         "Small Box",
         "2012-10-03",
         50,
         "Classic"
        ],
        [
         "80",
         "483",
         "40734",
         "High",
         30,
         4965.7593,
         0.08,
         "Regular Air",
         1198.97,
         195.99,
         3.99,
         "Clay Rozendal",
         "Nunavut",
         "Nunavut",
         "Corporate",
         "Technology",
         "Telephones and Communication",
         "R380",
         "Small Box",
         "2011-07-12",
         50,
         "Classic"
        ],
        [
         "85",
         "515",
         "40418",
         "Not Specified",
         19,
         394.27,
         0.08,
         "Regular Air",
         30.94,
         21.78,
         5.94,
         "Carlos Soltero",
         "Nunavut",
         "Nunavut",
         "Consumer",
         "Office Supplies",
         "Appliances",
         "Holmes HEPA Air Purifier",
         "Medium Box",
         "2010-08-30",
         50,
         "Classic"
        ]
       ],
       "datasetInfos": [],
       "dbfsResultPath": null,
       "isJsonSchema": true,
       "metadata": {},
       "overflow": false,
       "plotOptions": {
        "customPlotOptions": {},
        "displayType": "table",
        "pivotAggregation": null,
        "pivotColumns": null,
        "xColumns": null,
        "yColumns": null
       },
       "removedWidgets": [],
       "schema": [
        {
         "metadata": "{}",
         "name": "row_id",
         "type": "\"string\""
        },
        {
         "metadata": "{}",
         "name": "order_id",
         "type": "\"string\""
        },
        {
         "metadata": "{}",
         "name": "order_date",
         "type": "\"string\""
        },
        {
         "metadata": "{}",
         "name": "order_priority",
         "type": "\"string\""
        },
        {
         "metadata": "{}",
         "name": "order_quantity",
         "type": "\"long\""
        },
        {
         "metadata": "{}",
         "name": "sales",
         "type": "\"float\""
        },
        {
         "metadata": "{}",
         "name": "discount",
         "type": "\"float\""
        },
        {
         "metadata": "{}",
         "name": "ship_mode",
         "type": "\"string\""
        },
        {
         "metadata": "{}",
         "name": "profit",
         "type": "\"float\""
        },
        {
         "metadata": "{}",
         "name": "unit_price",
         "type": "\"float\""
        },
        {
         "metadata": "{}",
         "name": "shipping_cost",
         "type": "\"float\""
        },
        {
         "metadata": "{}",
         "name": "customer_name",
         "type": "\"string\""
        },
        {
         "metadata": "{}",
         "name": "province",
         "type": "\"string\""
        },
        {
         "metadata": "{}",
         "name": "region",
         "type": "\"string\""
        },
        {
         "metadata": "{}",
         "name": "customer_segment",
         "type": "\"string\""
        },
        {
         "metadata": "{}",
         "name": "product_category",
         "type": "\"string\""
        },
        {
         "metadata": "{}",
         "name": "product_sub_category",
         "type": "\"string\""
        },
        {
         "metadata": "{}",
         "name": "product_name",
         "type": "\"string\""
        },
        {
         "metadata": "{}",
         "name": "product_container",
         "type": "\"string\""
        },
        {
         "metadata": "{}",
         "name": "ship_date",
         "type": "\"date\""
        },
        {
         "metadata": "{}",
         "name": "loyalty_points",
         "type": "\"integer\""
        },
        {
         "metadata": "{}",
         "name": "loyalty_type",
         "type": "\"string\""
        }
       ],
       "type": "table"
      }
     },
     "output_type": "display_data"
    }
   ],
   "source": [
    "df.limit(5).display()"
   ]
  },
  {
   "cell_type": "code",
   "execution_count": 0,
   "metadata": {
    "application/vnd.databricks.v1+cell": {
     "cellMetadata": {
      "byteLimit": 2048000,
      "rowLimit": 10000
     },
     "inputWidgets": {},
     "nuid": "04afbbd6-e48a-4b3d-bca8-c60bf1205369",
     "showTitle": false,
     "title": ""
    }
   },
   "outputs": [
    {
     "output_type": "display_data",
     "data": {
      "text/html": [
       "<style scoped>\n",
       "  .table-result-container {\n",
       "    max-height: 300px;\n",
       "    overflow: auto;\n",
       "  }\n",
       "  table, th, td {\n",
       "    border: 1px solid black;\n",
       "    border-collapse: collapse;\n",
       "  }\n",
       "  th, td {\n",
       "    padding: 5px;\n",
       "  }\n",
       "  th {\n",
       "    text-align: left;\n",
       "  }\n",
       "</style><div class='table-result-container'><table class='table-result'><thead style='background-color: white'><tr><th>row_id</th><th>order_id</th><th>order_date</th><th>order_priority</th><th>order_quantity</th><th>sales</th><th>discount</th><th>ship_mode</th><th>profit</th><th>unit_price</th><th>shipping_cost</th><th>customer_name</th><th>province</th><th>region</th><th>customer_segment</th><th>product_category</th><th>product_sub_category</th><th>product_name</th><th>product_container</th><th>ship_date</th><th>loyalty_points</th><th>loyalty_type</th></tr></thead><tbody><tr><td>606</td><td>4132</td><td>40691</td><td>Not Specified</td><td>5</td><td>14.76</td><td>0.01</td><td>Regular Air</td><td>1.32</td><td>2.88</td><td>0.5</td><td>Aaron Bergman</td><td>Nunavut</td><td>Nunavut</td><td>Corporate</td><td>Office Supplies</td><td>Labels</td><td>Avery 49</td><td>Small Box</td><td>2011-05-30</td><td>50</td><td>Classic</td></tr><tr><td>5087</td><td>36262</td><td>40386</td><td>Not Specified</td><td>23</td><td>136.81</td><td>0.01</td><td>Regular Air</td><td>-30.51</td><td>5.68</td><td>3.6</td><td>Aaron Bergman</td><td>Alberta</td><td>West</td><td>Corporate</td><td>Office Supplies</td><td>Scissors, Rulers and Trimmers</td><td>Acme� Preferred Stainless Steel Scissors</td><td>Small Pack</td><td>2010-07-28</td><td>50</td><td>Classic</td></tr><tr><td>2847</td><td>20513</td><td>40001</td><td>High</td><td>13</td><td>42.27</td><td>0.01</td><td>Express Air</td><td>4.56</td><td>2.84</td><td>0.93</td><td>Aaron Bergman</td><td>Alberta</td><td>West</td><td>Corporate</td><td>Office Supplies</td><td>Pens & Art Supplies</td><td>SANFORD Liquid Accent� Tank-Style Highlighters</td><td>Wrap Bag</td><td>2009-07-08</td><td>50</td><td>Classic</td></tr><tr><td>5086</td><td>36262</td><td>40386</td><td>Not Specified</td><td>23</td><td>164.02</td><td>0.03</td><td>Express Air</td><td>-47.64</td><td>6.68</td><td>6.15</td><td>Aaron Bergman</td><td>Alberta</td><td>West</td><td>Corporate</td><td>Office Supplies</td><td>Paper</td><td>Xerox 1968</td><td>Small Box</td><td>2010-07-28</td><td>50</td><td>Classic</td></tr><tr><td>5088</td><td>36262</td><td>40386</td><td>Not Specified</td><td>26</td><td>4701.69</td><td>0.0</td><td>Express Air</td><td>1148.9</td><td>205.99</td><td>2.5</td><td>Aaron Bergman</td><td>Alberta</td><td>West</td><td>Corporate</td><td>Technology</td><td>Telephones and Communication</td><td>V70</td><td>Small Box</td><td>2010-07-27</td><td>50</td><td>Classic</td></tr><tr><td>5597</td><td>39682</td><td>40491</td><td>Medium</td><td>43</td><td>2337.89</td><td>0.09</td><td>Express Air</td><td>729.34</td><td>55.48</td><td>14.3</td><td>Aaron Bergman</td><td>Alberta</td><td>West</td><td>Corporate</td><td>Office Supplies</td><td>Paper</td><td>Xerox 194</td><td>Small Box</td><td>2010-11-11</td><td>50</td><td>Classic</td></tr><tr><td>7549</td><td>54019</td><td>39995</td><td>Low</td><td>35</td><td>4233.15</td><td>0.08</td><td>Delivery Truck</td><td>1219.87</td><td>120.97</td><td>26.3</td><td>Aaron Bergman</td><td>Alberta</td><td>West</td><td>Corporate</td><td>Technology</td><td>Office Machines</td><td>Canon S750 Color Inkjet Printer</td><td>Jumbo Drum</td><td>2009-07-08</td><td>50</td><td>Classic</td></tr><tr><td>2228</td><td>16102</td><td>40160</td><td>Not Specified</td><td>25</td><td>13255.93</td><td>0.02</td><td>Delivery Truck</td><td>4089.27</td><td>500.98</td><td>26.0</td><td>Aaron Hawkins</td><td>Yukon</td><td>Yukon</td><td>Home Office</td><td>Furniture</td><td>Chairs & Chairmats</td><td>Global Troy� Executive Leather Low-Back Tilter</td><td>Jumbo Drum</td><td>2009-12-15</td><td>50</td><td>Classic</td></tr><tr><td>3776</td><td>26949</td><td>40040</td><td>Critical</td><td>48</td><td>460.69</td><td>0.06</td><td>Regular Air</td><td>-103.48</td><td>9.48</td><td>7.29</td><td>Aaron Hawkins</td><td>Quebec</td><td>Quebec</td><td>Home Office</td><td>Furniture</td><td>Office Furnishings</td><td>DAX Two-Tone Rosewood/Black Document Frame, Desktop, 5 x 7</td><td>Small Pack</td><td>2009-08-17</td><td>50</td><td>Classic</td></tr><tr><td>6563</td><td>46662</td><td>40906</td><td>Critical</td><td>8</td><td>57.22</td><td>0.07</td><td>Regular Air</td><td>-27.72</td><td>6.48</td><td>6.6</td><td>Aaron Hawkins</td><td>British Columbia</td><td>West</td><td>Home Office</td><td>Office Supplies</td><td>Paper</td><td>Xerox 21</td><td>Small Box</td><td>2011-12-31</td><td>50</td><td>Classic</td></tr></tbody></table></div>"
      ]
     },
     "metadata": {
      "application/vnd.databricks.v1+output": {
       "addedWidgets": {},
       "aggData": [],
       "aggError": "",
       "aggOverflow": false,
       "aggSchema": [],
       "aggSeriesLimitReached": false,
       "aggType": "",
       "arguments": {},
       "columnCustomDisplayInfos": {},
       "data": [
        [
         "606",
         "4132",
         "40691",
         "Not Specified",
         5,
         14.76,
         0.01,
         "Regular Air",
         1.32,
         2.88,
         0.5,
         "Aaron Bergman",
         "Nunavut",
         "Nunavut",
         "Corporate",
         "Office Supplies",
         "Labels",
         "Avery 49",
         "Small Box",
         "2011-05-30",
         50,
         "Classic"
        ],
        [
         "5087",
         "36262",
         "40386",
         "Not Specified",
         23,
         136.81,
         0.01,
         "Regular Air",
         -30.51,
         5.68,
         3.6,
         "Aaron Bergman",
         "Alberta",
         "West",
         "Corporate",
         "Office Supplies",
         "Scissors, Rulers and Trimmers",
         "Acme� Preferred Stainless Steel Scissors",
         "Small Pack",
         "2010-07-28",
         50,
         "Classic"
        ],
        [
         "2847",
         "20513",
         "40001",
         "High",
         13,
         42.27,
         0.01,
         "Express Air",
         4.56,
         2.84,
         0.93,
         "Aaron Bergman",
         "Alberta",
         "West",
         "Corporate",
         "Office Supplies",
         "Pens & Art Supplies",
         "SANFORD Liquid Accent� Tank-Style Highlighters",
         "Wrap Bag",
         "2009-07-08",
         50,
         "Classic"
        ],
        [
         "5086",
         "36262",
         "40386",
         "Not Specified",
         23,
         164.02,
         0.03,
         "Express Air",
         -47.64,
         6.68,
         6.15,
         "Aaron Bergman",
         "Alberta",
         "West",
         "Corporate",
         "Office Supplies",
         "Paper",
         "Xerox 1968",
         "Small Box",
         "2010-07-28",
         50,
         "Classic"
        ],
        [
         "5088",
         "36262",
         "40386",
         "Not Specified",
         26,
         4701.69,
         0.0,
         "Express Air",
         1148.9,
         205.99,
         2.5,
         "Aaron Bergman",
         "Alberta",
         "West",
         "Corporate",
         "Technology",
         "Telephones and Communication",
         "V70",
         "Small Box",
         "2010-07-27",
         50,
         "Classic"
        ],
        [
         "5597",
         "39682",
         "40491",
         "Medium",
         43,
         2337.89,
         0.09,
         "Express Air",
         729.34,
         55.48,
         14.3,
         "Aaron Bergman",
         "Alberta",
         "West",
         "Corporate",
         "Office Supplies",
         "Paper",
         "Xerox 194",
         "Small Box",
         "2010-11-11",
         50,
         "Classic"
        ],
        [
         "7549",
         "54019",
         "39995",
         "Low",
         35,
         4233.15,
         0.08,
         "Delivery Truck",
         1219.87,
         120.97,
         26.3,
         "Aaron Bergman",
         "Alberta",
         "West",
         "Corporate",
         "Technology",
         "Office Machines",
         "Canon S750 Color Inkjet Printer",
         "Jumbo Drum",
         "2009-07-08",
         50,
         "Classic"
        ],
        [
         "2228",
         "16102",
         "40160",
         "Not Specified",
         25,
         13255.93,
         0.02,
         "Delivery Truck",
         4089.27,
         500.98,
         26.0,
         "Aaron Hawkins",
         "Yukon",
         "Yukon",
         "Home Office",
         "Furniture",
         "Chairs & Chairmats",
         "Global Troy� Executive Leather Low-Back Tilter",
         "Jumbo Drum",
         "2009-12-15",
         50,
         "Classic"
        ],
        [
         "3776",
         "26949",
         "40040",
         "Critical",
         48,
         460.69,
         0.06,
         "Regular Air",
         -103.48,
         9.48,
         7.29,
         "Aaron Hawkins",
         "Quebec",
         "Quebec",
         "Home Office",
         "Furniture",
         "Office Furnishings",
         "DAX Two-Tone Rosewood/Black Document Frame, Desktop, 5 x 7",
         "Small Pack",
         "2009-08-17",
         50,
         "Classic"
        ],
        [
         "6563",
         "46662",
         "40906",
         "Critical",
         8,
         57.22,
         0.07,
         "Regular Air",
         -27.72,
         6.48,
         6.6,
         "Aaron Hawkins",
         "British Columbia",
         "West",
         "Home Office",
         "Office Supplies",
         "Paper",
         "Xerox 21",
         "Small Box",
         "2011-12-31",
         50,
         "Classic"
        ]
       ],
       "datasetInfos": [],
       "dbfsResultPath": null,
       "isJsonSchema": true,
       "metadata": {},
       "overflow": false,
       "plotOptions": {
        "customPlotOptions": {},
        "displayType": "table",
        "pivotAggregation": null,
        "pivotColumns": null,
        "xColumns": null,
        "yColumns": null
       },
       "removedWidgets": [],
       "schema": [
        {
         "metadata": "{}",
         "name": "row_id",
         "type": "\"string\""
        },
        {
         "metadata": "{}",
         "name": "order_id",
         "type": "\"string\""
        },
        {
         "metadata": "{}",
         "name": "order_date",
         "type": "\"string\""
        },
        {
         "metadata": "{}",
         "name": "order_priority",
         "type": "\"string\""
        },
        {
         "metadata": "{}",
         "name": "order_quantity",
         "type": "\"long\""
        },
        {
         "metadata": "{}",
         "name": "sales",
         "type": "\"float\""
        },
        {
         "metadata": "{}",
         "name": "discount",
         "type": "\"float\""
        },
        {
         "metadata": "{}",
         "name": "ship_mode",
         "type": "\"string\""
        },
        {
         "metadata": "{}",
         "name": "profit",
         "type": "\"float\""
        },
        {
         "metadata": "{}",
         "name": "unit_price",
         "type": "\"float\""
        },
        {
         "metadata": "{}",
         "name": "shipping_cost",
         "type": "\"float\""
        },
        {
         "metadata": "{}",
         "name": "customer_name",
         "type": "\"string\""
        },
        {
         "metadata": "{}",
         "name": "province",
         "type": "\"string\""
        },
        {
         "metadata": "{}",
         "name": "region",
         "type": "\"string\""
        },
        {
         "metadata": "{}",
         "name": "customer_segment",
         "type": "\"string\""
        },
        {
         "metadata": "{}",
         "name": "product_category",
         "type": "\"string\""
        },
        {
         "metadata": "{}",
         "name": "product_sub_category",
         "type": "\"string\""
        },
        {
         "metadata": "{}",
         "name": "product_name",
         "type": "\"string\""
        },
        {
         "metadata": "{}",
         "name": "product_container",
         "type": "\"string\""
        },
        {
         "metadata": "{}",
         "name": "ship_date",
         "type": "\"date\""
        },
        {
         "metadata": "{}",
         "name": "loyalty_points",
         "type": "\"integer\""
        },
        {
         "metadata": "{}",
         "name": "loyalty_type",
         "type": "\"string\""
        }
       ],
       "type": "table"
      }
     },
     "output_type": "display_data"
    }
   ],
   "source": [
    "df.orderBy('customer_name').limit(10).display()"
   ]
  },
  {
   "cell_type": "code",
   "execution_count": 0,
   "metadata": {
    "application/vnd.databricks.v1+cell": {
     "cellMetadata": {
      "byteLimit": 2048000,
      "rowLimit": 10000
     },
     "inputWidgets": {},
     "nuid": "36f3a506-f32b-4da3-acd2-9bdd53e67d56",
     "showTitle": false,
     "title": ""
    }
   },
   "outputs": [],
   "source": [
    "#create a unique hash value considering customer name as key column since we don't have customer ID\n",
    "df = df.withColumn('customer_id',\n",
    "                   sha2(\n",
    "                       'customer_name',256\n",
    "                        )\n",
    "                   )"
   ]
  },
  {
   "cell_type": "code",
   "execution_count": 0,
   "metadata": {
    "application/vnd.databricks.v1+cell": {
     "cellMetadata": {
      "byteLimit": 2048000,
      "rowLimit": 10000
     },
     "inputWidgets": {},
     "nuid": "8d4d11dd-c53f-4d61-9e67-a5806d93a812",
     "showTitle": false,
     "title": ""
    }
   },
   "outputs": [
    {
     "output_type": "display_data",
     "data": {
      "text/html": [
       "<style scoped>\n",
       "  .table-result-container {\n",
       "    max-height: 300px;\n",
       "    overflow: auto;\n",
       "  }\n",
       "  table, th, td {\n",
       "    border: 1px solid black;\n",
       "    border-collapse: collapse;\n",
       "  }\n",
       "  th, td {\n",
       "    padding: 5px;\n",
       "  }\n",
       "  th {\n",
       "    text-align: left;\n",
       "  }\n",
       "</style><div class='table-result-container'><table class='table-result'><thead style='background-color: white'><tr><th>row_id</th><th>order_id</th><th>order_date</th><th>order_priority</th><th>order_quantity</th><th>sales</th><th>discount</th><th>ship_mode</th><th>profit</th><th>unit_price</th><th>shipping_cost</th><th>customer_name</th><th>province</th><th>region</th><th>customer_segment</th><th>product_category</th><th>product_sub_category</th><th>product_name</th><th>product_container</th><th>ship_date</th><th>loyalty_points</th><th>loyalty_type</th><th>customer_id</th></tr></thead><tbody><tr><td>606</td><td>4132</td><td>40691</td><td>Not Specified</td><td>5</td><td>14.76</td><td>0.01</td><td>Regular Air</td><td>1.32</td><td>2.88</td><td>0.5</td><td>Aaron Bergman</td><td>Nunavut</td><td>Nunavut</td><td>Corporate</td><td>Office Supplies</td><td>Labels</td><td>Avery 49</td><td>Small Box</td><td>2011-05-30</td><td>50</td><td>Classic</td><td>f2d69f1bfbac52e4237b5c8564ec8af969b383bde3734cca607a6358b592c473</td></tr><tr><td>5087</td><td>36262</td><td>40386</td><td>Not Specified</td><td>23</td><td>136.81</td><td>0.01</td><td>Regular Air</td><td>-30.51</td><td>5.68</td><td>3.6</td><td>Aaron Bergman</td><td>Alberta</td><td>West</td><td>Corporate</td><td>Office Supplies</td><td>Scissors, Rulers and Trimmers</td><td>Acme� Preferred Stainless Steel Scissors</td><td>Small Pack</td><td>2010-07-28</td><td>50</td><td>Classic</td><td>f2d69f1bfbac52e4237b5c8564ec8af969b383bde3734cca607a6358b592c473</td></tr><tr><td>2847</td><td>20513</td><td>40001</td><td>High</td><td>13</td><td>42.27</td><td>0.01</td><td>Express Air</td><td>4.56</td><td>2.84</td><td>0.93</td><td>Aaron Bergman</td><td>Alberta</td><td>West</td><td>Corporate</td><td>Office Supplies</td><td>Pens & Art Supplies</td><td>SANFORD Liquid Accent� Tank-Style Highlighters</td><td>Wrap Bag</td><td>2009-07-08</td><td>50</td><td>Classic</td><td>f2d69f1bfbac52e4237b5c8564ec8af969b383bde3734cca607a6358b592c473</td></tr><tr><td>5086</td><td>36262</td><td>40386</td><td>Not Specified</td><td>23</td><td>164.02</td><td>0.03</td><td>Express Air</td><td>-47.64</td><td>6.68</td><td>6.15</td><td>Aaron Bergman</td><td>Alberta</td><td>West</td><td>Corporate</td><td>Office Supplies</td><td>Paper</td><td>Xerox 1968</td><td>Small Box</td><td>2010-07-28</td><td>50</td><td>Classic</td><td>f2d69f1bfbac52e4237b5c8564ec8af969b383bde3734cca607a6358b592c473</td></tr><tr><td>5088</td><td>36262</td><td>40386</td><td>Not Specified</td><td>26</td><td>4701.69</td><td>0.0</td><td>Express Air</td><td>1148.9</td><td>205.99</td><td>2.5</td><td>Aaron Bergman</td><td>Alberta</td><td>West</td><td>Corporate</td><td>Technology</td><td>Telephones and Communication</td><td>V70</td><td>Small Box</td><td>2010-07-27</td><td>50</td><td>Classic</td><td>f2d69f1bfbac52e4237b5c8564ec8af969b383bde3734cca607a6358b592c473</td></tr><tr><td>5597</td><td>39682</td><td>40491</td><td>Medium</td><td>43</td><td>2337.89</td><td>0.09</td><td>Express Air</td><td>729.34</td><td>55.48</td><td>14.3</td><td>Aaron Bergman</td><td>Alberta</td><td>West</td><td>Corporate</td><td>Office Supplies</td><td>Paper</td><td>Xerox 194</td><td>Small Box</td><td>2010-11-11</td><td>50</td><td>Classic</td><td>f2d69f1bfbac52e4237b5c8564ec8af969b383bde3734cca607a6358b592c473</td></tr><tr><td>7549</td><td>54019</td><td>39995</td><td>Low</td><td>35</td><td>4233.15</td><td>0.08</td><td>Delivery Truck</td><td>1219.87</td><td>120.97</td><td>26.3</td><td>Aaron Bergman</td><td>Alberta</td><td>West</td><td>Corporate</td><td>Technology</td><td>Office Machines</td><td>Canon S750 Color Inkjet Printer</td><td>Jumbo Drum</td><td>2009-07-08</td><td>50</td><td>Classic</td><td>f2d69f1bfbac52e4237b5c8564ec8af969b383bde3734cca607a6358b592c473</td></tr><tr><td>2228</td><td>16102</td><td>40160</td><td>Not Specified</td><td>25</td><td>13255.93</td><td>0.02</td><td>Delivery Truck</td><td>4089.27</td><td>500.98</td><td>26.0</td><td>Aaron Hawkins</td><td>Yukon</td><td>Yukon</td><td>Home Office</td><td>Furniture</td><td>Chairs & Chairmats</td><td>Global Troy� Executive Leather Low-Back Tilter</td><td>Jumbo Drum</td><td>2009-12-15</td><td>50</td><td>Classic</td><td>9f7b79797209ed1fb0f0348b09c1a0eed1a119d9b648f48bae63191a85203458</td></tr><tr><td>3776</td><td>26949</td><td>40040</td><td>Critical</td><td>48</td><td>460.69</td><td>0.06</td><td>Regular Air</td><td>-103.48</td><td>9.48</td><td>7.29</td><td>Aaron Hawkins</td><td>Quebec</td><td>Quebec</td><td>Home Office</td><td>Furniture</td><td>Office Furnishings</td><td>DAX Two-Tone Rosewood/Black Document Frame, Desktop, 5 x 7</td><td>Small Pack</td><td>2009-08-17</td><td>50</td><td>Classic</td><td>9f7b79797209ed1fb0f0348b09c1a0eed1a119d9b648f48bae63191a85203458</td></tr><tr><td>6563</td><td>46662</td><td>40906</td><td>Critical</td><td>8</td><td>57.22</td><td>0.07</td><td>Regular Air</td><td>-27.72</td><td>6.48</td><td>6.6</td><td>Aaron Hawkins</td><td>British Columbia</td><td>West</td><td>Home Office</td><td>Office Supplies</td><td>Paper</td><td>Xerox 21</td><td>Small Box</td><td>2011-12-31</td><td>50</td><td>Classic</td><td>9f7b79797209ed1fb0f0348b09c1a0eed1a119d9b648f48bae63191a85203458</td></tr></tbody></table></div>"
      ]
     },
     "metadata": {
      "application/vnd.databricks.v1+output": {
       "addedWidgets": {},
       "aggData": [],
       "aggError": "",
       "aggOverflow": false,
       "aggSchema": [],
       "aggSeriesLimitReached": false,
       "aggType": "",
       "arguments": {},
       "columnCustomDisplayInfos": {},
       "data": [
        [
         "606",
         "4132",
         "40691",
         "Not Specified",
         5,
         14.76,
         0.01,
         "Regular Air",
         1.32,
         2.88,
         0.5,
         "Aaron Bergman",
         "Nunavut",
         "Nunavut",
         "Corporate",
         "Office Supplies",
         "Labels",
         "Avery 49",
         "Small Box",
         "2011-05-30",
         50,
         "Classic",
         "f2d69f1bfbac52e4237b5c8564ec8af969b383bde3734cca607a6358b592c473"
        ],
        [
         "5087",
         "36262",
         "40386",
         "Not Specified",
         23,
         136.81,
         0.01,
         "Regular Air",
         -30.51,
         5.68,
         3.6,
         "Aaron Bergman",
         "Alberta",
         "West",
         "Corporate",
         "Office Supplies",
         "Scissors, Rulers and Trimmers",
         "Acme� Preferred Stainless Steel Scissors",
         "Small Pack",
         "2010-07-28",
         50,
         "Classic",
         "f2d69f1bfbac52e4237b5c8564ec8af969b383bde3734cca607a6358b592c473"
        ],
        [
         "2847",
         "20513",
         "40001",
         "High",
         13,
         42.27,
         0.01,
         "Express Air",
         4.56,
         2.84,
         0.93,
         "Aaron Bergman",
         "Alberta",
         "West",
         "Corporate",
         "Office Supplies",
         "Pens & Art Supplies",
         "SANFORD Liquid Accent� Tank-Style Highlighters",
         "Wrap Bag",
         "2009-07-08",
         50,
         "Classic",
         "f2d69f1bfbac52e4237b5c8564ec8af969b383bde3734cca607a6358b592c473"
        ],
        [
         "5086",
         "36262",
         "40386",
         "Not Specified",
         23,
         164.02,
         0.03,
         "Express Air",
         -47.64,
         6.68,
         6.15,
         "Aaron Bergman",
         "Alberta",
         "West",
         "Corporate",
         "Office Supplies",
         "Paper",
         "Xerox 1968",
         "Small Box",
         "2010-07-28",
         50,
         "Classic",
         "f2d69f1bfbac52e4237b5c8564ec8af969b383bde3734cca607a6358b592c473"
        ],
        [
         "5088",
         "36262",
         "40386",
         "Not Specified",
         26,
         4701.69,
         0.0,
         "Express Air",
         1148.9,
         205.99,
         2.5,
         "Aaron Bergman",
         "Alberta",
         "West",
         "Corporate",
         "Technology",
         "Telephones and Communication",
         "V70",
         "Small Box",
         "2010-07-27",
         50,
         "Classic",
         "f2d69f1bfbac52e4237b5c8564ec8af969b383bde3734cca607a6358b592c473"
        ],
        [
         "5597",
         "39682",
         "40491",
         "Medium",
         43,
         2337.89,
         0.09,
         "Express Air",
         729.34,
         55.48,
         14.3,
         "Aaron Bergman",
         "Alberta",
         "West",
         "Corporate",
         "Office Supplies",
         "Paper",
         "Xerox 194",
         "Small Box",
         "2010-11-11",
         50,
         "Classic",
         "f2d69f1bfbac52e4237b5c8564ec8af969b383bde3734cca607a6358b592c473"
        ],
        [
         "7549",
         "54019",
         "39995",
         "Low",
         35,
         4233.15,
         0.08,
         "Delivery Truck",
         1219.87,
         120.97,
         26.3,
         "Aaron Bergman",
         "Alberta",
         "West",
         "Corporate",
         "Technology",
         "Office Machines",
         "Canon S750 Color Inkjet Printer",
         "Jumbo Drum",
         "2009-07-08",
         50,
         "Classic",
         "f2d69f1bfbac52e4237b5c8564ec8af969b383bde3734cca607a6358b592c473"
        ],
        [
         "2228",
         "16102",
         "40160",
         "Not Specified",
         25,
         13255.93,
         0.02,
         "Delivery Truck",
         4089.27,
         500.98,
         26.0,
         "Aaron Hawkins",
         "Yukon",
         "Yukon",
         "Home Office",
         "Furniture",
         "Chairs & Chairmats",
         "Global Troy� Executive Leather Low-Back Tilter",
         "Jumbo Drum",
         "2009-12-15",
         50,
         "Classic",
         "9f7b79797209ed1fb0f0348b09c1a0eed1a119d9b648f48bae63191a85203458"
        ],
        [
         "3776",
         "26949",
         "40040",
         "Critical",
         48,
         460.69,
         0.06,
         "Regular Air",
         -103.48,
         9.48,
         7.29,
         "Aaron Hawkins",
         "Quebec",
         "Quebec",
         "Home Office",
         "Furniture",
         "Office Furnishings",
         "DAX Two-Tone Rosewood/Black Document Frame, Desktop, 5 x 7",
         "Small Pack",
         "2009-08-17",
         50,
         "Classic",
         "9f7b79797209ed1fb0f0348b09c1a0eed1a119d9b648f48bae63191a85203458"
        ],
        [
         "6563",
         "46662",
         "40906",
         "Critical",
         8,
         57.22,
         0.07,
         "Regular Air",
         -27.72,
         6.48,
         6.6,
         "Aaron Hawkins",
         "British Columbia",
         "West",
         "Home Office",
         "Office Supplies",
         "Paper",
         "Xerox 21",
         "Small Box",
         "2011-12-31",
         50,
         "Classic",
         "9f7b79797209ed1fb0f0348b09c1a0eed1a119d9b648f48bae63191a85203458"
        ]
       ],
       "datasetInfos": [],
       "dbfsResultPath": null,
       "isJsonSchema": true,
       "metadata": {},
       "overflow": false,
       "plotOptions": {
        "customPlotOptions": {},
        "displayType": "table",
        "pivotAggregation": null,
        "pivotColumns": null,
        "xColumns": null,
        "yColumns": null
       },
       "removedWidgets": [],
       "schema": [
        {
         "metadata": "{}",
         "name": "row_id",
         "type": "\"string\""
        },
        {
         "metadata": "{}",
         "name": "order_id",
         "type": "\"string\""
        },
        {
         "metadata": "{}",
         "name": "order_date",
         "type": "\"string\""
        },
        {
         "metadata": "{}",
         "name": "order_priority",
         "type": "\"string\""
        },
        {
         "metadata": "{}",
         "name": "order_quantity",
         "type": "\"long\""
        },
        {
         "metadata": "{}",
         "name": "sales",
         "type": "\"float\""
        },
        {
         "metadata": "{}",
         "name": "discount",
         "type": "\"float\""
        },
        {
         "metadata": "{}",
         "name": "ship_mode",
         "type": "\"string\""
        },
        {
         "metadata": "{}",
         "name": "profit",
         "type": "\"float\""
        },
        {
         "metadata": "{}",
         "name": "unit_price",
         "type": "\"float\""
        },
        {
         "metadata": "{}",
         "name": "shipping_cost",
         "type": "\"float\""
        },
        {
         "metadata": "{}",
         "name": "customer_name",
         "type": "\"string\""
        },
        {
         "metadata": "{}",
         "name": "province",
         "type": "\"string\""
        },
        {
         "metadata": "{}",
         "name": "region",
         "type": "\"string\""
        },
        {
         "metadata": "{}",
         "name": "customer_segment",
         "type": "\"string\""
        },
        {
         "metadata": "{}",
         "name": "product_category",
         "type": "\"string\""
        },
        {
         "metadata": "{}",
         "name": "product_sub_category",
         "type": "\"string\""
        },
        {
         "metadata": "{}",
         "name": "product_name",
         "type": "\"string\""
        },
        {
         "metadata": "{}",
         "name": "product_container",
         "type": "\"string\""
        },
        {
         "metadata": "{}",
         "name": "ship_date",
         "type": "\"date\""
        },
        {
         "metadata": "{}",
         "name": "loyalty_points",
         "type": "\"integer\""
        },
        {
         "metadata": "{}",
         "name": "loyalty_type",
         "type": "\"string\""
        },
        {
         "metadata": "{}",
         "name": "customer_id",
         "type": "\"string\""
        }
       ],
       "type": "table"
      }
     },
     "output_type": "display_data"
    }
   ],
   "source": [
    "df.orderBy('customer_name').limit(10).display()"
   ]
  },
  {
   "cell_type": "code",
   "execution_count": 0,
   "metadata": {
    "application/vnd.databricks.v1+cell": {
     "cellMetadata": {
      "byteLimit": 2048000,
      "implicitDf": true,
      "rowLimit": 10000
     },
     "inputWidgets": {},
     "nuid": "2ca58570-e4e8-4f7f-a4a6-8397a8597c60",
     "showTitle": false,
     "title": ""
    }
   },
   "outputs": [],
   "source": [
    "df = df.withColumn('total_orders_count',\n",
    "                  sum('order_quantity').over(Window.partitionBy('customer_id'))\n",
    "                   )"
   ]
  },
  {
   "cell_type": "code",
   "execution_count": 0,
   "metadata": {
    "application/vnd.databricks.v1+cell": {
     "cellMetadata": {
      "byteLimit": 2048000,
      "rowLimit": 10000
     },
     "inputWidgets": {},
     "nuid": "19ddd4d4-2a71-4cbe-9738-7ff13640b11b",
     "showTitle": false,
     "title": ""
    }
   },
   "outputs": [
    {
     "output_type": "display_data",
     "data": {
      "text/html": [
       "<style scoped>\n",
       "  .table-result-container {\n",
       "    max-height: 300px;\n",
       "    overflow: auto;\n",
       "  }\n",
       "  table, th, td {\n",
       "    border: 1px solid black;\n",
       "    border-collapse: collapse;\n",
       "  }\n",
       "  th, td {\n",
       "    padding: 5px;\n",
       "  }\n",
       "  th {\n",
       "    text-align: left;\n",
       "  }\n",
       "</style><div class='table-result-container'><table class='table-result'><thead style='background-color: white'><tr><th>row_id</th><th>order_id</th><th>order_date</th><th>order_priority</th><th>order_quantity</th><th>sales</th><th>discount</th><th>ship_mode</th><th>profit</th><th>unit_price</th><th>shipping_cost</th><th>customer_name</th><th>province</th><th>region</th><th>customer_segment</th><th>product_category</th><th>product_sub_category</th><th>product_name</th><th>product_container</th><th>ship_date</th><th>loyalty_points</th><th>loyalty_type</th><th>customer_id</th><th>total_orders_count</th></tr></thead><tbody></tbody></table></div>"
      ]
     },
     "metadata": {
      "application/vnd.databricks.v1+output": {
       "addedWidgets": {},
       "aggData": [],
       "aggError": "",
       "aggOverflow": false,
       "aggSchema": [],
       "aggSeriesLimitReached": false,
       "aggType": "",
       "arguments": {},
       "columnCustomDisplayInfos": {},
       "data": [],
       "datasetInfos": [],
       "dbfsResultPath": null,
       "isJsonSchema": true,
       "metadata": {},
       "overflow": false,
       "plotOptions": {
        "customPlotOptions": {},
        "displayType": "table",
        "pivotAggregation": null,
        "pivotColumns": null,
        "xColumns": null,
        "yColumns": null
       },
       "removedWidgets": [],
       "schema": [
        {
         "metadata": "{}",
         "name": "row_id",
         "type": "\"string\""
        },
        {
         "metadata": "{}",
         "name": "order_id",
         "type": "\"string\""
        },
        {
         "metadata": "{}",
         "name": "order_date",
         "type": "\"string\""
        },
        {
         "metadata": "{}",
         "name": "order_priority",
         "type": "\"string\""
        },
        {
         "metadata": "{}",
         "name": "order_quantity",
         "type": "\"long\""
        },
        {
         "metadata": "{}",
         "name": "sales",
         "type": "\"float\""
        },
        {
         "metadata": "{}",
         "name": "discount",
         "type": "\"float\""
        },
        {
         "metadata": "{}",
         "name": "ship_mode",
         "type": "\"string\""
        },
        {
         "metadata": "{}",
         "name": "profit",
         "type": "\"float\""
        },
        {
         "metadata": "{}",
         "name": "unit_price",
         "type": "\"float\""
        },
        {
         "metadata": "{}",
         "name": "shipping_cost",
         "type": "\"float\""
        },
        {
         "metadata": "{}",
         "name": "customer_name",
         "type": "\"string\""
        },
        {
         "metadata": "{}",
         "name": "province",
         "type": "\"string\""
        },
        {
         "metadata": "{}",
         "name": "region",
         "type": "\"string\""
        },
        {
         "metadata": "{}",
         "name": "customer_segment",
         "type": "\"string\""
        },
        {
         "metadata": "{}",
         "name": "product_category",
         "type": "\"string\""
        },
        {
         "metadata": "{}",
         "name": "product_sub_category",
         "type": "\"string\""
        },
        {
         "metadata": "{}",
         "name": "product_name",
         "type": "\"string\""
        },
        {
         "metadata": "{}",
         "name": "product_container",
         "type": "\"string\""
        },
        {
         "metadata": "{}",
         "name": "ship_date",
         "type": "\"date\""
        },
        {
         "metadata": "{}",
         "name": "loyalty_points",
         "type": "\"integer\""
        },
        {
         "metadata": "{}",
         "name": "loyalty_type",
         "type": "\"string\""
        },
        {
         "metadata": "{}",
         "name": "customer_id",
         "type": "\"string\""
        },
        {
         "metadata": "{}",
         "name": "total_orders_count",
         "type": "\"long\""
        }
       ],
       "type": "table"
      }
     },
     "output_type": "display_data"
    }
   ],
   "source": [
    "df.filter(\"customer_id = 'cbb9188c2ae3ed75981b8a7c44317764a6aae1c64da3518947f6e9c87c985ed1'\").display()"
   ]
  },
  {
   "cell_type": "code",
   "execution_count": 0,
   "metadata": {
    "application/vnd.databricks.v1+cell": {
     "cellMetadata": {
      "byteLimit": 2048000,
      "rowLimit": 10000
     },
     "inputWidgets": {},
     "nuid": "18a396a9-43e4-41f0-9132-84fcbb71dce7",
     "showTitle": false,
     "title": ""
    }
   },
   "outputs": [],
   "source": [
    "#Convert date columns into panda datatime\n",
    "# the column 'Order Date' is having unix  time cast as double which has to be converted to datetime format\n",
    "df = df.withColumn('order_date',from_unixtime((col('order_date') - 25569) * 86400.0))"
   ]
  },
  {
   "cell_type": "code",
   "execution_count": 0,
   "metadata": {
    "application/vnd.databricks.v1+cell": {
     "cellMetadata": {
      "byteLimit": 2048000,
      "rowLimit": 10000
     },
     "inputWidgets": {},
     "nuid": "396974fa-2ef8-49f9-b9c0-1f2dde082383",
     "showTitle": false,
     "title": ""
    }
   },
   "outputs": [
    {
     "output_type": "display_data",
     "data": {
      "text/html": [
       "<style scoped>\n",
       "  .table-result-container {\n",
       "    max-height: 300px;\n",
       "    overflow: auto;\n",
       "  }\n",
       "  table, th, td {\n",
       "    border: 1px solid black;\n",
       "    border-collapse: collapse;\n",
       "  }\n",
       "  th, td {\n",
       "    padding: 5px;\n",
       "  }\n",
       "  th {\n",
       "    text-align: left;\n",
       "  }\n",
       "</style><div class='table-result-container'><table class='table-result'><thead style='background-color: white'><tr><th>row_id</th><th>order_id</th><th>order_date</th><th>order_priority</th><th>order_quantity</th><th>sales</th><th>discount</th><th>ship_mode</th><th>profit</th><th>unit_price</th><th>shipping_cost</th><th>customer_name</th><th>province</th><th>region</th><th>customer_segment</th><th>product_category</th><th>product_sub_category</th><th>product_name</th><th>product_container</th><th>ship_date</th><th>loyalty_points</th><th>loyalty_type</th><th>customer_id</th><th>total_orders_count</th></tr></thead><tbody><tr><td>606</td><td>4132</td><td>2011-05-28 00:00:00</td><td>Not Specified</td><td>5</td><td>14.76</td><td>0.01</td><td>Regular Air</td><td>1.32</td><td>2.88</td><td>0.5</td><td>Aaron Bergman</td><td>Nunavut</td><td>Nunavut</td><td>Corporate</td><td>Office Supplies</td><td>Labels</td><td>Avery 49</td><td>Small Box</td><td>2011-05-30</td><td>50</td><td>Classic</td><td>f2d69f1bfbac52e4237b5c8564ec8af969b383bde3734cca607a6358b592c473</td><td>168</td></tr><tr><td>2847</td><td>20513</td><td>2009-07-07 00:00:00</td><td>High</td><td>13</td><td>42.27</td><td>0.01</td><td>Express Air</td><td>4.56</td><td>2.84</td><td>0.93</td><td>Aaron Bergman</td><td>Alberta</td><td>West</td><td>Corporate</td><td>Office Supplies</td><td>Pens & Art Supplies</td><td>SANFORD Liquid Accent� Tank-Style Highlighters</td><td>Wrap Bag</td><td>2009-07-08</td><td>50</td><td>Classic</td><td>f2d69f1bfbac52e4237b5c8564ec8af969b383bde3734cca607a6358b592c473</td><td>168</td></tr><tr><td>5086</td><td>36262</td><td>2010-07-27 00:00:00</td><td>Not Specified</td><td>23</td><td>164.02</td><td>0.03</td><td>Express Air</td><td>-47.64</td><td>6.68</td><td>6.15</td><td>Aaron Bergman</td><td>Alberta</td><td>West</td><td>Corporate</td><td>Office Supplies</td><td>Paper</td><td>Xerox 1968</td><td>Small Box</td><td>2010-07-28</td><td>50</td><td>Classic</td><td>f2d69f1bfbac52e4237b5c8564ec8af969b383bde3734cca607a6358b592c473</td><td>168</td></tr><tr><td>5087</td><td>36262</td><td>2010-07-27 00:00:00</td><td>Not Specified</td><td>23</td><td>136.81</td><td>0.01</td><td>Regular Air</td><td>-30.51</td><td>5.68</td><td>3.6</td><td>Aaron Bergman</td><td>Alberta</td><td>West</td><td>Corporate</td><td>Office Supplies</td><td>Scissors, Rulers and Trimmers</td><td>Acme� Preferred Stainless Steel Scissors</td><td>Small Pack</td><td>2010-07-28</td><td>50</td><td>Classic</td><td>f2d69f1bfbac52e4237b5c8564ec8af969b383bde3734cca607a6358b592c473</td><td>168</td></tr><tr><td>5088</td><td>36262</td><td>2010-07-27 00:00:00</td><td>Not Specified</td><td>26</td><td>4701.69</td><td>0.0</td><td>Express Air</td><td>1148.9</td><td>205.99</td><td>2.5</td><td>Aaron Bergman</td><td>Alberta</td><td>West</td><td>Corporate</td><td>Technology</td><td>Telephones and Communication</td><td>V70</td><td>Small Box</td><td>2010-07-27</td><td>50</td><td>Classic</td><td>f2d69f1bfbac52e4237b5c8564ec8af969b383bde3734cca607a6358b592c473</td><td>168</td></tr><tr><td>5597</td><td>39682</td><td>2010-11-09 00:00:00</td><td>Medium</td><td>43</td><td>2337.89</td><td>0.09</td><td>Express Air</td><td>729.34</td><td>55.48</td><td>14.3</td><td>Aaron Bergman</td><td>Alberta</td><td>West</td><td>Corporate</td><td>Office Supplies</td><td>Paper</td><td>Xerox 194</td><td>Small Box</td><td>2010-11-11</td><td>50</td><td>Classic</td><td>f2d69f1bfbac52e4237b5c8564ec8af969b383bde3734cca607a6358b592c473</td><td>168</td></tr><tr><td>7549</td><td>54019</td><td>2009-07-01 00:00:00</td><td>Low</td><td>35</td><td>4233.15</td><td>0.08</td><td>Delivery Truck</td><td>1219.87</td><td>120.97</td><td>26.3</td><td>Aaron Bergman</td><td>Alberta</td><td>West</td><td>Corporate</td><td>Technology</td><td>Office Machines</td><td>Canon S750 Color Inkjet Printer</td><td>Jumbo Drum</td><td>2009-07-08</td><td>50</td><td>Classic</td><td>f2d69f1bfbac52e4237b5c8564ec8af969b383bde3734cca607a6358b592c473</td><td>168</td></tr><tr><td>3866</td><td>27559</td><td>2011-10-30 00:00:00</td><td>High</td><td>38</td><td>465.9</td><td>0.05</td><td>Regular Air</td><td>79.34</td><td>12.28</td><td>4.86</td><td>Aaron Hawkins</td><td>Nova Scotia</td><td>Atlantic</td><td>Home Office</td><td>Office Supplies</td><td>Paper</td><td>Xerox 1933</td><td>Small Box</td><td>2011-10-31</td><td>50</td><td>Classic</td><td>9f7b79797209ed1fb0f0348b09c1a0eed1a119d9b648f48bae63191a85203458</td><td>370</td></tr><tr><td>6564</td><td>46662</td><td>2011-12-29 00:00:00</td><td>Critical</td><td>33</td><td>162.0</td><td>0.01</td><td>Regular Air</td><td>45.84</td><td>4.84</td><td>0.71</td><td>Aaron Hawkins</td><td>British Columbia</td><td>West</td><td>Home Office</td><td>Office Supplies</td><td>Pens & Art Supplies</td><td>*Staples* Highlighting Markers</td><td>Wrap Bag</td><td>2011-12-31</td><td>50</td><td>Classic</td><td>9f7b79797209ed1fb0f0348b09c1a0eed1a119d9b648f48bae63191a85203458</td><td>370</td></tr><tr><td>2876</td><td>20737</td><td>2011-12-25 00:00:00</td><td>Medium</td><td>10</td><td>1410.93</td><td>0.08</td><td>Delivery Truck</td><td>-317.48</td><td>140.98</td><td>36.09</td><td>Aaron Hawkins</td><td>Quebec</td><td>Quebec</td><td>Home Office</td><td>Furniture</td><td>Bookcases</td><td>Sauder Forest Hills Library, Woodland Oak Finish</td><td>Jumbo Box</td><td>2011-12-26</td><td>50</td><td>Classic</td><td>9f7b79797209ed1fb0f0348b09c1a0eed1a119d9b648f48bae63191a85203458</td><td>370</td></tr></tbody></table></div>"
      ]
     },
     "metadata": {
      "application/vnd.databricks.v1+output": {
       "addedWidgets": {},
       "aggData": [],
       "aggError": "",
       "aggOverflow": false,
       "aggSchema": [],
       "aggSeriesLimitReached": false,
       "aggType": "",
       "arguments": {},
       "columnCustomDisplayInfos": {},
       "data": [
        [
         "606",
         "4132",
         "2011-05-28 00:00:00",
         "Not Specified",
         5,
         14.76,
         0.01,
         "Regular Air",
         1.32,
         2.88,
         0.5,
         "Aaron Bergman",
         "Nunavut",
         "Nunavut",
         "Corporate",
         "Office Supplies",
         "Labels",
         "Avery 49",
         "Small Box",
         "2011-05-30",
         50,
         "Classic",
         "f2d69f1bfbac52e4237b5c8564ec8af969b383bde3734cca607a6358b592c473",
         168
        ],
        [
         "2847",
         "20513",
         "2009-07-07 00:00:00",
         "High",
         13,
         42.27,
         0.01,
         "Express Air",
         4.56,
         2.84,
         0.93,
         "Aaron Bergman",
         "Alberta",
         "West",
         "Corporate",
         "Office Supplies",
         "Pens & Art Supplies",
         "SANFORD Liquid Accent� Tank-Style Highlighters",
         "Wrap Bag",
         "2009-07-08",
         50,
         "Classic",
         "f2d69f1bfbac52e4237b5c8564ec8af969b383bde3734cca607a6358b592c473",
         168
        ],
        [
         "5086",
         "36262",
         "2010-07-27 00:00:00",
         "Not Specified",
         23,
         164.02,
         0.03,
         "Express Air",
         -47.64,
         6.68,
         6.15,
         "Aaron Bergman",
         "Alberta",
         "West",
         "Corporate",
         "Office Supplies",
         "Paper",
         "Xerox 1968",
         "Small Box",
         "2010-07-28",
         50,
         "Classic",
         "f2d69f1bfbac52e4237b5c8564ec8af969b383bde3734cca607a6358b592c473",
         168
        ],
        [
         "5087",
         "36262",
         "2010-07-27 00:00:00",
         "Not Specified",
         23,
         136.81,
         0.01,
         "Regular Air",
         -30.51,
         5.68,
         3.6,
         "Aaron Bergman",
         "Alberta",
         "West",
         "Corporate",
         "Office Supplies",
         "Scissors, Rulers and Trimmers",
         "Acme� Preferred Stainless Steel Scissors",
         "Small Pack",
         "2010-07-28",
         50,
         "Classic",
         "f2d69f1bfbac52e4237b5c8564ec8af969b383bde3734cca607a6358b592c473",
         168
        ],
        [
         "5088",
         "36262",
         "2010-07-27 00:00:00",
         "Not Specified",
         26,
         4701.69,
         0.0,
         "Express Air",
         1148.9,
         205.99,
         2.5,
         "Aaron Bergman",
         "Alberta",
         "West",
         "Corporate",
         "Technology",
         "Telephones and Communication",
         "V70",
         "Small Box",
         "2010-07-27",
         50,
         "Classic",
         "f2d69f1bfbac52e4237b5c8564ec8af969b383bde3734cca607a6358b592c473",
         168
        ],
        [
         "5597",
         "39682",
         "2010-11-09 00:00:00",
         "Medium",
         43,
         2337.89,
         0.09,
         "Express Air",
         729.34,
         55.48,
         14.3,
         "Aaron Bergman",
         "Alberta",
         "West",
         "Corporate",
         "Office Supplies",
         "Paper",
         "Xerox 194",
         "Small Box",
         "2010-11-11",
         50,
         "Classic",
         "f2d69f1bfbac52e4237b5c8564ec8af969b383bde3734cca607a6358b592c473",
         168
        ],
        [
         "7549",
         "54019",
         "2009-07-01 00:00:00",
         "Low",
         35,
         4233.15,
         0.08,
         "Delivery Truck",
         1219.87,
         120.97,
         26.3,
         "Aaron Bergman",
         "Alberta",
         "West",
         "Corporate",
         "Technology",
         "Office Machines",
         "Canon S750 Color Inkjet Printer",
         "Jumbo Drum",
         "2009-07-08",
         50,
         "Classic",
         "f2d69f1bfbac52e4237b5c8564ec8af969b383bde3734cca607a6358b592c473",
         168
        ],
        [
         "3866",
         "27559",
         "2011-10-30 00:00:00",
         "High",
         38,
         465.9,
         0.05,
         "Regular Air",
         79.34,
         12.28,
         4.86,
         "Aaron Hawkins",
         "Nova Scotia",
         "Atlantic",
         "Home Office",
         "Office Supplies",
         "Paper",
         "Xerox 1933",
         "Small Box",
         "2011-10-31",
         50,
         "Classic",
         "9f7b79797209ed1fb0f0348b09c1a0eed1a119d9b648f48bae63191a85203458",
         370
        ],
        [
         "6564",
         "46662",
         "2011-12-29 00:00:00",
         "Critical",
         33,
         162.0,
         0.01,
         "Regular Air",
         45.84,
         4.84,
         0.71,
         "Aaron Hawkins",
         "British Columbia",
         "West",
         "Home Office",
         "Office Supplies",
         "Pens & Art Supplies",
         "*Staples* Highlighting Markers",
         "Wrap Bag",
         "2011-12-31",
         50,
         "Classic",
         "9f7b79797209ed1fb0f0348b09c1a0eed1a119d9b648f48bae63191a85203458",
         370
        ],
        [
         "2876",
         "20737",
         "2011-12-25 00:00:00",
         "Medium",
         10,
         1410.93,
         0.08,
         "Delivery Truck",
         -317.48,
         140.98,
         36.09,
         "Aaron Hawkins",
         "Quebec",
         "Quebec",
         "Home Office",
         "Furniture",
         "Bookcases",
         "Sauder Forest Hills Library, Woodland Oak Finish",
         "Jumbo Box",
         "2011-12-26",
         50,
         "Classic",
         "9f7b79797209ed1fb0f0348b09c1a0eed1a119d9b648f48bae63191a85203458",
         370
        ]
       ],
       "datasetInfos": [],
       "dbfsResultPath": null,
       "isJsonSchema": true,
       "metadata": {},
       "overflow": false,
       "plotOptions": {
        "customPlotOptions": {},
        "displayType": "table",
        "pivotAggregation": null,
        "pivotColumns": null,
        "xColumns": null,
        "yColumns": null
       },
       "removedWidgets": [],
       "schema": [
        {
         "metadata": "{}",
         "name": "row_id",
         "type": "\"string\""
        },
        {
         "metadata": "{}",
         "name": "order_id",
         "type": "\"string\""
        },
        {
         "metadata": "{}",
         "name": "order_date",
         "type": "\"string\""
        },
        {
         "metadata": "{}",
         "name": "order_priority",
         "type": "\"string\""
        },
        {
         "metadata": "{}",
         "name": "order_quantity",
         "type": "\"long\""
        },
        {
         "metadata": "{}",
         "name": "sales",
         "type": "\"float\""
        },
        {
         "metadata": "{}",
         "name": "discount",
         "type": "\"float\""
        },
        {
         "metadata": "{}",
         "name": "ship_mode",
         "type": "\"string\""
        },
        {
         "metadata": "{}",
         "name": "profit",
         "type": "\"float\""
        },
        {
         "metadata": "{}",
         "name": "unit_price",
         "type": "\"float\""
        },
        {
         "metadata": "{}",
         "name": "shipping_cost",
         "type": "\"float\""
        },
        {
         "metadata": "{}",
         "name": "customer_name",
         "type": "\"string\""
        },
        {
         "metadata": "{}",
         "name": "province",
         "type": "\"string\""
        },
        {
         "metadata": "{}",
         "name": "region",
         "type": "\"string\""
        },
        {
         "metadata": "{}",
         "name": "customer_segment",
         "type": "\"string\""
        },
        {
         "metadata": "{}",
         "name": "product_category",
         "type": "\"string\""
        },
        {
         "metadata": "{}",
         "name": "product_sub_category",
         "type": "\"string\""
        },
        {
         "metadata": "{}",
         "name": "product_name",
         "type": "\"string\""
        },
        {
         "metadata": "{}",
         "name": "product_container",
         "type": "\"string\""
        },
        {
         "metadata": "{}",
         "name": "ship_date",
         "type": "\"date\""
        },
        {
         "metadata": "{}",
         "name": "loyalty_points",
         "type": "\"integer\""
        },
        {
         "metadata": "{}",
         "name": "loyalty_type",
         "type": "\"string\""
        },
        {
         "metadata": "{}",
         "name": "customer_id",
         "type": "\"string\""
        },
        {
         "metadata": "{}",
         "name": "total_orders_count",
         "type": "\"long\""
        }
       ],
       "type": "table"
      }
     },
     "output_type": "display_data"
    }
   ],
   "source": [
    "df.orderBy('customer_name').limit(10).display()"
   ]
  },
  {
   "cell_type": "code",
   "execution_count": 0,
   "metadata": {
    "application/vnd.databricks.v1+cell": {
     "cellMetadata": {
      "byteLimit": 2048000,
      "rowLimit": 10000
     },
     "inputWidgets": {},
     "nuid": "d5d87142-561a-4be3-b3de-8812120e63e5",
     "showTitle": false,
     "title": ""
    }
   },
   "outputs": [
    {
     "output_type": "display_data",
     "data": {
      "text/html": [
       "<style scoped>\n",
       "  .table-result-container {\n",
       "    max-height: 300px;\n",
       "    overflow: auto;\n",
       "  }\n",
       "  table, th, td {\n",
       "    border: 1px solid black;\n",
       "    border-collapse: collapse;\n",
       "  }\n",
       "  th, td {\n",
       "    padding: 5px;\n",
       "  }\n",
       "  th {\n",
       "    text-align: left;\n",
       "  }\n",
       "</style><div class='table-result-container'><table class='table-result'><thead style='background-color: white'><tr><th>row_id</th><th>order_id</th><th>order_date</th><th>order_priority</th><th>order_quantity</th><th>sales</th><th>discount</th><th>ship_mode</th><th>profit</th><th>unit_price</th><th>shipping_cost</th><th>customer_name</th><th>province</th><th>region</th><th>customer_segment</th><th>product_category</th><th>product_sub_category</th><th>product_name</th><th>product_container</th><th>ship_date</th><th>loyalty_points</th><th>loyalty_type</th><th>customer_id</th><th>total_orders_count</th></tr></thead><tbody></tbody></table></div>"
      ]
     },
     "metadata": {
      "application/vnd.databricks.v1+output": {
       "addedWidgets": {},
       "aggData": [],
       "aggError": "",
       "aggOverflow": false,
       "aggSchema": [],
       "aggSeriesLimitReached": false,
       "aggType": "",
       "arguments": {},
       "columnCustomDisplayInfos": {},
       "data": [],
       "datasetInfos": [],
       "dbfsResultPath": null,
       "isJsonSchema": true,
       "metadata": {},
       "overflow": false,
       "plotOptions": {
        "customPlotOptions": {},
        "displayType": "table",
        "pivotAggregation": null,
        "pivotColumns": null,
        "xColumns": null,
        "yColumns": null
       },
       "removedWidgets": [],
       "schema": [
        {
         "metadata": "{}",
         "name": "row_id",
         "type": "\"string\""
        },
        {
         "metadata": "{}",
         "name": "order_id",
         "type": "\"string\""
        },
        {
         "metadata": "{}",
         "name": "order_date",
         "type": "\"string\""
        },
        {
         "metadata": "{}",
         "name": "order_priority",
         "type": "\"string\""
        },
        {
         "metadata": "{}",
         "name": "order_quantity",
         "type": "\"long\""
        },
        {
         "metadata": "{}",
         "name": "sales",
         "type": "\"float\""
        },
        {
         "metadata": "{}",
         "name": "discount",
         "type": "\"float\""
        },
        {
         "metadata": "{}",
         "name": "ship_mode",
         "type": "\"string\""
        },
        {
         "metadata": "{}",
         "name": "profit",
         "type": "\"float\""
        },
        {
         "metadata": "{}",
         "name": "unit_price",
         "type": "\"float\""
        },
        {
         "metadata": "{}",
         "name": "shipping_cost",
         "type": "\"float\""
        },
        {
         "metadata": "{}",
         "name": "customer_name",
         "type": "\"string\""
        },
        {
         "metadata": "{}",
         "name": "province",
         "type": "\"string\""
        },
        {
         "metadata": "{}",
         "name": "region",
         "type": "\"string\""
        },
        {
         "metadata": "{}",
         "name": "customer_segment",
         "type": "\"string\""
        },
        {
         "metadata": "{}",
         "name": "product_category",
         "type": "\"string\""
        },
        {
         "metadata": "{}",
         "name": "product_sub_category",
         "type": "\"string\""
        },
        {
         "metadata": "{}",
         "name": "product_name",
         "type": "\"string\""
        },
        {
         "metadata": "{}",
         "name": "product_container",
         "type": "\"string\""
        },
        {
         "metadata": "{}",
         "name": "ship_date",
         "type": "\"date\""
        },
        {
         "metadata": "{}",
         "name": "loyalty_points",
         "type": "\"integer\""
        },
        {
         "metadata": "{}",
         "name": "loyalty_type",
         "type": "\"string\""
        },
        {
         "metadata": "{}",
         "name": "customer_id",
         "type": "\"string\""
        },
        {
         "metadata": "{}",
         "name": "total_orders_count",
         "type": "\"long\""
        }
       ],
       "type": "table"
      }
     },
     "output_type": "display_data"
    }
   ],
   "source": [
    "df.filter(\"customer_id = 'cbb9188c2ae3ed75981b8a7c44317764a6aae1c64da3518947f6e9c87c985ed1'\").display()"
   ]
  },
  {
   "cell_type": "code",
   "execution_count": 0,
   "metadata": {
    "application/vnd.databricks.v1+cell": {
     "cellMetadata": {
      "byteLimit": 2048000,
      "rowLimit": 10000
     },
     "inputWidgets": {},
     "nuid": "396490a5-d8c0-4a8e-8d24-43111f659330",
     "showTitle": false,
     "title": ""
    }
   },
   "outputs": [],
   "source": [
    "df = df.withColumn('customer_since',\n",
    "                  min(year('order_date')).over(Window.partitionBy('customer_id'))\n",
    "                   )"
   ]
  },
  {
   "cell_type": "code",
   "execution_count": 0,
   "metadata": {
    "application/vnd.databricks.v1+cell": {
     "cellMetadata": {
      "byteLimit": 2048000,
      "rowLimit": 10000
     },
     "inputWidgets": {},
     "nuid": "3e51e88a-4441-4fa3-9b09-ba835fa678fe",
     "showTitle": false,
     "title": ""
    }
   },
   "outputs": [
    {
     "output_type": "display_data",
     "data": {
      "text/html": [
       "<style scoped>\n",
       "  .table-result-container {\n",
       "    max-height: 300px;\n",
       "    overflow: auto;\n",
       "  }\n",
       "  table, th, td {\n",
       "    border: 1px solid black;\n",
       "    border-collapse: collapse;\n",
       "  }\n",
       "  th, td {\n",
       "    padding: 5px;\n",
       "  }\n",
       "  th {\n",
       "    text-align: left;\n",
       "  }\n",
       "</style><div class='table-result-container'><table class='table-result'><thead style='background-color: white'><tr><th>row_id</th><th>order_id</th><th>order_date</th><th>order_priority</th><th>order_quantity</th><th>sales</th><th>discount</th><th>ship_mode</th><th>profit</th><th>unit_price</th><th>shipping_cost</th><th>customer_name</th><th>province</th><th>region</th><th>customer_segment</th><th>product_category</th><th>product_sub_category</th><th>product_name</th><th>product_container</th><th>ship_date</th><th>loyalty_points</th><th>loyalty_type</th><th>customer_id</th><th>total_orders_count</th><th>customer_since</th></tr></thead><tbody></tbody></table></div>"
      ]
     },
     "metadata": {
      "application/vnd.databricks.v1+output": {
       "addedWidgets": {},
       "aggData": [],
       "aggError": "",
       "aggOverflow": false,
       "aggSchema": [],
       "aggSeriesLimitReached": false,
       "aggType": "",
       "arguments": {},
       "columnCustomDisplayInfos": {},
       "data": [],
       "datasetInfos": [],
       "dbfsResultPath": null,
       "isJsonSchema": true,
       "metadata": {},
       "overflow": false,
       "plotOptions": {
        "customPlotOptions": {},
        "displayType": "table",
        "pivotAggregation": null,
        "pivotColumns": null,
        "xColumns": null,
        "yColumns": null
       },
       "removedWidgets": [],
       "schema": [
        {
         "metadata": "{}",
         "name": "row_id",
         "type": "\"string\""
        },
        {
         "metadata": "{}",
         "name": "order_id",
         "type": "\"string\""
        },
        {
         "metadata": "{}",
         "name": "order_date",
         "type": "\"string\""
        },
        {
         "metadata": "{}",
         "name": "order_priority",
         "type": "\"string\""
        },
        {
         "metadata": "{}",
         "name": "order_quantity",
         "type": "\"long\""
        },
        {
         "metadata": "{}",
         "name": "sales",
         "type": "\"float\""
        },
        {
         "metadata": "{}",
         "name": "discount",
         "type": "\"float\""
        },
        {
         "metadata": "{}",
         "name": "ship_mode",
         "type": "\"string\""
        },
        {
         "metadata": "{}",
         "name": "profit",
         "type": "\"float\""
        },
        {
         "metadata": "{}",
         "name": "unit_price",
         "type": "\"float\""
        },
        {
         "metadata": "{}",
         "name": "shipping_cost",
         "type": "\"float\""
        },
        {
         "metadata": "{}",
         "name": "customer_name",
         "type": "\"string\""
        },
        {
         "metadata": "{}",
         "name": "province",
         "type": "\"string\""
        },
        {
         "metadata": "{}",
         "name": "region",
         "type": "\"string\""
        },
        {
         "metadata": "{}",
         "name": "customer_segment",
         "type": "\"string\""
        },
        {
         "metadata": "{}",
         "name": "product_category",
         "type": "\"string\""
        },
        {
         "metadata": "{}",
         "name": "product_sub_category",
         "type": "\"string\""
        },
        {
         "metadata": "{}",
         "name": "product_name",
         "type": "\"string\""
        },
        {
         "metadata": "{}",
         "name": "product_container",
         "type": "\"string\""
        },
        {
         "metadata": "{}",
         "name": "ship_date",
         "type": "\"date\""
        },
        {
         "metadata": "{}",
         "name": "loyalty_points",
         "type": "\"integer\""
        },
        {
         "metadata": "{}",
         "name": "loyalty_type",
         "type": "\"string\""
        },
        {
         "metadata": "{}",
         "name": "customer_id",
         "type": "\"string\""
        },
        {
         "metadata": "{}",
         "name": "total_orders_count",
         "type": "\"long\""
        },
        {
         "metadata": "{}",
         "name": "customer_since",
         "type": "\"integer\""
        }
       ],
       "type": "table"
      }
     },
     "output_type": "display_data"
    }
   ],
   "source": [
    "df.filter(\"customer_id = 'cbb9188c2ae3ed75981b8a7c44317764a6aae1c64da3518947f6e9c87c985ed1'\").display()"
   ]
  },
  {
   "cell_type": "code",
   "execution_count": 0,
   "metadata": {
    "application/vnd.databricks.v1+cell": {
     "cellMetadata": {
      "byteLimit": 2048000,
      "rowLimit": 10000
     },
     "inputWidgets": {},
     "nuid": "37bf7edf-d012-496e-842b-19fd9157029b",
     "showTitle": false,
     "title": ""
    }
   },
   "outputs": [],
   "source": [
    "current_year = year(current_date())\n",
    "df = df.withColumn('total_years',current_year - col('customer_since' ))"
   ]
  },
  {
   "cell_type": "code",
   "execution_count": 0,
   "metadata": {
    "application/vnd.databricks.v1+cell": {
     "cellMetadata": {
      "byteLimit": 2048000,
      "rowLimit": 10000
     },
     "inputWidgets": {},
     "nuid": "d4492a39-45bb-427f-93a8-51720f0c3cde",
     "showTitle": false,
     "title": ""
    }
   },
   "outputs": [
    {
     "output_type": "display_data",
     "data": {
      "text/html": [
       "<style scoped>\n",
       "  .table-result-container {\n",
       "    max-height: 300px;\n",
       "    overflow: auto;\n",
       "  }\n",
       "  table, th, td {\n",
       "    border: 1px solid black;\n",
       "    border-collapse: collapse;\n",
       "  }\n",
       "  th, td {\n",
       "    padding: 5px;\n",
       "  }\n",
       "  th {\n",
       "    text-align: left;\n",
       "  }\n",
       "</style><div class='table-result-container'><table class='table-result'><thead style='background-color: white'><tr><th>row_id</th><th>order_id</th><th>order_date</th><th>order_priority</th><th>order_quantity</th><th>sales</th><th>discount</th><th>ship_mode</th><th>profit</th><th>unit_price</th><th>shipping_cost</th><th>customer_name</th><th>province</th><th>region</th><th>customer_segment</th><th>product_category</th><th>product_sub_category</th><th>product_name</th><th>product_container</th><th>ship_date</th><th>loyalty_points</th><th>loyalty_type</th><th>customer_id</th><th>total_orders_count</th><th>customer_since</th><th>total_years</th></tr></thead><tbody></tbody></table></div>"
      ]
     },
     "metadata": {
      "application/vnd.databricks.v1+output": {
       "addedWidgets": {},
       "aggData": [],
       "aggError": "",
       "aggOverflow": false,
       "aggSchema": [],
       "aggSeriesLimitReached": false,
       "aggType": "",
       "arguments": {},
       "columnCustomDisplayInfos": {},
       "data": [],
       "datasetInfos": [],
       "dbfsResultPath": null,
       "isJsonSchema": true,
       "metadata": {},
       "overflow": false,
       "plotOptions": {
        "customPlotOptions": {},
        "displayType": "table",
        "pivotAggregation": null,
        "pivotColumns": null,
        "xColumns": null,
        "yColumns": null
       },
       "removedWidgets": [],
       "schema": [
        {
         "metadata": "{}",
         "name": "row_id",
         "type": "\"string\""
        },
        {
         "metadata": "{}",
         "name": "order_id",
         "type": "\"string\""
        },
        {
         "metadata": "{}",
         "name": "order_date",
         "type": "\"string\""
        },
        {
         "metadata": "{}",
         "name": "order_priority",
         "type": "\"string\""
        },
        {
         "metadata": "{}",
         "name": "order_quantity",
         "type": "\"long\""
        },
        {
         "metadata": "{}",
         "name": "sales",
         "type": "\"float\""
        },
        {
         "metadata": "{}",
         "name": "discount",
         "type": "\"float\""
        },
        {
         "metadata": "{}",
         "name": "ship_mode",
         "type": "\"string\""
        },
        {
         "metadata": "{}",
         "name": "profit",
         "type": "\"float\""
        },
        {
         "metadata": "{}",
         "name": "unit_price",
         "type": "\"float\""
        },
        {
         "metadata": "{}",
         "name": "shipping_cost",
         "type": "\"float\""
        },
        {
         "metadata": "{}",
         "name": "customer_name",
         "type": "\"string\""
        },
        {
         "metadata": "{}",
         "name": "province",
         "type": "\"string\""
        },
        {
         "metadata": "{}",
         "name": "region",
         "type": "\"string\""
        },
        {
         "metadata": "{}",
         "name": "customer_segment",
         "type": "\"string\""
        },
        {
         "metadata": "{}",
         "name": "product_category",
         "type": "\"string\""
        },
        {
         "metadata": "{}",
         "name": "product_sub_category",
         "type": "\"string\""
        },
        {
         "metadata": "{}",
         "name": "product_name",
         "type": "\"string\""
        },
        {
         "metadata": "{}",
         "name": "product_container",
         "type": "\"string\""
        },
        {
         "metadata": "{}",
         "name": "ship_date",
         "type": "\"date\""
        },
        {
         "metadata": "{}",
         "name": "loyalty_points",
         "type": "\"integer\""
        },
        {
         "metadata": "{}",
         "name": "loyalty_type",
         "type": "\"string\""
        },
        {
         "metadata": "{}",
         "name": "customer_id",
         "type": "\"string\""
        },
        {
         "metadata": "{}",
         "name": "total_orders_count",
         "type": "\"long\""
        },
        {
         "metadata": "{}",
         "name": "customer_since",
         "type": "\"integer\""
        },
        {
         "metadata": "{}",
         "name": "total_years",
         "type": "\"integer\""
        }
       ],
       "type": "table"
      }
     },
     "output_type": "display_data"
    }
   ],
   "source": [
    "df.filter(\"customer_id = 'cbb9188c2ae3ed75981b8a7c44317764a6aae1c64da3518947f6e9c87c985ed1'\").display()"
   ]
  },
  {
   "cell_type": "code",
   "execution_count": 0,
   "metadata": {
    "application/vnd.databricks.v1+cell": {
     "cellMetadata": {
      "byteLimit": 2048000,
      "rowLimit": 10000
     },
     "inputWidgets": {},
     "nuid": "4be34526-f153-486a-94e8-0c9bc38c9ce7",
     "showTitle": false,
     "title": ""
    }
   },
   "outputs": [],
   "source": [
    "df = df.withColumn('loyalty_points',\n",
    "                  when(col('total_orders_count')> 500,(count('customer_id').over(Window.partitionBy('customer_id')) * 50) + 200) \n",
    "                  .when((col('total_orders_count')>= 500) & (col('total_orders_count')< 1500),(count('customer_id').over(Window.partitionBy('customer_id')) * 50) + 700)\n",
    "                  .when((col('total_orders_count')>= 1500) & (col('total_orders_count')< 2000),(count('customer_id').over(Window.partitionBy('customer_id')) * 50) + 1200)\n",
    "                  .when((col('total_orders_count')>= 2000) & (col('total_orders_count')< 2500),(count('customer_id').over(Window.partitionBy('customer_id')) * 50) + 1700)\n",
    "                  .when((col('total_orders_count')>= 2500) & (col('total_orders_count')< 3000),(count('customer_id').over(Window.partitionBy('customer_id')) * 50) + 2200)\n",
    "                  .otherwise(count('customer_id').over(Window.partitionBy('customer_id')) * 50)\n",
    "                   )"
   ]
  },
  {
   "cell_type": "code",
   "execution_count": 0,
   "metadata": {
    "application/vnd.databricks.v1+cell": {
     "cellMetadata": {
      "byteLimit": 2048000,
      "rowLimit": 10000
     },
     "inputWidgets": {},
     "nuid": "5f48642e-9d0f-4e3f-9f65-72543212cb5f",
     "showTitle": false,
     "title": ""
    }
   },
   "outputs": [
    {
     "output_type": "display_data",
     "data": {
      "text/html": [
       "<style scoped>\n",
       "  .table-result-container {\n",
       "    max-height: 300px;\n",
       "    overflow: auto;\n",
       "  }\n",
       "  table, th, td {\n",
       "    border: 1px solid black;\n",
       "    border-collapse: collapse;\n",
       "  }\n",
       "  th, td {\n",
       "    padding: 5px;\n",
       "  }\n",
       "  th {\n",
       "    text-align: left;\n",
       "  }\n",
       "</style><div class='table-result-container'><table class='table-result'><thead style='background-color: white'><tr><th>row_id</th><th>order_id</th><th>order_date</th><th>order_priority</th><th>order_quantity</th><th>sales</th><th>discount</th><th>ship_mode</th><th>profit</th><th>unit_price</th><th>shipping_cost</th><th>customer_name</th><th>province</th><th>region</th><th>customer_segment</th><th>product_category</th><th>product_sub_category</th><th>product_name</th><th>product_container</th><th>ship_date</th><th>loyalty_points</th><th>loyalty_type</th><th>customer_id</th><th>total_orders_count</th><th>customer_since</th><th>total_years</th></tr></thead><tbody></tbody></table></div>"
      ]
     },
     "metadata": {
      "application/vnd.databricks.v1+output": {
       "addedWidgets": {},
       "aggData": [],
       "aggError": "",
       "aggOverflow": false,
       "aggSchema": [],
       "aggSeriesLimitReached": false,
       "aggType": "",
       "arguments": {},
       "columnCustomDisplayInfos": {},
       "data": [],
       "datasetInfos": [],
       "dbfsResultPath": null,
       "isJsonSchema": true,
       "metadata": {},
       "overflow": false,
       "plotOptions": {
        "customPlotOptions": {},
        "displayType": "table",
        "pivotAggregation": null,
        "pivotColumns": null,
        "xColumns": null,
        "yColumns": null
       },
       "removedWidgets": [],
       "schema": [
        {
         "metadata": "{}",
         "name": "row_id",
         "type": "\"string\""
        },
        {
         "metadata": "{}",
         "name": "order_id",
         "type": "\"string\""
        },
        {
         "metadata": "{}",
         "name": "order_date",
         "type": "\"string\""
        },
        {
         "metadata": "{}",
         "name": "order_priority",
         "type": "\"string\""
        },
        {
         "metadata": "{}",
         "name": "order_quantity",
         "type": "\"long\""
        },
        {
         "metadata": "{}",
         "name": "sales",
         "type": "\"float\""
        },
        {
         "metadata": "{}",
         "name": "discount",
         "type": "\"float\""
        },
        {
         "metadata": "{}",
         "name": "ship_mode",
         "type": "\"string\""
        },
        {
         "metadata": "{}",
         "name": "profit",
         "type": "\"float\""
        },
        {
         "metadata": "{}",
         "name": "unit_price",
         "type": "\"float\""
        },
        {
         "metadata": "{}",
         "name": "shipping_cost",
         "type": "\"float\""
        },
        {
         "metadata": "{}",
         "name": "customer_name",
         "type": "\"string\""
        },
        {
         "metadata": "{}",
         "name": "province",
         "type": "\"string\""
        },
        {
         "metadata": "{}",
         "name": "region",
         "type": "\"string\""
        },
        {
         "metadata": "{}",
         "name": "customer_segment",
         "type": "\"string\""
        },
        {
         "metadata": "{}",
         "name": "product_category",
         "type": "\"string\""
        },
        {
         "metadata": "{}",
         "name": "product_sub_category",
         "type": "\"string\""
        },
        {
         "metadata": "{}",
         "name": "product_name",
         "type": "\"string\""
        },
        {
         "metadata": "{}",
         "name": "product_container",
         "type": "\"string\""
        },
        {
         "metadata": "{}",
         "name": "ship_date",
         "type": "\"date\""
        },
        {
         "metadata": "{}",
         "name": "loyalty_points",
         "type": "\"long\""
        },
        {
         "metadata": "{}",
         "name": "loyalty_type",
         "type": "\"string\""
        },
        {
         "metadata": "{}",
         "name": "customer_id",
         "type": "\"string\""
        },
        {
         "metadata": "{}",
         "name": "total_orders_count",
         "type": "\"long\""
        },
        {
         "metadata": "{}",
         "name": "customer_since",
         "type": "\"integer\""
        },
        {
         "metadata": "{}",
         "name": "total_years",
         "type": "\"integer\""
        }
       ],
       "type": "table"
      }
     },
     "output_type": "display_data"
    }
   ],
   "source": [
    "df.filter(\"customer_id = 'cbb9188c2ae3ed75981b8a7c44317764a6aae1c64da3518947f6e9c87c985ed1'\").display()"
   ]
  },
  {
   "cell_type": "code",
   "execution_count": 0,
   "metadata": {
    "application/vnd.databricks.v1+cell": {
     "cellMetadata": {
      "byteLimit": 2048000,
      "rowLimit": 10000
     },
     "inputWidgets": {},
     "nuid": "cf2ccba7-6937-409c-ae70-b899f66aea99",
     "showTitle": false,
     "title": ""
    }
   },
   "outputs": [],
   "source": [
    "df = df.withColumn('loyalty_type',\n",
    "                  when(((col('total_orders_count')>= 1) & (col('total_orders_count')< 300)) & ((col('total_years')>=12) & (col('total_years')<=13)) & ((col('loyalty_points')>=50) & (col('loyalty_points')<600)),'Gold') \n",
    "                  .when(((col('total_orders_count')>= 300) & (col('total_orders_count')< 500)) & ((col('total_years')>13) & (col('total_years')<=14)) & ((col('loyalty_points')>=600) & (col('loyalty_points')<1000)),'Platinum') \n",
    "                  .when(((col('total_orders_count')>= 500) & (col('total_orders_count')< 1500)) & ((col('total_years')>14) & (col('total_years')<=15) )& ((col('loyalty_points')>=1000) & (col('loyalty_points')<2000)),'Daimond') \n",
    "                  .when(((col('total_orders_count')>= 1500)) & ((col('total_years')>15)) & (col('loyalty_points')>=2000),'Elite') \n",
    "                  .otherwise(col('loyalty_type'))\n",
    "                   )"
   ]
  },
  {
   "cell_type": "code",
   "execution_count": 0,
   "metadata": {
    "application/vnd.databricks.v1+cell": {
     "cellMetadata": {
      "byteLimit": 2048000,
      "rowLimit": 10000
     },
     "inputWidgets": {},
     "nuid": "d3bcbd94-9cda-441e-a7fb-69e3b26c5b33",
     "showTitle": false,
     "title": ""
    }
   },
   "outputs": [],
   "source": [
    "total_customers_count = df.count()\n",
    "classic_count = df.filter(\"loyalty_type = 'Classic'\").count()\n",
    "gold_count = df.filter(\"loyalty_type = 'Gold'\").count()\n",
    "platinum_count = df.filter(\"loyalty_type = 'Platinum'\").count()\n",
    "daimond_count = df.filter(\"loyalty_type = 'Daimond'\").count()\n",
    "elite_count = df.filter(\"loyalty_type = 'Elite'\").count()"
   ]
  },
  {
   "cell_type": "code",
   "execution_count": 0,
   "metadata": {
    "application/vnd.databricks.v1+cell": {
     "cellMetadata": {
      "byteLimit": 2048000,
      "rowLimit": 10000
     },
     "inputWidgets": {},
     "nuid": "80db2f01-6098-489a-91a6-35d0c6a7bef0",
     "showTitle": false,
     "title": ""
    }
   },
   "outputs": [
    {
     "output_type": "stream",
     "name": "stdout",
     "output_type": "stream",
     "text": [
      "total customers :  8399\nclassic customers :  6436\ngold customers :  142\nplatinum customers :  83\ndaimond customers :  1738\nelite customers :  0\n"
     ]
    }
   ],
   "source": [
    "print(\"total customers : \",total_customers_count)\n",
    "print(\"classic customers : \",classic_count)\n",
    "print(\"gold customers : \",gold_count)\n",
    "print(\"platinum customers : \",platinum_count)\n",
    "print(\"daimond customers : \",daimond_count)\n",
    "print(\"elite customers : \",elite_count)"
   ]
  },
  {
   "cell_type": "code",
   "execution_count": 0,
   "metadata": {
    "application/vnd.databricks.v1+cell": {
     "cellMetadata": {
      "byteLimit": 2048000,
      "rowLimit": 10000
     },
     "inputWidgets": {},
     "nuid": "597eaf4f-57e3-41b2-811a-99ecebf4cdae",
     "showTitle": false,
     "title": ""
    }
   },
   "outputs": [
    {
     "output_type": "display_data",
     "data": {
      "text/html": [
       "<style scoped>\n",
       "  .table-result-container {\n",
       "    max-height: 300px;\n",
       "    overflow: auto;\n",
       "  }\n",
       "  table, th, td {\n",
       "    border: 1px solid black;\n",
       "    border-collapse: collapse;\n",
       "  }\n",
       "  th, td {\n",
       "    padding: 5px;\n",
       "  }\n",
       "  th {\n",
       "    text-align: left;\n",
       "  }\n",
       "</style><div class='table-result-container'><table class='table-result'><thead style='background-color: white'><tr><th>row_id</th><th>order_id</th><th>order_date</th><th>order_priority</th><th>order_quantity</th><th>sales</th><th>discount</th><th>ship_mode</th><th>profit</th><th>unit_price</th><th>shipping_cost</th><th>customer_name</th><th>province</th><th>region</th><th>customer_segment</th><th>product_category</th><th>product_sub_category</th><th>product_name</th><th>product_container</th><th>ship_date</th><th>loyalty_points</th><th>loyalty_type</th><th>customer_id</th><th>total_orders_count</th><th>customer_since</th><th>total_years</th></tr></thead><tbody><tr><td>2533</td><td>18374</td><td>2012-09-30 00:00:00</td><td>Low</td><td>21</td><td>150.16</td><td>0.09</td><td>Regular Air</td><td>-32.78</td><td>7.28</td><td>5.47</td><td>Nick Crebassa</td><td>Saskachewan</td><td>Prarie</td><td>Corporate</td><td>Office Supplies</td><td>Paper</td><td>Southworth Structures Collection�</td><td>Small Box</td><td>2012-10-02</td><td>650</td><td>Classic</td><td>001492ac094ba3c986a45e7799a0409db64ed3c856e39cf16854012aa468fa01</td><td>432</td><td>2009</td><td>15</td></tr></tbody></table></div>"
      ]
     },
     "metadata": {
      "application/vnd.databricks.v1+output": {
       "addedWidgets": {},
       "aggData": [],
       "aggError": "",
       "aggOverflow": false,
       "aggSchema": [],
       "aggSeriesLimitReached": false,
       "aggType": "",
       "arguments": {},
       "columnCustomDisplayInfos": {},
       "data": [
        [
         "2533",
         "18374",
         "2012-09-30 00:00:00",
         "Low",
         21,
         150.16,
         0.09,
         "Regular Air",
         -32.78,
         7.28,
         5.47,
         "Nick Crebassa",
         "Saskachewan",
         "Prarie",
         "Corporate",
         "Office Supplies",
         "Paper",
         "Southworth Structures Collection�",
         "Small Box",
         "2012-10-02",
         650,
         "Classic",
         "001492ac094ba3c986a45e7799a0409db64ed3c856e39cf16854012aa468fa01",
         432,
         2009,
         15
        ]
       ],
       "datasetInfos": [],
       "dbfsResultPath": null,
       "isJsonSchema": true,
       "metadata": {},
       "overflow": false,
       "plotOptions": {
        "customPlotOptions": {},
        "displayType": "table",
        "pivotAggregation": null,
        "pivotColumns": null,
        "xColumns": null,
        "yColumns": null
       },
       "removedWidgets": [],
       "schema": [
        {
         "metadata": "{}",
         "name": "row_id",
         "type": "\"string\""
        },
        {
         "metadata": "{}",
         "name": "order_id",
         "type": "\"string\""
        },
        {
         "metadata": "{}",
         "name": "order_date",
         "type": "\"string\""
        },
        {
         "metadata": "{}",
         "name": "order_priority",
         "type": "\"string\""
        },
        {
         "metadata": "{}",
         "name": "order_quantity",
         "type": "\"long\""
        },
        {
         "metadata": "{}",
         "name": "sales",
         "type": "\"float\""
        },
        {
         "metadata": "{}",
         "name": "discount",
         "type": "\"float\""
        },
        {
         "metadata": "{}",
         "name": "ship_mode",
         "type": "\"string\""
        },
        {
         "metadata": "{}",
         "name": "profit",
         "type": "\"float\""
        },
        {
         "metadata": "{}",
         "name": "unit_price",
         "type": "\"float\""
        },
        {
         "metadata": "{}",
         "name": "shipping_cost",
         "type": "\"float\""
        },
        {
         "metadata": "{}",
         "name": "customer_name",
         "type": "\"string\""
        },
        {
         "metadata": "{}",
         "name": "province",
         "type": "\"string\""
        },
        {
         "metadata": "{}",
         "name": "region",
         "type": "\"string\""
        },
        {
         "metadata": "{}",
         "name": "customer_segment",
         "type": "\"string\""
        },
        {
         "metadata": "{}",
         "name": "product_category",
         "type": "\"string\""
        },
        {
         "metadata": "{}",
         "name": "product_sub_category",
         "type": "\"string\""
        },
        {
         "metadata": "{}",
         "name": "product_name",
         "type": "\"string\""
        },
        {
         "metadata": "{}",
         "name": "product_container",
         "type": "\"string\""
        },
        {
         "metadata": "{}",
         "name": "ship_date",
         "type": "\"date\""
        },
        {
         "metadata": "{}",
         "name": "loyalty_points",
         "type": "\"long\""
        },
        {
         "metadata": "{}",
         "name": "loyalty_type",
         "type": "\"string\""
        },
        {
         "metadata": "{}",
         "name": "customer_id",
         "type": "\"string\""
        },
        {
         "metadata": "{}",
         "name": "total_orders_count",
         "type": "\"long\""
        },
        {
         "metadata": "{}",
         "name": "customer_since",
         "type": "\"integer\""
        },
        {
         "metadata": "{}",
         "name": "total_years",
         "type": "\"integer\""
        }
       ],
       "type": "table"
      }
     },
     "output_type": "display_data"
    }
   ],
   "source": [
    "df.limit(1).display()"
   ]
  },
  {
   "cell_type": "code",
   "execution_count": 0,
   "metadata": {
    "application/vnd.databricks.v1+cell": {
     "cellMetadata": {
      "byteLimit": 2048000,
      "rowLimit": 10000
     },
     "inputWidgets": {},
     "nuid": "2a3ecbbb-bf8c-49c6-984d-fd3888964e56",
     "showTitle": false,
     "title": ""
    }
   },
   "outputs": [
    {
     "output_type": "stream",
     "name": "stdout",
     "output_type": "stream",
     "text": [
      "root\n |-- row_id: string (nullable = true)\n |-- order_id: string (nullable = true)\n |-- order_date: string (nullable = true)\n |-- order_priority: string (nullable = true)\n |-- order_quantity: long (nullable = true)\n |-- sales: float (nullable = true)\n |-- discount: float (nullable = true)\n |-- ship_mode: string (nullable = true)\n |-- profit: float (nullable = true)\n |-- unit_price: float (nullable = true)\n |-- shipping_cost: float (nullable = true)\n |-- customer_name: string (nullable = true)\n |-- province: string (nullable = true)\n |-- region: string (nullable = true)\n |-- customer_segment: string (nullable = true)\n |-- product_category: string (nullable = true)\n |-- product_sub_category: string (nullable = true)\n |-- product_name: string (nullable = true)\n |-- product_container: string (nullable = true)\n |-- ship_date: date (nullable = true)\n |-- loyalty_points: long (nullable = false)\n |-- loyalty_type: string (nullable = false)\n |-- customer_id: string (nullable = true)\n |-- total_orders_count: long (nullable = true)\n |-- customer_since: integer (nullable = true)\n |-- total_years: integer (nullable = true)\n\n"
     ]
    }
   ],
   "source": [
    "df.printSchema()"
   ]
  },
  {
   "cell_type": "code",
   "execution_count": 0,
   "metadata": {
    "application/vnd.databricks.v1+cell": {
     "cellMetadata": {
      "byteLimit": 2048000,
      "rowLimit": 10000
     },
     "inputWidgets": {},
     "nuid": "bf275acf-1e8a-4468-bba9-b0d57fad95a8",
     "showTitle": false,
     "title": ""
    }
   },
   "outputs": [],
   "source": [
    "df.write \\\n",
    "    .mode('overwrite') \\\n",
    "    .option('path',\"/FileStore/tables/customers_refined.csv\") \\\n",
    "    .save()"
   ]
  },
  {
   "cell_type": "markdown",
   "metadata": {
    "application/vnd.databricks.v1+cell": {
     "cellMetadata": {
      "byteLimit": 2048000,
      "rowLimit": 10000
     },
     "inputWidgets": {},
     "nuid": "6ec2dd64-1ea2-4067-98b6-5a837b862320",
     "showTitle": false,
     "title": ""
    }
   },
   "source": [
    "\n",
    "create  below tables\n",
    "\n",
    "customer_details will have customer_name, region, province, customer_segment and customer_id where details such as region, province and customer_segment \n",
    "will be overwritten as those might change over time\n",
    "\n",
    "order_details will have order_id, order_date, ship_date, order_priority, order_quantity, customer_id, \n",
    "order_status(in progress with null in ship_date if delivery in progress \n",
    "if cancelled then cancelled in order_status with null in ship_date\n",
    "if delivered then completed in order_status with delivered date in ship_date) \n",
    "when a customer does new order it will be inserted as new row with current order_date and ship_date\n",
    "\n",
    "product_details will have customer_id, order_id, product_id, product_category, product_sub_category, product_name, product_container, product_order_date (order_date) \n",
    "--when a customer does new order and if order_status = 'Completed' then only it will be inserted in this table as new row with updated values in columns against that customer_id\n",
    "\n",
    "loyalty_details : customer_id, customer_since, total_years, total_orders_count, loyalty_points and loyalty_type \n",
    "---will have latest loyalty_details against each customer_id \n",
    "\n",
    "customer_loyalty_dtls_hist : customer_id, region, province, customer_segment, total_orders_count, total_years, customer_since, loyalty_points, loyalty_type \n",
    "with additional columns start_date and end_date where all the rows will be inserted as new rows with updated start_date and end_date\n",
    "\n",
    "future enhancement: to have customer_status like active, inactive, suspended, service_blocked, etc. \n",
    ",to have root and line items\n",
    ",to categorize products into attributes\n"
   ]
  },
  {
   "cell_type": "code",
   "execution_count": 0,
   "metadata": {
    "application/vnd.databricks.v1+cell": {
     "cellMetadata": {
      "byteLimit": 2048000,
      "rowLimit": 10000
     },
     "inputWidgets": {},
     "nuid": "8023b16c-cf6f-475d-a866-266bd06ae8a1",
     "showTitle": false,
     "title": ""
    }
   },
   "outputs": [],
   "source": []
  }
 ],
 "metadata": {
  "application/vnd.databricks.v1+notebook": {
   "dashboards": [],
   "language": "python",
   "notebookMetadata": {
    "mostRecentlyExecutedCommandWithImplicitDF": {
     "commandId": -1,
     "dataframes": [
      "_sqldf"
     ]
    },
    "pythonIndentUnit": 4
   },
   "notebookName": "customers_dtls_input_file_processing",
   "widgets": {}
  }
 },
 "nbformat": 4,
 "nbformat_minor": 0
}
