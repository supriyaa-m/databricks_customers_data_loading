{
 "cells": [
  {
   "cell_type": "code",
   "execution_count": 0,
   "metadata": {
    "application/vnd.databricks.v1+cell": {
     "cellMetadata": {
      "byteLimit": 2048000,
      "rowLimit": 10000
     },
     "inputWidgets": {},
     "nuid": "f2da4ff0-288f-4b4c-8de5-7810404f7013",
     "showTitle": false,
     "title": ""
    }
   },
   "outputs": [],
   "source": [
    "file_location = \"/FileStore/tables/customers_refined.csv\"\n",
    "file_type = \"csv\""
   ]
  },
  {
   "cell_type": "code",
   "execution_count": 0,
   "metadata": {
    "application/vnd.databricks.v1+cell": {
     "cellMetadata": {
      "byteLimit": 2048000,
      "rowLimit": 10000
     },
     "inputWidgets": {},
     "nuid": "94f19791-4cc9-445d-a524-4e15ba25819c",
     "showTitle": false,
     "title": ""
    }
   },
   "outputs": [],
   "source": [
    "from pyspark.sql.functions import *\n",
    "from pyspark.sql.window import Window"
   ]
  },
  {
   "cell_type": "code",
   "execution_count": 0,
   "metadata": {
    "application/vnd.databricks.v1+cell": {
     "cellMetadata": {
      "byteLimit": 2048000,
      "rowLimit": 10000
     },
     "inputWidgets": {},
     "nuid": "1b06ccd6-2ab3-4beb-b327-7e6b5e1bcf86",
     "showTitle": false,
     "title": ""
    }
   },
   "outputs": [],
   "source": [
    "df = spark.read.format('delta') \\\n",
    "  .load(file_location)"
   ]
  },
  {
   "cell_type": "code",
   "execution_count": 0,
   "metadata": {
    "application/vnd.databricks.v1+cell": {
     "cellMetadata": {
      "byteLimit": 2048000,
      "rowLimit": 10000
     },
     "inputWidgets": {},
     "nuid": "98d1e529-9946-4caa-acca-e77517c9eaa0",
     "showTitle": false,
     "title": ""
    }
   },
   "outputs": [
    {
     "output_type": "stream",
     "name": "stdout",
     "output_type": "stream",
     "text": [
      "+------+--------+-------------------+--------------+--------------+--------+--------+-----------+-------+----------+-------------+-------------+-----------+------+----------------+----------------+-----------------------------+-------------------------------------------------------+-----------------+----------+--------------+------------+----------------------------------------------------------------+------------------+--------------+-----------+\n|row_id|order_id|order_date         |order_priority|order_quantity|sales   |discount|ship_mode  |profit |unit_price|shipping_cost|customer_name|province   |region|customer_segment|product_category|product_sub_category         |product_name                                           |product_container|ship_date |loyalty_points|loyalty_type|customer_id                                                     |total_orders_count|customer_since|total_years|\n+------+--------+-------------------+--------------+--------------+--------+--------+-----------+-------+----------+-------------+-------------+-----------+------+----------------+----------------+-----------------------------+-------------------------------------------------------+-----------------+----------+--------------+------------+----------------------------------------------------------------+------------------+--------------+-----------+\n|2533  |18374   |2012-09-30 00:00:00|Low           |21            |150.16  |0.09    |Regular Air|-32.78 |7.28      |5.47         |Nick Crebassa|Saskachewan|Prarie|Corporate       |Office Supplies |Paper                        |Southworth Structures Collection�                      |Small Box        |2012-10-02|650           |Classic     |001492ac094ba3c986a45e7799a0409db64ed3c856e39cf16854012aa468fa01|432               |2009          |15         |\n|3548  |25314   |2012-02-24 00:00:00|High          |43            |7679.512|0.0     |Regular Air|2307.42|205.99    |5.0          |Nick Crebassa|Saskachewan|Prarie|Corporate       |Technology      |Telephones and Communication |Phone 918                                              |Small Box        |2012-02-26|650           |Classic     |001492ac094ba3c986a45e7799a0409db64ed3c856e39cf16854012aa468fa01|432               |2009          |15         |\n|4364  |31106   |2012-02-16 00:00:00|Low           |37            |101.9   |0.0     |Regular Air|40.52  |2.61      |0.5          |Nick Crebassa|Saskachewan|Prarie|Corporate       |Office Supplies |Labels                       |Avery 494                                              |Small Box        |2012-02-16|650           |Classic     |001492ac094ba3c986a45e7799a0409db64ed3c856e39cf16854012aa468fa01|432               |2009          |15         |\n|4365  |31106   |2012-02-16 00:00:00|Low           |7             |187.33  |0.03    |Regular Air|66.47  |25.13     |9.87         |Nick Crebassa|Saskachewan|Prarie|Corporate       |Furniture       |Office Furnishings           |Eldon� Executive Woodline II Desk Accessories, Mahogany|Small Box        |2012-02-21|650           |Classic     |001492ac094ba3c986a45e7799a0409db64ed3c856e39cf16854012aa468fa01|432               |2009          |15         |\n|4366  |31106   |2012-02-16 00:00:00|Low           |45            |259.17  |0.01    |Regular Air|-57.33 |5.68      |3.6          |Nick Crebassa|Saskachewan|Prarie|Corporate       |Office Supplies |Scissors, Rulers and Trimmers|Acme� Preferred Stainless Steel Scissors               |Small Pack       |2012-02-18|650           |Classic     |001492ac094ba3c986a45e7799a0409db64ed3c856e39cf16854012aa468fa01|432               |2009          |15         |\n+------+--------+-------------------+--------------+--------------+--------+--------+-----------+-------+----------+-------------+-------------+-----------+------+----------------+----------------+-----------------------------+-------------------------------------------------------+-----------------+----------+--------------+------------+----------------------------------------------------------------+------------------+--------------+-----------+\nonly showing top 5 rows\n\n"
     ]
    }
   ],
   "source": [
    "df.show(5,truncate=False)"
   ]
  },
  {
   "cell_type": "code",
   "execution_count": 0,
   "metadata": {
    "application/vnd.databricks.v1+cell": {
     "cellMetadata": {
      "byteLimit": 2048000,
      "rowLimit": 10000
     },
     "inputWidgets": {},
     "nuid": "a6561b67-0bbb-4d57-ae21-34eba8eb965a",
     "showTitle": false,
     "title": ""
    }
   },
   "outputs": [
    {
     "output_type": "stream",
     "name": "stdout",
     "output_type": "stream",
     "text": [
      "root\n |-- row_id: string (nullable = true)\n |-- order_id: string (nullable = true)\n |-- order_date: string (nullable = true)\n |-- order_priority: string (nullable = true)\n |-- order_quantity: long (nullable = true)\n |-- sales: float (nullable = true)\n |-- discount: float (nullable = true)\n |-- ship_mode: string (nullable = true)\n |-- profit: float (nullable = true)\n |-- unit_price: float (nullable = true)\n |-- shipping_cost: float (nullable = true)\n |-- customer_name: string (nullable = true)\n |-- province: string (nullable = true)\n |-- region: string (nullable = true)\n |-- customer_segment: string (nullable = true)\n |-- product_category: string (nullable = true)\n |-- product_sub_category: string (nullable = true)\n |-- product_name: string (nullable = true)\n |-- product_container: string (nullable = true)\n |-- ship_date: date (nullable = true)\n |-- loyalty_points: long (nullable = true)\n |-- loyalty_type: string (nullable = true)\n |-- customer_id: string (nullable = true)\n |-- total_orders_count: long (nullable = true)\n |-- customer_since: integer (nullable = true)\n |-- total_years: integer (nullable = true)\n\n"
     ]
    }
   ],
   "source": [
    "df.printSchema()"
   ]
  },
  {
   "cell_type": "code",
   "execution_count": 0,
   "metadata": {
    "application/vnd.databricks.v1+cell": {
     "cellMetadata": {
      "byteLimit": 2048000,
      "rowLimit": 10000
     },
     "inputWidgets": {},
     "nuid": "278977e5-44db-4e9a-8c7c-ec5d711d0154",
     "showTitle": false,
     "title": ""
    }
   },
   "outputs": [],
   "source": [
    "customers_df = df.select('customer_id', 'customer_name', 'region', 'province', 'customer_since',\"order_date\")"
   ]
  },
  {
   "cell_type": "code",
   "execution_count": 0,
   "metadata": {
    "application/vnd.databricks.v1+cell": {
     "cellMetadata": {
      "byteLimit": 2048000,
      "rowLimit": 10000
     },
     "inputWidgets": {},
     "nuid": "c67d716a-fffb-465f-9354-343f181e1cff",
     "showTitle": false,
     "title": ""
    }
   },
   "outputs": [
    {
     "output_type": "stream",
     "name": "stdout",
     "output_type": "stream",
     "text": [
      "+----------------------------------------------------------------+-------------+------+-----------+--------------+-------------------+\n|customer_id                                                     |customer_name|region|province   |customer_since|order_date         |\n+----------------------------------------------------------------+-------------+------+-----------+--------------+-------------------+\n|001492ac094ba3c986a45e7799a0409db64ed3c856e39cf16854012aa468fa01|Nick Crebassa|Prarie|Saskachewan|2009          |2012-09-30 00:00:00|\n|001492ac094ba3c986a45e7799a0409db64ed3c856e39cf16854012aa468fa01|Nick Crebassa|Prarie|Saskachewan|2009          |2012-02-24 00:00:00|\n|001492ac094ba3c986a45e7799a0409db64ed3c856e39cf16854012aa468fa01|Nick Crebassa|Prarie|Saskachewan|2009          |2012-02-16 00:00:00|\n|001492ac094ba3c986a45e7799a0409db64ed3c856e39cf16854012aa468fa01|Nick Crebassa|Prarie|Saskachewan|2009          |2012-02-16 00:00:00|\n+----------------------------------------------------------------+-------------+------+-----------+--------------+-------------------+\n\n"
     ]
    }
   ],
   "source": [
    "customers_df.limit(4).show(truncate=False)"
   ]
  },
  {
   "cell_type": "code",
   "execution_count": 0,
   "metadata": {
    "application/vnd.databricks.v1+cell": {
     "cellMetadata": {
      "byteLimit": 2048000,
      "rowLimit": 10000
     },
     "inputWidgets": {},
     "nuid": "3ffceaaa-5e96-4966-9a4c-b23e60e14672",
     "showTitle": false,
     "title": ""
    }
   },
   "outputs": [
    {
     "output_type": "stream",
     "name": "stdout",
     "output_type": "stream",
     "text": [
      "Out[42]: 8399"
     ]
    }
   ],
   "source": [
    "customers_df.count()"
   ]
  },
  {
   "cell_type": "code",
   "execution_count": 0,
   "metadata": {
    "application/vnd.databricks.v1+cell": {
     "cellMetadata": {
      "byteLimit": 2048000,
      "rowLimit": 10000
     },
     "inputWidgets": {},
     "nuid": "bfafd5a1-ea76-422c-b8ec-1cfae98fa55d",
     "showTitle": false,
     "title": ""
    }
   },
   "outputs": [
    {
     "output_type": "stream",
     "name": "stdout",
     "output_type": "stream",
     "text": [
      "+----------------------------------------------------------------+-------------+------+----------------+--------------+-------------------+\n|customer_id                                                     |customer_name|region|province        |customer_since|order_date         |\n+----------------------------------------------------------------+-------------+------+----------------+--------------+-------------------+\n|07c41f7f8da2ed563ce0452e1d066605494817333732bafb29d6c596e6aeb39a|Dave Kipp    |West  |British Columbia|2009          |2012-10-25 00:00:00|\n|07c41f7f8da2ed563ce0452e1d066605494817333732bafb29d6c596e6aeb39a|Dave Kipp    |Yukon |Yukon           |2009          |2011-10-30 00:00:00|\n|07c41f7f8da2ed563ce0452e1d066605494817333732bafb29d6c596e6aeb39a|Dave Kipp    |West  |British Columbia|2009          |2011-07-02 00:00:00|\n|07c41f7f8da2ed563ce0452e1d066605494817333732bafb29d6c596e6aeb39a|Dave Kipp    |West  |British Columbia|2009          |2011-07-02 00:00:00|\n|07c41f7f8da2ed563ce0452e1d066605494817333732bafb29d6c596e6aeb39a|Dave Kipp    |Yukon |Yukon           |2009          |2011-02-20 00:00:00|\n|07c41f7f8da2ed563ce0452e1d066605494817333732bafb29d6c596e6aeb39a|Dave Kipp    |Yukon |Yukon           |2009          |2011-02-20 00:00:00|\n|07c41f7f8da2ed563ce0452e1d066605494817333732bafb29d6c596e6aeb39a|Dave Kipp    |Yukon |Yukon           |2009          |2010-09-24 00:00:00|\n|07c41f7f8da2ed563ce0452e1d066605494817333732bafb29d6c596e6aeb39a|Dave Kipp    |Yukon |Yukon           |2009          |2010-09-24 00:00:00|\n|07c41f7f8da2ed563ce0452e1d066605494817333732bafb29d6c596e6aeb39a|Dave Kipp    |Yukon |Yukon           |2009          |2009-11-20 00:00:00|\n|07c41f7f8da2ed563ce0452e1d066605494817333732bafb29d6c596e6aeb39a|Dave Kipp    |West  |British Columbia|2009          |2009-04-12 00:00:00|\n|07c41f7f8da2ed563ce0452e1d066605494817333732bafb29d6c596e6aeb39a|Dave Kipp    |West  |British Columbia|2009          |2009-04-12 00:00:00|\n|07c41f7f8da2ed563ce0452e1d066605494817333732bafb29d6c596e6aeb39a|Dave Kipp    |West  |British Columbia|2009          |2009-04-12 00:00:00|\n|07c41f7f8da2ed563ce0452e1d066605494817333732bafb29d6c596e6aeb39a|Dave Kipp    |West  |British Columbia|2009          |2009-04-12 00:00:00|\n|07c41f7f8da2ed563ce0452e1d066605494817333732bafb29d6c596e6aeb39a|Dave Kipp    |Yukon |Yukon           |2009          |2009-03-27 00:00:00|\n+----------------------------------------------------------------+-------------+------+----------------+--------------+-------------------+\n\n"
     ]
    }
   ],
   "source": [
    "customers_df.filter(\"customer_id = '07c41f7f8da2ed563ce0452e1d066605494817333732bafb29d6c596e6aeb39a' \").orderBy(desc(\"order_date\")).show(truncate=False)"
   ]
  },
  {
   "cell_type": "code",
   "execution_count": 0,
   "metadata": {
    "application/vnd.databricks.v1+cell": {
     "cellMetadata": {
      "byteLimit": 2048000,
      "rowLimit": 10000
     },
     "inputWidgets": {},
     "nuid": "5cee77b8-6774-431c-9c4d-7cf7088a2851",
     "showTitle": false,
     "title": ""
    }
   },
   "outputs": [],
   "source": [
    "#To keep latest details\n",
    "customers_df = customers_df.withColumn(\"row_number\", row_number().over(\n",
    "    Window.partitionBy(\"customer_id\").orderBy(desc(\"order_date\"))\n",
    "    )\n",
    "                                   )"
   ]
  },
  {
   "cell_type": "code",
   "execution_count": 0,
   "metadata": {
    "application/vnd.databricks.v1+cell": {
     "cellMetadata": {
      "byteLimit": 2048000,
      "rowLimit": 10000
     },
     "inputWidgets": {},
     "nuid": "e993297c-1b29-4e8f-aaba-67f25cbc7a7a",
     "showTitle": false,
     "title": ""
    }
   },
   "outputs": [],
   "source": [
    "latest_customers_df = customers_df.filter(\"row_number = 1\").drop(\"row_number\",\"order_date\")"
   ]
  },
  {
   "cell_type": "code",
   "execution_count": 0,
   "metadata": {
    "application/vnd.databricks.v1+cell": {
     "cellMetadata": {
      "byteLimit": 2048000,
      "rowLimit": 10000
     },
     "inputWidgets": {},
     "nuid": "391437bd-709e-46fb-818f-98b142489f9e",
     "showTitle": false,
     "title": ""
    }
   },
   "outputs": [
    {
     "output_type": "stream",
     "name": "stdout",
     "output_type": "stream",
     "text": [
      "+----------------------------------------------------------------+-------------+------+----------------+--------------+\n|customer_id                                                     |customer_name|region|province        |customer_since|\n+----------------------------------------------------------------+-------------+------+----------------+--------------+\n|07c41f7f8da2ed563ce0452e1d066605494817333732bafb29d6c596e6aeb39a|Dave Kipp    |West  |British Columbia|2009          |\n+----------------------------------------------------------------+-------------+------+----------------+--------------+\n\n"
     ]
    }
   ],
   "source": [
    "latest_customers_df.filter(\"customer_id = '07c41f7f8da2ed563ce0452e1d066605494817333732bafb29d6c596e6aeb39a' \").show(truncate=False)"
   ]
  },
  {
   "cell_type": "code",
   "execution_count": 0,
   "metadata": {
    "application/vnd.databricks.v1+cell": {
     "cellMetadata": {
      "byteLimit": 2048000,
      "rowLimit": 10000
     },
     "inputWidgets": {},
     "nuid": "dff3155e-ceb1-48df-9593-100ac091344b",
     "showTitle": false,
     "title": ""
    }
   },
   "outputs": [
    {
     "output_type": "stream",
     "name": "stdout",
     "output_type": "stream",
     "text": [
      "Out[47]: 795"
     ]
    }
   ],
   "source": [
    "latest_customers_df.count()"
   ]
  },
  {
   "cell_type": "code",
   "execution_count": 0,
   "metadata": {
    "application/vnd.databricks.v1+cell": {
     "cellMetadata": {
      "byteLimit": 2048000,
      "implicitDf": true,
      "rowLimit": 10000
     },
     "inputWidgets": {},
     "nuid": "98bc60ad-989e-42f7-9996-0bce91bc91b0",
     "showTitle": false,
     "title": ""
    }
   },
   "outputs": [
    {
     "output_type": "display_data",
     "data": {
      "text/html": [
       "<style scoped>\n",
       "  .table-result-container {\n",
       "    max-height: 300px;\n",
       "    overflow: auto;\n",
       "  }\n",
       "  table, th, td {\n",
       "    border: 1px solid black;\n",
       "    border-collapse: collapse;\n",
       "  }\n",
       "  th, td {\n",
       "    padding: 5px;\n",
       "  }\n",
       "  th {\n",
       "    text-align: left;\n",
       "  }\n",
       "</style><div class='table-result-container'><table class='table-result'><thead style='background-color: white'><tr></tr></thead><tbody></tbody></table></div>"
      ]
     },
     "metadata": {
      "application/vnd.databricks.v1+output": {
       "addedWidgets": {},
       "aggData": [],
       "aggError": "",
       "aggOverflow": false,
       "aggSchema": [],
       "aggSeriesLimitReached": false,
       "aggType": "",
       "arguments": {},
       "columnCustomDisplayInfos": {},
       "data": [],
       "datasetInfos": [],
       "dbfsResultPath": null,
       "isJsonSchema": true,
       "metadata": {},
       "overflow": false,
       "plotOptions": {
        "customPlotOptions": {},
        "displayType": "table",
        "pivotAggregation": null,
        "pivotColumns": null,
        "xColumns": null,
        "yColumns": null
       },
       "removedWidgets": [],
       "schema": [],
       "type": "table"
      }
     },
     "output_type": "display_data"
    }
   ],
   "source": [
    "%sql\n",
    "CREATE DATABASE IF NOT EXISTS sales;"
   ]
  },
  {
   "cell_type": "code",
   "execution_count": 0,
   "metadata": {
    "application/vnd.databricks.v1+cell": {
     "cellMetadata": {
      "byteLimit": 2048000,
      "implicitDf": true,
      "rowLimit": 10000
     },
     "inputWidgets": {},
     "nuid": "5537bff3-d2e7-4d45-8b45-503b72373e4b",
     "showTitle": false,
     "title": ""
    }
   },
   "outputs": [
    {
     "output_type": "display_data",
     "data": {
      "text/html": [
       "<style scoped>\n",
       "  .table-result-container {\n",
       "    max-height: 300px;\n",
       "    overflow: auto;\n",
       "  }\n",
       "  table, th, td {\n",
       "    border: 1px solid black;\n",
       "    border-collapse: collapse;\n",
       "  }\n",
       "  th, td {\n",
       "    padding: 5px;\n",
       "  }\n",
       "  th {\n",
       "    text-align: left;\n",
       "  }\n",
       "</style><div class='table-result-container'><table class='table-result'><thead style='background-color: white'><tr></tr></thead><tbody></tbody></table></div>"
      ]
     },
     "metadata": {
      "application/vnd.databricks.v1+output": {
       "addedWidgets": {},
       "aggData": [],
       "aggError": "",
       "aggOverflow": false,
       "aggSchema": [],
       "aggSeriesLimitReached": false,
       "aggType": "",
       "arguments": {},
       "columnCustomDisplayInfos": {},
       "data": [],
       "datasetInfos": [],
       "dbfsResultPath": null,
       "isJsonSchema": true,
       "metadata": {},
       "overflow": false,
       "plotOptions": {
        "customPlotOptions": {},
        "displayType": "table",
        "pivotAggregation": null,
        "pivotColumns": null,
        "xColumns": null,
        "yColumns": null
       },
       "removedWidgets": [],
       "schema": [],
       "type": "table"
      }
     },
     "output_type": "display_data"
    }
   ],
   "source": [
    "%sql\n",
    "CREATE OR REPLACE TABLE sales.customer_details\n",
    "(\n",
    "    customer_id STRING,\n",
    "    customer_name STRING,\n",
    "    region STRING,\n",
    "    province STRING,\n",
    "    customer_since INT\n",
    ")\n",
    "USING DELTA\n",
    "LOCATION '/FileStore/tables/delta-table-merge/customer_details';"
   ]
  },
  {
   "cell_type": "code",
   "execution_count": 0,
   "metadata": {
    "application/vnd.databricks.v1+cell": {
     "cellMetadata": {
      "byteLimit": 2048000,
      "implicitDf": true,
      "rowLimit": 10000
     },
     "inputWidgets": {},
     "nuid": "2d905867-0473-430d-9863-179de4b326d1",
     "showTitle": false,
     "title": ""
    }
   },
   "outputs": [
    {
     "output_type": "display_data",
     "data": {
      "text/html": [
       "<style scoped>\n",
       "  .table-result-container {\n",
       "    max-height: 300px;\n",
       "    overflow: auto;\n",
       "  }\n",
       "  table, th, td {\n",
       "    border: 1px solid black;\n",
       "    border-collapse: collapse;\n",
       "  }\n",
       "  th, td {\n",
       "    padding: 5px;\n",
       "  }\n",
       "  th {\n",
       "    text-align: left;\n",
       "  }\n",
       "</style><div class='table-result-container'><table class='table-result'><thead style='background-color: white'><tr><th>customer_id</th><th>customer_name</th><th>region</th><th>province</th><th>customer_since</th></tr></thead><tbody></tbody></table></div>"
      ]
     },
     "metadata": {
      "application/vnd.databricks.v1+output": {
       "addedWidgets": {},
       "aggData": [],
       "aggError": "",
       "aggOverflow": false,
       "aggSchema": [],
       "aggSeriesLimitReached": false,
       "aggType": "",
       "arguments": {},
       "columnCustomDisplayInfos": {},
       "data": [],
       "datasetInfos": [],
       "dbfsResultPath": null,
       "isJsonSchema": true,
       "metadata": {},
       "overflow": false,
       "plotOptions": {
        "customPlotOptions": {},
        "displayType": "table",
        "pivotAggregation": null,
        "pivotColumns": null,
        "xColumns": null,
        "yColumns": null
       },
       "removedWidgets": [],
       "schema": [
        {
         "metadata": "{}",
         "name": "customer_id",
         "type": "\"string\""
        },
        {
         "metadata": "{}",
         "name": "customer_name",
         "type": "\"string\""
        },
        {
         "metadata": "{}",
         "name": "region",
         "type": "\"string\""
        },
        {
         "metadata": "{}",
         "name": "province",
         "type": "\"string\""
        },
        {
         "metadata": "{}",
         "name": "customer_since",
         "type": "\"integer\""
        }
       ],
       "type": "table"
      }
     },
     "output_type": "display_data"
    }
   ],
   "source": [
    "%sql\n",
    "select * from sales.customer_details"
   ]
  },
  {
   "cell_type": "code",
   "execution_count": 0,
   "metadata": {
    "application/vnd.databricks.v1+cell": {
     "cellMetadata": {
      "byteLimit": 2048000,
      "rowLimit": 10000
     },
     "inputWidgets": {},
     "nuid": "976098bc-4dc7-4d94-b015-08187c76735e",
     "showTitle": false,
     "title": ""
    }
   },
   "outputs": [
    {
     "output_type": "stream",
     "name": "stdout",
     "output_type": "stream",
     "text": [
      "<class 'delta.tables.DeltaTable'>\n"
     ]
    }
   ],
   "source": [
    "# creating an instance of delta table\n",
    "from delta.tables import *\n",
    "\n",
    "customer_details_instance = DeltaTable.forPath(spark, \"/FileStore/tables/delta-table-merge/customer_details\")\n",
    "print(type(customer_details_instance))"
   ]
  },
  {
   "cell_type": "code",
   "execution_count": 0,
   "metadata": {
    "application/vnd.databricks.v1+cell": {
     "cellMetadata": {
      "byteLimit": 2048000,
      "rowLimit": 10000
     },
     "inputWidgets": {},
     "nuid": "bf9d5f33-2799-4e2d-b484-0d652a66ab3d",
     "showTitle": false,
     "title": ""
    }
   },
   "outputs": [],
   "source": [
    "customer_details_instance.alias(\"Target\") \\\n",
    "    .merge(\n",
    "        source=latest_customers_df.alias(\"Source\"),\n",
    "        condition=\"Target.customer_id == Source.customer_id\"\n",
    "    ) \\\n",
    "    .whenMatchedUpdate(\n",
    "        set={\n",
    "            \"customer_name\": \"Source.customer_name\",\n",
    "            \"province\": \"Source.province\",\n",
    "            \"region\": \"Source.region\",\n",
    "            \"customer_since\": \"Source.customer_since\"\n",
    "        }\n",
    "    ) \\\n",
    "    .whenNotMatchedInsert(\n",
    "        values={\n",
    "            \"customer_id\": \"Source.customer_id\",\n",
    "            \"customer_name\": \"Source.customer_name\",\n",
    "            \"province\": \"Source.province\",\n",
    "            \"region\": \"Source.region\",\n",
    "            \"customer_since\": \"Source.customer_since\"\n",
    "        }\n",
    "    ) \\\n",
    "    .execute()\n"
   ]
  },
  {
   "cell_type": "code",
   "execution_count": 0,
   "metadata": {
    "application/vnd.databricks.v1+cell": {
     "cellMetadata": {
      "byteLimit": 2048000,
      "implicitDf": true,
      "rowLimit": 10000
     },
     "inputWidgets": {},
     "nuid": "cbf9a24c-d024-4134-b554-1632a18ffc21",
     "showTitle": false,
     "title": ""
    }
   },
   "outputs": [
    {
     "output_type": "display_data",
     "data": {
      "text/html": [
       "<style scoped>\n",
       "  .table-result-container {\n",
       "    max-height: 300px;\n",
       "    overflow: auto;\n",
       "  }\n",
       "  table, th, td {\n",
       "    border: 1px solid black;\n",
       "    border-collapse: collapse;\n",
       "  }\n",
       "  th, td {\n",
       "    padding: 5px;\n",
       "  }\n",
       "  th {\n",
       "    text-align: left;\n",
       "  }\n",
       "</style><div class='table-result-container'><table class='table-result'><thead style='background-color: white'><tr><th>customer_id</th><th>customer_name</th><th>region</th><th>province</th><th>customer_since</th></tr></thead><tbody><tr><td>001492ac094ba3c986a45e7799a0409db64ed3c856e39cf16854012aa468fa01</td><td>Nick Crebassa</td><td>Prarie</td><td>Saskachewan</td><td>2009</td></tr><tr><td>00fcf5c6646b01ce72417b854ad2ebcff2a73c4beec096c90dd9d1e60a7fd1e9</td><td>Barry Pond</td><td>Yukon</td><td>Yukon</td><td>2010</td></tr><tr><td>0105946ed08fb4ccf5f3efcec88a83121bb5804c698b14f2ad20cf7dd2541f7f</td><td>Giulietta Weimer</td><td>West</td><td>British Columbia</td><td>2009</td></tr><tr><td>018fc79fefdcb46768279300fb6e32f4e1e9f627ae99e3a672244d3052462e9b</td><td>Ashley Jarboe</td><td>Yukon</td><td>Yukon</td><td>2009</td></tr><tr><td>01a041b0a5fbe79fb524be166ed14fc9f58054716ce63e9db05a67d35f767527</td><td>Christy Brittain</td><td>Yukon</td><td>Yukon</td><td>2009</td></tr></tbody></table></div>"
      ]
     },
     "metadata": {
      "application/vnd.databricks.v1+output": {
       "addedWidgets": {},
       "aggData": [],
       "aggError": "",
       "aggOverflow": false,
       "aggSchema": [],
       "aggSeriesLimitReached": false,
       "aggType": "",
       "arguments": {},
       "columnCustomDisplayInfos": {},
       "data": [
        [
         "001492ac094ba3c986a45e7799a0409db64ed3c856e39cf16854012aa468fa01",
         "Nick Crebassa",
         "Prarie",
         "Saskachewan",
         2009
        ],
        [
         "00fcf5c6646b01ce72417b854ad2ebcff2a73c4beec096c90dd9d1e60a7fd1e9",
         "Barry Pond",
         "Yukon",
         "Yukon",
         2010
        ],
        [
         "0105946ed08fb4ccf5f3efcec88a83121bb5804c698b14f2ad20cf7dd2541f7f",
         "Giulietta Weimer",
         "West",
         "British Columbia",
         2009
        ],
        [
         "018fc79fefdcb46768279300fb6e32f4e1e9f627ae99e3a672244d3052462e9b",
         "Ashley Jarboe",
         "Yukon",
         "Yukon",
         2009
        ],
        [
         "01a041b0a5fbe79fb524be166ed14fc9f58054716ce63e9db05a67d35f767527",
         "Christy Brittain",
         "Yukon",
         "Yukon",
         2009
        ]
       ],
       "datasetInfos": [],
       "dbfsResultPath": null,
       "isJsonSchema": true,
       "metadata": {},
       "overflow": false,
       "plotOptions": {
        "customPlotOptions": {},
        "displayType": "table",
        "pivotAggregation": null,
        "pivotColumns": null,
        "xColumns": null,
        "yColumns": null
       },
       "removedWidgets": [],
       "schema": [
        {
         "metadata": "{}",
         "name": "customer_id",
         "type": "\"string\""
        },
        {
         "metadata": "{}",
         "name": "customer_name",
         "type": "\"string\""
        },
        {
         "metadata": "{}",
         "name": "region",
         "type": "\"string\""
        },
        {
         "metadata": "{}",
         "name": "province",
         "type": "\"string\""
        },
        {
         "metadata": "{}",
         "name": "customer_since",
         "type": "\"integer\""
        }
       ],
       "type": "table"
      }
     },
     "output_type": "display_data"
    }
   ],
   "source": [
    "%sql\n",
    "select * from sales.customer_details limit 5"
   ]
  },
  {
   "cell_type": "code",
   "execution_count": 0,
   "metadata": {
    "application/vnd.databricks.v1+cell": {
     "cellMetadata": {
      "byteLimit": 2048000,
      "rowLimit": 10000
     },
     "inputWidgets": {},
     "nuid": "1abfcc88-008e-4012-a90d-5460f8e1bd02",
     "showTitle": false,
     "title": ""
    }
   },
   "outputs": [
    {
     "output_type": "stream",
     "name": "stdout",
     "output_type": "stream",
     "text": [
      "+----------------------------------------------------------------+----------------+------+----------------+--------------+\n|customer_id                                                     |customer_name   |region|province        |customer_since|\n+----------------------------------------------------------------+----------------+------+----------------+--------------+\n|001492ac094ba3c986a45e7799a0409db64ed3c856e39cf16854012aa468fa01|Nick Crebassa   |Prarie|Saskachewan     |2009          |\n|00fcf5c6646b01ce72417b854ad2ebcff2a73c4beec096c90dd9d1e60a7fd1e9|Barry Pond      |Yukon |Yukon           |2010          |\n|0105946ed08fb4ccf5f3efcec88a83121bb5804c698b14f2ad20cf7dd2541f7f|Giulietta Weimer|West  |British Columbia|2009          |\n|018fc79fefdcb46768279300fb6e32f4e1e9f627ae99e3a672244d3052462e9b|Ashley Jarboe   |Yukon |Yukon           |2009          |\n|01a041b0a5fbe79fb524be166ed14fc9f58054716ce63e9db05a67d35f767527|Christy Brittain|Yukon |Yukon           |2009          |\n+----------------------------------------------------------------+----------------+------+----------------+--------------+\n\n"
     ]
    }
   ],
   "source": [
    "spark.sql(\n",
    "'''\n",
    "select * from sales.customer_details limit 5\n",
    "'''\n",
    ").show(truncate=False)"
   ]
  },
  {
   "cell_type": "code",
   "execution_count": 0,
   "metadata": {
    "application/vnd.databricks.v1+cell": {
     "cellMetadata": {
      "byteLimit": 2048000,
      "rowLimit": 10000
     },
     "inputWidgets": {},
     "nuid": "cd5a91d5-411a-4f4c-b7e8-bf2dd2d66ae5",
     "showTitle": false,
     "title": ""
    }
   },
   "outputs": [
    {
     "output_type": "stream",
     "name": "stdout",
     "output_type": "stream",
     "text": [
      "+-----------+-------------+------+--------+--------------+----------+----------+\n|customer_id|customer_name|region|province|customer_since|order_date|row_number|\n+-----------+-------------+------+--------+--------------+----------+----------+\n+-----------+-------------+------+--------+--------------+----------+----------+\n\n"
     ]
    }
   ],
   "source": [
    "customers_df.filter(\"customer_id = '1312e8749bdc3800d2514d8ae53c10b8cbe3a9e4355de5db35f746c510c4603e' \").show(truncate=False)"
   ]
  },
  {
   "cell_type": "code",
   "execution_count": 0,
   "metadata": {
    "application/vnd.databricks.v1+cell": {
     "cellMetadata": {
      "byteLimit": 2048000,
      "rowLimit": 10000
     },
     "inputWidgets": {},
     "nuid": "e2977fef-6c0c-40e4-865e-5cce423a8d45",
     "showTitle": false,
     "title": ""
    }
   },
   "outputs": [],
   "source": [
    "new_customer_data = [\n",
    "    ('07c41f7f8da2ed563ce0452e1d066605494817333732bafb29d6c596e6aeb39a', \"Dave Kipp\", \"Origia\", \"Yukon\",  2009 ),\n",
    "    ('1212e8749bdc3800d2514d8ae53c10b8cbe3a9e4355de5db35f746c510c4603e', \"Charles McCrossin\",  \"Northwest Territories\", \"Kia\",  2010),\n",
    "    ('1312e8749bdc3800d2514d8ae53c10b8cbe3a9e4355de5db35f746c510c4603e', \"Andrew Tazas\",  \"Texas\", \"Texas\", 2022)\n",
    "]\n",
    "\n",
    "# Create DataFrame for new customer data\n",
    "new_customer_df = spark.createDataFrame(new_customer_data, [\"customer_id\", \"customer_name\", \"region\", \"province\", \"customer_since\" ])"
   ]
  },
  {
   "cell_type": "code",
   "execution_count": 0,
   "metadata": {
    "application/vnd.databricks.v1+cell": {
     "cellMetadata": {
      "byteLimit": 2048000,
      "rowLimit": 10000
     },
     "inputWidgets": {},
     "nuid": "a6284cd4-6979-42e5-8c05-0f30c1b404d4",
     "showTitle": false,
     "title": ""
    }
   },
   "outputs": [
    {
     "output_type": "stream",
     "name": "stdout",
     "output_type": "stream",
     "text": [
      "+----------------------------------------------------------------+-----------------+---------------------+--------+--------------+\n|customer_id                                                     |customer_name    |region               |province|customer_since|\n+----------------------------------------------------------------+-----------------+---------------------+--------+--------------+\n|07c41f7f8da2ed563ce0452e1d066605494817333732bafb29d6c596e6aeb39a|Dave Kipp        |Origia               |Yukon   |2009          |\n|1212e8749bdc3800d2514d8ae53c10b8cbe3a9e4355de5db35f746c510c4603e|Charles McCrossin|Northwest Territories|Kia     |2010          |\n|1312e8749bdc3800d2514d8ae53c10b8cbe3a9e4355de5db35f746c510c4603e|Andrew Tazas     |Texas                |Texas   |2022          |\n+----------------------------------------------------------------+-----------------+---------------------+--------+--------------+\n\n"
     ]
    }
   ],
   "source": [
    "new_customer_df.show(truncate=False)"
   ]
  },
  {
   "cell_type": "code",
   "execution_count": 0,
   "metadata": {
    "application/vnd.databricks.v1+cell": {
     "cellMetadata": {
      "byteLimit": 2048000,
      "implicitDf": true,
      "rowLimit": 10000
     },
     "inputWidgets": {},
     "nuid": "4e685826-963b-4beb-a669-206e25f54c21",
     "showTitle": false,
     "title": ""
    }
   },
   "outputs": [
    {
     "output_type": "display_data",
     "data": {
      "text/html": [
       "<style scoped>\n",
       "  .table-result-container {\n",
       "    max-height: 300px;\n",
       "    overflow: auto;\n",
       "  }\n",
       "  table, th, td {\n",
       "    border: 1px solid black;\n",
       "    border-collapse: collapse;\n",
       "  }\n",
       "  th, td {\n",
       "    padding: 5px;\n",
       "  }\n",
       "  th {\n",
       "    text-align: left;\n",
       "  }\n",
       "</style><div class='table-result-container'><table class='table-result'><thead style='background-color: white'><tr><th>customer_id</th><th>customer_name</th><th>region</th><th>province</th><th>customer_since</th></tr></thead><tbody><tr><td>07c41f7f8da2ed563ce0452e1d066605494817333732bafb29d6c596e6aeb39a</td><td>Dave Kipp</td><td>West</td><td>British Columbia</td><td>2009</td></tr><tr><td>1212e8749bdc3800d2514d8ae53c10b8cbe3a9e4355de5db35f746c510c4603e</td><td>Charles McCrossin</td><td>Northwest Territories</td><td>Northwest Territories</td><td>2010</td></tr></tbody></table></div>"
      ]
     },
     "metadata": {
      "application/vnd.databricks.v1+output": {
       "addedWidgets": {},
       "aggData": [],
       "aggError": "",
       "aggOverflow": false,
       "aggSchema": [],
       "aggSeriesLimitReached": false,
       "aggType": "",
       "arguments": {},
       "columnCustomDisplayInfos": {},
       "data": [
        [
         "07c41f7f8da2ed563ce0452e1d066605494817333732bafb29d6c596e6aeb39a",
         "Dave Kipp",
         "West",
         "British Columbia",
         2009
        ],
        [
         "1212e8749bdc3800d2514d8ae53c10b8cbe3a9e4355de5db35f746c510c4603e",
         "Charles McCrossin",
         "Northwest Territories",
         "Northwest Territories",
         2010
        ]
       ],
       "datasetInfos": [],
       "dbfsResultPath": null,
       "isJsonSchema": true,
       "metadata": {},
       "overflow": false,
       "plotOptions": {
        "customPlotOptions": {},
        "displayType": "table",
        "pivotAggregation": null,
        "pivotColumns": null,
        "xColumns": null,
        "yColumns": null
       },
       "removedWidgets": [],
       "schema": [
        {
         "metadata": "{}",
         "name": "customer_id",
         "type": "\"string\""
        },
        {
         "metadata": "{}",
         "name": "customer_name",
         "type": "\"string\""
        },
        {
         "metadata": "{}",
         "name": "region",
         "type": "\"string\""
        },
        {
         "metadata": "{}",
         "name": "province",
         "type": "\"string\""
        },
        {
         "metadata": "{}",
         "name": "customer_since",
         "type": "\"integer\""
        }
       ],
       "type": "table"
      }
     },
     "output_type": "display_data"
    }
   ],
   "source": [
    "%sql\n",
    "select * from sales.customer_details where customer_id in ('07c41f7f8da2ed563ce0452e1d066605494817333732bafb29d6c596e6aeb39a','1212e8749bdc3800d2514d8ae53c10b8cbe3a9e4355de5db35f746c510c4603e','1312e8749bdc3800d2514d8ae53c10b8cbe3a9e4355de5db35f746c510c4603e')"
   ]
  },
  {
   "cell_type": "code",
   "execution_count": 0,
   "metadata": {
    "application/vnd.databricks.v1+cell": {
     "cellMetadata": {
      "byteLimit": 2048000,
      "rowLimit": 10000
     },
     "inputWidgets": {},
     "nuid": "84009e7f-d895-4984-a11d-5bc5964af617",
     "showTitle": false,
     "title": ""
    }
   },
   "outputs": [
    {
     "output_type": "stream",
     "name": "stdout",
     "output_type": "stream",
     "text": [
      "+----------------------------------------------------------------+-----------------+---------------------+---------------------+--------------+\n|customer_id                                                     |customer_name    |region               |province             |customer_since|\n+----------------------------------------------------------------+-----------------+---------------------+---------------------+--------------+\n|07c41f7f8da2ed563ce0452e1d066605494817333732bafb29d6c596e6aeb39a|Dave Kipp        |West                 |British Columbia     |2009          |\n|1212e8749bdc3800d2514d8ae53c10b8cbe3a9e4355de5db35f746c510c4603e|Charles McCrossin|Northwest Territories|Northwest Territories|2010          |\n+----------------------------------------------------------------+-----------------+---------------------+---------------------+--------------+\n\n"
     ]
    }
   ],
   "source": [
    "spark.sql(\n",
    "'''\n",
    "select * from sales.customer_details where customer_id in ('07c41f7f8da2ed563ce0452e1d066605494817333732bafb29d6c596e6aeb39a','1212e8749bdc3800d2514d8ae53c10b8cbe3a9e4355de5db35f746c510c4603e','1312e8749bdc3800d2514d8ae53c10b8cbe3a9e4355de5db35f746c510c4603e')\n",
    "'''\n",
    ").show(truncate=False)"
   ]
  },
  {
   "cell_type": "code",
   "execution_count": 0,
   "metadata": {
    "application/vnd.databricks.v1+cell": {
     "cellMetadata": {
      "byteLimit": 2048000,
      "rowLimit": 10000
     },
     "inputWidgets": {},
     "nuid": "e4b0c5bf-7232-4564-bcff-1ea271b29cc4",
     "showTitle": false,
     "title": ""
    }
   },
   "outputs": [],
   "source": [
    "customer_details_instance.alias(\"Target\") \\\n",
    "    .merge(\n",
    "        source=new_customer_df.alias(\"Source\"),\n",
    "        condition=\"Target.customer_id == Source.customer_id\"\n",
    "    ) \\\n",
    "    .whenMatchedUpdate(\n",
    "        set={\n",
    "            \"customer_name\": \"Source.customer_name\",\n",
    "            \"province\": \"Source.province\",\n",
    "            \"region\": \"Source.region\",\n",
    "            \"customer_since\": \"Source.customer_since\"\n",
    "        }\n",
    "    ) \\\n",
    "    .whenNotMatchedInsert(\n",
    "        values={\n",
    "            \"customer_id\": \"Source.customer_id\",\n",
    "            \"customer_name\": \"Source.customer_name\",\n",
    "            \"province\": \"Source.province\",\n",
    "            \"region\": \"Source.region\",\n",
    "            \"customer_since\": \"Source.customer_since\"\n",
    "        }\n",
    "    ) \\\n",
    "    .execute()"
   ]
  },
  {
   "cell_type": "code",
   "execution_count": 0,
   "metadata": {
    "application/vnd.databricks.v1+cell": {
     "cellMetadata": {
      "byteLimit": 2048000,
      "implicitDf": true,
      "rowLimit": 10000
     },
     "inputWidgets": {},
     "nuid": "7f41f33f-a746-40ec-af20-254a061b6c47",
     "showTitle": false,
     "title": ""
    }
   },
   "outputs": [
    {
     "output_type": "display_data",
     "data": {
      "text/html": [
       "<style scoped>\n",
       "  .table-result-container {\n",
       "    max-height: 300px;\n",
       "    overflow: auto;\n",
       "  }\n",
       "  table, th, td {\n",
       "    border: 1px solid black;\n",
       "    border-collapse: collapse;\n",
       "  }\n",
       "  th, td {\n",
       "    padding: 5px;\n",
       "  }\n",
       "  th {\n",
       "    text-align: left;\n",
       "  }\n",
       "</style><div class='table-result-container'><table class='table-result'><thead style='background-color: white'><tr><th>customer_id</th><th>customer_name</th><th>region</th><th>province</th><th>customer_since</th></tr></thead><tbody><tr><td>1212e8749bdc3800d2514d8ae53c10b8cbe3a9e4355de5db35f746c510c4603e</td><td>Charles McCrossin</td><td>Northwest Territories</td><td>Kia</td><td>2010</td></tr><tr><td>1312e8749bdc3800d2514d8ae53c10b8cbe3a9e4355de5db35f746c510c4603e</td><td>Andrew Tazas</td><td>Texas</td><td>Texas</td><td>2022</td></tr><tr><td>07c41f7f8da2ed563ce0452e1d066605494817333732bafb29d6c596e6aeb39a</td><td>Dave Kipp</td><td>Origia</td><td>Yukon</td><td>2009</td></tr></tbody></table></div>"
      ]
     },
     "metadata": {
      "application/vnd.databricks.v1+output": {
       "addedWidgets": {},
       "aggData": [],
       "aggError": "",
       "aggOverflow": false,
       "aggSchema": [],
       "aggSeriesLimitReached": false,
       "aggType": "",
       "arguments": {},
       "columnCustomDisplayInfos": {},
       "data": [
        [
         "1212e8749bdc3800d2514d8ae53c10b8cbe3a9e4355de5db35f746c510c4603e",
         "Charles McCrossin",
         "Northwest Territories",
         "Kia",
         2010
        ],
        [
         "1312e8749bdc3800d2514d8ae53c10b8cbe3a9e4355de5db35f746c510c4603e",
         "Andrew Tazas",
         "Texas",
         "Texas",
         2022
        ],
        [
         "07c41f7f8da2ed563ce0452e1d066605494817333732bafb29d6c596e6aeb39a",
         "Dave Kipp",
         "Origia",
         "Yukon",
         2009
        ]
       ],
       "datasetInfos": [],
       "dbfsResultPath": null,
       "isJsonSchema": true,
       "metadata": {},
       "overflow": false,
       "plotOptions": {
        "customPlotOptions": {},
        "displayType": "table",
        "pivotAggregation": null,
        "pivotColumns": null,
        "xColumns": null,
        "yColumns": null
       },
       "removedWidgets": [],
       "schema": [
        {
         "metadata": "{}",
         "name": "customer_id",
         "type": "\"string\""
        },
        {
         "metadata": "{}",
         "name": "customer_name",
         "type": "\"string\""
        },
        {
         "metadata": "{}",
         "name": "region",
         "type": "\"string\""
        },
        {
         "metadata": "{}",
         "name": "province",
         "type": "\"string\""
        },
        {
         "metadata": "{}",
         "name": "customer_since",
         "type": "\"integer\""
        }
       ],
       "type": "table"
      }
     },
     "output_type": "display_data"
    }
   ],
   "source": [
    "%sql\n",
    "select * from sales.customer_details where customer_id in ('07c41f7f8da2ed563ce0452e1d066605494817333732bafb29d6c596e6aeb39a','1212e8749bdc3800d2514d8ae53c10b8cbe3a9e4355de5db35f746c510c4603e','1312e8749bdc3800d2514d8ae53c10b8cbe3a9e4355de5db35f746c510c4603e')"
   ]
  },
  {
   "cell_type": "code",
   "execution_count": 0,
   "metadata": {
    "application/vnd.databricks.v1+cell": {
     "cellMetadata": {
      "byteLimit": 2048000,
      "rowLimit": 10000
     },
     "inputWidgets": {},
     "nuid": "0d958430-8f80-473c-b67f-5c412f3f99ec",
     "showTitle": false,
     "title": ""
    }
   },
   "outputs": [
    {
     "output_type": "stream",
     "name": "stdout",
     "output_type": "stream",
     "text": [
      "+----------------------------------------------------------------+-----------------+---------------------+--------+--------------+\n|customer_id                                                     |customer_name    |region               |province|customer_since|\n+----------------------------------------------------------------+-----------------+---------------------+--------+--------------+\n|1212e8749bdc3800d2514d8ae53c10b8cbe3a9e4355de5db35f746c510c4603e|Charles McCrossin|Northwest Territories|Kia     |2010          |\n|1312e8749bdc3800d2514d8ae53c10b8cbe3a9e4355de5db35f746c510c4603e|Andrew Tazas     |Texas                |Texas   |2022          |\n|07c41f7f8da2ed563ce0452e1d066605494817333732bafb29d6c596e6aeb39a|Dave Kipp        |Origia               |Yukon   |2009          |\n+----------------------------------------------------------------+-----------------+---------------------+--------+--------------+\n\n"
     ]
    }
   ],
   "source": [
    "spark.sql(\n",
    "'''\n",
    "select * from sales.customer_details where customer_id in ('07c41f7f8da2ed563ce0452e1d066605494817333732bafb29d6c596e6aeb39a','1212e8749bdc3800d2514d8ae53c10b8cbe3a9e4355de5db35f746c510c4603e','1312e8749bdc3800d2514d8ae53c10b8cbe3a9e4355de5db35f746c510c4603e')\n",
    "'''\n",
    ").show(truncate=False)"
   ]
  }
 ],
 "metadata": {
  "application/vnd.databricks.v1+notebook": {
   "dashboards": [],
   "language": "python",
   "notebookMetadata": {
    "mostRecentlyExecutedCommandWithImplicitDF": {
     "commandId": 3573468826721509,
     "dataframes": [
      "_sqldf"
     ]
    },
    "pythonIndentUnit": 4
   },
   "notebookName": "load_to_customer_details_table",
   "widgets": {}
  }
 },
 "nbformat": 4,
 "nbformat_minor": 0
}
